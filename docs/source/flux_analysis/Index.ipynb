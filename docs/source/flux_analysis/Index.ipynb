{
 "cells": [
  {
   "cell_type": "markdown",
   "metadata": {},
   "source": [
    "\n",
    "![ModelSEEDpy](../images/ms-logo-horizontal.png)"
   ]
  },
  {
   "cell_type": "markdown",
   "metadata": {},
   "source": [
    "Back to the main [Index](../Index.ipynb)"
   ]
  },
  {
   "cell_type": "markdown",
   "metadata": {},
   "source": [
    "# Flux Analysis"
   ]
  },
  {
   "cell_type": "markdown",
   "metadata": {},
   "source": [
    "This section covers the many flux analysis methods included in modelseedpy"
   ]
  },
  {
   "cell_type": "markdown",
   "metadata": {},
   "source": [
    "## Examples"
   ]
  },
  {
   "cell_type": "markdown",
   "metadata": {},
   "source": [
    "* [Flux Balance Analysis](FBAExampleNotebook.ipynb) Running Flux Balance Analysis\n",
    "* [Media Scan](MediaScan.ipynb) Testing Multiple Media\n",
    "* [Flexible Biomass](FlexibleBiomass.ipynb) Enables the coefficients on a biomass reaction to vary\n",
    "* [Full Thermo](FullThermodynamicsExample.ipynb) Stop thermodynamically infeasible flux\n",
    "* [MetaboFBA](MetaboFBAExample.ipynb) Force flux through observed metabolites in metabolomics data"
   ]
  }
 ],
 "metadata": {
  "kernelspec": {
   "display_name": "Python 3",
   "language": "python",
   "name": "python3"
  },
  "language_info": {
   "codemirror_mode": {
    "name": "ipython",
    "version": 3
   },
   "file_extension": ".py",
   "mimetype": "text/x-python",
   "name": "python",
   "nbconvert_exporter": "python",
   "pygments_lexer": "ipython3",
   "version": "3.8.10"
  }
 },
 "nbformat": 4,
 "nbformat_minor": 4
}
