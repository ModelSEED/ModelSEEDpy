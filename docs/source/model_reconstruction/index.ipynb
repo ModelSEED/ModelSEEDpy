{
 "cells": [
  {
   "cell_type": "markdown",
   "metadata": {},
   "source": [
    "# Model Reconstruction"
   ]
  },
  {
   "cell_type": "markdown",
   "metadata": {},
   "source": [
    "The first step in constructing a metabolic model using ModelSEED is to load and annotate your genome sequence. The following examples demonstrate this process using ModelSEEDpy from a variety of input file types or data sources."
   ]
  },
  {
   "cell_type": "markdown",
   "metadata": {},
   "source": [
    "## Examples"
   ]
  },
  {
   "cell_type": "markdown",
   "metadata": {},
   "source": [
    "* [Genomes](Genomes.ipynb) Read genome\n",
    "* [Build Metabolic Model](build_metabolic_model.ipynb) Build Genome-Scale Metabolic Model\n",
    "* [Gapfilling](Gapfilling.ipynb) Gapfill Model\n",
    "* [Genome Classifier](Classifier.ipynb) Using ML Model to classify genome\n",
    "* [Edit](add_ms_reaction.ipynb) Edit Model\n",
    "* [Biochemistry](Biochem.ipynb) ModelSEED Biochemitry database"
   ]
  }
 ],
 "metadata": {
  "kernelspec": {
   "display_name": "Python 3 (ipykernel)",
   "language": "python",
   "name": "python3"
  },
  "language_info": {
   "codemirror_mode": {
    "name": "ipython",
    "version": 3
   },
   "file_extension": ".py",
   "mimetype": "text/x-python",
   "name": "python",
   "nbconvert_exporter": "python",
   "pygments_lexer": "ipython3",
   "version": "3.9.12"
  }
 },
 "nbformat": 4,
 "nbformat_minor": 4
}
