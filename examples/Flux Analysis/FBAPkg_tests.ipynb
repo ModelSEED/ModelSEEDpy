{
 "cells": [
  {
   "cell_type": "markdown",
   "metadata": {},
   "source": [
    "# Import the modules "
   ]
  },
  {
   "cell_type": "code",
   "execution_count": 1,
   "metadata": {},
   "outputs": [
    {
     "name": "stdout",
     "output_type": "stream",
     "text": [
      "cobrakbase 0.2.8\n"
     ]
    }
   ],
   "source": [
    "# import the general modules\n",
    "from optlang.symbolics import Zero\n",
    "import cobra\n",
    "import cplex\n",
    "import sys\n",
    "\n",
    "# import kbase\n",
    "import os\n",
    "os.environ[\"HOME\"] = 'C:\\\\Users\\\\Andrew Freiburger\\\\Dropbox\\\\My PC (DESKTOP-M302P50)\\\\Documents\\\\UVic Civil Engineering\\\\Internships\\\\Agronne\\\\cobrakbase'\n",
    "import cobrakbase\n",
    "token = 'JOSNYJGASTV5BGELWQTUSATE4TNHZ66U'\n",
    "kbase = cobrakbase.KBaseAPI(token)\n",
    "\n",
    "# define the example individual model and associated API media package\n",
    "#model = kbase.get_from_ws('e_coli_core', 94253)\n",
    "model = kbase.get_from_ws('e_coli_core.kb', 94253)\n",
    "#model = kbase.get_from_ws('E_iAH991V2', 94253)\n",
    "model.solver = 'optlang-cplex'\n",
    "\n",
    "# local ModelSEED database path\n",
    "modelseed_db_path = '../../../ModelSEEDDatabase'"
   ]
  },
  {
   "cell_type": "markdown",
   "metadata": {},
   "source": [
    "# -----------------------------------------------------------------------------------------------------------------------------------------------------------------------------------"
   ]
  },
  {
   "cell_type": "markdown",
   "metadata": {},
   "source": [
    "# RevBin package test"
   ]
  },
  {
   "cell_type": "markdown",
   "metadata": {},
   "source": [
    "The RevBin package prevents directional fluxes through reactions that have net zero flux. This is exemplified in the following demonstration, where the forward progression of the reversible ethanol transport reaction (rxn08427_c0) is optimized despite lacking the ability to have net flux. The unconstrained simulation possesses a maximal objective value, while the RevBin-constrained simulation possesses an objective value of zero.    "
   ]
  },
  {
   "cell_type": "markdown",
   "metadata": {},
   "source": [
    "## Unconstrained simulation"
   ]
  },
  {
   "cell_type": "code",
   "execution_count": 2,
   "metadata": {},
   "outputs": [
    {
     "data": {
      "text/plain": [
       "{'EX_cpd00071_e0': 1000,\n",
       " 'EX_cpd00067_e0': 1000,\n",
       " 'EX_cpd00009_e0': 1000,\n",
       " 'EX_cpd00007_e0': 1000,\n",
       " 'EX_cpd00020_e0': 1000,\n",
       " 'EX_cpd00027_e0': 1000,\n",
       " 'EX_cpd00221_e0': 1000,\n",
       " 'EX_cpd00053_e0': 1000,\n",
       " 'EX_cpd00011_e0': 1000,\n",
       " 'EX_cpd00130_e0': 1000,\n",
       " 'EX_cpd00001_e0': 1000,\n",
       " 'EX_cpd00047_e0': 1000,\n",
       " 'EX_cpd00013_e0': 1000,\n",
       " 'EX_cpd00023_e0': 1000,\n",
       " 'EX_cpd00082_e0': 1000,\n",
       " 'EX_cpd00106_e0': 1000,\n",
       " 'EX_cpd00036_e0': 1000,\n",
       " 'EX_cpd00024_e0': 1000,\n",
       " 'EX_cpd00029_e0': 1000}"
      ]
     },
     "metadata": {},
     "output_type": "display_data"
    },
    {
     "data": {
      "text/html": [
       "<h3>Objective</h3><p>1.0 rxn08427_c0 = 0.0</p><h4>Uptake</h4><table border=\"1\" class=\"dataframe\">\n",
       "  <thead>\n",
       "    <tr style=\"text-align: right;\">\n",
       "      <th>Metabolite</th>\n",
       "      <th>Reaction</th>\n",
       "      <th>Flux</th>\n",
       "      <th>C-Number</th>\n",
       "      <th>C-Flux</th>\n",
       "    </tr>\n",
       "  </thead>\n",
       "  <tbody>\n",
       "  </tbody>\n",
       "</table><h4>Secretion</h4><table border=\"1\" class=\"dataframe\">\n",
       "  <thead>\n",
       "    <tr style=\"text-align: right;\">\n",
       "      <th>Metabolite</th>\n",
       "      <th>Reaction</th>\n",
       "      <th>Flux</th>\n",
       "      <th>C-Number</th>\n",
       "      <th>C-Flux</th>\n",
       "    </tr>\n",
       "  </thead>\n",
       "  <tbody>\n",
       "  </tbody>\n",
       "</table>"
      ],
      "text/plain": [
       "<cobra.summary.model_summary.ModelSummary at 0x7f13671ac0a0>"
      ]
     },
     "metadata": {},
     "output_type": "display_data"
    }
   ],
   "source": [
    "model = kbase.get_from_ws('e_coli_core.kb', 94253)\n",
    "\n",
    "with model:\n",
    "    ethanol = 'EX_cpd00363_e0'\n",
    "    # block ethanol exchange\n",
    "    medium = model.medium\n",
    "    medium[ethanol] = 0\n",
    "    model.medium = medium\n",
    "    display(model.medium)\n",
    "    \n",
    "    # set the objective function\n",
    "    model.objective = model.problem.Objective(model.reactions.rxn08427_c0.flux_expression,\n",
    "                                              direction='max')   \n",
    "    display(model.summary())"
   ]
  },
  {
   "cell_type": "markdown",
   "metadata": {},
   "source": [
    "## RevBin-constrained simulation"
   ]
  },
  {
   "cell_type": "markdown",
   "metadata": {},
   "source": [
    "### Constrain and execute the model"
   ]
  },
  {
   "cell_type": "code",
   "execution_count": 3,
   "metadata": {},
   "outputs": [
    {
     "data": {
      "text/plain": [
       "{'EX_cpd00071_e0': 1000,\n",
       " 'EX_cpd00067_e0': 1000,\n",
       " 'EX_cpd00009_e0': 1000,\n",
       " 'EX_cpd00007_e0': 1000,\n",
       " 'EX_cpd00020_e0': 1000,\n",
       " 'EX_cpd00027_e0': 1000,\n",
       " 'EX_cpd00221_e0': 1000,\n",
       " 'EX_cpd00053_e0': 1000,\n",
       " 'EX_cpd00011_e0': 1000,\n",
       " 'EX_cpd00130_e0': 1000,\n",
       " 'EX_cpd00001_e0': 1000,\n",
       " 'EX_cpd00047_e0': 1000,\n",
       " 'EX_cpd00013_e0': 1000,\n",
       " 'EX_cpd00023_e0': 1000,\n",
       " 'EX_cpd00082_e0': 1000,\n",
       " 'EX_cpd00106_e0': 1000,\n",
       " 'EX_cpd00036_e0': 1000,\n",
       " 'EX_cpd00024_e0': 1000,\n",
       " 'EX_cpd00029_e0': 1000}"
      ]
     },
     "metadata": {},
     "output_type": "display_data"
    },
    {
     "data": {
      "text/html": [
       "<h3>Objective</h3><p>1.0 rxn08427_c0 = 0.0</p><h4>Uptake</h4><table border=\"1\" class=\"dataframe\">\n",
       "  <thead>\n",
       "    <tr style=\"text-align: right;\">\n",
       "      <th>Metabolite</th>\n",
       "      <th>Reaction</th>\n",
       "      <th>Flux</th>\n",
       "      <th>C-Number</th>\n",
       "      <th>C-Flux</th>\n",
       "    </tr>\n",
       "  </thead>\n",
       "  <tbody>\n",
       "  </tbody>\n",
       "</table><h4>Secretion</h4><table border=\"1\" class=\"dataframe\">\n",
       "  <thead>\n",
       "    <tr style=\"text-align: right;\">\n",
       "      <th>Metabolite</th>\n",
       "      <th>Reaction</th>\n",
       "      <th>Flux</th>\n",
       "      <th>C-Number</th>\n",
       "      <th>C-Flux</th>\n",
       "    </tr>\n",
       "  </thead>\n",
       "  <tbody>\n",
       "  </tbody>\n",
       "</table>"
      ],
      "text/plain": [
       "<cobra.summary.model_summary.ModelSummary at 0x7f13670dfb80>"
      ]
     },
     "metadata": {},
     "output_type": "display_data"
    }
   ],
   "source": [
    "from modelseedpy.fbapkg import revbinpkg\n",
    "\n",
    "# apply the RevBin constraints \n",
    "revbin = revbinpkg.RevBinPkg(model)\n",
    "revbin.build_package()\n",
    "\n",
    "with model:\n",
    "    ethanol = 'EX_cpd00363_e0'\n",
    "    # block ethanol exchange\n",
    "    medium = model.medium\n",
    "    medium[ethanol] = 0\n",
    "    model.medium = medium\n",
    "    display(model.medium)\n",
    "    \n",
    "    # set the objective function   #.forward_variable\n",
    "    model.objective = model.problem.Objective(model.reactions.rxn08427_c0.flux_expression,\n",
    "                                              direction='max')   \n",
    "    #model.objective = model.reactions.rxn08427_c0 \n",
    "    \n",
    "    # execute the simulation\n",
    "    display(model.summary())"
   ]
  },
  {
   "cell_type": "markdown",
   "metadata": {},
   "source": [
    "# -----------------------------------------------------------------------------------------------------------------------------------------------------------------------------------"
   ]
  },
  {
   "cell_type": "markdown",
   "metadata": {},
   "source": [
    "# SimpleThermo package test"
   ]
  },
  {
   "cell_type": "markdown",
   "metadata": {},
   "source": [
    "The SimpleThermo package prevents flux through thermodynamically infeasible reactions. This is exemplified in the following demonstrations. \n",
    "\n",
    "The first demonstration executes the model in an empty media, which is an infeasible environment for growth. The unconstrained model grows, while the SimpleThermo-constrained model does not grow. \n",
    "The second demonstration optimizes the model for an internal loop (FRD7_c0) in the *E. coli* core model. The unconstrained model possesses a maximal objective value, while the SimpleThermo-constrained model possesses an objective value of zero.   "
   ]
  },
  {
   "cell_type": "markdown",
   "metadata": {},
   "source": [
    "## Unconstrained simulation"
   ]
  },
  {
   "cell_type": "markdown",
   "metadata": {},
   "source": [
    "### Execute the model in anaerobic conditions"
   ]
  },
  {
   "cell_type": "code",
   "execution_count": 4,
   "metadata": {},
   "outputs": [
    {
     "data": {
      "text/plain": [
       "{'EX_cpd00071_e0': 1000,\n",
       " 'EX_cpd00067_e0': 1000,\n",
       " 'EX_cpd00009_e0': 1000,\n",
       " 'EX_cpd00020_e0': 1000,\n",
       " 'EX_cpd00027_e0': 1000,\n",
       " 'EX_cpd00221_e0': 1000,\n",
       " 'EX_cpd00053_e0': 1000,\n",
       " 'EX_cpd00011_e0': 1000,\n",
       " 'EX_cpd00130_e0': 1000,\n",
       " 'EX_cpd00001_e0': 1000,\n",
       " 'EX_cpd00047_e0': 1000,\n",
       " 'EX_cpd00013_e0': 1000,\n",
       " 'EX_cpd00023_e0': 1000,\n",
       " 'EX_cpd00082_e0': 1000,\n",
       " 'EX_cpd00106_e0': 1000,\n",
       " 'EX_cpd00036_e0': 1000,\n",
       " 'EX_cpd00363_e0': 1000,\n",
       " 'EX_cpd00024_e0': 1000,\n",
       " 'EX_cpd00029_e0': 1000}"
      ]
     },
     "metadata": {},
     "output_type": "display_data"
    },
    {
     "data": {
      "text/html": [
       "<h3>Objective</h3><p>1.0 bio1 = 28.65020029793347</p><h4>Uptake</h4><table border=\"1\" class=\"dataframe\">\n",
       "  <thead>\n",
       "    <tr style=\"text-align: right;\">\n",
       "      <th>Metabolite</th>\n",
       "      <th>Reaction</th>\n",
       "      <th>Flux</th>\n",
       "      <th>C-Number</th>\n",
       "      <th>C-Flux</th>\n",
       "    </tr>\n",
       "  </thead>\n",
       "  <tbody>\n",
       "    <tr>\n",
       "      <td>cpd00001_e0</td>\n",
       "      <td>EX_cpd00001_e0</td>\n",
       "      <td>874.8</td>\n",
       "      <td>0</td>\n",
       "      <td>0.00%</td>\n",
       "    </tr>\n",
       "    <tr>\n",
       "      <td>cpd00009_e0</td>\n",
       "      <td>EX_cpd00009_e0</td>\n",
       "      <td>105.4</td>\n",
       "      <td>0</td>\n",
       "      <td>0.00%</td>\n",
       "    </tr>\n",
       "    <tr>\n",
       "      <td>cpd00020_e0</td>\n",
       "      <td>EX_cpd00020_e0</td>\n",
       "      <td>798.9</td>\n",
       "      <td>3</td>\n",
       "      <td>23.32%</td>\n",
       "    </tr>\n",
       "    <tr>\n",
       "      <td>cpd00023_e0</td>\n",
       "      <td>EX_cpd00023_e0</td>\n",
       "      <td>350.6</td>\n",
       "      <td>5</td>\n",
       "      <td>17.06%</td>\n",
       "    </tr>\n",
       "    <tr>\n",
       "      <td>cpd00027_e0</td>\n",
       "      <td>EX_cpd00027_e0</td>\n",
       "      <td>5.873</td>\n",
       "      <td>6</td>\n",
       "      <td>0.34%</td>\n",
       "    </tr>\n",
       "    <tr>\n",
       "      <td>cpd00053_e0</td>\n",
       "      <td>EX_cpd00053_e0</td>\n",
       "      <td>7.326</td>\n",
       "      <td>5</td>\n",
       "      <td>0.36%</td>\n",
       "    </tr>\n",
       "    <tr>\n",
       "      <td>cpd00071_e0</td>\n",
       "      <td>EX_cpd00071_e0</td>\n",
       "      <td>1000</td>\n",
       "      <td>2</td>\n",
       "      <td>19.46%</td>\n",
       "    </tr>\n",
       "    <tr>\n",
       "      <td>cpd00082_e0</td>\n",
       "      <td>EX_cpd00082_e0</td>\n",
       "      <td>532.2</td>\n",
       "      <td>6</td>\n",
       "      <td>31.07%</td>\n",
       "    </tr>\n",
       "    <tr>\n",
       "      <td>cpd00130_e0</td>\n",
       "      <td>EX_cpd00130_e0</td>\n",
       "      <td>215.4</td>\n",
       "      <td>4</td>\n",
       "      <td>8.39%</td>\n",
       "    </tr>\n",
       "  </tbody>\n",
       "</table><h4>Secretion</h4><table border=\"1\" class=\"dataframe\">\n",
       "  <thead>\n",
       "    <tr style=\"text-align: right;\">\n",
       "      <th>Metabolite</th>\n",
       "      <th>Reaction</th>\n",
       "      <th>Flux</th>\n",
       "      <th>C-Number</th>\n",
       "      <th>C-Flux</th>\n",
       "    </tr>\n",
       "  </thead>\n",
       "  <tbody>\n",
       "    <tr>\n",
       "      <td>cpd00011_e0</td>\n",
       "      <td>EX_cpd00011_e0</td>\n",
       "      <td>-1000</td>\n",
       "      <td>1</td>\n",
       "      <td>11.04%</td>\n",
       "    </tr>\n",
       "    <tr>\n",
       "      <td>cpd00013_e0</td>\n",
       "      <td>EX_cpd00013_e0</td>\n",
       "      <td>-209</td>\n",
       "      <td>0</td>\n",
       "      <td>0.00%</td>\n",
       "    </tr>\n",
       "    <tr>\n",
       "      <td>cpd00024_e0</td>\n",
       "      <td>EX_cpd00024_e0</td>\n",
       "      <td>-327</td>\n",
       "      <td>5</td>\n",
       "      <td>18.05%</td>\n",
       "    </tr>\n",
       "    <tr>\n",
       "      <td>cpd00029_e0</td>\n",
       "      <td>EX_cpd00029_e0</td>\n",
       "      <td>-728.4</td>\n",
       "      <td>2</td>\n",
       "      <td>16.08%</td>\n",
       "    </tr>\n",
       "    <tr>\n",
       "      <td>cpd00067_e0</td>\n",
       "      <td>EX_cpd00067_e0</td>\n",
       "      <td>-1000</td>\n",
       "      <td>0</td>\n",
       "      <td>0.00%</td>\n",
       "    </tr>\n",
       "    <tr>\n",
       "      <td>cpd00221_e0</td>\n",
       "      <td>EX_cpd00221_e0</td>\n",
       "      <td>-988.6</td>\n",
       "      <td>3</td>\n",
       "      <td>32.74%</td>\n",
       "    </tr>\n",
       "    <tr>\n",
       "      <td>cpd00363_e0</td>\n",
       "      <td>EX_cpd00363_e0</td>\n",
       "      <td>-1000</td>\n",
       "      <td>2</td>\n",
       "      <td>22.08%</td>\n",
       "    </tr>\n",
       "  </tbody>\n",
       "</table>"
      ],
      "text/plain": [
       "<cobra.summary.model_summary.ModelSummary at 0x7f14d8fbc5b0>"
      ]
     },
     "metadata": {},
     "output_type": "display_data"
    }
   ],
   "source": [
    "model = kbase.get_from_ws('e_coli_core.kb', 94253)\n",
    "\n",
    "with model:\n",
    "    oxygen = 'EX_cpd00007_e0'\n",
    "    # edit the model media\n",
    "    medium = model.medium\n",
    "    medium[oxygen] = 0\n",
    "    model.medium = medium\n",
    "    display(model.medium)\n",
    "\n",
    "    # execute the model\n",
    "    display(model.summary())"
   ]
  },
  {
   "cell_type": "markdown",
   "metadata": {},
   "source": [
    "### Execute the model with internal loop objective"
   ]
  },
  {
   "cell_type": "code",
   "execution_count": 5,
   "metadata": {},
   "outputs": [
    {
     "data": {
      "text/html": [
       "<h3>Objective</h3><p>1.0 FRD7_c0 = 1000.0</p><h4>Uptake</h4><table border=\"1\" class=\"dataframe\">\n",
       "  <thead>\n",
       "    <tr style=\"text-align: right;\">\n",
       "      <th>Metabolite</th>\n",
       "      <th>Reaction</th>\n",
       "      <th>Flux</th>\n",
       "      <th>C-Number</th>\n",
       "      <th>C-Flux</th>\n",
       "    </tr>\n",
       "  </thead>\n",
       "  <tbody>\n",
       "  </tbody>\n",
       "</table><h4>Secretion</h4><table border=\"1\" class=\"dataframe\">\n",
       "  <thead>\n",
       "    <tr style=\"text-align: right;\">\n",
       "      <th>Metabolite</th>\n",
       "      <th>Reaction</th>\n",
       "      <th>Flux</th>\n",
       "      <th>C-Number</th>\n",
       "      <th>C-Flux</th>\n",
       "    </tr>\n",
       "  </thead>\n",
       "  <tbody>\n",
       "  </tbody>\n",
       "</table>"
      ],
      "text/plain": [
       "<cobra.summary.model_summary.ModelSummary at 0x7f1360d6ce80>"
      ]
     },
     "metadata": {},
     "output_type": "display_data"
    }
   ],
   "source": [
    "with model:\n",
    "    model.objective = model.reactions.FRD7_c0\n",
    "    display(model.summary())"
   ]
  },
  {
   "cell_type": "markdown",
   "metadata": {},
   "source": [
    "## SimpleThermo-constrained simulation"
   ]
  },
  {
   "cell_type": "markdown",
   "metadata": {},
   "source": [
    "### Constrain the model"
   ]
  },
  {
   "cell_type": "code",
   "execution_count": 6,
   "metadata": {},
   "outputs": [],
   "source": [
    "# ensure that all charges are integers\n",
    "model = kbase.get_from_ws('e_coli_core.kb', 94253)\n",
    "for metabolite in model.metabolites:\n",
    "    try:\n",
    "        metabolite.charge = int(metabolite.charge)\n",
    "    except:\n",
    "        print(metabolite, metabolite.charge)\n",
    "        metabolite.charge = None\n",
    "        \n",
    "# apply the simple thermodynamic constraints \n",
    "from modelseedpy.fbapkg import simplethermopkg\n",
    "stp = simplethermopkg.SimpleThermoPkg(model)\n",
    "stp.build_package(stp.parameters)\n",
    "\n",
    "# export the constrained LP file \n",
    "with open('SimpleThermo.lp', 'w') as out:\n",
    "    out.write(str(model.solver))"
   ]
  },
  {
   "cell_type": "markdown",
   "metadata": {},
   "source": [
    "### Execute the model in anaerobic conditions"
   ]
  },
  {
   "cell_type": "code",
   "execution_count": 7,
   "metadata": {},
   "outputs": [
    {
     "data": {
      "text/plain": [
       "{'EX_cpd00071_e0': 1000,\n",
       " 'EX_cpd00067_e0': 1000,\n",
       " 'EX_cpd00009_e0': 1000,\n",
       " 'EX_cpd00020_e0': 1000,\n",
       " 'EX_cpd00027_e0': 1000,\n",
       " 'EX_cpd00221_e0': 1000,\n",
       " 'EX_cpd00053_e0': 1000,\n",
       " 'EX_cpd00011_e0': 1000,\n",
       " 'EX_cpd00130_e0': 1000,\n",
       " 'EX_cpd00001_e0': 1000,\n",
       " 'EX_cpd00047_e0': 1000,\n",
       " 'EX_cpd00013_e0': 1000,\n",
       " 'EX_cpd00023_e0': 1000,\n",
       " 'EX_cpd00082_e0': 1000,\n",
       " 'EX_cpd00106_e0': 1000,\n",
       " 'EX_cpd00036_e0': 1000,\n",
       " 'EX_cpd00363_e0': 1000,\n",
       " 'EX_cpd00024_e0': 1000,\n",
       " 'EX_cpd00029_e0': 1000}"
      ]
     },
     "metadata": {},
     "output_type": "display_data"
    },
    {
     "data": {
      "text/html": [
       "<h3>Objective</h3><p>nan Expression = nan</p><h4>Uptake</h4><table border=\"1\" class=\"dataframe\">\n",
       "  <thead>\n",
       "    <tr style=\"text-align: right;\">\n",
       "      <th>Metabolite</th>\n",
       "      <th>Reaction</th>\n",
       "      <th>Flux</th>\n",
       "      <th>C-Number</th>\n",
       "      <th>C-Flux</th>\n",
       "    </tr>\n",
       "  </thead>\n",
       "  <tbody>\n",
       "  </tbody>\n",
       "</table><h4>Secretion</h4><table border=\"1\" class=\"dataframe\">\n",
       "  <thead>\n",
       "    <tr style=\"text-align: right;\">\n",
       "      <th>Metabolite</th>\n",
       "      <th>Reaction</th>\n",
       "      <th>Flux</th>\n",
       "      <th>C-Number</th>\n",
       "      <th>C-Flux</th>\n",
       "    </tr>\n",
       "  </thead>\n",
       "  <tbody>\n",
       "  </tbody>\n",
       "</table>"
      ],
      "text/plain": [
       "<cobra.summary.model_summary.ModelSummary at 0x7f136735ef40>"
      ]
     },
     "metadata": {},
     "output_type": "display_data"
    }
   ],
   "source": [
    "with model:\n",
    "    oxygen = 'EX_cpd00007_e0'\n",
    "    # edit the model media\n",
    "    medium = model.medium\n",
    "    medium[oxygen] = 0\n",
    "    model.medium = medium\n",
    "    display(model.medium)\n",
    "\n",
    "    # execute the model\n",
    "    display(model.summary())"
   ]
  },
  {
   "cell_type": "markdown",
   "metadata": {},
   "source": [
    "### Execute the model with internal loop objective"
   ]
  },
  {
   "cell_type": "code",
   "execution_count": 8,
   "metadata": {},
   "outputs": [
    {
     "data": {
      "text/html": [
       "<h3>Objective</h3><p>1.0 FRD7_c0 = 0.0</p><h4>Uptake</h4><table border=\"1\" class=\"dataframe\">\n",
       "  <thead>\n",
       "    <tr style=\"text-align: right;\">\n",
       "      <th>Metabolite</th>\n",
       "      <th>Reaction</th>\n",
       "      <th>Flux</th>\n",
       "      <th>C-Number</th>\n",
       "      <th>C-Flux</th>\n",
       "    </tr>\n",
       "  </thead>\n",
       "  <tbody>\n",
       "  </tbody>\n",
       "</table><h4>Secretion</h4><table border=\"1\" class=\"dataframe\">\n",
       "  <thead>\n",
       "    <tr style=\"text-align: right;\">\n",
       "      <th>Metabolite</th>\n",
       "      <th>Reaction</th>\n",
       "      <th>Flux</th>\n",
       "      <th>C-Number</th>\n",
       "      <th>C-Flux</th>\n",
       "    </tr>\n",
       "  </thead>\n",
       "  <tbody>\n",
       "  </tbody>\n",
       "</table>"
      ],
      "text/plain": [
       "<cobra.summary.model_summary.ModelSummary at 0x7f1360b56f70>"
      ]
     },
     "metadata": {},
     "output_type": "display_data"
    }
   ],
   "source": [
    "with model:\n",
    "    # execute the simulation\n",
    "    model.objective = model.reactions.FRD7_c0\n",
    "    display(model.summary())"
   ]
  },
  {
   "cell_type": "markdown",
   "metadata": {},
   "source": [
    "# -----------------------------------------------------------------------------------------------------------------------------------------------------------------------------------"
   ]
  },
  {
   "cell_type": "markdown",
   "metadata": {},
   "source": [
    "# FullThermo package test"
   ]
  },
  {
   "cell_type": "markdown",
   "metadata": {},
   "source": [
    "The FullThermo package prevents flux through thermodynamically infeasible reactions, with greater specificity than the SimpleThermo package. This functionality is exemplified with a set of simulation conditions that appropriately grow in the unconstrained model yet prevent growth in the constrained model. These conditions presumably create a thermodynamically infeasible problem that prevents the constrained model yet allows the unconstrained model to grow. "
   ]
  },
  {
   "cell_type": "markdown",
   "metadata": {},
   "source": [
    "## Unconstrained simulation"
   ]
  },
  {
   "cell_type": "markdown",
   "metadata": {},
   "source": [
    "## RevBin test"
   ]
  },
  {
   "cell_type": "code",
   "execution_count": 9,
   "metadata": {},
   "outputs": [
    {
     "data": {
      "text/plain": [
       "{'EX_cpd00071_e0': 1000,\n",
       " 'EX_cpd00067_e0': 1000,\n",
       " 'EX_cpd00009_e0': 1000,\n",
       " 'EX_cpd00007_e0': 1000,\n",
       " 'EX_cpd00020_e0': 1000,\n",
       " 'EX_cpd00027_e0': 1000,\n",
       " 'EX_cpd00221_e0': 1000,\n",
       " 'EX_cpd00053_e0': 1000,\n",
       " 'EX_cpd00011_e0': 1000,\n",
       " 'EX_cpd00130_e0': 1000,\n",
       " 'EX_cpd00001_e0': 1000,\n",
       " 'EX_cpd00047_e0': 1000,\n",
       " 'EX_cpd00013_e0': 1000,\n",
       " 'EX_cpd00023_e0': 1000,\n",
       " 'EX_cpd00082_e0': 1000,\n",
       " 'EX_cpd00106_e0': 1000,\n",
       " 'EX_cpd00036_e0': 1000,\n",
       " 'EX_cpd00024_e0': 1000,\n",
       " 'EX_cpd00029_e0': 1000}"
      ]
     },
     "metadata": {},
     "output_type": "display_data"
    },
    {
     "data": {
      "text/html": [
       "<h3>Objective</h3><p>1.0 rxn08427_c0 = 0.0</p><h4>Uptake</h4><table border=\"1\" class=\"dataframe\">\n",
       "  <thead>\n",
       "    <tr style=\"text-align: right;\">\n",
       "      <th>Metabolite</th>\n",
       "      <th>Reaction</th>\n",
       "      <th>Flux</th>\n",
       "      <th>C-Number</th>\n",
       "      <th>C-Flux</th>\n",
       "    </tr>\n",
       "  </thead>\n",
       "  <tbody>\n",
       "  </tbody>\n",
       "</table><h4>Secretion</h4><table border=\"1\" class=\"dataframe\">\n",
       "  <thead>\n",
       "    <tr style=\"text-align: right;\">\n",
       "      <th>Metabolite</th>\n",
       "      <th>Reaction</th>\n",
       "      <th>Flux</th>\n",
       "      <th>C-Number</th>\n",
       "      <th>C-Flux</th>\n",
       "    </tr>\n",
       "  </thead>\n",
       "  <tbody>\n",
       "  </tbody>\n",
       "</table>"
      ],
      "text/plain": [
       "<cobra.summary.model_summary.ModelSummary at 0x7f1360be2ac0>"
      ]
     },
     "metadata": {},
     "output_type": "display_data"
    }
   ],
   "source": [
    "model = kbase.get_from_ws('e_coli_core.kb', 94253)\n",
    "\n",
    "with model:\n",
    "    ethanol = 'EX_cpd00363_e0'\n",
    "    # block ethanol exchange\n",
    "    medium = model.medium\n",
    "    medium[ethanol] = 0\n",
    "    model.medium = medium\n",
    "    display(model.medium)\n",
    "    \n",
    "    # set the objective function\n",
    "    model.objective = model.problem.Objective(model.reactions.rxn08427_c0.flux_expression,\n",
    "                                              direction='max')   \n",
    "    display(model.summary())"
   ]
  },
  {
   "cell_type": "markdown",
   "metadata": {},
   "source": [
    "## SimpleThermo tests"
   ]
  },
  {
   "cell_type": "markdown",
   "metadata": {},
   "source": [
    "### Execute the model with an optimized internal flux"
   ]
  },
  {
   "cell_type": "code",
   "execution_count": 10,
   "metadata": {},
   "outputs": [
    {
     "data": {
      "text/html": [
       "<h3>Objective</h3><p>1.0 FRD7_c0 = 1000.0</p><h4>Uptake</h4><table border=\"1\" class=\"dataframe\">\n",
       "  <thead>\n",
       "    <tr style=\"text-align: right;\">\n",
       "      <th>Metabolite</th>\n",
       "      <th>Reaction</th>\n",
       "      <th>Flux</th>\n",
       "      <th>C-Number</th>\n",
       "      <th>C-Flux</th>\n",
       "    </tr>\n",
       "  </thead>\n",
       "  <tbody>\n",
       "  </tbody>\n",
       "</table><h4>Secretion</h4><table border=\"1\" class=\"dataframe\">\n",
       "  <thead>\n",
       "    <tr style=\"text-align: right;\">\n",
       "      <th>Metabolite</th>\n",
       "      <th>Reaction</th>\n",
       "      <th>Flux</th>\n",
       "      <th>C-Number</th>\n",
       "      <th>C-Flux</th>\n",
       "    </tr>\n",
       "  </thead>\n",
       "  <tbody>\n",
       "  </tbody>\n",
       "</table>"
      ],
      "text/plain": [
       "<cobra.summary.model_summary.ModelSummary at 0x7f1362c43ca0>"
      ]
     },
     "metadata": {},
     "output_type": "display_data"
    }
   ],
   "source": [
    "model = kbase.get_from_ws('e_coli_core.kb', 94253)\n",
    "with model:\n",
    "    model.objective = model.reactions.FRD7_c0\n",
    "    display(model.summary())"
   ]
  },
  {
   "cell_type": "markdown",
   "metadata": {},
   "source": [
    "### Execute the model in anaerobic conditions"
   ]
  },
  {
   "cell_type": "code",
   "execution_count": 11,
   "metadata": {},
   "outputs": [
    {
     "data": {
      "text/plain": [
       "{'EX_cpd00071_e0': 1000,\n",
       " 'EX_cpd00067_e0': 1000,\n",
       " 'EX_cpd00009_e0': 1000,\n",
       " 'EX_cpd00020_e0': 1000,\n",
       " 'EX_cpd00027_e0': 1000,\n",
       " 'EX_cpd00221_e0': 1000,\n",
       " 'EX_cpd00053_e0': 1000,\n",
       " 'EX_cpd00011_e0': 1000,\n",
       " 'EX_cpd00130_e0': 1000,\n",
       " 'EX_cpd00001_e0': 1000,\n",
       " 'EX_cpd00047_e0': 1000,\n",
       " 'EX_cpd00013_e0': 1000,\n",
       " 'EX_cpd00023_e0': 1000,\n",
       " 'EX_cpd00082_e0': 1000,\n",
       " 'EX_cpd00106_e0': 1000,\n",
       " 'EX_cpd00036_e0': 1000,\n",
       " 'EX_cpd00363_e0': 1000,\n",
       " 'EX_cpd00024_e0': 1000,\n",
       " 'EX_cpd00029_e0': 1000}"
      ]
     },
     "metadata": {},
     "output_type": "display_data"
    },
    {
     "data": {
      "text/html": [
       "<h3>Objective</h3><p>1.0 bio1 = 28.650200297933463</p><h4>Uptake</h4><table border=\"1\" class=\"dataframe\">\n",
       "  <thead>\n",
       "    <tr style=\"text-align: right;\">\n",
       "      <th>Metabolite</th>\n",
       "      <th>Reaction</th>\n",
       "      <th>Flux</th>\n",
       "      <th>C-Number</th>\n",
       "      <th>C-Flux</th>\n",
       "    </tr>\n",
       "  </thead>\n",
       "  <tbody>\n",
       "    <tr>\n",
       "      <td>cpd00001_e0</td>\n",
       "      <td>EX_cpd00001_e0</td>\n",
       "      <td>90.28</td>\n",
       "      <td>0</td>\n",
       "      <td>0.00%</td>\n",
       "    </tr>\n",
       "    <tr>\n",
       "      <td>cpd00009_e0</td>\n",
       "      <td>EX_cpd00009_e0</td>\n",
       "      <td>105.4</td>\n",
       "      <td>0</td>\n",
       "      <td>0.00%</td>\n",
       "    </tr>\n",
       "    <tr>\n",
       "      <td>cpd00020_e0</td>\n",
       "      <td>EX_cpd00020_e0</td>\n",
       "      <td>14.39</td>\n",
       "      <td>3</td>\n",
       "      <td>0.39%</td>\n",
       "    </tr>\n",
       "    <tr>\n",
       "      <td>cpd00023_e0</td>\n",
       "      <td>EX_cpd00023_e0</td>\n",
       "      <td>350.6</td>\n",
       "      <td>5</td>\n",
       "      <td>15.85%</td>\n",
       "    </tr>\n",
       "    <tr>\n",
       "      <td>cpd00027_e0</td>\n",
       "      <td>EX_cpd00027_e0</td>\n",
       "      <td>5.873</td>\n",
       "      <td>6</td>\n",
       "      <td>0.32%</td>\n",
       "    </tr>\n",
       "    <tr>\n",
       "      <td>cpd00053_e0</td>\n",
       "      <td>EX_cpd00053_e0</td>\n",
       "      <td>7.326</td>\n",
       "      <td>5</td>\n",
       "      <td>0.33%</td>\n",
       "    </tr>\n",
       "    <tr>\n",
       "      <td>cpd00071_e0</td>\n",
       "      <td>EX_cpd00071_e0</td>\n",
       "      <td>1000</td>\n",
       "      <td>2</td>\n",
       "      <td>18.08%</td>\n",
       "    </tr>\n",
       "    <tr>\n",
       "      <td>cpd00082_e0</td>\n",
       "      <td>EX_cpd00082_e0</td>\n",
       "      <td>532.2</td>\n",
       "      <td>6</td>\n",
       "      <td>28.87%</td>\n",
       "    </tr>\n",
       "    <tr>\n",
       "      <td>cpd00130_e0</td>\n",
       "      <td>EX_cpd00130_e0</td>\n",
       "      <td>1000</td>\n",
       "      <td>4</td>\n",
       "      <td>36.16%</td>\n",
       "    </tr>\n",
       "  </tbody>\n",
       "</table><h4>Secretion</h4><table border=\"1\" class=\"dataframe\">\n",
       "  <thead>\n",
       "    <tr style=\"text-align: right;\">\n",
       "      <th>Metabolite</th>\n",
       "      <th>Reaction</th>\n",
       "      <th>Flux</th>\n",
       "      <th>C-Number</th>\n",
       "      <th>C-Flux</th>\n",
       "    </tr>\n",
       "  </thead>\n",
       "  <tbody>\n",
       "    <tr>\n",
       "      <td>cpd00011_e0</td>\n",
       "      <td>EX_cpd00011_e0</td>\n",
       "      <td>-1000</td>\n",
       "      <td>1</td>\n",
       "      <td>10.16%</td>\n",
       "    </tr>\n",
       "    <tr>\n",
       "      <td>cpd00013_e0</td>\n",
       "      <td>EX_cpd00013_e0</td>\n",
       "      <td>-209</td>\n",
       "      <td>0</td>\n",
       "      <td>0.00%</td>\n",
       "    </tr>\n",
       "    <tr>\n",
       "      <td>cpd00024_e0</td>\n",
       "      <td>EX_cpd00024_e0</td>\n",
       "      <td>-327</td>\n",
       "      <td>5</td>\n",
       "      <td>16.61%</td>\n",
       "    </tr>\n",
       "    <tr>\n",
       "      <td>cpd00029_e0</td>\n",
       "      <td>EX_cpd00029_e0</td>\n",
       "      <td>-728.4</td>\n",
       "      <td>2</td>\n",
       "      <td>14.80%</td>\n",
       "    </tr>\n",
       "    <tr>\n",
       "      <td>cpd00036_e0</td>\n",
       "      <td>EX_cpd00036_e0</td>\n",
       "      <td>-784.6</td>\n",
       "      <td>4</td>\n",
       "      <td>31.89%</td>\n",
       "    </tr>\n",
       "    <tr>\n",
       "      <td>cpd00067_e0</td>\n",
       "      <td>EX_cpd00067_e0</td>\n",
       "      <td>-1000</td>\n",
       "      <td>0</td>\n",
       "      <td>0.00%</td>\n",
       "    </tr>\n",
       "    <tr>\n",
       "      <td>cpd00221_e0</td>\n",
       "      <td>EX_cpd00221_e0</td>\n",
       "      <td>-204</td>\n",
       "      <td>3</td>\n",
       "      <td>6.22%</td>\n",
       "    </tr>\n",
       "    <tr>\n",
       "      <td>cpd00363_e0</td>\n",
       "      <td>EX_cpd00363_e0</td>\n",
       "      <td>-1000</td>\n",
       "      <td>2</td>\n",
       "      <td>20.32%</td>\n",
       "    </tr>\n",
       "  </tbody>\n",
       "</table>"
      ],
      "text/plain": [
       "<cobra.summary.model_summary.ModelSummary at 0x7f1362de9e80>"
      ]
     },
     "metadata": {},
     "output_type": "display_data"
    }
   ],
   "source": [
    "with model:\n",
    "    oxygen = 'EX_cpd00007_e0'\n",
    "    # edit the model media\n",
    "    medium = model.medium\n",
    "    medium[oxygen] = 0\n",
    "    model.medium = medium\n",
    "    display(model.medium)\n",
    "\n",
    "    # execute the model\n",
    "    display(model.summary())"
   ]
  },
  {
   "cell_type": "markdown",
   "metadata": {},
   "source": [
    "## FullThermo-constrained simulation"
   ]
  },
  {
   "cell_type": "markdown",
   "metadata": {},
   "source": [
    "### Constrain the model"
   ]
  },
  {
   "cell_type": "code",
   "execution_count": 12,
   "metadata": {
    "scrolled": true
   },
   "outputs": [],
   "source": [
    "from modelseedpy.fbapkg import fullthermopkg\n",
    "\n",
    "# implement FullThermo with dgbin constraints\n",
    "ftp = fullthermopkg.FullThermoPkg(model)\n",
    "ftp.build_package({'modelseed_path':modelseed_db_path})\n",
    "\n",
    "# export the constrained LP file \n",
    "with open('FullThermo.lp', 'w') as out:\n",
    "    out.write(str(model.solver))"
   ]
  },
  {
   "cell_type": "markdown",
   "metadata": {},
   "source": [
    "## Repeated RevBin test"
   ]
  },
  {
   "cell_type": "code",
   "execution_count": 13,
   "metadata": {},
   "outputs": [
    {
     "data": {
      "text/plain": [
       "{'EX_cpd00071_e0': 1000,\n",
       " 'EX_cpd00067_e0': 1000,\n",
       " 'EX_cpd00009_e0': 1000,\n",
       " 'EX_cpd00007_e0': 1000,\n",
       " 'EX_cpd00020_e0': 1000,\n",
       " 'EX_cpd00027_e0': 1000,\n",
       " 'EX_cpd00221_e0': 1000,\n",
       " 'EX_cpd00053_e0': 1000,\n",
       " 'EX_cpd00011_e0': 1000,\n",
       " 'EX_cpd00130_e0': 1000,\n",
       " 'EX_cpd00001_e0': 1000,\n",
       " 'EX_cpd00047_e0': 1000,\n",
       " 'EX_cpd00013_e0': 1000,\n",
       " 'EX_cpd00023_e0': 1000,\n",
       " 'EX_cpd00082_e0': 1000,\n",
       " 'EX_cpd00106_e0': 1000,\n",
       " 'EX_cpd00036_e0': 1000,\n",
       " 'EX_cpd00024_e0': 1000,\n",
       " 'EX_cpd00029_e0': 1000}"
      ]
     },
     "metadata": {},
     "output_type": "display_data"
    },
    {
     "data": {
      "text/html": [
       "<h3>Objective</h3><p>1.0 rxn08427_c0 = 0.0</p><h4>Uptake</h4><table border=\"1\" class=\"dataframe\">\n",
       "  <thead>\n",
       "    <tr style=\"text-align: right;\">\n",
       "      <th>Metabolite</th>\n",
       "      <th>Reaction</th>\n",
       "      <th>Flux</th>\n",
       "      <th>C-Number</th>\n",
       "      <th>C-Flux</th>\n",
       "    </tr>\n",
       "  </thead>\n",
       "  <tbody>\n",
       "  </tbody>\n",
       "</table><h4>Secretion</h4><table border=\"1\" class=\"dataframe\">\n",
       "  <thead>\n",
       "    <tr style=\"text-align: right;\">\n",
       "      <th>Metabolite</th>\n",
       "      <th>Reaction</th>\n",
       "      <th>Flux</th>\n",
       "      <th>C-Number</th>\n",
       "      <th>C-Flux</th>\n",
       "    </tr>\n",
       "  </thead>\n",
       "  <tbody>\n",
       "  </tbody>\n",
       "</table>"
      ],
      "text/plain": [
       "<cobra.summary.model_summary.ModelSummary at 0x7f1360d92400>"
      ]
     },
     "metadata": {},
     "output_type": "display_data"
    }
   ],
   "source": [
    "with model:\n",
    "    ethanol = 'EX_cpd00363_e0'\n",
    "    # block ethanol exchange\n",
    "    medium = model.medium\n",
    "    medium[ethanol] = 0\n",
    "    model.medium = medium\n",
    "    display(model.medium)\n",
    "    \n",
    "    # set the objective function\n",
    "    model.objective = model.problem.Objective(model.reactions.rxn08427_c0.flux_expression,\n",
    "                                              direction='max')   \n",
    "    display(model.summary())"
   ]
  },
  {
   "cell_type": "markdown",
   "metadata": {},
   "source": [
    "## Repeated SimpleThermo tests"
   ]
  },
  {
   "cell_type": "markdown",
   "metadata": {},
   "source": [
    "### Execute the model with an optimized internal flux"
   ]
  },
  {
   "cell_type": "code",
   "execution_count": 14,
   "metadata": {},
   "outputs": [
    {
     "data": {
      "text/html": [
       "<h3>Objective</h3><p>1.0 FRD7_c0 = 0.0</p><h4>Uptake</h4><table border=\"1\" class=\"dataframe\">\n",
       "  <thead>\n",
       "    <tr style=\"text-align: right;\">\n",
       "      <th>Metabolite</th>\n",
       "      <th>Reaction</th>\n",
       "      <th>Flux</th>\n",
       "      <th>C-Number</th>\n",
       "      <th>C-Flux</th>\n",
       "    </tr>\n",
       "  </thead>\n",
       "  <tbody>\n",
       "  </tbody>\n",
       "</table><h4>Secretion</h4><table border=\"1\" class=\"dataframe\">\n",
       "  <thead>\n",
       "    <tr style=\"text-align: right;\">\n",
       "      <th>Metabolite</th>\n",
       "      <th>Reaction</th>\n",
       "      <th>Flux</th>\n",
       "      <th>C-Number</th>\n",
       "      <th>C-Flux</th>\n",
       "    </tr>\n",
       "  </thead>\n",
       "  <tbody>\n",
       "  </tbody>\n",
       "</table>"
      ],
      "text/plain": [
       "<cobra.summary.model_summary.ModelSummary at 0x7f1360b6d160>"
      ]
     },
     "metadata": {},
     "output_type": "display_data"
    }
   ],
   "source": [
    "with model:\n",
    "    model.objective = model.reactions.FRD7_c0\n",
    "    display(model.summary())"
   ]
  },
  {
   "cell_type": "markdown",
   "metadata": {},
   "source": [
    "### Execute the constrained model in infeasible media"
   ]
  },
  {
   "cell_type": "code",
   "execution_count": 15,
   "metadata": {},
   "outputs": [
    {
     "data": {
      "text/plain": [
       "{}"
      ]
     },
     "metadata": {},
     "output_type": "display_data"
    },
    {
     "data": {
      "text/html": [
       "<h3>Objective</h3><p>nan Expression = nan</p><h4>Uptake</h4><table border=\"1\" class=\"dataframe\">\n",
       "  <thead>\n",
       "    <tr style=\"text-align: right;\">\n",
       "      <th>Metabolite</th>\n",
       "      <th>Reaction</th>\n",
       "      <th>Flux</th>\n",
       "      <th>C-Number</th>\n",
       "      <th>C-Flux</th>\n",
       "    </tr>\n",
       "  </thead>\n",
       "  <tbody>\n",
       "  </tbody>\n",
       "</table><h4>Secretion</h4><table border=\"1\" class=\"dataframe\">\n",
       "  <thead>\n",
       "    <tr style=\"text-align: right;\">\n",
       "      <th>Metabolite</th>\n",
       "      <th>Reaction</th>\n",
       "      <th>Flux</th>\n",
       "      <th>C-Number</th>\n",
       "      <th>C-Flux</th>\n",
       "    </tr>\n",
       "  </thead>\n",
       "  <tbody>\n",
       "  </tbody>\n",
       "</table>"
      ],
      "text/plain": [
       "<cobra.summary.model_summary.ModelSummary at 0x7f1360a393a0>"
      ]
     },
     "metadata": {},
     "output_type": "display_data"
    }
   ],
   "source": [
    "with model:\n",
    "    # define the simulation medium\n",
    "    medium = model.medium\n",
    "    medium = {}\n",
    "    model.medium = medium\n",
    "    display(model.medium)\n",
    "    \n",
    "    # print the results\n",
    "    display(model.summary())"
   ]
  },
  {
   "cell_type": "markdown",
   "metadata": {},
   "source": [
    "### Execute the model in anaerobic conditions"
   ]
  },
  {
   "cell_type": "code",
   "execution_count": 16,
   "metadata": {},
   "outputs": [
    {
     "data": {
      "text/plain": [
       "{'EX_cpd00071_e0': 1000,\n",
       " 'EX_cpd00067_e0': 1000,\n",
       " 'EX_cpd00009_e0': 1000,\n",
       " 'EX_cpd00020_e0': 1000,\n",
       " 'EX_cpd00027_e0': 1000,\n",
       " 'EX_cpd00221_e0': 1000,\n",
       " 'EX_cpd00053_e0': 1000,\n",
       " 'EX_cpd00011_e0': 1000,\n",
       " 'EX_cpd00130_e0': 1000,\n",
       " 'EX_cpd00001_e0': 1000,\n",
       " 'EX_cpd00047_e0': 1000,\n",
       " 'EX_cpd00013_e0': 1000,\n",
       " 'EX_cpd00023_e0': 1000,\n",
       " 'EX_cpd00082_e0': 1000,\n",
       " 'EX_cpd00106_e0': 1000,\n",
       " 'EX_cpd00036_e0': 1000,\n",
       " 'EX_cpd00363_e0': 1000,\n",
       " 'EX_cpd00024_e0': 1000,\n",
       " 'EX_cpd00029_e0': 1000}"
      ]
     },
     "metadata": {},
     "output_type": "display_data"
    },
    {
     "data": {
      "text/html": [
       "<h3>Objective</h3><p>nan Expression = nan</p><h4>Uptake</h4><table border=\"1\" class=\"dataframe\">\n",
       "  <thead>\n",
       "    <tr style=\"text-align: right;\">\n",
       "      <th>Metabolite</th>\n",
       "      <th>Reaction</th>\n",
       "      <th>Flux</th>\n",
       "      <th>C-Number</th>\n",
       "      <th>C-Flux</th>\n",
       "    </tr>\n",
       "  </thead>\n",
       "  <tbody>\n",
       "  </tbody>\n",
       "</table><h4>Secretion</h4><table border=\"1\" class=\"dataframe\">\n",
       "  <thead>\n",
       "    <tr style=\"text-align: right;\">\n",
       "      <th>Metabolite</th>\n",
       "      <th>Reaction</th>\n",
       "      <th>Flux</th>\n",
       "      <th>C-Number</th>\n",
       "      <th>C-Flux</th>\n",
       "    </tr>\n",
       "  </thead>\n",
       "  <tbody>\n",
       "  </tbody>\n",
       "</table>"
      ],
      "text/plain": [
       "<cobra.summary.model_summary.ModelSummary at 0x7f1360b10d00>"
      ]
     },
     "metadata": {},
     "output_type": "display_data"
    }
   ],
   "source": [
    "with model:\n",
    "    # edit the model medium\n",
    "    medium = model.medium\n",
    "    medium['EX_cpd00007_e0'] = 0\n",
    "    model.medium = medium\n",
    "    display(model.medium)\n",
    "\n",
    "    # execute the model\n",
    "    display(model.summary())"
   ]
  }
 ],
 "metadata": {
  "kernelspec": {
   "display_name": "Python 3",
   "language": "python",
   "name": "python3"
  },
  "language_info": {
   "codemirror_mode": {
    "name": "ipython",
    "version": 3
   },
   "file_extension": ".py",
   "mimetype": "text/x-python",
   "name": "python",
   "nbconvert_exporter": "python",
   "pygments_lexer": "ipython3",
   "version": "3.8.10"
  }
 },
 "nbformat": 4,
 "nbformat_minor": 4
}
