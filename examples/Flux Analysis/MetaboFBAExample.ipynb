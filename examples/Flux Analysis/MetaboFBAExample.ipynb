{
 "cells": [
  {
   "cell_type": "markdown",
   "metadata": {},
   "source": [
    "# MetaboFBAPkg example"
   ]
  },
  {
   "cell_type": "code",
   "execution_count": 1,
   "metadata": {},
   "outputs": [
    {
     "name": "stdout",
     "output_type": "stream",
     "text": [
      "cobrakbase 0.2.7\n"
     ]
    }
   ],
   "source": [
    "import sys\n",
    "import cobra\n",
    "import cplex\n",
    "import cobrakbase\n",
    "#Put the path to ModelSEEDpy on your machine here\n",
    "sys.path.append(\"/Users/chenry/code/ModelSEEDpy\")\n",
    "#import modelseedpy.fbapkg\n",
    "from modelseedpy import GapfillingPkg, KBaseMediaPkg, MetaboFBAPkg\n",
    "from modelseedpy import FBAHelper\n"
   ]
  },
  {
   "cell_type": "code",
   "execution_count": 1,
   "metadata": {},
   "outputs": [
    {
     "ename": "SyntaxError",
     "evalue": "invalid syntax (<ipython-input-1-9c96e9aed238>, line 18)",
     "output_type": "error",
     "traceback": [
      "\u001b[0;36m  File \u001b[0;32m\"<ipython-input-1-9c96e9aed238>\"\u001b[0;36m, line \u001b[0;32m18\u001b[0m\n\u001b[0;31m    mfp.build_package({\"peaks\":[{\"id\":\"peak.1\",\"inchi\":,\"set_objective\":1})\u001b[0m\n\u001b[0m                                                       ^\u001b[0m\n\u001b[0;31mSyntaxError\u001b[0m\u001b[0;31m:\u001b[0m invalid syntax\n"
     ]
    }
   ],
   "source": [
    "kbase_api = cobrakbase.KBaseAPI()\n",
    "model = kbase_api.get_from_ws(\"test_model\",18528)\n",
    "pickaxe_model = kbase_api.get_from_ws(\"MMSyn3Expansion\",29280)\n",
    "model.solver = 'optlang-cplex'\n",
    "template = kbase_api.get_from_ws(\"GramNegModelTemplateV3\",\"NewKBaseModelTemplates\")\n",
    "media = kbase_api.get_from_ws(\"Carbon-D-Glucose\",\"KBaseMedia\")\n",
    "metabolome = kbase_api.get_from_ws(\"JCVI_Syn3_metabolomics\",29280)\n",
    "FBAHelper.set_objective_from_target_reaction(model,\"bio1\")\n",
    "copy_model = cobra.io.json.from_json(cobra.io.json.to_json(model))\n",
    "gfp = GapfillingPkg(copy_model)\n",
    "gfp.build_package({\n",
    "    \"default_gapfill_models\":[pickaxe_model]\n",
    "    \"default_gapfill_templates\":[template],\n",
    "    \"gapfill_all_indecies_with_default_templates\":1,\n",
    "    \"minimum_obj\":0.01,\n",
    "    \"set_objective\":0\n",
    "})\n",
    "kmp = KBaseMediaPkg(copy_model)\n",
    "kmp.build_package(media)\n",
    "mfp = MetaboFBAPkg(copy_model)\n",
    "mfp.build_package({\"peaks\":metabolome.build_peaks_data(),\"set_objective\":1})\n",
    "sol=model.optimize()\n",
    "with open('MetaboFBA.lp', 'w') as out:\n",
    "    out.write(str(model.solver))\n",
    "#Next minimize active reactions\n",
    "model.summary()\n",
    "\n",
    "cobra.io.save_json_model(model,filename)"
   ]
  },
  {
   "cell_type": "code",
   "execution_count": null,
   "metadata": {},
   "outputs": [],
   "source": []
  }
 ],
 "metadata": {
  "kernelspec": {
   "display_name": "Python 3 (ipykernel)",
   "language": "python",
   "name": "python3"
  },
  "language_info": {
   "codemirror_mode": {
    "name": "ipython",
    "version": 3
   },
   "file_extension": ".py",
   "mimetype": "text/x-python",
   "name": "python",
   "nbconvert_exporter": "python",
   "pygments_lexer": "ipython3",
   "version": "3.9.12"
  }
 },
 "nbformat": 4,
 "nbformat_minor": 4
}
