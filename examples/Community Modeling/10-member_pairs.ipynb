{
 "cells": [
  {
   "cell_type": "markdown",
   "id": "be17384b-a284-468c-a0b0-f0628d0802e6",
   "metadata": {},
   "source": [
    "# Load KBase"
   ]
  },
  {
   "cell_type": "code",
   "execution_count": 1,
   "id": "68a7047b-5da4-479d-85a1-87497aeeb978",
   "metadata": {},
   "outputs": [
    {
     "name": "stderr",
     "output_type": "stream",
     "text": [
      "C:\\Users\\Andrew Freiburger\\AppData\\Local\\Programs\\Python\\Python39\\lib\\site-packages\\requests\\__init__.py:102: RequestsDependencyWarning: urllib3 (1.26.9) or chardet (5.0.0)/charset_normalizer (2.0.12) doesn't match a supported version!\n",
      "  warnings.warn(\"urllib3 ({}) or chardet ({})/charset_normalizer ({}) doesn't match a supported \"\n"
     ]
    },
    {
     "name": "stdout",
     "output_type": "stream",
     "text": [
      "cobrakbase 0.2.8\n"
     ]
    }
   ],
   "source": [
    "# define the environment path \n",
    "import os\n",
    "local_cobrakbase_path = os.path.join('C:', 'Users', 'Andrew Freiburger','Documents','Argonne','cobrakbase')\n",
    "os.environ[\"HOME\"] = local_cobrakbase_path\n",
    "\n",
    "# import the KBase\n",
    "import cobrakbase\n",
    "with open(\"C:/Users/Andrew Freiburger/Documents/Argonne/kbase_token.txt\") as token_file:\n",
    "    kbase_api = cobrakbase.KBaseAPI(token_file.readline())\n",
    "\n",
    "# prevent excessive warnings\n",
    "from time import process_time\n",
    "import warnings\n",
    "warnings.filterwarnings(action='once')\n",
    "%run ../../modelseedpy/community/mssmetana.py"
   ]
  },
  {
   "cell_type": "markdown",
   "id": "e6fe1266-fc52-4456-8ba7-4a11946f7d93",
   "metadata": {},
   "source": [
    "# test models"
   ]
  },
  {
   "cell_type": "markdown",
   "id": "8ab7c386-e429-4e48-9b0a-c245398d0298",
   "metadata": {},
   "source": [
    "## test YR343 on CF142 (\"+\")"
   ]
  },
  {
   "cell_type": "code",
   "execution_count": 2,
   "id": "0799cf60-f276-49d9-bd4e-c966bc1d4464",
   "metadata": {},
   "outputs": [],
   "source": [
    "# load the pair\n",
    "YR343 = kbase_api.get_from_ws(\"Pantoea_YR343_pacbio_v2.RAST.fbamodel\", 114731)\n",
    "CF142 = kbase_api.get_from_ws(\"Rhizobium_CF142_pacbio_v2.RAST.fbamodel\", 114731)\n",
    "YR343_CF142_models = [YR343, CF142]\n",
    "YR343_CF142_model = kbase_api.get_from_ws(\"YR343-CF142\", 114731)"
   ]
  },
  {
   "cell_type": "code",
   "execution_count": 3,
   "id": "68acbe54-88b6-41b1-9e65-ea38fe85a2f3",
   "metadata": {},
   "outputs": [
    {
     "name": "stdout",
     "output_type": "stream",
     "text": [
      "The model Rhizobium_CF142_pacbio_v2.RAST.fbamodel possesses an objective value of 0 in complete media, which is incompatible with minimal media computations and hence SMETANA.\n"
     ]
    }
   ],
   "source": [
    "# test the pair\n",
    "start_time = process_time()\n",
    "try:\n",
    "    YR343_CF142 = MSSmetana(YR343_CF142_models, YR343_CF142_model)\n",
    "    YR343_CF142.mro_score()\n",
    "    YR343_CF142.mip_score(interacting_media=YR343_CF142.media)\n",
    "    YR343_CF142.mu_score()\n",
    "    YR343_CF142.mp_score()\n",
    "    YR343_CF142.sc_score()\n",
    "    YR343_CF142.smetana_score();\n",
    "    end_time = process_time()\n",
    "\n",
    "    print(f\"The YR343_CF142 pair has been examined after {(end_time-start_time)/60}.\")\n",
    "except ObjectiveError as e:\n",
    "    print(e)"
   ]
  },
  {
   "cell_type": "markdown",
   "id": "faf8cc78-5a42-4de5-94d3-19f9197099f9",
   "metadata": {},
   "source": [
    "## test YR343 on CF313 (\"+\")"
   ]
  },
  {
   "cell_type": "code",
   "execution_count": 4,
   "id": "6134aeb7-da5b-4f63-9db6-905594ed016d",
   "metadata": {},
   "outputs": [
    {
     "name": "stdout",
     "output_type": "stream",
     "text": [
      "Syntrophic fluxes examined after 0.00026041666666666666 minutes, with 3 change(s): {'dictionary_item_removed': [root['EX_cpd00092_e0'], root['EX_cpd00054_e0']], 'values_changed': {\"root['EX_cpd00067_e0']\": {'new_value': 576.2797802589429, 'old_value': 1000.0}}}\n",
      "2/2\n",
      "MRO score: 0.7708333333333334\t\t\t77.08% of member requirements, on average, overlap with other members requirements.\n",
      "2/2\n",
      "MIP score: 2\t\t\t2 required compound(s) can be sourced via syntrophy:\n",
      "[root['EX_cpd00092_e0'], root['EX_cpd00054_e0']]\n",
      "\n",
      "MU score:\t\t\tThe fraction of solutions in which each member is the syntrophic receiver that contain a respective metabolite:\n",
      "\n",
      "{'Pantoea_YR343_pacbio_v2.RAST.fbamodel': {'cpd00001_e0': 1.0,\n",
      "                                           'cpd00007_e0': 1.0,\n",
      "                                           'cpd00013_e0': 0.63,\n",
      "                                           'cpd00017_e0': 1.0,\n",
      "                                           'cpd00023_e0': 1.0,\n",
      "                                           'cpd00027_e0': 0.06,\n",
      "                                           'cpd00028_e0': 1.0,\n",
      "                                           'cpd00030_e0': 1.0,\n",
      "                                           'cpd00034_e0': 1.0,\n",
      "                                           'cpd00036_e0': 0.02,\n",
      "                                           'cpd00039_e0': 1.0,\n",
      "                                           'cpd00048_e0': 1.0,\n",
      "                                           'cpd00051_e0': 1.0,\n",
      "                                           'cpd00053_e0': 1.0,\n",
      "                                           'cpd00058_e0': 1.0,\n",
      "                                           'cpd00063_e0': 1.0,\n",
      "                                           'cpd00064_e0': 0.65,\n",
      "                                           'cpd00065_e0': 1.0,\n",
      "                                           'cpd00066_e0': 1.0,\n",
      "                                           'cpd00067_e0': 1.0,\n",
      "                                           'cpd00069_e0': 1.0,\n",
      "                                           'cpd00079_e0': 0.06,\n",
      "                                           'cpd00084_e0': 1.0,\n",
      "                                           'cpd00098_e0': 0.06,\n",
      "                                           'cpd00099_e0': 1.0,\n",
      "                                           'cpd00100_e0': 1.0,\n",
      "                                           'cpd00104_e0': 1.0,\n",
      "                                           'cpd00107_e0': 1.0,\n",
      "                                           'cpd00117_e0': 0.71,\n",
      "                                           'cpd00118_e0': 1.0,\n",
      "                                           'cpd00119_e0': 1.0,\n",
      "                                           'cpd00122_e0': 1.0,\n",
      "                                           'cpd00128_e0': 0.57,\n",
      "                                           'cpd00130_e0': 1.0,\n",
      "                                           'cpd00132_e0': 1.0,\n",
      "                                           'cpd00136_e0': 1.0,\n",
      "                                           'cpd00137_e0': 1.0,\n",
      "                                           'cpd00149_e0': 1.0,\n",
      "                                           'cpd00156_e0': 1.0,\n",
      "                                           'cpd00161_e0': 0.55,\n",
      "                                           'cpd00164_e0': 0.54,\n",
      "                                           'cpd00205_e0': 1.0,\n",
      "                                           'cpd00215_e0': 1.0,\n",
      "                                           'cpd00220_e0': 1.0,\n",
      "                                           'cpd00224_e0': 1.0,\n",
      "                                           'cpd00235_e0': 0.94,\n",
      "                                           'cpd00254_e0': 1.0,\n",
      "                                           'cpd00264_e0': 1.0,\n",
      "                                           'cpd00280_e0': 0.44,\n",
      "                                           'cpd00307_e0': 1.0,\n",
      "                                           'cpd00309_e0': 0.69,\n",
      "                                           'cpd00314_e0': 1.0,\n",
      "                                           'cpd00322_e0': 1.0,\n",
      "                                           'cpd00355_e0': 1.0,\n",
      "                                           'cpd00393_e0': 1.0,\n",
      "                                           'cpd00609_e0': 1.0,\n",
      "                                           'cpd00644_e0': 1.0,\n",
      "                                           'cpd00654_e0': 1.0,\n",
      "                                           'cpd00793_e0': 1.0,\n",
      "                                           'cpd00794_e0': 1.0,\n",
      "                                           'cpd01080_e0': 1.0,\n",
      "                                           'cpd03847_e0': 1.0,\n",
      "                                           'cpd10515_e0': 1.0,\n",
      "                                           'cpd15560_e0': 1.0},\n",
      " 'Variovorax_CF313_pacbio_v2.RAST.fbamodel': {'cpd00001_e0': 1.0,\n",
      "                                              'cpd00007_e0': 1.0,\n",
      "                                              'cpd00013_e0': 0.19,\n",
      "                                              'cpd00017_e0': 1.0,\n",
      "                                              'cpd00023_e0': 0.44,\n",
      "                                              'cpd00028_e0': 1.0,\n",
      "                                              'cpd00030_e0': 1.0,\n",
      "                                              'cpd00034_e0': 1.0,\n",
      "                                              'cpd00039_e0': 1.0,\n",
      "                                              'cpd00041_e0': 0.48,\n",
      "                                              'cpd00048_e0': 1.0,\n",
      "                                              'cpd00051_e0': 1.0,\n",
      "                                              'cpd00053_e0': 0.99,\n",
      "                                              'cpd00054_e0': 1.0,\n",
      "                                              'cpd00058_e0': 1.0,\n",
      "                                              'cpd00063_e0': 1.0,\n",
      "                                              'cpd00065_e0': 1.0,\n",
      "                                              'cpd00066_e0': 1.0,\n",
      "                                              'cpd00069_e0': 1.0,\n",
      "                                              'cpd00080_e0': 0.81,\n",
      "                                              'cpd00082_e0': 0.09,\n",
      "                                              'cpd00084_e0': 1.0,\n",
      "                                              'cpd00092_e0': 0.99,\n",
      "                                              'cpd00099_e0': 1.0,\n",
      "                                              'cpd00104_e0': 1.0,\n",
      "                                              'cpd00107_e0': 1.0,\n",
      "                                              'cpd00118_e0': 1.0,\n",
      "                                              'cpd00119_e0': 1.0,\n",
      "                                              'cpd00129_e0': 0.32,\n",
      "                                              'cpd00130_e0': 0.93,\n",
      "                                              'cpd00132_e0': 1.0,\n",
      "                                              'cpd00136_e0': 1.0,\n",
      "                                              'cpd00149_e0': 1.0,\n",
      "                                              'cpd00156_e0': 1.0,\n",
      "                                              'cpd00161_e0': 1.0,\n",
      "                                              'cpd00162_e0': 0.45,\n",
      "                                              'cpd00179_e0': 1.0,\n",
      "                                              'cpd00205_e0': 1.0,\n",
      "                                              'cpd00209_e0': 1.0,\n",
      "                                              'cpd00215_e0': 1.0,\n",
      "                                              'cpd00220_e0': 1.0,\n",
      "                                              'cpd00254_e0': 1.0,\n",
      "                                              'cpd00264_e0': 1.0,\n",
      "                                              'cpd00307_e0': 0.01,\n",
      "                                              'cpd00322_e0': 1.0,\n",
      "                                              'cpd00355_e0': 1.0,\n",
      "                                              'cpd00393_e0': 1.0,\n",
      "                                              'cpd00644_e0': 1.0,\n",
      "                                              'cpd00793_e0': 1.0,\n",
      "                                              'cpd00794_e0': 1.0,\n",
      "                                              'cpd10515_e0': 1.0}}\n",
      "remaining possible_contributions 732\n",
      "MP score:\t\t\tThe possible contributions of each member in the member media include:\n",
      "\n",
      "{'Pantoea_YR343_pacbio_v2.RAST.fbamodel': ['cpd00084_e0',\n",
      "                                           'cpd00363_e0',\n",
      "                                           'cpd00309_e0',\n",
      "                                           'cpd00122_e0',\n",
      "                                           'cpd00100_e0',\n",
      "                                           'cpd00067_e0',\n",
      "                                           'cpd00136_e0',\n",
      "                                           'cpd00540_e0',\n",
      "                                           'cpd00029_e0',\n",
      "                                           'cpd00082_e0',\n",
      "                                           'cpd00033_e0',\n",
      "                                           'cpd00161_e0',\n",
      "                                           'cpd00035_e0',\n",
      "                                           'cpd00024_e0',\n",
      "                                           'cpd00117_e0',\n",
      "                                           'cpd00011_e0',\n",
      "                                           'cpd00060_e0',\n",
      "                                           'cpd00013_e0',\n",
      "                                           'cpd00009_e0',\n",
      "                                           'cpd00036_e0',\n",
      "                                           'cpd00129_e0',\n",
      "                                           'cpd00092_e0',\n",
      "                                           'cpd00041_e0',\n",
      "                                           'cpd00001_e0',\n",
      "                                           'cpd00226_e0',\n",
      "                                           'cpd00176_e0',\n",
      "                                           'cpd00138_e0',\n",
      "                                           'cpd00218_e0',\n",
      "                                           'cpd00066_e0',\n",
      "                                           'cpd00047_e0',\n",
      "                                           'cpd00053_e0',\n",
      "                                           'cpd00065_e0',\n",
      "                                           'cpd00054_e0',\n",
      "                                           'cpd00235_e0',\n",
      "                                           'cpd00118_e0',\n",
      "                                           'cpd00276_e0',\n",
      "                                           'cpd00130_e0',\n",
      "                                           'cpd00151_e0',\n",
      "                                           'cpd00039_e0',\n",
      "                                           'cpd15561_e0',\n",
      "                                           'cpd00064_e0',\n",
      "                                           'cpd00222_e0',\n",
      "                                           'cpd00012_e0',\n",
      "                                           'cpd00023_e0',\n",
      "                                           'cpd00128_e0',\n",
      "                                           'cpd01757_e0',\n",
      "                                           'cpd00051_e0',\n",
      "                                           'cpd00307_e0',\n",
      "                                           'cpd00573_e0',\n",
      "                                           'cpd00794_e0',\n",
      "                                           'cpd00137_e0',\n",
      "                                           'cpd00314_e0',\n",
      "                                           'cpd00079_e0',\n",
      "                                           'cpd00264_e0',\n",
      "                                           'cpd00132_e0',\n",
      "                                           'cpd00017_e0',\n",
      "                                           'cpd00069_e0',\n",
      "                                           'cpd00654_e0',\n",
      "                                           'cpd00355_e0',\n",
      "                                           'cpd03847_e0',\n",
      "                                           'cpd00119_e0',\n",
      "                                           'cpd00220_e0',\n",
      "                                           'cpd00214_e0',\n",
      "                                           'cpd01080_e0'],\n",
      " 'Variovorax_CF313_pacbio_v2.RAST.fbamodel': ['cpd00084_e0',\n",
      "                                              'cpd00075_e0',\n",
      "                                              'cpd00276_e0',\n",
      "                                              'cpd00132_e0',\n",
      "                                              'cpd00067_e0',\n",
      "                                              'cpd00136_e0',\n",
      "                                              'cpd00540_e0',\n",
      "                                              'cpd00082_e0',\n",
      "                                              'cpd00033_e0',\n",
      "                                              'cpd00161_e0',\n",
      "                                              'cpd00035_e0',\n",
      "                                              'cpd00011_e0',\n",
      "                                              'cpd00060_e0',\n",
      "                                              'cpd00013_e0',\n",
      "                                              'cpd00009_e0',\n",
      "                                              'cpd00036_e0',\n",
      "                                              'cpd00129_e0',\n",
      "                                              'cpd00092_e0',\n",
      "                                              'cpd00041_e0',\n",
      "                                              'cpd00001_e0',\n",
      "                                              'cpd00138_e0',\n",
      "                                              'cpd00066_e0',\n",
      "                                              'cpd00047_e0',\n",
      "                                              'cpd00023_e0',\n",
      "                                              'cpd00159_e0',\n",
      "                                              'cpd00054_e0',\n",
      "                                              'cpd00118_e0',\n",
      "                                              'cpd00122_e0',\n",
      "                                              'cpd00130_e0',\n",
      "                                              'cpd00107_e0',\n",
      "                                              'cpd00794_e0',\n",
      "                                              'cpd00017_e0',\n",
      "                                              'cpd00151_e0',\n",
      "                                              'cpd00180_e0',\n",
      "                                              'cpd00314_e0',\n",
      "                                              'cpd00218_e0',\n",
      "                                              'cpd00012_e0',\n",
      "                                              'cpd00053_e0',\n",
      "                                              'cpd00119_e0',\n",
      "                                              'cpd00051_e0',\n",
      "                                              'cpd00307_e0',\n",
      "                                              'cpd00137_e0',\n",
      "                                              'cpd00069_e0',\n",
      "                                              'cpd00355_e0',\n",
      "                                              'cpd00264_e0',\n",
      "                                              'cpd00100_e0',\n",
      "                                              'cpd00039_e0',\n",
      "                                              'cpd00065_e0',\n",
      "                                              'cpd00220_e0']}\n"
     ]
    },
    {
     "name": "stderr",
     "output_type": "stream",
     "text": [
      "C:\\Users\\Andrew Freiburger\\AppData\\Local\\Programs\\Python\\Python39\\lib\\site-packages\\cobra\\util\\solver.py:554: UserWarning: Solver status is 'infeasible'.\n",
      "  warn(f\"Solver status is '{status}'.\", UserWarning)\n"
     ]
    },
    {
     "name": "stdout",
     "output_type": "stream",
     "text": [
      "\n",
      "SC score:\t\t\tThe fraction of community members who syntrophically contribute to each species:\n",
      "\n",
      "{'Pantoea_YR343_pacbio_v2.RAST.fbamodel': {'Variovorax_CF313_pacbio_v2.RAST.fbamodel': 0.0},\n",
      " 'Variovorax_CF313_pacbio_v2.RAST.fbamodel': None}\n",
      "\n",
      "smetana score:\n",
      "\n",
      "{'Pantoea_YR343_pacbio_v2.RAST.fbamodel': {'Variovorax_CF313_pacbio_v2.RAST.fbamodel': 59.02000000000001},\n",
      " 'Variovorax_CF313_pacbio_v2.RAST.fbamodel': {'Pantoea_YR343_pacbio_v2.RAST.fbamodel': 46.879999999999995}}\n",
      "The YR343_CF313 pair has been examined after 1.8776041666666667.\n"
     ]
    }
   ],
   "source": [
    "# load the pair\n",
    "CF313 = kbase_api.get_from_ws(\"Variovorax_CF313_pacbio_v2.RAST.fbamodel\",114731)\n",
    "YR343_CF313_models = [YR343, CF313]\n",
    "YR343_CF313_model = kbase_api.get_from_ws(\"YR343-CF313\",114731)\n",
    "                               \n",
    "# test the pair\n",
    "try:\n",
    "    start_time = process_time()\n",
    "    YR343_CF313 = MSSmetana(YR343_CF313_models, YR343_CF313_model)\n",
    "    YR343_CF313.mro_score()\n",
    "    YR343_CF313.mip_score(interacting_media=YR343_CF313.media)\n",
    "    YR343_CF313.mu_score()\n",
    "    YR343_CF313.mp_score()\n",
    "    YR343_CF313.sc_score()\n",
    "    YR343_CF313.smetana_score();\n",
    "    end_time = process_time()\n",
    "\n",
    "    print(f\"The YR343_CF313 pair has been examined after {(end_time-start_time)/60} minutes.\")\n",
    "except ObjectiveError as e:\n",
    "    print(e)"
   ]
  },
  {
   "cell_type": "markdown",
   "id": "bec52dc1-3813-4dd2-b44e-b9ad1aab157b",
   "metadata": {},
   "source": [
    "# test AP49 on BC15 (\"+\")"
   ]
  },
  {
   "cell_type": "code",
   "execution_count": 2,
   "id": "85205662-c911-4461-9211-36bf4e6c4455",
   "metadata": {},
   "outputs": [],
   "source": [
    "AP49 = kbase_api.get_from_ws(\"Sphingobium_AP49_pacbio_v2.RAST.fbamodel\", 114731)\n",
    "BC15 = kbase_api.get_from_ws(\"Bacillus_sp._bc15.RAST.fbamodel\", 114731)\n",
    "AP49_BC15_models = [AP49,BC15]\n",
    "AP49_BC15_model = kbase_api.get_from_ws(\"AP49-BC15\", 114731)\n",
    "\n"
   ]
  },
  {
   "cell_type": "code",
   "execution_count": 3,
   "id": "a60adeb6-5820-4955-afbb-b34c298cbb5f",
   "metadata": {},
   "outputs": [
    {
     "name": "stdout",
     "output_type": "stream",
     "text": [
      "1253\n",
      "1433\n"
     ]
    }
   ],
   "source": [
    "print(len(AP49.reactions))\n",
    "print(len(BC15.reactions))"
   ]
  },
  {
   "cell_type": "code",
   "execution_count": null,
   "id": "1d88e69f-0cc8-4499-bae9-fbe79a0a639d",
   "metadata": {},
   "outputs": [
    {
     "name": "stdout",
     "output_type": "stream",
     "text": [
      "Syntrophic fluxes examined after 0.0 minutes, with 4 change(s): {'dictionary_item_removed': [root['EX_cpd00009_e0'], root['EX_cpd00246_e0'], root['EX_cpd00033_e0']], 'values_changed': {\"root['EX_cpd00184_e0']\": {'new_value': 0.6861761299665835, 'old_value': 0.6861761299665863}}}\n"
     ]
    }
   ],
   "source": [
    "try:\n",
    "    start_time = process_time()\n",
    "    AP49_BC15 = MSSmetana(AP49_BC15_models, AP49_BC15_model)\n",
    "    # AP49_BC15.mro_score()\n",
    "    # AP49_BC15.mip_score(interacting_media=AP49_BC15.media)\n",
    "    # AP49_BC15.mu_score()\n",
    "    # AP49_BC15.mp_score()\n",
    "    # AP49_BC15.sc_score()\n",
    "    # AP49_BC15.smetana_score()\n",
    "    # end_time = process_time()\n",
    "\n",
    "    print(f\"The AP49_BC15 pair has been examined after {(end_time-start_time)/60} minutes.\")\n",
    "except ObjectiveError as e:\n",
    "    print(e)"
   ]
  },
  {
   "cell_type": "markdown",
   "id": "0f3bda29-76c0-41f3-889c-e2ed5bc5649b",
   "metadata": {},
   "source": [
    "# test CF142 on BC15 (\"+\")"
   ]
  },
  {
   "cell_type": "code",
   "execution_count": null,
   "id": "6dfbe8da-b8b8-404d-9669-48684ce56d6a",
   "metadata": {},
   "outputs": [],
   "source": [
    "CF142 = kbase_api.get_from_ws(\"Rhizobium_CF142_pacbio_v2.RAST.fbamodel\", 114731)\n",
    "CF142_BC15_models = [CF142, BC15]\n",
    "CF142_BC15_model = kbase_api.get_from_ws(\"CF142-BC15\", 114731)\n",
    "\n",
    "try:\n",
    "    start_time = process_time()\n",
    "    CF142_BC15 = MSSmetana(CF142_BC15_models, CF142_BC15_model)\n",
    "    CF142_BC15.mro_score()\n",
    "    CF142_BC15.mip_score(interacting_media=CF142_BC15.media)\n",
    "    CF142_BC15.mu_score()\n",
    "    CF142_BC15.mp_score()\n",
    "    CF142_BC15.sc_score()\n",
    "    CF142_BC15.smetana_score()\n",
    "    end_time = process_time()\n",
    "\n",
    "    print(f\"The CF142_BC15 pair has been examined after {(end_time-start_time)/60} minutes.\")\n",
    "except ObjectiveError as e:\n",
    "    print(e)"
   ]
  }
 ],
 "metadata": {
  "kernelspec": {
   "display_name": "Python 3 (ipykernel)",
   "language": "python",
   "name": "python3"
  },
  "language_info": {
   "codemirror_mode": {
    "name": "ipython",
    "version": 3
   },
   "file_extension": ".py",
   "mimetype": "text/x-python",
   "name": "python",
   "nbconvert_exporter": "python",
   "pygments_lexer": "ipython3",
   "version": "3.9.12"
  }
 },
 "nbformat": 4,
 "nbformat_minor": 5
}
