{
 "cells": [
  {
   "cell_type": "markdown",
   "id": "be17384b-a284-468c-a0b0-f0628d0802e6",
   "metadata": {},
   "source": [
    "# Load KBase"
   ]
  },
  {
   "cell_type": "code",
   "execution_count": 1,
   "id": "68a7047b-5da4-479d-85a1-87497aeeb978",
   "metadata": {},
   "outputs": [
    {
     "name": "stdout",
     "output_type": "stream",
     "text": [
      "cobrakbase 0.2.8\n"
     ]
    }
   ],
   "source": [
    "# define the environment path \n",
    "import os\n",
    "local_cobrakbase_path = os.path.join('C:', 'Users', 'Andrew Freiburger','Documents','Argonne','cobrakbase')\n",
    "os.environ[\"HOME\"] = local_cobrakbase_path\n",
    "\n",
    "# import the KBase\n",
    "import cobrakbase\n",
    "# with open(\"/Users/afreiburger/Documents/kbase_token.txt\") as token_file:\n",
    "with open(\"C:/Users/Andrew Freiburger/Documents/Argonne/kbase_token.txt\") as token_file:\n",
    "    kbase_api = cobrakbase.KBaseAPI(token_file.readline())\n",
    "\n",
    "# prevent excessive warnings\n",
    "from time import process_time\n",
    "import warnings\n",
    "warnings.filterwarnings(action='once')\n",
    "%run ../../../modelseedpy/community/mssmetana.py"
   ]
  },
  {
   "cell_type": "code",
   "execution_count": 2,
   "id": "b283a504-0495-4365-8bb0-49ef2ceee010",
   "metadata": {},
   "outputs": [
    {
     "name": "stderr",
     "output_type": "stream",
     "text": [
      "ic| mssmetana.py:42 in _get_media()\n",
      "    media: None\n",
      "    com_model: <FBAModel YR343-CF313 at 0x2473975edf0>\n",
      "    model_s_: [<FBAModel Pantoea_YR343_pacbio_v2.RAST.fbamodel at 0x2474f38ad00>,\n",
      "               <FBAModel Variovorax_CF313_pacbio_v2.RAST.fbamodel at 0x247375fc2e0>]\n",
      "C:\\Users\\Andrew Freiburger\\AppData\\Local\\Programs\\Python\\Python39\\lib\\site-packages\\cobra\\medium\\minimal_medium.py:112: FutureWarning: The default dtype for empty Series will be 'object' instead of 'float64' in a future version. Specify a dtype explicitly to silence this warning.\n",
      "  medium = pd.Series()\n",
      "C:\\Users\\Andrew Freiburger\\AppData\\Local\\Programs\\Python\\Python39\\lib\\site-packages\\cobra\\medium\\minimal_medium.py:112: FutureWarning: The default dtype for empty Series will be 'object' instead of 'float64' in a future version. Specify a dtype explicitly to silence this warning.\n",
      "  medium = pd.Series()\n",
      "C:\\Users\\Andrew Freiburger\\AppData\\Local\\Programs\\Python\\Python39\\lib\\site-packages\\cobra\\medium\\minimal_medium.py:112: FutureWarning: The default dtype for empty Series will be 'object' instead of 'float64' in a future version. Specify a dtype explicitly to silence this warning.\n",
      "  medium = pd.Series()\n"
     ]
    }
   ],
   "source": [
    "YR343 = kbase_api.get_from_ws(\"Pantoea_YR343_pacbio_v2.RAST.fbamodel\", 114731)\n",
    "CF313 = kbase_api.get_from_ws(\"Variovorax_CF313_pacbio_v2.RAST.fbamodel\",114731)\n",
    "YR343_CF313_model = kbase_api.get_from_ws(\"YR343-CF313\",114731)\n",
    "community_media = _get_media(None, YR343_CF313_model, [YR343, CF313])"
   ]
  },
  {
   "cell_type": "code",
   "execution_count": 3,
   "id": "b9dc1d9c-1350-4e62-96b8-0f6987ee4761",
   "metadata": {},
   "outputs": [
    {
     "name": "stderr",
     "output_type": "stream",
     "text": [
      "modelseedpy.community.mscompatibility - WARNING - IDWarning: The original ID cpd00609_e0 is a ModelSEED ID, and may not be desirably changed to cpd00609_e0.\n"
     ]
    },
    {
     "name": "stdout",
     "output_type": "stream",
     "text": [
      "\n",
      "\n",
      "0 reactions were substituted and 1 metabolite IDs were redefined in Pantoea_YR343_pacbio_v2.RAST.fbamodel,Variovorax_CF313_pacbio_v2.RAST.fbamodel by standardize().\n"
     ]
    },
    {
     "name": "stderr",
     "output_type": "stream",
     "text": [
      "ic| mssmetana.py:42 in _get_media()\n",
      "    media: None\n",
      "    com_model: <FBAModel YR343-CF313 at 0x247d08127f0>\n",
      "    model_s_: [<FBAModel Pantoea_YR343_pacbio_v2.RAST.fbamodel at 0x2473bafc2e0>,\n",
      "               <FBAModel Variovorax_CF313_pacbio_v2.RAST.fbamodel at 0x2474f38a1c0>]\n",
      "C:\\Users\\Andrew Freiburger\\AppData\\Local\\Programs\\Python\\Python39\\lib\\site-packages\\cobra\\medium\\minimal_medium.py:112: FutureWarning: The default dtype for empty Series will be 'object' instead of 'float64' in a future version. Specify a dtype explicitly to silence this warning.\n",
      "  medium = pd.Series()\n",
      "C:\\Users\\Andrew Freiburger\\AppData\\Local\\Programs\\Python\\Python39\\lib\\site-packages\\cobra\\medium\\minimal_medium.py:112: FutureWarning: The default dtype for empty Series will be 'object' instead of 'float64' in a future version. Specify a dtype explicitly to silence this warning.\n",
      "  medium = pd.Series()\n",
      "C:\\Users\\Andrew Freiburger\\AppData\\Local\\Programs\\Python\\Python39\\lib\\site-packages\\cobra\\medium\\minimal_medium.py:112: FutureWarning: The default dtype for empty Series will be 'object' instead of 'float64' in a future version. Specify a dtype explicitly to silence this warning.\n",
      "  medium = pd.Series()\n"
     ]
    },
    {
     "name": "stdout",
     "output_type": "stream",
     "text": [
      "<Solution 126.927 at 0x2473abf7580>\n"
     ]
    },
    {
     "name": "stderr",
     "output_type": "stream",
     "text": [
      "modelseedpy.community.mscompatibility - WARNING - IDWarning: The original ID cpd00609_e0 is a ModelSEED ID, and may not be desirably changed to cpd00609_e0.\n"
     ]
    },
    {
     "name": "stdout",
     "output_type": "stream",
     "text": [
      "\n",
      "\n",
      "0 reactions were substituted and 1 metabolite IDs were redefined in YR343-CF313 by standardize().\n"
     ]
    },
    {
     "name": "stderr",
     "output_type": "stream",
     "text": [
      "modelseedpy.core.msminimalmedia - CRITICAL - The reaction EX_cpd00218_e0: cpd00218_e0 <=>  lacks any exchange metabolites, and thus is indicative of an error.\n",
      "modelseedpy.core.msminimalmedia - CRITICAL - The reaction EX_cpd00637_e0: cpd00637_e0 <=>  lacks any exchange metabolites, and thus is indicative of an error.\n",
      "modelseedpy.core.msminimalmedia - CRITICAL - The reaction EX_cpd00132_e0: cpd00132_e0 <=>  lacks any exchange metabolites, and thus is indicative of an error.\n",
      "modelseedpy.core.msminimalmedia - CRITICAL - The reaction EX_cpd11592_e0: cpd11592_e0 <=>  lacks any exchange metabolites, and thus is indicative of an error.\n",
      "modelseedpy.core.msminimalmedia - CRITICAL - The reaction EX_cpd03453_e0: cpd03453_e0 <=>  lacks any exchange metabolites, and thus is indicative of an error.\n",
      "modelseedpy.core.msminimalmedia - CRITICAL - The reaction EX_cpd00130_e0: cpd00130_e0 <=>  lacks any exchange metabolites, and thus is indicative of an error.\n",
      "modelseedpy.core.msminimalmedia - CRITICAL - The reaction EX_cpd00092_e0: cpd00092_e0 <=>  lacks any exchange metabolites, and thus is indicative of an error.\n",
      "modelseedpy.core.msminimalmedia - CRITICAL - The reaction EX_cpd00104_e0: cpd00104_e0 <=>  lacks any exchange metabolites, and thus is indicative of an error.\n",
      "modelseedpy.core.msminimalmedia - CRITICAL - The reaction EX_cpd00176_e0: cpd00176_e0 <=>  lacks any exchange metabolites, and thus is indicative of an error.\n",
      "modelseedpy.core.msminimalmedia - CRITICAL - The reaction EX_cpd00098_e0: cpd00098_e0 <=>  lacks any exchange metabolites, and thus is indicative of an error.\n",
      "modelseedpy.core.msminimalmedia - CRITICAL - The reaction EX_cpd00151_e0: cpd00151_e0 <=>  lacks any exchange metabolites, and thus is indicative of an error.\n",
      "modelseedpy.core.msminimalmedia - CRITICAL - The reaction EX_cpd00393_e0: cpd00393_e0 <=>  lacks any exchange metabolites, and thus is indicative of an error.\n",
      "modelseedpy.core.msminimalmedia - CRITICAL - The reaction EX_cpd00084_e0: cpd00084_e0 <=>  lacks any exchange metabolites, and thus is indicative of an error.\n",
      "modelseedpy.core.msminimalmedia - CRITICAL - The reaction EX_cpd03726_e0: cpd03726_e0 <=>  lacks any exchange metabolites, and thus is indicative of an error.\n",
      "modelseedpy.core.msminimalmedia - CRITICAL - The reaction EX_cpd00154_e0: cpd00154_e0 <=>  lacks any exchange metabolites, and thus is indicative of an error.\n",
      "modelseedpy.core.msminimalmedia - CRITICAL - The reaction EX_cpd00550_e0: cpd00550_e0 <=>  lacks any exchange metabolites, and thus is indicative of an error.\n",
      "modelseedpy.core.msminimalmedia - CRITICAL - The reaction EX_cpd11580_e0: cpd11580_e0 <=>  lacks any exchange metabolites, and thus is indicative of an error.\n",
      "modelseedpy.core.msminimalmedia - CRITICAL - The reaction EX_cpd11584_e0: cpd11584_e0 <=>  lacks any exchange metabolites, and thus is indicative of an error.\n",
      "modelseedpy.core.msminimalmedia - CRITICAL - The reaction EX_cpd11587_e0: cpd11587_e0 <=>  lacks any exchange metabolites, and thus is indicative of an error.\n",
      "modelseedpy.core.msminimalmedia - CRITICAL - The reaction EX_cpd00381_e0: cpd00381_e0 <=>  lacks any exchange metabolites, and thus is indicative of an error.\n",
      "modelseedpy.core.msminimalmedia - CRITICAL - The reaction EX_cpd00164_e0: cpd00164_e0 <=>  lacks any exchange metabolites, and thus is indicative of an error.\n",
      "modelseedpy.core.msminimalmedia - CRITICAL - The reaction EX_cpd03847_e0: cpd03847_e0 <=>  lacks any exchange metabolites, and thus is indicative of an error.\n",
      "modelseedpy.core.msminimalmedia - CRITICAL - The reaction EX_cpd00117_e0: cpd00117_e0 <=>  lacks any exchange metabolites, and thus is indicative of an error.\n",
      "modelseedpy.core.msminimalmedia - CRITICAL - The reaction EX_cpd00214_e0: cpd00214_e0 <=>  lacks any exchange metabolites, and thus is indicative of an error.\n",
      "modelseedpy.core.msminimalmedia - CRITICAL - The reaction EX_cpd11581_e0: cpd11581_e0 <=>  lacks any exchange metabolites, and thus is indicative of an error.\n",
      "modelseedpy.core.msminimalmedia - CRITICAL - The reaction EX_cpd00573_e0: cpd00573_e0 <=>  lacks any exchange metabolites, and thus is indicative of an error.\n",
      "modelseedpy.core.msminimalmedia - CRITICAL - The reaction EX_cpd00129_e0: cpd00129_e0 <=>  lacks any exchange metabolites, and thus is indicative of an error.\n",
      "modelseedpy.core.msminimalmedia - CRITICAL - The reaction EX_cpd00162_e0: cpd00162_e0 <=>  lacks any exchange metabolites, and thus is indicative of an error.\n",
      "modelseedpy.core.msminimalmedia - CRITICAL - The reaction EX_cpd00105_e0: cpd00105_e0 <=>  lacks any exchange metabolites, and thus is indicative of an error.\n",
      "modelseedpy.core.msminimalmedia - CRITICAL - The reaction EX_cpd00011_e0: cpd00011_e0 <=>  lacks any exchange metabolites, and thus is indicative of an error.\n",
      "modelseedpy.core.msminimalmedia - CRITICAL - The reaction EX_cpd00215_e0: cpd00215_e0 <=>  lacks any exchange metabolites, and thus is indicative of an error.\n",
      "modelseedpy.core.msminimalmedia - CRITICAL - The reaction EX_cpd11582_e0: cpd11582_e0 <=>  lacks any exchange metabolites, and thus is indicative of an error.\n",
      "modelseedpy.core.msminimalmedia - CRITICAL - The reaction EX_cpd00222_e0: cpd00222_e0 <=>  lacks any exchange metabolites, and thus is indicative of an error.\n",
      "modelseedpy.core.msminimalmedia - CRITICAL - The reaction EX_cpd00023_e0: cpd00023_e0 <=>  lacks any exchange metabolites, and thus is indicative of an error.\n",
      "modelseedpy.core.msminimalmedia - CRITICAL - The reaction EX_cpd00064_e0: cpd00064_e0 <=>  lacks any exchange metabolites, and thus is indicative of an error.\n",
      "modelseedpy.core.msminimalmedia - CRITICAL - The reaction EX_cpd00039_e0: cpd00039_e0 <=>  lacks any exchange metabolites, and thus is indicative of an error.\n",
      "modelseedpy.core.msminimalmedia - CRITICAL - The reaction EX_cpd00012_e0: cpd00012_e0 <=>  lacks any exchange metabolites, and thus is indicative of an error.\n",
      "modelseedpy.core.msminimalmedia - CRITICAL - The reaction EX_cpd00041_e0: cpd00041_e0 <=>  lacks any exchange metabolites, and thus is indicative of an error.\n",
      "modelseedpy.core.msminimalmedia - CRITICAL - The reaction EX_cpd00108_e0: cpd00108_e0 <=>  lacks any exchange metabolites, and thus is indicative of an error.\n",
      "modelseedpy.core.msminimalmedia - CRITICAL - The reaction EX_cpd00254_e0: cpd00254_e0 <=>  lacks any exchange metabolites, and thus is indicative of an error.\n",
      "modelseedpy.core.msminimalmedia - CRITICAL - The reaction EX_cpd00264_e0: cpd00264_e0 <=>  lacks any exchange metabolites, and thus is indicative of an error.\n",
      "modelseedpy.core.msminimalmedia - CRITICAL - The reaction EX_cpd00069_e0: cpd00069_e0 <=>  lacks any exchange metabolites, and thus is indicative of an error.\n",
      "modelseedpy.core.msminimalmedia - CRITICAL - The reaction EX_cpd00034_e0: cpd00034_e0 <=>  lacks any exchange metabolites, and thus is indicative of an error.\n",
      "modelseedpy.core.msminimalmedia - CRITICAL - The reaction EX_cpd10516_e0: cpd10516_e0 <=>  lacks any exchange metabolites, and thus is indicative of an error.\n",
      "modelseedpy.core.msminimalmedia - CRITICAL - The reaction EX_cpd03696_e0: cpd03696_e0 <=>  lacks any exchange metabolites, and thus is indicative of an error.\n",
      "modelseedpy.core.msminimalmedia - CRITICAL - The reaction EX_cpd00161_e0: cpd00161_e0 <=>  lacks any exchange metabolites, and thus is indicative of an error.\n",
      "modelseedpy.core.msminimalmedia - CRITICAL - The reaction EX_cpd00158_e0: cpd00158_e0 <=>  lacks any exchange metabolites, and thus is indicative of an error.\n",
      "modelseedpy.core.msminimalmedia - CRITICAL - The reaction EX_cpd00100_e0: cpd00100_e0 <=>  lacks any exchange metabolites, and thus is indicative of an error.\n",
      "modelseedpy.core.msminimalmedia - CRITICAL - The reaction EX_cpd08023_e0: cpd08023_e0 <=>  lacks any exchange metabolites, and thus is indicative of an error.\n",
      "modelseedpy.core.msminimalmedia - CRITICAL - The reaction EX_cpd00793_e0: cpd00793_e0 <=>  lacks any exchange metabolites, and thus is indicative of an error.\n",
      "modelseedpy.core.msminimalmedia - CRITICAL - The reaction EX_cpd01329_e0: cpd01329_e0 <=>  lacks any exchange metabolites, and thus is indicative of an error.\n",
      "modelseedpy.core.msminimalmedia - CRITICAL - The reaction EX_cpd00180_e0: cpd00180_e0 <=>  lacks any exchange metabolites, and thus is indicative of an error.\n",
      "modelseedpy.core.msminimalmedia - CRITICAL - The reaction EX_cpd00030_e0: cpd00030_e0 <=>  lacks any exchange metabolites, and thus is indicative of an error.\n",
      "modelseedpy.core.msminimalmedia - CRITICAL - The reaction EX_cpd00128_e0: cpd00128_e0 <=>  lacks any exchange metabolites, and thus is indicative of an error.\n",
      "modelseedpy.core.msminimalmedia - CRITICAL - The reaction EX_cpd00235_e0: cpd00235_e0 <=>  lacks any exchange metabolites, and thus is indicative of an error.\n",
      "modelseedpy.core.msminimalmedia - CRITICAL - The reaction EX_cpd11578_e0: cpd11578_e0 <=>  lacks any exchange metabolites, and thus is indicative of an error.\n",
      "modelseedpy.core.msminimalmedia - CRITICAL - The reaction EX_cpd00118_e0: cpd00118_e0 <=>  lacks any exchange metabolites, and thus is indicative of an error.\n",
      "modelseedpy.core.msminimalmedia - CRITICAL - The reaction EX_cpd00007_e0: cpd00007_e0 <=>  lacks any exchange metabolites, and thus is indicative of an error.\n",
      "modelseedpy.core.msminimalmedia - CRITICAL - The reaction EX_cpd00224_e0: cpd00224_e0 <=>  lacks any exchange metabolites, and thus is indicative of an error.\n",
      "modelseedpy.core.msminimalmedia - CRITICAL - The reaction EX_cpd00396_e0: cpd00396_e0 <=>  lacks any exchange metabolites, and thus is indicative of an error.\n",
      "modelseedpy.core.msminimalmedia - CRITICAL - The reaction EX_cpd00119_e0: cpd00119_e0 <=>  lacks any exchange metabolites, and thus is indicative of an error.\n",
      "modelseedpy.core.msminimalmedia - CRITICAL - The reaction EX_cpd00971_e0: cpd00971_e0 <=>  lacks any exchange metabolites, and thus is indicative of an error.\n",
      "modelseedpy.core.msminimalmedia - CRITICAL - The reaction EX_cpd00226_e0: cpd00226_e0 <=>  lacks any exchange metabolites, and thus is indicative of an error.\n",
      "modelseedpy.core.msminimalmedia - CRITICAL - The reaction EX_cpd00395_e0: cpd00395_e0 <=>  lacks any exchange metabolites, and thus is indicative of an error.\n",
      "modelseedpy.core.msminimalmedia - CRITICAL - The reaction EX_cpd00210_e0: cpd00210_e0 <=>  lacks any exchange metabolites, and thus is indicative of an error.\n",
      "modelseedpy.core.msminimalmedia - CRITICAL - The reaction EX_cpd00138_e0: cpd00138_e0 <=>  lacks any exchange metabolites, and thus is indicative of an error.\n",
      "modelseedpy.core.msminimalmedia - CRITICAL - The reaction EX_cpd11579_e0: cpd11579_e0 <=>  lacks any exchange metabolites, and thus is indicative of an error.\n",
      "modelseedpy.core.msminimalmedia - CRITICAL - The reaction EX_cpd00059_e0: cpd00059_e0 <=>  lacks any exchange metabolites, and thus is indicative of an error.\n",
      "modelseedpy.core.msminimalmedia - CRITICAL - The reaction EX_cpd04097_e0: cpd04097_e0 <=>  lacks any exchange metabolites, and thus is indicative of an error.\n",
      "modelseedpy.core.msminimalmedia - CRITICAL - The reaction EX_cpd00082_e0: cpd00082_e0 <=>  lacks any exchange metabolites, and thus is indicative of an error.\n",
      "modelseedpy.core.msminimalmedia - CRITICAL - The reaction EX_cpd00531_e0: cpd00531_e0 <=>  lacks any exchange metabolites, and thus is indicative of an error.\n",
      "modelseedpy.core.msminimalmedia - CRITICAL - The reaction EX_cpd00156_e0: cpd00156_e0 <=>  lacks any exchange metabolites, and thus is indicative of an error.\n",
      "modelseedpy.core.msminimalmedia - CRITICAL - The reaction EX_cpd11591_e0: cpd11591_e0 <=>  lacks any exchange metabolites, and thus is indicative of an error.\n",
      "modelseedpy.core.msminimalmedia - CRITICAL - The reaction EX_cpd00099_e0: cpd00099_e0 <=>  lacks any exchange metabolites, and thus is indicative of an error.\n",
      "modelseedpy.core.msminimalmedia - CRITICAL - The reaction EX_cpd04098_e0: cpd04098_e0 <=>  lacks any exchange metabolites, and thus is indicative of an error.\n",
      "modelseedpy.core.msminimalmedia - CRITICAL - The reaction EX_cpd00051_e0: cpd00051_e0 <=>  lacks any exchange metabolites, and thus is indicative of an error.\n",
      "modelseedpy.core.msminimalmedia - CRITICAL - The reaction EX_cpd00066_e0: cpd00066_e0 <=>  lacks any exchange metabolites, and thus is indicative of an error.\n",
      "modelseedpy.core.msminimalmedia - CRITICAL - The reaction EX_cpd11586_e0: cpd11586_e0 <=>  lacks any exchange metabolites, and thus is indicative of an error.\n",
      "modelseedpy.core.msminimalmedia - CRITICAL - The reaction EX_cpd15603_e0: cpd15603_e0 <=>  lacks any exchange metabolites, and thus is indicative of an error.\n",
      "modelseedpy.core.msminimalmedia - CRITICAL - The reaction EX_cpd01015_e0: cpd01015_e0 <=>  lacks any exchange metabolites, and thus is indicative of an error.\n",
      "modelseedpy.core.msminimalmedia - CRITICAL - The reaction EX_cpd15574_e0: cpd15574_e0 <=>  lacks any exchange metabolites, and thus is indicative of an error.\n",
      "modelseedpy.core.msminimalmedia - CRITICAL - The reaction EX_cpd00305_e0: cpd00305_e0 <=>  lacks any exchange metabolites, and thus is indicative of an error.\n",
      "modelseedpy.core.msminimalmedia - CRITICAL - The reaction EX_cpd00073_e0: cpd00073_e0 <=>  lacks any exchange metabolites, and thus is indicative of an error.\n",
      "modelseedpy.core.msminimalmedia - CRITICAL - The reaction EX_cpd00137_e0: cpd00137_e0 <=>  lacks any exchange metabolites, and thus is indicative of an error.\n",
      "modelseedpy.core.msminimalmedia - CRITICAL - The reaction EX_cpd00322_e0: cpd00322_e0 <=>  lacks any exchange metabolites, and thus is indicative of an error.\n",
      "modelseedpy.core.msminimalmedia - CRITICAL - The reaction EX_cpd00751_e0: cpd00751_e0 <=>  lacks any exchange metabolites, and thus is indicative of an error.\n",
      "modelseedpy.core.msminimalmedia - CRITICAL - The reaction EX_cpd00220_e0: cpd00220_e0 <=>  lacks any exchange metabolites, and thus is indicative of an error.\n",
      "modelseedpy.core.msminimalmedia - CRITICAL - The reaction EX_cpd00060_e0: cpd00060_e0 <=>  lacks any exchange metabolites, and thus is indicative of an error.\n",
      "modelseedpy.core.msminimalmedia - CRITICAL - The reaction EX_cpd00355_e0: cpd00355_e0 <=>  lacks any exchange metabolites, and thus is indicative of an error.\n",
      "modelseedpy.core.msminimalmedia - CRITICAL - The reaction EX_cpd00280_e0: cpd00280_e0 <=>  lacks any exchange metabolites, and thus is indicative of an error.\n",
      "modelseedpy.core.msminimalmedia - CRITICAL - The reaction EX_cpd00053_e0: cpd00053_e0 <=>  lacks any exchange metabolites, and thus is indicative of an error.\n",
      "modelseedpy.core.msminimalmedia - CRITICAL - The reaction EX_cpd11590_e0: cpd11590_e0 <=>  lacks any exchange metabolites, and thus is indicative of an error.\n",
      "modelseedpy.core.msminimalmedia - CRITICAL - The reaction EX_cpd00017_e0: cpd00017_e0 <=>  lacks any exchange metabolites, and thus is indicative of an error.\n",
      "modelseedpy.core.msminimalmedia - CRITICAL - The reaction EX_cpd00013_e0: cpd00013_e0 <=>  lacks any exchange metabolites, and thus is indicative of an error.\n",
      "modelseedpy.core.msminimalmedia - CRITICAL - The reaction EX_cpd00079_e0: cpd00079_e0 <=>  lacks any exchange metabolites, and thus is indicative of an error.\n",
      "modelseedpy.core.msminimalmedia - CRITICAL - The reaction EX_cpd03048_e0: cpd03048_e0 <=>  lacks any exchange metabolites, and thus is indicative of an error.\n",
      "modelseedpy.core.msminimalmedia - CRITICAL - The reaction EX_cpd11596_e0: cpd11596_e0 <=>  lacks any exchange metabolites, and thus is indicative of an error.\n",
      "modelseedpy.core.msminimalmedia - CRITICAL - The reaction EX_cpd00106_e0: cpd00106_e0 <=>  lacks any exchange metabolites, and thus is indicative of an error.\n",
      "modelseedpy.core.msminimalmedia - CRITICAL - The reaction EX_cpd00794_e0: cpd00794_e0 <=>  lacks any exchange metabolites, and thus is indicative of an error.\n",
      "modelseedpy.core.msminimalmedia - CRITICAL - The reaction EX_cpd00540_e0: cpd00540_e0 <=>  lacks any exchange metabolites, and thus is indicative of an error.\n",
      "modelseedpy.core.msminimalmedia - CRITICAL - The reaction EX_cpd00635_e0: cpd00635_e0 <=>  lacks any exchange metabolites, and thus is indicative of an error.\n",
      "modelseedpy.core.msminimalmedia - CRITICAL - The reaction EX_cpd15605_e0: cpd15605_e0 <=>  lacks any exchange metabolites, and thus is indicative of an error.\n",
      "modelseedpy.core.msminimalmedia - CRITICAL - The reaction EX_cpd01017_e0: cpd01017_e0 <=>  lacks any exchange metabolites, and thus is indicative of an error.\n",
      "modelseedpy.core.msminimalmedia - CRITICAL - The reaction EX_cpd15560_e0: cpd15560_e0 <=>  lacks any exchange metabolites, and thus is indicative of an error.\n",
      "modelseedpy.core.msminimalmedia - CRITICAL - The reaction EX_cpd10515_e0: cpd10515_e0 <=>  lacks any exchange metabolites, and thus is indicative of an error.\n",
      "modelseedpy.core.msminimalmedia - CRITICAL - The reaction EX_cpd00122_e0: cpd00122_e0 <=>  lacks any exchange metabolites, and thus is indicative of an error.\n",
      "modelseedpy.core.msminimalmedia - CRITICAL - The reaction EX_cpd00001_e0: cpd00001_e0 <=>  lacks any exchange metabolites, and thus is indicative of an error.\n",
      "modelseedpy.core.msminimalmedia - CRITICAL - The reaction EX_cpd00166_e0: cpd00166_e0 <=>  lacks any exchange metabolites, and thus is indicative of an error.\n",
      "modelseedpy.core.msminimalmedia - CRITICAL - The reaction EX_cpd00058_e0: cpd00058_e0 <=>  lacks any exchange metabolites, and thus is indicative of an error.\n",
      "modelseedpy.core.msminimalmedia - CRITICAL - The reaction EX_cpd00042_e0: cpd00042_e0 <=>  lacks any exchange metabolites, and thus is indicative of an error.\n",
      "modelseedpy.core.msminimalmedia - CRITICAL - The reaction EX_cpd00731_e0: cpd00731_e0 <=>  lacks any exchange metabolites, and thus is indicative of an error.\n",
      "modelseedpy.core.msminimalmedia - CRITICAL - The reaction EX_cpd00179_e0: cpd00179_e0 <=>  lacks any exchange metabolites, and thus is indicative of an error.\n",
      "modelseedpy.core.msminimalmedia - CRITICAL - The reaction EX_cpd00644_e0: cpd00644_e0 <=>  lacks any exchange metabolites, and thus is indicative of an error.\n",
      "modelseedpy.core.msminimalmedia - CRITICAL - The reaction EX_cpd00363_e0: cpd00363_e0 <=>  lacks any exchange metabolites, and thus is indicative of an error.\n",
      "modelseedpy.core.msminimalmedia - CRITICAL - The reaction EX_cpd00076_e0: cpd00076_e0 <=>  lacks any exchange metabolites, and thus is indicative of an error.\n",
      "modelseedpy.core.msminimalmedia - CRITICAL - The reaction EX_cpd01757_e0: cpd01757_e0 <=>  lacks any exchange metabolites, and thus is indicative of an error.\n",
      "modelseedpy.core.msminimalmedia - CRITICAL - The reaction EX_cpd00136_e0: cpd00136_e0 <=>  lacks any exchange metabolites, and thus is indicative of an error.\n",
      "modelseedpy.core.msminimalmedia - CRITICAL - The reaction EX_cpd11583_e0: cpd11583_e0 <=>  lacks any exchange metabolites, and thus is indicative of an error.\n",
      "modelseedpy.core.msminimalmedia - CRITICAL - The reaction EX_cpd01030_e0: cpd01030_e0 <=>  lacks any exchange metabolites, and thus is indicative of an error.\n",
      "modelseedpy.core.msminimalmedia - CRITICAL - The reaction EX_cpd00588_e0: cpd00588_e0 <=>  lacks any exchange metabolites, and thus is indicative of an error.\n",
      "modelseedpy.core.msminimalmedia - CRITICAL - The reaction EX_cpd01092_e0: cpd01092_e0 <=>  lacks any exchange metabolites, and thus is indicative of an error.\n",
      "modelseedpy.core.msminimalmedia - CRITICAL - The reaction EX_cpd00028_e0: cpd00028_e0 <=>  lacks any exchange metabolites, and thus is indicative of an error.\n",
      "modelseedpy.core.msminimalmedia - CRITICAL - The reaction EX_cpd01912_e0: cpd01912_e0 <=>  lacks any exchange metabolites, and thus is indicative of an error.\n",
      "modelseedpy.core.msminimalmedia - CRITICAL - The reaction EX_cpd00065_e0: cpd00065_e0 <=>  lacks any exchange metabolites, and thus is indicative of an error.\n",
      "modelseedpy.core.msminimalmedia - CRITICAL - The reaction EX_cpd00080_e0: cpd00080_e0 <=>  lacks any exchange metabolites, and thus is indicative of an error.\n",
      "modelseedpy.core.msminimalmedia - CRITICAL - The reaction EX_cpd00121_e0: cpd00121_e0 <=>  lacks any exchange metabolites, and thus is indicative of an error.\n",
      "modelseedpy.core.msminimalmedia - CRITICAL - The reaction EX_cpd01012_e0: cpd01012_e0 <=>  lacks any exchange metabolites, and thus is indicative of an error.\n",
      "modelseedpy.core.msminimalmedia - CRITICAL - The reaction EX_cpd11576_e0: cpd11576_e0 <=>  lacks any exchange metabolites, and thus is indicative of an error.\n",
      "modelseedpy.core.msminimalmedia - CRITICAL - The reaction EX_cpd00029_e0: cpd00029_e0 <=>  lacks any exchange metabolites, and thus is indicative of an error.\n",
      "modelseedpy.core.msminimalmedia - CRITICAL - The reaction EX_cpd00033_e0: cpd00033_e0 <=>  lacks any exchange metabolites, and thus is indicative of an error.\n",
      "modelseedpy.core.msminimalmedia - CRITICAL - The reaction EX_cpd00063_e0: cpd00063_e0 <=>  lacks any exchange metabolites, and thus is indicative of an error.\n",
      "modelseedpy.core.msminimalmedia - CRITICAL - The reaction EX_cpd11588_e0: cpd11588_e0 <=>  lacks any exchange metabolites, and thus is indicative of an error.\n",
      "modelseedpy.core.msminimalmedia - CRITICAL - The reaction EX_cpd03724_e0: cpd03724_e0 <=>  lacks any exchange metabolites, and thus is indicative of an error.\n",
      "modelseedpy.core.msminimalmedia - CRITICAL - The reaction EX_cpd00116_e0: cpd00116_e0 <=>  lacks any exchange metabolites, and thus is indicative of an error.\n",
      "modelseedpy.core.msminimalmedia - CRITICAL - The reaction EX_cpd00035_e0: cpd00035_e0 <=>  lacks any exchange metabolites, and thus is indicative of an error.\n",
      "modelseedpy.core.msminimalmedia - CRITICAL - The reaction EX_cpd00009_e0: cpd00009_e0 <=>  lacks any exchange metabolites, and thus is indicative of an error.\n",
      "modelseedpy.core.msminimalmedia - CRITICAL - The reaction EX_cpd00209_e0: cpd00209_e0 <=>  lacks any exchange metabolites, and thus is indicative of an error.\n",
      "modelseedpy.core.msminimalmedia - CRITICAL - The reaction EX_cpd09878_e0: cpd09878_e0 <=>  lacks any exchange metabolites, and thus is indicative of an error.\n",
      "modelseedpy.core.msminimalmedia - CRITICAL - The reaction EX_cpd15561_e0: cpd15561_e0 <=>  lacks any exchange metabolites, and thus is indicative of an error.\n",
      "modelseedpy.core.msminimalmedia - CRITICAL - The reaction EX_cpd00244_e0: cpd00244_e0 <=>  lacks any exchange metabolites, and thus is indicative of an error.\n",
      "modelseedpy.core.msminimalmedia - CRITICAL - The reaction EX_cpd11575_e0: cpd11575_e0 <=>  lacks any exchange metabolites, and thus is indicative of an error.\n",
      "modelseedpy.core.msminimalmedia - CRITICAL - The reaction EX_cpd00386_e0: cpd00386_e0 <=>  lacks any exchange metabolites, and thus is indicative of an error.\n",
      "modelseedpy.core.msminimalmedia - CRITICAL - The reaction EX_cpd01080_e0: cpd01080_e0 <=>  lacks any exchange metabolites, and thus is indicative of an error.\n",
      "modelseedpy.core.msminimalmedia - CRITICAL - The reaction EX_cpd00309_e0: cpd00309_e0 <=>  lacks any exchange metabolites, and thus is indicative of an error.\n",
      "modelseedpy.core.msminimalmedia - CRITICAL - The reaction EX_cpd11593_e0: cpd11593_e0 <=>  lacks any exchange metabolites, and thus is indicative of an error.\n",
      "modelseedpy.core.msminimalmedia - CRITICAL - The reaction EX_cpd01914_e0: cpd01914_e0 <=>  lacks any exchange metabolites, and thus is indicative of an error.\n",
      "modelseedpy.core.msminimalmedia - CRITICAL - The reaction EX_cpd00054_e0: cpd00054_e0 <=>  lacks any exchange metabolites, and thus is indicative of an error.\n",
      "modelseedpy.core.msminimalmedia - CRITICAL - The reaction EX_cpd03343_e0: cpd03343_e0 <=>  lacks any exchange metabolites, and thus is indicative of an error.\n",
      "modelseedpy.core.msminimalmedia - CRITICAL - The reaction EX_cpd01262_e0: cpd01262_e0 <=>  lacks any exchange metabolites, and thus is indicative of an error.\n",
      "modelseedpy.core.msminimalmedia - CRITICAL - The reaction EX_cpd11585_e0: cpd11585_e0 <=>  lacks any exchange metabolites, and thus is indicative of an error.\n",
      "modelseedpy.core.msminimalmedia - CRITICAL - The reaction EX_cpd00067_e0: cpd00067_e0 <=>  lacks any exchange metabolites, and thus is indicative of an error.\n",
      "modelseedpy.core.msminimalmedia - CRITICAL - The reaction EX_cpd03424_e0: cpd03424_e0 <=>  lacks any exchange metabolites, and thus is indicative of an error.\n",
      "modelseedpy.core.msminimalmedia - CRITICAL - The reaction EX_cpd11589_e0: cpd11589_e0 <=>  lacks any exchange metabolites, and thus is indicative of an error.\n",
      "modelseedpy.core.msminimalmedia - CRITICAL - The reaction EX_cpd00149_e0: cpd00149_e0 <=>  lacks any exchange metabolites, and thus is indicative of an error.\n",
      "modelseedpy.core.msminimalmedia - CRITICAL - The reaction EX_cpd00048_e0: cpd00048_e0 <=>  lacks any exchange metabolites, and thus is indicative of an error.\n",
      "modelseedpy.core.msminimalmedia - CRITICAL - The reaction EX_cpd00268_e0: cpd00268_e0 <=>  lacks any exchange metabolites, and thus is indicative of an error.\n",
      "modelseedpy.core.msminimalmedia - CRITICAL - The reaction EX_cpd00205_e0: cpd00205_e0 <=>  lacks any exchange metabolites, and thus is indicative of an error.\n",
      "modelseedpy.core.msminimalmedia - CRITICAL - The reaction EX_cpd15604_e0: cpd15604_e0 <=>  lacks any exchange metabolites, and thus is indicative of an error.\n",
      "modelseedpy.core.msminimalmedia - CRITICAL - The reaction EX_cpd00036_e0: cpd00036_e0 <=>  lacks any exchange metabolites, and thus is indicative of an error.\n",
      "modelseedpy.core.msminimalmedia - CRITICAL - The reaction EX_cpd00159_e0: cpd00159_e0 <=>  lacks any exchange metabolites, and thus is indicative of an error.\n",
      "modelseedpy.core.msminimalmedia - CRITICAL - The reaction EX_cpd00107_e0: cpd00107_e0 <=>  lacks any exchange metabolites, and thus is indicative of an error.\n",
      "modelseedpy.core.msminimalmedia - CRITICAL - The reaction EX_cpd03725_e0: cpd03725_e0 <=>  lacks any exchange metabolites, and thus is indicative of an error.\n",
      "modelseedpy.core.msminimalmedia - CRITICAL - The reaction EX_cpd00307_e0: cpd00307_e0 <=>  lacks any exchange metabolites, and thus is indicative of an error.\n",
      "modelseedpy.core.msminimalmedia - CRITICAL - The reaction EX_cpd15606_e0: cpd15606_e0 <=>  lacks any exchange metabolites, and thus is indicative of an error.\n",
      "modelseedpy.core.msminimalmedia - CRITICAL - The reaction EX_cpd04099_e0: cpd04099_e0 <=>  lacks any exchange metabolites, and thus is indicative of an error.\n",
      "modelseedpy.core.msminimalmedia - CRITICAL - The reaction EX_cpd00047_e0: cpd00047_e0 <=>  lacks any exchange metabolites, and thus is indicative of an error.\n",
      "modelseedpy.core.msminimalmedia - CRITICAL - The reaction EX_cpd00653_e0: cpd00653_e0 <=>  lacks any exchange metabolites, and thus is indicative of an error.\n",
      "modelseedpy.core.msminimalmedia - CRITICAL - The reaction EX_cpd00027_e0: cpd00027_e0 <=>  lacks any exchange metabolites, and thus is indicative of an error.\n",
      "modelseedpy.core.msminimalmedia - CRITICAL - The reaction EX_cpd00654_e0: cpd00654_e0 <=>  lacks any exchange metabolites, and thus is indicative of an error.\n",
      "modelseedpy.core.msminimalmedia - CRITICAL - The reaction EX_cpd00075_e0: cpd00075_e0 <=>  lacks any exchange metabolites, and thus is indicative of an error.\n",
      "modelseedpy.core.msminimalmedia - CRITICAL - The reaction EX_cpd01171_e0: cpd01171_e0 <=>  lacks any exchange metabolites, and thus is indicative of an error.\n",
      "modelseedpy.core.msminimalmedia - CRITICAL - The reaction EX_cpd00314_e0: cpd00314_e0 <=>  lacks any exchange metabolites, and thus is indicative of an error.\n",
      "modelseedpy.core.msminimalmedia - CRITICAL - The reaction EX_cpd00281_e0: cpd00281_e0 <=>  lacks any exchange metabolites, and thus is indicative of an error.\n",
      "modelseedpy.core.msminimalmedia - CRITICAL - The reaction EX_cpd02233_e0: cpd02233_e0 <=>  lacks any exchange metabolites, and thus is indicative of an error.\n",
      "modelseedpy.core.msminimalmedia - CRITICAL - The reaction EX_cpd00276_e0: cpd00276_e0 <=>  lacks any exchange metabolites, and thus is indicative of an error.\n",
      "modelseedpy.core.msminimalmedia - CRITICAL - The reaction EX_cpd00571_e0: cpd00571_e0 <=>  lacks any exchange metabolites, and thus is indicative of an error.\n",
      "modelseedpy.core.msminimalmedia - CRITICAL - The reaction EX_cpd00024_e0: cpd00024_e0 <=>  lacks any exchange metabolites, and thus is indicative of an error.\n"
     ]
    },
    {
     "name": "stdout",
     "output_type": "stream",
     "text": [
      "The minimal flux media consists of 55 compounds and a 14843.763431030922 total influx, with a growth value of 126.92719851100398\n",
      "\n",
      "\n",
      "\n",
      "Standardize exchange reactions in Pantoea_YR343_pacbio_v2.RAST.fbamodel \n",
      " ==========================================================================\n",
      "The exchange  metabolite ID's of the model Pantoea_YR343_pacbio_v2.RAST.fbamodel are completely standardized to ModelSEED.\n"
     ]
    },
    {
     "name": "stderr",
     "output_type": "stream",
     "text": [
      "ic| mssmetana.py:297 in mp()\n",
      "    org_possible_contributions: [<Reaction EX_cpd00218_e0 at 0x249c7dee940>,\n",
      "                                 <Reaction EX_cpd00637_e0 at 0x249c7deea90>,\n",
      "                                 <Reaction EX_cpd11592_e0 at 0x249c7deebb0>,\n",
      "                                 <Reaction EX_cpd03453_e0 at 0x249c7deec40>,\n",
      "                                 <Reaction EX_cpd00130_e0 at 0x249c7deecd0>,\n",
      "                                 <Reaction EX_cpd00092_e0 at 0x249c7deed60>,\n",
      "                                 <Reaction EX_cpd00176_e0 at 0x249c7deee80>,\n",
      "                                 <Reaction EX_cpd00098_e0 at 0x249c7deef10>,\n",
      "                                 <Reaction EX_cpd00151_e0 at 0x249c7deefa0>,\n",
      "                                 <Reaction EX_cpd03726_e0 at 0x249ccc61190>,\n",
      "                                 <Reaction EX_cpd00154_e0 at 0x249ccc61220>,\n",
      "                                 <Reaction EX_cpd00550_e0 at 0x249ccc612b0>,\n",
      "                                 <Reaction EX_cpd11580_e0 at 0x249ccc61340>,\n",
      "                                 <Reaction EX_cpd11584_e0 at 0x249ccc613d0>,\n",
      "                                 <Reaction EX_cpd11587_e0 at 0x249ccc61460>,\n",
      "                                 <Reaction EX_cpd00381_e0 at 0x249ccc614f0>,\n",
      "                                 <Reaction EX_cpd00164_e0 at 0x249ccc61580>,\n",
      "                                 <Reaction EX_cpd00117_e0 at 0x249ccc616a0>,\n",
      "                                 <Reaction EX_cpd00214_e0 at 0x249ccc61730>,\n",
      "                                 <Reaction EX_cpd11581_e0 at 0x249ccc617c0>,\n",
      "                                 <Reaction EX_cpd00573_e0 at 0x249ccc61850>,\n",
      "                                 <Reaction EX_cpd00129_e0 at 0x249ccc618e0>,\n",
      "                                 <Reaction EX_cpd00105_e0 at 0x249ccc61a00>,\n",
      "                                 <Reaction EX_cpd00011_e0 at 0x249ccc61a90>,\n",
      "                                 <Reaction EX_cpd11582_e0 at 0x249ccc61bb0>,\n",
      "                                 <Reaction EX_cpd00222_e0 at 0x249ccc61c40>,\n",
      "                                 <Reaction EX_cpd00064_e0 at 0x249ccc61d60>,\n",
      "                                 <Reaction EX_cpd00012_e0 at 0x249ccc61e80>,\n",
      "                                 <Reaction EX_cpd00041_e0 at 0x249ccc61f10>,\n",
      "                                 <Reaction EX_cpd00108_e0 at 0x249ccc61fa0>,\n",
      "                                 <Reaction EX_cpd10516_e0 at 0x249ccc442b0>,\n",
      "                                 <Reaction EX_cpd03696_e0 at 0x249ccc44340>,\n",
      "                                 <Reaction EX_cpd00161_e0 at 0x249ccc443d0>,\n",
      "                                 <Reaction EX_cpd00158_e0 at 0x249ccc44460>,\n",
      "                                 <Reaction EX_cpd08023_e0 at 0x249ccc44580>,\n",
      "                                 <Reaction EX_cpd01329_e0 at 0x249ccc446a0>,\n",
      "                                 <Reaction EX_cpd11578_e0 at 0x249ccc448e0>,\n",
      "                                 <Reaction EX_cpd00224_e0 at 0x249ccc44a90>,\n",
      "                                 <Reaction EX_cpd00396_e0 at 0x249ccc44b20>,\n",
      "                                 <Reaction EX_cpd00971_e0 at 0x249ccc44c40>,\n",
      "                                 <Reaction EX_cpd00226_e0 at 0x249ccc44cd0>,\n",
      "                                 <Reaction EX_cpd00395_e0 at 0x249ccc44d60>,\n",
      "                                 <Reaction EX_cpd00210_e0 at 0x249ccc44df0>,\n",
      "                                 <Reaction EX_cpd00138_e0 at 0x249ccc44e80>,\n",
      "                                 <Reaction EX_cpd11579_e0 at 0x249ccc44f10>,\n",
      "                                 <Reaction EX_cpd00059_e0 at 0x249ccc44fa0>,\n",
      "                                 <Reaction EX_cpd04097_e0 at 0x249ccc44070>,\n",
      "                                 <Reaction EX_cpd00082_e0 at 0x249ccc54100>,\n",
      "                                 <Reaction EX_cpd00531_e0 at 0x249ccc54190>,\n",
      "                                 <Reaction EX_cpd11591_e0 at 0x249ccc542b0>,\n",
      "                                 <Reaction EX_cpd04098_e0 at 0x249ccc543d0>,\n",
      "                                 <Reaction EX_cpd11586_e0 at 0x249ccc54580>,\n",
      "                                 <Reaction EX_cpd15603_e0 at 0x249ccc54610>,\n",
      "                                 <Reaction EX_cpd00305_e0 at 0x249ccc546a0>,\n",
      "                                 <Reaction EX_cpd00073_e0 at 0x249ccc54730>,\n",
      "                                 <Reaction EX_cpd00751_e0 at 0x249ccc548e0>,\n",
      "                                 <Reaction EX_cpd00060_e0 at 0x249ccc54a00>,\n",
      "                                 <Reaction EX_cpd00280_e0 at 0x249ccc54b20>,\n",
      "                                 <Reaction EX_cpd11590_e0 at 0x249ccc54c40>,\n",
      "                                 <Reaction EX_cpd03048_e0 at 0x249ccc54e80>,\n",
      "                                 <Reaction EX_cpd11596_e0 at 0x249ccc54f10>,\n",
      "                                 <Reaction EX_cpd00106_e0 at 0x249ccc54fa0>,\n",
      "                                 <Reaction EX_cpd00540_e0 at 0x249ccc60100>,\n",
      "                                 <Reaction EX_cpd00635_e0 at 0x249ccc60190>,\n",
      "                                 <Reaction EX_cpd15605_e0 at 0x249ccc60220>,\n",
      "                                 <Reaction EX_cpd01017_e0 at 0x249ccc602b0>,\n",
      "                                 <Reaction EX_cpd00166_e0 at 0x249ccc60580>,\n",
      "                                 <Reaction EX_cpd00042_e0 at 0x249ccc606a0>,\n",
      "                                 <Reaction EX_cpd00731_e0 at 0x249ccc60730>,\n",
      "                                 <Reaction EX_cpd00363_e0 at 0x249ccc608e0>,\n",
      "                                 <Reaction EX_cpd00076_e0 at 0x249ccc60970>,\n",
      "                                 <Reaction EX_cpd01757_e0 at 0x249ccc60a00>,\n",
      "                                 <Reaction EX_cpd11583_e0 at 0x249ccc60b20>,\n",
      "                                 <Reaction EX_cpd01030_e0 at 0x249ccc60bb0>,\n",
      "                                 <Reaction EX_cpd00588_e0 at 0x249ccc60c40>,\n",
      "                                 <Reaction EX_cpd01092_e0 at 0x249ccc60cd0>,\n",
      "                                 <Reaction EX_cpd01912_e0 at 0x249ccc60df0>,\n",
      "                                 <Reaction EX_cpd00080_e0 at 0x249ccc60f10>,\n",
      "                                 <Reaction EX_cpd00121_e0 at 0x249ccc60fa0>,\n",
      "                                 <Reaction EX_cpd01012_e0 at 0x249ccc60070>,\n",
      "                                 <Reaction EX_cpd11576_e0 at 0x249ccc3a100>,\n",
      "                                 <Reaction EX_cpd00029_e0 at 0x249ccc3a190>,\n",
      "                                 <Reaction EX_cpd00033_e0 at 0x249ccc3a220>,\n",
      "                                 <Reaction EX_cpd11588_e0 at 0x249ccc3a340>,\n",
      "                                 <Reaction EX_cpd03724_e0 at 0x249ccc3a3d0>,\n",
      "                                 <Reaction EX_cpd00116_e0 at 0x249ccc3a460>,\n",
      "                                 <Reaction EX_cpd00035_e0 at 0x249ccc3a4f0>,\n",
      "                                 <Reaction EX_cpd00009_e0 at 0x249ccc3a580>,\n",
      "                                 <Reaction EX_cpd09878_e0 at 0x249ccc3a610>,\n",
      "                                 <Reaction EX_cpd15561_e0 at 0x249ccc3a6a0>,\n",
      "                                 <Reaction EX_cpd00244_e0 at 0x249ccc3a730>,\n",
      "                                 <Reaction EX_cpd11575_e0 at 0x249ccc3a7c0>,\n",
      "                                 <Reaction EX_cpd00386_e0 at 0x249ccc3a850>,\n",
      "                                 <Reaction EX_cpd00309_e0 at 0x249ccc3a970>,\n",
      "                                 <Reaction EX_cpd11593_e0 at 0x249ccc3aa00>,\n",
      "                                 <Reaction EX_cpd01914_e0 at 0x249ccc3aa90>,\n",
      "                                 <Reaction EX_cpd00054_e0 at 0x249ccc3ab20>,\n",
      "                                 <Reaction EX_cpd03343_e0 at 0x249ccc3abb0>,\n",
      "                                 <Reaction EX_cpd01262_e0 at 0x249ccc3ac40>,\n",
      "                                 <Reaction EX_cpd11585_e0 at 0x249ccc3acd0>,\n",
      "                                 <Reaction EX_cpd03424_e0 at 0x249ccc3adf0>,\n",
      "                                 <Reaction EX_cpd11589_e0 at 0x249ccc3ae80>,\n",
      "                                 <Reaction EX_cpd00268_e0 at 0x249ccc3a070>,\n",
      "                                 <Reaction EX_cpd15604_e0 at 0x249cd145190>,\n",
      "                                 <Reaction EX_cpd00036_e0 at 0x249cd145220>,\n",
      "                                 <Reaction EX_cpd03725_e0 at 0x249cd145340>,\n",
      "                                 <Reaction EX_cpd15606_e0 at 0x249cd145460>,\n",
      "                                 <Reaction EX_cpd04099_e0 at 0x249cd1454f0>,\n",
      "                                 <Reaction EX_cpd00047_e0 at 0x249cd145580>,\n",
      "                                 <Reaction EX_cpd00653_e0 at 0x249cd145610>,\n",
      "                                 <Reaction EX_cpd00027_e0 at 0x249cd1456a0>,\n",
      "                                 <Reaction EX_cpd01171_e0 at 0x249cd1457c0>,\n",
      "                                 <Reaction EX_cpd00314_e0 at 0x249cd145850>,\n",
      "                                 <Reaction EX_cpd00281_e0 at 0x249cd1458e0>,\n",
      "                                 <Reaction EX_cpd00276_e0 at 0x249cd145970>,\n",
      "                                 <Reaction EX_cpd00024_e0 at 0x249cd145a90>]\n",
      "    len(model_util.exchange_list()): 170\n",
      "    len(community.medium): 55\n",
      "C:\\Users\\Andrew Freiburger\\AppData\\Local\\Programs\\Python\\Python39\\lib\\site-packages\\cobra\\core\\reaction.py:761: DeprecationWarning: Please use reaction.flux instead.\n",
      "  warn(\"Please use reaction.flux instead.\", DeprecationWarning)\n",
      "C:\\Users\\Andrew Freiburger\\AppData\\Local\\Programs\\Python\\Python39\\lib\\site-packages\\cobra\\core\\reaction.py:779: DeprecationWarning: Please use reaction.reduced_cost instead.\n",
      "  warn(\"Please use reaction.reduced_cost instead.\", DeprecationWarning)\n",
      "C:\\Users\\Andrew Freiburger\\AppData\\Local\\Programs\\Python\\Python39\\lib\\site-packages\\cobra\\core\\metabolite.py:207: DeprecationWarning: Please use metabolite.shadow_price instead.\n",
      "  warn(\"Please use metabolite.shadow_price instead.\", DeprecationWarning)\n",
      "C:\\Users\\Andrew Freiburger\\AppData\\Local\\Programs\\Python\\Python39\\lib\\site-packages\\cobra\\core\\metabolite.py:191: UserWarning: The element 'R' does not appear in the periodic table\n",
      "  warn(f\"The element {e} does not appear in the periodic table\")\n"
     ]
    },
    {
     "name": "stdout",
     "output_type": "stream",
     "text": [
      "remaining possible_contributions 87\r"
     ]
    },
    {
     "name": "stderr",
     "output_type": "stream",
     "text": [
      "C:\\Users\\Andrew Freiburger\\AppData\\Local\\Programs\\Python\\Python39\\lib\\site-packages\\cobra\\core\\reaction.py:761: DeprecationWarning: Please use reaction.flux instead.\n",
      "  warn(\"Please use reaction.flux instead.\", DeprecationWarning)\n",
      "C:\\Users\\Andrew Freiburger\\AppData\\Local\\Programs\\Python\\Python39\\lib\\site-packages\\cobra\\core\\reaction.py:779: DeprecationWarning: Please use reaction.reduced_cost instead.\n",
      "  warn(\"Please use reaction.reduced_cost instead.\", DeprecationWarning)\n",
      "C:\\Users\\Andrew Freiburger\\AppData\\Local\\Programs\\Python\\Python39\\lib\\site-packages\\cobra\\core\\metabolite.py:207: DeprecationWarning: Please use metabolite.shadow_price instead.\n",
      "  warn(\"Please use metabolite.shadow_price instead.\", DeprecationWarning)\n",
      "C:\\Users\\Andrew Freiburger\\AppData\\Local\\Programs\\Python\\Python39\\lib\\site-packages\\cobra\\core\\metabolite.py:191: UserWarning: The element 'R' does not appear in the periodic table\n",
      "  warn(f\"The element {e} does not appear in the periodic table\")\n"
     ]
    },
    {
     "name": "stdout",
     "output_type": "stream",
     "text": [
      "remaining possible_contributions 82\r"
     ]
    },
    {
     "name": "stderr",
     "output_type": "stream",
     "text": [
      "C:\\Users\\Andrew Freiburger\\AppData\\Local\\Programs\\Python\\Python39\\lib\\site-packages\\cobra\\core\\reaction.py:761: DeprecationWarning: Please use reaction.flux instead.\n",
      "  warn(\"Please use reaction.flux instead.\", DeprecationWarning)\n",
      "C:\\Users\\Andrew Freiburger\\AppData\\Local\\Programs\\Python\\Python39\\lib\\site-packages\\cobra\\core\\reaction.py:779: DeprecationWarning: Please use reaction.reduced_cost instead.\n",
      "  warn(\"Please use reaction.reduced_cost instead.\", DeprecationWarning)\n",
      "C:\\Users\\Andrew Freiburger\\AppData\\Local\\Programs\\Python\\Python39\\lib\\site-packages\\cobra\\core\\metabolite.py:207: DeprecationWarning: Please use metabolite.shadow_price instead.\n",
      "  warn(\"Please use metabolite.shadow_price instead.\", DeprecationWarning)\n",
      "C:\\Users\\Andrew Freiburger\\AppData\\Local\\Programs\\Python\\Python39\\lib\\site-packages\\cobra\\core\\metabolite.py:191: UserWarning: The element 'R' does not appear in the periodic table\n",
      "  warn(f\"The element {e} does not appear in the periodic table\")\n"
     ]
    },
    {
     "name": "stdout",
     "output_type": "stream",
     "text": [
      "remaining possible_contributions 81\n",
      "\n",
      "\n",
      "Standardize exchange reactions in Variovorax_CF313_pacbio_v2.RAST.fbamodel \n",
      " =============================================================================\n",
      "The exchange  metabolite ID's of the model Variovorax_CF313_pacbio_v2.RAST.fbamodel are completely standardized to ModelSEED.\n"
     ]
    },
    {
     "name": "stderr",
     "output_type": "stream",
     "text": [
      "ic| mssmetana.py:297 in mp()\n",
      "    org_possible_contributions: [<Reaction EX_cpd00218_e0 at 0x24a4a8b1040>,\n",
      "                                 <Reaction EX_cpd00637_e0 at 0x24a4a8b1190>,\n",
      "                                 <Reaction EX_cpd03453_e0 at 0x24a4a8b1220>,\n",
      "                                 <Reaction EX_cpd00130_e0 at 0x24a4a8b1340>,\n",
      "                                 <Reaction EX_cpd00092_e0 at 0x24a4a8b13d0>,\n",
      "                                 <Reaction EX_cpd00151_e0 at 0x24a4a8b14f0>,\n",
      "                                 <Reaction EX_cpd03726_e0 at 0x24a4a8b16a0>,\n",
      "                                 <Reaction EX_cpd00154_e0 at 0x24a4a8b1730>,\n",
      "                                 <Reaction EX_cpd00129_e0 at 0x24a4a8b17c0>,\n",
      "                                 <Reaction EX_cpd00105_e0 at 0x24a4a8b18e0>,\n",
      "                                 <Reaction EX_cpd00011_e0 at 0x24a4a8b1970>,\n",
      "                                 <Reaction EX_cpd00012_e0 at 0x24a4a8b1bb0>,\n",
      "                                 <Reaction EX_cpd00041_e0 at 0x24a4a8b1c40>,\n",
      "                                 <Reaction EX_cpd10516_e0 at 0x24a4a8b1f10>,\n",
      "                                 <Reaction EX_cpd03696_e0 at 0x24a4a8b1fa0>,\n",
      "                                 <Reaction EX_cpd00161_e0 at 0x24a4a8b1130>,\n",
      "                                 <Reaction EX_cpd08023_e0 at 0x24a4a8ba190>,\n",
      "                                 <Reaction EX_cpd00180_e0 at 0x24a4a8ba2b0>,\n",
      "                                 <Reaction EX_cpd11578_e0 at 0x24a4a8ba3d0>,\n",
      "                                 <Reaction EX_cpd00224_e0 at 0x24a4a8ba580>,\n",
      "                                 <Reaction EX_cpd00971_e0 at 0x24a4a8ba6a0>,\n",
      "                                 <Reaction EX_cpd00395_e0 at 0x24a4a8ba730>,\n",
      "                                 <Reaction EX_cpd00210_e0 at 0x24a4a8ba7c0>,\n",
      "                                 <Reaction EX_cpd00138_e0 at 0x24a4a8ba850>,\n",
      "                                 <Reaction EX_cpd11579_e0 at 0x24a4a8ba8e0>,\n",
      "                                 <Reaction EX_cpd04097_e0 at 0x24a4a8ba970>,\n",
      "                                 <Reaction EX_cpd00082_e0 at 0x24a4a8baa00>,\n",
      "                                 <Reaction EX_cpd00531_e0 at 0x24a4a8baa90>,\n",
      "                                 <Reaction EX_cpd04098_e0 at 0x24a4a8bac40>,\n",
      "                                 <Reaction EX_cpd15603_e0 at 0x24a4a8badf0>,\n",
      "                                 <Reaction EX_cpd01015_e0 at 0x24a4a8bae80>,\n",
      "                                 <Reaction EX_cpd15574_e0 at 0x24a4a8baf10>,\n",
      "                                 <Reaction EX_cpd00305_e0 at 0x24a4a8bafa0>,\n",
      "                                 <Reaction EX_cpd00073_e0 at 0x24a4a8ba070>,\n",
      "                                 <Reaction EX_cpd00060_e0 at 0x24a4a8c12b0>,\n",
      "                                 <Reaction EX_cpd03048_e0 at 0x24a4a8c1580>,\n",
      "                                 <Reaction EX_cpd11596_e0 at 0x24a4a8c1610>,\n",
      "                                 <Reaction EX_cpd00106_e0 at 0x24a4a8c16a0>,\n",
      "                                 <Reaction EX_cpd00540_e0 at 0x24a4a8c17c0>,\n",
      "                                 <Reaction EX_cpd00635_e0 at 0x24a4a8c1850>,\n",
      "                                 <Reaction EX_cpd01017_e0 at 0x24a4a8c18e0>,\n",
      "                                 <Reaction EX_cpd00166_e0 at 0x24a4a8c1b20>,\n",
      "                                 <Reaction EX_cpd00042_e0 at 0x24a4a8c1c40>,\n",
      "                                 <Reaction EX_cpd00731_e0 at 0x24a4a8c1cd0>,\n",
      "                                 <Reaction EX_cpd00076_e0 at 0x24a4a8c1e80>,\n",
      "                                 <Reaction EX_cpd01030_e0 at 0x24a4a8c1fa0>,\n",
      "                                 <Reaction EX_cpd00588_e0 at 0x24a4a8c1070>,\n",
      "                                 <Reaction EX_cpd01092_e0 at 0x24a4a8c8100>,\n",
      "                                 <Reaction EX_cpd00080_e0 at 0x24a4a8c82b0>,\n",
      "                                 <Reaction EX_cpd01012_e0 at 0x24a4a8c8340>,\n",
      "                                 <Reaction EX_cpd11576_e0 at 0x24a4a8c83d0>,\n",
      "                                 <Reaction EX_cpd00033_e0 at 0x24a4a8c8460>,\n",
      "                                 <Reaction EX_cpd00116_e0 at 0x24a4a8c8580>,\n",
      "                                 <Reaction EX_cpd00035_e0 at 0x24a4a8c8610>,\n",
      "                                 <Reaction EX_cpd00009_e0 at 0x24a4a8c86a0>,\n",
      "                                 <Reaction EX_cpd09878_e0 at 0x24a4a8c87c0>,\n",
      "                                 <Reaction EX_cpd00244_e0 at 0x24a4a8c8850>,\n",
      "                                 <Reaction EX_cpd11575_e0 at 0x24a4a8c88e0>,\n",
      "                                 <Reaction EX_cpd00386_e0 at 0x24a4a8c8970>,\n",
      "                                 <Reaction EX_cpd01914_e0 at 0x24a4a8c8a00>,\n",
      "                                 <Reaction EX_cpd00054_e0 at 0x24a4a8c8a90>,\n",
      "                                 <Reaction EX_cpd03424_e0 at 0x24a4a8c8bb0>,\n",
      "                                 <Reaction EX_cpd00268_e0 at 0x24a4a8c8d60>,\n",
      "                                 <Reaction EX_cpd00036_e0 at 0x24a4a8c8e80>,\n",
      "                                 <Reaction EX_cpd00159_e0 at 0x24a4a8c8f10>,\n",
      "                                 <Reaction EX_cpd03725_e0 at 0x24a4a8c8070>,\n",
      "                                 <Reaction EX_cpd04099_e0 at 0x24a4a8cf190>,\n",
      "                                 <Reaction EX_cpd00047_e0 at 0x24a4a8cf220>,\n",
      "                                 <Reaction EX_cpd00653_e0 at 0x24a4a8cf2b0>,\n",
      "                                 <Reaction EX_cpd00027_e0 at 0x24a4a8cf340>,\n",
      "                                 <Reaction EX_cpd00075_e0 at 0x24a4a8cf3d0>,\n",
      "                                 <Reaction EX_cpd01171_e0 at 0x24a4a8cf460>,\n",
      "                                 <Reaction EX_cpd00314_e0 at 0x24a4a8cf4f0>,\n",
      "                                 <Reaction EX_cpd02233_e0 at 0x24a4a8cf580>,\n",
      "                                 <Reaction EX_cpd00276_e0 at 0x24a4a8cf610>]\n",
      "    len(model_util.exchange_list()): 122\n",
      "    len(community.medium): 55\n",
      "C:\\Users\\Andrew Freiburger\\AppData\\Local\\Programs\\Python\\Python39\\lib\\site-packages\\cobra\\core\\reaction.py:761: DeprecationWarning: Please use reaction.flux instead.\n",
      "  warn(\"Please use reaction.flux instead.\", DeprecationWarning)\n",
      "C:\\Users\\Andrew Freiburger\\AppData\\Local\\Programs\\Python\\Python39\\lib\\site-packages\\cobra\\core\\reaction.py:779: DeprecationWarning: Please use reaction.reduced_cost instead.\n",
      "  warn(\"Please use reaction.reduced_cost instead.\", DeprecationWarning)\n",
      "C:\\Users\\Andrew Freiburger\\AppData\\Local\\Programs\\Python\\Python39\\lib\\site-packages\\cobra\\core\\metabolite.py:207: DeprecationWarning: Please use metabolite.shadow_price instead.\n",
      "  warn(\"Please use metabolite.shadow_price instead.\", DeprecationWarning)\n",
      "C:\\Users\\Andrew Freiburger\\AppData\\Local\\Programs\\Python\\Python39\\lib\\site-packages\\cobra\\core\\metabolite.py:191: UserWarning: The element 'R' does not appear in the periodic table\n",
      "  warn(f\"The element {e} does not appear in the periodic table\")\n"
     ]
    },
    {
     "name": "stdout",
     "output_type": "stream",
     "text": [
      "remaining possible_contributions 57\r"
     ]
    },
    {
     "name": "stderr",
     "output_type": "stream",
     "text": [
      "C:\\Users\\Andrew Freiburger\\AppData\\Local\\Programs\\Python\\Python39\\lib\\site-packages\\cobra\\core\\reaction.py:761: DeprecationWarning: Please use reaction.flux instead.\n",
      "  warn(\"Please use reaction.flux instead.\", DeprecationWarning)\n",
      "C:\\Users\\Andrew Freiburger\\AppData\\Local\\Programs\\Python\\Python39\\lib\\site-packages\\cobra\\core\\reaction.py:779: DeprecationWarning: Please use reaction.reduced_cost instead.\n",
      "  warn(\"Please use reaction.reduced_cost instead.\", DeprecationWarning)\n",
      "C:\\Users\\Andrew Freiburger\\AppData\\Local\\Programs\\Python\\Python39\\lib\\site-packages\\cobra\\core\\metabolite.py:207: DeprecationWarning: Please use metabolite.shadow_price instead.\n",
      "  warn(\"Please use metabolite.shadow_price instead.\", DeprecationWarning)\n",
      "C:\\Users\\Andrew Freiburger\\AppData\\Local\\Programs\\Python\\Python39\\lib\\site-packages\\cobra\\core\\metabolite.py:191: UserWarning: The element 'R' does not appear in the periodic table\n",
      "  warn(f\"The element {e} does not appear in the periodic table\")\n"
     ]
    },
    {
     "name": "stdout",
     "output_type": "stream",
     "text": [
      "remaining possible_contributions 53\n",
      "MP score:\t\t\tEach member can possibly contribute the following to the community:\n",
      "\n",
      "Pantoea_YR343_pacbio_v2.RAST.fbamodel \t 35\n",
      "Variovorax_CF313_pacbio_v2.RAST.fbamodel \t 22\n"
     ]
    },
    {
     "data": {
      "text/plain": [
       "{'Pantoea_YR343_pacbio_v2.RAST.fbamodel': {'cpd00009_e0',\n",
       "  'cpd00011_e0',\n",
       "  'cpd00012_e0',\n",
       "  'cpd00024_e0',\n",
       "  'cpd00029_e0',\n",
       "  'cpd00033_e0',\n",
       "  'cpd00035_e0',\n",
       "  'cpd00036_e0',\n",
       "  'cpd00041_e0',\n",
       "  'cpd00047_e0',\n",
       "  'cpd00054_e0',\n",
       "  'cpd00060_e0',\n",
       "  'cpd00064_e0',\n",
       "  'cpd00082_e0',\n",
       "  'cpd00092_e0',\n",
       "  'cpd00116_e0',\n",
       "  'cpd00117_e0',\n",
       "  'cpd00129_e0',\n",
       "  'cpd00130_e0',\n",
       "  'cpd00138_e0',\n",
       "  'cpd00151_e0',\n",
       "  'cpd00161_e0',\n",
       "  'cpd00176_e0',\n",
       "  'cpd00214_e0',\n",
       "  'cpd00218_e0',\n",
       "  'cpd00222_e0',\n",
       "  'cpd00226_e0',\n",
       "  'cpd00276_e0',\n",
       "  'cpd00309_e0',\n",
       "  'cpd00314_e0',\n",
       "  'cpd00363_e0',\n",
       "  'cpd00540_e0',\n",
       "  'cpd00573_e0',\n",
       "  'cpd01757_e0',\n",
       "  'cpd15561_e0'},\n",
       " 'Variovorax_CF313_pacbio_v2.RAST.fbamodel': {'cpd00009_e0',\n",
       "  'cpd00011_e0',\n",
       "  'cpd00012_e0',\n",
       "  'cpd00033_e0',\n",
       "  'cpd00035_e0',\n",
       "  'cpd00036_e0',\n",
       "  'cpd00041_e0',\n",
       "  'cpd00047_e0',\n",
       "  'cpd00054_e0',\n",
       "  'cpd00060_e0',\n",
       "  'cpd00075_e0',\n",
       "  'cpd00082_e0',\n",
       "  'cpd00092_e0',\n",
       "  'cpd00116_e0',\n",
       "  'cpd00129_e0',\n",
       "  'cpd00130_e0',\n",
       "  'cpd00138_e0',\n",
       "  'cpd00159_e0',\n",
       "  'cpd00161_e0',\n",
       "  'cpd00180_e0',\n",
       "  'cpd00218_e0',\n",
       "  'cpd00276_e0'}}"
      ]
     },
     "execution_count": 3,
     "metadata": {},
     "output_type": "execute_result"
    }
   ],
   "source": [
    "comm = MSSmetana([YR343, CF313], YR343_CF313_model)\n",
    "comm.mp_score()"
   ]
  },
  {
   "cell_type": "code",
   "execution_count": null,
   "id": "ff3bd424-95d2-4a4c-893a-74d1b25d5b57",
   "metadata": {},
   "outputs": [],
   "source": [
    "print(community_media)"
   ]
  },
  {
   "cell_type": "code",
   "execution_count": 3,
   "id": "f791472f-4459-4fd3-ad28-66e33ef565e9",
   "metadata": {},
   "outputs": [
    {
     "name": "stderr",
     "output_type": "stream",
     "text": [
      "modelseedpy.community.mscompatibility - WARNING - IDWarning: The original ID cpd00609_e0 is a ModelSEED ID, and may not be desirably changed to cpd00609_e0.\n"
     ]
    },
    {
     "name": "stdout",
     "output_type": "stream",
     "text": [
      "\n",
      "\n",
      "0 reactions were substituted and 1 metabolite IDs were redefined in Pantoea_YR343_pacbio_v2.RAST.fbamodel,Variovorax_CF313_pacbio_v2.RAST.fbamodel by standardize().\n"
     ]
    },
    {
     "name": "stderr",
     "output_type": "stream",
     "text": [
      "modelseedpy.community.mscompatibility - WARNING - IDWarning: The original ID cpd00609_e0 is a ModelSEED ID, and may not be desirably changed to cpd00609_e0.\n"
     ]
    },
    {
     "name": "stdout",
     "output_type": "stream",
     "text": [
      "\n",
      "\n",
      "0 reactions were substituted and 1 metabolite IDs were redefined in YR343-CF313 by standardize().\n",
      "The exchange  metabolite ID's of the model Pantoea_YR343_pacbio_v2.RAST.fbamodel are completely standardized to ModelSEED.\n"
     ]
    },
    {
     "name": "stderr",
     "output_type": "stream",
     "text": [
      "ic| mssmetana.py:295 in mp()\n",
      "    org_possible_contributions: []\n",
      "    len(model_util.exchange_list()): 170\n",
      "    len(community.medium): 177\n"
     ]
    },
    {
     "name": "stdout",
     "output_type": "stream",
     "text": [
      "The exchange  metabolite ID's of the model Variovorax_CF313_pacbio_v2.RAST.fbamodel are completely standardized to ModelSEED.\n"
     ]
    },
    {
     "name": "stderr",
     "output_type": "stream",
     "text": [
      "ic| mssmetana.py:295 in mp()\n",
      "    org_possible_contributions: []\n",
      "    len(model_util.exchange_list()): 122\n",
      "    len(community.medium): 177\n"
     ]
    },
    {
     "name": "stdout",
     "output_type": "stream",
     "text": [
      "\n",
      "MP score:\t\t\tEach member can possibly contribute the following to the community:\n",
      "\n",
      "Pantoea_YR343_pacbio_v2.RAST.fbamodel \t 0\n",
      "Variovorax_CF313_pacbio_v2.RAST.fbamodel \t 0\n"
     ]
    },
    {
     "data": {
      "text/plain": [
       "{'Pantoea_YR343_pacbio_v2.RAST.fbamodel': set(),\n",
       " 'Variovorax_CF313_pacbio_v2.RAST.fbamodel': set()}"
      ]
     },
     "execution_count": 3,
     "metadata": {},
     "output_type": "execute_result"
    }
   ],
   "source": [
    "comm = MSSmetana([YR343, CF313], YR343_CF313_model, media_dict = community_media)\n",
    "comm.mp_score()"
   ]
  },
  {
   "cell_type": "code",
   "execution_count": 2,
   "id": "50c765dd-fd77-41ed-ab78-7e8d76661577",
   "metadata": {},
   "outputs": [],
   "source": [
    "from modelseedpy.core.exceptions import ModelError\n",
    "def test_pair(member1, member2, community):\n",
    "    try:\n",
    "        start_time = process_time()\n",
    "        comm = MSSmetana([member1, member2], community)\n",
    "        comm.all_scores()\n",
    "        end_time = process_time()\n",
    "\n",
    "        print(f\"The {member1.id}_{member2.id} pair has been examined after {(end_time-start_time)/60} minutes.\")\n",
    "    except (ObjectiveError, ModelError, NameError) as e:\n",
    "        print(f\"\\n\\nERROR:{e}\")"
   ]
  },
  {
   "cell_type": "markdown",
   "id": "e6fe1266-fc52-4456-8ba7-4a11946f7d93",
   "metadata": {},
   "source": [
    "# test community pairs"
   ]
  },
  {
   "cell_type": "markdown",
   "id": "8360ebf9-06bc-4e89-92ee-e959abf06e5e",
   "metadata": {},
   "source": [
    "# \"+\" interactions"
   ]
  },
  {
   "cell_type": "markdown",
   "id": "8ab7c386-e429-4e48-9b0a-c245398d0298",
   "metadata": {},
   "source": [
    "## YR343 on CF142"
   ]
  },
  {
   "cell_type": "code",
   "execution_count": 3,
   "id": "64338cc5-8d9e-4de0-a7e8-f50b6b0697b0",
   "metadata": {
    "tags": []
   },
   "outputs": [],
   "source": [
    "# from cobra.medium import minimal_medium\n",
    "# media = minimal_medium(YR343, minimize_components=True).to_dict()"
   ]
  },
  {
   "cell_type": "code",
   "execution_count": 4,
   "id": "e89faf27-d147-489e-b76a-29c12aced5d1",
   "metadata": {
    "tags": []
   },
   "outputs": [],
   "source": [
    "# print(media)\n",
    "# for cpd in media:\n",
    "#     print(cpd)"
   ]
  },
  {
   "cell_type": "code",
   "execution_count": 5,
   "id": "0799cf60-f276-49d9-bd4e-c966bc1d4464",
   "metadata": {},
   "outputs": [
    {
     "name": "stdout",
     "output_type": "stream",
     "text": [
      "<Solution 181.758 at 0x270f2d00490>\n"
     ]
    },
    {
     "name": "stderr",
     "output_type": "stream",
     "text": [
      "modelseedpy.community.mscompatibility - WARNING - IDWarning: The original ID cpd00609_e0 is a ModelSEED ID, and may not be desirably changed to cpd00609_e0.\n"
     ]
    },
    {
     "name": "stdout",
     "output_type": "stream",
     "text": [
      "\n",
      "\n",
      "0 reactions were substituted and 1 metabolite IDs were redefined in Pantoea_YR343_pacbio_v2.RAST.fbamodel,Rhizobium_CF142_pacbio_v2.RAST.fbamodel by standardize().\n",
      "\n",
      "\n",
      "ERROR:The YR343-CF142 model is broken and does not grow in complete media.\n",
      "CPU times: total: 10.3 s\n",
      "Wall time: 11.4 s\n"
     ]
    }
   ],
   "source": [
    "%%time\n",
    "\n",
    "# load the pair\n",
    "YR343 = kbase_api.get_from_ws(\"Pantoea_YR343_pacbio_v2.RAST.fbamodel\", 114731)\n",
    "print(YR343.optimize())\n",
    "CF142 = kbase_api.get_from_ws(\"Rhizobium_CF142_pacbio_v2.RAST.fbamodel\", 114731)\n",
    "YR343_CF142_model = kbase_api.get_from_ws(\"YR343-CF142\", 114731)\n",
    "test_pair(YR343, CF142, YR343_CF142_model)"
   ]
  },
  {
   "cell_type": "markdown",
   "id": "faf8cc78-5a42-4de5-94d3-19f9197099f9",
   "metadata": {},
   "source": [
    "## YR343 on CF313"
   ]
  },
  {
   "cell_type": "code",
   "execution_count": 6,
   "id": "6134aeb7-da5b-4f63-9db6-905594ed016d",
   "metadata": {
    "tags": []
   },
   "outputs": [],
   "source": [
    "# load the pair\n",
    "CF313 = kbase_api.get_from_ws(\"Variovorax_CF313_pacbio_v2.RAST.fbamodel\",114731)\n",
    "YR343_CF313_model = kbase_api.get_from_ws(\"YR343-CF313\",114731)"
   ]
  },
  {
   "cell_type": "code",
   "execution_count": 7,
   "id": "000a750d-e228-4a54-b5b1-8183ccc85cfd",
   "metadata": {},
   "outputs": [
    {
     "name": "stderr",
     "output_type": "stream",
     "text": [
      "modelseedpy.community.mscompatibility - WARNING - IDWarning: The original ID cpd00609_e0 is a ModelSEED ID, and may not be desirably changed to cpd00609_e0.\n"
     ]
    },
    {
     "name": "stdout",
     "output_type": "stream",
     "text": [
      "\n",
      "\n",
      "0 reactions were substituted and 1 metabolite IDs were redefined in Pantoea_YR343_pacbio_v2.RAST.fbamodel,Variovorax_CF313_pacbio_v2.RAST.fbamodel by standardize().\n"
     ]
    },
    {
     "name": "stderr",
     "output_type": "stream",
     "text": [
      "ic| mssmetana.py:42 in _get_media()\n",
      "    media: None\n",
      "    com_model: <FBAModel YR343-CF313 at 0x270f1ebd490>\n",
      "    model_s_: [<FBAModel Pantoea_YR343_pacbio_v2.RAST.fbamodel at 0x270f3d633d0>,\n",
      "               <FBAModel Variovorax_CF313_pacbio_v2.RAST.fbamodel at 0x270f3d63bb0>]\n",
      "C:\\Users\\Andrew Freiburger\\AppData\\Local\\Programs\\Python\\Python39\\lib\\site-packages\\cobra\\medium\\minimal_medium.py:112: FutureWarning: The default dtype for empty Series will be 'object' instead of 'float64' in a future version. Specify a dtype explicitly to silence this warning.\n",
      "  medium = pd.Series()\n",
      "C:\\Users\\Andrew Freiburger\\AppData\\Local\\Programs\\Python\\Python39\\lib\\site-packages\\cobra\\medium\\minimal_medium.py:112: FutureWarning: The default dtype for empty Series will be 'object' instead of 'float64' in a future version. Specify a dtype explicitly to silence this warning.\n",
      "  medium = pd.Series()\n",
      "C:\\Users\\Andrew Freiburger\\AppData\\Local\\Programs\\Python\\Python39\\lib\\site-packages\\cobra\\medium\\minimal_medium.py:112: FutureWarning: The default dtype for empty Series will be 'object' instead of 'float64' in a future version. Specify a dtype explicitly to silence this warning.\n",
      "  medium = pd.Series()\n",
      "ic| mssmetana.py:30 in _load_models()\n",
      "    member_models: [<FBAModel Pantoea_YR343_pacbio_v2.RAST.fbamodel at 0x270f3d633d0>,\n",
      "                    <FBAModel Variovorax_CF313_pacbio_v2.RAST.fbamodel at 0x270f3d63bb0>]\n",
      "    com_model: <FBAModel YR343-CF313 at 0x270f1ebd490>\n",
      "    compatibilize: True\n"
     ]
    },
    {
     "name": "stdout",
     "output_type": "stream",
     "text": [
      "\n",
      "The Pantoea_YR343_pacbio_v2.RAST.fbamodel on Variovorax_CF313_pacbio_v2.RAST.fbamodel) MRO score: 1.0 (100.00%). This is the percent of nutritional requirements in Pantoea_YR343_pacbio_v2.RAST.fbamodel that overlap with Variovorax_CF313_pacbio_v2.RAST.fbamodel) (17/17).\n",
      "\n",
      "The Variovorax_CF313_pacbio_v2.RAST.fbamodel on Pantoea_YR343_pacbio_v2.RAST.fbamodel) MRO score: 0.8947368421052632 (89.47%). This is the percent of nutritional requirements in Variovorax_CF313_pacbio_v2.RAST.fbamodel that overlap with Pantoea_YR343_pacbio_v2.RAST.fbamodel) (17/19).\n",
      "\n",
      "\n",
      "\n",
      "Standardize exchange reactions in Pantoea_YR343_pacbio_v2.RAST.fbamodel \n",
      " ==========================================================================\n",
      "\n",
      "\n",
      "\n",
      "Standardize exchange reactions in Variovorax_CF313_pacbio_v2.RAST.fbamodel \n",
      " =============================================================================\n",
      "\n",
      "\n",
      "0 reactions were substituted and 0 metabolite IDs were redefined in Pantoea_YR343_pacbio_v2.RAST.fbamodel,Variovorax_CF313_pacbio_v2.RAST.fbamodel by standardize().\n"
     ]
    },
    {
     "name": "stderr",
     "output_type": "stream",
     "text": [
      "modelseedpy.community.mscompatibility - WARNING - IDWarning: The original ID cpd00609_e0 is a ModelSEED ID, and may not be desirably changed to cpd00609_e0.\n"
     ]
    },
    {
     "name": "stdout",
     "output_type": "stream",
     "text": [
      "\n",
      "\n",
      "\n",
      "Standardize exchange reactions in YR343-CF313 \n",
      " ================================================\n",
      "\n",
      "\n",
      "{'original': {'id': 'cpd00609_e0', 'name': 'D-Glucarate_e0'},\n",
      " 'new': {'id': 'cpd00571_e0', 'name': 'D-Glucarate_e0'},\n",
      " 'justification': 'The cpd00609_e0 and cpd00571_e0 distinction in YR343-CF313 '\n",
      "                  'is incompatible; hence, the cpd00571_e0 ID and '\n",
      "                  'D-Glucarate_e0 are used. The cpd00609_e0 and cpd00571_e0 '\n",
      "                  'metabolites were matched via their name. The ID match was '\n",
      "                  \"verified with the ['BiGG'] cross-reference(s).\"}\n"
     ]
    },
    {
     "name": "stderr",
     "output_type": "stream",
     "text": [
      "ic| mssmetana.py:42 in _get_media()\n",
      "    media: None\n",
      "    com_model: <FBAModel YR343-CF313 at 0x270fe08a970>\n",
      "    model_s_: None\n"
     ]
    },
    {
     "name": "stdout",
     "output_type": "stream",
     "text": [
      "\n",
      "\n",
      "0 reactions were substituted and 1 metabolite IDs were redefined in YR343-CF313 by standardize().\n"
     ]
    },
    {
     "name": "stderr",
     "output_type": "stream",
     "text": [
      "C:\\Users\\Andrew Freiburger\\AppData\\Local\\Programs\\Python\\Python39\\lib\\site-packages\\cobra\\medium\\minimal_medium.py:112: FutureWarning: The default dtype for empty Series will be 'object' instead of 'float64' in a future version. Specify a dtype explicitly to silence this warning.\n",
      "  medium = pd.Series()\n",
      "ic| mssmetana.py:42 in _get_media()\n",
      "    media: {'community_media': EX_cpd00322_e0       0.024180\n",
      "           EX_cpd00099_e0       0.000281\n",
      "           EX_cpd00393_e0       0.000842\n",
      "           EX_cpd00063_e0       0.000281\n",
      "           EX_cpd00058_e0       0.000281\n",
      "           EX_cpd10515_e0       0.000842\n",
      "           EX_cpd00254_e0       0.000281\n",
      "           EX_cpd00215_e0       0.000281\n",
      "           EX_cpd00034_e0       0.000281\n",
      "           EX_cpd00048_e0     540.073989\n",
      "           EX_cpd00793_e0       0.000281\n",
      "           EX_cpd00156_e0       0.073323\n",
      "           EX_cpd00007_e0     284.246383\n",
      "           EX_cpd00355_e0    1000.000000\n",
      "           EX_cpd00149_e0       0.000281\n",
      "           EX_cpd00205_e0       0.000281\n",
      "           EX_cpd00030_e0       0.000281\n",
      "           EX_cpd00028_e0       0.000281\n",
      "           EX_cpd00104_e0       0.000281\n",
      "           dtype: float64,\n",
      "            'members': {'Pantoea_YR343_pacbio_v2.RAST.fbamodel': {'media': EX_cpd00322_e0       1.346267\n",
      "           EX_cpd00099_e0       0.015624\n",
      "           EX_cpd00393_e0       0.046872\n",
      "           EX_cpd00063_e0       0.015624\n",
      "           EX_cpd00058_e0       0.015624\n",
      "           EX_cpd10515_e0       0.062496\n",
      "           EX_cpd00254_e0       0.015624\n",
      "           EX_cpd00215_e0       0.015624\n",
      "           EX_cpd00034_e0       0.015624\n",
      "           EX_cpd00048_e0       1.244893\n",
      "           EX_cpd00793_e0       0.015624\n",
      "           EX_cpd00156_e0      94.177084\n",
      "           EX_cpd00007_e0       0.066402\n",
      "           EX_cpd00355_e0    1000.000000\n",
      "           EX_cpd00149_e0       0.015624\n",
      "           EX_cpd00205_e0       0.015624\n",
      "           EX_cpd00030_e0       0.015624\n",
      "           dtype: float64},\n",
      "                        'Variovorax_CF313_pacbio_v2.RAST.fbamodel': {'media': EX_cpd00322_e0       6.556603\n",
      "           EX_cpd00099_e0       0.076092\n",
      "           EX_cpd00393_e0       0.228275\n",
      "           EX_cpd00063_e0       0.076092\n",
      "           EX_cpd00058_e0       0.076092\n",
      "           EX_cpd10515_e0       0.228275\n",
      "           EX_cpd00254_e0       0.076092\n",
      "           EX_cpd00215_e0       0.076092\n",
      "           EX_cpd00034_e0       0.076092\n",
      "           EX_cpd00048_e0       6.062890\n",
      "           EX_cpd00793_e0       0.076092\n",
      "           EX_cpd00156_e0      43.830997\n",
      "           EX_cpd00007_e0     565.448290\n",
      "           EX_cpd00220_e0       0.228275\n",
      "           EX_cpd00355_e0    1000.000000\n",
      "           EX_cpd00149_e0       0.076092\n",
      "           EX_cpd00205_e0       0.076092\n",
      "           EX_cpd00030_e0       0.076092\n",
      "           EX_cpd00028_e0       0.076092\n",
      "           dtype: float64}}}\n",
      "    com_model: <FBAModel YR343-CF313 at 0x270fe08a970>\n",
      "    model_s_: None\n",
      "ic| mssmetana.py:30 in _load_models()\n",
      "    member_models: [<FBAModel Pantoea_YR343_pacbio_v2.RAST.fbamodel at 0x270f3d633d0>,\n",
      "                    <FBAModel Variovorax_CF313_pacbio_v2.RAST.fbamodel at 0x270f3d63bb0>]\n",
      "    com_model: <FBAModel YR343-CF313 at 0x270f1ebd490>\n",
      "    compatibilize: False\n"
     ]
    },
    {
     "name": "stdout",
     "output_type": "stream",
     "text": [
      "\n",
      "MIP score: 0\t\t\t0 required compound(s) can be sourced via syntrophy:\n",
      "remaining possible_contributions 1\n",
      "MP score:\t\t\tEach member can possibly contribute the following to the community:\n",
      "\n",
      "Pantoea_YR343_pacbio_v2.RAST.fbamodel \t 0\n",
      "Variovorax_CF313_pacbio_v2.RAST.fbamodel \t 0\n"
     ]
    },
    {
     "ename": "AttributeError",
     "evalue": "'str' object has no attribute 'id'",
     "output_type": "error",
     "traceback": [
      "\u001b[1;31m---------------------------------------------------------------------------\u001b[0m",
      "\u001b[1;31mAttributeError\u001b[0m                            Traceback (most recent call last)",
      "File \u001b[1;32m<timed eval>:4\u001b[0m, in \u001b[0;36m<module>\u001b[1;34m\u001b[0m\n",
      "Input \u001b[1;32mIn [2]\u001b[0m, in \u001b[0;36mtest_pair\u001b[1;34m(member1, member2, community)\u001b[0m\n\u001b[0;32m      4\u001b[0m start_time \u001b[38;5;241m=\u001b[39m process_time()\n\u001b[0;32m      5\u001b[0m comm \u001b[38;5;241m=\u001b[39m MSSmetana([member1, member2], community)\n\u001b[1;32m----> 6\u001b[0m \u001b[43mcomm\u001b[49m\u001b[38;5;241;43m.\u001b[39;49m\u001b[43mall_scores\u001b[49m\u001b[43m(\u001b[49m\u001b[43m)\u001b[49m\n\u001b[0;32m      7\u001b[0m end_time \u001b[38;5;241m=\u001b[39m process_time()\n\u001b[0;32m      9\u001b[0m \u001b[38;5;28mprint\u001b[39m(\u001b[38;5;124mf\u001b[39m\u001b[38;5;124m\"\u001b[39m\u001b[38;5;124mThe \u001b[39m\u001b[38;5;132;01m{\u001b[39;00mmember1\u001b[38;5;241m.\u001b[39mid\u001b[38;5;132;01m}\u001b[39;00m\u001b[38;5;124m_\u001b[39m\u001b[38;5;132;01m{\u001b[39;00mmember2\u001b[38;5;241m.\u001b[39mid\u001b[38;5;132;01m}\u001b[39;00m\u001b[38;5;124m pair has been examined after \u001b[39m\u001b[38;5;132;01m{\u001b[39;00m(end_time\u001b[38;5;241m-\u001b[39mstart_time)\u001b[38;5;241m/\u001b[39m\u001b[38;5;241m60\u001b[39m\u001b[38;5;132;01m}\u001b[39;00m\u001b[38;5;124m minutes.\u001b[39m\u001b[38;5;124m\"\u001b[39m)\n",
      "File \u001b[1;32m~\\Documents\\Argonne\\ModelSEED\\ModelSEEDpy\\modelseedpy\\community\\mssmetana.py:105\u001b[0m, in \u001b[0;36mMSSmetana.all_scores\u001b[1;34m(self)\u001b[0m\n\u001b[0;32m    103\u001b[0m mip \u001b[38;5;241m=\u001b[39m \u001b[38;5;28mself\u001b[39m\u001b[38;5;241m.\u001b[39mmip_score(interacting_media\u001b[38;5;241m=\u001b[39m\u001b[38;5;28mself\u001b[39m\u001b[38;5;241m.\u001b[39mmedia)\n\u001b[0;32m    104\u001b[0m mp \u001b[38;5;241m=\u001b[39m \u001b[38;5;28mself\u001b[39m\u001b[38;5;241m.\u001b[39mmp_score()\n\u001b[1;32m--> 105\u001b[0m mu \u001b[38;5;241m=\u001b[39m \u001b[38;5;28;43mself\u001b[39;49m\u001b[38;5;241;43m.\u001b[39;49m\u001b[43mmu_score\u001b[49m\u001b[43m(\u001b[49m\u001b[43m)\u001b[49m\n\u001b[0;32m    106\u001b[0m sc \u001b[38;5;241m=\u001b[39m \u001b[38;5;28mself\u001b[39m\u001b[38;5;241m.\u001b[39msc_score()\n\u001b[0;32m    107\u001b[0m smetana \u001b[38;5;241m=\u001b[39m \u001b[38;5;28mself\u001b[39m\u001b[38;5;241m.\u001b[39msmetana_score()\n",
      "File \u001b[1;32m~\\Documents\\Argonne\\ModelSEED\\ModelSEEDpy\\modelseedpy\\community\\mssmetana.py:152\u001b[0m, in \u001b[0;36mmu_score\u001b[1;34m(self)\u001b[0m\n\u001b[0;32m    151\u001b[0m \u001b[38;5;28;01mdef\u001b[39;00m \u001b[38;5;21mmu_score\u001b[39m(\u001b[38;5;28mself\u001b[39m):\n\u001b[1;32m--> 152\u001b[0m     member_excreta \u001b[38;5;241m=\u001b[39m \u001b[38;5;28mself\u001b[39m\u001b[38;5;241m.\u001b[39mmp_score() \u001b[38;5;28;01mif\u001b[39;00m \u001b[38;5;129;01mnot\u001b[39;00m \u001b[38;5;28mhasattr\u001b[39m(\u001b[38;5;28mself\u001b[39m, \u001b[38;5;124m\"\u001b[39m\u001b[38;5;124mmp\u001b[39m\u001b[38;5;124m\"\u001b[39m) \u001b[38;5;28;01melse\u001b[39;00m \u001b[38;5;28mself\u001b[39m\u001b[38;5;241m.\u001b[39mmp\n\u001b[0;32m    153\u001b[0m     \u001b[38;5;28mself\u001b[39m\u001b[38;5;241m.\u001b[39mmu \u001b[38;5;241m=\u001b[39m MSSmetana\u001b[38;5;241m.\u001b[39mmu(\u001b[38;5;28mself\u001b[39m\u001b[38;5;241m.\u001b[39mmodels, \u001b[38;5;28mself\u001b[39m\u001b[38;5;241m.\u001b[39mn_solutions, member_excreta, \u001b[38;5;28mself\u001b[39m\u001b[38;5;241m.\u001b[39mn_solutions,\n\u001b[0;32m    154\u001b[0m                            \u001b[38;5;28mself\u001b[39m\u001b[38;5;241m.\u001b[39mabstol, \u001b[38;5;28;01mTrue\u001b[39;00m, \u001b[38;5;28mself\u001b[39m\u001b[38;5;241m.\u001b[39mprinting)\n\u001b[0;32m    155\u001b[0m     \u001b[38;5;28;01mif\u001b[39;00m \u001b[38;5;129;01mnot\u001b[39;00m \u001b[38;5;28mself\u001b[39m\u001b[38;5;241m.\u001b[39mprinting:\n",
      "File \u001b[1;32m~\\Documents\\Argonne\\ModelSEED\\ModelSEEDpy\\modelseedpy\\community\\mssmetana.py:322\u001b[0m, in \u001b[0;36mmu\u001b[1;34m(member_models, environment, member_excreta, n_solutions, abstol, compatibilized, printing)\u001b[0m\n\u001b[0;32m    319\u001b[0m \u001b[38;5;28;01mfor\u001b[39;00m org_model \u001b[38;5;129;01min\u001b[39;00m member_models:\n\u001b[0;32m    320\u001b[0m     other_excreta \u001b[38;5;241m=\u001b[39m \u001b[38;5;28mset\u001b[39m(numpy\u001b[38;5;241m.\u001b[39marray([excreta \u001b[38;5;28;01mfor\u001b[39;00m model, excreta \u001b[38;5;129;01min\u001b[39;00m member_excreta\u001b[38;5;241m.\u001b[39mitems()\n\u001b[0;32m    321\u001b[0m                                     \u001b[38;5;28;01mif\u001b[39;00m model\u001b[38;5;241m.\u001b[39mid \u001b[38;5;241m!=\u001b[39m org_model\u001b[38;5;241m.\u001b[39mid])\u001b[38;5;241m.\u001b[39mflatten())\n\u001b[1;32m--> 322\u001b[0m     model_util \u001b[38;5;241m=\u001b[39m MSModelUtil(org_model)\n\u001b[0;32m    323\u001b[0m     \u001b[38;5;28;01mif\u001b[39;00m environment:\n\u001b[0;32m    324\u001b[0m         model_util\u001b[38;5;241m.\u001b[39madd_medium(environment)\n",
      "File \u001b[1;32m~\\Documents\\Argonne\\ModelSEED\\ModelSEEDpy\\modelseedpy\\community\\mssmetana.py:323\u001b[0m, in \u001b[0;36m<listcomp>\u001b[1;34m(.0)\u001b[0m\n\u001b[0;32m    320\u001b[0m other_excreta \u001b[38;5;241m=\u001b[39m \u001b[38;5;28mset\u001b[39m(numpy\u001b[38;5;241m.\u001b[39marray([excreta \u001b[38;5;28;01mfor\u001b[39;00m model, excreta \u001b[38;5;129;01min\u001b[39;00m member_excreta\u001b[38;5;241m.\u001b[39mitems()\n\u001b[0;32m    321\u001b[0m                                 \u001b[38;5;28;01mif\u001b[39;00m model\u001b[38;5;241m.\u001b[39mid \u001b[38;5;241m!=\u001b[39m org_model\u001b[38;5;241m.\u001b[39mid])\u001b[38;5;241m.\u001b[39mflatten())\n\u001b[0;32m    322\u001b[0m model_util \u001b[38;5;241m=\u001b[39m MSModelUtil(org_model)\n\u001b[1;32m--> 323\u001b[0m \u001b[38;5;28;01mif\u001b[39;00m environment:\n\u001b[0;32m    324\u001b[0m     model_util\u001b[38;5;241m.\u001b[39madd_medium(environment)\n\u001b[0;32m    325\u001b[0m ex_rxns \u001b[38;5;241m=\u001b[39m {ex_rxn: met \u001b[38;5;28;01mfor\u001b[39;00m ex_rxn \u001b[38;5;129;01min\u001b[39;00m model_util\u001b[38;5;241m.\u001b[39mexchange_list() \u001b[38;5;28;01mfor\u001b[39;00m met \u001b[38;5;129;01min\u001b[39;00m ex_rxn\u001b[38;5;241m.\u001b[39mmetabolites}\n",
      "\u001b[1;31mAttributeError\u001b[0m: 'str' object has no attribute 'id'"
     ]
    }
   ],
   "source": [
    "%%time\n",
    "\n",
    "# %run ../../../modelseedpy/core/msminimalmedia.py\n",
    "# %time media = MSMinimalMedia.minimize_components(CF313)\n",
    "# print(len(media), media)\n",
    "test_pair(YR343, CF313, YR343_CF313_model)"
   ]
  },
  {
   "cell_type": "markdown",
   "id": "bec52dc1-3813-4dd2-b44e-b9ad1aab157b",
   "metadata": {},
   "source": [
    "## AP49 on BC15"
   ]
  },
  {
   "cell_type": "code",
   "execution_count": null,
   "id": "1d88e69f-0cc8-4499-bae9-fbe79a0a639d",
   "metadata": {
    "tags": []
   },
   "outputs": [],
   "source": [
    "AP49 = kbase_api.get_from_ws(\"Sphingobium_AP49_pacbio_v2.RAST.fbamodel\", 114731)\n",
    "BC15 = kbase_api.get_from_ws(\"Bacillus_sp._bc15.RAST.fbamodel\", 114731)\n",
    "AP49_BC15_model = kbase_api.get_from_ws(\"AP49-BC15\", 114731)\n",
    "test_pair(AP49, BC15, AP49_BC15_model)"
   ]
  },
  {
   "cell_type": "markdown",
   "id": "0f3bda29-76c0-41f3-889c-e2ed5bc5649b",
   "metadata": {},
   "source": [
    "## CF142 on BC15"
   ]
  },
  {
   "cell_type": "code",
   "execution_count": null,
   "id": "6dfbe8da-b8b8-404d-9669-48684ce56d6a",
   "metadata": {},
   "outputs": [],
   "source": [
    "CF142_BC15_model = kbase_api.get_from_ws(\"CF142-BC15\", 114731)\n",
    "test_pair(CF142, BC15, CF142_BC15_model)"
   ]
  },
  {
   "cell_type": "markdown",
   "id": "fa76d8df-8a9d-489f-95be-23a69c726e28",
   "metadata": {},
   "source": [
    "## CF402 on CF313"
   ]
  },
  {
   "cell_type": "code",
   "execution_count": null,
   "id": "cd6716bb-17d2-43cf-883c-a98346c6a97d",
   "metadata": {
    "tags": []
   },
   "outputs": [],
   "source": [
    "CF402 = kbase_api.get_from_ws(\"Duagnella_sp_CF402.RAST.fbamodel\", 114731)\n",
    "CF313 = kbase_api.get_from_ws(\"Variovorax_CF313_pacbio_v2.RAST.fbamodel\",114731)\n",
    "CF402_CF313_model = kbase_api.get_from_ws(\"CF402-CF313\", 114731)\n",
    "test_pair(CF402, CF313, CF402_CF313_model)"
   ]
  },
  {
   "cell_type": "markdown",
   "id": "0fa7156a-425e-4a79-9332-7836ee1fe0c4",
   "metadata": {},
   "source": [
    "## CF402 on BC15"
   ]
  },
  {
   "cell_type": "code",
   "execution_count": null,
   "id": "c0295b09-5487-41b2-a0e5-8a8183121c58",
   "metadata": {
    "tags": []
   },
   "outputs": [],
   "source": [
    "CF402 = kbase_api.get_from_ws(\"Duagnella_sp_CF402.RAST.fbamodel\", 114731)\n",
    "BC15 = kbase_api.get_from_ws(\"Bacillus_sp._bc15.RAST.fbamodel\", 114731)\n",
    "CF402_BC15_model = kbase_api.get_from_ws(\"CF402-BC15\", 114731)\n",
    "test_pair(CF402, BC15, CF402_BC15_model)"
   ]
  },
  {
   "cell_type": "code",
   "execution_count": null,
   "id": "5021d15b-a50d-40bd-8495-5a9b895e602e",
   "metadata": {
    "tags": []
   },
   "outputs": [],
   "source": [
    "from cobra.medium import minimal_medium\n",
    "display(sorted(list(minimal_medium(CF402, minimize_components=True).keys())))\n",
    "display(sorted(list(minimal_medium(BC15, minimize_components=True).keys())))\n",
    "display(set(list(minimal_medium(BC15, minimize_components=True).keys())) & set(list(minimal_medium(CF402, minimize_components=True).keys())))"
   ]
  },
  {
   "cell_type": "markdown",
   "id": "eaa471cb-ff01-4d27-acca-304dbbd51128",
   "metadata": {},
   "source": [
    "# \"-\" interactions"
   ]
  },
  {
   "cell_type": "markdown",
   "id": "1f84be73-f08d-4625-9c47-b6f0c96abc60",
   "metadata": {},
   "source": [
    "## GM17 on CF142"
   ]
  },
  {
   "cell_type": "code",
   "execution_count": null,
   "id": "d100cb74-4f4c-40b7-aea9-2a3c970b330f",
   "metadata": {
    "tags": []
   },
   "outputs": [],
   "source": [
    "GM17 = kbase_api.get_from_ws(\"Pseudomonas_GM17_pacbio_v2.RAST.fbamodel\", 114731)\n",
    "CF142 = kbase_api.get_from_ws(\"Rhizobium_CF142_pacbio_v2.RAST.fbamodel\", 114731)\n",
    "GM17_CF142_model = kbase_api.get_from_ws(\"GM17-CF142\", 114731)\n",
    "test_pair(GM17, CF142, GM17_CF142_model)"
   ]
  },
  {
   "cell_type": "markdown",
   "id": "565310a6-13c3-40ed-b5dd-d3183e987f3b",
   "metadata": {},
   "source": [
    "## GM17 on BC15"
   ]
  },
  {
   "cell_type": "code",
   "execution_count": null,
   "id": "34b9018e-43f6-43f6-9912-e248e84a52cf",
   "metadata": {
    "tags": []
   },
   "outputs": [],
   "source": [
    "GM17 = kbase_api.get_from_ws(\"Pseudomonas_GM17_pacbio_v2.RAST.fbamodel\", 114731)\n",
    "BC15 = kbase_api.get_from_ws(\"Bacillus_sp._bc15.RAST.fbamodel\", 114731)\n",
    "GM17_BC15_model = kbase_api.get_from_ws(\"GM17-BC15\", 114731)\n",
    "test_pair(GM17, BC15, GM17_BC15_model)"
   ]
  },
  {
   "cell_type": "markdown",
   "id": "e85748b6-7c01-4318-adb9-8ae1a70c5b35",
   "metadata": {},
   "source": [
    "## CF313 on CF142 "
   ]
  },
  {
   "cell_type": "code",
   "execution_count": null,
   "id": "4c9693e5-fe5a-439b-b6a7-d1b32e289142",
   "metadata": {},
   "outputs": [],
   "source": [
    "CF313_CF142_model = kbase_api.get_from_ws(\"CF313-CF142\", 114731)\n",
    "test_pair(CF313, CF142, CF313_CF142_model)"
   ]
  },
  {
   "cell_type": "markdown",
   "id": "b5d4bbf5-a383-486b-aa65-a8b34685f599",
   "metadata": {},
   "source": [
    "## AP07 on AP49"
   ]
  },
  {
   "cell_type": "code",
   "execution_count": null,
   "id": "65b961d3-97af-4b19-8d18-259fe28f3782",
   "metadata": {
    "tags": []
   },
   "outputs": [],
   "source": [
    "AP07 = kbase_api.get_from_ws(\"Caulobacter_AP07_pacbio_v2.RAST.fbamodel\", 114731)\n",
    "AP49 = kbase_api.get_from_ws(\"Sphingobium_AP49_pacbio_v2.RAST.fbamodel\", 114731)\n",
    "AP07_AP49_model = kbase_api.get_from_ws(\"AP07-AP49\", 114731)\n",
    "test_pair(AP07, AP49, AP07_AP49_model)"
   ]
  },
  {
   "cell_type": "markdown",
   "id": "8d3c5529-c99d-4dbf-bac9-340fdfa58471",
   "metadata": {},
   "source": [
    "## CF313 on BT03"
   ]
  },
  {
   "cell_type": "code",
   "execution_count": null,
   "id": "ee85ee54-d40e-4caf-9618-55f3531e600a",
   "metadata": {
    "tags": []
   },
   "outputs": [],
   "source": [
    "BT03 = kbase_api.get_from_ws(\"Burkholderia_sp._BT03.RAST.fbamodel\", 114731)\n",
    "CF313 = kbase_api.get_from_ws(\"Variovorax_CF313_pacbio_v2.RAST.fbamodel\",114731)\n",
    "CF313_BT03_model = kbase_api.get_from_ws(\"CF313-BT03\", 114731)\n",
    "test_pair(CF313, BT03, CF313_BT03_model)"
   ]
  },
  {
   "cell_type": "markdown",
   "id": "8edc8690-81eb-4463-b9ec-babfffbd0ded",
   "metadata": {},
   "source": [
    "## YR139 on CF142"
   ]
  },
  {
   "cell_type": "code",
   "execution_count": null,
   "id": "765f864b-469d-4d4c-a2a3-b7f8ad63276a",
   "metadata": {},
   "outputs": [],
   "source": [
    "YR139 = kbase_api.get_from_ws(\"Streptomyces_YR139_pacbio_v2.RAST.fbamodel\", 114731)\n",
    "YR139_CF142_model = kbase_api.get_from_ws(\"YR139-CF142\", 114731)\n",
    "test_pair(YR139, CF142, YR139_CF142_model)"
   ]
  },
  {
   "cell_type": "markdown",
   "id": "f3527c8d-f068-47b9-a27f-72619a3e9baa",
   "metadata": {},
   "source": [
    "## GM17 on AP49"
   ]
  },
  {
   "cell_type": "code",
   "execution_count": null,
   "id": "88e080a4-06ee-4c4a-85ff-7310f56182c2",
   "metadata": {
    "tags": []
   },
   "outputs": [],
   "source": [
    "GM17_AP49_model = kbase_api.get_from_ws(\"GM17-AP49\", 114731)\n",
    "test_pair(GM17, AP49, GM17_AP49_model)"
   ]
  },
  {
   "cell_type": "markdown",
   "id": "130448d1-0a89-4e32-84d4-9e64a03e46f6",
   "metadata": {},
   "source": [
    "## GM17 on CF313"
   ]
  },
  {
   "cell_type": "code",
   "execution_count": null,
   "id": "2840df27-3843-4d3c-beb9-662bf5c17d3d",
   "metadata": {
    "tags": []
   },
   "outputs": [],
   "source": [
    "GM17_CF313_model = kbase_api.get_from_ws(\"GM17-CF313\", 114731)\n",
    "test_pair(GM17, CF313, GM17_CF313_model)"
   ]
  },
  {
   "cell_type": "markdown",
   "id": "6a8831df-314e-40de-a1cf-d9ec4cf21278",
   "metadata": {},
   "source": [
    "## GM17 on AP07"
   ]
  },
  {
   "cell_type": "code",
   "execution_count": null,
   "id": "f27b805f-2f70-4eea-b352-4d5446e2320b",
   "metadata": {
    "tags": []
   },
   "outputs": [],
   "source": [
    "GM17_AP07_model = kbase_api.get_from_ws(\"GM17-AP07\", 114731)\n",
    "test_pair(GM17, AP07, GM17_AP07_model)"
   ]
  },
  {
   "cell_type": "markdown",
   "id": "09cfc12c-d84c-4a87-836c-5829809c45b4",
   "metadata": {},
   "source": [
    "## GM17 on CF402"
   ]
  },
  {
   "cell_type": "code",
   "execution_count": null,
   "id": "d918a46f-0136-49cd-b72d-5e9f024f977c",
   "metadata": {
    "tags": []
   },
   "outputs": [],
   "source": [
    "GM17_CF402_model = kbase_api.get_from_ws(\"GM17-CF402\", 114731)\n",
    "test_pair(GM17, CF402, GM17_CF402_model)"
   ]
  },
  {
   "cell_type": "markdown",
   "id": "bcfa9f2a-5365-4385-9146-7e0ff4e21c81",
   "metadata": {},
   "source": [
    "## GM17 on BT03"
   ]
  },
  {
   "cell_type": "code",
   "execution_count": null,
   "id": "0bd97df7-4d65-4db8-bd45-969b3c36baab",
   "metadata": {
    "tags": []
   },
   "outputs": [],
   "source": [
    "GM17_BT03_model = kbase_api.get_from_ws(\"GM17-BT03\", 114731)\n",
    "test_pair(GM17, BT03, GM17_BT03_model)"
   ]
  },
  {
   "cell_type": "code",
   "execution_count": null,
   "id": "d9f37d33-045f-4139-bf4c-5bea69b5015a",
   "metadata": {},
   "outputs": [],
   "source": [
    "from cobra.medium import minimal_medium\n",
    "len(minimal_medium(CF402, minimize_components=True))"
   ]
  },
  {
   "cell_type": "markdown",
   "id": "40fbe40e-4209-4052-9e38-27d7678c3cf2",
   "metadata": {},
   "source": [
    "# Statistically process the above results"
   ]
  },
  {
   "cell_type": "markdown",
   "id": "4aafb7df-6069-42e6-a679-8a7ef2f9bd74",
   "metadata": {},
   "source": [
    "## MRO scores"
   ]
  },
  {
   "cell_type": "markdown",
   "id": "ccf0667e-f707-464c-a06c-740e75f15c39",
   "metadata": {},
   "source": [
    "### Parsed MRO values"
   ]
  },
  {
   "cell_type": "code",
   "execution_count": null,
   "id": "2ae27ca9-933c-49e6-a9cb-4199adcf712f",
   "metadata": {},
   "outputs": [],
   "source": [
    "# from scipy import stats\n",
    "# posInteractions = [YR343_CF313.mro[0], AP49_BC15.mro[0], YR343_CF313.mro[0], YR343_CF313.mro[0]]\n",
    "# negInteractions = [0.8636363636363636, 0.9, 0.9473684210526315, 0.7727272727272727, 0.8636363636363636, 0.8181818181818182, 0.8181818181818182, 0.8181818181818182, 0.8]\n",
    "\n",
    "# ttest = stats.ttest_ind(posInteractions, negInteractions)\n",
    "# print(ttest.pvalue)"
   ]
  },
  {
   "cell_type": "code",
   "execution_count": null,
   "id": "421fddba-1c26-4f2c-b806-ed798cb02782",
   "metadata": {},
   "outputs": [],
   "source": [
    "from scipy import stats\n",
    "posInteractions = [1, 0.7619047619047619, 0.38636363636363635, 0.36363636363636365]\n",
    "negInteractions = [0.8636363636363636, 0.9, 0.9473684210526315, 0.7727272727272727, 0.8636363636363636, 0.8181818181818182, 0.8181818181818182, 0.8181818181818182, 0.8]\n",
    "\n",
    "ttest = stats.ttest_ind(posInteractions, negInteractions)\n",
    "print(ttest.pvalue)"
   ]
  },
  {
   "cell_type": "code",
   "execution_count": null,
   "id": "d1007e54-cefd-4d00-984a-ed572c7646fb",
   "metadata": {},
   "outputs": [],
   "source": [
    "from matplotlib import pyplot\n",
    "import sigfig\n",
    "\n",
    "pyplot.rc('axes', titlesize=20, labelsize=20)\n",
    "pyplot.rc('xtick', labelsize=20)\n",
    "pyplot.rc('ytick', labelsize=20)\n",
    "pyplot.rc('legend', fontsize=18)\n",
    "fig = pyplot.figure(figsize=(7,10))\n",
    "\n",
    "pyplot.boxplot([posInteractions, negInteractions], labels=[\"'+'\", \"'--'\"])\n",
    "pyplot.scatter([1]*len(posInteractions), posInteractions)\n",
    "pyplot.scatter([2]*len(negInteractions), negInteractions)\n",
    "pyplot.xlabel(\"Interaction type\")\n",
    "pyplot.ylabel(\"MRO score (overlap)\")\n",
    "pyplot.text(1.6,.7, f\"p-value: {sigfig.round(ttest.pvalue, sigfigs=3)}\", fontsize=\"x-large\")\n",
    "fig.savefig(\"parsed MRO comparion.jpg\")\n",
    "# display(fig)\n",
    "# pyplot.show()"
   ]
  },
  {
   "cell_type": "markdown",
   "id": "adad8cf4-d78d-4a1a-a505-258df73edf87",
   "metadata": {},
   "source": [
    "### Averaged MRO values"
   ]
  },
  {
   "cell_type": "code",
   "execution_count": null,
   "id": "b669ba31-e86c-4ed0-a742-c114a4510eaf",
   "metadata": {
    "tags": []
   },
   "outputs": [],
   "source": [
    "from scipy import stats\n",
    "posInteractions = [0.9444444444444444, 0.7804878048780488, 0.5396825396825397, 0.53125]\n",
    "negInteractions = [0.9047619047619048, 0.8780487804878049, 0.9473684210526315]\n",
    "negInteractions2 = [0.8095238095238095, 0.926829268292683, 0.9473684210526315, 0.926829268292683, 0.8095238095238095, 0.5757575757575758, 0.8780487804878049]\n",
    "posInteractions2 = [0.9444444444444444, 0.7804878048780488, 0.5396825396825397, 0.53125]\n",
    "\n",
    "ttest = stats.ttest_ind(posInteractions2, negInteractions2)\n",
    "print(ttest.pvalue)"
   ]
  },
  {
   "cell_type": "code",
   "execution_count": null,
   "id": "057d0fa1-c9b1-45b4-a976-5bbf9278dcec",
   "metadata": {
    "tags": []
   },
   "outputs": [],
   "source": [
    "from matplotlib import pyplot\n",
    "import sigfig\n",
    "\n",
    "pyplot.rc('axes', titlesize=20, labelsize=20)\n",
    "pyplot.rc('xtick', labelsize=20)\n",
    "pyplot.rc('ytick', labelsize=20)\n",
    "pyplot.rc('legend', fontsize=18)\n",
    "fig = pyplot.figure(figsize=(7,10))\n",
    "\n",
    "pyplot.boxplot([posInteractions2, negInteractions2], labels=[\"'+'\", \"'--'\"])\n",
    "pyplot.scatter([1]*len(posInteractions2), posInteractions2)\n",
    "pyplot.scatter([2]*len(negInteractions2), negInteractions2)\n",
    "pyplot.xlabel(\"Interaction type\")\n",
    "pyplot.ylabel(\"MRO score (overlap)\")\n",
    "pyplot.text(1.6,.7, f\"p-value: {sigfig.round(ttest.pvalue, sigfigs=3)}\", fontsize=\"x-large\")\n",
    "fig.savefig(\"MRO comparion.jpg\")\n",
    "# display(fig)\n",
    "# pyplot.show()"
   ]
  },
  {
   "cell_type": "markdown",
   "id": "9216f60c-71e5-4123-a026-415ad9a255f8",
   "metadata": {},
   "source": [
    "## MIP scores"
   ]
  },
  {
   "cell_type": "code",
   "execution_count": null,
   "id": "940c5d87-184a-4c71-a58a-f88277fc481b",
   "metadata": {},
   "outputs": [],
   "source": [
    "from scipy import stats\n",
    "# posInteractions =[YR343_CF313.mip, AP49_BC15.mip, CF402_CF313.mip, CF402_BC15.mip]\n",
    "# negInteractions = [GM17_BC15.mip, AP07_AP49.mip, CF313_BT03.mip, GM17_AP49.mip, GM17_CF313.mip, GM17_AP07.mip, GM17_CF402.mip, GM17_BT03.mip, CF402_BC15.mip]\n",
    "negInteractions = [0, 0, 0, 0, 1, 4, 0]\n",
    "posInteractions = [0, 1, 6, 7]\n",
    "\n",
    "ttest = stats.ttest_ind(posInteractions, negInteractions)\n",
    "print(ttest.pvalue)"
   ]
  },
  {
   "cell_type": "code",
   "execution_count": null,
   "id": "a68f5f50-ea3d-4d1a-b16b-9b0412c16e6c",
   "metadata": {},
   "outputs": [],
   "source": [
    "from matplotlib import pyplot\n",
    "import sigfig\n",
    "\n",
    "pyplot.rc('axes', titlesize=20, labelsize=20)\n",
    "pyplot.rc('xtick', labelsize=20)\n",
    "pyplot.rc('ytick', labelsize=20)\n",
    "pyplot.rc('legend', fontsize=18)\n",
    "fig = pyplot.figure(figsize=(7,10))\n",
    "\n",
    "pyplot.boxplot([posInteractions, negInteractions], labels=[\"'+'\", \"'--'\"])\n",
    "pyplot.scatter([1]*len(posInteractions), posInteractions)\n",
    "pyplot.scatter([2]*len(negInteractions), negInteractions)\n",
    "pyplot.xlabel(\"Interaction type\")\n",
    "pyplot.ylabel(\"MIP score (syntrophy)\")\n",
    "pyplot.text(1.6,2, f\"p-value: {sigfig.round(ttest.pvalue, sigfigs=3)}\", fontsize=\"x-large\")\n",
    "fig.savefig(\"MIP comparion.jpg\")\n",
    "# display(fig)\n",
    "# pyplot.show()"
   ]
  },
  {
   "cell_type": "markdown",
   "id": "a3f98436-281c-4672-b31b-ef5c72ba0876",
   "metadata": {},
   "source": [
    "## smetana score"
   ]
  },
  {
   "cell_type": "code",
   "execution_count": null,
   "id": "68c1c46f-8ae5-4cd6-b408-9d231207c3b3",
   "metadata": {},
   "outputs": [],
   "source": [
    "from scipy import stats\n",
    "posInteractions = [63.57, 47.18, 52.63, 46, 32, 38, 0, 0]\n",
    "negInteractions = [53, 48.1, 44.76, 45, 0, 0]\n",
    "\n",
    "ttest = stats.ttest_ind(posInteractions, negInteractions)\n",
    "print(ttest.pvalue)"
   ]
  },
  {
   "cell_type": "code",
   "execution_count": null,
   "id": "eefd1a1c-2193-4e88-a9e1-fc58d98cdec0",
   "metadata": {},
   "outputs": [],
   "source": [
    "from matplotlib import pyplot\n",
    "import sigfig\n",
    "\n",
    "pyplot.rc('axes', titlesize=20, labelsize=20)\n",
    "pyplot.rc('xtick', labelsize=20)\n",
    "pyplot.rc('ytick', labelsize=20)\n",
    "pyplot.rc('legend', fontsize=18)\n",
    "fig = pyplot.figure(figsize=(7,10))\n",
    "\n",
    "pyplot.boxplot([posInteractions, negInteractions], labels=[\"'+'\", \"'--'\"])\n",
    "pyplot.scatter([1]*len(posInteractions), posInteractions)\n",
    "pyplot.scatter([2]*len(negInteractions), negInteractions)\n",
    "pyplot.xlabel(\"Interaction type\")\n",
    "pyplot.ylabel(\"smetana score (syntrophy potential)\")\n",
    "pyplot.text(1.6,62, f\"p-value: {sigfig.round(ttest.pvalue, sigfigs=3)}\", fontsize=\"x-large\")\n",
    "fig.savefig(\"smetana comparion.jpg\")\n",
    "# display(fig)\n",
    "# pyplot.show()"
   ]
  },
  {
   "cell_type": "code",
   "execution_count": null,
   "id": "6f8c0fad-439e-410d-a2ba-8089b73fbc1d",
   "metadata": {},
   "outputs": [],
   "source": []
  }
 ],
 "metadata": {
  "kernelspec": {
   "display_name": "Python 3 (ipykernel)",
   "language": "python",
   "name": "python3"
  },
  "language_info": {
   "codemirror_mode": {
    "name": "ipython",
    "version": 3
   },
   "file_extension": ".py",
   "mimetype": "text/x-python",
   "name": "python",
   "nbconvert_exporter": "python",
   "pygments_lexer": "ipython3",
   "version": "3.9.12"
  }
 },
 "nbformat": 4,
 "nbformat_minor": 5
}
