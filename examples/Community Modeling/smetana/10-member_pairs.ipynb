{
 "cells": [
  {
   "cell_type": "markdown",
   "id": "be17384b-a284-468c-a0b0-f0628d0802e6",
   "metadata": {},
   "source": [
    "# Load KBase"
   ]
  },
  {
   "cell_type": "code",
   "execution_count": 1,
   "id": "68a7047b-5da4-479d-85a1-87497aeeb978",
   "metadata": {},
   "outputs": [
    {
     "name": "stdout",
     "output_type": "stream",
     "text": [
      "cobrakbase 0.2.8\n"
     ]
    }
   ],
   "source": [
    "# define the environment path \n",
    "import os\n",
    "local_cobrakbase_path = os.path.join('C:', 'Users', 'Andrew Freiburger','Documents','Argonne','cobrakbase')\n",
    "os.environ[\"HOME\"] = local_cobrakbase_path\n",
    "\n",
    "# import the KBase\n",
    "import cobrakbase\n",
    "# with open(\"/Users/afreiburger/Documents/kbase_token.txt\") as token_file:\n",
    "with open(\"C:/Users/Andrew Freiburger/Documents/Argonne/kbase_token.txt\") as token_file:\n",
    "    kbase_api = cobrakbase.KBaseAPI(token_file.readline())\n",
    "\n",
    "# prevent excessive warnings\n",
    "from time import process_time\n",
    "import warnings\n",
    "warnings.filterwarnings(action='once')\n",
    "%run ../../../modelseedpy/community/mssmetana.py"
   ]
  },
  {
   "cell_type": "code",
   "execution_count": 2,
   "id": "93982dfb-8594-4be3-bc4a-97e2f87bc8fd",
   "metadata": {},
   "outputs": [
    {
     "name": "stderr",
     "output_type": "stream",
     "text": [
      "modelseedpy.community.mscompatibility - WARNING - IDWarning: The original ID cpd00609_e0 is a ModelSEED ID, and may not be desirably changed to cpd00609_e0.\n"
     ]
    },
    {
     "name": "stdout",
     "output_type": "stream",
     "text": [
      "\n",
      "\n",
      "0 reactions were substituted and 1 metabolite IDs were redefined in Pantoea_YR343_pacbio_v2.RAST.fbamodel,Variovorax_CF313_pacbio_v2.RAST.fbamodel by standardize().\n"
     ]
    },
    {
     "name": "stderr",
     "output_type": "stream",
     "text": [
      "ic| mssmetana.py:42 in _get_media()\n",
      "    media: None\n",
      "    com_model: <FBAModel YR343-CF313 at 0x27febc79d00>\n",
      "    model_s_: [<FBAModel Pantoea_YR343_pacbio_v2.RAST.fbamodel at 0x27febb82dc0>,\n",
      "               <FBAModel Variovorax_CF313_pacbio_v2.RAST.fbamodel at 0x27fe690d190>]\n",
      "C:\\Users\\Andrew Freiburger\\AppData\\Local\\Programs\\Python\\Python39\\lib\\site-packages\\cobra\\medium\\minimal_medium.py:112: FutureWarning: The default dtype for empty Series will be 'object' instead of 'float64' in a future version. Specify a dtype explicitly to silence this warning.\n",
      "  medium = pd.Series()\n",
      "C:\\Users\\Andrew Freiburger\\AppData\\Local\\Programs\\Python\\Python39\\lib\\site-packages\\cobra\\medium\\minimal_medium.py:112: FutureWarning: The default dtype for empty Series will be 'object' instead of 'float64' in a future version. Specify a dtype explicitly to silence this warning.\n",
      "  medium = pd.Series()\n",
      "C:\\Users\\Andrew Freiburger\\AppData\\Local\\Programs\\Python\\Python39\\lib\\site-packages\\cobra\\medium\\minimal_medium.py:112: FutureWarning: The default dtype for empty Series will be 'object' instead of 'float64' in a future version. Specify a dtype explicitly to silence this warning.\n",
      "  medium = pd.Series()\n",
      "ic| mssmetana.py:30 in _load_models()\n",
      "    member_models: [<FBAModel Pantoea_YR343_pacbio_v2.RAST.fbamodel at 0x27febb82dc0>,\n",
      "                    <FBAModel Variovorax_CF313_pacbio_v2.RAST.fbamodel at 0x27fe690d190>]\n",
      "    com_model: <FBAModel YR343-CF313 at 0x27febc79d00>\n",
      "    compatibilize: False\n",
      "ic| mssmetana.py:279 in mp()\n",
      "    possible_contributions: [<Reaction EX_cpd00571_e0 at 0x280543f8e80>]\n",
      "    model_util.exchange_list(): [<Reaction EX_cpd00210_e0 at 0x280543bcfd0>,\n",
      "                                 <Reaction EX_cpd00024_e0 at 0x280543cc160>,\n",
      "                                 <Reaction EX_cpd00794_e0 at 0x280543cc1f0>,\n",
      "                                 <Reaction EX_cpd00011_e0 at 0x280543cc280>,\n",
      "                                 <Reaction EX_cpd00281_e0 at 0x280543cc310>,\n",
      "                                 <Reaction EX_cpd00130_e0 at 0x280543cc3a0>,\n",
      "                                 <Reaction EX_cpd00151_e0 at 0x280543cc430>,\n",
      "                                 <Reaction EX_cpd00138_e0 at 0x280543cc4c0>,\n",
      "                                 <Reaction EX_cpd00307_e0 at 0x280543cc550>,\n",
      "                                 <Reaction EX_cpd03724_e0 at 0x280543cc5e0>,\n",
      "                                 <Reaction EX_cpd00162_e0 at 0x280543cc670>,\n",
      "                                 <Reaction EX_cpd00215_e0 at 0x280543cc700>,\n",
      "                                 <Reaction EX_cpd00053_e0 at 0x280543cc790>,\n",
      "                                 <Reaction EX_cpd00058_e0 at 0x280543cc820>,\n",
      "                                 <Reaction EX_cpd11589_e0 at 0x280543cc8b0>,\n",
      "                                 <Reaction EX_cpd00540_e0 at 0x280543cc940>,\n",
      "                                 <Reaction EX_cpd11580_e0 at 0x280543cc9d0>,\n",
      "                                 <Reaction EX_cpd00108_e0 at 0x280543cca60>,\n",
      "                                 <Reaction EX_cpd00644_e0 at 0x280543ccaf0>,\n",
      "                                 <Reaction EX_cpd00214_e0 at 0x280543ccb80>,\n",
      "                                 <Reaction EX_cpd00047_e0 at 0x280543ccc10>,\n",
      "                                 <Reaction EX_cpd00051_e0 at 0x280543ccca0>,\n",
      "                                 <Reaction EX_cpd00041_e0 at 0x280543ccd30>,\n",
      "                                 <Reaction EX_cpd00080_e0 at 0x280543ccdc0>,\n",
      "                                 <Reaction EX_cpd15561_e0 at 0x280543cce50>,\n",
      "                                 <Reaction EX_cpd00082_e0 at 0x280543ccee0>,\n",
      "                                 <Reaction EX_cpd15606_e0 at 0x280543ccf70>,\n",
      "                                 <Reaction EX_cpd00220_e0 at 0x280543cc100>,\n",
      "                                 <Reaction EX_cpd11586_e0 at 0x280543d90d0>,\n",
      "                                 <Reaction EX_cpd00034_e0 at 0x280543d9160>,\n",
      "                                 <Reaction EX_cpd00751_e0 at 0x280543d91f0>,\n",
      "                                 <Reaction EX_cpd00218_e0 at 0x280543d9280>,\n",
      "                                 <Reaction EX_cpd00076_e0 at 0x280543d9310>,\n",
      "                                 <Reaction EX_cpd00132_e0 at 0x280543d93a0>,\n",
      "                                 <Reaction EX_cpd03453_e0 at 0x280543d9430>,\n",
      "                                 <Reaction EX_cpd00027_e0 at 0x280543d94c0>,\n",
      "                                 <Reaction EX_cpd11581_e0 at 0x280543d9550>,\n",
      "                                 <Reaction EX_cpd11592_e0 at 0x280543d95e0>,\n",
      "                                 <Reaction EX_cpd04098_e0 at 0x280543d9670>,\n",
      "                                 <Reaction EX_cpd00166_e0 at 0x280543d9700>,\n",
      "                                 <Reaction EX_cpd00128_e0 at 0x280543d9790>,\n",
      "                                 <Reaction EX_cpd00069_e0 at 0x280543d9820>,\n",
      "                                 <Reaction EX_cpd00118_e0 at 0x280543d98b0>,\n",
      "                                 <Reaction EX_cpd00100_e0 at 0x280543d9940>,\n",
      "                                 <Reaction EX_cpd11582_e0 at 0x280543d99d0>,\n",
      "                                 <Reaction EX_cpd00136_e0 at 0x280543d9a60>,\n",
      "                                 <Reaction EX_cpd00254_e0 at 0x280543d9af0>,\n",
      "                                 <Reaction EX_cpd03424_e0 at 0x280543d9b80>,\n",
      "                                 <Reaction EX_cpd00017_e0 at 0x280543d9c10>,\n",
      "                                 <Reaction EX_cpd00073_e0 at 0x280543d9ca0>,\n",
      "                                 <Reaction EX_cpd00106_e0 at 0x280543d9d30>,\n",
      "                                 <Reaction EX_cpd00224_e0 at 0x280543d9dc0>,\n",
      "                                 <Reaction EX_cpd00653_e0 at 0x280543d9e50>,\n",
      "                                 <Reaction EX_cpd01329_e0 at 0x280543d9ee0>,\n",
      "                                 <Reaction EX_cpd00588_e0 at 0x280543d9f70>,\n",
      "                                 <Reaction EX_cpd01171_e0 at 0x280543d9040>,\n",
      "                                 <Reaction EX_cpd00023_e0 at 0x280543e30d0>,\n",
      "                                 <Reaction EX_cpd00063_e0 at 0x280543e3160>,\n",
      "                                 <Reaction EX_cpd03048_e0 at 0x280543e31f0>,\n",
      "                                 <Reaction EX_cpd01080_e0 at 0x280543e3280>,\n",
      "                                 <Reaction EX_cpd10516_e0 at 0x280543e3310>,\n",
      "                                 <Reaction EX_cpd00222_e0 at 0x280543e33a0>,\n",
      "                                 <Reaction EX_cpd00396_e0 at 0x280543e3430>,\n",
      "                                 <Reaction EX_cpd11585_e0 at 0x280543e34c0>,\n",
      "                                 <Reaction EX_cpd00176_e0 at 0x280543e3550>,\n",
      "                                 <Reaction EX_cpd00395_e0 at 0x280543e35e0>,\n",
      "                                 <Reaction EX_cpd00235_e0 at 0x280543e3670>,\n",
      "                                 <Reaction EX_cpd00054_e0 at 0x280543e3700>,\n",
      "                                 <Reaction EX_cpd00117_e0 at 0x280543e3790>,\n",
      "                                 <Reaction EX_cpd00129_e0 at 0x280543e3820>,\n",
      "                                 <Reaction EX_cpd00007_e0 at 0x280543e38b0>,\n",
      "                                 <Reaction EX_cpd11578_e0 at 0x280543e3040>,\n",
      "                                 <Reaction EX_cpd00079_e0 at 0x280543e3a00>,\n",
      "                                 <Reaction EX_cpd10515_e0 at 0x280543e3a90>,\n",
      "                                 <Reaction EX_cpd11588_e0 at 0x280543e3b20>,\n",
      "                                 <Reaction EX_cpd00276_e0 at 0x280543e3bb0>,\n",
      "                                 <Reaction EX_cpd00971_e0 at 0x280543e3c40>,\n",
      "                                 <Reaction EX_cpd00048_e0 at 0x280543e3cd0>,\n",
      "                                 <Reaction EX_cpd03343_e0 at 0x280543e3d60>,\n",
      "                                 <Reaction EX_cpd09878_e0 at 0x280543e3df0>,\n",
      "                                 <Reaction EX_cpd01757_e0 at 0x280543e3e80>,\n",
      "                                 <Reaction EX_cpd00731_e0 at 0x280543e3f10>,\n",
      "                                 <Reaction EX_cpd00179_e0 at 0x280543e3fa0>,\n",
      "                                 <Reaction EX_cpd00268_e0 at 0x280543e3970>,\n",
      "                                 <Reaction EX_cpd00060_e0 at 0x280543ed100>,\n",
      "                                 <Reaction EX_cpd15605_e0 at 0x280543ed190>,\n",
      "                                 <Reaction EX_cpd03847_e0 at 0x280543ed220>,\n",
      "                                 <Reaction EX_cpd08023_e0 at 0x280543ed2b0>,\n",
      "                                 <Reaction EX_cpd00030_e0 at 0x280543ed340>,\n",
      "                                 <Reaction EX_cpd11596_e0 at 0x280543ed3d0>,\n",
      "                                 <Reaction EX_cpd15603_e0 at 0x280543ed460>,\n",
      "                                 <Reaction EX_cpd11590_e0 at 0x280543ed4f0>,\n",
      "                                 <Reaction EX_cpd00119_e0 at 0x280543ed580>,\n",
      "                                 <Reaction EX_cpd00029_e0 at 0x280543ed610>,\n",
      "                                 <Reaction EX_cpd00067_e0 at 0x280543ed6a0>,\n",
      "                                 <Reaction EX_cpd00009_e0 at 0x280543ed730>,\n",
      "                                 <Reaction EX_cpd00116_e0 at 0x280543ed7c0>,\n",
      "                                 <Reaction EX_cpd00033_e0 at 0x280543ed850>,\n",
      "                                 <Reaction EX_cpd00092_e0 at 0x280543ed8e0>,\n",
      "                                 <Reaction EX_cpd00098_e0 at 0x280543ed970>,\n",
      "                                 <Reaction EX_cpd01092_e0 at 0x280543eda00>,\n",
      "                                 <Reaction EX_cpd00066_e0 at 0x280543eda90>,\n",
      "                                 <Reaction EX_cpd11591_e0 at 0x280543edb20>,\n",
      "                                 <Reaction EX_cpd00107_e0 at 0x280543edbb0>,\n",
      "                                 <Reaction EX_cpd00654_e0 at 0x280543edc40>,\n",
      "                                 <Reaction EX_cpd00280_e0 at 0x280543edcd0>,\n",
      "                                 <Reaction EX_cpd00137_e0 at 0x280543edd60>,\n",
      "                                 <Reaction EX_cpd00042_e0 at 0x280543eddf0>,\n",
      "                                 <Reaction EX_cpd00065_e0 at 0x280543ede80>,\n",
      "                                 <Reaction EX_cpd01012_e0 at 0x280543edf10>,\n",
      "                                 <Reaction EX_cpd01262_e0 at 0x280543edfa0>,\n",
      "                                 <Reaction EX_cpd00036_e0 at 0x280543ed070>,\n",
      "                                 <Reaction EX_cpd11576_e0 at 0x280543f8100>,\n",
      "                                 <Reaction EX_cpd01030_e0 at 0x280543f8190>,\n",
      "                                 <Reaction EX_cpd00244_e0 at 0x280543f8220>,\n",
      "                                 <Reaction EX_cpd00264_e0 at 0x280543f82b0>,\n",
      "                                 <Reaction EX_cpd00305_e0 at 0x280543f8340>,\n",
      "                                 <Reaction EX_cpd00386_e0 at 0x280543f83d0>,\n",
      "                                 <Reaction EX_cpd11584_e0 at 0x280543f8460>,\n",
      "                                 <Reaction EX_cpd00573_e0 at 0x280543f84f0>,\n",
      "                                 <Reaction EX_cpd00012_e0 at 0x280543f8580>,\n",
      "                                 <Reaction EX_cpd04099_e0 at 0x280543f8610>,\n",
      "                                 <Reaction EX_cpd00001_e0 at 0x280543f86a0>,\n",
      "                                 <Reaction EX_cpd00531_e0 at 0x280543f8730>,\n",
      "                                 <Reaction EX_cpd00393_e0 at 0x280543f87c0>,\n",
      "                                 <Reaction EX_cpd00013_e0 at 0x280543f8850>,\n",
      "                                 <Reaction EX_cpd01017_e0 at 0x280543f88e0>,\n",
      "                                 <Reaction EX_cpd00322_e0 at 0x280543f8970>,\n",
      "                                 <Reaction EX_cpd00059_e0 at 0x280543f8a00>,\n",
      "                                 <Reaction EX_cpd00309_e0 at 0x280543f8a90>,\n",
      "                                 <Reaction EX_cpd11583_e0 at 0x280543f8b20>,\n",
      "                                 <Reaction EX_cpd03726_e0 at 0x280543f8bb0>,\n",
      "                                 <Reaction EX_cpd01914_e0 at 0x280543f8c40>,\n",
      "                                 <Reaction EX_cpd00161_e0 at 0x280543f8cd0>,\n",
      "                                 <Reaction EX_cpd00355_e0 at 0x280543f8d60>,\n",
      "                                 <Reaction EX_cpd00039_e0 at 0x280543f8df0>,\n",
      "                                 <Reaction EX_cpd00571_e0 at 0x280543f8e80>,\n",
      "                                 <Reaction EX_cpd00099_e0 at 0x280543f8f10>,\n",
      "                                 <Reaction EX_cpd00035_e0 at 0x280543f8fa0>,\n",
      "                                 <Reaction EX_cpd15604_e0 at 0x280543f8070>,\n",
      "                                 <Reaction EX_cpd00226_e0 at 0x28054403100>,\n",
      "                                 <Reaction EX_cpd00105_e0 at 0x28054403190>,\n",
      "                                 <Reaction EX_cpd01912_e0 at 0x28054403220>,\n",
      "                                 <Reaction EX_cpd00104_e0 at 0x280544032b0>,\n",
      "                                 <Reaction EX_cpd03725_e0 at 0x28054403340>,\n",
      "                                 <Reaction EX_cpd00363_e0 at 0x280544033d0>,\n",
      "                                 <Reaction EX_cpd11587_e0 at 0x28054403460>,\n",
      "                                 <Reaction EX_cpd15560_e0 at 0x280544034f0>,\n",
      "                                 <Reaction EX_cpd11575_e0 at 0x28054403580>,\n",
      "                                 <Reaction EX_cpd00381_e0 at 0x28054403610>,\n",
      "                                 <Reaction EX_cpd00637_e0 at 0x280544036a0>,\n",
      "                                 <Reaction EX_cpd00064_e0 at 0x28054403730>,\n",
      "                                 <Reaction EX_cpd00205_e0 at 0x280544037c0>,\n",
      "                                 <Reaction EX_cpd00314_e0 at 0x28054403850>,\n",
      "                                 <Reaction EX_cpd00793_e0 at 0x280544038e0>,\n",
      "                                 <Reaction EX_cpd00635_e0 at 0x28054403970>,\n",
      "                                 <Reaction EX_cpd00164_e0 at 0x28054403a00>,\n",
      "                                 <Reaction EX_cpd00122_e0 at 0x28054403a90>,\n",
      "                                 <Reaction EX_cpd00550_e0 at 0x28054403b20>,\n",
      "                                 <Reaction EX_cpd00121_e0 at 0x28054403bb0>,\n",
      "                                 <Reaction EX_cpd00149_e0 at 0x28054403c40>,\n",
      "                                 <Reaction EX_cpd11593_e0 at 0x28054403cd0>,\n",
      "                                 <Reaction EX_cpd11579_e0 at 0x28054403d60>,\n",
      "                                 <Reaction EX_cpd00158_e0 at 0x28054403df0>,\n",
      "                                 <Reaction EX_cpd04097_e0 at 0x28054403e80>,\n",
      "                                 <Reaction EX_cpd00156_e0 at 0x28054403f10>,\n",
      "                                 <Reaction EX_cpd00028_e0 at 0x28054403fa0>,\n",
      "                                 <Reaction EX_cpd00154_e0 at 0x28054403070>,\n",
      "                                 <Reaction EX_cpd00084_e0 at 0x2805440e100>,\n",
      "                                 <Reaction EX_cpd03696_e0 at 0x2805440e190>]\n",
      "    community.medium: {'EX_cpd00001_e0': 1000,\n",
      "                       'EX_cpd00007_e0': 1000,\n",
      "                       'EX_cpd00009_e0': 1000,\n",
      "                       'EX_cpd00011_e0': 1000,\n",
      "                       'EX_cpd00012_e0': 1000,\n",
      "                       'EX_cpd00013_e0': 1000,\n",
      "                       'EX_cpd00017_e0': 1000,\n",
      "                       'EX_cpd00023_e0': 1000,\n",
      "                       'EX_cpd00024_e0': 1000,\n",
      "                       'EX_cpd00027_e0': 1000,\n",
      "                       'EX_cpd00028_e0': 1000,\n",
      "                       'EX_cpd00029_e0': 1000,\n",
      "                       'EX_cpd00030_e0': 1000,\n",
      "                       'EX_cpd00033_e0': 1000,\n",
      "                       'EX_cpd00034_e0': 1000,\n",
      "                       'EX_cpd00035_e0': 1000,\n",
      "                       'EX_cpd00036_e0': 1000,\n",
      "                       'EX_cpd00039_e0': 1000,\n",
      "                       'EX_cpd00041_e0': 1000,\n",
      "                       'EX_cpd00042_e0': 1000,\n",
      "                       'EX_cpd00047_e0': 1000,\n",
      "                       'EX_cpd00048_e0': 1000,\n",
      "                       'EX_cpd00051_e0': 1000,\n",
      "                       'EX_cpd00053_e0': 1000,\n",
      "                       'EX_cpd00054_e0': 1000,\n",
      "                       'EX_cpd00058_e0': 1000,\n",
      "                       'EX_cpd00059_e0': 1000,\n",
      "                       'EX_cpd00060_e0': 1000,\n",
      "                       'EX_cpd00063_e0': 1000,\n",
      "                       'EX_cpd00064_e0': 1000,\n",
      "                       'EX_cpd00065_e0': 1000,\n",
      "                       'EX_cpd00066_e0': 1000,\n",
      "                       'EX_cpd00067_e0': 1000,\n",
      "                       'EX_cpd00069_e0': 1000,\n",
      "                       'EX_cpd00073_e0': 1000,\n",
      "                       'EX_cpd00075_e0': 1000,\n",
      "                       'EX_cpd00076_e0': 1000,\n",
      "                       'EX_cpd00079_e0': 1000,\n",
      "                       'EX_cpd00080_e0': 1000,\n",
      "                       'EX_cpd00082_e0': 1000,\n",
      "                       'EX_cpd00084_e0': 1000,\n",
      "                       'EX_cpd00092_e0': 1000,\n",
      "                       'EX_cpd00098_e0': 1000,\n",
      "                       'EX_cpd00099_e0': 1000,\n",
      "                       'EX_cpd00100_e0': 1000,\n",
      "                       'EX_cpd00104_e0': 1000,\n",
      "                       'EX_cpd00105_e0': 1000,\n",
      "                       'EX_cpd00106_e0': 1000,\n",
      "                       'EX_cpd00107_e0': 1000,\n",
      "                       'EX_cpd00108_e0': 1000,\n",
      "                       'EX_cpd00116_e0': 1000,\n",
      "                       'EX_cpd00117_e0': 1000,\n",
      "                       'EX_cpd00118_e0': 1000,\n",
      "                       'EX_cpd00119_e0': 1000,\n",
      "                       'EX_cpd00121_e0': 1000,\n",
      "                       'EX_cpd00122_e0': 1000,\n",
      "                       'EX_cpd00128_e0': 1000,\n",
      "                       'EX_cpd00129_e0': 1000,\n",
      "                       'EX_cpd00130_e0': 1000,\n",
      "                       'EX_cpd00132_e0': 1000,\n",
      "                       'EX_cpd00136_e0': 1000,\n",
      "                       'EX_cpd00137_e0': 1000,\n",
      "                       'EX_cpd00138_e0': 1000,\n",
      "                       'EX_cpd00149_e0': 1000,\n",
      "                       'EX_cpd00151_e0': 1000,\n",
      "                       'EX_cpd00154_e0': 1000,\n",
      "                       'EX_cpd00156_e0': 1000,\n",
      "                       'EX_cpd00158_e0': 1000,\n",
      "                       'EX_cpd00159_e0': 1000,\n",
      "                       'EX_cpd00161_e0': 1000,\n",
      "                       'EX_cpd00162_e0': 1000,\n",
      "                       'EX_cpd00164_e0': 1000,\n",
      "                       'EX_cpd00166_e0': 1000,\n",
      "                       'EX_cpd00176_e0': 1000,\n",
      "                       'EX_cpd00179_e0': 1000,\n",
      "                       'EX_cpd00180_e0': 1000,\n",
      "                       'EX_cpd00205_e0': 1000,\n",
      "                       'EX_cpd00209_e0': 1000,\n",
      "                       'EX_cpd00210_e0': 1000,\n",
      "                       'EX_cpd00214_e0': 1000,\n",
      "                       'EX_cpd00215_e0': 1000,\n",
      "                       'EX_cpd00218_e0': 1000,\n",
      "                       'EX_cpd00220_e0': 1000,\n",
      "                       'EX_cpd00222_e0': 1000,\n",
      "                       'EX_cpd00224_e0': 1000,\n",
      "                       'EX_cpd00226_e0': 1000,\n",
      "                       'EX_cpd00235_e0': 1000,\n",
      "                       'EX_cpd00244_e0': 1000,\n",
      "                       'EX_cpd00254_e0': 1000,\n",
      "                       'EX_cpd00264_e0': 1000,\n",
      "                       'EX_cpd00268_e0': 1000,\n",
      "                       'EX_cpd00276_e0': 1000,\n",
      "                       'EX_cpd00280_e0': 1000,\n",
      "                       'EX_cpd00281_e0': 1000,\n",
      "                       'EX_cpd00305_e0': 1000,\n",
      "                       'EX_cpd00307_e0': 1000,\n",
      "                       'EX_cpd00309_e0': 1000,\n",
      "                       'EX_cpd00314_e0': 1000,\n",
      "                       'EX_cpd00322_e0': 1000,\n",
      "                       'EX_cpd00355_e0': 1000,\n",
      "                       'EX_cpd00363_e0': 1000,\n",
      "                       'EX_cpd00381_e0': IOPub message rate exceeded.\n",
      "The Jupyter server will temporarily stop sending output\n",
      "to the client in order to avoid crashing it.\n",
      "To change this limit, set the config variable\n",
      "`--ServerApp.iopub_msg_rate_limit`.\n",
      "\n",
      "Current values:\n",
      "ServerApp.iopub_msg_rate_limit=1000.0 (msgs/sec)\n",
      "ServerApp.rate_limit_window=3.0 (secs)\n",
      "\n",
      "ic| mssmetana.py:279 in mp()\n",
      "    possible_contributions: []\n",
      "    model_util.exchange_list(): [<Reaction EX_cpd00210_e0 at 0x280a360ecd0>,\n",
      "                                 <Reaction EX_cpd00794_e0 at 0x280a360ee20>,\n",
      "                                 <Reaction EX_cpd00011_e0 at 0x280a360eeb0>,\n",
      "                                 <Reaction EX_cpd00209_e0 at 0x280a360ef40>,\n",
      "                                 <Reaction EX_cpd00151_e0 at 0x280a360efd0>,\n",
      "                                 <Reaction EX_cpd00130_e0 at 0x280a360edc0>,\n",
      "                                 <Reaction EX_cpd00138_e0 at 0x280a30d1130>,\n",
      "                                 <Reaction EX_cpd00307_e0 at 0x280a30d11c0>,\n",
      "                                 <Reaction EX_cpd00162_e0 at 0x280a30d1250>,\n",
      "                                 <Reaction EX_cpd00215_e0 at 0x280a30d12e0>,\n",
      "                                 <Reaction EX_cpd00053_e0 at 0x280a30d1370>,\n",
      "                                 <Reaction EX_cpd00058_e0 at 0x280a30d1400>,\n",
      "                                 <Reaction EX_cpd00540_e0 at 0x280a30d1490>,\n",
      "                                 <Reaction EX_cpd00644_e0 at 0x280a30d1520>,\n",
      "                                 <Reaction EX_cpd00047_e0 at 0x280a30d15b0>,\n",
      "                                 <Reaction EX_cpd00051_e0 at 0x280a30d1640>,\n",
      "                                 <Reaction EX_cpd00041_e0 at 0x280a30d16d0>,\n",
      "                                 <Reaction EX_cpd00080_e0 at 0x280a30d1760>,\n",
      "                                 <Reaction EX_cpd00082_e0 at 0x280a30d17f0>,\n",
      "                                 <Reaction EX_cpd00220_e0 at 0x280a30d1880>,\n",
      "                                 <Reaction EX_cpd00034_e0 at 0x280a30d1910>,\n",
      "                                 <Reaction EX_cpd00218_e0 at 0x280a30d19a0>,\n",
      "                                 <Reaction EX_cpd00076_e0 at 0x280a30d1a30>,\n",
      "                                 <Reaction EX_cpd03453_e0 at 0x280a30d1ac0>,\n",
      "                                 <Reaction EX_cpd00132_e0 at 0x280a30d1b50>,\n",
      "                                 <Reaction EX_cpd00027_e0 at 0x280a30d1be0>,\n",
      "                                 <Reaction EX_cpd04098_e0 at 0x280a30d1c70>,\n",
      "                                 <Reaction EX_cpd00166_e0 at 0x280a30d1d00>,\n",
      "                                 <Reaction EX_cpd00180_e0 at 0x280a30d1d90>,\n",
      "                                 <Reaction EX_cpd00118_e0 at 0x280a30d1e20>,\n",
      "                                 <Reaction EX_cpd00100_e0 at 0x280a30d1eb0>,\n",
      "                                 <Reaction EX_cpd00254_e0 at 0x280a30d1f40>,\n",
      "                                 <Reaction EX_cpd00136_e0 at 0x280a30d1fd0>,\n",
      "                                 <Reaction EX_cpd03424_e0 at 0x280a30d10a0>,\n",
      "                                 <Reaction EX_cpd00069_e0 at 0x280a30d8130>,\n",
      "                                 <Reaction EX_cpd00017_e0 at 0x280a30d81c0>,\n",
      "                                 <Reaction EX_cpd00073_e0 at 0x280a30d8250>,\n",
      "                                 <Reaction EX_cpd00075_e0 at 0x280a30d82e0>,\n",
      "                                 <Reaction EX_cpd00106_e0 at 0x280a30d8370>,\n",
      "                                 <Reaction EX_cpd00224_e0 at 0x280a30d8400>,\n",
      "                                 <Reaction EX_cpd00653_e0 at 0x280a30d8490>,\n",
      "                                 <Reaction EX_cpd00588_e0 at 0x280a30d8520>,\n",
      "                                 <Reaction EX_cpd01171_e0 at 0x280a30d85b0>,\n",
      "                                 <Reaction EX_cpd00023_e0 at 0x280a30d8640>,\n",
      "                                 <Reaction EX_cpd03048_e0 at 0x280a30d86d0>,\n",
      "                                 <Reaction EX_cpd02233_e0 at 0x280a30d8760>,\n",
      "                                 <Reaction EX_cpd00063_e0 at 0x280a30d87f0>,\n",
      "                                 <Reaction EX_cpd10516_e0 at 0x280a30d8880>,\n",
      "                                 <Reaction EX_cpd00395_e0 at 0x280a30d8910>,\n",
      "                                 <Reaction EX_cpd00159_e0 at 0x280a30d89a0>,\n",
      "                                 <Reaction EX_cpd00054_e0 at 0x280a30d8a30>,\n",
      "                                 <Reaction EX_cpd00129_e0 at 0x280a30d8ac0>,\n",
      "                                 <Reaction EX_cpd00007_e0 at 0x280a30d8b50>,\n",
      "                                 <Reaction EX_cpd11578_e0 at 0x280a30d8be0>,\n",
      "                                 <Reaction EX_cpd10515_e0 at 0x280a30d8c70>,\n",
      "                                 <Reaction EX_cpd00276_e0 at 0x280a30d8d00>,\n",
      "                                 <Reaction EX_cpd00971_e0 at 0x280a30d8d90>,\n",
      "                                 <Reaction EX_cpd00048_e0 at 0x280a30d8e20>,\n",
      "                                 <Reaction EX_cpd09878_e0 at 0x280a30d8eb0>,\n",
      "                                 <Reaction EX_cpd00731_e0 at 0x280a30d8f40>,\n",
      "                                 <Reaction EX_cpd00179_e0 at 0x280a30d8fd0>,\n",
      "                                 <Reaction EX_cpd15574_e0 at 0x280a30d80a0>,\n",
      "                                 <Reaction EX_cpd00268_e0 at 0x280a30e2130>,\n",
      "                                 <Reaction EX_cpd00060_e0 at 0x280a30e21c0>,\n",
      "                                 <Reaction EX_cpd08023_e0 at 0x280a30e2250>,\n",
      "                                 <Reaction EX_cpd00030_e0 at 0x280a30e22e0>,\n",
      "                                 <Reaction EX_cpd11596_e0 at 0x280a30e2370>,\n",
      "                                 <Reaction EX_cpd15603_e0 at 0x280a30e2400>,\n",
      "                                 <Reaction EX_cpd00119_e0 at 0x280a30e2490>,\n",
      "                                 <Reaction EX_cpd00067_e0 at 0x280a30e2520>,\n",
      "                                 <Reaction EX_cpd00009_e0 at 0x280a30e25b0>,\n",
      "                                 <Reaction EX_cpd00116_e0 at 0x280a30e2640>,\n",
      "                                 <Reaction EX_cpd00092_e0 at 0x280a30e26d0>,\n",
      "                                 <Reaction EX_cpd00066_e0 at 0x280a30e2760>,\n",
      "                                 <Reaction EX_cpd00033_e0 at 0x280a30e27f0>,\n",
      "                                 <Reaction EX_cpd01092_e0 at 0x280a30e2880>,\n",
      "                                 <Reaction EX_cpd00107_e0 at 0x280a30e2910>,\n",
      "                                 <Reaction EX_cpd00137_e0 at 0x280a30e29a0>,\n",
      "                                 <Reaction EX_cpd00042_e0 at 0x280a30e2a30>,\n",
      "                                 <Reaction EX_cpd00065_e0 at 0x280a30e2ac0>,\n",
      "                                 <Reaction EX_cpd01012_e0 at 0x280a30e2b50>,\n",
      "                                 <Reaction EX_cpd00036_e0 at 0x280a30e2be0>,\n",
      "                                 <Reaction EX_cpd11576_e0 at 0x280a30e2c70>,\n",
      "                                 <Reaction EX_cpd01030_e0 at 0x280a30e2d00>,\n",
      "                                 <Reaction EX_cpd00244_e0 at 0x280a30e2d90>,\n",
      "                                 <Reaction EX_cpd00264_e0 at 0x280a30e2e20>,\n",
      "                                 <Reaction EX_cpd00305_e0 at 0x280a30e2eb0>,\n",
      "                                 <Reaction EX_cpd00386_e0 at 0x280a30e2f40>,\n",
      "                                 <Reaction EX_cpd04099_e0 at 0x280a30e2fd0>,\n",
      "                                 <Reaction EX_cpd00012_e0 at 0x280a30e20a0>,\n",
      "                                 <Reaction EX_cpd00531_e0 at 0x280a30ec130>,\n",
      "                                 <Reaction EX_cpd00001_e0 at 0x280a30ec1c0>,\n",
      "                                 <Reaction EX_cpd00393_e0 at 0x280a30ec250>,\n",
      "                                 <Reaction EX_cpd00013_e0 at 0x280a30ec2e0>,\n",
      "                                 <Reaction EX_cpd01017_e0 at 0x280a30ec370>,\n",
      "                                 <Reaction EX_cpd00322_e0 at 0x280a30ec400>,\n",
      "                                 <Reaction EX_cpd03726_e0 at 0x280a30ec490>,\n",
      "                                 <Reaction EX_cpd01914_e0 at 0x280a30ec520>,\n",
      "                                 <Reaction EX_cpd00161_e0 at 0x280a30ec5b0>,\n",
      "                                 <Reaction EX_cpd00355_e0 at 0x280a30ec640>,\n",
      "                                 <Reaction EX_cpd00039_e0 at 0x280a30ec6d0>,\n",
      "                                 <Reaction EX_cpd00099_e0 at 0x280a30ec760>,\n",
      "                                 <Reaction EX_cpd00035_e0 at 0x280a30ec7f0>,\n",
      "                                 <Reaction EX_cpd00105_e0 at 0x280a30ec880>,\n",
      "                                 <Reaction EX_cpd00104_e0 at 0x280a30ec910>,\n",
      "                                 <Reaction EX_cpd01015_e0 at 0x280a30ec9a0>,\n",
      "                                 <Reaction EX_cpd03725_e0 at 0x280a30eca30>,\n",
      "                                 <Reaction EX_cpd11575_e0 at 0x280a30ecac0>,\n",
      "                                 <Reaction EX_cpd00637_e0 at 0x280a30ecb50>,\n",
      "                                 <Reaction EX_cpd00205_e0 at 0x280a30ecbe0>,\n",
      "                                 <Reaction EX_cpd00314_e0 at 0x280a30ecc70>,\n",
      "                                 <Reaction EX_cpd00793_e0 at 0x280a30ecd00>,\n",
      "                                 <Reaction EX_cpd00635_e0 at 0x280a30ecd90>,\n",
      "                                 <Reaction EX_cpd00122_e0 at 0x280a30ece20>,\n",
      "                                 <Reaction EX_cpd00149_e0 at 0x280a30eceb0>,\n",
      "                                 <Reaction EX_cpd11579_e0 at 0x280a30ecf40>,\n",
      "                                 <Reaction EX_cpd04097_e0 at 0x280a30ecfd0>,\n",
      "                                 <Reaction EX_cpd00156_e0 at 0x280a30ec0a0>,\n",
      "                                 <Reaction EX_cpd00028_e0 at 0x280a30f8130>,\n",
      "                                 <Reaction EX_cpd00154_e0 at 0x280a30f81c0>,\n",
      "                                 <Reaction EX_cpd00084_e0 at 0x280a30f8250>,\n",
      "                                 <Reaction EX_cpd03696_e0 at 0x280a30f82e0>]\n",
      "    community.medium: {'EX_cpd00001_e0': 1000,\n",
      "                       'EX_cpd00007_e0': 1000,\n",
      "                       'EX_cpd00009_e0': 1000,\n",
      "                       'EX_cpd00011_e0': 1000,\n",
      "                       'EX_cpd00012_e0': 1000,\n",
      "                       'EX_cpd00013_e0': 1000,\n",
      "                       'EX_cpd00017_e0': 1000,\n",
      "                       'EX_cpd00023_e0': 1000,\n",
      "                       'EX_cpd00024_e0': 1000,\n",
      "                       'EX_cpd00027_e0': 1000,\n",
      "                       'EX_cpd00028_e0': 1000,\n",
      "                       'EX_cpd00029_e0': 1000,\n",
      "                       'EX_cpd00030_e0': 1000,\n",
      "                       'EX_cpd00033_e0': 1000,\n",
      "                       'EX_cpd00034_e0': 1000,\n",
      "                       'EX_cpd00035_e0': 1000,\n",
      "                       'EX_cpd00036_e0': 1000,\n",
      "                       'EX_cpd00039_e0': 1000,\n",
      "                       'EX_cpd00041_e0': 1000,\n",
      "                       'EX_cpd00042_e0': 1000,\n",
      "                       'EX_cpd00047_e0': 1000,\n",
      "                       'EX_cpd00048_e0': 1000,\n",
      "                       'EX_cpd00051_e0': 1000,\n",
      "                       'EX_cpd00053_e0': 1000,\n",
      "                       'EX_cpd00054_e0': 1000,\n",
      "                       'EX_cpd00058_e0': 1000,\n",
      "                       'EX_cpd00059_e0': 1000,\n",
      "                       'EX_cpd00060_e0': 1000,\n",
      "                       'EX_cpd00063_e0': 1000,\n",
      "                       'EX_cpd00064_e0': 1000,\n",
      "                       'EX_cpd00065_e0': 1000,\n",
      "                       'EX_cpd00066_e0': 1000,\n",
      "                       'EX_cpd00067_e0': 1000,\n",
      "                       'EX_cpd00069_e0': 1000,\n",
      "                       'EX_cpd00073_e0': 1000,\n",
      "                       'EX_cpd00075_e0': 1000,\n",
      "                       'EX_cpd00076_e0': 1000,\n",
      "                       'EX_cpd00079_e0': 1000,\n",
      "                       'EX_cpd00080_e0': 1000,\n",
      "                       'EX_cpd00082_e0': 1000,\n",
      "                       'EX_cpd00084_e0': 1000,\n",
      "                       'EX_cpd00092_e0': 1000,\n",
      "                       'EX_cpd00098_e0': 1000,\n",
      "                       'EX_cpd00099_e0': 1000,\n",
      "                       'EX_cpd00100_e0': 1000,\n",
      "                       'EX_cpd00104_e0': 1000,\n",
      "                       'EX_cpd00105_e0': 1000,\n",
      "                       'EX_cpd00106_e0': 1000,\n",
      "                       'EX_cpd00107_e0': 1000,\n",
      "                       'EX_cpd00108_e0': 1000,\n",
      "                       'EX_cpd00116_e0': 1000,\n",
      "                       'EX_cpd00117_e0': 1000,\n",
      "                       'EX_cpd00118_e0': 1000,\n",
      "                       'EX_cpd00119_e0': 1000,\n",
      "                       'EX_cpd00121_e0': 1000,\n",
      "                       'EX_cpd00122_e0': 1000,\n",
      "                       'EX_cpd00128_e0': 1000,\n",
      "                       'EX_cpd00129_e0': 1000,\n",
      "                       'EX_cpd00130_e0': 1000,\n",
      "                       'EX_cpd00132_e0': 1000,\n",
      "                       'EX_cpd00136_e0': 1000,\n",
      "                       'EX_cpd00137_e0': 1000,\n",
      "                       'EX_cpd00138_e0': 1000,\n",
      "                       'EX_cpd00149_e0': 1000,\n",
      "                       'EX_cpd00151_e0': 1000,\n",
      "                       'EX_cpd00154_e0': 1000,\n",
      "                       'EX_cpd00156_e0': 1000,\n",
      "                       'EX_cpd00158_e0': 1000,\n",
      "                       'EX_cpd00159_e0': 1000,\n",
      "                       'EX_cpd00161_e0': 1000,\n",
      "                       'EX_cpd00162_e0': 1000,\n",
      "                       'EX_cpd00164_e0': 1000,\n",
      "                       'EX_cpd00166_e0': 1000,\n",
      "                       'EX_cpd00176_e0': 1000,\n",
      "                       'EX_cpd00179_e0': 1000,\n",
      "                       'EX_cpd00180_e0': 1000,\n",
      "                       'EX_cpd00205_e0': 1000,\n",
      "                       'EX_cpd00209_e0': 1000,\n",
      "                       'EX_cpd00210_e0': 1000,\n",
      "                       'EX_cpd00214_e0': 1000,\n",
      "                       'EX_cpd00215_e0': 1000,\n",
      "                       'EX_cpd00218_e0': 1000,\n",
      "                       'EX_cpd00220_e0': 1000,\n",
      "                       'EX_cpd00222_e0': 1000,\n",
      "                       'EX_cpd00224_e0': 1000,\n",
      "                       'EX_cpd00226_e0': 1000,\n",
      "                       'EX_cpd00235_e0': 1000,\n",
      "                       'EX_cpd00244_e0': 1000,\n",
      "                       'EX_cpd00254_e0': 1000,\n",
      "                       'EX_cpd00264_e0': 1000,\n",
      "                       'EX_cpd00268_e0': 1000,\n",
      "                       'EX_cpd00276_e0': 1000,\n",
      "                       'EX_cpd00280_e0': 1000,\n",
      "                       'EX_cpd00281_e0': 1000,\n",
      "                       'EX_cpd00305_e0': 1000,\n",
      "                       'EX_cpd00307_e0': 1000,\n",
      "                       'EX_cpd00309_e0': 1000,\n",
      "                       'EX_cpd00314_e0': 1000,\n",
      "                       'EX_cpd00322_e0': 1000,\n",
      "                       'EX_cpd00355_e0': 1000,\n",
      "                       'EX_cpd00363_e0': 1000,\n",
      "                       'EX_cpd00381_e0': 1000,\n",
      "                       'EX_cpd00386_e0': 1000,\n",
      "                       'EX_cpd00393_e0': 1000,\n",
      "                       'EX_cpd00395_e0': 1000,\n",
      "                       'EX_cpd00396_e0': 1000,\n",
      "                       'EX_cpd00531_e0': 1000,\n",
      "                       'EX_cpd00540_e0': 1000,\n",
      "                       'EX_cpd00550_e0': 1000,\n",
      "                       'EX_cpd00573_e0': 1000,\n",
      "                       'EX_cpd00588_e0': 1000,\n",
      "                       'EX_cpd00609_e0': 1000,\n",
      "                       'EX_cpd00635_e0': 1000,\n",
      "                       'EX_cpd00637_e0': 1000,\n",
      "                       'EX_cpd00644_e0': 1000,\n",
      "                       'EX_cpd00653_e0': 1000,\n",
      "                       'EX_cpd00654_e0': 1000,\n",
      "                       'EX_cpd00731_e0': 1000,\n",
      "                       'EX_cpd00751_e0': 1000,\n",
      "                       'EX_cpd00793_e0': 1000,\n",
      "                       'EX_cpd00794_e0': 1000,\n",
      "                       'EX_cpd00971_e0': 1000,\n",
      "                       'EX_cpd01012_e0': 1000,\n",
      "                       'EX_cpd01015_e0': 1000,\n",
      "                       'EX_cpd01017_e0': 1000,\n",
      "                       'EX_cpd01030_e0': 1000,\n",
      "                       'EX_cpd01080_e0': 1000,\n",
      "                       'EX_cpd01092_e0': 1000,\n",
      "                       'EX_cpd01171_e0': 1000,\n",
      "                       'EX_cpd01262_e0': 1000,\n",
      "                       'EX_cpd01329_e0': 1000,\n",
      "                       'EX_cpd01757_e0': 1000,\n",
      "                       'EX_cpd01912_e0': 1000,\n",
      "                       'EX_cpd01914_e0': 1000,\n",
      "                       'EX_cpd02233_e0': 1000,\n",
      "                       'EX_cpd03048_e0': 1000,\n",
      "                       'EX_cpd03343_e0': 1000,\n",
      "                       'EX_cpd03424_e0': 1000,\n",
      "                       'EX_cpd03453_e0': 1000,\n",
      "                       'EX_cpd03696_e0': 1000,\n",
      "                       'EX_cpd03724_e0': 1000,\n",
      "                       'EX_cpd03725_e0': 1000,\n",
      "                       'EX_cpd03726_e0': 1000,\n",
      "                       'EX_cpd03847_e0': 1000,\n",
      "                       'EX_cpd04097_e0': 1000,\n",
      "                       'EX_cpd04098_e0': 1000,\n",
      "                       'EX_cpd04099_e0': 1000,\n",
      "                       'EX_cpd08023_e0': 1000,\n",
      "                       'EX_cpd09878_e0': 1000,\n",
      "                       'EX_cpd10515_e0': 1000,\n",
      "                       'EX_cpd10516_e0': 1000,\n",
      "                       'EX_cpd11575_e0': 1000,\n",
      "                       'EX_cpd11576_e0': 1000,\n",
      "                       'EX_cpd11578_e0': 1000,\n",
      "                       'EX_cpd11579_e0': 1000,\n",
      "                       'EX_cpd11580_e0': 1000,\n",
      "                       'EX_cpd11581_e0': 1000,\n",
      "                       'EX_cpd11582_e0': 1000,\n",
      "                       'EX_cpd11583_e0': 1000,\n",
      "                       'EX_cpd11584_e0': 1000,\n",
      "                       'EX_cpd11585_e0': 1000,\n",
      "                       'EX_cpd11586_e0': 1000,\n",
      "                       'EX_cpd11587_e0': 1000,\n",
      "                       'EX_cpd11588_e0': 1000,\n",
      "                       'EX_cpd11589_e0': 1000,\n",
      "                       'EX_cpd11590_e0': 1000,\n",
      "                       'EX_cpd11591_e0': IOPub message rate exceeded.\n",
      "The Jupyter server will temporarily stop sending output\n",
      "to the client in order to avoid crashing it.\n",
      "To change this limit, set the config variable\n",
      "`--ServerApp.iopub_msg_rate_limit`.\n",
      "\n",
      "Current values:\n",
      "ServerApp.iopub_msg_rate_limit=1000.0 (msgs/sec)\n",
      "ServerApp.rate_limit_window=3.0 (secs)\n",
      "\n"
     ]
    }
   ],
   "source": [
    "YR343 = kbase_api.get_from_ws(\"Pantoea_YR343_pacbio_v2.RAST.fbamodel\", 114731)\n",
    "CF313 = kbase_api.get_from_ws(\"Variovorax_CF313_pacbio_v2.RAST.fbamodel\",114731)\n",
    "YR343_CF313_model = kbase_api.get_from_ws(\"YR343-CF313\",114731)\n",
    "comm = MSSmetana([YR343, CF313], YR343_CF313_model)\n",
    "comm.mp_score()"
   ]
  },
  {
   "cell_type": "code",
   "execution_count": 2,
   "id": "50c765dd-fd77-41ed-ab78-7e8d76661577",
   "metadata": {},
   "outputs": [],
   "source": [
    "from modelseedpy.core.exceptions import ModelError\n",
    "def test_pair(member1, member2, community):\n",
    "    try:\n",
    "        start_time = process_time()\n",
    "        comm = MSSmetana([member1, member2], community)\n",
    "        comm.all_scores()\n",
    "        end_time = process_time()\n",
    "\n",
    "        print(f\"The {member1.id}_{member2.id} pair has been examined after {(end_time-start_time)/60} minutes.\")\n",
    "    except (ObjectiveError, ModelError, NameError) as e:\n",
    "        print(f\"\\n\\nERROR:{e}\")"
   ]
  },
  {
   "cell_type": "markdown",
   "id": "e6fe1266-fc52-4456-8ba7-4a11946f7d93",
   "metadata": {},
   "source": [
    "# test community pairs"
   ]
  },
  {
   "cell_type": "markdown",
   "id": "8360ebf9-06bc-4e89-92ee-e959abf06e5e",
   "metadata": {},
   "source": [
    "# \"+\" interactions"
   ]
  },
  {
   "cell_type": "markdown",
   "id": "8ab7c386-e429-4e48-9b0a-c245398d0298",
   "metadata": {},
   "source": [
    "## YR343 on CF142"
   ]
  },
  {
   "cell_type": "code",
   "execution_count": 3,
   "id": "64338cc5-8d9e-4de0-a7e8-f50b6b0697b0",
   "metadata": {
    "tags": []
   },
   "outputs": [],
   "source": [
    "# from cobra.medium import minimal_medium\n",
    "# media = minimal_medium(YR343, minimize_components=True).to_dict()"
   ]
  },
  {
   "cell_type": "code",
   "execution_count": 4,
   "id": "e89faf27-d147-489e-b76a-29c12aced5d1",
   "metadata": {
    "tags": []
   },
   "outputs": [],
   "source": [
    "# print(media)\n",
    "# for cpd in media:\n",
    "#     print(cpd)"
   ]
  },
  {
   "cell_type": "code",
   "execution_count": 5,
   "id": "0799cf60-f276-49d9-bd4e-c966bc1d4464",
   "metadata": {},
   "outputs": [
    {
     "name": "stdout",
     "output_type": "stream",
     "text": [
      "<Solution 181.758 at 0x270f2d00490>\n"
     ]
    },
    {
     "name": "stderr",
     "output_type": "stream",
     "text": [
      "modelseedpy.community.mscompatibility - WARNING - IDWarning: The original ID cpd00609_e0 is a ModelSEED ID, and may not be desirably changed to cpd00609_e0.\n"
     ]
    },
    {
     "name": "stdout",
     "output_type": "stream",
     "text": [
      "\n",
      "\n",
      "0 reactions were substituted and 1 metabolite IDs were redefined in Pantoea_YR343_pacbio_v2.RAST.fbamodel,Rhizobium_CF142_pacbio_v2.RAST.fbamodel by standardize().\n",
      "\n",
      "\n",
      "ERROR:The YR343-CF142 model is broken and does not grow in complete media.\n",
      "CPU times: total: 10.3 s\n",
      "Wall time: 11.4 s\n"
     ]
    }
   ],
   "source": [
    "%%time\n",
    "\n",
    "# load the pair\n",
    "YR343 = kbase_api.get_from_ws(\"Pantoea_YR343_pacbio_v2.RAST.fbamodel\", 114731)\n",
    "print(YR343.optimize())\n",
    "CF142 = kbase_api.get_from_ws(\"Rhizobium_CF142_pacbio_v2.RAST.fbamodel\", 114731)\n",
    "YR343_CF142_model = kbase_api.get_from_ws(\"YR343-CF142\", 114731)\n",
    "test_pair(YR343, CF142, YR343_CF142_model)"
   ]
  },
  {
   "cell_type": "markdown",
   "id": "faf8cc78-5a42-4de5-94d3-19f9197099f9",
   "metadata": {},
   "source": [
    "## YR343 on CF313"
   ]
  },
  {
   "cell_type": "code",
   "execution_count": 6,
   "id": "6134aeb7-da5b-4f63-9db6-905594ed016d",
   "metadata": {
    "tags": []
   },
   "outputs": [],
   "source": [
    "# load the pair\n",
    "CF313 = kbase_api.get_from_ws(\"Variovorax_CF313_pacbio_v2.RAST.fbamodel\",114731)\n",
    "YR343_CF313_model = kbase_api.get_from_ws(\"YR343-CF313\",114731)"
   ]
  },
  {
   "cell_type": "code",
   "execution_count": 7,
   "id": "000a750d-e228-4a54-b5b1-8183ccc85cfd",
   "metadata": {},
   "outputs": [
    {
     "name": "stderr",
     "output_type": "stream",
     "text": [
      "modelseedpy.community.mscompatibility - WARNING - IDWarning: The original ID cpd00609_e0 is a ModelSEED ID, and may not be desirably changed to cpd00609_e0.\n"
     ]
    },
    {
     "name": "stdout",
     "output_type": "stream",
     "text": [
      "\n",
      "\n",
      "0 reactions were substituted and 1 metabolite IDs were redefined in Pantoea_YR343_pacbio_v2.RAST.fbamodel,Variovorax_CF313_pacbio_v2.RAST.fbamodel by standardize().\n"
     ]
    },
    {
     "name": "stderr",
     "output_type": "stream",
     "text": [
      "ic| mssmetana.py:42 in _get_media()\n",
      "    media: None\n",
      "    com_model: <FBAModel YR343-CF313 at 0x270f1ebd490>\n",
      "    model_s_: [<FBAModel Pantoea_YR343_pacbio_v2.RAST.fbamodel at 0x270f3d633d0>,\n",
      "               <FBAModel Variovorax_CF313_pacbio_v2.RAST.fbamodel at 0x270f3d63bb0>]\n",
      "C:\\Users\\Andrew Freiburger\\AppData\\Local\\Programs\\Python\\Python39\\lib\\site-packages\\cobra\\medium\\minimal_medium.py:112: FutureWarning: The default dtype for empty Series will be 'object' instead of 'float64' in a future version. Specify a dtype explicitly to silence this warning.\n",
      "  medium = pd.Series()\n",
      "C:\\Users\\Andrew Freiburger\\AppData\\Local\\Programs\\Python\\Python39\\lib\\site-packages\\cobra\\medium\\minimal_medium.py:112: FutureWarning: The default dtype for empty Series will be 'object' instead of 'float64' in a future version. Specify a dtype explicitly to silence this warning.\n",
      "  medium = pd.Series()\n",
      "C:\\Users\\Andrew Freiburger\\AppData\\Local\\Programs\\Python\\Python39\\lib\\site-packages\\cobra\\medium\\minimal_medium.py:112: FutureWarning: The default dtype for empty Series will be 'object' instead of 'float64' in a future version. Specify a dtype explicitly to silence this warning.\n",
      "  medium = pd.Series()\n",
      "ic| mssmetana.py:30 in _load_models()\n",
      "    member_models: [<FBAModel Pantoea_YR343_pacbio_v2.RAST.fbamodel at 0x270f3d633d0>,\n",
      "                    <FBAModel Variovorax_CF313_pacbio_v2.RAST.fbamodel at 0x270f3d63bb0>]\n",
      "    com_model: <FBAModel YR343-CF313 at 0x270f1ebd490>\n",
      "    compatibilize: True\n"
     ]
    },
    {
     "name": "stdout",
     "output_type": "stream",
     "text": [
      "\n",
      "The Pantoea_YR343_pacbio_v2.RAST.fbamodel on Variovorax_CF313_pacbio_v2.RAST.fbamodel) MRO score: 1.0 (100.00%). This is the percent of nutritional requirements in Pantoea_YR343_pacbio_v2.RAST.fbamodel that overlap with Variovorax_CF313_pacbio_v2.RAST.fbamodel) (17/17).\n",
      "\n",
      "The Variovorax_CF313_pacbio_v2.RAST.fbamodel on Pantoea_YR343_pacbio_v2.RAST.fbamodel) MRO score: 0.8947368421052632 (89.47%). This is the percent of nutritional requirements in Variovorax_CF313_pacbio_v2.RAST.fbamodel that overlap with Pantoea_YR343_pacbio_v2.RAST.fbamodel) (17/19).\n",
      "\n",
      "\n",
      "\n",
      "Standardize exchange reactions in Pantoea_YR343_pacbio_v2.RAST.fbamodel \n",
      " ==========================================================================\n",
      "\n",
      "\n",
      "\n",
      "Standardize exchange reactions in Variovorax_CF313_pacbio_v2.RAST.fbamodel \n",
      " =============================================================================\n",
      "\n",
      "\n",
      "0 reactions were substituted and 0 metabolite IDs were redefined in Pantoea_YR343_pacbio_v2.RAST.fbamodel,Variovorax_CF313_pacbio_v2.RAST.fbamodel by standardize().\n"
     ]
    },
    {
     "name": "stderr",
     "output_type": "stream",
     "text": [
      "modelseedpy.community.mscompatibility - WARNING - IDWarning: The original ID cpd00609_e0 is a ModelSEED ID, and may not be desirably changed to cpd00609_e0.\n"
     ]
    },
    {
     "name": "stdout",
     "output_type": "stream",
     "text": [
      "\n",
      "\n",
      "\n",
      "Standardize exchange reactions in YR343-CF313 \n",
      " ================================================\n",
      "\n",
      "\n",
      "{'original': {'id': 'cpd00609_e0', 'name': 'D-Glucarate_e0'},\n",
      " 'new': {'id': 'cpd00571_e0', 'name': 'D-Glucarate_e0'},\n",
      " 'justification': 'The cpd00609_e0 and cpd00571_e0 distinction in YR343-CF313 '\n",
      "                  'is incompatible; hence, the cpd00571_e0 ID and '\n",
      "                  'D-Glucarate_e0 are used. The cpd00609_e0 and cpd00571_e0 '\n",
      "                  'metabolites were matched via their name. The ID match was '\n",
      "                  \"verified with the ['BiGG'] cross-reference(s).\"}\n"
     ]
    },
    {
     "name": "stderr",
     "output_type": "stream",
     "text": [
      "ic| mssmetana.py:42 in _get_media()\n",
      "    media: None\n",
      "    com_model: <FBAModel YR343-CF313 at 0x270fe08a970>\n",
      "    model_s_: None\n"
     ]
    },
    {
     "name": "stdout",
     "output_type": "stream",
     "text": [
      "\n",
      "\n",
      "0 reactions were substituted and 1 metabolite IDs were redefined in YR343-CF313 by standardize().\n"
     ]
    },
    {
     "name": "stderr",
     "output_type": "stream",
     "text": [
      "C:\\Users\\Andrew Freiburger\\AppData\\Local\\Programs\\Python\\Python39\\lib\\site-packages\\cobra\\medium\\minimal_medium.py:112: FutureWarning: The default dtype for empty Series will be 'object' instead of 'float64' in a future version. Specify a dtype explicitly to silence this warning.\n",
      "  medium = pd.Series()\n",
      "ic| mssmetana.py:42 in _get_media()\n",
      "    media: {'community_media': EX_cpd00322_e0       0.024180\n",
      "           EX_cpd00099_e0       0.000281\n",
      "           EX_cpd00393_e0       0.000842\n",
      "           EX_cpd00063_e0       0.000281\n",
      "           EX_cpd00058_e0       0.000281\n",
      "           EX_cpd10515_e0       0.000842\n",
      "           EX_cpd00254_e0       0.000281\n",
      "           EX_cpd00215_e0       0.000281\n",
      "           EX_cpd00034_e0       0.000281\n",
      "           EX_cpd00048_e0     540.073989\n",
      "           EX_cpd00793_e0       0.000281\n",
      "           EX_cpd00156_e0       0.073323\n",
      "           EX_cpd00007_e0     284.246383\n",
      "           EX_cpd00355_e0    1000.000000\n",
      "           EX_cpd00149_e0       0.000281\n",
      "           EX_cpd00205_e0       0.000281\n",
      "           EX_cpd00030_e0       0.000281\n",
      "           EX_cpd00028_e0       0.000281\n",
      "           EX_cpd00104_e0       0.000281\n",
      "           dtype: float64,\n",
      "            'members': {'Pantoea_YR343_pacbio_v2.RAST.fbamodel': {'media': EX_cpd00322_e0       1.346267\n",
      "           EX_cpd00099_e0       0.015624\n",
      "           EX_cpd00393_e0       0.046872\n",
      "           EX_cpd00063_e0       0.015624\n",
      "           EX_cpd00058_e0       0.015624\n",
      "           EX_cpd10515_e0       0.062496\n",
      "           EX_cpd00254_e0       0.015624\n",
      "           EX_cpd00215_e0       0.015624\n",
      "           EX_cpd00034_e0       0.015624\n",
      "           EX_cpd00048_e0       1.244893\n",
      "           EX_cpd00793_e0       0.015624\n",
      "           EX_cpd00156_e0      94.177084\n",
      "           EX_cpd00007_e0       0.066402\n",
      "           EX_cpd00355_e0    1000.000000\n",
      "           EX_cpd00149_e0       0.015624\n",
      "           EX_cpd00205_e0       0.015624\n",
      "           EX_cpd00030_e0       0.015624\n",
      "           dtype: float64},\n",
      "                        'Variovorax_CF313_pacbio_v2.RAST.fbamodel': {'media': EX_cpd00322_e0       6.556603\n",
      "           EX_cpd00099_e0       0.076092\n",
      "           EX_cpd00393_e0       0.228275\n",
      "           EX_cpd00063_e0       0.076092\n",
      "           EX_cpd00058_e0       0.076092\n",
      "           EX_cpd10515_e0       0.228275\n",
      "           EX_cpd00254_e0       0.076092\n",
      "           EX_cpd00215_e0       0.076092\n",
      "           EX_cpd00034_e0       0.076092\n",
      "           EX_cpd00048_e0       6.062890\n",
      "           EX_cpd00793_e0       0.076092\n",
      "           EX_cpd00156_e0      43.830997\n",
      "           EX_cpd00007_e0     565.448290\n",
      "           EX_cpd00220_e0       0.228275\n",
      "           EX_cpd00355_e0    1000.000000\n",
      "           EX_cpd00149_e0       0.076092\n",
      "           EX_cpd00205_e0       0.076092\n",
      "           EX_cpd00030_e0       0.076092\n",
      "           EX_cpd00028_e0       0.076092\n",
      "           dtype: float64}}}\n",
      "    com_model: <FBAModel YR343-CF313 at 0x270fe08a970>\n",
      "    model_s_: None\n",
      "ic| mssmetana.py:30 in _load_models()\n",
      "    member_models: [<FBAModel Pantoea_YR343_pacbio_v2.RAST.fbamodel at 0x270f3d633d0>,\n",
      "                    <FBAModel Variovorax_CF313_pacbio_v2.RAST.fbamodel at 0x270f3d63bb0>]\n",
      "    com_model: <FBAModel YR343-CF313 at 0x270f1ebd490>\n",
      "    compatibilize: False\n"
     ]
    },
    {
     "name": "stdout",
     "output_type": "stream",
     "text": [
      "\n",
      "MIP score: 0\t\t\t0 required compound(s) can be sourced via syntrophy:\n",
      "remaining possible_contributions 1\n",
      "MP score:\t\t\tEach member can possibly contribute the following to the community:\n",
      "\n",
      "Pantoea_YR343_pacbio_v2.RAST.fbamodel \t 0\n",
      "Variovorax_CF313_pacbio_v2.RAST.fbamodel \t 0\n"
     ]
    },
    {
     "ename": "AttributeError",
     "evalue": "'str' object has no attribute 'id'",
     "output_type": "error",
     "traceback": [
      "\u001b[1;31m---------------------------------------------------------------------------\u001b[0m",
      "\u001b[1;31mAttributeError\u001b[0m                            Traceback (most recent call last)",
      "File \u001b[1;32m<timed eval>:4\u001b[0m, in \u001b[0;36m<module>\u001b[1;34m\u001b[0m\n",
      "Input \u001b[1;32mIn [2]\u001b[0m, in \u001b[0;36mtest_pair\u001b[1;34m(member1, member2, community)\u001b[0m\n\u001b[0;32m      4\u001b[0m start_time \u001b[38;5;241m=\u001b[39m process_time()\n\u001b[0;32m      5\u001b[0m comm \u001b[38;5;241m=\u001b[39m MSSmetana([member1, member2], community)\n\u001b[1;32m----> 6\u001b[0m \u001b[43mcomm\u001b[49m\u001b[38;5;241;43m.\u001b[39;49m\u001b[43mall_scores\u001b[49m\u001b[43m(\u001b[49m\u001b[43m)\u001b[49m\n\u001b[0;32m      7\u001b[0m end_time \u001b[38;5;241m=\u001b[39m process_time()\n\u001b[0;32m      9\u001b[0m \u001b[38;5;28mprint\u001b[39m(\u001b[38;5;124mf\u001b[39m\u001b[38;5;124m\"\u001b[39m\u001b[38;5;124mThe \u001b[39m\u001b[38;5;132;01m{\u001b[39;00mmember1\u001b[38;5;241m.\u001b[39mid\u001b[38;5;132;01m}\u001b[39;00m\u001b[38;5;124m_\u001b[39m\u001b[38;5;132;01m{\u001b[39;00mmember2\u001b[38;5;241m.\u001b[39mid\u001b[38;5;132;01m}\u001b[39;00m\u001b[38;5;124m pair has been examined after \u001b[39m\u001b[38;5;132;01m{\u001b[39;00m(end_time\u001b[38;5;241m-\u001b[39mstart_time)\u001b[38;5;241m/\u001b[39m\u001b[38;5;241m60\u001b[39m\u001b[38;5;132;01m}\u001b[39;00m\u001b[38;5;124m minutes.\u001b[39m\u001b[38;5;124m\"\u001b[39m)\n",
      "File \u001b[1;32m~\\Documents\\Argonne\\ModelSEED\\ModelSEEDpy\\modelseedpy\\community\\mssmetana.py:105\u001b[0m, in \u001b[0;36mMSSmetana.all_scores\u001b[1;34m(self)\u001b[0m\n\u001b[0;32m    103\u001b[0m mip \u001b[38;5;241m=\u001b[39m \u001b[38;5;28mself\u001b[39m\u001b[38;5;241m.\u001b[39mmip_score(interacting_media\u001b[38;5;241m=\u001b[39m\u001b[38;5;28mself\u001b[39m\u001b[38;5;241m.\u001b[39mmedia)\n\u001b[0;32m    104\u001b[0m mp \u001b[38;5;241m=\u001b[39m \u001b[38;5;28mself\u001b[39m\u001b[38;5;241m.\u001b[39mmp_score()\n\u001b[1;32m--> 105\u001b[0m mu \u001b[38;5;241m=\u001b[39m \u001b[38;5;28;43mself\u001b[39;49m\u001b[38;5;241;43m.\u001b[39;49m\u001b[43mmu_score\u001b[49m\u001b[43m(\u001b[49m\u001b[43m)\u001b[49m\n\u001b[0;32m    106\u001b[0m sc \u001b[38;5;241m=\u001b[39m \u001b[38;5;28mself\u001b[39m\u001b[38;5;241m.\u001b[39msc_score()\n\u001b[0;32m    107\u001b[0m smetana \u001b[38;5;241m=\u001b[39m \u001b[38;5;28mself\u001b[39m\u001b[38;5;241m.\u001b[39msmetana_score()\n",
      "File \u001b[1;32m~\\Documents\\Argonne\\ModelSEED\\ModelSEEDpy\\modelseedpy\\community\\mssmetana.py:152\u001b[0m, in \u001b[0;36mmu_score\u001b[1;34m(self)\u001b[0m\n\u001b[0;32m    151\u001b[0m \u001b[38;5;28;01mdef\u001b[39;00m \u001b[38;5;21mmu_score\u001b[39m(\u001b[38;5;28mself\u001b[39m):\n\u001b[1;32m--> 152\u001b[0m     member_excreta \u001b[38;5;241m=\u001b[39m \u001b[38;5;28mself\u001b[39m\u001b[38;5;241m.\u001b[39mmp_score() \u001b[38;5;28;01mif\u001b[39;00m \u001b[38;5;129;01mnot\u001b[39;00m \u001b[38;5;28mhasattr\u001b[39m(\u001b[38;5;28mself\u001b[39m, \u001b[38;5;124m\"\u001b[39m\u001b[38;5;124mmp\u001b[39m\u001b[38;5;124m\"\u001b[39m) \u001b[38;5;28;01melse\u001b[39;00m \u001b[38;5;28mself\u001b[39m\u001b[38;5;241m.\u001b[39mmp\n\u001b[0;32m    153\u001b[0m     \u001b[38;5;28mself\u001b[39m\u001b[38;5;241m.\u001b[39mmu \u001b[38;5;241m=\u001b[39m MSSmetana\u001b[38;5;241m.\u001b[39mmu(\u001b[38;5;28mself\u001b[39m\u001b[38;5;241m.\u001b[39mmodels, \u001b[38;5;28mself\u001b[39m\u001b[38;5;241m.\u001b[39mn_solutions, member_excreta, \u001b[38;5;28mself\u001b[39m\u001b[38;5;241m.\u001b[39mn_solutions,\n\u001b[0;32m    154\u001b[0m                            \u001b[38;5;28mself\u001b[39m\u001b[38;5;241m.\u001b[39mabstol, \u001b[38;5;28;01mTrue\u001b[39;00m, \u001b[38;5;28mself\u001b[39m\u001b[38;5;241m.\u001b[39mprinting)\n\u001b[0;32m    155\u001b[0m     \u001b[38;5;28;01mif\u001b[39;00m \u001b[38;5;129;01mnot\u001b[39;00m \u001b[38;5;28mself\u001b[39m\u001b[38;5;241m.\u001b[39mprinting:\n",
      "File \u001b[1;32m~\\Documents\\Argonne\\ModelSEED\\ModelSEEDpy\\modelseedpy\\community\\mssmetana.py:322\u001b[0m, in \u001b[0;36mmu\u001b[1;34m(member_models, environment, member_excreta, n_solutions, abstol, compatibilized, printing)\u001b[0m\n\u001b[0;32m    319\u001b[0m \u001b[38;5;28;01mfor\u001b[39;00m org_model \u001b[38;5;129;01min\u001b[39;00m member_models:\n\u001b[0;32m    320\u001b[0m     other_excreta \u001b[38;5;241m=\u001b[39m \u001b[38;5;28mset\u001b[39m(numpy\u001b[38;5;241m.\u001b[39marray([excreta \u001b[38;5;28;01mfor\u001b[39;00m model, excreta \u001b[38;5;129;01min\u001b[39;00m member_excreta\u001b[38;5;241m.\u001b[39mitems()\n\u001b[0;32m    321\u001b[0m                                     \u001b[38;5;28;01mif\u001b[39;00m model\u001b[38;5;241m.\u001b[39mid \u001b[38;5;241m!=\u001b[39m org_model\u001b[38;5;241m.\u001b[39mid])\u001b[38;5;241m.\u001b[39mflatten())\n\u001b[1;32m--> 322\u001b[0m     model_util \u001b[38;5;241m=\u001b[39m MSModelUtil(org_model)\n\u001b[0;32m    323\u001b[0m     \u001b[38;5;28;01mif\u001b[39;00m environment:\n\u001b[0;32m    324\u001b[0m         model_util\u001b[38;5;241m.\u001b[39madd_medium(environment)\n",
      "File \u001b[1;32m~\\Documents\\Argonne\\ModelSEED\\ModelSEEDpy\\modelseedpy\\community\\mssmetana.py:323\u001b[0m, in \u001b[0;36m<listcomp>\u001b[1;34m(.0)\u001b[0m\n\u001b[0;32m    320\u001b[0m other_excreta \u001b[38;5;241m=\u001b[39m \u001b[38;5;28mset\u001b[39m(numpy\u001b[38;5;241m.\u001b[39marray([excreta \u001b[38;5;28;01mfor\u001b[39;00m model, excreta \u001b[38;5;129;01min\u001b[39;00m member_excreta\u001b[38;5;241m.\u001b[39mitems()\n\u001b[0;32m    321\u001b[0m                                 \u001b[38;5;28;01mif\u001b[39;00m model\u001b[38;5;241m.\u001b[39mid \u001b[38;5;241m!=\u001b[39m org_model\u001b[38;5;241m.\u001b[39mid])\u001b[38;5;241m.\u001b[39mflatten())\n\u001b[0;32m    322\u001b[0m model_util \u001b[38;5;241m=\u001b[39m MSModelUtil(org_model)\n\u001b[1;32m--> 323\u001b[0m \u001b[38;5;28;01mif\u001b[39;00m environment:\n\u001b[0;32m    324\u001b[0m     model_util\u001b[38;5;241m.\u001b[39madd_medium(environment)\n\u001b[0;32m    325\u001b[0m ex_rxns \u001b[38;5;241m=\u001b[39m {ex_rxn: met \u001b[38;5;28;01mfor\u001b[39;00m ex_rxn \u001b[38;5;129;01min\u001b[39;00m model_util\u001b[38;5;241m.\u001b[39mexchange_list() \u001b[38;5;28;01mfor\u001b[39;00m met \u001b[38;5;129;01min\u001b[39;00m ex_rxn\u001b[38;5;241m.\u001b[39mmetabolites}\n",
      "\u001b[1;31mAttributeError\u001b[0m: 'str' object has no attribute 'id'"
     ]
    }
   ],
   "source": [
    "%%time\n",
    "\n",
    "# %run ../../../modelseedpy/core/msminimalmedia.py\n",
    "# %time media = MSMinimalMedia.minimize_components(CF313)\n",
    "# print(len(media), media)\n",
    "test_pair(YR343, CF313, YR343_CF313_model)"
   ]
  },
  {
   "cell_type": "markdown",
   "id": "bec52dc1-3813-4dd2-b44e-b9ad1aab157b",
   "metadata": {},
   "source": [
    "## AP49 on BC15"
   ]
  },
  {
   "cell_type": "code",
   "execution_count": null,
   "id": "1d88e69f-0cc8-4499-bae9-fbe79a0a639d",
   "metadata": {
    "tags": []
   },
   "outputs": [],
   "source": [
    "AP49 = kbase_api.get_from_ws(\"Sphingobium_AP49_pacbio_v2.RAST.fbamodel\", 114731)\n",
    "BC15 = kbase_api.get_from_ws(\"Bacillus_sp._bc15.RAST.fbamodel\", 114731)\n",
    "AP49_BC15_model = kbase_api.get_from_ws(\"AP49-BC15\", 114731)\n",
    "test_pair(AP49, BC15, AP49_BC15_model)"
   ]
  },
  {
   "cell_type": "markdown",
   "id": "0f3bda29-76c0-41f3-889c-e2ed5bc5649b",
   "metadata": {},
   "source": [
    "## CF142 on BC15"
   ]
  },
  {
   "cell_type": "code",
   "execution_count": null,
   "id": "6dfbe8da-b8b8-404d-9669-48684ce56d6a",
   "metadata": {},
   "outputs": [],
   "source": [
    "CF142_BC15_model = kbase_api.get_from_ws(\"CF142-BC15\", 114731)\n",
    "test_pair(CF142, BC15, CF142_BC15_model)"
   ]
  },
  {
   "cell_type": "markdown",
   "id": "fa76d8df-8a9d-489f-95be-23a69c726e28",
   "metadata": {},
   "source": [
    "## CF402 on CF313"
   ]
  },
  {
   "cell_type": "code",
   "execution_count": null,
   "id": "cd6716bb-17d2-43cf-883c-a98346c6a97d",
   "metadata": {
    "tags": []
   },
   "outputs": [],
   "source": [
    "CF402 = kbase_api.get_from_ws(\"Duagnella_sp_CF402.RAST.fbamodel\", 114731)\n",
    "CF313 = kbase_api.get_from_ws(\"Variovorax_CF313_pacbio_v2.RAST.fbamodel\",114731)\n",
    "CF402_CF313_model = kbase_api.get_from_ws(\"CF402-CF313\", 114731)\n",
    "test_pair(CF402, CF313, CF402_CF313_model)"
   ]
  },
  {
   "cell_type": "markdown",
   "id": "0fa7156a-425e-4a79-9332-7836ee1fe0c4",
   "metadata": {},
   "source": [
    "## CF402 on BC15"
   ]
  },
  {
   "cell_type": "code",
   "execution_count": null,
   "id": "c0295b09-5487-41b2-a0e5-8a8183121c58",
   "metadata": {
    "tags": []
   },
   "outputs": [],
   "source": [
    "CF402 = kbase_api.get_from_ws(\"Duagnella_sp_CF402.RAST.fbamodel\", 114731)\n",
    "BC15 = kbase_api.get_from_ws(\"Bacillus_sp._bc15.RAST.fbamodel\", 114731)\n",
    "CF402_BC15_model = kbase_api.get_from_ws(\"CF402-BC15\", 114731)\n",
    "test_pair(CF402, BC15, CF402_BC15_model)"
   ]
  },
  {
   "cell_type": "code",
   "execution_count": null,
   "id": "5021d15b-a50d-40bd-8495-5a9b895e602e",
   "metadata": {
    "tags": []
   },
   "outputs": [],
   "source": [
    "from cobra.medium import minimal_medium\n",
    "display(sorted(list(minimal_medium(CF402, minimize_components=True).keys())))\n",
    "display(sorted(list(minimal_medium(BC15, minimize_components=True).keys())))\n",
    "display(set(list(minimal_medium(BC15, minimize_components=True).keys())) & set(list(minimal_medium(CF402, minimize_components=True).keys())))"
   ]
  },
  {
   "cell_type": "markdown",
   "id": "eaa471cb-ff01-4d27-acca-304dbbd51128",
   "metadata": {},
   "source": [
    "# \"-\" interactions"
   ]
  },
  {
   "cell_type": "markdown",
   "id": "1f84be73-f08d-4625-9c47-b6f0c96abc60",
   "metadata": {},
   "source": [
    "## GM17 on CF142"
   ]
  },
  {
   "cell_type": "code",
   "execution_count": null,
   "id": "d100cb74-4f4c-40b7-aea9-2a3c970b330f",
   "metadata": {
    "tags": []
   },
   "outputs": [],
   "source": [
    "GM17 = kbase_api.get_from_ws(\"Pseudomonas_GM17_pacbio_v2.RAST.fbamodel\", 114731)\n",
    "CF142 = kbase_api.get_from_ws(\"Rhizobium_CF142_pacbio_v2.RAST.fbamodel\", 114731)\n",
    "GM17_CF142_model = kbase_api.get_from_ws(\"GM17-CF142\", 114731)\n",
    "test_pair(GM17, CF142, GM17_CF142_model)"
   ]
  },
  {
   "cell_type": "markdown",
   "id": "565310a6-13c3-40ed-b5dd-d3183e987f3b",
   "metadata": {},
   "source": [
    "## GM17 on BC15"
   ]
  },
  {
   "cell_type": "code",
   "execution_count": null,
   "id": "34b9018e-43f6-43f6-9912-e248e84a52cf",
   "metadata": {
    "tags": []
   },
   "outputs": [],
   "source": [
    "GM17 = kbase_api.get_from_ws(\"Pseudomonas_GM17_pacbio_v2.RAST.fbamodel\", 114731)\n",
    "BC15 = kbase_api.get_from_ws(\"Bacillus_sp._bc15.RAST.fbamodel\", 114731)\n",
    "GM17_BC15_model = kbase_api.get_from_ws(\"GM17-BC15\", 114731)\n",
    "test_pair(GM17, BC15, GM17_BC15_model)"
   ]
  },
  {
   "cell_type": "markdown",
   "id": "e85748b6-7c01-4318-adb9-8ae1a70c5b35",
   "metadata": {},
   "source": [
    "## CF313 on CF142 "
   ]
  },
  {
   "cell_type": "code",
   "execution_count": null,
   "id": "4c9693e5-fe5a-439b-b6a7-d1b32e289142",
   "metadata": {},
   "outputs": [],
   "source": [
    "CF313_CF142_model = kbase_api.get_from_ws(\"CF313-CF142\", 114731)\n",
    "test_pair(CF313, CF142, CF313_CF142_model)"
   ]
  },
  {
   "cell_type": "markdown",
   "id": "b5d4bbf5-a383-486b-aa65-a8b34685f599",
   "metadata": {},
   "source": [
    "## AP07 on AP49"
   ]
  },
  {
   "cell_type": "code",
   "execution_count": null,
   "id": "65b961d3-97af-4b19-8d18-259fe28f3782",
   "metadata": {
    "tags": []
   },
   "outputs": [],
   "source": [
    "AP07 = kbase_api.get_from_ws(\"Caulobacter_AP07_pacbio_v2.RAST.fbamodel\", 114731)\n",
    "AP49 = kbase_api.get_from_ws(\"Sphingobium_AP49_pacbio_v2.RAST.fbamodel\", 114731)\n",
    "AP07_AP49_model = kbase_api.get_from_ws(\"AP07-AP49\", 114731)\n",
    "test_pair(AP07, AP49, AP07_AP49_model)"
   ]
  },
  {
   "cell_type": "markdown",
   "id": "8d3c5529-c99d-4dbf-bac9-340fdfa58471",
   "metadata": {},
   "source": [
    "## CF313 on BT03"
   ]
  },
  {
   "cell_type": "code",
   "execution_count": null,
   "id": "ee85ee54-d40e-4caf-9618-55f3531e600a",
   "metadata": {
    "tags": []
   },
   "outputs": [],
   "source": [
    "BT03 = kbase_api.get_from_ws(\"Burkholderia_sp._BT03.RAST.fbamodel\", 114731)\n",
    "CF313 = kbase_api.get_from_ws(\"Variovorax_CF313_pacbio_v2.RAST.fbamodel\",114731)\n",
    "CF313_BT03_model = kbase_api.get_from_ws(\"CF313-BT03\", 114731)\n",
    "test_pair(CF313, BT03, CF313_BT03_model)"
   ]
  },
  {
   "cell_type": "markdown",
   "id": "8edc8690-81eb-4463-b9ec-babfffbd0ded",
   "metadata": {},
   "source": [
    "## YR139 on CF142"
   ]
  },
  {
   "cell_type": "code",
   "execution_count": null,
   "id": "765f864b-469d-4d4c-a2a3-b7f8ad63276a",
   "metadata": {},
   "outputs": [],
   "source": [
    "YR139 = kbase_api.get_from_ws(\"Streptomyces_YR139_pacbio_v2.RAST.fbamodel\", 114731)\n",
    "YR139_CF142_model = kbase_api.get_from_ws(\"YR139-CF142\", 114731)\n",
    "test_pair(YR139, CF142, YR139_CF142_model)"
   ]
  },
  {
   "cell_type": "markdown",
   "id": "f3527c8d-f068-47b9-a27f-72619a3e9baa",
   "metadata": {},
   "source": [
    "## GM17 on AP49"
   ]
  },
  {
   "cell_type": "code",
   "execution_count": null,
   "id": "88e080a4-06ee-4c4a-85ff-7310f56182c2",
   "metadata": {
    "tags": []
   },
   "outputs": [],
   "source": [
    "GM17_AP49_model = kbase_api.get_from_ws(\"GM17-AP49\", 114731)\n",
    "test_pair(GM17, AP49, GM17_AP49_model)"
   ]
  },
  {
   "cell_type": "markdown",
   "id": "130448d1-0a89-4e32-84d4-9e64a03e46f6",
   "metadata": {},
   "source": [
    "## GM17 on CF313"
   ]
  },
  {
   "cell_type": "code",
   "execution_count": null,
   "id": "2840df27-3843-4d3c-beb9-662bf5c17d3d",
   "metadata": {
    "tags": []
   },
   "outputs": [],
   "source": [
    "GM17_CF313_model = kbase_api.get_from_ws(\"GM17-CF313\", 114731)\n",
    "test_pair(GM17, CF313, GM17_CF313_model)"
   ]
  },
  {
   "cell_type": "markdown",
   "id": "6a8831df-314e-40de-a1cf-d9ec4cf21278",
   "metadata": {},
   "source": [
    "## GM17 on AP07"
   ]
  },
  {
   "cell_type": "code",
   "execution_count": null,
   "id": "f27b805f-2f70-4eea-b352-4d5446e2320b",
   "metadata": {
    "tags": []
   },
   "outputs": [],
   "source": [
    "GM17_AP07_model = kbase_api.get_from_ws(\"GM17-AP07\", 114731)\n",
    "test_pair(GM17, AP07, GM17_AP07_model)"
   ]
  },
  {
   "cell_type": "markdown",
   "id": "09cfc12c-d84c-4a87-836c-5829809c45b4",
   "metadata": {},
   "source": [
    "## GM17 on CF402"
   ]
  },
  {
   "cell_type": "code",
   "execution_count": null,
   "id": "d918a46f-0136-49cd-b72d-5e9f024f977c",
   "metadata": {
    "tags": []
   },
   "outputs": [],
   "source": [
    "GM17_CF402_model = kbase_api.get_from_ws(\"GM17-CF402\", 114731)\n",
    "test_pair(GM17, CF402, GM17_CF402_model)"
   ]
  },
  {
   "cell_type": "markdown",
   "id": "bcfa9f2a-5365-4385-9146-7e0ff4e21c81",
   "metadata": {},
   "source": [
    "## GM17 on BT03"
   ]
  },
  {
   "cell_type": "code",
   "execution_count": null,
   "id": "0bd97df7-4d65-4db8-bd45-969b3c36baab",
   "metadata": {
    "tags": []
   },
   "outputs": [],
   "source": [
    "GM17_BT03_model = kbase_api.get_from_ws(\"GM17-BT03\", 114731)\n",
    "test_pair(GM17, BT03, GM17_BT03_model)"
   ]
  },
  {
   "cell_type": "code",
   "execution_count": null,
   "id": "d9f37d33-045f-4139-bf4c-5bea69b5015a",
   "metadata": {},
   "outputs": [],
   "source": [
    "from cobra.medium import minimal_medium\n",
    "len(minimal_medium(CF402, minimize_components=True))"
   ]
  },
  {
   "cell_type": "markdown",
   "id": "40fbe40e-4209-4052-9e38-27d7678c3cf2",
   "metadata": {},
   "source": [
    "# Statistically process the above results"
   ]
  },
  {
   "cell_type": "markdown",
   "id": "4aafb7df-6069-42e6-a679-8a7ef2f9bd74",
   "metadata": {},
   "source": [
    "## MRO scores"
   ]
  },
  {
   "cell_type": "markdown",
   "id": "ccf0667e-f707-464c-a06c-740e75f15c39",
   "metadata": {},
   "source": [
    "### Parsed MRO values"
   ]
  },
  {
   "cell_type": "code",
   "execution_count": null,
   "id": "2ae27ca9-933c-49e6-a9cb-4199adcf712f",
   "metadata": {},
   "outputs": [],
   "source": [
    "# from scipy import stats\n",
    "# posInteractions = [YR343_CF313.mro[0], AP49_BC15.mro[0], YR343_CF313.mro[0], YR343_CF313.mro[0]]\n",
    "# negInteractions = [0.8636363636363636, 0.9, 0.9473684210526315, 0.7727272727272727, 0.8636363636363636, 0.8181818181818182, 0.8181818181818182, 0.8181818181818182, 0.8]\n",
    "\n",
    "# ttest = stats.ttest_ind(posInteractions, negInteractions)\n",
    "# print(ttest.pvalue)"
   ]
  },
  {
   "cell_type": "code",
   "execution_count": null,
   "id": "421fddba-1c26-4f2c-b806-ed798cb02782",
   "metadata": {},
   "outputs": [],
   "source": [
    "from scipy import stats\n",
    "posInteractions = [1, 0.7619047619047619, 0.38636363636363635, 0.36363636363636365]\n",
    "negInteractions = [0.8636363636363636, 0.9, 0.9473684210526315, 0.7727272727272727, 0.8636363636363636, 0.8181818181818182, 0.8181818181818182, 0.8181818181818182, 0.8]\n",
    "\n",
    "ttest = stats.ttest_ind(posInteractions, negInteractions)\n",
    "print(ttest.pvalue)"
   ]
  },
  {
   "cell_type": "code",
   "execution_count": null,
   "id": "d1007e54-cefd-4d00-984a-ed572c7646fb",
   "metadata": {},
   "outputs": [],
   "source": [
    "from matplotlib import pyplot\n",
    "import sigfig\n",
    "\n",
    "pyplot.rc('axes', titlesize=20, labelsize=20)\n",
    "pyplot.rc('xtick', labelsize=20)\n",
    "pyplot.rc('ytick', labelsize=20)\n",
    "pyplot.rc('legend', fontsize=18)\n",
    "fig = pyplot.figure(figsize=(7,10))\n",
    "\n",
    "pyplot.boxplot([posInteractions, negInteractions], labels=[\"'+'\", \"'--'\"])\n",
    "pyplot.scatter([1]*len(posInteractions), posInteractions)\n",
    "pyplot.scatter([2]*len(negInteractions), negInteractions)\n",
    "pyplot.xlabel(\"Interaction type\")\n",
    "pyplot.ylabel(\"MRO score (overlap)\")\n",
    "pyplot.text(1.6,.7, f\"p-value: {sigfig.round(ttest.pvalue, sigfigs=3)}\", fontsize=\"x-large\")\n",
    "fig.savefig(\"parsed MRO comparion.jpg\")\n",
    "# display(fig)\n",
    "# pyplot.show()"
   ]
  },
  {
   "cell_type": "markdown",
   "id": "adad8cf4-d78d-4a1a-a505-258df73edf87",
   "metadata": {},
   "source": [
    "### Averaged MRO values"
   ]
  },
  {
   "cell_type": "code",
   "execution_count": null,
   "id": "b669ba31-e86c-4ed0-a742-c114a4510eaf",
   "metadata": {
    "tags": []
   },
   "outputs": [],
   "source": [
    "from scipy import stats\n",
    "posInteractions = [0.9444444444444444, 0.7804878048780488, 0.5396825396825397, 0.53125]\n",
    "negInteractions = [0.9047619047619048, 0.8780487804878049, 0.9473684210526315]\n",
    "negInteractions2 = [0.8095238095238095, 0.926829268292683, 0.9473684210526315, 0.926829268292683, 0.8095238095238095, 0.5757575757575758, 0.8780487804878049]\n",
    "posInteractions2 = [0.9444444444444444, 0.7804878048780488, 0.5396825396825397, 0.53125]\n",
    "\n",
    "ttest = stats.ttest_ind(posInteractions2, negInteractions2)\n",
    "print(ttest.pvalue)"
   ]
  },
  {
   "cell_type": "code",
   "execution_count": null,
   "id": "057d0fa1-c9b1-45b4-a976-5bbf9278dcec",
   "metadata": {
    "tags": []
   },
   "outputs": [],
   "source": [
    "from matplotlib import pyplot\n",
    "import sigfig\n",
    "\n",
    "pyplot.rc('axes', titlesize=20, labelsize=20)\n",
    "pyplot.rc('xtick', labelsize=20)\n",
    "pyplot.rc('ytick', labelsize=20)\n",
    "pyplot.rc('legend', fontsize=18)\n",
    "fig = pyplot.figure(figsize=(7,10))\n",
    "\n",
    "pyplot.boxplot([posInteractions2, negInteractions2], labels=[\"'+'\", \"'--'\"])\n",
    "pyplot.scatter([1]*len(posInteractions2), posInteractions2)\n",
    "pyplot.scatter([2]*len(negInteractions2), negInteractions2)\n",
    "pyplot.xlabel(\"Interaction type\")\n",
    "pyplot.ylabel(\"MRO score (overlap)\")\n",
    "pyplot.text(1.6,.7, f\"p-value: {sigfig.round(ttest.pvalue, sigfigs=3)}\", fontsize=\"x-large\")\n",
    "fig.savefig(\"MRO comparion.jpg\")\n",
    "# display(fig)\n",
    "# pyplot.show()"
   ]
  },
  {
   "cell_type": "markdown",
   "id": "9216f60c-71e5-4123-a026-415ad9a255f8",
   "metadata": {},
   "source": [
    "## MIP scores"
   ]
  },
  {
   "cell_type": "code",
   "execution_count": null,
   "id": "940c5d87-184a-4c71-a58a-f88277fc481b",
   "metadata": {},
   "outputs": [],
   "source": [
    "from scipy import stats\n",
    "# posInteractions =[YR343_CF313.mip, AP49_BC15.mip, CF402_CF313.mip, CF402_BC15.mip]\n",
    "# negInteractions = [GM17_BC15.mip, AP07_AP49.mip, CF313_BT03.mip, GM17_AP49.mip, GM17_CF313.mip, GM17_AP07.mip, GM17_CF402.mip, GM17_BT03.mip, CF402_BC15.mip]\n",
    "negInteractions = [0, 0, 0, 0, 1, 4, 0]\n",
    "posInteractions = [0, 1, 6, 7]\n",
    "\n",
    "ttest = stats.ttest_ind(posInteractions, negInteractions)\n",
    "print(ttest.pvalue)"
   ]
  },
  {
   "cell_type": "code",
   "execution_count": null,
   "id": "a68f5f50-ea3d-4d1a-b16b-9b0412c16e6c",
   "metadata": {},
   "outputs": [],
   "source": [
    "from matplotlib import pyplot\n",
    "import sigfig\n",
    "\n",
    "pyplot.rc('axes', titlesize=20, labelsize=20)\n",
    "pyplot.rc('xtick', labelsize=20)\n",
    "pyplot.rc('ytick', labelsize=20)\n",
    "pyplot.rc('legend', fontsize=18)\n",
    "fig = pyplot.figure(figsize=(7,10))\n",
    "\n",
    "pyplot.boxplot([posInteractions, negInteractions], labels=[\"'+'\", \"'--'\"])\n",
    "pyplot.scatter([1]*len(posInteractions), posInteractions)\n",
    "pyplot.scatter([2]*len(negInteractions), negInteractions)\n",
    "pyplot.xlabel(\"Interaction type\")\n",
    "pyplot.ylabel(\"MIP score (syntrophy)\")\n",
    "pyplot.text(1.6,2, f\"p-value: {sigfig.round(ttest.pvalue, sigfigs=3)}\", fontsize=\"x-large\")\n",
    "fig.savefig(\"MIP comparion.jpg\")\n",
    "# display(fig)\n",
    "# pyplot.show()"
   ]
  },
  {
   "cell_type": "markdown",
   "id": "a3f98436-281c-4672-b31b-ef5c72ba0876",
   "metadata": {},
   "source": [
    "## smetana score"
   ]
  },
  {
   "cell_type": "code",
   "execution_count": null,
   "id": "68c1c46f-8ae5-4cd6-b408-9d231207c3b3",
   "metadata": {},
   "outputs": [],
   "source": [
    "from scipy import stats\n",
    "posInteractions = [63.57, 47.18, 52.63, 46, 32, 38, 0, 0]\n",
    "negInteractions = [53, 48.1, 44.76, 45, 0, 0]\n",
    "\n",
    "ttest = stats.ttest_ind(posInteractions, negInteractions)\n",
    "print(ttest.pvalue)"
   ]
  },
  {
   "cell_type": "code",
   "execution_count": null,
   "id": "eefd1a1c-2193-4e88-a9e1-fc58d98cdec0",
   "metadata": {},
   "outputs": [],
   "source": [
    "from matplotlib import pyplot\n",
    "import sigfig\n",
    "\n",
    "pyplot.rc('axes', titlesize=20, labelsize=20)\n",
    "pyplot.rc('xtick', labelsize=20)\n",
    "pyplot.rc('ytick', labelsize=20)\n",
    "pyplot.rc('legend', fontsize=18)\n",
    "fig = pyplot.figure(figsize=(7,10))\n",
    "\n",
    "pyplot.boxplot([posInteractions, negInteractions], labels=[\"'+'\", \"'--'\"])\n",
    "pyplot.scatter([1]*len(posInteractions), posInteractions)\n",
    "pyplot.scatter([2]*len(negInteractions), negInteractions)\n",
    "pyplot.xlabel(\"Interaction type\")\n",
    "pyplot.ylabel(\"smetana score (syntrophy potential)\")\n",
    "pyplot.text(1.6,62, f\"p-value: {sigfig.round(ttest.pvalue, sigfigs=3)}\", fontsize=\"x-large\")\n",
    "fig.savefig(\"smetana comparion.jpg\")\n",
    "# display(fig)\n",
    "# pyplot.show()"
   ]
  },
  {
   "cell_type": "code",
   "execution_count": null,
   "id": "6f8c0fad-439e-410d-a2ba-8089b73fbc1d",
   "metadata": {},
   "outputs": [],
   "source": []
  }
 ],
 "metadata": {
  "kernelspec": {
   "display_name": "Python 3 (ipykernel)",
   "language": "python",
   "name": "python3"
  },
  "language_info": {
   "codemirror_mode": {
    "name": "ipython",
    "version": 3
   },
   "file_extension": ".py",
   "mimetype": "text/x-python",
   "name": "python",
   "nbconvert_exporter": "python",
   "pygments_lexer": "ipython3",
   "version": "3.9.6"
  }
 },
 "nbformat": 4,
 "nbformat_minor": 5
}
