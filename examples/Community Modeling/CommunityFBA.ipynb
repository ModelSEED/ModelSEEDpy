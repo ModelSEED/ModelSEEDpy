{
 "cells": [
  {
   "cell_type": "code",
   "execution_count": 1,
   "metadata": {},
   "outputs": [
    {
     "name": "stdout",
     "output_type": "stream",
     "text": [
      "cobrakbase 0.2.7\n"
     ]
    }
   ],
   "source": [
    "import cobra\n",
    "from cobra import Model, Reaction, Metabolite\n",
    "import pandas as pd\n",
    "import cplex\n",
    "import optlang\n",
    "import math\n",
    "import json\n",
    "import sys\n",
    "import cProfile\n",
    "from optlang.symbolics import Zero, add\n",
    "import cobra.util.solver as sutil\n",
    "from cobra.flux_analysis.parsimonious import pfba\n",
    "from IPython.core.display import HTML\n",
    "import cobrakbase\n",
    "sys.path.append(\"/Users/chenry/code/ModelSEEDpy\")\n",
    "#import modelseedpy.fbapkg\n",
    "from modelseedpy import ElementUptakePkg, SimpleThermoPkg, ReactionUsePkg, BilevelPkg, CommKineticPkg,KBaseMediaPkg\n"
   ]
  },
  {
   "cell_type": "code",
   "execution_count": 1,
   "metadata": {},
   "outputs": [
    {
     "ename": "NameError",
     "evalue": "name 'cobrakbase' is not defined",
     "output_type": "error",
     "traceback": [
      "\u001b[1;31m---------------------------------------------------------------------------\u001b[0m",
      "\u001b[1;31mNameError\u001b[0m                                 Traceback (most recent call last)",
      "\u001b[1;32m<ipython-input-1-13e6d2792975>\u001b[0m in \u001b[0;36m<module>\u001b[1;34m\u001b[0m\n\u001b[1;32m----> 1\u001b[1;33m \u001b[0mkbase_api\u001b[0m \u001b[1;33m=\u001b[0m \u001b[0mcobrakbase\u001b[0m\u001b[1;33m.\u001b[0m\u001b[0mKBaseAPI\u001b[0m\u001b[1;33m(\u001b[0m\u001b[1;33m)\u001b[0m\u001b[1;33m\u001b[0m\u001b[1;33m\u001b[0m\u001b[0m\n\u001b[0m\u001b[0;32m      2\u001b[0m \u001b[0mmodel\u001b[0m \u001b[1;33m=\u001b[0m \u001b[0mkbase_api\u001b[0m\u001b[1;33m.\u001b[0m\u001b[0mget_from_ws\u001b[0m\u001b[1;33m(\u001b[0m\u001b[1;34m\"CMM_iAH991V2_iML1515.kb\"\u001b[0m\u001b[1;33m,\u001b[0m\u001b[1;36m40576\u001b[0m\u001b[1;33m)\u001b[0m\u001b[1;33m\u001b[0m\u001b[1;33m\u001b[0m\u001b[0m\n\u001b[0;32m      3\u001b[0m \u001b[0mmodel\u001b[0m\u001b[1;33m.\u001b[0m\u001b[0msolver\u001b[0m \u001b[1;33m=\u001b[0m \u001b[1;34m'optlang-cplex'\u001b[0m\u001b[1;33m\u001b[0m\u001b[1;33m\u001b[0m\u001b[0m\n\u001b[0;32m      4\u001b[0m \u001b[1;33m\u001b[0m\u001b[0m\n\u001b[0;32m      5\u001b[0m \u001b[1;31m#Applying uptake limit to total carbon uptake by model\u001b[0m\u001b[1;33m\u001b[0m\u001b[1;33m\u001b[0m\u001b[1;33m\u001b[0m\u001b[0m\n",
      "\u001b[1;31mNameError\u001b[0m: name 'cobrakbase' is not defined"
     ]
    }
   ],
   "source": [
    "kbase_api = cobrakbase.KBaseAPI()\n",
    "model = kbase_api.get_from_ws(\"CMM_iAH991V2_iML1515.kb\",40576)\n",
    "model.solver = 'optlang-cplex'\n",
    "\n",
    "#Applying uptake limit to total carbon uptake by model\n",
    "eup = ElementUptakePkg(model)\n",
    "eup.build_package({\"C\":60})\n",
    "#Applying constraints based on KBase media\n",
    "media = kbase_api.get_from_ws(\"Btheta_Ecoli_minimal_media\",40576)\n",
    "kmp = KBaseMediaPkg(model)\n",
    "kmp.build_package(media)\n",
    "#Applying community model kinetic constraints\n",
    "ckp = CommKineticPkg(model)\n",
    "ckp.build_package(2100,{\"1\":0.5,\"2\":0.5})\n",
    "\n",
    "biomass_objective = model.problem.Objective(\n",
    "    1 * model.reactions.bio1.flux_expression,\n",
    "    direction='max')\n",
    "model.objective = biomass_objective\n",
    "\n",
    "#sol=model.optimize()\n",
    "model.summary()"
   ]
  },
  {
   "cell_type": "code",
   "execution_count": null,
   "metadata": {},
   "outputs": [],
   "source": []
  }
 ],
 "metadata": {
  "kernelspec": {
   "display_name": "Python 3",
   "language": "python",
   "name": "python3"
  },
  "language_info": {
   "codemirror_mode": {
    "name": "ipython",
    "version": 3
   },
   "file_extension": ".py",
   "mimetype": "text/x-python",
   "name": "python",
   "nbconvert_exporter": "python",
   "pygments_lexer": "ipython3",
   "version": "3.7.4"
  }
 },
 "nbformat": 4,
 "nbformat_minor": 4
}
