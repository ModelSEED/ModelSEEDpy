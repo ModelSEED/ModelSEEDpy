{
 "cells": [
  {
   "cell_type": "code",
   "execution_count": 1,
   "id": "a623aae0",
   "metadata": {
    "scrolled": true
   },
   "outputs": [
    {
     "name": "stdout",
     "output_type": "stream",
     "text": [
      "cobrakbase 0.2.7\n"
     ]
    }
   ],
   "source": [
    "import cobra\n",
    "from cobra import Model, Reaction, Metabolite\n",
    "import pandas as pd\n",
    "import cplex\n",
    "import optlang\n",
    "import math\n",
    "import json\n",
    "import sys\n",
    "import cProfile\n",
    "from optlang.symbolics import Zero, add\n",
    "import cobra.util.solver as sutil\n",
    "from cobra.flux_analysis.parsimonious import pfba\n",
    "from IPython.core.display import HTML\n",
    "import cobrakbase\n",
    "sys.path.append(\"/Users/chandhanavoleti/Documents/SULI/ModelSEEDpy/ModelSEEDpy\") #replace\n",
    "#import modelseedpy.fbapkg\n",
    "from modelseedpy import ElementUptakePkg, SimpleThermoPkg, ReactionUsePkg, BilevelPkg, CommKineticPkg, KBaseMediaPkg\n",
    "\n",
    "from collections import Counter\n",
    "import numpy as np\n",
    "from itertools import combinations\n",
    "import networkx as nx"
   ]
  },
  {
   "cell_type": "code",
   "execution_count": 2,
   "id": "8f2f9657",
   "metadata": {},
   "outputs": [],
   "source": [
    "# Parameters:\n",
    "#      modelInfo: array [model id, workspace number]\n",
    "#      mediaInfo: array [media id, workspace number]\n",
    "#      kinetic coefficient: parameter for CommKineticPkg()\n",
    "#      abundances: parameter for CommKineticPkg()\n",
    "#      graph1: if 1, displays graph with nodes for species and edges labeled with the interaction fluxes\n",
    "#      graph2: if 1, stores data with graphInfo array, can use to create plots\n",
    "\n",
    "def communityFBA(modelInfo,mediaInfo,kinetic_coeff,abundances=None,graph1=None,graph2=None,graphInfo=None):\n",
    "    \n",
    "    # Constraints\n",
    "    kbase_api = cobrakbase.KBaseAPI()\n",
    "    model = kbase_api.get_from_ws(modelInfo[0],modelInfo[1])\n",
    "    model.solver = 'optlang-cplex'\n",
    "\n",
    "    #Applying uptake limit to total carbon uptake by model\n",
    "    eup = ElementUptakePkg(model)\n",
    "    eup.build_package({\"C\":60})\n",
    "    #Applying constraints based on KBase media\n",
    "    media = kbase_api.get_from_ws(mediaInfo[0],mediaInfo[1])\n",
    "    kmp = KBaseMediaPkg(model)\n",
    "    kmp.build_package(media)\n",
    "    #Applying community model kinetic constraints\n",
    "    ckp = CommKineticPkg(model)\n",
    "    ckp.build_package(kinetic_coeff,abundances)\n",
    "    \n",
    "    # ----------------------------------------------------------------\n",
    "    \n",
    "    # FBA\n",
    "    biomass_objective = model.problem.Objective(\n",
    "        1 * model.reactions.bio1.flux_expression,\n",
    "        direction='max')\n",
    "    model.objective = biomass_objective\n",
    "    \n",
    "    sol=model.optimize()\n",
    "    \n",
    "    # ----------------------------------------------------------------\n",
    "    \n",
    "    # Compute exchanges\n",
    "    exchanges = {}\n",
    "    speciesNum = []\n",
    "    external_metabolites = []\n",
    "    for rxn in model.reactions:\n",
    "        # obtain species\n",
    "        ind = rxn.id.rfind('_')\n",
    "        if (rxn.id[ind + 1] == 'c' or rxn.id[ind + 1] == 'p') and rxn.id[ind + 2: ] != '0':\n",
    "            species = rxn.id[ind + 2: ]\n",
    "            speciesNum.append(species)\n",
    "\n",
    "            for metabolite in rxn.metabolites:\n",
    "                if metabolite.compartment == \"e0\":\n",
    "                    external_metabolites.append(metabolite.id)\n",
    "                    rate = 0\n",
    "                    flux = sol.fluxes[rxn.id]\n",
    "                    if flux != 0:\n",
    "                        rate += rxn.metabolites[metabolite]*flux\n",
    "                    if rate != 0:\n",
    "                        exchanges[(metabolite.id,species)] = rate\n",
    "\n",
    "    speciesNum = np.unique(speciesNum) # array of species numbers (ex. [\"1\",\"2\",\"3\"])\n",
    "    speciesNumLen = len(speciesNum) # number of species (ex. 3)\n",
    "    \n",
    "    # ----------------------------------------------------------------\n",
    "    \n",
    "    # Cross feeding\n",
    "    cross_all = []\n",
    "    for metabolite in external_metabolites:\n",
    "        r_out = {x: r for (m, x), r in exchanges.items() if m == metabolite and r > 0}\n",
    "        r_in = {x: -r for (m, x), r in exchanges.items() if m == metabolite and -r > 0}\n",
    "        total_in = sum(r_in.values())\n",
    "        total_out = sum(r_out.values())\n",
    "        total = max(total_in, total_out)\n",
    "\n",
    "        cross = [(o1, o2, metabolite, r1 * r2 / total) for o1, r1 in r_out.items() for o2, r2 in r_in.items()]\n",
    "        cross_all.extend(cross) # array columns: [donor, receiver, compound, rate]\n",
    "\n",
    "    production = [[0] * speciesNumLen for i in range(speciesNumLen)] \n",
    "    consumption = [[0] * speciesNumLen for i in range(speciesNumLen)]\n",
    "    # format: production[donorSpecies][receivingSpecies], where donorSpecies and receivingSpecies are indices\n",
    "    # for value in the matrix that signifies the flux produced by donorSpecies and consumed by receivingSpecies\n",
    "\n",
    "    # access location that corresponds to donorSpecies and receivingSpecies interaction and add flux value\n",
    "    for i in cross_all:\n",
    "        if i[0] is not None and i[1] is not None:\n",
    "            production[int(i[0])-1][int(i[1])-1] += i[3]\n",
    "            consumption[int(i[1])-1][int(i[0])-1] += i[3]\n",
    "            \n",
    "    # ----------------------------------------------------------------\n",
    "    \n",
    "    # Graphing\n",
    "    if graph1 == 1: \n",
    "        G=nx.Graph()\n",
    "        for i in speciesNum:\n",
    "            G.add_node(i)\n",
    "        for k in combinations(speciesNum, 2):\n",
    "            sp1 = int(k[0])-1\n",
    "            sp2 = int(k[1])-1\n",
    "            interaction_flux = production[sp1][sp2]\n",
    "            G.add_edge(k[0],k[1],weight=interaction_flux)\n",
    "\n",
    "        pos=nx.circular_layout(G)\n",
    "        nx.draw_networkx(G,pos)\n",
    "        labels = nx.get_edge_attributes(G,'weight')\n",
    "        nx.draw_networkx_edge_labels(G,pos,edge_labels=labels)\n",
    "        \n",
    "    elif graph2 == 1: \n",
    "        # format of graphInfo: [total community biomass, nutrient uptake flux, byproduct production flux, \n",
    "        # interaction fluxes (multiple values, if multiple interactions), total interaction flux]\n",
    "        \n",
    "        # total community biomass\n",
    "        graphInfo.append(sol.objective_value)\n",
    "        \n",
    "        # nutrient uptake/byproduct production\n",
    "        nutrient_uptake = 0\n",
    "        byproduct_production = 0\n",
    "        for i in model.medium:\n",
    "            if sol.fluxes[i] > 0:\n",
    "                nutrient_uptake += sol.fluxes[i]\n",
    "            elif sol.fluxes[i] < 0:\n",
    "                byproduct_production += sol.fluxes[i]\n",
    "        graphInfo.append(nutrient_uptake)\n",
    "        graphInfo.append(byproduct_production)\n",
    "        \n",
    "        # interaction between each species pair + total interaction flux\n",
    "        total_interaction_flux = 0\n",
    "        for k in combinations(speciesNum, 2):\n",
    "            sp1 = int(k[0])-1\n",
    "            sp2 = int(k[1])-1\n",
    "            interaction_flux = production[sp1][sp2]\n",
    "            graphInfo.append(interaction_flux)\n",
    "            total_interaction_flux = total_interaction_flux + interaction_flux\n",
    "        graphInfo.append(total_interaction_flux)  "
   ]
  },
  {
   "cell_type": "markdown",
   "id": "2423bf3c",
   "metadata": {},
   "source": [
    "# 2-member community model"
   ]
  },
  {
   "cell_type": "code",
   "execution_count": 3,
   "id": "e67ba49a",
   "metadata": {
    "scrolled": true
   },
   "outputs": [],
   "source": [
    "# TWO-MEMBER ZAHMEETH COMMUNITY MODEL\n",
    "modelInfo_2 = [\"CMM_iAH991V2_iML1515.kb\",40576]\n",
    "mediaInfo_2 = [\"Btheta_Ecoli_minimal_media\",40576]\n",
    "graphInfo1 = []\n",
    "communityFBA(modelInfo_2,mediaInfo_2,2100,abundances={\"1\":0.5,\"2\":0.5},graph1=1,graphInfo=graphInfo1)"
   ]
  },
  {
   "cell_type": "markdown",
   "id": "7690e810",
   "metadata": {},
   "source": [
    "# Changing the kinetic coefficient"
   ]
  },
  {
   "cell_type": "code",
   "execution_count": 4,
   "id": "3fb416cd",
   "metadata": {},
   "outputs": [],
   "source": [
    "allGraphInfo_kp2 = []\n",
    "for kinetic_coeff in range(1000,4000,300):\n",
    "    graphInfo_kp2 = []\n",
    "    communityFBA(modelInfo_2,mediaInfo_2,kinetic_coeff=kinetic_coeff,abundances={\"1\":0.5,\"2\":0.5},graph2=1,graphInfo=graphInfo_kp2)\n",
    "    allGraphInfo_kp2.append([kinetic_coeff, graphInfo_kp2])"
   ]
  },
  {
   "cell_type": "code",
   "execution_count": 5,
   "id": "0b8a3495",
   "metadata": {},
   "outputs": [],
   "source": [
    "# Display all graphs together:\n",
    "import matplotlib.pyplot as plt\n",
    "\n",
    "figure, axis = plt.subplots(5, 1, sharex=True)\n",
    "plt.title(\"Two-member community model\")\n",
    "plt.xlabel(\"Kinetic coefficient\")\n",
    "  \n",
    "axis[0].plot([col[0] for col in allGraphInfo_kp2], [col[1][0] for col in allGraphInfo_kp2], 'o-')\n",
    "axis[0].set_title(\"Total community biomass\")\n",
    "\n",
    "axis[1].plot([col[0] for col in allGraphInfo_kp2], [col[1][1] for col in allGraphInfo_kp2], 'o-')\n",
    "axis[1].set_title(\"Nutrient Uptake Flux\")\n",
    "\n",
    "axis[2].plot([col[0] for col in allGraphInfo_kp2], [col[1][2] for col in allGraphInfo_kp2], 'o-')\n",
    "axis[2].set_title(\"Byproduct Production Flux\")\n",
    "\n",
    "axis[3].plot([col[0] for col in allGraphInfo_kp2], [col[1][3] for col in allGraphInfo_kp2], 'o-')\n",
    "axis[3].set_title(\"Interaction between each species pair (E.coli and B.theta)\")\n",
    "\n",
    "axis[4].plot([col[0] for col in allGraphInfo_kp2], [col[1][4] for col in allGraphInfo_kp2], 'o-')\n",
    "axis[4].set_title(\"Total interaction flux\")\n",
    "\n",
    "plt.rcParams['figure.dpi'] = 100\n",
    "plt.show()"
   ]
  },
  {
   "cell_type": "code",
   "execution_count": 6,
   "id": "20a2ba6e",
   "metadata": {},
   "outputs": [],
   "source": [
    "# To display individual graphs:\n",
    "import matplotlib.pyplot as plt2\n",
    "\n",
    "colNum_kp2 = 0 # corresponds to columns in allGraphInfo_kinetic2 (total community biomass, nutrient uptake flux, etc.)\n",
    "plt2.plot([col[0] for col in allGraphInfo_kp2], [col[1][colNum_kp2] for col in allGraphInfo_kp2], 'o-')\n",
    "plt2.title(\"Two-member community model: total interaction flux\") # change title accordingly\n",
    "plt2.xlabel(\"Kinetic coefficient\")\n",
    "plt2.show()"
   ]
  },
  {
   "cell_type": "markdown",
   "id": "caf1147c",
   "metadata": {},
   "source": [
    "# Changing the species abundances"
   ]
  },
  {
   "cell_type": "code",
   "execution_count": 7,
   "id": "baf42571",
   "metadata": {},
   "outputs": [],
   "source": [
    "allGraphInfo_sa2 = []\n",
    "for abundance1 in np.arange(0.1,1.0,0.2):\n",
    "    graphInfo_sa2 = []\n",
    "    abundance2 = 1.0 - abundance1\n",
    "    communityFBA(modelInfo_2,mediaInfo_2,kinetic_coeff=2100,abundances={\"1\":abundance1,\"2\":abundance2},graph2=1,graphInfo=graphInfo_sa2)\n",
    "    allGraphInfo_sa2.append([abundance1, graphInfo_sa2])"
   ]
  },
  {
   "cell_type": "code",
   "execution_count": 8,
   "id": "29fba9af",
   "metadata": {},
   "outputs": [],
   "source": [
    "# To display all graphs together:\n",
    "import matplotlib.pyplot as plt3\n",
    "\n",
    "figure3, axis3 = plt3.subplots(5, 1, sharex=True)\n",
    "plt3.title(\"Two-member community model\")\n",
    "plt3.xlabel(\"Species abundance\")\n",
    "plt3.xticks(np.arange(5), ['{E.coli:0.1,\\nB.theta:0.9}', '{E.coli:0.3,\\nB.theta:0.7}', '{E.coli:0.5,\\nB.theta:0.5}', '{E.coli:0.7,\\nB.theta:0.3}', '{E.coli:0.9,\\nB.theta:0.1}'])  \n",
    "  \n",
    "axis3[0].plot([col[0] for col in allGraphInfo_sa2], [col[1][0] for col in allGraphInfo_sa2], 'o-')\n",
    "axis3[0].set_title(\"Total community biomass\")\n",
    "\n",
    "axis3[1].plot([col[0] for col in allGraphInfo_sa2], [col[1][1] for col in allGraphInfo_sa2], 'o-')\n",
    "axis3[1].set_title(\"Nutrient Uptake Flux\")\n",
    "\n",
    "axis3[2].plot([col[0] for col in allGraphInfo_sa2], [col[1][2] for col in allGraphInfo_sa2], 'o-')\n",
    "axis3[2].set_title(\"Byproduct Production Flux\")\n",
    "\n",
    "axis3[3].plot([col[0] for col in allGraphInfo_sa2], [col[1][3] for col in allGraphInfo_sa2], 'o-')\n",
    "axis3[3].set_title(\"Interaction between each species pair (species 1 and 2)\")\n",
    "\n",
    "axis3[4].plot([col[0] for col in allGraphInfo_sa2], [col[1][4] for col in allGraphInfo_sa2], 'o-')\n",
    "axis3[4].set_title(\"Total interaction flux\")\n",
    "\n",
    "plt3.rcParams['figure.dpi'] = 100\n",
    "plt3.show()"
   ]
  },
  {
   "cell_type": "code",
   "execution_count": 9,
   "id": "7ed1cfa3",
   "metadata": {},
   "outputs": [],
   "source": [
    "# To display individual graphs:\n",
    "import matplotlib.pyplot as plt4\n",
    "\n",
    "colNum_sa2 = 0\n",
    "plt4.plot([i for i in list(range(5))], [col[1][colNum_sa2] for col in allGraphInfo_sa2], 'o-')\n",
    "plt4.title(\"Total community biomass\")\n",
    "plt4.xlabel(\"Relative abundance\")\n",
    "plt4.xticks(np.arange(5), ['{E.coli:0.1,\\nB.theta:0.9}', '{E.coli:0.3,\\nB.theta:0.7}', '{E.coli:0.5,\\nB.theta:0.5}', '{E.coli:0.7,\\nB.theta:0.3}', '{E.coli:0.9,\\nB.theta:0.1}'])  \n",
    "plt4.show()"
   ]
  },
  {
   "cell_type": "markdown",
   "id": "6f12c5ba",
   "metadata": {},
   "source": [
    "# 3-member community model"
   ]
  },
  {
   "cell_type": "code",
   "execution_count": 10,
   "id": "c0b0a1bb",
   "metadata": {},
   "outputs": [
    {
     "name": "stderr",
     "output_type": "stream",
     "text": [
      "WARNING:cobrakbase.core.kbasefba.fbamodel_builder:unable to add sink for [cpd02701_c0]: not found\n",
      "WARNING:cobrakbase.core.kbasefba.fbamodel_builder:unable to add sink for [cpd15302_c0]: not found\n"
     ]
    },
    {
     "name": "stdout",
     "output_type": "stream",
     "text": [
      "1:bio2\n",
      "2:bio3\n",
      "3:bio4\n"
     ]
    },
    {
     "data": {
      "image/png": "[encoded data removed]",
      "text/plain": [
       "<Figure size 432x288 with 1 Axes>"
      ]
     },
     "metadata": {},
     "output_type": "display_data"
    }
   ],
   "source": [
    "modelInfo_3 = [\"electro.community.edited.v2\",93204]\n",
    "mediaInfo_3 = [\"CO2_minimal\",93204]\n",
    "graphInfo2 = []\n",
    "communityFBA(modelInfo_3,mediaInfo_3,2100,graph1=1,graphInfo=graphInfo2)"
   ]
  },
  {
   "cell_type": "markdown",
   "id": "7a7723ac",
   "metadata": {},
   "source": [
    "# Changing the kinetic coefficients"
   ]
  },
  {
   "cell_type": "code",
   "execution_count": 11,
   "id": "ada4898c",
   "metadata": {},
   "outputs": [],
   "source": [
    "allGraphInfo_kp3 = []\n",
    "for kinetic_coeff in range(1000,4000,300):\n",
    "    graphInfo_kp3 = []\n",
    "    communityFBA(modelInfo_3,mediaInfo_3,kinetic_coeff=kinetic_coeff,graph2=1,graphInfo=graphInfo_kp3)\n",
    "    allGraphInfo_kp3.append([kinetic_coeff, graphInfo_kp3])"
   ]
  },
  {
   "cell_type": "code",
   "execution_count": 12,
   "id": "8bba677c",
   "metadata": {},
   "outputs": [],
   "source": [
    "# Display all graphs together:\n",
    "import matplotlib.pyplot as plt5\n",
    "\n",
    "figure5, axis5 = plt5.subplots(7, 1, sharex=True)\n",
    "pl5.title(\"Three-member community model\")\n",
    "pl5.xlabel(\"Kinetic coefficient\")\n",
    "  \n",
    "axis5[0].plot([col[0] for col in allGraphInfo_kp3], [col[1][0] for col in allGraphInfo_kp3], 'o-')\n",
    "axis5[0].set_title(\"Total community biomass\")\n",
    "\n",
    "axis5[1].plot([col[0] for col in allGraphInfo_kp3], [col[1][1] for col in allGraphInfo_kp3], 'o-')\n",
    "axis5[1].set_title(\"Nutrient Uptake Flux\")\n",
    "\n",
    "axis5[2].plot([col[0] for col in allGraphInfo_kp3], [col[1][2] for col in allGraphInfo_kp3], 'o-')\n",
    "axis5[2].set_title(\"Byproduct Production Flux\")\n",
    "\n",
    "axis5[3].plot([col[0] for col in allGraphInfo_kp3], [col[1][3] for col in allGraphInfo_kp3], 'o-')\n",
    "axis5[3].set_title(\"Interaction between each species pair (Acetobacterium and Sulfurospirillum)\")\n",
    "\n",
    "axis5[4].plot([col[0] for col in allGraphInfo_kp3], [col[1][4] for col in allGraphInfo_kp3], 'o-')\n",
    "axis5[4].set_title(\"Interaction between each species pair (Acetobacterium and Desulfovibrio)\")\n",
    "\n",
    "axis5[5].plot([col[0] for col in allGraphInfo_kp3], [col[1][5] for col in allGraphInfo_kp3], 'o-')\n",
    "axis5[5].set_title(\"Interaction between each species pair (Sulfurospirillum and Desulfovibrio)\")\n",
    "\n",
    "axis5[6].plot([col[0] for col in allGraphInfo_kp3], [col[1][6] for col in allGraphInfo_kp3], 'o-')\n",
    "axis5[6].set_title(\"Total interaction flux\")\n",
    "\n",
    "plt5.rcParams['figure.dpi'] = 100\n",
    "plt5.show()"
   ]
  },
  {
   "cell_type": "code",
   "execution_count": 13,
   "id": "b54721ff",
   "metadata": {},
   "outputs": [],
   "source": [
    "# To display individual graphs:\n",
    "import matplotlib.pyplot as plt6\n",
    "\n",
    "colNum_kp3 = 0 \n",
    "plt6.plot([col[0] for col in allGraphInfo_kp3], [col[1][colNum_kp3] for col in allGraphInfo_kp3], 'o-')\n",
    "plt6.title(\"Three-member community model: total community biomass\") # change title accordingly\n",
    "plt6.xlabel(\"Kinetic coefficient\")\n",
    "plt6.show()"
   ]
  },
  {
   "cell_type": "markdown",
   "id": "7828a185",
   "metadata": {},
   "source": [
    "# Changing the species abundances"
   ]
  },
  {
   "cell_type": "code",
   "execution_count": 24,
   "id": "7f14e0d2",
   "metadata": {},
   "outputs": [],
   "source": [
    "allGraphInfo_sa3 = []\n",
    "\n",
    "graphInfo_sa3_1 = []\n",
    "communityFBA(modelInfo_3,mediaInfo_3,kinetic_coeff=2100,abundances={\"1\":0.8,\"2\":0.1,\"3\":0.1},graph2=1,graphInfo=graphInfo_sa3_1)\n",
    "allGraphInfo_sa3.append([0.8,graphInfo_sa3_1])\n",
    "\n",
    "graphInfo_sa3_2 = []\n",
    "communityFBA(modelInfo_3,mediaInfo_3,kinetic_coeff=2100,abundances={\"1\":0.6,\"2\":0.2,\"3\":0.2},graph2=1,graphInfo=graphInfo_sa3_2)\n",
    "allGraphInfo_sa3.append([0.6,graphInfo_sa3_2])\n",
    "    \n",
    "graphInfo_sa3_3 = []\n",
    "communityFBA(modelInfo_3,mediaInfo_3,kinetic_coeff=2100,abundances={\"1\":0.4,\"2\":0.3,\"3\":0.3},graph2=1,graphInfo=graphInfo_sa3_3)\n",
    "allGraphInfo_sa3.append([0.4,graphInfo_sa3_3])\n",
    "\n",
    "graphInfo_sa3_4 = []\n",
    "communityFBA(modelInfo_3,mediaInfo_3,kinetic_coeff=2100,abundances={\"1\":0.333333,\"2\":0.333333,\"3\":0.333333},graph2=1,graphInfo=graphInfo_sa3_4)\n",
    "allGraphInfo_sa3.append([0.33,graphInfo_sa3_4])\n",
    "\n",
    "graphInfo_sa3_5 = []\n",
    "communityFBA(modelInfo_3,mediaInfo_3,kinetic_coeff=2100,abundances={\"1\":0.2,\"2\":0.4,\"3\":0.4},graph2=1,graphInfo=graphInfo_sa3_5)\n",
    "allGraphInfo_sa3.append([0.2,graphInfo_sa3_5])"
   ]
  },
  {
   "cell_type": "code",
   "execution_count": 23,
   "id": "9c12830f",
   "metadata": {},
   "outputs": [],
   "source": [
    "# To display all graphs together:\n",
    "import matplotlib.pyplot as plt7\n",
    "\n",
    "figure7, axis7 = plt7.subplots(7, 1, sharex=True)\n",
    "plt7.title(\"Three-member community model\")\n",
    "plt7.xlabel(\"Species abundance\")\n",
    "plt7.xticks(np.arange(5), ['{Ace:0.8,\\nSul:0.1,\\nDes:0.1}','{Ace:0.6,\\nSul:0.2,\\nDes:0.2}',\\\n",
    "                           '{Ace:0.4,\\nSul:0.3,\\nDes:0.3}','{Ace:0.33,\\nSul:0.33,\\nDes:0.33}',\\\n",
    "                           '{Ace:0.2,\\nSul:0.4,\\nDes:0.4}'])\n",
    "  \n",
    "axis7[0].plot([col[0] for col in allGraphInfo_sa3], [col[1][0] for col in allGraphInfo_sa3], 'o-')\n",
    "axis7[0].set_title(\"Total community biomass\")\n",
    "\n",
    "axis7[1].plot([col[0] for col in allGraphInfo_sa3], [col[1][1] for col in allGraphInfo_sa3], 'o-')\n",
    "axis7[1].set_title(\"Nutrient Uptake Flux\")\n",
    "\n",
    "axis7[2].plot([col[0] for col in allGraphInfo_sa3], [col[1][2] for col in allGraphInfo_sa3], 'o-')\n",
    "axis7[2].set_title(\"Byproduct Production Flux\")\n",
    "\n",
    "axis7[3].plot([col[0] for col in allGraphInfo_sa3], [col[1][3] for col in allGraphInfo_sa3], 'o-')\n",
    "axis7[3].set_title(\"Interaction between each species pair (Acetobacterium and Sulfurospirillum)\")\n",
    "\n",
    "axis7[4].plot([col[0] for col in allGraphInfo_sa3], [col[1][4] for col in allGraphInfo_sa3], 'o-')\n",
    "axis7[4].set_title(\"Interaction between each species pair (Acetobacterium and Desulfovibrio)\")\n",
    "\n",
    "axis7[5].plot([col[0] for col in allGraphInfo_sa3], [col[1][5] for col in allGraphInfo_sa3], 'o-')\n",
    "axis7[5].set_title(\"Interaction between each species pair (Sulfurospirillum and Desulfovibrio)\")\n",
    "\n",
    "axis7[6].plot([col[0] for col in allGraphInfo_sa3], [col[1][6] for col in allGraphInfo_sa3], 'o-')\n",
    "axis7[6].set_title(\"Total interaction flux\")\n",
    "\n",
    "plt7.rcParams['figure.dpi'] = 100\n",
    "plt7.show()"
   ]
  },
  {
   "cell_type": "code",
   "execution_count": 22,
   "id": "2ce9f41a",
   "metadata": {},
   "outputs": [],
   "source": [
    "# To display individual graphs:\n",
    "import matplotlib.pyplot as plt8\n",
    "\n",
    "colNum_sa3 = 0\n",
    "plt8.plot([i for i in list(range(5))], [col[1][colNum_sa3] for col in allGraphInfo_sa3], 'o-')\n",
    "plt8.title(\"Total community biomass\")\n",
    "plt8.xlabel(\"Relative abundance\")\n",
    "plt8.xticks(np.arange(5), ['{Ace:0.8,\\nSul:0.1,\\nDes:0.1}','{Ace:0.6,\\nSul:0.2,\\nDes:0.2}',\\\n",
    "                           '{Ace:0.4,\\nSul:0.3,\\nDes:0.3}','{Ace:0.33,\\nSul:0.33,\\nDes:0.33}',\\\n",
    "                           '{Ace:0.2,\\nSul:0.4,\\nDes:0.4}'])\n",
    "plt8.show()"
   ]
  },
  {
   "cell_type": "code",
   "execution_count": null,
   "id": "a1f27758",
   "metadata": {},
   "outputs": [],
   "source": []
  }
 ],
 "metadata": {
  "kernelspec": {
   "display_name": "Python 3",
   "language": "python",
   "name": "python3"
  },
  "language_info": {
   "codemirror_mode": {
    "name": "ipython",
    "version": 3
   },
   "file_extension": ".py",
   "mimetype": "text/x-python",
   "name": "python",
   "nbconvert_exporter": "python",
   "pygments_lexer": "ipython3",
   "version": "3.8.8"
  }
 },
 "nbformat": 4,
 "nbformat_minor": 5
}
