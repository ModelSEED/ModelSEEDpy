{
 "cells": [
  {
   "cell_type": "markdown",
   "id": "a03d9913",
   "metadata": {},
   "source": [
    "# Load the models"
   ]
  },
  {
   "cell_type": "code",
   "execution_count": 1,
   "id": "54d5b033",
   "metadata": {},
   "outputs": [
    {
     "name": "stderr",
     "output_type": "stream",
     "text": [
      "C:\\Users\\Andrew Freiburger\\AppData\\Local\\Programs\\Python\\Python39\\lib\\site-packages\\requests\\__init__.py:102: RequestsDependencyWarning: urllib3 (1.26.9) or chardet (5.0.0)/charset_normalizer (2.0.12) doesn't match a supported version!\n",
      "  warnings.warn(\"urllib3 ({}) or chardet ({})/charset_normalizer ({}) doesn't match a supported \"\n"
     ]
    },
    {
     "name": "stdout",
     "output_type": "stream",
     "text": [
      "cobrakbase 0.2.8\n"
     ]
    }
   ],
   "source": [
    "# define the environment path \n",
    "from pprint import pprint\n",
    "import os\n",
    "local_cobrakbase_path = os.path.join('C:', 'Users', 'Andrew Freiburger','Documents','Argonne','cobrakbase')\n",
    "os.environ[\"HOME\"] = local_cobrakbase_path\n",
    "\n",
    "# import the models\n",
    "import cobrakbase\n",
    "token = 'WE6CHYRDTJSGOHFIDGPE7WYFT6PRPXJL'\n",
    "kbase_api = cobrakbase.KBaseAPI(token)\n",
    "model1 = kbase_api.get_from_ws(\"iML1515\",76994)\n",
    "model2 = kbase_api.get_from_ws(\"iSB1139.kb.gf\",30650)\n",
    "models = [model1, model2]"
   ]
  },
  {
   "cell_type": "markdown",
   "id": "79ab7dd1-6a6b-4bbe-a07a-1bf73ff055a5",
   "metadata": {},
   "source": [
    "# comparison of the new and old formulations"
   ]
  },
  {
   "cell_type": "code",
   "execution_count": 2,
   "id": "f29cb297-bee7-40d4-8311-a73b68f20776",
   "metadata": {},
   "outputs": [
    {
     "ename": "AttributeError",
     "evalue": "__enter__",
     "output_type": "error",
     "traceback": [
      "\u001b[1;31m---------------------------------------------------------------------------\u001b[0m",
      "\u001b[1;31mAttributeError\u001b[0m                            Traceback (most recent call last)",
      "Input \u001b[1;32mIn [2]\u001b[0m, in \u001b[0;36m<cell line: 3>\u001b[1;34m()\u001b[0m\n\u001b[0;32m      1\u001b[0m get_ipython()\u001b[38;5;241m.\u001b[39mrun_line_magic(\u001b[38;5;124m'\u001b[39m\u001b[38;5;124mrun\u001b[39m\u001b[38;5;124m'\u001b[39m, \u001b[38;5;124m'\u001b[39m\u001b[38;5;124m../../../modelseedpy/community/mscompatibility.py  # the static method logic\u001b[39m\u001b[38;5;124m'\u001b[39m)\n\u001b[1;32m----> 3\u001b[0m \u001b[43mMSCompatibility\u001b[49m\u001b[38;5;241;43m.\u001b[39;49m\u001b[43malign_exchanges\u001b[49m\u001b[43m(\u001b[49m\u001b[43mmodels\u001b[49m\u001b[43m,\u001b[49m\u001b[43m \u001b[49m\u001b[43mstandardize\u001b[49m\u001b[38;5;241;43m=\u001b[39;49m\u001b[38;5;28;43;01mTrue\u001b[39;49;00m\u001b[43m,\u001b[49m\u001b[43m \u001b[49m\u001b[43mconflicts_file_name\u001b[49m\u001b[38;5;241;43m=\u001b[39;49m\u001b[38;5;124;43m\"\u001b[39;49m\u001b[38;5;124;43morig_conflicts.json\u001b[39;49m\u001b[38;5;124;43m\"\u001b[39;49m\u001b[43m)\u001b[49m\n",
      "File \u001b[1;32m~\\Documents\\Argonne\\ModelSEEDpy\\modelseedpy\\community\\mscompatibility.py:71\u001b[0m, in \u001b[0;36mMSCompatibility.align_exchanges\u001b[1;34m(models, standardize, conflicts_file_name, model_names, export_directory, printing, extras)\u001b[0m\n\u001b[0;32m     69\u001b[0m unknown_met_ids, changed_metabolites, changed_reactions, unique_names, established_mets \u001b[38;5;241m=\u001b[39m [], [], [], [], []\n\u001b[0;32m     70\u001b[0m \u001b[38;5;28;01mif\u001b[39;00m standardize:\n\u001b[1;32m---> 71\u001b[0m     models, unknown_met_ids \u001b[38;5;241m=\u001b[39m \u001b[43mMSCompatibility\u001b[49m\u001b[38;5;241;43m.\u001b[39;49m\u001b[43mstandardize\u001b[49m\u001b[43m(\u001b[49m\u001b[43mmodels\u001b[49m\u001b[43m,\u001b[49m\u001b[43m \u001b[49m\u001b[43munknown_met_ids\u001b[49m\u001b[43m,\u001b[49m\u001b[43m \u001b[49m\u001b[43mchanged_metabolites\u001b[49m\u001b[43m,\u001b[49m\u001b[43m \u001b[49m\u001b[43mchanged_reactions\u001b[49m\u001b[43m,\u001b[49m\u001b[43m \u001b[49m\n\u001b[0;32m     72\u001b[0m \u001b[43m                      \u001b[49m\u001b[38;5;28;43;01mTrue\u001b[39;49;00m\u001b[43m,\u001b[49m\u001b[43m \u001b[49m\u001b[38;5;28;43;01mTrue\u001b[39;49;00m\u001b[43m,\u001b[49m\u001b[38;5;124;43mf\u001b[39;49m\u001b[38;5;124;43m'\u001b[39;49m\u001b[38;5;124;43mstandardized_exchanges_\u001b[39;49m\u001b[38;5;132;43;01m{\u001b[39;49;00m\u001b[43mconflicts_file_name\u001b[49m\u001b[38;5;132;43;01m}\u001b[39;49;00m\u001b[38;5;124;43m.json\u001b[39;49m\u001b[38;5;124;43m'\u001b[39;49m\u001b[43m,\u001b[49m\u001b[43m \u001b[49m\u001b[43mmodel_names\u001b[49m\u001b[43m,\u001b[49m\u001b[43m \u001b[49m\u001b[43mexport_directory\u001b[49m\u001b[43m,\u001b[49m\u001b[43m \u001b[49m\u001b[38;5;28;43;01mTrue\u001b[39;49;00m\u001b[43m,\u001b[49m\u001b[43m \u001b[49m\u001b[43mprinting\u001b[49m\u001b[43m)\u001b[49m\n\u001b[0;32m     74\u001b[0m unique_mets, met_conflicts \u001b[38;5;241m=\u001b[39m OrderedDict(), OrderedDict()\n\u001b[0;32m     75\u001b[0m \u001b[38;5;28;01mfor\u001b[39;00m model_index, model \u001b[38;5;129;01min\u001b[39;00m \u001b[38;5;28menumerate\u001b[39m(models):\n",
      "File \u001b[1;32m~\\Documents\\Argonne\\ModelSEEDpy\\modelseedpy\\community\\mscompatibility.py:26\u001b[0m, in \u001b[0;36mMSCompatibility.standardize\u001b[1;34m(models, unknown_met_ids, changed_metabolites, changed_reactions, metabolites, exchanges, conflicts_file_name, model_names, export_directory, view_unknown_mets, printing)\u001b[0m\n\u001b[0;32m     21\u001b[0m \u001b[38;5;129m@staticmethod\u001b[39m\n\u001b[0;32m     22\u001b[0m \u001b[38;5;28;01mdef\u001b[39;00m \u001b[38;5;21mstandardize\u001b[39m(models:Iterable, unknown_met_ids:Iterable, changed_metabolites:Iterable, changed_reactions:Iterable, \n\u001b[0;32m     23\u001b[0m                 metabolites:\u001b[38;5;28mbool\u001b[39m\u001b[38;5;241m=\u001b[39m\u001b[38;5;28;01mTrue\u001b[39;00m, exchanges:\u001b[38;5;28mbool\u001b[39m\u001b[38;5;241m=\u001b[39m\u001b[38;5;28;01mTrue\u001b[39;00m, conflicts_file_name:\u001b[38;5;28mstr\u001b[39m\u001b[38;5;241m=\u001b[39m\u001b[38;5;28;01mNone\u001b[39;00m, model_names:\u001b[38;5;28mlist\u001b[39m\u001b[38;5;241m=\u001b[39m\u001b[38;5;28;01mNone\u001b[39;00m, export_directory:\u001b[38;5;28mstr\u001b[39m\u001b[38;5;241m=\u001b[39m\u001b[38;5;28;01mNone\u001b[39;00m,\n\u001b[0;32m     24\u001b[0m                 view_unknown_mets:\u001b[38;5;28mbool\u001b[39m\u001b[38;5;241m=\u001b[39m\u001b[38;5;28;01mTrue\u001b[39;00m, printing:\u001b[38;5;28mbool\u001b[39m\u001b[38;5;241m=\u001b[39m\u001b[38;5;28;01mTrue\u001b[39;00m):\n\u001b[0;32m     25\u001b[0m     \u001b[38;5;28;01mfor\u001b[39;00m model_index, model \u001b[38;5;129;01min\u001b[39;00m \u001b[38;5;28menumerate\u001b[39m(models):\n\u001b[1;32m---> 26\u001b[0m         \u001b[38;5;28;01mwith\u001b[39;00m model:\n\u001b[0;32m     27\u001b[0m             \u001b[38;5;66;03m# standardize metabolites\u001b[39;00m\n\u001b[0;32m     28\u001b[0m             \u001b[38;5;28;01mif\u001b[39;00m metabolites:\n\u001b[0;32m     29\u001b[0m                 \u001b[38;5;28;01mif\u001b[39;00m exchanges:\n",
      "\u001b[1;31mAttributeError\u001b[0m: __enter__"
     ]
    }
   ],
   "source": [
    "%run ../../../modelseedpy/community/mscompatibility.py  # the static method logic\n",
    "\n",
    "MSCompatibility.align_exchanges(models, standardize=True, conflicts_file_name=\"orig_conflicts.json\")"
   ]
  },
  {
   "cell_type": "code",
   "execution_count": null,
   "id": "c70a2640-66cc-4c51-86a2-ff998612a154",
   "metadata": {},
   "outputs": [],
   "source": [
    "%run ../../../modelseedpy/community/mscompatibility_staticmethods.py  # actually the original class-based logic\n",
    "\n",
    "mscompat = MSCompatibility(os.path.join(\"..\", \"..\", \"..\", \"..\", \"ModelSEEDDatabase\"))\n",
    "mscompat.align_exchanges(models, standardize=True, conflicts_file_name=\"orig_conflicts.json\")"
   ]
  },
  {
   "cell_type": "markdown",
   "id": "85108dde-f134-4995-8959-a12e36319b6c",
   "metadata": {},
   "source": [
    "# Export the MSDB objects"
   ]
  },
  {
   "cell_type": "code",
   "execution_count": null,
   "id": "195b0b12-c513-4bf3-9271-4e52edbb1221",
   "metadata": {},
   "outputs": [],
   "source": [
    "from collections import OrderedDict\n",
    "import os, json\n",
    "\n",
    "# import and parse ModelSEED Database reactions and compounds\n",
    "reaction_ids = OrderedDict()\n",
    "msdb = os.path.join(\"..\", \"..\", \"..\", \"..\", \"ModelSEEDDatabase\")\n",
    "for num in range(0,49):\n",
    "    with open(os.path.join(msdb, 'Biochemistry', f'reaction_{num:0>2}.json'), 'r') as rxns:\n",
    "        reactions = json.load(rxns)\n",
    "        for rxn in reactions:\n",
    "            reaction_ids[rxn['id']] = rxn['name']\n",
    "\n",
    "compounds_cross_references, compound_names = OrderedDict(), OrderedDict()\n",
    "for num in range(0,38):\n",
    "    with open(os.path.join(msdb, 'Biochemistry', f'compound_{num:0>2}.json'), 'r') as cpds:\n",
    "        try:\n",
    "            compounds = json.load(cpds)\n",
    "        except:\n",
    "            print(f'compound_{num:0>2}.json is probably empty.')\n",
    "            continue\n",
    "        for cpd in compounds:\n",
    "            compounds_cross_references[cpd['id']] = {}\n",
    "            if cpd['aliases'] is not None:\n",
    "                for category in cpd['aliases']:\n",
    "                    content = category.split(';')\n",
    "                    if 'Name' in category:\n",
    "                        content[0] = content[0].split(':')[0].strip()\n",
    "                        names = [name.strip() for name in content]\n",
    "                        names.append(cpd['name'])\n",
    "                        for name in names:\n",
    "                            if name not in compound_names:\n",
    "                                compound_names[name] = cpd['id']\n",
    "                    else:\n",
    "                        first = content[0].split(':')\n",
    "                        db = first[0].strip()\n",
    "                        content[0] = first[1]\n",
    "                        compounds_cross_references[cpd['id']][db] = [x.strip() for x in content]\n",
    "                        \n",
    "# export the content\n",
    "with open(\"compound_Xrefs.json\" , 'w') as cpdXRefs_out:\n",
    "    json.dump(compounds_cross_references, cpdXRefs_out, indent=3)\n",
    "with open(\"compoundNames.json\" , 'w') as cpdNames_out:\n",
    "    json.dump(compound_names, cpdNames_out, indent=3)\n",
    "with open(\"reactionIDs.json\" , 'w') as rxnID_out:\n",
    "    json.dump(reaction_ids, rxnID_out, indent=3)"
   ]
  },
  {
   "cell_type": "markdown",
   "id": "b13360c2",
   "metadata": {},
   "source": [
    "# Align exchange reactions"
   ]
  },
  {
   "cell_type": "code",
   "execution_count": null,
   "id": "dba4ba18",
   "metadata": {
    "scrolled": true,
    "tags": []
   },
   "outputs": [],
   "source": [
    "%run ../../../modelseedpy/core/mscompatibility.py\n",
    "mscompat = MSCompatibility(modelseed_db_path = os.path.join('..', '..', '..', '..', 'ModelSEEDDatabase'))\n",
    "\n",
    "model1 = kbase_api.get_from_ws(\"iML1515\",76994)\n",
    "model2 = kbase_api.get_from_ws(\"iSB1139.kb.gf\",30650)\n",
    "models = [model1, model2]\n",
    "\n",
    "before_model_rxns = after_model_rxns = []\n",
    "for model in models:\n",
    "    for rxn in model.reactions:\n",
    "        before_model_rxns.append(rxn.reaction)\n",
    "    if 'r293_e0' in model.metabolites:\n",
    "        print('The metabolite r293_e0 is in model', models.index(model))\n",
    "\n",
    "models = mscompat.align_exchanges(models, conflicts_file_name='exchanges_conflicts.json', model_names = [\"iML1515\", \"iSB1139.kb.gf\"])\n",
    "\n",
    "print('\\n\\n')\n",
    "for model in models:\n",
    "    for rxn in model.reactions:\n",
    "        after_model_rxns.append(rxn.reaction)\n",
    "    if 'r293_e0' not in model.metabolites:\n",
    "        print('The metabolite r293_e0 is not in model', models.index(model))\n",
    "        \n",
    "    # export JSON versions of the models\n",
    "    \n",
    "        \n",
    "for new_rxn in after_model_rxns:\n",
    "    if new_rxn not in before_model_rxns:\n",
    "        print('new rxn\\t',  new_rxn, 'old rxn\\t', before_model_rxns[after_model_rxns.index(new_rxn)])"
   ]
  },
  {
   "cell_type": "markdown",
   "id": "76760d2f-e008-45da-8d0d-6f4050a586f0",
   "metadata": {},
   "source": [
    "# Standardize exchange metabolites"
   ]
  },
  {
   "cell_type": "code",
   "execution_count": null,
   "id": "279ff89d-9f08-4256-bfe3-0b071a83ec17",
   "metadata": {
    "tags": []
   },
   "outputs": [],
   "source": [
    "%run ../../../modelseedpy/core/mscompatibility.py\n",
    "\n",
    "model1 = kbase_api.get_from_ws(\"iML1515\",76994)\n",
    "model2 = kbase_api.get_from_ws(\"iSB1139.kb.gf\",30650)\n",
    "mscompat = MSCompatibility(modelseed_db_path = os.path.join('..', '..', '..', '..', 'ModelSEEDDatabase'))\n",
    "models = [model1, model2]\n",
    "\n",
    "before_model_rxns, after_model_rxns = [], []\n",
    "for model in models:\n",
    "    for rxn in model.reactions:\n",
    "        before_model_rxns.append(rxn.reaction)\n",
    "    if 'r293_e0' in model.metabolites:\n",
    "        print('The metabolite r293_e0 is in model', models.index(model))\n",
    "\n",
    "models = mscompat.standardize(models, conflicts_file_name = 'standardized_exchange_metabolites.json', model_names = [\"iML1515\", \"iSB1139.kb.gf\"])\n",
    "\n",
    "for model in models:\n",
    "    for rxn in model.reactions:\n",
    "        after_model_rxns.append(rxn.reaction)\n",
    "    if 'r293_e0' not in model.metabolites:\n",
    "        print('The metabolite r293_e0 is not in model', models.index(model))\n",
    "        \n",
    "new_rxn_count = 0\n",
    "for new_rxn in after_model_rxns:\n",
    "    if new_rxn not in before_model_rxns:\n",
    "        new_rxn_count += 1\n",
    "print(f'{new_rxn_count} reactions were changed.')"
   ]
  },
  {
   "cell_type": "markdown",
   "id": "b92e5524",
   "metadata": {},
   "source": [
    "# Standardize all metabolites"
   ]
  },
  {
   "cell_type": "code",
   "execution_count": null,
   "id": "88b11a2a",
   "metadata": {
    "tags": []
   },
   "outputs": [],
   "source": [
    "%run ../../../modelseedpy/core/mscompatibility.py\n",
    "\n",
    "model1 = kbase_api.get_from_ws(\"iML1515\",76994)\n",
    "model2 = kbase_api.get_from_ws(\"iSB1139.kb.gf\",30650)\n",
    "mscompat = MSCompatibility(modelseed_db_path = os.path.join('..', '..', '..', 'ModelSEEDDatabase'))\n",
    "models = [model1, model2]\n",
    "\n",
    "before_model_rxns, after_model_rxns = [], []\n",
    "for model in models:\n",
    "    for rxn in model.reactions:\n",
    "        before_model_rxns.append(rxn.reaction)\n",
    "    if 'r293_e0' in model.metabolites:\n",
    "        print('The metabolite r293_e0 is in model', models.index(model))\n",
    "\n",
    "model1, model2 = mscompat.standardize(models, exchanges = False, conflicts_file_name = 'standardized_metabolites.json')\n",
    "# models = mscompat.standardize_MSD(models,conflicts_file_name = 'standardized_metabolites.txt', metabolites = False)\n",
    "\n",
    "for model in models:\n",
    "    for rxn in model.reactions:\n",
    "        after_model_rxns.append(rxn.reaction)\n",
    "    if 'r293_e0' not in model.metabolites:\n",
    "        print('The metabolite r293_e0 is not in model', models.index(model))\n",
    "        \n",
    "new_rxn_count = 0\n",
    "for new_rxn in after_model_rxns:\n",
    "    if new_rxn not in before_model_rxns:\n",
    "        new_rxn_count += 1\n",
    "print(f'{new_rxn_count} reactions were changed.')"
   ]
  },
  {
   "cell_type": "markdown",
   "id": "31902b83",
   "metadata": {},
   "source": [
    "# Brainstorming"
   ]
  },
  {
   "cell_type": "code",
   "execution_count": null,
   "id": "7e801341-9351-471e-8fe4-8c2527ebcc3c",
   "metadata": {},
   "outputs": [],
   "source": [
    "pprint(set(met.compartment for met in model1.metabolites))"
   ]
  },
  {
   "cell_type": "code",
   "execution_count": null,
   "id": "c8060758-7c9b-4610-adab-c1e6288c6260",
   "metadata": {},
   "outputs": [],
   "source": [
    "with open('iML1515_exchanges.txt', 'w') as exchange_reactions:\n",
    "    exchange_reactions.write('IDs\\t\\t\\t\\tReaction\\n')\n",
    "    for ex_rxn in models[0].exchanges:\n",
    "        exchange_reactions.write(ex_rxn.id+'\\t\\t'+ex_rxn.reaction+'\\n')\n",
    "        \n",
    "with open('iSB1139_exchanges.txt', 'w') as exchange_reactions:\n",
    "    exchange_reactions.write('IDs\\t\\t\\t\\tReaction\\n')\n",
    "    for ex_rxn in models[1].exchanges:\n",
    "        exchange_reactions.write(ex_rxn.id+'\\t\\t'+ex_rxn.reaction+'\\n')"
   ]
  },
  {
   "cell_type": "code",
   "execution_count": null,
   "id": "e61160ce-0f61-4ed2-947a-11e58da18934",
   "metadata": {},
   "outputs": [],
   "source": [
    "from pandas import DataFrame\n",
    "DataFrame = "
   ]
  },
  {
   "cell_type": "code",
   "execution_count": null,
   "id": "09290d9b-4f17-4775-8211-9556b6a8bf15",
   "metadata": {},
   "outputs": [],
   "source": [
    "from itertools import combinations\n",
    "species = {1:3,2:3,3:4,4:5}\n",
    "for species_1, species_2 in combinations(species, 2):\n",
    "    print(species_1, species_2)"
   ]
  },
  {
   "cell_type": "code",
   "execution_count": null,
   "id": "2b1abac7-8b97-407a-bbaa-5c19c3dbe66f",
   "metadata": {},
   "outputs": [],
   "source": [
    "test =  'AraCyc: OH; WATER'\n",
    "content = test.split(';')\n",
    "content[0] = content[0].split(':')\n",
    "db = content[0][0]\n",
    "content[0] = content[0][1]\n",
    "dic = {db:[x.strip() for x in content]}\n",
    "print(dic)"
   ]
  },
  {
   "cell_type": "code",
   "execution_count": null,
   "id": "87e80513-73fd-43e4-bb40-9d00ee398af3",
   "metadata": {},
   "outputs": [],
   "source": [
    "for met in models[0].metabolites:\n",
    "    if 'cpd' not in met.id:\n",
    "        print(met.id)\n",
    "        for rxn in met.reactions:\n",
    "            print(rxn.reaction)\n",
    "        print('\\n\\n')"
   ]
  },
  {
   "cell_type": "code",
   "execution_count": null,
   "id": "cab787ab-406e-4a7d-aa31-75485245ce55",
   "metadata": {
    "tags": []
   },
   "outputs": [],
   "source": [
    "print(sum(rxn for model in models for rxn in model.reactions))"
   ]
  },
  {
   "cell_type": "code",
   "execution_count": null,
   "id": "073dd1b4-79b2-4e36-9b13-07e127782d4e",
   "metadata": {},
   "outputs": [],
   "source": [
    "pfba, self_pfba = None, False\n",
    "if pfba == None or self_pfba == None:\n",
    "    print('yes')"
   ]
  },
  {
   "cell_type": "code",
   "execution_count": null,
   "id": "6197938a-a199-4415-9f73-bdfc6cba1446",
   "metadata": {},
   "outputs": [],
   "source": [
    "if 'cpd00035' in model1.metabolites:\n",
    "    print('not replaced')"
   ]
  },
  {
   "cell_type": "code",
   "execution_count": null,
   "id": "fafebe8b-16d7-4c43-9501-f27ba1e03215",
   "metadata": {
    "tags": []
   },
   "outputs": [],
   "source": [
    "# model1 = kbase_api.get_from_ws(\"iML1515\",76994)\n",
    "# model2 = kbase_api.get_from_ws(\"iSB1139.kb.gf\",30650)\n",
    "import re\n",
    "\n",
    "for rxn in model1.reactions:\n",
    "    pprint(rxn.id)\n",
    "    break\n",
    "\n",
    "for rxn in model1.modelreactions:\n",
    "    pprint(rxn)\n",
    "    if 3 == model1.modelreactions.index(rxn):\n",
    "        break\n",
    "    # print(rxn.reactants)\n",
    "    # print(rxn.products, '\\n\\n')\n",
    "    # for index, met_id in enumerate([re.sub('_\\w\\d', '', met.id) for met in rxn.reactants]):\n",
    "    #     if met_id in [re.sub('_\\w\\d', '', met.id) for met in rxn.products]:\n",
    "    #         print(rxn.metabolites[rxn.reactants[index]])\n",
    "    #         print(rxn)\n",
    "    #         break\n",
    "            \n",
    "# # exclude reactions where the erroneous ID is both a reactant and product (which is currently an evasive condition)\n",
    "# for met_id in [re.sub('_\\w\\d', '', react_met.id) for react_met in rxn.reactants]:\n",
    "#     print(met_id)\n",
    "#     if met_id in [re.sub('_\\w\\d', '', pro_met.id) for pro_met in rxn.products] and met_id == original_id:\n",
    "#         warn(f'ReactionError: The {met.id} metabolite in the {rxn.id} reaction cannot be substituted as both a reactant and product.')\n",
    "#         continue"
   ]
  },
  {
   "cell_type": "code",
   "execution_count": null,
   "id": "11bd2147-607b-416b-bb6e-fc50dc564c6c",
   "metadata": {
    "tags": []
   },
   "outputs": [],
   "source": [
    "from cobra.core.dictlist import DictList\n",
    "\n",
    "test = DictList()\n",
    "test.append({'a':4, 'b':5})\n",
    "print(test)"
   ]
  },
  {
   "cell_type": "code",
   "execution_count": null,
   "id": "0fdc26de-8621-4e89-a352-16d8379fa2dc",
   "metadata": {
    "tags": []
   },
   "outputs": [],
   "source": [
    "from collections import OrderedDict\n",
    "\n",
    "x = OrderedDict({'x':2, 'c':4})\n",
    "x.pop('c')\n",
    "print(x)\n",
    "print(list(x.keys()).index('x'))\n",
    "print(dir(x))"
   ]
  },
  {
   "cell_type": "code",
   "execution_count": null,
   "id": "61e64edb-593a-4571-826f-bddd6a00b94d",
   "metadata": {
    "tags": []
   },
   "outputs": [],
   "source": [
    "print(model1.annotation)\n",
    "# print(dir(model1))\n",
    "\n",
    "# for met in model.metabolites:\n",
    "#     print(dir(met))\n",
    "#     print(met.summary())\n",
    "#     if met == model.metabolites[4]:\n",
    "#         break\n",
    "        \n",
    "mnx_count = 0\n",
    "for rxn in model1.modelcompounds:\n",
    "    if 1 >= model1.modelcompounds.index(rxn):\n",
    "        pprint(rxn)\n",
    "    if 'ModelSeed' in rxn['dblinks']:\n",
    "        mnx_count += 1\n",
    "print(f'\\n\\nmodel1 {mnx_count}/{len(model1.modelcompounds)}\\n\\n')    \n",
    "\n",
    "mnx_count = 0\n",
    "for rxn in model2.modelcompounds:\n",
    "    if 1 >= model2.modelcompounds.index(rxn):\n",
    "        pprint(rxn)\n",
    "    if 'ModelSeed' in rxn['dblinks']:\n",
    "        mnx_count += 1\n",
    "print(f'\\n\\nmodel2 {mnx_count}/{len(model2.modelcompounds)}')    "
   ]
  },
  {
   "cell_type": "code",
   "execution_count": null,
   "id": "6fc8fb6c",
   "metadata": {},
   "outputs": [],
   "source": [
    "from periodictable import formula\n",
    "\n",
    "# print(dir(Formula))\n",
    "\n",
    "fm = formula('K2SO4 CaSO4 H2O')\n",
    "print(fm.mass_fraction)\n",
    "print(fm.atoms)\n",
    "print(fm.mass)"
   ]
  },
  {
   "cell_type": "code",
   "execution_count": null,
   "id": "7671d1ac",
   "metadata": {},
   "outputs": [],
   "source": [
    "from numpy import negative\n",
    "import re\n",
    "\n",
    "# parse the reaction string\n",
    "reaction = \"(1) cpd00002[0] + (1) cpd00222[0] => (1) cpd00008[0] + (1) cpd00067[0] + (1) cpd00284[0]\"\n",
    "compounds = reaction.split('=>')\n",
    "reactant, product = compounds[0], compounds[1]\n",
    "reactants = [x.strip() for x in reactant.split('+')]\n",
    "products = [x.strip() for x in product.split('+')]\n",
    "reactant_met = [x.split(' ') for x in reactants]\n",
    "product_met = [x.split(' ') for x in products]\n",
    "\n",
    "# assemble a dictionary for the reaction\n",
    "reaction_dict = {}\n",
    "for met in reactant_met:\n",
    "    stoich = float(re.search('(\\d+)', met[0]).group())\n",
    "    met[1] = met[1].replace('[0]', '_c0')\n",
    "    met[1] = met[1].replace('[1]', '_c0')\n",
    "    reaction_dict[met[1]] = negative(stoich)\n",
    "for met in product_met:\n",
    "    stoich = float(re.search('(\\d+)', met[0]).group())\n",
    "    met[1] = met[1].replace('[0]', '_c0')\n",
    "    met[1] = met[1].replace('[1]', '_c0')\n",
    "    reaction_dict[met[1]] = stoich\n",
    "    \n",
    "\n",
    "print(reactant_met, product_met)\n",
    "print(reaction_dict)"
   ]
  }
 ],
 "metadata": {
  "kernelspec": {
   "display_name": "Python 3 (ipykernel)",
   "language": "python",
   "name": "python3"
  },
  "language_info": {
   "codemirror_mode": {
    "name": "ipython",
    "version": 3
   },
   "file_extension": ".py",
   "mimetype": "text/x-python",
   "name": "python",
   "nbconvert_exporter": "python",
   "pygments_lexer": "ipython3",
   "version": "3.9.12"
  }
 },
 "nbformat": 4,
 "nbformat_minor": 5
}
