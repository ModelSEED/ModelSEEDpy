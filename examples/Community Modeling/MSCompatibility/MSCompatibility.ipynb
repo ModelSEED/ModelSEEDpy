{
 "cells": [
  {
   "cell_type": "markdown",
   "id": "50cdec07",
   "metadata": {},
   "source": [
    "# Load the models"
   ]
  },
  {
   "cell_type": "code",
   "execution_count": 24,
   "id": "71ab6c6f",
   "metadata": {},
   "outputs": [],
   "source": [
    "# define the environment path \n",
    "from pprint import pprint\n",
    "import os\n",
    "local_cobrakbase_path = os.path.join('C:', 'Users', 'Andrew Freiburger','Documents','Argonne','cobrakbase')\n",
    "os.environ[\"HOME\"] = local_cobrakbase_path\n",
    "\n",
    "# import the models\n",
    "import cobrakbase\n",
    "token = 'RBP7R34IILI6IQN5533VVSVUZM6H7YU7'\n",
    "kbase_api = cobrakbase.KBaseAPI(token)\n",
    "model1 = kbase_api.get_from_ws(\"iML1515\",76994)\n",
    "model2 = kbase_api.get_from_ws(\"iSB1139.kb.gf\",30650)\n",
    "models = [model1, model2]"
   ]
  },
  {
   "cell_type": "code",
   "execution_count": 2,
   "id": "b8e4115b",
   "metadata": {},
   "outputs": [
    {
     "name": "stdout",
     "output_type": "stream",
     "text": [
      "<Solution 75.545 at 0x7fe91ee00410>\n",
      "<Solution 22.213 at 0x7fe91ee004d0>\n"
     ]
    }
   ],
   "source": [
    "for model in models:\n",
    "    print(model.optimize())"
   ]
  },
  {
   "cell_type": "code",
   "execution_count": 3,
   "id": "a63f3a3e",
   "metadata": {
    "collapsed": true,
    "jupyter": {
     "outputs_hidden": true
    }
   },
   "outputs": [
    {
     "name": "stderr",
     "output_type": "stream",
     "text": [
      "modelseedpy.core.msmodel - ERROR - The [-0.0, 0.0] bounds are not amenable with a direction string.\n"
     ]
    },
    {
     "name": "stdout",
     "output_type": "stream",
     "text": [
      "\n",
      "\n",
      "\n",
      "Standardize exchange reactions in iML1515 \n",
      " ============================================\n",
      "\n",
      "\n",
      "{'justification': 'The cpd26527_e0 ID already exists in model iML1515, so each '\n",
      "                  'reaction (here EX_4abzglu-e_e0) must be updated.',\n",
      " 'new': {'reaction': 'cpd26527_e0 <=> '},\n",
      " 'original': {'reaction': '4abzglu-e_e0 <=> '}}\n",
      "\n",
      "\n",
      "{'justification': 'The 4abzglu-e_e0 and cpd26527_e0 distinction in iML1515 is '\n",
      "                  'incompatible. The 4abzglu-e_e0 ID is not a ModelSEED '\n",
      "                  'Database ID. The 4abzglu-e_e0 and cpd26527_e0 metabolites '\n",
      "                  'were matched via their name.',\n",
      " 'new': {'id': 'cpd26527_e0', 'name': '4-aminobenzoyl-glutamate_e0'},\n",
      " 'original': {'id': '4abzglu-e_e0', 'name': '4-aminobenzoyl-glutamate'}}\n",
      "\n",
      "\n",
      "{'justification': 'The cpd14720_e0 ID already exists in model iML1515, so each '\n",
      "                  'reaction (here EX_metsox-R-L-e_e0) must be updated.',\n",
      " 'new': {'reaction': 'cpd14720_e0 <=> '},\n",
      " 'original': {'reaction': 'metsox-R-L-e_e0 <=> '}}\n",
      "\n",
      "\n",
      "{'justification': 'The metsox-R-L-e_e0 and cpd14720_e0 distinction in iML1515 '\n",
      "                  'is incompatible. The metsox-R-L-e_e0 ID is not a ModelSEED '\n",
      "                  'Database ID. The metsox-R-L-e_e0 and cpd14720_e0 '\n",
      "                  'metabolites were matched via their name.',\n",
      " 'new': {'id': 'cpd14720_e0', 'name': 'L-methionine-R-sulfoxide_e0'},\n",
      " 'original': {'id': 'metsox-R-L-e_e0', 'name': 'L-methionine-R-sulfoxide'}}\n",
      "\n",
      "\n",
      "{'justification': 'A cpd03294_e0 exchange reaction already exists in model '\n",
      "                  'iML1515, thus this duplicative exchange reaction '\n",
      "                  '(EX_cpd15411_e0) is deleted. The ID match was verified with '\n",
      "                  'BiGG cross-references.',\n",
      " 'new': {'reaction': None},\n",
      " 'original': {'reaction': 'cpd15411_e0 <=> '}}\n",
      "\n",
      "\n",
      "{'justification': 'The cpd00880_e0 ID already exists in model iML1515, so each '\n",
      "                  'reaction (here EX_cpd03191_e0) must be updated. The ID '\n",
      "                  'match was verified with BiGG cross-references.',\n",
      " 'new': {'reaction': 'cpd00880_e0 <=> '},\n",
      " 'original': {'reaction': 'cpd03191_e0 <=> '}}\n",
      "\n",
      "\n",
      "{'justification': 'The cpd03191_e0 and cpd00880_e0 distinction in iML1515 is '\n",
      "                  'incompatible. The cpd03191_e0 and cpd00880_e0 metabolites '\n",
      "                  'were matched via their name. The ID match was verified with '\n",
      "                  'BiGG cross-references.',\n",
      " 'new': {'id': 'cpd00880_e0', 'name': 'D-Glucuronate 1-phosphate_e0'},\n",
      " 'original': {'id': 'cpd03191_e0', 'name': 'D-Glucuronate 1-phosphate_e0'}}\n",
      "\n",
      "\n",
      "{'justification': 'The cpd00571_e0 ID already exists in model iML1515, so each '\n",
      "                  'reaction (here EX_cpd00609_e0) must be updated. The ID '\n",
      "                  'match was verified with BiGG cross-references.',\n",
      " 'new': {'reaction': 'cpd00571_e0 <=> '},\n",
      " 'original': {'reaction': 'cpd00609_e0 <=> '}}\n",
      "\n",
      "\n",
      "{'justification': 'The cpd00609_e0 and cpd00571_e0 distinction in iML1515 is '\n",
      "                  'incompatible. The cpd00609_e0 and cpd00571_e0 metabolites '\n",
      "                  'were matched via their name. The ID match was verified with '\n",
      "                  'BiGG cross-references.',\n",
      " 'new': {'id': 'cpd00571_e0', 'name': 'D-Glucarate_e0'},\n",
      " 'original': {'id': 'cpd00609_e0', 'name': 'D-Glucarate_e0'}}\n",
      "\n",
      "\n",
      "{'justification': 'The cpd15498_e0 ID already exists in model iML1515, so each '\n",
      "                  'reaction (here EX_metsox-S-L-e_e0) must be updated.',\n",
      " 'new': {'reaction': 'cpd15498_e0 <=> '},\n",
      " 'original': {'reaction': 'metsox-S-L-e_e0 <=> '}}\n",
      "\n",
      "\n",
      "{'justification': 'The metsox-S-L-e_e0 and cpd15498_e0 distinction in iML1515 '\n",
      "                  'is incompatible. The metsox-S-L-e_e0 ID is not a ModelSEED '\n",
      "                  'Database ID. The metsox-S-L-e_e0 and cpd15498_e0 '\n",
      "                  'metabolites were matched via their name.',\n",
      " 'new': {'id': 'cpd15498_e0', 'name': 'L-Methionine Sulfoxide_e0'},\n",
      " 'original': {'id': 'metsox-S-L-e_e0', 'name': 'L-Methionine Sulfoxide'}}\n",
      "\n",
      "\n",
      "{'justification': 'The cpd19018_e0 ID already exists in model iML1515, so each '\n",
      "                  'reaction (here EX_tartr-D-e_e0) must be updated.',\n",
      " 'new': {'reaction': 'cpd19018_e0 <=> '},\n",
      " 'original': {'reaction': 'tartr-D-e_e0 <=> '}}\n",
      "\n",
      "\n",
      "{'justification': 'The tartr-D-e_e0 and cpd19018_e0 distinction in iML1515 is '\n",
      "                  'incompatible. The tartr-D-e_e0 ID is not a ModelSEED '\n",
      "                  'Database ID. The tartr-D-e_e0 and cpd19018_e0 metabolites '\n",
      "                  'were matched via their name.',\n",
      " 'new': {'id': 'cpd19018_e0', 'name': 'D-tartrate_e0'},\n",
      " 'original': {'id': 'tartr-D-e_e0', 'name': 'D-tartrate'}}\n",
      "\n",
      "\n",
      "{'justification': 'The cpd31356_e0 ID already exists in model iML1515, so each '\n",
      "                  'reaction (here EX_dhps-e_e0) must be updated.',\n",
      " 'new': {'reaction': 'cpd31356_e0 <=> '},\n",
      " 'original': {'reaction': 'dhps-e_e0 <=> '}}\n",
      "\n",
      "\n",
      "{'justification': 'The dhps-e_e0 and cpd31356_e0 distinction in iML1515 is '\n",
      "                  'incompatible. The dhps-e_e0 ID is not a ModelSEED Database '\n",
      "                  'ID. The dhps-e_e0 and cpd31356_e0 metabolites were matched '\n",
      "                  'via their name.',\n",
      " 'new': {'id': 'cpd31356_e0', 'name': '2,3-Dihydroxypropane-1-sulfonate_e0'},\n",
      " 'original': {'id': 'dhps-e_e0', 'name': '2,3-Dihydroxypropane-1-sulfonate'}}\n",
      "\n",
      "\n",
      "\n",
      "Standardize exchange reactions in iSB1139 \n",
      " ============================================\n",
      "\n",
      "\n",
      "{'justification': 'The cpd00028_e0 ID already exists in model iSB1139, so each '\n",
      "                  'reaction (here EX_r1400_e0) must be updated.',\n",
      " 'new': {'reaction': 'cpd00028_e0 <=> '},\n",
      " 'original': {'reaction': 'r1400_e0 <=> '}}\n",
      "\n",
      "\n",
      "{'justification': 'The r1400_e0 and cpd00028_e0 distinction in iSB1139 is '\n",
      "                  'incompatible. The r1400_e0 ID is not a ModelSEED Database '\n",
      "                  'ID. The r1400_e0 and cpd00028_e0 metabolites were matched '\n",
      "                  'via their name.',\n",
      " 'new': {'id': 'cpd00028_e0', 'name': 'protoheme IX_e0'},\n",
      " 'original': {'id': 'r1400_e0', 'name': 'protoheme IX'}}\n",
      "\n",
      "\n",
      "{'justification': 'The cpd10515_e0 ID already exists in model iSB1139, so each '\n",
      "                  'reaction (here EX_r293_e0) must be updated.',\n",
      " 'new': {'reaction': 'cpd10515_e0 <=> '},\n",
      " 'original': {'reaction': 'r293_e0 <=> '}}\n",
      "\n",
      "\n",
      "{'justification': 'The r293_e0 and cpd10515_e0 distinction in iSB1139 is '\n",
      "                  'incompatible. The r293_e0 ID is not a ModelSEED Database '\n",
      "                  'ID. The r293_e0 and cpd10515_e0 metabolites were matched '\n",
      "                  'via their name.',\n",
      " 'new': {'id': 'cpd10515_e0', 'name': 'Fe2+_e0'},\n",
      " 'original': {'id': 'r293_e0', 'name': 'Fe2+'}}\n",
      "\n",
      "\n",
      "{'justification': 'A cpd00028_e0 exchange reaction already exists in model '\n",
      "                  'iSB1139, thus this duplicative exchange reaction '\n",
      "                  '(EX_r505_e0) is deleted.',\n",
      " 'new': {'reaction': None},\n",
      " 'original': {'reaction': 'r505_e0 <=> '}}\n",
      "\n",
      "\n",
      "{'justification': 'The cpd00480_e0 ID already exists in model iSB1139, so each '\n",
      "                  'reaction (here EX_r277_e0) must be updated.',\n",
      " 'new': {'reaction': 'cpd00480_e0 <=> '},\n",
      " 'original': {'reaction': 'r277_e0 <=> '}}\n",
      "\n",
      "\n",
      "{'justification': 'The r277_e0 and cpd00480_e0 distinction in iSB1139 is '\n",
      "                  'incompatible. The r277_e0 ID is not a ModelSEED Database '\n",
      "                  'ID. The r277_e0 and cpd00480_e0 metabolites were matched '\n",
      "                  'via their name.',\n",
      " 'new': {'id': 'cpd00480_e0', 'name': '2-dehydro-D-gluconate_e0'},\n",
      " 'original': {'id': 'r277_e0', 'name': '2-dehydro-D-gluconate'}}\n",
      "\n",
      "\n",
      "{'justification': 'The cpd00024_e0 ID already exists in model iSB1139, so each '\n",
      "                  'reaction (here EX_r1423_e0) must be updated.',\n",
      " 'new': {'reaction': 'cpd00024_e0 <=> '},\n",
      " 'original': {'reaction': 'r1423_e0 <=> '}}\n",
      "\n",
      "\n",
      "{'justification': 'The r1423_e0 and cpd00024_e0 distinction in iSB1139 is '\n",
      "                  'incompatible. The r1423_e0 ID is not a ModelSEED Database '\n",
      "                  'ID. The r1423_e0 and cpd00024_e0 metabolites were matched '\n",
      "                  'via their name.',\n",
      " 'new': {'id': 'cpd00024_e0', 'name': 'alpha-ketoglutarate_e0'},\n",
      " 'original': {'id': 'r1423_e0', 'name': 'alpha-ketoglutarate'}}\n",
      "\n",
      "\n",
      "{'justification': 'The cpd00571_e0 ID already exists in model iSB1139, so each '\n",
      "                  'reaction (here EX_cpd00609_e0) must be updated. The ID '\n",
      "                  'match was verified with BiGG cross-references.',\n",
      " 'new': {'reaction': 'cpd00571_e0 <=> '},\n",
      " 'original': {'reaction': 'cpd00609_e0 <=> '}}\n",
      "\n",
      "\n",
      "{'justification': 'The cpd00609_e0 and cpd00571_e0 distinction in iSB1139 is '\n",
      "                  'incompatible. The cpd00609_e0 and cpd00571_e0 metabolites '\n",
      "                  'were matched via their name. The ID match was verified with '\n",
      "                  'BiGG cross-references.',\n",
      " 'new': {'id': 'cpd00571_e0', 'name': 'D-Glucarate_e0'},\n",
      " 'original': {'id': 'cpd00609_e0', 'name': 'D-Glucarate'}}\n",
      "\n",
      "\n",
      "{'justification': 'The cpd00030_e0 ID already exists in model iSB1139, so each '\n",
      "                  'reaction (here EX_r307_e0) must be updated.',\n",
      " 'new': {'reaction': 'cpd00030_e0 <=> '},\n",
      " 'original': {'reaction': 'r307_e0 <=> '}}\n",
      "\n",
      "\n",
      "{'justification': 'The r307_e0 and cpd00030_e0 distinction in iSB1139 is '\n",
      "                  'incompatible. The r307_e0 ID is not a ModelSEED Database '\n",
      "                  'ID. The r307_e0 and cpd00030_e0 metabolites were matched '\n",
      "                  'via their name.',\n",
      " 'new': {'id': 'cpd00030_e0', 'name': 'Mn2+_e0'},\n",
      " 'original': {'id': 'r307_e0', 'name': 'Mn2+'}}\n",
      "\n",
      "\n",
      "{'justification': 'The cpd00131_e0 ID already exists in model iSB1139, so each '\n",
      "                  'reaction (here EX_r1262_e0) must be updated.',\n",
      " 'new': {'reaction': 'cpd00131_e0 <=> '},\n",
      " 'original': {'reaction': 'r1262_e0 <=> '}}\n",
      "\n",
      "\n",
      "{'justification': 'The r1262_e0 and cpd00131_e0 distinction in iSB1139 is '\n",
      "                  'incompatible. The r1262_e0 ID is not a ModelSEED Database '\n",
      "                  'ID. The r1262_e0 and cpd00131_e0 metabolites were matched '\n",
      "                  'via their name.',\n",
      " 'new': {'id': 'cpd00131_e0', 'name': 'Mo2+_e0'},\n",
      " 'original': {'id': 'r1262_e0', 'name': 'Mo2+'}}\n"
     ]
    },
    {
     "name": "stderr",
     "output_type": "stream",
     "text": [
      "modelseedpy.core.msmodel - ERROR - The [0, 0] bounds are not amenable with a direction string.\n"
     ]
    },
    {
     "name": "stdout",
     "output_type": "stream",
     "text": [
      "\n",
      "\n",
      "16 reactions were substituted and 14 metabolite IDs were redefined.\n",
      "\n",
      "\n",
      "\n",
      "Align exchange reactions in iML1515 \n",
      " ======================================\n",
      "\n",
      "\n",
      "{'justification': 'A cpd00880_e0 exchange reaction already exists in model '\n",
      "                  'iML1515, thus this duplicative exchange reaction '\n",
      "                  '(EX_cpd03191_e0) is deleted. The ID match was verified with '\n",
      "                  'BiGG cross-references.',\n",
      " 'new': {'reaction': None},\n",
      " 'original': {'reaction': 'cpd03191_e0 <=> '}}\n",
      "\n",
      "\n",
      "{'justification': 'A cpd15498_e0 exchange reaction already exists in model '\n",
      "                  'iML1515, thus this duplicative exchange reaction '\n",
      "                  '(EX_metsox-S-L-e_e0) is deleted.',\n",
      " 'new': {'reaction': None},\n",
      " 'original': {'reaction': 'metsox-S-L-e_e0 <=> '}}\n",
      "\n",
      "\n",
      "{'justification': 'A cpd19018_e0 exchange reaction already exists in model '\n",
      "                  'iML1515, thus this duplicative exchange reaction '\n",
      "                  '(EX_tartr-D-e_e0) is deleted.',\n",
      " 'new': {'reaction': None},\n",
      " 'original': {'reaction': 'tartr-D-e_e0 <=> '}}\n",
      "\n",
      "\n",
      "{'justification': 'A cpd31356_e0 exchange reaction already exists in model '\n",
      "                  'iML1515, thus this duplicative exchange reaction '\n",
      "                  '(EX_dhps-e_e0) is deleted.',\n",
      " 'new': {'reaction': None},\n",
      " 'original': {'reaction': 'dhps-e_e0 <=> '}}\n",
      "\n",
      "\n",
      "\n",
      "Align exchange reactions in iSB1139 \n",
      " ======================================\n",
      "\n",
      "\n",
      "{'justification': 'A cpd10515_e0 exchange reaction already exists in model '\n",
      "                  'iSB1139, thus this duplicative exchange reaction '\n",
      "                  '(EX_r293_e0) is deleted.',\n",
      " 'new': {'reaction': None},\n",
      " 'original': {'reaction': 'r293_e0 <=> '}}\n",
      "\n",
      "\n",
      "{'justification': 'A cpd00131_e0 exchange reaction already exists in model '\n",
      "                  'iSB1139, thus this duplicative exchange reaction '\n",
      "                  '(EX_r1262_e0) is deleted.',\n",
      " 'new': {'reaction': None},\n",
      " 'original': {'reaction': 'r1262_e0 <=> '}}\n",
      "\n",
      "\n",
      "6 exchange reactions were substituted and 0 exchange metabolite IDs were redefined.\n"
     ]
    }
   ],
   "source": [
    "%run ../../../modelseedpy/community/mscompatibility.py  # the static method logic\n",
    "new_models = MSCompatibility.align_exchanges(models, True, \"orig_conflicts.json\")"
   ]
  },
  {
   "cell_type": "code",
   "execution_count": 10,
   "id": "a67bcdee",
   "metadata": {},
   "outputs": [
    {
     "name": "stdout",
     "output_type": "stream",
     "text": [
      "<Solution 0.000 at 0x7fe8fdd230d0>\n",
      "<Solution 0.000 at 0x7fe8fdd23290>\n"
     ]
    }
   ],
   "source": [
    "for model in new_models:\n",
    "    print(model.optimize())"
   ]
  },
  {
   "cell_type": "markdown",
   "id": "4a931db9",
   "metadata": {},
   "source": [
    "# comparison of the new and old formulations"
   ]
  },
  {
   "cell_type": "code",
   "execution_count": 5,
   "id": "1f79345d",
   "metadata": {},
   "outputs": [],
   "source": [
    "# data = kbase.get_object(\"iML1515\",76994) "
   ]
  },
  {
   "cell_type": "code",
   "execution_count": 25,
   "id": "a1260842",
   "metadata": {
    "tags": []
   },
   "outputs": [
    {
     "name": "stderr",
     "output_type": "stream",
     "text": [
      "modelseedpy.core.msmodel - ERROR - The [-0.0, 0.0] bounds are not amenable with a direction string.\n"
     ]
    },
    {
     "name": "stdout",
     "output_type": "stream",
     "text": [
      "\n",
      "\n",
      "{'justification': 'The 4abzglu-e_e0 ID is not a ModelSEED Database ID.',\n",
      " 'new': {'id': 'cpd26527_e0', 'name': '4-aminobenzoyl-glutamate_e0'},\n",
      " 'original': {'id': '4abzglu-e_e0', 'name': '4-aminobenzoyl-glutamate'}}\n",
      "\n",
      "\n",
      "{'justification': 'The metsox-R-L-e_e0 ID is not a ModelSEED Database ID.',\n",
      " 'new': {'id': 'cpd14720_e0', 'name': 'L-methionine-R-sulfoxide_e0'},\n",
      " 'original': {'id': 'metsox-R-L-e_e0', 'name': 'L-methionine-R-sulfoxide'}}\n",
      "\n",
      "\n",
      "{'justification': 'A cpd03294_e0 exchange reaction already exists in model 0, '\n",
      "                  'thus this duplicative exchange reaction (EX_cpd15411_e0) is '\n",
      "                  'deleted. The ID match was verified with BiGG '\n",
      "                  'cross-references.',\n",
      " 'new': {'reaction': None},\n",
      " 'original': {'reaction': 'cpd15411_e0 <=> '}}\n",
      "\n",
      "\n",
      "{'justification': 'The cpd03191_e0 and cpd00880_e0 distinction in 0 is '\n",
      "                  'incompatible. The ID match was verified with BiGG '\n",
      "                  'cross-references.',\n",
      " 'new': {'id': 'cpd00880_e0', 'name': 'D-Glucuronate 1-phosphate_e0'},\n",
      " 'original': {'id': 'cpd03191_e0', 'name': 'D-Glucuronate 1-phosphate_e0'}}\n",
      "\n",
      "\n",
      "{'justification': 'The cpd00609_e0 and cpd00571_e0 distinction in 0 is '\n",
      "                  'incompatible. The ID match was verified with BiGG '\n",
      "                  'cross-references.',\n",
      " 'new': {'id': 'cpd00571_e0', 'name': 'D-Glucarate_e0'},\n",
      " 'original': {'id': 'cpd00609_e0', 'name': 'D-Glucarate_e0'}}\n",
      "\n",
      "\n",
      "{'justification': 'The metsox-S-L-e_e0 ID is not a ModelSEED Database ID.',\n",
      " 'new': {'id': 'cpd15498_e0', 'name': 'L-Methionine Sulfoxide_e0'},\n",
      " 'original': {'id': 'metsox-S-L-e_e0', 'name': 'L-Methionine Sulfoxide'}}\n",
      "\n",
      "\n",
      "{'justification': 'The tartr-D-e_e0 ID is not a ModelSEED Database ID.',\n",
      " 'new': {'id': 'cpd19018_e0', 'name': 'D-tartrate_e0'},\n",
      " 'original': {'id': 'tartr-D-e_e0', 'name': 'D-tartrate'}}\n",
      "\n",
      "\n",
      "{'justification': 'The dhps-e_e0 ID is not a ModelSEED Database ID.',\n",
      " 'new': {'id': 'cpd31356_e0', 'name': '2,3-Dihydroxypropane-1-sulfonate_e0'},\n",
      " 'original': {'id': 'dhps-e_e0', 'name': '2,3-Dihydroxypropane-1-sulfonate'}}\n",
      "\n",
      "\n",
      "{'justification': 'The r1400_e0 ID is not a ModelSEED Database ID.',\n",
      " 'new': {'id': 'cpd00028_e0', 'name': 'protoheme IX_e0'},\n",
      " 'original': {'id': 'r1400_e0', 'name': 'protoheme IX'}}\n",
      "\n",
      "\n",
      "{'justification': 'The r293_e0 ID is not a ModelSEED Database ID.',\n",
      " 'new': {'id': 'cpd10515_e0', 'name': 'Fe2+_e0'},\n",
      " 'original': {'id': 'r293_e0', 'name': 'Fe2+'}}\n",
      "\n",
      "\n",
      "{'justification': 'A cpd00028_e0 exchange reaction already exists in model 1, '\n",
      "                  'thus this duplicative exchange reaction (EX_r505_e0) is '\n",
      "                  'deleted.',\n",
      " 'new': {'reaction': None},\n",
      " 'original': {'reaction': 'r505_e0 <=> '}}\n",
      "\n",
      "\n",
      "{'justification': 'The r277_e0 ID is not a ModelSEED Database ID.',\n",
      " 'new': {'id': 'cpd00480_e0', 'name': '2-dehydro-D-gluconate_e0'},\n",
      " 'original': {'id': 'r277_e0', 'name': '2-dehydro-D-gluconate'}}\n",
      "\n",
      "\n",
      "{'justification': 'The r1423_e0 ID is not a ModelSEED Database ID.',\n",
      " 'new': {'id': 'cpd00024_e0', 'name': 'alpha-ketoglutarate_e0'},\n",
      " 'original': {'id': 'r1423_e0', 'name': 'alpha-ketoglutarate'}}\n",
      "\n",
      "\n",
      "{'justification': 'The cpd00609_e0 and cpd00571_e0 distinction in 1 is '\n",
      "                  'incompatible. The ID match was verified with BiGG '\n",
      "                  'cross-references.',\n",
      " 'new': {'id': 'cpd00571_e0', 'name': 'D-Glucarate_e0'},\n",
      " 'original': {'id': 'cpd00609_e0', 'name': 'D-Glucarate'}}\n",
      "\n",
      "\n",
      "{'justification': 'The r307_e0 ID is not a ModelSEED Database ID.',\n",
      " 'new': {'id': 'cpd00030_e0', 'name': 'Mn2+_e0'},\n",
      " 'original': {'id': 'r307_e0', 'name': 'Mn2+'}}\n",
      "\n",
      "\n",
      "{'justification': 'The r1262_e0 ID is not a ModelSEED Database ID.',\n",
      " 'new': {'id': 'cpd00131_e0', 'name': 'Mo2+_e0'},\n",
      " 'original': {'id': 'r1262_e0', 'name': 'Mo2+'}}\n",
      "\n",
      "\n",
      "2 reactions were substituted and 14 metabolite IDs were redefined.\n",
      "\n",
      "\n",
      "2 exchange reactions were substituted and 14 exchange metabolite IDs were redefined.\n"
     ]
    },
    {
     "data": {
      "text/plain": [
       "[<FBAModel iML1515 at 0x7fe909089b90>, <FBAModel iSB1139 at 0x7fe914bd7410>]"
      ]
     },
     "execution_count": 25,
     "metadata": {},
     "output_type": "execute_result"
    }
   ],
   "source": [
    "%run ../../../modelseedpy/community/mscompatibility_original.py  # actually the original class-based logic\n",
    "old_models = [model.copy() for model in models]\n",
    "# msdb_path = os.path.join(\"..\", \"..\", \"..\", \"..\", \"ModelSEEDDatabase\")\n",
    "msdb_path = os.path.join(\"..\", \"..\", \"..\", \"..\", \"ModelSEEDDatabase\")\n",
    "mscompat = MSCompatibility(msdb_path)\n",
    "mscompat.align_exchanges(old_models, standardize=True, conflicts_file_name=\"orig_conflicts.json\")"
   ]
  },
  {
   "cell_type": "code",
   "execution_count": 26,
   "id": "afc2beb6",
   "metadata": {},
   "outputs": [
    {
     "name": "stdout",
     "output_type": "stream",
     "text": [
      "<Solution 0.000 at 0x7fe902317590>\n",
      "<Solution 0.000 at 0x7fe902317d90>\n"
     ]
    }
   ],
   "source": [
    "for model in old_models:\n",
    "    print(model.optimize())"
   ]
  },
  {
   "cell_type": "markdown",
   "id": "0e187f3b",
   "metadata": {},
   "source": [
    "# Export the MSDB objects"
   ]
  },
  {
   "cell_type": "code",
   "execution_count": 5,
   "id": "a2ab1efa",
   "metadata": {},
   "outputs": [],
   "source": [
    "from collections import OrderedDict\n",
    "import os, json\n",
    "\n",
    "# import and parse ModelSEED Database reactions and compounds\n",
    "reaction_ids = OrderedDict()\n",
    "msdb = os.path.join(\"..\", \"..\", \"..\", \"..\", \"ModelSEEDDatabase\")\n",
    "for num in range(0,49):\n",
    "    with open(os.path.join(msdb, 'Biochemistry', f'reaction_{num:0>2}.json'), 'r') as rxns:\n",
    "        reactions = json.load(rxns)\n",
    "        for rxn in reactions:\n",
    "            reaction_ids[rxn['id']] = rxn['name']\n",
    "\n",
    "compounds_cross_references, compound_names = OrderedDict(), OrderedDict()\n",
    "for num in range(0,38):\n",
    "    with open(os.path.join(msdb, 'Biochemistry', f'compound_{num:0>2}.json'), 'r') as cpds:\n",
    "        try:\n",
    "            compounds = json.load(cpds)\n",
    "        except:\n",
    "            print(f'compound_{num:0>2}.json is probably empty.')\n",
    "            continue\n",
    "        for cpd in compounds:\n",
    "            compounds_cross_references[cpd['id']] = {}\n",
    "            if cpd['aliases'] is not None:\n",
    "                for category in cpd['aliases']:\n",
    "                    content = category.split(';')\n",
    "                    if 'Name' in category:\n",
    "                        content[0] = content[0].split(':')[0].strip()\n",
    "                        names = [name.strip() for name in content]\n",
    "                        names.append(cpd['name'])\n",
    "                        for name in names:\n",
    "                            if name not in compound_names:\n",
    "                                compound_names[name] = cpd['id']\n",
    "                    else:\n",
    "                        first = content[0].split(':')\n",
    "                        db = first[0].strip()\n",
    "                        content[0] = first[1]\n",
    "                        compounds_cross_references[cpd['id']][db] = [x.strip() for x in content]\n",
    "                        \n",
    "# export the content\n",
    "with open(\"compound_Xrefs.json\" , 'w') as cpdXRefs_out:\n",
    "    json.dump(compounds_cross_references, cpdXRefs_out, indent=3)\n",
    "with open(\"compoundNames.json\" , 'w') as cpdNames_out:\n",
    "    json.dump(compound_names, cpdNames_out, indent=3)\n",
    "with open(\"reactionIDs.json\" , 'w') as rxnID_out:\n",
    "    json.dump(reaction_ids, rxnID_out, indent=3)"
   ]
  },
  {
   "cell_type": "markdown",
   "id": "7a99bee9",
   "metadata": {},
   "source": [
    "# Align exchange reactions"
   ]
  },
  {
   "cell_type": "code",
   "execution_count": 6,
   "id": "214421c0",
   "metadata": {
    "scrolled": true,
    "tags": []
   },
   "outputs": [
    {
     "ename": "Exception",
     "evalue": "File `'../../../modelseedpy/core/mscompatibility.py'` not found.",
     "output_type": "error",
     "traceback": [
      "\u001b[1;31m---------------------------------------------------------------------------\u001b[0m",
      "\u001b[1;31mOSError\u001b[0m                                   Traceback (most recent call last)",
      "File \u001b[1;32m~\\AppData\\Local\\Programs\\Python\\Python39\\lib\\site-packages\\IPython\\core\\magics\\execution.py:696\u001b[0m, in \u001b[0;36mExecutionMagics.run\u001b[1;34m(self, parameter_s, runner, file_finder)\u001b[0m\n\u001b[0;32m    695\u001b[0m     fpath \u001b[38;5;241m=\u001b[39m arg_lst[\u001b[38;5;241m0\u001b[39m]\n\u001b[1;32m--> 696\u001b[0m     filename \u001b[38;5;241m=\u001b[39m \u001b[43mfile_finder\u001b[49m\u001b[43m(\u001b[49m\u001b[43mfpath\u001b[49m\u001b[43m)\u001b[49m\n\u001b[0;32m    697\u001b[0m \u001b[38;5;28;01mexcept\u001b[39;00m \u001b[38;5;167;01mIndexError\u001b[39;00m \u001b[38;5;28;01mas\u001b[39;00m e:\n",
      "File \u001b[1;32m~\\AppData\\Local\\Programs\\Python\\Python39\\lib\\site-packages\\IPython\\utils\\path.py:91\u001b[0m, in \u001b[0;36mget_py_filename\u001b[1;34m(name)\u001b[0m\n\u001b[0;32m     90\u001b[0m \u001b[38;5;28;01melse\u001b[39;00m:\n\u001b[1;32m---> 91\u001b[0m     \u001b[38;5;28;01mraise\u001b[39;00m \u001b[38;5;167;01mIOError\u001b[39;00m(\u001b[38;5;124m'\u001b[39m\u001b[38;5;124mFile `\u001b[39m\u001b[38;5;132;01m%r\u001b[39;00m\u001b[38;5;124m` not found.\u001b[39m\u001b[38;5;124m'\u001b[39m \u001b[38;5;241m%\u001b[39m name)\n",
      "\u001b[1;31mOSError\u001b[0m: File `'../../../modelseedpy/core/mscompatibility.py'` not found.",
      "\nThe above exception was the direct cause of the following exception:\n",
      "\u001b[1;31mException\u001b[0m                                 Traceback (most recent call last)",
      "Input \u001b[1;32mIn [6]\u001b[0m, in \u001b[0;36m<cell line: 1>\u001b[1;34m()\u001b[0m\n\u001b[1;32m----> 1\u001b[0m \u001b[43mget_ipython\u001b[49m\u001b[43m(\u001b[49m\u001b[43m)\u001b[49m\u001b[38;5;241;43m.\u001b[39;49m\u001b[43mrun_line_magic\u001b[49m\u001b[43m(\u001b[49m\u001b[38;5;124;43m'\u001b[39;49m\u001b[38;5;124;43mrun\u001b[39;49m\u001b[38;5;124;43m'\u001b[39;49m\u001b[43m,\u001b[49m\u001b[43m \u001b[49m\u001b[38;5;124;43m'\u001b[39;49m\u001b[38;5;124;43m../../../modelseedpy/core/mscompatibility.py\u001b[39;49m\u001b[38;5;124;43m'\u001b[39;49m\u001b[43m)\u001b[49m\n\u001b[0;32m      2\u001b[0m mscompat \u001b[38;5;241m=\u001b[39m MSCompatibility(modelseed_db_path \u001b[38;5;241m=\u001b[39m os\u001b[38;5;241m.\u001b[39mpath\u001b[38;5;241m.\u001b[39mjoin(\u001b[38;5;124m'\u001b[39m\u001b[38;5;124m..\u001b[39m\u001b[38;5;124m'\u001b[39m, \u001b[38;5;124m'\u001b[39m\u001b[38;5;124m..\u001b[39m\u001b[38;5;124m'\u001b[39m, \u001b[38;5;124m'\u001b[39m\u001b[38;5;124m..\u001b[39m\u001b[38;5;124m'\u001b[39m, \u001b[38;5;124m'\u001b[39m\u001b[38;5;124m..\u001b[39m\u001b[38;5;124m'\u001b[39m, \u001b[38;5;124m'\u001b[39m\u001b[38;5;124mModelSEEDDatabase\u001b[39m\u001b[38;5;124m'\u001b[39m))\n\u001b[0;32m      4\u001b[0m model1 \u001b[38;5;241m=\u001b[39m kbase_api\u001b[38;5;241m.\u001b[39mget_from_ws(\u001b[38;5;124m\"\u001b[39m\u001b[38;5;124miML1515\u001b[39m\u001b[38;5;124m\"\u001b[39m,\u001b[38;5;241m76994\u001b[39m)\n",
      "File \u001b[1;32m~\\AppData\\Local\\Programs\\Python\\Python39\\lib\\site-packages\\IPython\\core\\interactiveshell.py:2304\u001b[0m, in \u001b[0;36mInteractiveShell.run_line_magic\u001b[1;34m(self, magic_name, line, _stack_depth)\u001b[0m\n\u001b[0;32m   2302\u001b[0m     kwargs[\u001b[38;5;124m'\u001b[39m\u001b[38;5;124mlocal_ns\u001b[39m\u001b[38;5;124m'\u001b[39m] \u001b[38;5;241m=\u001b[39m \u001b[38;5;28mself\u001b[39m\u001b[38;5;241m.\u001b[39mget_local_scope(stack_depth)\n\u001b[0;32m   2303\u001b[0m \u001b[38;5;28;01mwith\u001b[39;00m \u001b[38;5;28mself\u001b[39m\u001b[38;5;241m.\u001b[39mbuiltin_trap:\n\u001b[1;32m-> 2304\u001b[0m     result \u001b[38;5;241m=\u001b[39m fn(\u001b[38;5;241m*\u001b[39margs, \u001b[38;5;241m*\u001b[39m\u001b[38;5;241m*\u001b[39mkwargs)\n\u001b[0;32m   2305\u001b[0m \u001b[38;5;28;01mreturn\u001b[39;00m result\n",
      "File \u001b[1;32m~\\AppData\\Local\\Programs\\Python\\Python39\\lib\\site-packages\\IPython\\core\\magics\\execution.py:707\u001b[0m, in \u001b[0;36mExecutionMagics.run\u001b[1;34m(self, parameter_s, runner, file_finder)\u001b[0m\n\u001b[0;32m    705\u001b[0m     \u001b[38;5;28;01mif\u001b[39;00m os\u001b[38;5;241m.\u001b[39mname \u001b[38;5;241m==\u001b[39m \u001b[38;5;124m'\u001b[39m\u001b[38;5;124mnt\u001b[39m\u001b[38;5;124m'\u001b[39m \u001b[38;5;129;01mand\u001b[39;00m re\u001b[38;5;241m.\u001b[39mmatch(\u001b[38;5;124mr\u001b[39m\u001b[38;5;124m\"\u001b[39m\u001b[38;5;124m^\u001b[39m\u001b[38;5;124m'\u001b[39m\u001b[38;5;124m.*\u001b[39m\u001b[38;5;124m'\u001b[39m\u001b[38;5;124m$\u001b[39m\u001b[38;5;124m\"\u001b[39m,fpath):\n\u001b[0;32m    706\u001b[0m         warn(\u001b[38;5;124m'\u001b[39m\u001b[38;5;124mFor Windows, use double quotes to wrap a filename: \u001b[39m\u001b[38;5;132;01m%r\u001b[39;00m\u001b[38;5;124mun \u001b[39m\u001b[38;5;124m\"\u001b[39m\u001b[38;5;124mmypath\u001b[39m\u001b[38;5;130;01m\\\\\u001b[39;00m\u001b[38;5;124mmyfile.py\u001b[39m\u001b[38;5;124m\"\u001b[39m\u001b[38;5;124m'\u001b[39m)\n\u001b[1;32m--> 707\u001b[0m     \u001b[38;5;28;01mraise\u001b[39;00m \u001b[38;5;167;01mException\u001b[39;00m(msg) \u001b[38;5;28;01mfrom\u001b[39;00m \u001b[38;5;21;01me\u001b[39;00m\n\u001b[0;32m    708\u001b[0m \u001b[38;5;28;01mexcept\u001b[39;00m \u001b[38;5;167;01mTypeError\u001b[39;00m:\n\u001b[0;32m    709\u001b[0m     \u001b[38;5;28;01mif\u001b[39;00m fpath \u001b[38;5;129;01min\u001b[39;00m sys\u001b[38;5;241m.\u001b[39mmeta_path:\n",
      "\u001b[1;31mException\u001b[0m: File `'../../../modelseedpy/core/mscompatibility.py'` not found."
     ]
    }
   ],
   "source": [
    "%run ../../../modelseedpy/core/mscompatibility.py\n",
    "mscompat = MSCompatibility(modelseed_db_path = os.path.join('..', '..', '..', '..', 'ModelSEEDDatabase'))\n",
    "\n",
    "model1 = kbase_api.get_from_ws(\"iML1515\",76994)\n",
    "model2 = kbase_api.get_from_ws(\"iSB1139.kb.gf\",30650)\n",
    "models = [model1, model2]\n",
    "\n",
    "before_model_rxns = after_model_rxns = []\n",
    "for model in models:\n",
    "    for rxn in model.reactions:\n",
    "        before_model_rxns.append(rxn.reaction)\n",
    "    if 'r293_e0' in model.metabolites:\n",
    "        print('The metabolite r293_e0 is in model', models.index(model))\n",
    "\n",
    "models = mscompat.align_exchanges(models, conflicts_file_name='exchanges_conflicts.json', model_names = [\"iML1515\", \"iSB1139.kb.gf\"])\n",
    "\n",
    "print('\\n\\n')\n",
    "for model in models:\n",
    "    for rxn in model.reactions:\n",
    "        after_model_rxns.append(rxn.reaction)\n",
    "    if 'r293_e0' not in model.metabolites:\n",
    "        print('The metabolite r293_e0 is not in model', models.index(model))\n",
    "        \n",
    "    # export JSON versions of the models\n",
    "    \n",
    "        \n",
    "for new_rxn in after_model_rxns:\n",
    "    if new_rxn not in before_model_rxns:\n",
    "        print('new rxn\\t',  new_rxn, 'old rxn\\t', before_model_rxns[after_model_rxns.index(new_rxn)])"
   ]
  },
  {
   "cell_type": "markdown",
   "id": "be7072be",
   "metadata": {},
   "source": [
    "# Standardize exchange metabolites"
   ]
  },
  {
   "cell_type": "code",
   "execution_count": null,
   "id": "f2e585d2",
   "metadata": {
    "tags": []
   },
   "outputs": [],
   "source": [
    "%run ../../../modelseedpy/core/mscompatibility.py\n",
    "\n",
    "model1 = kbase_api.get_from_ws(\"iML1515\",76994)\n",
    "model2 = kbase_api.get_from_ws(\"iSB1139.kb.gf\",30650)\n",
    "mscompat = MSCompatibility(modelseed_db_path = os.path.join('..', '..', '..', '..', 'ModelSEEDDatabase'))\n",
    "models = [model1, model2]\n",
    "\n",
    "before_model_rxns, after_model_rxns = [], []\n",
    "for model in models:\n",
    "    for rxn in model.reactions:\n",
    "        before_model_rxns.append(rxn.reaction)\n",
    "    if 'r293_e0' in model.metabolites:\n",
    "        print('The metabolite r293_e0 is in model', models.index(model))\n",
    "\n",
    "models = mscompat.standardize(models, conflicts_file_name = 'standardized_exchange_metabolites.json', model_names = [\"iML1515\", \"iSB1139.kb.gf\"])\n",
    "\n",
    "for model in models:\n",
    "    for rxn in model.reactions:\n",
    "        after_model_rxns.append(rxn.reaction)\n",
    "    if 'r293_e0' not in model.metabolites:\n",
    "        print('The metabolite r293_e0 is not in model', models.index(model))\n",
    "        \n",
    "new_rxn_count = 0\n",
    "for new_rxn in after_model_rxns:\n",
    "    if new_rxn not in before_model_rxns:\n",
    "        new_rxn_count += 1\n",
    "print(f'{new_rxn_count} reactions were changed.')"
   ]
  },
  {
   "cell_type": "markdown",
   "id": "06736ee1",
   "metadata": {},
   "source": [
    "# Standardize all metabolites"
   ]
  },
  {
   "cell_type": "code",
   "execution_count": null,
   "id": "7555ffca",
   "metadata": {
    "tags": []
   },
   "outputs": [],
   "source": [
    "%run ../../../modelseedpy/core/mscompatibility.py\n",
    "\n",
    "model1 = kbase_api.get_from_ws(\"iML1515\",76994)\n",
    "model2 = kbase_api.get_from_ws(\"iSB1139.kb.gf\",30650)\n",
    "mscompat = MSCompatibility(modelseed_db_path = os.path.join('..', '..', '..', 'ModelSEEDDatabase'))\n",
    "models = [model1, model2]\n",
    "\n",
    "before_model_rxns, after_model_rxns = [], []\n",
    "for model in models:\n",
    "    for rxn in model.reactions:\n",
    "        before_model_rxns.append(rxn.reaction)\n",
    "    if 'r293_e0' in model.metabolites:\n",
    "        print('The metabolite r293_e0 is in model', models.index(model))\n",
    "\n",
    "model1, model2 = mscompat.standardize(models, exchanges = False, conflicts_file_name = 'standardized_metabolites.json')\n",
    "# models = mscompat.standardize_MSD(models,conflicts_file_name = 'standardized_metabolites.txt', metabolites = False)\n",
    "\n",
    "for model in models:\n",
    "    for rxn in model.reactions:\n",
    "        after_model_rxns.append(rxn.reaction)\n",
    "    if 'r293_e0' not in model.metabolites:\n",
    "        print('The metabolite r293_e0 is not in model', models.index(model))\n",
    "        \n",
    "new_rxn_count = 0\n",
    "for new_rxn in after_model_rxns:\n",
    "    if new_rxn not in before_model_rxns:\n",
    "        new_rxn_count += 1\n",
    "print(f'{new_rxn_count} reactions were changed.')"
   ]
  },
  {
   "cell_type": "markdown",
   "id": "ce50cd61",
   "metadata": {},
   "source": [
    "# Brainstorming"
   ]
  },
  {
   "cell_type": "code",
   "execution_count": null,
   "id": "25082411",
   "metadata": {},
   "outputs": [],
   "source": [
    "pprint(set(met.compartment for met in model1.metabolites))"
   ]
  },
  {
   "cell_type": "code",
   "execution_count": null,
   "id": "67c9fd8d",
   "metadata": {},
   "outputs": [],
   "source": [
    "with open('iML1515_exchanges.txt', 'w') as exchange_reactions:\n",
    "    exchange_reactions.write('IDs\\t\\t\\t\\tReaction\\n')\n",
    "    for ex_rxn in models[0].exchanges:\n",
    "        exchange_reactions.write(ex_rxn.id+'\\t\\t'+ex_rxn.reaction+'\\n')\n",
    "        \n",
    "with open('iSB1139_exchanges.txt', 'w') as exchange_reactions:\n",
    "    exchange_reactions.write('IDs\\t\\t\\t\\tReaction\\n')\n",
    "    for ex_rxn in models[1].exchanges:\n",
    "        exchange_reactions.write(ex_rxn.id+'\\t\\t'+ex_rxn.reaction+'\\n')"
   ]
  },
  {
   "cell_type": "code",
   "execution_count": null,
   "id": "fc545e62",
   "metadata": {},
   "outputs": [],
   "source": [
    "from pandas import DataFrame\n",
    "DataFrame = "
   ]
  },
  {
   "cell_type": "code",
   "execution_count": null,
   "id": "d1a57d61",
   "metadata": {},
   "outputs": [],
   "source": [
    "from itertools import combinations\n",
    "species = {1:3,2:3,3:4,4:5}\n",
    "for species_1, species_2 in combinations(species, 2):\n",
    "    print(species_1, species_2)"
   ]
  },
  {
   "cell_type": "code",
   "execution_count": null,
   "id": "d03185e1",
   "metadata": {},
   "outputs": [],
   "source": [
    "test =  'AraCyc: OH; WATER'\n",
    "content = test.split(';')\n",
    "content[0] = content[0].split(':')\n",
    "db = content[0][0]\n",
    "content[0] = content[0][1]\n",
    "dic = {db:[x.strip() for x in content]}\n",
    "print(dic)"
   ]
  },
  {
   "cell_type": "code",
   "execution_count": null,
   "id": "a581f45f",
   "metadata": {},
   "outputs": [],
   "source": [
    "for met in models[0].metabolites:\n",
    "    if 'cpd' not in met.id:\n",
    "        print(met.id)\n",
    "        for rxn in met.reactions:\n",
    "            print(rxn.reaction)\n",
    "        print('\\n\\n')"
   ]
  },
  {
   "cell_type": "code",
   "execution_count": null,
   "id": "82747733",
   "metadata": {
    "tags": []
   },
   "outputs": [],
   "source": [
    "print(sum(rxn for model in models for rxn in model.reactions))"
   ]
  },
  {
   "cell_type": "code",
   "execution_count": null,
   "id": "a8498de5",
   "metadata": {},
   "outputs": [],
   "source": [
    "pfba, self_pfba = None, False\n",
    "if pfba == None or self_pfba == None:\n",
    "    print('yes')"
   ]
  },
  {
   "cell_type": "code",
   "execution_count": null,
   "id": "9cb27dd7",
   "metadata": {},
   "outputs": [],
   "source": [
    "if 'cpd00035' in model1.metabolites:\n",
    "    print('not replaced')"
   ]
  },
  {
   "cell_type": "code",
   "execution_count": null,
   "id": "b48e18e7",
   "metadata": {
    "tags": []
   },
   "outputs": [],
   "source": [
    "# model1 = kbase_api.get_from_ws(\"iML1515\",76994)\n",
    "# model2 = kbase_api.get_from_ws(\"iSB1139.kb.gf\",30650)\n",
    "import re\n",
    "\n",
    "for rxn in model1.reactions:\n",
    "    pprint(rxn.id)\n",
    "    break\n",
    "\n",
    "for rxn in model1.modelreactions:\n",
    "    pprint(rxn)\n",
    "    if 3 == model1.modelreactions.index(rxn):\n",
    "        break\n",
    "    # print(rxn.reactants)\n",
    "    # print(rxn.products, '\\n\\n')\n",
    "    # for index, met_id in enumerate([re.sub('_\\w\\d', '', met.id) for met in rxn.reactants]):\n",
    "    #     if met_id in [re.sub('_\\w\\d', '', met.id) for met in rxn.products]:\n",
    "    #         print(rxn.metabolites[rxn.reactants[index]])\n",
    "    #         print(rxn)\n",
    "    #         break\n",
    "            \n",
    "# # exclude reactions where the erroneous ID is both a reactant and product (which is currently an evasive condition)\n",
    "# for met_id in [re.sub('_\\w\\d', '', react_met.id) for react_met in rxn.reactants]:\n",
    "#     print(met_id)\n",
    "#     if met_id in [re.sub('_\\w\\d', '', pro_met.id) for pro_met in rxn.products] and met_id == original_id:\n",
    "#         warn(f'ReactionError: The {met.id} metabolite in the {rxn.id} reaction cannot be substituted as both a reactant and product.')\n",
    "#         continue"
   ]
  },
  {
   "cell_type": "code",
   "execution_count": null,
   "id": "d72a3598",
   "metadata": {
    "tags": []
   },
   "outputs": [],
   "source": [
    "from cobra.core.dictlist import DictList\n",
    "\n",
    "test = DictList()\n",
    "test.append({'a':4, 'b':5})\n",
    "print(test)"
   ]
  },
  {
   "cell_type": "code",
   "execution_count": null,
   "id": "caad2977",
   "metadata": {
    "tags": []
   },
   "outputs": [],
   "source": [
    "from collections import OrderedDict\n",
    "\n",
    "x = OrderedDict({'x':2, 'c':4})\n",
    "x.pop('c')\n",
    "print(x)\n",
    "print(list(x.keys()).index('x'))\n",
    "print(dir(x))"
   ]
  },
  {
   "cell_type": "code",
   "execution_count": null,
   "id": "435212f2",
   "metadata": {
    "tags": []
   },
   "outputs": [],
   "source": [
    "print(model1.annotation)\n",
    "# print(dir(model1))\n",
    "\n",
    "# for met in model.metabolites:\n",
    "#     print(dir(met))\n",
    "#     print(met.summary())\n",
    "#     if met == model.metabolites[4]:\n",
    "#         break\n",
    "        \n",
    "mnx_count = 0\n",
    "for rxn in model1.modelcompounds:\n",
    "    if 1 >= model1.modelcompounds.index(rxn):\n",
    "        pprint(rxn)\n",
    "    if 'ModelSeed' in rxn['dblinks']:\n",
    "        mnx_count += 1\n",
    "print(f'\\n\\nmodel1 {mnx_count}/{len(model1.modelcompounds)}\\n\\n')    \n",
    "\n",
    "mnx_count = 0\n",
    "for rxn in model2.modelcompounds:\n",
    "    if 1 >= model2.modelcompounds.index(rxn):\n",
    "        pprint(rxn)\n",
    "    if 'ModelSeed' in rxn['dblinks']:\n",
    "        mnx_count += 1\n",
    "print(f'\\n\\nmodel2 {mnx_count}/{len(model2.modelcompounds)}')    "
   ]
  },
  {
   "cell_type": "code",
   "execution_count": null,
   "id": "4820783a",
   "metadata": {},
   "outputs": [],
   "source": [
    "from periodictable import formula\n",
    "\n",
    "# print(dir(Formula))\n",
    "\n",
    "fm = formula('K2SO4 CaSO4 H2O')\n",
    "print(fm.mass_fraction)\n",
    "print(fm.atoms)\n",
    "print(fm.mass)"
   ]
  },
  {
   "cell_type": "code",
   "execution_count": null,
   "id": "0a3d553f",
   "metadata": {},
   "outputs": [],
   "source": [
    "from numpy import negative\n",
    "import re\n",
    "\n",
    "# parse the reaction string\n",
    "reaction = \"(1) cpd00002[0] + (1) cpd00222[0] => (1) cpd00008[0] + (1) cpd00067[0] + (1) cpd00284[0]\"\n",
    "compounds = reaction.split('=>')\n",
    "reactant, product = compounds[0], compounds[1]\n",
    "reactants = [x.strip() for x in reactant.split('+')]\n",
    "products = [x.strip() for x in product.split('+')]\n",
    "reactant_met = [x.split(' ') for x in reactants]\n",
    "product_met = [x.split(' ') for x in products]\n",
    "\n",
    "# assemble a dictionary for the reaction\n",
    "reaction_dict = {}\n",
    "for met in reactant_met:\n",
    "    stoich = float(re.search('(\\d+)', met[0]).group())\n",
    "    met[1] = met[1].replace('[0]', '_c0')\n",
    "    met[1] = met[1].replace('[1]', '_c0')\n",
    "    reaction_dict[met[1]] = negative(stoich)\n",
    "for met in product_met:\n",
    "    stoich = float(re.search('(\\d+)', met[0]).group())\n",
    "    met[1] = met[1].replace('[0]', '_c0')\n",
    "    met[1] = met[1].replace('[1]', '_c0')\n",
    "    reaction_dict[met[1]] = stoich\n",
    "    \n",
    "\n",
    "print(reactant_met, product_met)\n",
    "print(reaction_dict)"
   ]
  }
 ],
 "metadata": {
  "kernelspec": {
   "display_name": "Python 3",
   "language": "python",
   "name": "python3"
  },
  "language_info": {
   "codemirror_mode": {
    "name": "ipython",
    "version": 3
   },
   "file_extension": ".py",
   "mimetype": "text/x-python",
   "name": "python",
   "nbconvert_exporter": "python",
   "pygments_lexer": "ipython3",
   "version": "3.7.4"
  }
 },
 "nbformat": 4,
 "nbformat_minor": 5
}
