{
 "cells": [
  {
   "cell_type": "markdown",
   "id": "1dda7cb0",
   "metadata": {},
   "source": [
    "# SteadyCom Example"
   ]
  },
  {
   "cell_type": "code",
   "execution_count": 1,
   "id": "82f3ff22",
   "metadata": {},
   "outputs": [],
   "source": [
    "from reframed import load_cbmodel, from_cobrapy, Community, SteadyCom, Environment, FBA"
   ]
  },
  {
   "cell_type": "markdown",
   "id": "ab180067-d764-4af0-b8c1-3f66e06df189",
   "metadata": {},
   "source": [
    "### load from SBML file"
   ]
  },
  {
   "cell_type": "code",
   "execution_count": null,
   "id": "627947ce-2978-43a6-8f86-3a3a045a35c8",
   "metadata": {},
   "outputs": [],
   "source": [
    "model1 = load_cbmodel('Acetobacterium_MES1.electrosynthesis.edited.xml',flavor='bigg')\n",
    "model1.id = 'm1'\n",
    "model2 = load_cbmodel('Sulfurospirillum_MES13.autotroph.edited.xml',flavor='bigg')\n",
    "model2.id = 'm2'\n",
    "model3 = load_cbmodel('Desulfovibrio_MES4.autotroph.edited.v2.xml',flavor='bigg')\n",
    "model3.id = 'm3'"
   ]
  },
  {
   "cell_type": "markdown",
   "id": "72b32d67-2ff9-4de2-8b12-be86d015e040",
   "metadata": {},
   "source": [
    "kbase.get_from_ws: cobrakbase.core.kbasefba.fbamodel.FBAModel -> cobra.core.model.Model \n",
    "\n",
    "from_cobrapy: cobra.core.model.Model -> reframed.core.cbmodel.CBModel\n",
    "\n",
    "Community(str, [reframed.core.cbmodel.CBModel])"
   ]
  },
  {
   "cell_type": "code",
   "execution_count": 11,
   "id": "45d4e8f6-15f3-4693-a6bb-8550d2f4299d",
   "metadata": {},
   "outputs": [
    {
     "name": "stdout",
     "output_type": "stream",
     "text": [
      "cobrakbase 0.2.8\n"
     ]
    }
   ],
   "source": [
    "import cobrakbase\n",
    "kbase = cobrakbase.KBaseAPI()\n",
    "ws = 93204"
   ]
  },
  {
   "cell_type": "markdown",
   "id": "7f7fb686-18fe-44e5-936b-ac8f723712cc",
   "metadata": {},
   "source": [
    "### load from KBase"
   ]
  },
  {
   "cell_type": "code",
   "execution_count": 236,
   "id": "7754eb60-0d9d-4ee0-bc38-e0a9932d653c",
   "metadata": {},
   "outputs": [],
   "source": [
    "import cobrakbase\n",
    "from reframed.core.model import ReactionType\n",
    "kbase = cobrakbase.KBaseAPI()\n",
    "ws = 93204\n",
    "model1 = from_cobrapy(kbase.get_from_ws('Acetobacterium_MES1.electrosynthesis.edited', 93204))\n",
    "model1.id = 'm1'\n",
    "model1.compartments.e0.external = True\n",
    "model2 = from_cobrapy(kbase.get_from_ws('Sulfurospirillum_MES13.autotroph.edited', 93204))\n",
    "model2.id = 'm2'\n",
    "model2.compartments.e0.external = True\n",
    "model3 = from_cobrapy(kbase.get_from_ws('Desulfovibrio_MES4.autotroph.edited.v2', 93204))\n",
    "model3.id = 'm3'\n",
    "model3.compartments.e0.external = True\n",
    "for rxn_id in model1.reactions:\n",
    "    if 'EX_' in rxn_id:\n",
    "        rxn = model1.reactions[rxn_id]\n",
    "        rxn.reaction_type = ReactionType.EXCHANGE\n",
    "for rxn_id in model2.reactions:\n",
    "    if 'EX_' in rxn_id:\n",
    "        rxn = model2.reactions[rxn_id]\n",
    "        rxn.reaction_type = ReactionType.EXCHANGE\n",
    "for rxn_id in model3.reactions:\n",
    "    if 'EX_' in rxn_id:\n",
    "        rxn = model3.reactions[rxn_id]\n",
    "        rxn.reaction_type = ReactionType.EXCHANGE"
   ]
  },
  {
   "cell_type": "code",
   "execution_count": 232,
   "id": "8b3e923b-2394-4620-b0c0-7388c3bc80c1",
   "metadata": {},
   "outputs": [],
   "source": []
  },
  {
   "cell_type": "code",
   "execution_count": null,
   "id": "321bd9d0-69d1-479b-9d10-5384cf1a4356",
   "metadata": {},
   "outputs": [],
   "source": []
  },
  {
   "cell_type": "code",
   "execution_count": null,
   "id": "2a7f4222-90ac-4bfd-8809-8ae020a899d6",
   "metadata": {},
   "outputs": [],
   "source": []
  },
  {
   "cell_type": "code",
   "execution_count": 140,
   "id": "249a2d30-8159-43d6-9f1d-6bb50f8d0ffd",
   "metadata": {},
   "outputs": [
    {
     "data": {
      "text/plain": [
       "'bio1'"
      ]
     },
     "execution_count": 140,
     "metadata": {},
     "output_type": "execute_result"
    }
   ],
   "source": [
    "model1.biomass_reaction"
   ]
  },
  {
   "cell_type": "code",
   "execution_count": 2,
   "id": "97a681e3-73e9-4353-a660-abc60d962f25",
   "metadata": {},
   "outputs": [],
   "source": [
    "model1 = load_cbmodel('Acetobacterium_MES1.electrosynthesis.edited.xml',flavor='bigg')\n",
    "model1.id = 'm1'"
   ]
  },
  {
   "cell_type": "code",
   "execution_count": 4,
   "id": "7a70e136-2e61-48d6-aab0-7060b1c30959",
   "metadata": {},
   "outputs": [],
   "source": [
    "#model1.get_exchange_reactions()"
   ]
  },
  {
   "cell_type": "code",
   "execution_count": 26,
   "id": "8f260143-691d-48c5-91ad-9667aa56f55d",
   "metadata": {},
   "outputs": [],
   "source": [
    "model1_cobra = kbase.get_from_ws('Acetobacterium_MES1.electrosynthesis.edited', 93204)"
   ]
  },
  {
   "cell_type": "code",
   "execution_count": 29,
   "id": "eceadfdc-9f5c-4be9-984a-dc71fbc02498",
   "metadata": {},
   "outputs": [],
   "source": [
    "model1_cobra.medium = {\n",
    "    'EX_cpd00161_e0': 1000,\n",
    " 'EX_cpd00012_e0': 1000,\n",
    " 'EX_cpd11579_e0': 1000,\n",
    " 'EX_cpd00635_e0': 1000,\n",
    " 'EX_cpd00215_e0': 1000,\n",
    " 'EX_cpd03453_e0': 1000,\n",
    " 'EX_cpd00011_e0': 1000,\n",
    " 'EX_cpd00122_e0': 1000,\n",
    " 'EX_cpd00588_e0': 1000,\n",
    " 'EX_cpd00039_e0': 1000,\n",
    " 'EX_cpd00023_e0': 1000\n",
    "}"
   ]
  },
  {
   "cell_type": "code",
   "execution_count": 31,
   "id": "f80f3eec-7320-4a1a-abe6-3ee0293d3af9",
   "metadata": {},
   "outputs": [],
   "source": [
    "model1_cobra.medium = media"
   ]
  },
  {
   "cell_type": "code",
   "execution_count": 34,
   "id": "667d70ae-2c69-496c-986a-e86959e552cb",
   "metadata": {},
   "outputs": [],
   "source": [
    "model1 = from_cobrapy(model1_cobra)"
   ]
  },
  {
   "cell_type": "code",
   "execution_count": 43,
   "id": "8018edac-3a6c-451f-9855-b2138960d94f",
   "metadata": {},
   "outputs": [],
   "source": [
    "from cobra.test import create_test_model"
   ]
  },
  {
   "cell_type": "code",
   "execution_count": 44,
   "id": "9a514573-8ea2-4f14-9e93-910a4414f44d",
   "metadata": {},
   "outputs": [],
   "source": [
    "test_model = from_cobrapy(create_test_model('textbook'))"
   ]
  },
  {
   "cell_type": "code",
   "execution_count": 47,
   "id": "af9400bf-a265-49be-b6b8-2ce1fea20cc3",
   "metadata": {},
   "outputs": [
    {
     "data": {
      "text/plain": [
       "[]"
      ]
     },
     "execution_count": 47,
     "metadata": {},
     "output_type": "execute_result"
    }
   ],
   "source": [
    "test_model.get_exchange_reactions()"
   ]
  },
  {
   "cell_type": "code",
   "execution_count": 42,
   "id": "398016f6-7043-47ac-85e1-d1bf724930a7",
   "metadata": {},
   "outputs": [
    {
     "data": {
      "text/plain": [
       "[]"
      ]
     },
     "execution_count": 42,
     "metadata": {},
     "output_type": "execute_result"
    }
   ],
   "source": [
    "model1.get_external_metabolites()"
   ]
  },
  {
   "cell_type": "markdown",
   "id": "8ef9ceb8-44a7-42a2-82c2-cdf68ce1ef35",
   "metadata": {},
   "source": [
    "#  pip list | grep reframed"
   ]
  },
  {
   "cell_type": "code",
   "execution_count": 33,
   "id": "06edf9e5-29dd-4a8b-8552-bf65ee0932b9",
   "metadata": {
    "collapsed": true,
    "jupyter": {
     "outputs_hidden": true
    },
    "tags": []
   },
   "outputs": [
    {
     "data": {
      "text/html": [
       "<h3>Objective</h3><p>1.0 bio1 = 0.13343955928842335</p><h4>Uptake</h4><table border=\"1\" class=\"dataframe\">\n",
       "  <thead>\n",
       "    <tr style=\"text-align: right;\">\n",
       "      <th>Metabolite</th>\n",
       "      <th>Reaction</th>\n",
       "      <th>Flux</th>\n",
       "      <th>C-Number</th>\n",
       "      <th>C-Flux</th>\n",
       "    </tr>\n",
       "  </thead>\n",
       "  <tbody>\n",
       "    <tr>\n",
       "      <td>cpd00009_e0</td>\n",
       "      <td>EX_cpd00009_e0</td>\n",
       "      <td>0.1662</td>\n",
       "      <td>0</td>\n",
       "      <td>0.00%</td>\n",
       "    </tr>\n",
       "    <tr>\n",
       "      <td>cpd00011_e0</td>\n",
       "      <td>EX_cpd00011_e0</td>\n",
       "      <td>5</td>\n",
       "      <td>1</td>\n",
       "      <td>100.00%</td>\n",
       "    </tr>\n",
       "    <tr>\n",
       "      <td>cpd00013_e0</td>\n",
       "      <td>EX_cpd00013_e0</td>\n",
       "      <td>1.01</td>\n",
       "      <td>0</td>\n",
       "      <td>0.00%</td>\n",
       "    </tr>\n",
       "    <tr>\n",
       "      <td>cpd00030_e0</td>\n",
       "      <td>EX_cpd00030_e0</td>\n",
       "      <td>0.0009601</td>\n",
       "      <td>0</td>\n",
       "      <td>0.00%</td>\n",
       "    </tr>\n",
       "    <tr>\n",
       "      <td>cpd00034_e0</td>\n",
       "      <td>EX_cpd00034_e0</td>\n",
       "      <td>0.0009601</td>\n",
       "      <td>0</td>\n",
       "      <td>0.00%</td>\n",
       "    </tr>\n",
       "    <tr>\n",
       "      <td>cpd00048_e0</td>\n",
       "      <td>EX_cpd00048_e0</td>\n",
       "      <td>0.02947</td>\n",
       "      <td>0</td>\n",
       "      <td>0.00%</td>\n",
       "    </tr>\n",
       "    <tr>\n",
       "      <td>cpd00058_e0</td>\n",
       "      <td>EX_cpd00058_e0</td>\n",
       "      <td>0.0009601</td>\n",
       "      <td>0</td>\n",
       "      <td>0.00%</td>\n",
       "    </tr>\n",
       "    <tr>\n",
       "      <td>cpd00063_e0</td>\n",
       "      <td>EX_cpd00063_e0</td>\n",
       "      <td>0.0009601</td>\n",
       "      <td>0</td>\n",
       "      <td>0.00%</td>\n",
       "    </tr>\n",
       "    <tr>\n",
       "      <td>cpd00067_e0</td>\n",
       "      <td>EX_cpd00067_e0</td>\n",
       "      <td>33.9</td>\n",
       "      <td>0</td>\n",
       "      <td>0.00%</td>\n",
       "    </tr>\n",
       "    <tr>\n",
       "      <td>cpd00099_e0</td>\n",
       "      <td>EX_cpd00099_e0</td>\n",
       "      <td>0.0009601</td>\n",
       "      <td>0</td>\n",
       "      <td>0.00%</td>\n",
       "    </tr>\n",
       "    <tr>\n",
       "      <td>cpd00149_e0</td>\n",
       "      <td>EX_cpd00149_e0</td>\n",
       "      <td>0.0009601</td>\n",
       "      <td>0</td>\n",
       "      <td>0.00%</td>\n",
       "    </tr>\n",
       "    <tr>\n",
       "      <td>cpd00205_e0</td>\n",
       "      <td>EX_cpd00205_e0</td>\n",
       "      <td>0.0009601</td>\n",
       "      <td>0</td>\n",
       "      <td>0.00%</td>\n",
       "    </tr>\n",
       "    <tr>\n",
       "      <td>cpd00254_e0</td>\n",
       "      <td>EX_cpd00254_e0</td>\n",
       "      <td>0.0009601</td>\n",
       "      <td>0</td>\n",
       "      <td>0.00%</td>\n",
       "    </tr>\n",
       "    <tr>\n",
       "      <td>cpd10515_e0</td>\n",
       "      <td>EX_cpd10515_e0</td>\n",
       "      <td>0.003841</td>\n",
       "      <td>0</td>\n",
       "      <td>0.00%</td>\n",
       "    </tr>\n",
       "    <tr>\n",
       "      <td>cpd17041_c0</td>\n",
       "      <td>rxn13782_c0</td>\n",
       "      <td>0.1334</td>\n",
       "      <td>0</td>\n",
       "      <td>0.00%</td>\n",
       "    </tr>\n",
       "    <tr>\n",
       "      <td>cpd17042_c0</td>\n",
       "      <td>rxn13783_c0</td>\n",
       "      <td>0.1334</td>\n",
       "      <td>0</td>\n",
       "      <td>0.00%</td>\n",
       "    </tr>\n",
       "    <tr>\n",
       "      <td>cpd17043_c0</td>\n",
       "      <td>rxn13784_c0</td>\n",
       "      <td>0.1334</td>\n",
       "      <td>0</td>\n",
       "      <td>0.00%</td>\n",
       "    </tr>\n",
       "  </tbody>\n",
       "</table><h4>Secretion</h4><table border=\"1\" class=\"dataframe\">\n",
       "  <thead>\n",
       "    <tr style=\"text-align: right;\">\n",
       "      <th>Metabolite</th>\n",
       "      <th>Reaction</th>\n",
       "      <th>Flux</th>\n",
       "      <th>C-Number</th>\n",
       "      <th>C-Flux</th>\n",
       "    </tr>\n",
       "  </thead>\n",
       "  <tbody>\n",
       "    <tr>\n",
       "      <td>cpd00001_e0</td>\n",
       "      <td>EX_cpd00001_e0</td>\n",
       "      <td>-19.61</td>\n",
       "      <td>0</td>\n",
       "      <td>0.00%</td>\n",
       "    </tr>\n",
       "    <tr>\n",
       "      <td>cpd00069_e0</td>\n",
       "      <td>EX_cpd00069_e0</td>\n",
       "      <td>-0.008802</td>\n",
       "      <td>9</td>\n",
       "      <td>100.00%</td>\n",
       "    </tr>\n",
       "    <tr>\n",
       "      <td>cpd11416_c0</td>\n",
       "      <td>SK_cpd11416_c0</td>\n",
       "      <td>-0.1334</td>\n",
       "      <td>0</td>\n",
       "      <td>0.00%</td>\n",
       "    </tr>\n",
       "  </tbody>\n",
       "</table>"
      ],
      "text/plain": [
       "<cobra.summary.model_summary.ModelSummary at 0x7f493f358e20>"
      ]
     },
     "execution_count": 33,
     "metadata": {},
     "output_type": "execute_result"
    }
   ],
   "source": [
    "model1_cobra.summary()"
   ]
  },
  {
   "cell_type": "code",
   "execution_count": 9,
   "id": "368e66ea-b5ec-4118-8c27-8cbbf4d0590b",
   "metadata": {},
   "outputs": [],
   "source": [
    "from cobra.core import Model"
   ]
  },
  {
   "cell_type": "code",
   "execution_count": 10,
   "id": "272a32e1-6851-4390-a2f7-210bdfad15a0",
   "metadata": {},
   "outputs": [],
   "source": [
    "model = Model()"
   ]
  },
  {
   "cell_type": "code",
   "execution_count": 11,
   "id": "b730354c-ef17-423a-9c38-d71f0c2b71b7",
   "metadata": {},
   "outputs": [
    {
     "data": {
      "text/plain": [
       "cobra.core.model.Model"
      ]
     },
     "execution_count": 11,
     "metadata": {},
     "output_type": "execute_result"
    }
   ],
   "source": [
    "type(model)"
   ]
  },
  {
   "cell_type": "code",
   "execution_count": 40,
   "id": "b0205c64-88d5-4697-978a-1e5117d38bbe",
   "metadata": {},
   "outputs": [
    {
     "data": {
      "text/html": [
       "\n",
       "        <table>\n",
       "            <tr>\n",
       "                <td><strong>Name</strong></td>\n",
       "                <td>Acetobacterium_MES1.electrosynthesis.2021</td>\n",
       "            </tr><tr>\n",
       "                <td><strong>Memory address</strong></td>\n",
       "                <td>0x07f493a34e790</td>\n",
       "            </tr><tr>\n",
       "                <td><strong>Number of metabolites</strong></td>\n",
       "                <td>1134</td>\n",
       "            </tr><tr>\n",
       "                <td><strong>Number of reactions</strong></td>\n",
       "                <td>1207</td>\n",
       "            </tr><tr>\n",
       "                <td><strong>Number of groups</strong></td>\n",
       "                <td>0</td>\n",
       "            </tr><tr>\n",
       "                <td><strong>Objective expression</strong></td>\n",
       "                <td>1.0*bio1 - 1.0*bio1_reverse_b18f7</td>\n",
       "            </tr><tr>\n",
       "                <td><strong>Compartments</strong></td>\n",
       "                <td>c0, e0</td>\n",
       "            </tr>\n",
       "          </table>"
      ],
      "text/plain": [
       "<FBAModel Acetobacterium_MES1.electrosynthesis.2021 at 0x7f493a34e790>"
      ]
     },
     "execution_count": 40,
     "metadata": {},
     "output_type": "execute_result"
    }
   ],
   "source": [
    "model1_cobra"
   ]
  },
  {
   "cell_type": "code",
   "execution_count": null,
   "id": "cbb3caff-c27b-4c2a-9ab0-b6bdfc8e1032",
   "metadata": {},
   "outputs": [],
   "source": []
  },
  {
   "cell_type": "code",
   "execution_count": null,
   "id": "f8872fb6-c1c8-4bb2-afd4-a41c896e7e8a",
   "metadata": {},
   "outputs": [],
   "source": []
  },
  {
   "cell_type": "code",
   "execution_count": 57,
   "id": "ed97105a-e580-49f9-a4d0-807c8448deef",
   "metadata": {},
   "outputs": [
    {
     "data": {
      "text/plain": [
       "Objective: 38.12428316739254\n",
       "Status: Optimal"
      ]
     },
     "execution_count": 57,
     "metadata": {},
     "output_type": "execute_result"
    }
   ],
   "source": [
    "FBA(model1)"
   ]
  },
  {
   "cell_type": "code",
   "execution_count": 54,
   "id": "bc114dc1-bf8a-4112-ae3a-7b0ebaf04a4a",
   "metadata": {
    "collapsed": true,
    "jupyter": {
     "outputs_hidden": true
    },
    "tags": []
   },
   "outputs": [
    {
     "data": {
      "text/html": [
       "<h3>Objective</h3><p>1.0 bio1 = 38.124283167392576</p><h4>Uptake</h4><table border=\"1\" class=\"dataframe\">\n",
       "  <thead>\n",
       "    <tr style=\"text-align: right;\">\n",
       "      <th>Metabolite</th>\n",
       "      <th>Reaction</th>\n",
       "      <th>Flux</th>\n",
       "      <th>C-Number</th>\n",
       "      <th>C-Flux</th>\n",
       "    </tr>\n",
       "  </thead>\n",
       "  <tbody>\n",
       "    <tr>\n",
       "      <td>cpd00007_e0</td>\n",
       "      <td>EX_cpd00007_e0</td>\n",
       "      <td>0.6858</td>\n",
       "      <td>0</td>\n",
       "      <td>0.00%</td>\n",
       "    </tr>\n",
       "    <tr>\n",
       "      <td>cpd00009_e0</td>\n",
       "      <td>EX_cpd00009_e0</td>\n",
       "      <td>13.05</td>\n",
       "      <td>0</td>\n",
       "      <td>0.00%</td>\n",
       "    </tr>\n",
       "    <tr>\n",
       "      <td>cpd00017_e0</td>\n",
       "      <td>EX_cpd00017_e0</td>\n",
       "      <td>0.2743</td>\n",
       "      <td>15</td>\n",
       "      <td>0.04%</td>\n",
       "    </tr>\n",
       "    <tr>\n",
       "      <td>cpd00023_e0</td>\n",
       "      <td>EX_cpd00023_e0</td>\n",
       "      <td>60.09</td>\n",
       "      <td>5</td>\n",
       "      <td>3.12%</td>\n",
       "    </tr>\n",
       "    <tr>\n",
       "      <td>cpd00027_e0</td>\n",
       "      <td>EX_cpd00027_e0</td>\n",
       "      <td>12.63</td>\n",
       "      <td>6</td>\n",
       "      <td>0.79%</td>\n",
       "    </tr>\n",
       "    <tr>\n",
       "      <td>cpd00028_e0</td>\n",
       "      <td>EX_cpd00028_e0</td>\n",
       "      <td>0.2743</td>\n",
       "      <td>34</td>\n",
       "      <td>0.10%</td>\n",
       "    </tr>\n",
       "    <tr>\n",
       "      <td>cpd00030_e0</td>\n",
       "      <td>EX_cpd00030_e0</td>\n",
       "      <td>0.2743</td>\n",
       "      <td>0</td>\n",
       "      <td>0.00%</td>\n",
       "    </tr>\n",
       "    <tr>\n",
       "      <td>cpd00034_e0</td>\n",
       "      <td>EX_cpd00034_e0</td>\n",
       "      <td>0.2743</td>\n",
       "      <td>0</td>\n",
       "      <td>0.00%</td>\n",
       "    </tr>\n",
       "    <tr>\n",
       "      <td>cpd00039_e0</td>\n",
       "      <td>EX_cpd00039_e0</td>\n",
       "      <td>12.34</td>\n",
       "      <td>6</td>\n",
       "      <td>0.77%</td>\n",
       "    </tr>\n",
       "    <tr>\n",
       "      <td>cpd00048_e0</td>\n",
       "      <td>EX_cpd00048_e0</td>\n",
       "      <td>0.2743</td>\n",
       "      <td>0</td>\n",
       "      <td>0.00%</td>\n",
       "    </tr>\n",
       "    <tr>\n",
       "      <td>cpd00051_e0</td>\n",
       "      <td>EX_cpd00051_e0</td>\n",
       "      <td>7.373</td>\n",
       "      <td>6</td>\n",
       "      <td>0.46%</td>\n",
       "    </tr>\n",
       "    <tr>\n",
       "      <td>cpd00054_e0</td>\n",
       "      <td>EX_cpd00054_e0</td>\n",
       "      <td>24.55</td>\n",
       "      <td>3</td>\n",
       "      <td>0.76%</td>\n",
       "    </tr>\n",
       "    <tr>\n",
       "      <td>cpd00058_e0</td>\n",
       "      <td>EX_cpd00058_e0</td>\n",
       "      <td>0.2743</td>\n",
       "      <td>0</td>\n",
       "      <td>0.00%</td>\n",
       "    </tr>\n",
       "    <tr>\n",
       "      <td>cpd00060_e0</td>\n",
       "      <td>EX_cpd00060_e0</td>\n",
       "      <td>4.327</td>\n",
       "      <td>5</td>\n",
       "      <td>0.22%</td>\n",
       "    </tr>\n",
       "    <tr>\n",
       "      <td>cpd00063_e0</td>\n",
       "      <td>EX_cpd00063_e0</td>\n",
       "      <td>0.2743</td>\n",
       "      <td>0</td>\n",
       "      <td>0.00%</td>\n",
       "    </tr>\n",
       "    <tr>\n",
       "      <td>cpd00065_e0</td>\n",
       "      <td>EX_cpd00065_e0</td>\n",
       "      <td>2.078</td>\n",
       "      <td>11</td>\n",
       "      <td>0.24%</td>\n",
       "    </tr>\n",
       "    <tr>\n",
       "      <td>cpd00066_e0</td>\n",
       "      <td>EX_cpd00066_e0</td>\n",
       "      <td>6.717</td>\n",
       "      <td>9</td>\n",
       "      <td>0.63%</td>\n",
       "    </tr>\n",
       "    <tr>\n",
       "      <td>cpd00067_e0</td>\n",
       "      <td>EX_cpd00067_e0</td>\n",
       "      <td>1000</td>\n",
       "      <td>0</td>\n",
       "      <td>0.00%</td>\n",
       "    </tr>\n",
       "    <tr>\n",
       "      <td>cpd00080_e0</td>\n",
       "      <td>EX_cpd00080_e0</td>\n",
       "      <td>34.44</td>\n",
       "      <td>3</td>\n",
       "      <td>1.07%</td>\n",
       "    </tr>\n",
       "    <tr>\n",
       "      <td>cpd00082_e0</td>\n",
       "      <td>EX_cpd00082_e0</td>\n",
       "      <td>508.9</td>\n",
       "      <td>6</td>\n",
       "      <td>31.68%</td>\n",
       "    </tr>\n",
       "    <tr>\n",
       "      <td>cpd00092_e0</td>\n",
       "      <td>EX_cpd00092_e0</td>\n",
       "      <td>3.371</td>\n",
       "      <td>4</td>\n",
       "      <td>0.14%</td>\n",
       "    </tr>\n",
       "    <tr>\n",
       "      <td>cpd00099_e0</td>\n",
       "      <td>EX_cpd00099_e0</td>\n",
       "      <td>0.2743</td>\n",
       "      <td>0</td>\n",
       "      <td>0.00%</td>\n",
       "    </tr>\n",
       "    <tr>\n",
       "      <td>cpd00104_e0</td>\n",
       "      <td>EX_cpd00104_e0</td>\n",
       "      <td>0.2743</td>\n",
       "      <td>10</td>\n",
       "      <td>0.03%</td>\n",
       "    </tr>\n",
       "    <tr>\n",
       "      <td>cpd00118_e0</td>\n",
       "      <td>EX_cpd00118_e0</td>\n",
       "      <td>0.2743</td>\n",
       "      <td>4</td>\n",
       "      <td>0.01%</td>\n",
       "    </tr>\n",
       "    <tr>\n",
       "      <td>cpd00119_e0</td>\n",
       "      <td>EX_cpd00119_e0</td>\n",
       "      <td>3.124</td>\n",
       "      <td>6</td>\n",
       "      <td>0.19%</td>\n",
       "    </tr>\n",
       "    <tr>\n",
       "      <td>cpd00138_e0</td>\n",
       "      <td>EX_cpd00138_e0</td>\n",
       "      <td>10.62</td>\n",
       "      <td>6</td>\n",
       "      <td>0.66%</td>\n",
       "    </tr>\n",
       "    <tr>\n",
       "      <td>cpd00149_e0</td>\n",
       "      <td>EX_cpd00149_e0</td>\n",
       "      <td>0.2743</td>\n",
       "      <td>0</td>\n",
       "      <td>0.00%</td>\n",
       "    </tr>\n",
       "    <tr>\n",
       "      <td>cpd00156_e0</td>\n",
       "      <td>EX_cpd00156_e0</td>\n",
       "      <td>11.73</td>\n",
       "      <td>5</td>\n",
       "      <td>0.61%</td>\n",
       "    </tr>\n",
       "    <tr>\n",
       "      <td>cpd00205_e0</td>\n",
       "      <td>EX_cpd00205_e0</td>\n",
       "      <td>0.2743</td>\n",
       "      <td>0</td>\n",
       "      <td>0.00%</td>\n",
       "    </tr>\n",
       "    <tr>\n",
       "      <td>cpd00215_e0</td>\n",
       "      <td>EX_cpd00215_e0</td>\n",
       "      <td>0.2743</td>\n",
       "      <td>8</td>\n",
       "      <td>0.02%</td>\n",
       "    </tr>\n",
       "    <tr>\n",
       "      <td>cpd00218_e0</td>\n",
       "      <td>EX_cpd00218_e0</td>\n",
       "      <td>0.5486</td>\n",
       "      <td>6</td>\n",
       "      <td>0.03%</td>\n",
       "    </tr>\n",
       "    <tr>\n",
       "      <td>cpd00220_e0</td>\n",
       "      <td>EX_cpd00220_e0</td>\n",
       "      <td>0.8229</td>\n",
       "      <td>17</td>\n",
       "      <td>0.15%</td>\n",
       "    </tr>\n",
       "    <tr>\n",
       "      <td>cpd00254_e0</td>\n",
       "      <td>EX_cpd00254_e0</td>\n",
       "      <td>0.2743</td>\n",
       "      <td>0</td>\n",
       "      <td>0.00%</td>\n",
       "    </tr>\n",
       "    <tr>\n",
       "      <td>cpd00264_e0</td>\n",
       "      <td>EX_cpd00264_e0</td>\n",
       "      <td>0.2743</td>\n",
       "      <td>7</td>\n",
       "      <td>0.02%</td>\n",
       "    </tr>\n",
       "    <tr>\n",
       "      <td>cpd00276_e0</td>\n",
       "      <td>EX_cpd00276_e0</td>\n",
       "      <td>7.591</td>\n",
       "      <td>6</td>\n",
       "      <td>0.47%</td>\n",
       "    </tr>\n",
       "    <tr>\n",
       "      <td>cpd00322_e0</td>\n",
       "      <td>EX_cpd00322_e0</td>\n",
       "      <td>10.31</td>\n",
       "      <td>6</td>\n",
       "      <td>0.64%</td>\n",
       "    </tr>\n",
       "    <tr>\n",
       "      <td>cpd00644_e0</td>\n",
       "      <td>EX_cpd00644_e0</td>\n",
       "      <td>0.5486</td>\n",
       "      <td>9</td>\n",
       "      <td>0.05%</td>\n",
       "    </tr>\n",
       "    <tr>\n",
       "      <td>cpd00731_e0</td>\n",
       "      <td>EX_cpd00731_e0</td>\n",
       "      <td>0.118</td>\n",
       "      <td>6</td>\n",
       "      <td>0.01%</td>\n",
       "    </tr>\n",
       "    <tr>\n",
       "      <td>cpd01017_e0</td>\n",
       "      <td>EX_cpd01017_e0</td>\n",
       "      <td>3.269</td>\n",
       "      <td>5</td>\n",
       "      <td>0.17%</td>\n",
       "    </tr>\n",
       "    <tr>\n",
       "      <td>cpd10516_e0</td>\n",
       "      <td>EX_cpd10516_e0</td>\n",
       "      <td>1000</td>\n",
       "      <td>0</td>\n",
       "      <td>0.00%</td>\n",
       "    </tr>\n",
       "    <tr>\n",
       "      <td>cpd11580_e0</td>\n",
       "      <td>EX_cpd11580_e0</td>\n",
       "      <td>192.2</td>\n",
       "      <td>7</td>\n",
       "      <td>13.96%</td>\n",
       "    </tr>\n",
       "    <tr>\n",
       "      <td>cpd11581_e0</td>\n",
       "      <td>EX_cpd11581_e0</td>\n",
       "      <td>65.31</td>\n",
       "      <td>6</td>\n",
       "      <td>4.07%</td>\n",
       "    </tr>\n",
       "    <tr>\n",
       "      <td>cpd11583_e0</td>\n",
       "      <td>EX_cpd11583_e0</td>\n",
       "      <td>13.25</td>\n",
       "      <td>9</td>\n",
       "      <td>1.24%</td>\n",
       "    </tr>\n",
       "    <tr>\n",
       "      <td>cpd11588_e0</td>\n",
       "      <td>EX_cpd11588_e0</td>\n",
       "      <td>6.139</td>\n",
       "      <td>7</td>\n",
       "      <td>0.45%</td>\n",
       "    </tr>\n",
       "    <tr>\n",
       "      <td>cpd11593_e0</td>\n",
       "      <td>EX_cpd11593_e0</td>\n",
       "      <td>512.3</td>\n",
       "      <td>7</td>\n",
       "      <td>37.21%</td>\n",
       "    </tr>\n",
       "    <tr>\n",
       "      <td>cpd17041_c0</td>\n",
       "      <td>rxn13782_c0</td>\n",
       "      <td>38.12</td>\n",
       "      <td>0</td>\n",
       "      <td>0.00%</td>\n",
       "    </tr>\n",
       "    <tr>\n",
       "      <td>cpd17042_c0</td>\n",
       "      <td>rxn13783_c0</td>\n",
       "      <td>38.12</td>\n",
       "      <td>0</td>\n",
       "      <td>0.00%</td>\n",
       "    </tr>\n",
       "    <tr>\n",
       "      <td>cpd17043_c0</td>\n",
       "      <td>rxn13784_c0</td>\n",
       "      <td>38.12</td>\n",
       "      <td>0</td>\n",
       "      <td>0.00%</td>\n",
       "    </tr>\n",
       "  </tbody>\n",
       "</table><h4>Secretion</h4><table border=\"1\" class=\"dataframe\">\n",
       "  <thead>\n",
       "    <tr style=\"text-align: right;\">\n",
       "      <th>Metabolite</th>\n",
       "      <th>Reaction</th>\n",
       "      <th>Flux</th>\n",
       "      <th>C-Number</th>\n",
       "      <th>C-Flux</th>\n",
       "    </tr>\n",
       "  </thead>\n",
       "  <tbody>\n",
       "    <tr>\n",
       "      <td>cpd00001_e0</td>\n",
       "      <td>EX_cpd00001_e0</td>\n",
       "      <td>-1000</td>\n",
       "      <td>0</td>\n",
       "      <td>0.00%</td>\n",
       "    </tr>\n",
       "    <tr>\n",
       "      <td>cpd00011_e0</td>\n",
       "      <td>EX_cpd00011_e0</td>\n",
       "      <td>-579.2</td>\n",
       "      <td>1</td>\n",
       "      <td>7.04%</td>\n",
       "    </tr>\n",
       "    <tr>\n",
       "      <td>cpd00013_e0</td>\n",
       "      <td>EX_cpd00013_e0</td>\n",
       "      <td>-1000</td>\n",
       "      <td>0</td>\n",
       "      <td>0.00%</td>\n",
       "    </tr>\n",
       "    <tr>\n",
       "      <td>cpd00029_e0</td>\n",
       "      <td>EX_cpd00029_e0</td>\n",
       "      <td>-1000</td>\n",
       "      <td>2</td>\n",
       "      <td>24.31%</td>\n",
       "    </tr>\n",
       "    <tr>\n",
       "      <td>cpd00033_e0</td>\n",
       "      <td>EX_cpd00033_e0</td>\n",
       "      <td>-253.6</td>\n",
       "      <td>2</td>\n",
       "      <td>6.17%</td>\n",
       "    </tr>\n",
       "    <tr>\n",
       "      <td>cpd00035_e0</td>\n",
       "      <td>EX_cpd00035_e0</td>\n",
       "      <td>-507.4</td>\n",
       "      <td>3</td>\n",
       "      <td>18.50%</td>\n",
       "    </tr>\n",
       "    <tr>\n",
       "      <td>cpd00047_e0</td>\n",
       "      <td>EX_cpd00047_e0</td>\n",
       "      <td>-862.4</td>\n",
       "      <td>1</td>\n",
       "      <td>10.48%</td>\n",
       "    </tr>\n",
       "    <tr>\n",
       "      <td>cpd00069_e0</td>\n",
       "      <td>EX_cpd00069_e0</td>\n",
       "      <td>-4.736</td>\n",
       "      <td>9</td>\n",
       "      <td>0.52%</td>\n",
       "    </tr>\n",
       "    <tr>\n",
       "      <td>cpd00159_e0</td>\n",
       "      <td>EX_cpd00159_e0</td>\n",
       "      <td>-904</td>\n",
       "      <td>3</td>\n",
       "      <td>32.97%</td>\n",
       "    </tr>\n",
       "    <tr>\n",
       "      <td>cpd10515_e0</td>\n",
       "      <td>EX_cpd10515_e0</td>\n",
       "      <td>-999.2</td>\n",
       "      <td>0</td>\n",
       "      <td>0.00%</td>\n",
       "    </tr>\n",
       "    <tr>\n",
       "      <td>cpd11416_c0</td>\n",
       "      <td>SK_cpd11416_c0</td>\n",
       "      <td>-38.12</td>\n",
       "      <td>0</td>\n",
       "      <td>0.00%</td>\n",
       "    </tr>\n",
       "  </tbody>\n",
       "</table>"
      ],
      "text/plain": [
       "<cobra.summary.model_summary.ModelSummary at 0x7fece34ead30>"
      ]
     },
     "execution_count": 54,
     "metadata": {},
     "output_type": "execute_result"
    }
   ],
   "source": [
    "model1_cobra.summary()"
   ]
  },
  {
   "cell_type": "code",
   "execution_count": 97,
   "id": "96b5950c-0bd4-4ecf-be4c-30d035f65a1d",
   "metadata": {},
   "outputs": [],
   "source": [
    "merged_model = community.merged_model"
   ]
  },
  {
   "cell_type": "code",
   "execution_count": 98,
   "id": "9213fc39-063e-4d74-8a07-be2f8597788f",
   "metadata": {},
   "outputs": [
    {
     "data": {
      "text/plain": [
       "[]"
      ]
     },
     "execution_count": 98,
     "metadata": {},
     "output_type": "execute_result"
    }
   ],
   "source": [
    "merged_model.get_exchange_reactions()"
   ]
  },
  {
   "cell_type": "code",
   "execution_count": 100,
   "id": "fb98bb43-3c08-4e95-a81c-f58724b36214",
   "metadata": {},
   "outputs": [
    {
     "data": {
      "text/plain": [
       "3479"
      ]
     },
     "execution_count": 100,
     "metadata": {},
     "output_type": "execute_result"
    }
   ],
   "source": [
    "len(merged_model.reactions)"
   ]
  },
  {
   "cell_type": "code",
   "execution_count": 105,
   "id": "1de243f6-e1c5-4301-8852-e85c6bbe465e",
   "metadata": {},
   "outputs": [
    {
     "data": {
      "text/plain": [
       "True"
      ]
     },
     "execution_count": 105,
     "metadata": {},
     "output_type": "execute_result"
    }
   ],
   "source": []
  },
  {
   "cell_type": "code",
   "execution_count": null,
   "id": "7cfe54d8-21e4-40ec-94fb-4c81e4798a7e",
   "metadata": {},
   "outputs": [],
   "source": [
    "merged_model.r"
   ]
  },
  {
   "cell_type": "code",
   "execution_count": 237,
   "id": "4f5e41c6",
   "metadata": {},
   "outputs": [
    {
     "name": "stdout",
     "output_type": "stream",
     "text": [
      "Community growth: 107.38671875\n",
      "m1\t0.0\n",
      "m2\t0.0\n",
      "m3\t1.0\n"
     ]
    },
    {
     "name": "stderr",
     "output_type": "stream",
     "text": [
      "/usr/local/lib/python3.8/site-packages/reframed/community/SteadyCom.py:169 \u001b[1;31mUserWarning\u001b[0m: Max iterations exceeded.\n"
     ]
    }
   ],
   "source": [
    "community = Community('electro.community',[model1, model2, model3])\n",
    "merged_model = community.merged_model\n",
    "communitySolution = SteadyCom(community)\n",
    "\n",
    "# cross_all = communitySolution.cross_feeding()\n",
    "# for i in cross_all:\n",
    "#     print(i)\n",
    "\n",
    "print(communitySolution)"
   ]
  },
  {
   "cell_type": "code",
   "execution_count": 121,
   "id": "71ab6939-1ff8-498b-a1a1-efb90317d45f",
   "metadata": {},
   "outputs": [],
   "source": [
    "merged_model.biomass_reaction = 'bio1_m1'"
   ]
  },
  {
   "cell_type": "code",
   "execution_count": 122,
   "id": "22740170-696f-439f-bc7f-e03a38f520a8",
   "metadata": {},
   "outputs": [],
   "source": [
    "#merged_model.reactions.bio1_m1"
   ]
  },
  {
   "cell_type": "code",
   "execution_count": 113,
   "id": "f58a86f3-2089-45e9-aa0c-717d056cbe19",
   "metadata": {},
   "outputs": [],
   "source": [
    "merged_model.reactions.R_EX_cpd11576_e0.set_flux_bounds(0, 1000)"
   ]
  },
  {
   "cell_type": "code",
   "execution_count": 143,
   "id": "aaf66e48-41b9-4340-8df3-d9a722116b53",
   "metadata": {},
   "outputs": [
    {
     "data": {
      "text/plain": [
       "['community_growth']"
      ]
     },
     "execution_count": 143,
     "metadata": {},
     "output_type": "execute_result"
    }
   ],
   "source": [
    "merged_model.get_metabolite_consumers('community_biomass')"
   ]
  },
  {
   "cell_type": "code",
   "execution_count": 144,
   "id": "c104360b-0b6a-414f-bfaa-2d66c4633396",
   "metadata": {},
   "outputs": [
    {
     "data": {
      "text/plain": [
       "['bio1_m1', 'bio1_m2', 'bio1_m3']"
      ]
     },
     "execution_count": 144,
     "metadata": {},
     "output_type": "execute_result"
    }
   ],
   "source": [
    "merged_model.get_metabolite_producers('community_biomass')"
   ]
  },
  {
   "cell_type": "code",
   "execution_count": 145,
   "id": "d1418b14-7dfe-4739-a8c1-c8fd75fa3c8c",
   "metadata": {},
   "outputs": [
    {
     "data": {
      "text/plain": [
       "Objective: 226.12620821909715\n",
       "Status: Optimal"
      ]
     },
     "execution_count": 145,
     "metadata": {},
     "output_type": "execute_result"
    }
   ],
   "source": [
    "FBA(merged_model)"
   ]
  },
  {
   "cell_type": "code",
   "execution_count": 142,
   "id": "186ec591-de03-4c68-bf32-27b886365a0c",
   "metadata": {},
   "outputs": [
    {
     "data": {
      "text/plain": [
       "Total community biomass"
      ]
     },
     "execution_count": 142,
     "metadata": {},
     "output_type": "execute_result"
    }
   ],
   "source": [
    "merged_model.metabolites.community_biomass"
   ]
  },
  {
   "cell_type": "code",
   "execution_count": 135,
   "id": "58d91d69-0ed7-406a-a063-795d6492fe4d",
   "metadata": {},
   "outputs": [],
   "source": [
    "community.merged_model.set_objective({'community_growth': -1})"
   ]
  },
  {
   "cell_type": "code",
   "execution_count": 146,
   "id": "c547511c-32ed-48a6-976a-235b71e783c7",
   "metadata": {},
   "outputs": [
    {
     "name": "stdout",
     "output_type": "stream",
     "text": [
      "Community growth: 107.38671875\n",
      "m1\t0.0\n",
      "m2\t0.0\n",
      "m3\t1.0\n"
     ]
    },
    {
     "name": "stderr",
     "output_type": "stream",
     "text": [
      "/usr/local/lib/python3.8/site-packages/reframed/community/SteadyCom.py:169 \u001b[1;31mUserWarning\u001b[0m: Max iterations exceeded.\n"
     ]
    }
   ],
   "source": [
    "communitySolution = SteadyCom(community)\n",
    "print(communitySolution)"
   ]
  },
  {
   "cell_type": "code",
   "execution_count": 7,
   "id": "5175a794-2e55-4256-b0e7-82d49a94fc4e",
   "metadata": {},
   "outputs": [],
   "source": [
    "#communitySolution.print_exchanges()"
   ]
  },
  {
   "cell_type": "code",
   "execution_count": 15,
   "id": "825bffb8",
   "metadata": {
    "tags": []
   },
   "outputs": [
    {
     "name": "stdout",
     "output_type": "stream",
     "text": [
      "\n",
      "None\n"
     ]
    }
   ],
   "source": [
    "print(communitySolution.print_external_fluxes())"
   ]
  },
  {
   "cell_type": "code",
   "execution_count": 4,
   "id": "59b54618",
   "metadata": {},
   "outputs": [],
   "source": [
    "# print(communitySolution.print_internal_fluxes('m1'))"
   ]
  },
  {
   "cell_type": "code",
   "execution_count": 16,
   "id": "d80f0006",
   "metadata": {
    "tags": []
   },
   "outputs": [
    {
     "name": "stdout",
     "output_type": "stream",
     "text": [
      "None\n"
     ]
    }
   ],
   "source": [
    "print(communitySolution.print_exchanges())"
   ]
  },
  {
   "cell_type": "code",
   "execution_count": 149,
   "id": "db19d933",
   "metadata": {},
   "outputs": [
    {
     "name": "stdout",
     "output_type": "stream",
     "text": [
      "Community growth: 107.38671875\n",
      "m1\t0.0\n",
      "m2\t0.0\n",
      "m3\t1.0\n"
     ]
    }
   ],
   "source": [
    "# WITH ENVIRONMENT\n",
    "env = Environment.complete(community.merged_model, inplace=False)\n",
    "communitySolution2 = SteadyCom(community,env)\n",
    "\n",
    "print(communitySolution2)"
   ]
  },
  {
   "cell_type": "code",
   "execution_count": 147,
   "id": "5bc9d63c-0b04-45c9-8fc7-6b30a17685ca",
   "metadata": {},
   "outputs": [],
   "source": [
    "media = kbase.get_from_ws('CO2_minimal', ws)"
   ]
  },
  {
   "cell_type": "code",
   "execution_count": null,
   "id": "9909f076-55e3-4e9b-9a27-0a3883e286d3",
   "metadata": {},
   "outputs": [],
   "source": []
  },
  {
   "cell_type": "code",
   "execution_count": 25,
   "id": "94ab1832-dae8-4315-b5c5-06c4c0c27e90",
   "metadata": {},
   "outputs": [],
   "source": [
    "#print(communitySolution.print_exchanges())"
   ]
  },
  {
   "cell_type": "code",
   "execution_count": 156,
   "id": "716d3191-f3c7-40a3-94fe-8cf8ea312875",
   "metadata": {},
   "outputs": [],
   "source": [
    "rxn = community.merged_model.reactions[r]"
   ]
  },
  {
   "cell_type": "code",
   "execution_count": null,
   "id": "48d90444-c79d-4ba1-9eb1-199dce0a7f76",
   "metadata": {},
   "outputs": [],
   "source": [
    "rxn.set_flux_bounds(-1000, 0)"
   ]
  },
  {
   "cell_type": "code",
   "execution_count": 243,
   "id": "5a59c3db-5afd-473e-a9aa-080801f4a86d",
   "metadata": {},
   "outputs": [
    {
     "data": {
      "text/plain": [
       "Objective: 0.2678047820357558\n",
       "Status: Optimal"
      ]
     },
     "execution_count": 243,
     "metadata": {},
     "output_type": "execute_result"
    }
   ],
   "source": [
    "media_const = media.get_media_constraints()\n",
    "for r in community.merged_model.get_exchange_reactions():\n",
    "    rxn = community.merged_model.reactions[r]\n",
    "    if r[5:] in media_const:\n",
    "        lb, ub = media_const[r[5:]]\n",
    "        rxn.set_flux_bounds(lb, ub)\n",
    "    else:\n",
    "        rxn.set_flux_bounds(0, 1000)\n",
    "res = FBA(community.merged_model)\n",
    "res"
   ]
  },
  {
   "cell_type": "code",
   "execution_count": 239,
   "id": "3ad3e1a9-00b7-43d8-8f64-615b59e56c02",
   "metadata": {},
   "outputs": [
    {
     "data": {
      "text/plain": [
       "Objective: 0.0\n",
       "Status: Optimal"
      ]
     },
     "execution_count": 239,
     "metadata": {},
     "output_type": "execute_result"
    }
   ],
   "source": [
    "for r in community.merged_model.get_exchange_reactions():\n",
    "    rxn = community.merged_model.reactions[r]\n",
    "    rxn.set_flux_bounds(0, 0)\n",
    "res = FBA(community.merged_model)\n",
    "res"
   ]
  },
  {
   "cell_type": "code",
   "execution_count": 244,
   "id": "1608fe04-8890-42dc-88fa-db30dd8edce0",
   "metadata": {},
   "outputs": [
    {
     "data": {
      "text/plain": [
       "Objective: 0.2678047820357558\n",
       "Status: Optimal"
      ]
     },
     "execution_count": 244,
     "metadata": {},
     "output_type": "execute_result"
    }
   ],
   "source": [
    "community.merged_model.set_objective({'community_growth': 1})\n",
    "res = FBA(community.merged_model)\n",
    "res"
   ]
  },
  {
   "cell_type": "code",
   "execution_count": 222,
   "id": "d3a54e42-7b16-4dff-92dc-1a069bb89cfd",
   "metadata": {},
   "outputs": [
    {
     "data": {
      "text/plain": [
       "45.65937352992398"
      ]
     },
     "execution_count": 222,
     "metadata": {},
     "output_type": "execute_result"
    }
   ],
   "source": [
    "res.values['bio1_m1']"
   ]
  },
  {
   "cell_type": "code",
   "execution_count": 238,
   "id": "424b85ee-c44a-428c-a864-a39df4151993",
   "metadata": {
    "collapsed": true,
    "jupyter": {
     "outputs_hidden": true
    },
    "tags": []
   },
   "outputs": [
    {
     "name": "stdout",
     "output_type": "stream",
     "text": [
      "community_growth: community_biomass -->  @1\n",
      "rxn13783_c0_m1:  --> cpd17042_c0_m1 [0, 1000]\n",
      "rxn13784_c0_m1:  --> cpd17043_c0_m1 [0, 1000]\n",
      "rxn13782_c0_m1:  --> cpd17041_c0_m1 [0, 1000]\n",
      "SK_cpd15302_c0_m1: cpd15302_c0_m1 -->  [0, 1000]\n",
      "SK_cpd11416_c0_m1: cpd11416_c0_m1 -->  [0, 1000]\n",
      "rxn13783_c0_m2:  --> cpd17042_c0_m2 [0, 1000]\n",
      "rxn13784_c0_m2:  --> cpd17043_c0_m2 [0, 1000]\n",
      "rxn13782_c0_m2:  --> cpd17041_c0_m2 [0, 1000]\n",
      "SK_cpd02701_c0_m2: cpd02701_c0_m2 -->  [0, 1000]\n",
      "SK_cpd11416_c0_m2: cpd11416_c0_m2 -->  [0, 1000]\n",
      "rxn13783_c0_m3:  --> cpd17042_c0_m3 [0, 1000]\n",
      "rxn13784_c0_m3:  --> cpd17043_c0_m3 [0, 1000]\n",
      "rxn13782_c0_m3:  --> cpd17041_c0_m3 [0, 1000]\n",
      "SK_cpd02701_c0_m3: cpd02701_c0_m3 -->  [0, 1000]\n",
      "SK_cpd15302_c0_m3: cpd15302_c0_m3 -->  [0, 1000]\n",
      "SK_cpd11416_c0_m3: cpd11416_c0_m3 -->  [0, 1000]\n",
      "R_EX_cpd11576_e0: cpd11576_e0 <-> \n",
      "R_EX_cpd04097_e0: cpd04097_e0 <-> \n",
      "R_EX_cpd00067_e0: cpd00067_e0 <-> \n",
      "R_EX_cpd11597_e0: cpd11597_e0 <-> \n",
      "R_EX_cpd11585_e0: cpd11585_e0 <-> \n",
      "R_EX_cpd11582_e0: cpd11582_e0 <-> \n",
      "R_EX_cpd00012_e0: cpd00012_e0 <-> \n",
      "R_EX_cpd11586_e0: cpd11586_e0 <-> \n",
      "R_EX_cpd01030_e0: cpd01030_e0 <-> \n",
      "R_EX_cpd00129_e0: cpd00129_e0 <-> \n",
      "R_EX_cpd00971_e0: cpd00971_e0 <-> \n",
      "R_EX_cpd01012_e0: cpd01012_e0 <-> \n",
      "R_EX_cpd00635_e0: cpd00635_e0 <-> \n",
      "R_EX_cpd00276_e0: cpd00276_e0 <-> \n",
      "R_EX_cpd00082_e0: cpd00082_e0 <-> \n",
      "R_EX_cpd00080_e0: cpd00080_e0 <-> \n",
      "R_EX_cpd00001_e0: cpd00001_e0 <-> \n",
      "R_EX_cpd00023_e0: cpd00023_e0 <-> \n",
      "R_EX_cpd00063_e0: cpd00063_e0 <-> \n",
      "R_EX_cpd00058_e0: cpd00058_e0 <-> \n",
      "R_EX_cpd00107_e0: cpd00107_e0 <-> \n",
      "R_EX_cpd00314_e0: cpd00314_e0 <-> \n",
      "R_EX_cpd11595_e0: cpd11595_e0 <-> \n",
      "R_EX_cpd01017_e0: cpd01017_e0 <-> \n",
      "R_EX_cpd00013_e0: cpd00013_e0 <-> \n",
      "R_EX_cpd00244_e0: cpd00244_e0 <-> \n",
      "R_EX_cpd11578_e0: cpd11578_e0 <-> \n",
      "R_EX_cpd10515_e0: cpd10515_e0 <-> \n",
      "R_EX_cpd00179_e0: cpd00179_e0 <-> \n",
      "R_EX_cpd11591_e0: cpd11591_e0 <-> \n",
      "R_EX_cpd00009_e0: cpd00009_e0 <-> \n",
      "R_EX_cpd00060_e0: cpd00060_e0 <-> \n",
      "R_EX_cpd00034_e0: cpd00034_e0 <-> \n",
      "R_EX_cpd11593_e0: cpd11593_e0 <-> \n",
      "R_EX_cpd00076_e0: cpd00076_e0 <-> \n",
      "R_EX_cpd00322_e0: cpd00322_e0 <-> \n",
      "R_EX_cpd03198_e0: cpd03198_e0 <-> \n",
      "R_EX_cpd11579_e0: cpd11579_e0 <-> \n",
      "R_EX_cpd01171_e0: cpd01171_e0 <-> \n",
      "R_EX_cpd00210_e0: cpd00210_e0 <-> \n",
      "R_EX_cpd15605_e0: cpd15605_e0 <-> \n",
      "R_EX_cpd00264_e0: cpd00264_e0 <-> \n",
      "R_EX_cpd00637_e0: cpd00637_e0 <-> \n",
      "R_EX_cpd00122_e0: cpd00122_e0 <-> \n",
      "R_EX_cpd15603_e0: cpd15603_e0 <-> \n",
      "R_EX_cpd03696_e0: cpd03696_e0 <-> \n",
      "R_EX_cpd00118_e0: cpd00118_e0 <-> \n",
      "R_EX_cpd11580_e0: cpd11580_e0 <-> \n",
      "R_EX_cpd00220_e0: cpd00220_e0 <-> \n",
      "R_EX_cpd00588_e0: cpd00588_e0 <-> \n",
      "R_EX_cpd00423_e0: cpd00423_e0 <-> \n",
      "R_EX_cpd00254_e0: cpd00254_e0 <-> \n",
      "R_EX_cpd11574_e0: cpd11574_e0 <-> \n",
      "R_EX_cpd00138_e0: cpd00138_e0 <-> \n",
      "R_EX_cpd00159_e0: cpd00159_e0 <-> \n",
      "R_EX_cpd03048_e0: cpd03048_e0 <-> \n",
      "R_EX_cpd11596_e0: cpd11596_e0 <-> \n",
      "R_EX_cpd00540_e0: cpd00540_e0 <-> \n",
      "R_EX_cpd00047_e0: cpd00047_e0 <-> \n",
      "R_EX_cpd15606_e0: cpd15606_e0 <-> \n",
      "R_EX_cpd10516_e0: cpd10516_e0 <-> \n",
      "R_EX_cpd01914_e0: cpd01914_e0 <-> \n",
      "R_EX_cpd00099_e0: cpd00099_e0 <-> \n",
      "R_EX_cpd00531_e0: cpd00531_e0 <-> \n",
      "R_EX_cpd11583_e0: cpd11583_e0 <-> \n",
      "R_EX_cpd00209_e0: cpd00209_e0 <-> \n",
      "R_EX_cpd00395_e0: cpd00395_e0 <-> \n",
      "R_EX_cpd11589_e0: cpd11589_e0 <-> \n",
      "R_EX_cpd00027_e0: cpd00027_e0 <-> \n",
      "R_EX_cpd11575_e0: cpd11575_e0 <-> \n",
      "R_EX_cpd00794_e0: cpd00794_e0 <-> \n",
      "R_EX_cpd09878_e0: cpd09878_e0 <-> \n",
      "R_EX_cpd11588_e0: cpd11588_e0 <-> \n",
      "R_EX_cpd15604_e0: cpd15604_e0 <-> \n",
      "R_EX_cpd00104_e0: cpd00104_e0 <-> \n",
      "R_EX_cpd00205_e0: cpd00205_e0 <-> \n",
      "R_EX_cpd00007_e0: cpd00007_e0 <-> \n",
      "R_EX_cpd03424_e0: cpd03424_e0 <-> \n",
      "R_EX_cpd00098_e0: cpd00098_e0 <-> \n",
      "R_EX_cpd11592_e0: cpd11592_e0 <-> \n",
      "R_EX_cpd00156_e0: cpd00156_e0 <-> \n",
      "R_EX_cpd08023_e0: cpd08023_e0 <-> \n",
      "R_EX_cpd11587_e0: cpd11587_e0 <-> \n",
      "R_EX_cpd00092_e0: cpd00092_e0 <-> \n",
      "R_EX_cpd00053_e0: cpd00053_e0 <-> \n",
      "R_EX_cpd11590_e0: cpd11590_e0 <-> \n",
      "R_EX_cpd11581_e0: cpd11581_e0 <-> \n",
      "R_EX_cpd00116_e0: cpd00116_e0 <-> \n",
      "R_EX_cpd11584_e0: cpd11584_e0 <-> \n",
      "R_EX_cpd00039_e0: cpd00039_e0 <-> \n",
      "R_EX_cpd00011_e0: cpd00011_e0 <-> \n",
      "R_EX_cpd00166_e0: cpd00166_e0 <-> \n",
      "R_EX_cpd00731_e0: cpd00731_e0 <-> \n",
      "R_EX_cpd00180_e0: cpd00180_e0 <-> \n",
      "R_EX_cpd03453_e0: cpd03453_e0 <-> \n",
      "R_EX_cpd03726_e0: cpd03726_e0 <-> \n",
      "R_EX_cpd00033_e0: cpd00033_e0 <-> \n",
      "R_EX_cpd00119_e0: cpd00119_e0 <-> \n",
      "R_EX_cpd00054_e0: cpd00054_e0 <-> \n",
      "R_EX_cpd00035_e0: cpd00035_e0 <-> \n",
      "R_EX_cpd00644_e0: cpd00644_e0 <-> \n",
      "R_EX_cpd00028_e0: cpd00028_e0 <-> \n",
      "R_EX_cpd00161_e0: cpd00161_e0 <-> \n",
      "R_EX_cpd00041_e0: cpd00041_e0 <-> \n",
      "R_EX_cpd00218_e0: cpd00218_e0 <-> \n",
      "R_EX_cpd00066_e0: cpd00066_e0 <-> \n",
      "R_EX_cpd00215_e0: cpd00215_e0 <-> \n",
      "R_EX_cpd00393_e0: cpd00393_e0 <-> \n",
      "R_EX_cpd00132_e0: cpd00132_e0 <-> \n",
      "R_EX_cpd00305_e0: cpd00305_e0 <-> \n",
      "R_EX_cpd00065_e0: cpd00065_e0 <-> \n",
      "R_EX_cpd00069_e0: cpd00069_e0 <-> \n",
      "R_EX_cpd00017_e0: cpd00017_e0 <-> \n",
      "R_EX_cpd00051_e0: cpd00051_e0 <-> \n",
      "R_EX_cpd00084_e0: cpd00084_e0 <-> \n",
      "R_EX_cpd00030_e0: cpd00030_e0 <-> \n",
      "R_EX_cpd00149_e0: cpd00149_e0 <-> \n",
      "R_EX_cpd00029_e0: cpd00029_e0 <-> \n",
      "R_EX_cpd00048_e0: cpd00048_e0 <-> \n",
      "R_EX_cpd00106_e0: cpd00106_e0 <-> \n",
      "R_EX_cpd00036_e0: cpd00036_e0 <-> \n",
      "R_EX_cpd00246_e0: cpd00246_e0 <-> \n",
      "R_EX_cpd00367_e0: cpd00367_e0 <-> \n",
      "R_EX_cpd00184_e0: cpd00184_e0 <-> \n",
      "R_EX_cpd00797_e0: cpd00797_e0 <-> \n",
      "R_EX_cpd00438_e0: cpd00438_e0 <-> \n",
      "R_EX_cpd00249_e0: cpd00249_e0 <-> \n",
      "R_EX_cpd00130_e0: cpd00130_e0 <-> \n",
      "R_EX_cpd00311_e0: cpd00311_e0 <-> \n",
      "R_EX_cpd00024_e0: cpd00024_e0 <-> \n",
      "R_EX_cpd00128_e0: cpd00128_e0 <-> \n",
      "R_EX_cpd15574_e0: cpd15574_e0 <-> \n",
      "R_EX_cpd02233_e0: cpd02233_e0 <-> \n",
      "R_EX_cpd04098_e0: cpd04098_e0 <-> \n",
      "R_EX_cpd00263_e0: cpd00263_e0 <-> \n",
      "R_EX_cpd00075_e0: cpd00075_e0 <-> \n",
      "R_EX_cpd00137_e0: cpd00137_e0 <-> \n",
      "R_EX_cpd00176_e0: cpd00176_e0 <-> \n",
      "R_EX_cpd00281_e0: cpd00281_e0 <-> \n",
      "R_EX_cpd03724_e0: cpd03724_e0 <-> \n",
      "R_EX_cpd08306_e0: cpd08306_e0 <-> \n",
      "R_EX_cpd01242_e0: cpd01242_e0 <-> \n",
      "R_EX_cpd15353_e0: cpd15353_e0 <-> \n",
      "R_EX_cpd15352_e0: cpd15352_e0 <-> \n",
      "R_EX_cpd00105_e0: cpd00105_e0 <-> \n",
      "R_EX_cpd00226_e0: cpd00226_e0 <-> \n",
      "R_EX_cpd08305_e0: cpd08305_e0 <-> \n",
      "R_EX_cpd15499_e0: cpd15499_e0 <-> \n",
      "R_EX_cpd15500_e0: cpd15500_e0 <-> \n",
      "R_EX_cpd00158_e0: cpd00158_e0 <-> \n",
      "R_EX_cpd15378_e0: cpd15378_e0 <-> \n"
     ]
    }
   ],
   "source": [
    "for rxn_id in community.merged_model.reactions:\n",
    "    rxn = community.merged_model.reactions[rxn_id]\n",
    "    if len(rxn.stoichiometry) == 1:\n",
    "        print(rxn)"
   ]
  },
  {
   "cell_type": "code",
   "execution_count": 226,
   "id": "e0bce13f-0fe0-46a4-8710-e6e672b1954c",
   "metadata": {},
   "outputs": [
    {
     "data": {
      "text/plain": [
       "1"
      ]
     },
     "execution_count": 226,
     "metadata": {},
     "output_type": "execute_result"
    }
   ],
   "source": []
  },
  {
   "cell_type": "code",
   "execution_count": 217,
   "id": "e6ca9476-2d1b-44f8-be67-bdc8346354a2",
   "metadata": {},
   "outputs": [
    {
     "data": {
      "text/plain": [
       "{'community_growth': 1}"
      ]
     },
     "execution_count": 217,
     "metadata": {},
     "output_type": "execute_result"
    }
   ],
   "source": [
    "community.merged_model.get_objective()"
   ]
  },
  {
   "cell_type": "code",
   "execution_count": 215,
   "id": "cc3d9791-a41c-4413-a45b-5c538752d70f",
   "metadata": {},
   "outputs": [
    {
     "data": {
      "text/plain": [
       "45.65937352992398"
      ]
     },
     "execution_count": 215,
     "metadata": {},
     "output_type": "execute_result"
    }
   ],
   "source": [
    "res.values['bio1_m1']"
   ]
  },
  {
   "cell_type": "code",
   "execution_count": 203,
   "id": "7d0e2339-b6d8-4a1c-82df-20a34474d1e5",
   "metadata": {},
   "outputs": [],
   "source": [
    "for r in community.merged_model.get_exchange_reactions():\n",
    "    rxn = community.merged_model.reactions[r]\n",
    "    v = res.values[r]\n",
    "    cpd = community.merged_model.metabolites[rxn.get_substrates()[0]]\n",
    "    if v != 0.0:\n",
    "        print(rxn, res.values[r], cpd)"
   ]
  },
  {
   "cell_type": "code",
   "execution_count": 204,
   "id": "4259b7b0-8473-4cf4-9e27-5065d06c0eaf",
   "metadata": {},
   "outputs": [
    {
     "data": {
      "text/plain": [
       "Objective: 226.12620821909735\n",
       "Status: Optimal"
      ]
     },
     "execution_count": 204,
     "metadata": {},
     "output_type": "execute_result"
    }
   ],
   "source": [
    "res = FBA(community.merged_model)\n",
    "res"
   ]
  },
  {
   "cell_type": "code",
   "execution_count": 208,
   "id": "c3a70762-97fa-473b-8e8d-fef24d9fe21e",
   "metadata": {},
   "outputs": [
    {
     "data": {
      "text/plain": [
       "107.39020553433991"
      ]
     },
     "execution_count": 208,
     "metadata": {},
     "output_type": "execute_result"
    }
   ],
   "source": [
    "res.values['bio1_m3']"
   ]
  },
  {
   "cell_type": "code",
   "execution_count": 245,
   "id": "813f85e0-8f60-4ac0-8585-a3cd8b00e7b9",
   "metadata": {},
   "outputs": [
    {
     "data": {
      "text/plain": [
       "Community growth: 0.1337890625\n",
       "m1\t0.8266163263281691\n",
       "m2\t4.6750838237024996e-05\n",
       "m3\t0.17333692283359406"
      ]
     },
     "execution_count": 245,
     "metadata": {},
     "output_type": "execute_result"
    }
   ],
   "source": [
    "communitySolution2 = SteadyCom(community)\n",
    "communitySolution2"
   ]
  },
  {
   "cell_type": "code",
   "execution_count": 169,
   "id": "69c321d4-0635-4f63-a0bb-8950bd1a318b",
   "metadata": {},
   "outputs": [
    {
     "data": {
      "text/plain": [
       "{('m3', 'cpd00067_e0'): 99.99999999999864,\n",
       " ('m3', 'cpd00971_e0'): -100.0,\n",
       " ('m3', 'cpd00001_e0'): 100.0,\n",
       " ('m3', 'cpd00063_e0'): -100.0,\n",
       " ('m3', 'cpd00058_e0'): -100.0,\n",
       " ('m3', 'cpd00013_e0'): -1.1368683772161603e-13,\n",
       " ('m3', 'cpd10515_e0'): -100.0,\n",
       " ('m3', 'cpd00009_e0'): -100.0,\n",
       " ('m3', 'cpd00034_e0'): -100.0,\n",
       " ('m3', 'cpd00254_e0'): -100.0,\n",
       " ('m3', 'cpd10516_e0'): -100.0,\n",
       " ('m3', 'cpd00099_e0'): -100.0,\n",
       " ('m3', 'cpd00205_e0'): -99.99999999999989,\n",
       " ('m3', 'cpd00011_e0'): 100.0,\n",
       " ('m3', 'cpd00030_e0'): -100.0,\n",
       " ('m3', 'cpd00149_e0'): -100.0,\n",
       " ('m3', 'cpd00048_e0'): -100.0,\n",
       " ('m3', 'cpd00176_e0'): 1000.0,\n",
       " ('m3', 'cpd03724_e0'): 1000.0,\n",
       " ('m3', 'cpd08306_e0'): 1000.0,\n",
       " ('m3', 'cpd01242_e0'): 1000.0,\n",
       " ('m3', 'cpd00226_e0'): 968.1920333305909,\n",
       " ('m3', 'cpd08305_e0'): 1000.0,\n",
       " ('m3', 'cpd00158_e0'): 1000.0}"
      ]
     },
     "execution_count": 169,
     "metadata": {},
     "output_type": "execute_result"
    }
   ],
   "source": [
    "#communitySolution2 = SteadyCom(community)\n",
    "communitySolution2.compute_exchanges()"
   ]
  },
  {
   "cell_type": "code",
   "execution_count": 87,
   "id": "d1c3897a-03b0-41f5-ba10-f2e82dcfc34b",
   "metadata": {},
   "outputs": [
    {
     "data": {
      "text/plain": [
       "R_EX_cpd11582_e0\t-10\tinf\n",
       "R_EX_cpd00129_e0\t-10\tinf\n",
       "R_EX_cpd00067_e0\t-10\tinf\n",
       "R_EX_cpd00001_e0\t-10\tinf"
      ]
     },
     "execution_count": 87,
     "metadata": {},
     "output_type": "execute_result"
    }
   ],
   "source": [
    "env_co2 = Environment.from_compounds(['R_EX_cpd11582_e0', 'R_EX_cpd00129_e0', 'R_EX_cpd00067_e0', 'R_EX_cpd00001_e0'], fmt_func=lambda x: x, max_uptake=10)\n",
    "env_co2"
   ]
  },
  {
   "cell_type": "code",
   "execution_count": 88,
   "id": "955b4901",
   "metadata": {},
   "outputs": [
    {
     "data": {
      "text/plain": [
       "Community growth: 31.26171875\n",
       "m1\t1.0"
      ]
     },
     "execution_count": 88,
     "metadata": {},
     "output_type": "execute_result"
    }
   ],
   "source": [
    "communitySolution2 = SteadyCom(community, env_co2)\n",
    "communitySolution2"
   ]
  },
  {
   "cell_type": "code",
   "execution_count": 89,
   "id": "d0d22d4a-0c77-4460-97a6-945b46b60994",
   "metadata": {},
   "outputs": [],
   "source": [
    "#communitySolution2.exchange"
   ]
  },
  {
   "cell_type": "code",
   "execution_count": null,
   "id": "d300fc75-e5f6-4a7b-a9f4-6b08254c2517",
   "metadata": {},
   "outputs": [],
   "source": []
  },
  {
   "cell_type": "code",
   "execution_count": null,
   "id": "c5de0c95-2880-4d3c-af87-9878f5617e24",
   "metadata": {},
   "outputs": [],
   "source": []
  }
 ],
 "metadata": {
  "kernelspec": {
   "display_name": "Python 3",
   "language": "python",
   "name": "python3"
  },
  "language_info": {
   "codemirror_mode": {
    "name": "ipython",
    "version": 3
   },
   "file_extension": ".py",
   "mimetype": "text/x-python",
   "name": "python",
   "nbconvert_exporter": "python",
   "pygments_lexer": "ipython3",
   "version": "3.8.10"
  }
 },
 "nbformat": 4,
 "nbformat_minor": 5
}
