{
 "cells": [
  {
   "cell_type": "code",
   "execution_count": null,
   "id": "74ce16bc-70f3-4331-ba9a-6a5441f513d9",
   "metadata": {},
   "outputs": [],
   "source": [
    "# define the environment path \n",
    "import os\n",
    "os.environ[\"HOME\"] = os.path.join('C:', 'Users', 'Andrew Freiburger','Documents','Argonne','cobrakbase')\n",
    "\n",
    "# import the models\n",
    "import cobrakbase\n",
    "kbase_api = cobrakbase.KBaseAPI()\n",
    "model1 = kbase_api.get_from_ws(\"iML1515\",76994)"
   ]
  },
  {
   "cell_type": "code",
   "execution_count": null,
   "id": "3df30f46-e300-4a41-8636-db5cbab3ab65",
   "metadata": {},
   "outputs": [],
   "source": [
    "%run ../../../modelseedpy/fbapkg/dfbapkg.py\n",
    "\n",
    "# define in the initial conditions\n",
    "modelseed_db_path = os.path.join('..', '..', '..', 'ModelSEEDDatabase')\n",
    "initial_concentrations_M = {\n",
    "    \"cpd00002\":200, \n",
    "    \"cpd00008\":100\n",
    "}\n",
    "total_time = 5\n",
    "timestep = 1\n",
    "\n",
    "# execute the package\n",
    "dfba = dFBAPkg(model1, modelseed_db_path, verbose = False)\n",
    "conc, fluxes = dfba.simulate('model_kinetics.json', initial_concentrations_M, total_time, timestep, labeled_plots = False, export = False)"
   ]
  }
 ],
 "metadata": {
  "kernelspec": {
   "display_name": "Python 3 (ipykernel)",
   "language": "python",
   "name": "python3"
  },
  "language_info": {
   "codemirror_mode": {
    "name": "ipython",
    "version": 3
   },
   "file_extension": ".py",
   "mimetype": "text/x-python",
   "name": "python",
   "nbconvert_exporter": "python",
   "pygments_lexer": "ipython3",
   "version": "3.9.12"
  }
 },
 "nbformat": 4,
 "nbformat_minor": 5
}
