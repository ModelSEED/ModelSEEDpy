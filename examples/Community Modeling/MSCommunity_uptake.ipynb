{
 "cells": [
  {
   "cell_type": "code",
   "execution_count": 1,
   "id": "perceived-worth",
   "metadata": {
    "scrolled": true
   },
   "outputs": [
    {
     "name": "stdout",
     "output_type": "stream",
     "text": [
      "cobrakbase 0.2.8\n"
     ]
    }
   ],
   "source": [
    "# import kbase\n",
    "import os\n",
    "# local_cobrakbase_path = 'C:\\\\Users\\\\Andrew Freiburger\\\\Dropbox\\\\My PC (DESKTOP-M302P50)\\\\Documents\\\\UVic Civil Engineering\\\\Internships\\\\Agronne\\\\cobrakbase'\n",
    "# os.environ[\"HOME\"] = local_cobrakbase_path\n",
    "import cobrakbase\n",
    "token = 'JOSNYJGASTV5BGELWQTUSATE4TNHZ66U'\n",
    "kbase = cobrakbase.KBaseAPI(token)\n",
    "\n",
    "ftp_path = '../../../ModelSEEDDatabase'\n",
    "\n",
    "# import cFBA\n",
    "%run ../../modelseedpy/core/mscommunity.py\n",
    "%matplotlib inline"
   ]
  },
  {
   "cell_type": "markdown",
   "id": "tight-marker",
   "metadata": {},
   "source": [
    "# 2-member Zahmeeth model"
   ]
  },
  {
   "cell_type": "markdown",
   "id": "proved-underwear",
   "metadata": {},
   "source": [
    "### sans uptake constraints"
   ]
  },
  {
   "cell_type": "code",
   "execution_count": 2,
   "id": "under-testament",
   "metadata": {},
   "outputs": [
    {
     "name": "stdout",
     "output_type": "stream",
     "text": [
      "Making biomass drain: cpd11416_c1\n",
      "Making biomass drain: cpd11416_c2\n",
      "species 1 drain-flux objective value: 0.17439698835991793\n",
      "species 2 drain-flux objective value: 0.16925387417839624\n",
      "\n",
      "Model objective value: 0.1737502402900215\n",
      "\n",
      "\n",
      "\n",
      "Production matrix:\n",
      "                1          2\n",
      "Donor                       \n",
      "1        0.000000  18.264719\n",
      "2      426.862401   0.000000\n",
      "\n",
      "\n",
      "Consumption matrix:\n",
      "                  1           2\n",
      "Receiver                       \n",
      "1          0.000000  426.862401\n",
      "2         18.264719    0.000000\n",
      "\n",
      "\n"
     ]
    },
    {
     "data": {
      "image/png": "[encoded data removed]",
      "text/plain": [
       "<Figure size 432x288 with 1 Axes>"
      ]
     },
     "metadata": {},
     "output_type": "display_data"
    },
    {
     "data": {
      "text/plain": [
       "(<networkx.classes.graph.Graph at 0x7f792dbf2bb0>,\n",
       " {1: array([1.00000000e+00, 4.37113883e-08]),\n",
       "  2: array([-1.00000000e+00, -4.37113883e-08])},\n",
       " {(1, 2): '-409'})"
      ]
     },
     "execution_count": 2,
     "metadata": {},
     "output_type": "execute_result"
    }
   ],
   "source": [
    "modelInfo_2 = [\"CMM_iAH991V2_iML1515.kb\",40576]\n",
    "mediaInfo_2 = [\"Btheta_Ecoli_minimal_media\",40576]\n",
    "model = kbase.get_from_ws(modelInfo_2[0],modelInfo_2[1])\n",
    "media = kbase.get_from_ws(mediaInfo_2[0],mediaInfo_2[1])\n",
    "\n",
    "# simulate and visualize the model\n",
    "cfba = MSCommunity(model)\n",
    "cfba.drain_fluxes(media)\n",
    "cfba.gapfill(media)\n",
    "cfba.constrain(media)\n",
    "solution = cfba.run()\n",
    "cfba.compute_interactions(solution)\n",
    "cfba.visualize()"
   ]
  },
  {
   "cell_type": "markdown",
   "id": "reported-cheese",
   "metadata": {},
   "source": [
    "### variable carbon uptake"
   ]
  },
  {
   "cell_type": "code",
   "execution_count": 3,
   "id": "known-ozone",
   "metadata": {
    "scrolled": true
   },
   "outputs": [
    {
     "name": "stdout",
     "output_type": "stream",
     "text": [
      "\n",
      "==================================================\n",
      "Carbon uptake limit: 0\n",
      "Making biomass drain: cpd11416_c1\n",
      "Making biomass drain: cpd11416_c2\n",
      "species 1 drain-flux objective value: 0.17439698835991793\n",
      "species 2 drain-flux objective value: 0.16925387417839624\n"
     ]
    },
    {
     "name": "stderr",
     "output_type": "stream",
     "text": [
      "/usr/local/lib/python3.8/dist-packages/cobra/core/metabolite.py:86: UserWarning: invalid character '*' found in formula '*'\n",
      "  warn(\"invalid character '*' found in formula '%s'\" % self.formula)\n",
      "/usr/local/lib/python3.8/dist-packages/cobra/core/metabolite.py:86: UserWarning: invalid character '*' found in formula 'C12H20O10*2'\n",
      "  warn(\"invalid character '*' found in formula '%s'\" % self.formula)\n"
     ]
    },
    {
     "name": "stdout",
     "output_type": "stream",
     "text": [
      "\n",
      "Model objective value: 0.0\n",
      "\n",
      "\n",
      "\n",
      "Production matrix:\n",
      "         1    2\n",
      "Donor          \n",
      "1      0.0  0.0\n",
      "2      0.0  0.0\n",
      "\n",
      "\n",
      "Consumption matrix:\n",
      "            1    2\n",
      "Receiver          \n",
      "1         0.0  0.0\n",
      "2         0.0  0.0\n",
      "\n",
      "\n"
     ]
    },
    {
     "data": {
      "image/png": "[encoded data removed]",
      "text/plain": [
       "<Figure size 432x288 with 1 Axes>"
      ]
     },
     "metadata": {},
     "output_type": "display_data"
    },
    {
     "name": "stdout",
     "output_type": "stream",
     "text": [
      "\n",
      "==================================================\n",
      "Carbon uptake limit: 10\n",
      "Making biomass drain: cpd11416_c1\n",
      "Making biomass drain: cpd11416_c2\n",
      "species 1 drain-flux objective value: 0.17439698835991793\n",
      "species 2 drain-flux objective value: 0.16925387417839624\n"
     ]
    },
    {
     "name": "stderr",
     "output_type": "stream",
     "text": [
      "/usr/local/lib/python3.8/dist-packages/cobra/core/metabolite.py:86: UserWarning: invalid character '*' found in formula '*'\n",
      "  warn(\"invalid character '*' found in formula '%s'\" % self.formula)\n",
      "/usr/local/lib/python3.8/dist-packages/cobra/core/metabolite.py:86: UserWarning: invalid character '*' found in formula 'C12H20O10*2'\n",
      "  warn(\"invalid character '*' found in formula '%s'\" % self.formula)\n"
     ]
    },
    {
     "name": "stdout",
     "output_type": "stream",
     "text": [
      "\n",
      "Model objective value: 0.057837781150852884\n",
      "\n",
      "\n",
      "\n",
      "Production matrix:\n",
      "                1         2\n",
      "Donor                      \n",
      "1        0.000000  6.079939\n",
      "2      142.093468  0.000000\n",
      "\n",
      "\n",
      "Consumption matrix:\n",
      "                 1           2\n",
      "Receiver                      \n",
      "1         0.000000  142.093468\n",
      "2         6.079939    0.000000\n",
      "\n",
      "\n"
     ]
    },
    {
     "data": {
      "image/png": "[encoded data removed]",
      "text/plain": [
       "<Figure size 432x288 with 1 Axes>"
      ]
     },
     "metadata": {},
     "output_type": "display_data"
    },
    {
     "name": "stdout",
     "output_type": "stream",
     "text": [
      "\n",
      "==================================================\n",
      "Carbon uptake limit: 20\n",
      "Making biomass drain: cpd11416_c1\n",
      "Making biomass drain: cpd11416_c2\n",
      "species 1 drain-flux objective value: 0.17439698835991793\n",
      "species 2 drain-flux objective value: 0.16925387417839624\n"
     ]
    },
    {
     "name": "stderr",
     "output_type": "stream",
     "text": [
      "/usr/local/lib/python3.8/dist-packages/cobra/core/metabolite.py:86: UserWarning: invalid character '*' found in formula '*'\n",
      "  warn(\"invalid character '*' found in formula '%s'\" % self.formula)\n",
      "/usr/local/lib/python3.8/dist-packages/cobra/core/metabolite.py:86: UserWarning: invalid character '*' found in formula 'C12H20O10*2'\n",
      "  warn(\"invalid character '*' found in formula '%s'\" % self.formula)\n"
     ]
    },
    {
     "name": "stdout",
     "output_type": "stream",
     "text": [
      "\n",
      "Model objective value: 0.1156755623017053\n",
      "\n",
      "\n",
      "\n",
      "Production matrix:\n",
      "                1          2\n",
      "Donor                       \n",
      "1        0.000000  12.159877\n",
      "2      284.186935   0.000000\n",
      "\n",
      "\n",
      "Consumption matrix:\n",
      "                  1           2\n",
      "Receiver                       \n",
      "1          0.000000  284.186935\n",
      "2         12.159877    0.000000\n",
      "\n",
      "\n"
     ]
    },
    {
     "data": {
      "image/png": "[encoded data removed]",
      "text/plain": [
       "<Figure size 432x288 with 1 Axes>"
      ]
     },
     "metadata": {},
     "output_type": "display_data"
    },
    {
     "name": "stdout",
     "output_type": "stream",
     "text": [
      "\n",
      "==================================================\n",
      "Carbon uptake limit: 30\n",
      "Making biomass drain: cpd11416_c1\n",
      "Making biomass drain: cpd11416_c2\n",
      "species 1 drain-flux objective value: 0.17439698835991793\n",
      "species 2 drain-flux objective value: 0.16925387417839624\n"
     ]
    },
    {
     "name": "stderr",
     "output_type": "stream",
     "text": [
      "/usr/local/lib/python3.8/dist-packages/cobra/core/metabolite.py:86: UserWarning: invalid character '*' found in formula '*'\n",
      "  warn(\"invalid character '*' found in formula '%s'\" % self.formula)\n",
      "/usr/local/lib/python3.8/dist-packages/cobra/core/metabolite.py:86: UserWarning: invalid character '*' found in formula 'C12H20O10*2'\n",
      "  warn(\"invalid character '*' found in formula '%s'\" % self.formula)\n"
     ]
    },
    {
     "name": "stdout",
     "output_type": "stream",
     "text": [
      "\n",
      "Model objective value: 0.1735133434525585\n",
      "\n",
      "\n",
      "\n",
      "Production matrix:\n",
      "                1          2\n",
      "Donor                       \n",
      "1        0.000000  18.239816\n",
      "2      426.280403   0.000000\n",
      "\n",
      "\n",
      "Consumption matrix:\n",
      "                  1           2\n",
      "Receiver                       \n",
      "1          0.000000  426.280403\n",
      "2         18.239816    0.000000\n",
      "\n",
      "\n"
     ]
    },
    {
     "data": {
      "image/png": "[encoded data removed]",
      "text/plain": [
       "<Figure size 432x288 with 1 Axes>"
      ]
     },
     "metadata": {},
     "output_type": "display_data"
    },
    {
     "name": "stdout",
     "output_type": "stream",
     "text": [
      "\n",
      "==================================================\n",
      "Carbon uptake limit: 40\n",
      "Making biomass drain: cpd11416_c1\n",
      "Making biomass drain: cpd11416_c2\n",
      "species 1 drain-flux objective value: 0.17439698835991793\n",
      "species 2 drain-flux objective value: 0.16925387417839624\n"
     ]
    },
    {
     "name": "stderr",
     "output_type": "stream",
     "text": [
      "/usr/local/lib/python3.8/dist-packages/cobra/core/metabolite.py:86: UserWarning: invalid character '*' found in formula '*'\n",
      "  warn(\"invalid character '*' found in formula '%s'\" % self.formula)\n",
      "/usr/local/lib/python3.8/dist-packages/cobra/core/metabolite.py:86: UserWarning: invalid character '*' found in formula 'C12H20O10*2'\n",
      "  warn(\"invalid character '*' found in formula '%s'\" % self.formula)\n"
     ]
    },
    {
     "name": "stdout",
     "output_type": "stream",
     "text": [
      "\n",
      "Model objective value: 0.17375024029002173\n",
      "\n",
      "\n",
      "\n",
      "Production matrix:\n",
      "                1          2\n",
      "Donor                       \n",
      "1        0.000000  18.264719\n",
      "2      426.862401   0.000000\n",
      "\n",
      "\n",
      "Consumption matrix:\n",
      "                  1           2\n",
      "Receiver                       \n",
      "1          0.000000  426.862401\n",
      "2         18.264719    0.000000\n",
      "\n",
      "\n"
     ]
    },
    {
     "data": {
      "image/png": "[encoded data removed]",
      "text/plain": [
       "<Figure size 432x288 with 1 Axes>"
      ]
     },
     "metadata": {},
     "output_type": "display_data"
    },
    {
     "name": "stdout",
     "output_type": "stream",
     "text": [
      "\n",
      "==================================================\n",
      "Carbon uptake limit: 50\n",
      "Making biomass drain: cpd11416_c1\n",
      "Making biomass drain: cpd11416_c2\n",
      "species 1 drain-flux objective value: 0.17439698835991793\n",
      "species 2 drain-flux objective value: 0.16925387417839624\n"
     ]
    },
    {
     "name": "stderr",
     "output_type": "stream",
     "text": [
      "/usr/local/lib/python3.8/dist-packages/cobra/core/metabolite.py:86: UserWarning: invalid character '*' found in formula '*'\n",
      "  warn(\"invalid character '*' found in formula '%s'\" % self.formula)\n",
      "/usr/local/lib/python3.8/dist-packages/cobra/core/metabolite.py:86: UserWarning: invalid character '*' found in formula 'C12H20O10*2'\n",
      "  warn(\"invalid character '*' found in formula '%s'\" % self.formula)\n"
     ]
    },
    {
     "name": "stdout",
     "output_type": "stream",
     "text": [
      "\n",
      "Model objective value: 0.17375024029002173\n",
      "\n",
      "\n",
      "\n",
      "Production matrix:\n",
      "                1          2\n",
      "Donor                       \n",
      "1        0.000000  18.264719\n",
      "2      426.862401   0.000000\n",
      "\n",
      "\n",
      "Consumption matrix:\n",
      "                  1           2\n",
      "Receiver                       \n",
      "1          0.000000  426.862401\n",
      "2         18.264719    0.000000\n",
      "\n",
      "\n"
     ]
    },
    {
     "data": {
      "image/png": "[encoded data removed]",
      "text/plain": [
       "<Figure size 432x288 with 1 Axes>"
      ]
     },
     "metadata": {},
     "output_type": "display_data"
    }
   ],
   "source": [
    "modelInfo_2 = [\"CMM_iAH991V2_iML1515.kb\",40576]\n",
    "mediaInfo_2 = [\"Btheta_Ecoli_minimal_media\",40576]\n",
    "\n",
    "model = kbase.get_from_ws(modelInfo_2[0],modelInfo_2[1])\n",
    "media = kbase.get_from_ws(mediaInfo_2[0],mediaInfo_2[1])\n",
    "uptake = {}\n",
    "\n",
    "# evaluate the influence of kinetic constraints over a range of coefficients\n",
    "plots = []\n",
    "for carbon_limit in range(0,60,10):\n",
    "    uptake['C'] = carbon_limit\n",
    "    banner = '\\n{}\\nCarbon uptake limit: {}'.format('='*50, carbon_limit)\n",
    "    print(banner)\n",
    "    \n",
    "    model = kbase.get_from_ws(modelInfo_2[0],modelInfo_2[1])\n",
    "    media = kbase.get_from_ws(mediaInfo_2[0],mediaInfo_2[1])\n",
    "    cfba = MSCommunity(model)\n",
    "    cfba.drain_fluxes(media)\n",
    "    cfba.gapfill(media)\n",
    "\n",
    "    cfba.constrain(media, element_uptake_limit = uptake)\n",
    "    solution = cfba.run()\n",
    "    cfba.compute_interactions(solution)\n",
    "    graph, pos, labels = cfba.visualize()\n",
    "    plots.append((graph, pos, labels, banner))"
   ]
  },
  {
   "cell_type": "markdown",
   "id": "framed-relation",
   "metadata": {},
   "source": [
    "### variable elemental uptakes"
   ]
  },
  {
   "cell_type": "code",
   "execution_count": 4,
   "id": "wooden-world",
   "metadata": {
    "tags": []
   },
   "outputs": [
    {
     "name": "stdout",
     "output_type": "stream",
     "text": [
      "\n",
      "==================================================\n",
      "C uptake limit: 60\n",
      "Making biomass drain: cpd11416_c1\n",
      "Making biomass drain: cpd11416_c2\n",
      "species 1 drain-flux objective value: 0.17439698835991793\n",
      "species 2 drain-flux objective value: 0.16925387417839624\n"
     ]
    },
    {
     "name": "stderr",
     "output_type": "stream",
     "text": [
      "/usr/local/lib/python3.8/dist-packages/cobra/core/metabolite.py:86: UserWarning: invalid character '*' found in formula '*'\n",
      "  warn(\"invalid character '*' found in formula '%s'\" % self.formula)\n",
      "/usr/local/lib/python3.8/dist-packages/cobra/core/metabolite.py:86: UserWarning: invalid character '*' found in formula 'C12H20O10*2'\n",
      "  warn(\"invalid character '*' found in formula '%s'\" % self.formula)\n"
     ]
    },
    {
     "name": "stdout",
     "output_type": "stream",
     "text": [
      "\n",
      "Model objective value: 0.17375024029002173\n",
      "\n",
      "\n",
      "\n",
      "Production matrix:\n",
      "                1          2\n",
      "Donor                       \n",
      "1        0.000000  18.264719\n",
      "2      426.862401   0.000000\n",
      "\n",
      "\n",
      "Consumption matrix:\n",
      "                  1           2\n",
      "Receiver                       \n",
      "1          0.000000  426.862401\n",
      "2         18.264719    0.000000\n",
      "\n",
      "\n"
     ]
    },
    {
     "data": {
      "image/png": "[encoded data removed]",
      "text/plain": [
       "<Figure size 432x288 with 1 Axes>"
      ]
     },
     "metadata": {},
     "output_type": "display_data"
    },
    {
     "name": "stdout",
     "output_type": "stream",
     "text": [
      "\n",
      "==================================================\n",
      "P uptake limit: 60\n",
      "Making biomass drain: cpd11416_c1\n",
      "Making biomass drain: cpd11416_c2\n",
      "species 1 drain-flux objective value: 0.17439698835991793\n",
      "species 2 drain-flux objective value: 0.16925387417839624\n"
     ]
    },
    {
     "name": "stderr",
     "output_type": "stream",
     "text": [
      "/usr/local/lib/python3.8/dist-packages/cobra/core/metabolite.py:86: UserWarning: invalid character '*' found in formula '*'\n",
      "  warn(\"invalid character '*' found in formula '%s'\" % self.formula)\n",
      "/usr/local/lib/python3.8/dist-packages/cobra/core/metabolite.py:86: UserWarning: invalid character '*' found in formula 'C12H20O10*2'\n",
      "  warn(\"invalid character '*' found in formula '%s'\" % self.formula)\n"
     ]
    },
    {
     "name": "stdout",
     "output_type": "stream",
     "text": [
      "\n",
      "Model objective value: 0.1737502402900212\n",
      "\n",
      "\n",
      "\n",
      "Production matrix:\n",
      "                1          2\n",
      "Donor                       \n",
      "1        0.000000  18.264719\n",
      "2      426.862401   0.000000\n",
      "\n",
      "\n",
      "Consumption matrix:\n",
      "                  1           2\n",
      "Receiver                       \n",
      "1          0.000000  426.862401\n",
      "2         18.264719    0.000000\n",
      "\n",
      "\n"
     ]
    },
    {
     "data": {
      "image/png": "[encoded data removed]",
      "text/plain": [
       "<Figure size 432x288 with 1 Axes>"
      ]
     },
     "metadata": {},
     "output_type": "display_data"
    }
   ],
   "source": [
    "modelInfo_2 = [\"CMM_iAH991V2_iML1515.kb\",40576]\n",
    "mediaInfo_2 = [\"Btheta_Ecoli_minimal_media\",40576]\n",
    "model = kbase.get_from_ws(modelInfo_2[0],modelInfo_2[1])\n",
    "media = kbase.get_from_ws(mediaInfo_2[0],mediaInfo_2[1])\n",
    "uptake = {}\n",
    "\n",
    "# evaluate the influence of kinetic constraints over a range of coefficients\n",
    "plots = []\n",
    "for element in ['C', 'P']:\n",
    "    uptake[element] = 60\n",
    "    banner = '\\n{}\\n{} uptake limit: {}'.format('='*50, element, uptake[element])\n",
    "    print(banner)\n",
    "    \n",
    "    model = kbase.get_from_ws(modelInfo_2[0],modelInfo_2[1])\n",
    "    media = kbase.get_from_ws(mediaInfo_2[0],mediaInfo_2[1])\n",
    "    cfba = MSCommunity(model)\n",
    "    cfba.drain_fluxes(media)\n",
    "    cfba.gapfill(media)\n",
    "    \n",
    "    cfba.constrain(media, element_uptake_limit = uptake)\n",
    "    solution = cfba.run()\n",
    "    cfba.compute_interactions(solution)\n",
    "    graph, pos, labels = cfba.visualize()\n",
    "    plots.append((graph, pos, labels, banner))"
   ]
  },
  {
   "cell_type": "markdown",
   "id": "circular-interface",
   "metadata": {},
   "source": [
    "# 3-member Electrosynth model"
   ]
  },
  {
   "cell_type": "markdown",
   "id": "hazardous-teacher",
   "metadata": {},
   "source": [
    "### sans uptake constraints"
   ]
  },
  {
   "cell_type": "code",
   "execution_count": 5,
   "id": "sporting-debut",
   "metadata": {},
   "outputs": [
    {
     "name": "stdout",
     "output_type": "stream",
     "text": [
      "Making biomass drain: cpd11416_c1\n",
      "Making biomass drain: cpd11416_c2\n",
      "Making biomass drain: cpd11416_c3\n",
      "species 1 drain-flux objective value: 0.1339023910178982\n",
      "species 2 drain-flux objective value: 0.11304811462925908\n",
      "species 3 drain-flux objective value: 0.12709584977365426\n",
      "\n",
      "Model objective value: 0.12453728378574261\n",
      "\n",
      "\n",
      "\n",
      "Production matrix:\n",
      "              1         2         3\n",
      "Donor                              \n",
      "1      0.000000  0.112128  0.382651\n",
      "2      1.256793  0.000000  0.252692\n",
      "3      1.554661  2.139689  0.000000\n",
      "\n",
      "\n",
      "Consumption matrix:\n",
      "                 1         2         3\n",
      "Receiver                              \n",
      "1         0.000000  1.256793  1.554661\n",
      "2         0.112128  0.000000  2.139689\n",
      "3         0.382651  0.252692  0.000000\n",
      "\n",
      "\n"
     ]
    },
    {
     "data": {
      "image/png": "[encoded data removed]",
      "text/plain": [
       "<Figure size 432x288 with 1 Axes>"
      ]
     },
     "metadata": {},
     "output_type": "display_data"
    },
    {
     "data": {
      "text/plain": [
       "(<networkx.classes.graph.Graph at 0x7f7907179280>,\n",
       " {1: array([1.00000000e+00, 1.98682151e-08]),\n",
       "  2: array([-0.50000007,  0.86602542]),\n",
       "  3: array([-0.49999993, -0.86602544])},\n",
       " {(1, 2): '-1.14', (1, 3): '-1.17', (2, 3): '-1.89'})"
      ]
     },
     "execution_count": 5,
     "metadata": {},
     "output_type": "execute_result"
    }
   ],
   "source": [
    "modelInfo = [\"electro.community.edited.v2\",93204]\n",
    "mediaInfo = [\"CO2_minimal\",93204]\n",
    "model = kbase.get_from_ws(modelInfo[0],modelInfo[1])\n",
    "media = kbase.get_from_ws(mediaInfo[0],mediaInfo[1])\n",
    "\n",
    "# simulate and visualize the model\n",
    "cfba = MSCommunity(model)\n",
    "cfba.drain_fluxes(media)\n",
    "cfba.gapfill(media)\n",
    "cfba.constrain(media)\n",
    "solution = cfba.run()\n",
    "cfba.compute_interactions(solution)\n",
    "cfba.visualize()"
   ]
  },
  {
   "cell_type": "markdown",
   "id": "helpful-italic",
   "metadata": {},
   "source": [
    "### variable carbon uptake"
   ]
  },
  {
   "cell_type": "code",
   "execution_count": 6,
   "id": "north-superintendent",
   "metadata": {},
   "outputs": [
    {
     "name": "stdout",
     "output_type": "stream",
     "text": [
      "\n",
      "==================================================\n",
      "Carbon uptake limit: 0\n",
      "Making biomass drain: cpd11416_c1\n",
      "Making biomass drain: cpd11416_c2\n",
      "species 1 drain-flux objective value: 0.17439698835991793\n",
      "species 2 drain-flux objective value: 0.16925387417839624\n"
     ]
    },
    {
     "name": "stderr",
     "output_type": "stream",
     "text": [
      "/usr/local/lib/python3.8/dist-packages/cobra/core/metabolite.py:86: UserWarning: invalid character '*' found in formula '*'\n",
      "  warn(\"invalid character '*' found in formula '%s'\" % self.formula)\n",
      "/usr/local/lib/python3.8/dist-packages/cobra/core/metabolite.py:86: UserWarning: invalid character '*' found in formula 'C12H20O10*2'\n",
      "  warn(\"invalid character '*' found in formula '%s'\" % self.formula)\n"
     ]
    },
    {
     "name": "stdout",
     "output_type": "stream",
     "text": [
      "\n",
      "Model objective value: 0.0\n",
      "\n",
      "\n",
      "\n",
      "Production matrix:\n",
      "         1    2\n",
      "Donor          \n",
      "1      0.0  0.0\n",
      "2      0.0  0.0\n",
      "\n",
      "\n",
      "Consumption matrix:\n",
      "            1    2\n",
      "Receiver          \n",
      "1         0.0  0.0\n",
      "2         0.0  0.0\n",
      "\n",
      "\n"
     ]
    },
    {
     "data": {
      "image/png": "[encoded data removed]",
      "text/plain": [
       "<Figure size 432x288 with 1 Axes>"
      ]
     },
     "metadata": {},
     "output_type": "display_data"
    },
    {
     "name": "stdout",
     "output_type": "stream",
     "text": [
      "\n",
      "==================================================\n",
      "Carbon uptake limit: 10\n",
      "Making biomass drain: cpd11416_c1\n",
      "Making biomass drain: cpd11416_c2\n",
      "species 1 drain-flux objective value: 0.17439698835991793\n",
      "species 2 drain-flux objective value: 0.16925387417839624\n"
     ]
    },
    {
     "name": "stderr",
     "output_type": "stream",
     "text": [
      "/usr/local/lib/python3.8/dist-packages/cobra/core/metabolite.py:86: UserWarning: invalid character '*' found in formula '*'\n",
      "  warn(\"invalid character '*' found in formula '%s'\" % self.formula)\n",
      "/usr/local/lib/python3.8/dist-packages/cobra/core/metabolite.py:86: UserWarning: invalid character '*' found in formula 'C12H20O10*2'\n",
      "  warn(\"invalid character '*' found in formula '%s'\" % self.formula)\n"
     ]
    },
    {
     "name": "stdout",
     "output_type": "stream",
     "text": [
      "\n",
      "Model objective value: 0.057837781150852884\n",
      "\n",
      "\n",
      "\n",
      "Production matrix:\n",
      "                1         2\n",
      "Donor                      \n",
      "1        0.000000  6.079939\n",
      "2      142.093468  0.000000\n",
      "\n",
      "\n",
      "Consumption matrix:\n",
      "                 1           2\n",
      "Receiver                      \n",
      "1         0.000000  142.093468\n",
      "2         6.079939    0.000000\n",
      "\n",
      "\n"
     ]
    },
    {
     "data": {
      "image/png": "[encoded data removed]",
      "text/plain": [
       "<Figure size 432x288 with 1 Axes>"
      ]
     },
     "metadata": {},
     "output_type": "display_data"
    },
    {
     "name": "stdout",
     "output_type": "stream",
     "text": [
      "\n",
      "==================================================\n",
      "Carbon uptake limit: 20\n",
      "Making biomass drain: cpd11416_c1\n",
      "Making biomass drain: cpd11416_c2\n",
      "species 1 drain-flux objective value: 0.17439698835991793\n",
      "species 2 drain-flux objective value: 0.16925387417839624\n"
     ]
    },
    {
     "name": "stderr",
     "output_type": "stream",
     "text": [
      "/usr/local/lib/python3.8/dist-packages/cobra/core/metabolite.py:86: UserWarning: invalid character '*' found in formula '*'\n",
      "  warn(\"invalid character '*' found in formula '%s'\" % self.formula)\n",
      "/usr/local/lib/python3.8/dist-packages/cobra/core/metabolite.py:86: UserWarning: invalid character '*' found in formula 'C12H20O10*2'\n",
      "  warn(\"invalid character '*' found in formula '%s'\" % self.formula)\n"
     ]
    },
    {
     "name": "stdout",
     "output_type": "stream",
     "text": [
      "\n",
      "Model objective value: 0.1156755623017053\n",
      "\n",
      "\n",
      "\n",
      "Production matrix:\n",
      "                1          2\n",
      "Donor                       \n",
      "1        0.000000  12.159877\n",
      "2      284.186935   0.000000\n",
      "\n",
      "\n",
      "Consumption matrix:\n",
      "                  1           2\n",
      "Receiver                       \n",
      "1          0.000000  284.186935\n",
      "2         12.159877    0.000000\n",
      "\n",
      "\n"
     ]
    },
    {
     "data": {
      "image/png": "[encoded data removed]",
      "text/plain": [
       "<Figure size 432x288 with 1 Axes>"
      ]
     },
     "metadata": {},
     "output_type": "display_data"
    },
    {
     "name": "stdout",
     "output_type": "stream",
     "text": [
      "\n",
      "==================================================\n",
      "Carbon uptake limit: 30\n",
      "Making biomass drain: cpd11416_c1\n",
      "Making biomass drain: cpd11416_c2\n",
      "species 1 drain-flux objective value: 0.17439698835991793\n",
      "species 2 drain-flux objective value: 0.16925387417839624\n"
     ]
    },
    {
     "name": "stderr",
     "output_type": "stream",
     "text": [
      "/usr/local/lib/python3.8/dist-packages/cobra/core/metabolite.py:86: UserWarning: invalid character '*' found in formula '*'\n",
      "  warn(\"invalid character '*' found in formula '%s'\" % self.formula)\n",
      "/usr/local/lib/python3.8/dist-packages/cobra/core/metabolite.py:86: UserWarning: invalid character '*' found in formula 'C12H20O10*2'\n",
      "  warn(\"invalid character '*' found in formula '%s'\" % self.formula)\n"
     ]
    },
    {
     "name": "stdout",
     "output_type": "stream",
     "text": [
      "\n",
      "Model objective value: 0.1735133434525585\n",
      "\n",
      "\n",
      "\n",
      "Production matrix:\n",
      "                1          2\n",
      "Donor                       \n",
      "1        0.000000  18.239816\n",
      "2      426.280403   0.000000\n",
      "\n",
      "\n",
      "Consumption matrix:\n",
      "                  1           2\n",
      "Receiver                       \n",
      "1          0.000000  426.280403\n",
      "2         18.239816    0.000000\n",
      "\n",
      "\n"
     ]
    },
    {
     "data": {
      "image/png": "[encoded data removed]",
      "text/plain": [
       "<Figure size 432x288 with 1 Axes>"
      ]
     },
     "metadata": {},
     "output_type": "display_data"
    },
    {
     "name": "stdout",
     "output_type": "stream",
     "text": [
      "\n",
      "==================================================\n",
      "Carbon uptake limit: 40\n",
      "Making biomass drain: cpd11416_c1\n",
      "Making biomass drain: cpd11416_c2\n",
      "species 1 drain-flux objective value: 0.17439698835991793\n",
      "species 2 drain-flux objective value: 0.16925387417839624\n"
     ]
    },
    {
     "name": "stderr",
     "output_type": "stream",
     "text": [
      "/usr/local/lib/python3.8/dist-packages/cobra/core/metabolite.py:86: UserWarning: invalid character '*' found in formula '*'\n",
      "  warn(\"invalid character '*' found in formula '%s'\" % self.formula)\n",
      "/usr/local/lib/python3.8/dist-packages/cobra/core/metabolite.py:86: UserWarning: invalid character '*' found in formula 'C12H20O10*2'\n",
      "  warn(\"invalid character '*' found in formula '%s'\" % self.formula)\n"
     ]
    },
    {
     "name": "stdout",
     "output_type": "stream",
     "text": [
      "\n",
      "Model objective value: 0.17375024029002173\n",
      "\n",
      "\n",
      "\n",
      "Production matrix:\n",
      "                1          2\n",
      "Donor                       \n",
      "1        0.000000  18.264719\n",
      "2      426.862401   0.000000\n",
      "\n",
      "\n",
      "Consumption matrix:\n",
      "                  1           2\n",
      "Receiver                       \n",
      "1          0.000000  426.862401\n",
      "2         18.264719    0.000000\n",
      "\n",
      "\n"
     ]
    },
    {
     "data": {
      "image/png": "[encoded data removed]",
      "text/plain": [
       "<Figure size 432x288 with 1 Axes>"
      ]
     },
     "metadata": {},
     "output_type": "display_data"
    },
    {
     "name": "stdout",
     "output_type": "stream",
     "text": [
      "\n",
      "==================================================\n",
      "Carbon uptake limit: 50\n",
      "Making biomass drain: cpd11416_c1\n",
      "Making biomass drain: cpd11416_c2\n",
      "species 1 drain-flux objective value: 0.17439698835991793\n",
      "species 2 drain-flux objective value: 0.16925387417839624\n"
     ]
    },
    {
     "name": "stderr",
     "output_type": "stream",
     "text": [
      "/usr/local/lib/python3.8/dist-packages/cobra/core/metabolite.py:86: UserWarning: invalid character '*' found in formula '*'\n",
      "  warn(\"invalid character '*' found in formula '%s'\" % self.formula)\n",
      "/usr/local/lib/python3.8/dist-packages/cobra/core/metabolite.py:86: UserWarning: invalid character '*' found in formula 'C12H20O10*2'\n",
      "  warn(\"invalid character '*' found in formula '%s'\" % self.formula)\n"
     ]
    },
    {
     "name": "stdout",
     "output_type": "stream",
     "text": [
      "\n",
      "Model objective value: 0.17375024029002173\n",
      "\n",
      "\n",
      "\n",
      "Production matrix:\n",
      "                1          2\n",
      "Donor                       \n",
      "1        0.000000  18.264719\n",
      "2      426.862401   0.000000\n",
      "\n",
      "\n",
      "Consumption matrix:\n",
      "                  1           2\n",
      "Receiver                       \n",
      "1          0.000000  426.862401\n",
      "2         18.264719    0.000000\n",
      "\n",
      "\n"
     ]
    },
    {
     "data": {
      "image/png": "[encoded data removed]",
      "text/plain": [
       "<Figure size 432x288 with 1 Axes>"
      ]
     },
     "metadata": {},
     "output_type": "display_data"
    }
   ],
   "source": [
    "modelInfo = [\"electro.community.edited.v2\",93204]\n",
    "mediaInfo = [\"CO2_minimal\",93204]\n",
    "model = kbase.get_from_ws(modelInfo[0],modelInfo[1])\n",
    "media = kbase.get_from_ws(mediaInfo[0],mediaInfo[1])\n",
    "uptake = {}\n",
    "\n",
    "# evaluate the influence of kinetic constraints over a range of coefficients\n",
    "plots = []\n",
    "for carbon_limit in range(0,60,10):\n",
    "    uptake['C'] = carbon_limit\n",
    "    banner = '\\n{}\\nCarbon uptake limit: {}'.format('='*50, carbon_limit)\n",
    "    print(banner)\n",
    "    \n",
    "    model = kbase.get_from_ws(modelInfo_2[0],modelInfo_2[1])\n",
    "    media = kbase.get_from_ws(mediaInfo_2[0],mediaInfo_2[1])\n",
    "    cfba = MSCommunity(model)\n",
    "    cfba.drain_fluxes(media)\n",
    "    cfba.gapfill(media)\n",
    "    \n",
    "    cfba.constrain(media, element_uptake_limit = uptake)\n",
    "    solution = cfba.run()\n",
    "    cfba.compute_interactions(solution)\n",
    "    graph, pos, labels = cfba.visualize()\n",
    "    plots.append((graph, pos, labels, banner))"
   ]
  },
  {
   "cell_type": "markdown",
   "id": "purple-sheffield",
   "metadata": {},
   "source": [
    "### variable elemental uptakes"
   ]
  },
  {
   "cell_type": "code",
   "execution_count": 7,
   "id": "statewide-venture",
   "metadata": {},
   "outputs": [
    {
     "name": "stdout",
     "output_type": "stream",
     "text": [
      "\n",
      "==================================================\n",
      "C uptake limit: 60\n",
      "Making biomass drain: cpd11416_c1\n",
      "Making biomass drain: cpd11416_c2\n",
      "species 1 drain-flux objective value: 0.17439698835991793\n",
      "species 2 drain-flux objective value: 0.16925387417839624\n"
     ]
    },
    {
     "name": "stderr",
     "output_type": "stream",
     "text": [
      "/usr/local/lib/python3.8/dist-packages/cobra/core/metabolite.py:86: UserWarning: invalid character '*' found in formula '*'\n",
      "  warn(\"invalid character '*' found in formula '%s'\" % self.formula)\n",
      "/usr/local/lib/python3.8/dist-packages/cobra/core/metabolite.py:86: UserWarning: invalid character '*' found in formula 'C12H20O10*2'\n",
      "  warn(\"invalid character '*' found in formula '%s'\" % self.formula)\n"
     ]
    },
    {
     "name": "stdout",
     "output_type": "stream",
     "text": [
      "\n",
      "Model objective value: 0.17375024029002173\n",
      "\n",
      "\n",
      "\n",
      "Production matrix:\n",
      "                1          2\n",
      "Donor                       \n",
      "1        0.000000  18.264719\n",
      "2      426.862401   0.000000\n",
      "\n",
      "\n",
      "Consumption matrix:\n",
      "                  1           2\n",
      "Receiver                       \n",
      "1          0.000000  426.862401\n",
      "2         18.264719    0.000000\n",
      "\n",
      "\n"
     ]
    },
    {
     "data": {
      "image/png": "[encoded data removed]",
      "text/plain": [
       "<Figure size 432x288 with 1 Axes>"
      ]
     },
     "metadata": {},
     "output_type": "display_data"
    },
    {
     "name": "stdout",
     "output_type": "stream",
     "text": [
      "\n",
      "==================================================\n",
      "P uptake limit: 60\n",
      "Making biomass drain: cpd11416_c1\n",
      "Making biomass drain: cpd11416_c2\n",
      "species 1 drain-flux objective value: 0.17439698835991793\n",
      "species 2 drain-flux objective value: 0.16925387417839624\n"
     ]
    },
    {
     "name": "stderr",
     "output_type": "stream",
     "text": [
      "/usr/local/lib/python3.8/dist-packages/cobra/core/metabolite.py:86: UserWarning: invalid character '*' found in formula '*'\n",
      "  warn(\"invalid character '*' found in formula '%s'\" % self.formula)\n",
      "/usr/local/lib/python3.8/dist-packages/cobra/core/metabolite.py:86: UserWarning: invalid character '*' found in formula 'C12H20O10*2'\n",
      "  warn(\"invalid character '*' found in formula '%s'\" % self.formula)\n"
     ]
    },
    {
     "name": "stdout",
     "output_type": "stream",
     "text": [
      "\n",
      "Model objective value: 0.1737502402900212\n",
      "\n",
      "\n",
      "\n",
      "Production matrix:\n",
      "                1          2\n",
      "Donor                       \n",
      "1        0.000000  18.264719\n",
      "2      426.862401   0.000000\n",
      "\n",
      "\n",
      "Consumption matrix:\n",
      "                  1           2\n",
      "Receiver                       \n",
      "1          0.000000  426.862401\n",
      "2         18.264719    0.000000\n",
      "\n",
      "\n"
     ]
    },
    {
     "data": {
      "image/png": "[encoded data removed]",
      "text/plain": [
       "<Figure size 432x288 with 1 Axes>"
      ]
     },
     "metadata": {},
     "output_type": "display_data"
    }
   ],
   "source": [
    "modelInfo = [\"electro.community.edited.v2\",93204]\n",
    "mediaInfo = [\"CO2_minimal\",93204]\n",
    "model = kbase.get_from_ws(modelInfo_2[0],modelInfo_2[1])\n",
    "media = kbase.get_from_ws(mediaInfo_2[0],mediaInfo_2[1])\n",
    "uptake = {}\n",
    "\n",
    "# evaluate the influence of kinetic constraints over a range of coefficients\n",
    "plots = []\n",
    "for element in ['C', 'P']:\n",
    "    uptake[element] = 60\n",
    "    banner = '\\n{}\\n{} uptake limit: {}'.format('='*50, element, uptake[element])\n",
    "    print(banner)\n",
    "    \n",
    "    model = kbase.get_from_ws(modelInfo_2[0],modelInfo_2[1])\n",
    "    media = kbase.get_from_ws(mediaInfo_2[0],mediaInfo_2[1])\n",
    "    cfba = MSCommunity(model)\n",
    "    cfba.drain_fluxes(media)\n",
    "    cfba.gapfill(media)\n",
    "    \n",
    "    cfba.constrain(media, element_uptake_limit = uptake)\n",
    "    solution = cfba.run()\n",
    "    cfba.compute_interactions(solution)\n",
    "    graph, pos, labels = cfba.visualize()\n",
    "    plots.append((graph, pos, labels, banner))"
   ]
  }
 ],
 "metadata": {
  "kernelspec": {
   "display_name": "Python 3",
   "language": "python",
   "name": "python3"
  },
  "language_info": {
   "codemirror_mode": {
    "name": "ipython",
    "version": 3
   },
   "file_extension": ".py",
   "mimetype": "text/x-python",
   "name": "python",
   "nbconvert_exporter": "python",
   "pygments_lexer": "ipython3",
   "version": "3.8.10"
  }
 },
 "nbformat": 4,
 "nbformat_minor": 5
}
