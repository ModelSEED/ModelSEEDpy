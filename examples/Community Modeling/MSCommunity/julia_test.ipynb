{
 "cells": [
  {
   "cell_type": "code",
   "execution_count": 1,
   "id": "c582cf7b-9e2f-49d9-bb00-917f5f2254ef",
   "metadata": {},
   "outputs": [],
   "source": [
    "using COBRA"
   ]
  },
  {
   "cell_type": "code",
   "execution_count": 8,
   "id": "e8fd0907-b943-45e8-b83c-1886f328f2d1",
   "metadata": {
    "tags": []
   },
   "outputs": [
    {
     "name": "stderr",
     "output_type": "stream",
     "text": [
      "┌ Info: The model named CMM_iAH991V2_iML1515.kb loaded from test_model.mat is a uncoupled model.\n",
      "└ @ COBRA C:\\Users\\Andrew Freiburger\\.julia\\packages\\COBRA\\o1SnO\\src\\load.jl:117\n",
      "┌ Info: The model objective is set to be maximized.\n",
      "└ @ COBRA C:\\Users\\Andrew Freiburger\\.julia\\packages\\COBRA\\o1SnO\\src\\load.jl:146\n",
      "┌ Info: All constraints assumed equality constaints.\n",
      "└ @ COBRA C:\\Users\\Andrew Freiburger\\.julia\\packages\\COBRA\\o1SnO\\src\\load.jl:186\n"
     ]
    },
    {
     "data": {
      "text/plain": [
       "COBRA.LPproblem([0.0 0.0 … 0.0 0.0; 0.0 0.0 … 0.0 0.0; … ; 0.0 0.0 … 0.0 0.0; 0.0 0.0 … 0.0 -1.0], [0.0, 0.0, 0.0, 0.0, 0.0, 0.0, 0.0, 0.0, 0.0, 0.0  …  0.0, 0.0, 0.0, 0.0, 0.0, 0.0, 0.0, 0.0, 0.0, 0.0], [0.0, 0.0, 0.0, 0.0, 0.0, 0.0, 0.0, 0.0, 0.0, 0.0  …  0.0, 0.0, 0.0, 0.0, 0.0, 0.0, 0.0, 0.0, 0.0, 0.0], [-1000.0, -1000.0, 0.0, 0.0, 0.0, 0.0, 0.0, -1000.0, 0.0, 0.0  …  0.0, 0.0, 0.0, 0.0, 0.0, 0.0, 0.0, 0.0, 0.0, 0.0], [1000.0, 1000.0, 1000.0, 1000.0, 1000.0, 1000.0, 1000.0, 1000.0, 1000.0, 1000.0  …  100.0, 100.0, 100.0, 100.0, 100.0, 100.0, 1000.0, 100.0, 1000.0, 100.0], -1, ['E', 'E', 'E', 'E', 'E', 'E', 'E', 'E', 'E', 'E'  …  'E', 'E', 'E', 'E', 'E', 'E', 'E', 'E', 'E', 'E'], [\"34dhpactex_p1\", \"GUAtex_p1\", \"rxn01256_c1\", \"rxn00411_c1\", \"rxn08277_c1\", \"GLYCLTt4pp_p1\", \"NMNt7pp_p1\", \"rxn00832_c1\", \"rxn01275_c1\", \"rxn00408_c1\"  …  \"EX_cpd03846_e0\", \"EX_cpd00489_e0\", \"EX_cpd00223_e0\", \"EX_cpd00066_e0\", \"EX_cpd00355_e0\", \"EX_core4_e0\", \"SK_cpd11416_c0\", \"DM_cpd11416_c1\", \"rxn00062_c2\", \"DM_cpd11416_c2\"], [\"cpd11416_c0\", \"cpd01911_c1\", \"cpd00242_c1\", \"cpd15510_p1\", \"cpd00196_c1\", \"cpd00452_c1\", \"mchtbs6p-c_c1\", \"cpd11473_c1\", \"cpd00374_p1\", \"cpd03078_c1\"  …  \"udpidour_c2\", \"udpxyl_c2\", \"cpd03447_c2\", \"cpd03448_c2\", \"cpd00156_c2\", \"cpd00154_c2\", \"cpd00259_c2\", \"cpd00859_c2\", \"cpd00034_c2\", \"cpd11416_c2\"])"
      ]
     },
     "execution_count": 8,
     "metadata": {},
     "output_type": "execute_result"
    }
   ],
   "source": [
    "model = loadModel(\"test_model.mat\", \"S\", \"CMM_iAH991V2_iML1515.kb\")"
   ]
  },
  {
   "cell_type": "code",
   "execution_count": 11,
   "id": "72c35dad-6cea-46d1-bc62-0529e3735a50",
   "metadata": {},
   "outputs": [
    {
     "name": "stdout",
     "output_type": "stream",
     "text": [
      "\u001b[34mOriginal FBA. No additional constraints have been added.\u001b[39m\n",
      " >> All 4142 reactions of the model will be solved (100 %).\n",
      "\n"
     ]
    },
    {
     "ename": "LoadError",
     "evalue": "MethodError: no method matching buildCobraLP(::COBRA.LPproblem, ::Symbol)\n\u001b[0mClosest candidates are:\n\u001b[0m  buildCobraLP(::Any, \u001b[91m::COBRA.SolverConfig\u001b[39m) at C:\\Users\\Andrew Freiburger\\.julia\\packages\\COBRA\\o1SnO\\src\\solve.jl:49",
     "output_type": "error",
     "traceback": [
      "MethodError: no method matching buildCobraLP(::COBRA.LPproblem, ::Symbol)\n\u001b[0mClosest candidates are:\n\u001b[0m  buildCobraLP(::Any, \u001b[91m::COBRA.SolverConfig\u001b[39m) at C:\\Users\\Andrew Freiburger\\.julia\\packages\\COBRA\\o1SnO\\src\\solve.jl:49",
      "",
      "Stacktrace:",
      " [1] distributedFBA(model::COBRA.LPproblem, solver::Symbol; nWorkers::Int64, optPercentage::Float64, objective::String, rxnsList::UnitRange{Int64}, strategy::Int64, rxnsOptMode::Vector{Int64}, preFBA::Bool, saveChunks::Bool, resultsDir::String, logFiles::Bool, onlyFluxes::Bool, printLevel::Int64)",
      "   @ COBRA C:\\Users\\Andrew Freiburger\\.julia\\packages\\COBRA\\o1SnO\\src\\distributedFBA.jl:740",
      " [2] distributedFBA(model::COBRA.LPproblem, solver::Symbol)",
      "   @ COBRA C:\\Users\\Andrew Freiburger\\.julia\\packages\\COBRA\\o1SnO\\src\\distributedFBA.jl:531",
      " [3] top-level scope",
      "   @ .\\timing.jl:220 [inlined]",
      " [4] top-level scope",
      "   @ .\\In[11]:0",
      " [5] eval",
      "   @ .\\boot.jl:373 [inlined]",
      " [6] include_string(mapexpr::typeof(REPL.softscope), mod::Module, code::String, filename::String)",
      "   @ Base .\\loading.jl:1196"
     ]
    }
   ],
   "source": [
    "@time minFlux, maxFlux, optSol, fbaSol, fvamin, fvamax, statussolmin, statussolmax = distributedFBA(model, :GLPKMathProgInterface)"
   ]
  }
 ],
 "metadata": {
  "kernelspec": {
   "display_name": "Julia 1.7.3",
   "language": "julia",
   "name": "julia-1.7"
  },
  "language_info": {
   "file_extension": ".jl",
   "mimetype": "application/julia",
   "name": "julia",
   "version": "1.7.3"
  }
 },
 "nbformat": 4,
 "nbformat_minor": 5
}
