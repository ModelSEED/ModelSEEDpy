{
 "cells": [
  {
   "cell_type": "markdown",
   "id": "57472e20-a3cf-466a-9caa-1d640dd98f8f",
   "metadata": {},
   "source": [
    "# Load and prepare models for assemblage into a community"
   ]
  },
  {
   "cell_type": "code",
   "execution_count": 1,
   "id": "00e2fa70-51f3-4d18-93cc-c445d37f25c9",
   "metadata": {},
   "outputs": [
    {
     "name": "stderr",
     "output_type": "stream",
     "text": [
      "C:\\Users\\Andrew Freiburger\\AppData\\Local\\Programs\\Python\\Python39\\lib\\site-packages\\requests\\__init__.py:102: RequestsDependencyWarning: urllib3 (1.26.9) or chardet (5.0.0)/charset_normalizer (2.0.12) doesn't match a supported version!\n",
      "  warnings.warn(\"urllib3 ({}) or chardet ({})/charset_normalizer ({}) doesn't match a supported \"\n"
     ]
    },
    {
     "name": "stdout",
     "output_type": "stream",
     "text": [
      "cobrakbase 0.2.8\n"
     ]
    },
    {
     "name": "stderr",
     "output_type": "stream",
     "text": [
      "WARNING:cobrakbase.core.kbasefba.fbamodel_builder:unable to add sink for [cpd11416_c0]: not found\n",
      "WARNING:cobrakbase.core.kbasefba.fbamodel_builder:unable to add sink for [cpd15302_c0]: not found\n",
      "WARNING:cobrakbase.core.kbasefba.fbamodel_builder:unable to add sink for [cpd15302_c0]: not found\n"
     ]
    }
   ],
   "source": [
    "# define the environment path \n",
    "from pprint import pprint\n",
    "import os\n",
    "local_cobrakbase_path = os.path.join('C:', 'Users', 'Andrew Freiburger','Documents','Argonne','cobrakbase')\n",
    "os.environ[\"HOME\"] = local_cobrakbase_path\n",
    "\n",
    "# import the models\n",
    "import cobrakbase\n",
    "token = '6MLTVYGHR6Y6V32DX255AVC53U2NDY7X'\n",
    "kbase_api = cobrakbase.KBaseAPI(token)\n",
    "model1 = kbase_api.get_from_ws(\"iML1515\",76994)\n",
    "model2 = kbase_api.get_from_ws(\"iSB1139.kb.gf\",30650)\n",
    "models = [model1, model2]"
   ]
  },
  {
   "cell_type": "markdown",
   "id": "ca374813-2c15-4731-baaa-1349765448c4",
   "metadata": {},
   "source": [
    "### compatabilize models"
   ]
  },
  {
   "cell_type": "code",
   "execution_count": 2,
   "id": "fecfb86f-7503-4693-99d6-6ee1cd0d6c5c",
   "metadata": {},
   "outputs": [],
   "source": [
    "# %run ../../../modelseedpy/community/mscompatibility.py\n",
    "\n",
    "# # compatabilize the models\n",
    "# mscompat = MSCompatibility(modelseed_db_path = os.path.join('..', '..', '..', '..', 'ModelSEEDDatabase'))\n",
    "# models = mscompat.align_exchanges(models, conflicts_file_name='exchanges_conflicts.json', model_names = [\"iML1515\", \"iSB1139.kb.gf\"])\n",
    "# models = mscompat.standardize(models, conflicts_file_name = 'standardized_exchange_metabolites.json', model_names = [\"iML1515\", \"iSB1139.kb.gf\"])"
   ]
  },
  {
   "cell_type": "markdown",
   "id": "53e1507c-6536-410f-943a-d2406078b955",
   "metadata": {},
   "source": [
    "### build community"
   ]
  },
  {
   "cell_type": "code",
   "execution_count": 3,
   "id": "0189a414-64b3-4369-9d92-741f167de64b",
   "metadata": {
    "collapsed": true,
    "jupyter": {
     "outputs_hidden": true
    },
    "tags": []
   },
   "outputs": [
    {
     "name": "stdout",
     "output_type": "stream",
     "text": [
      "\n",
      "\n",
      "{'original': {'id': 'r293_e0', 'name': 'Fe2+'},\n",
      " 'new': {'id': 'cpd10515_e0', 'name': 'Fe2+_e0'},\n",
      " 'justification': 'The r293_e0 ID is not a ModelSEED Database ID.'}\n",
      "\n",
      "\n",
      "0 exchange reactions were substituted and 1 exchange metabolite IDs were redefined.\n",
      "\n",
      "\n",
      "{'original': {'id': '4abzglu-e_e0', 'name': '4-aminobenzoyl-glutamate'},\n",
      " 'new': {'id': 'cpd26527_e0', 'name': '4-aminobenzoyl-glutamate_e0'},\n",
      " 'justification': 'The 4abzglu-e_e0 ID is not a ModelSEED Database ID.'}\n",
      "\n",
      "\n",
      "{'original': {'id': 'metsox-S-L-e_e0', 'name': 'L-Methionine Sulfoxide'},\n",
      " 'new': {'id': 'cpd15498_e0', 'name': 'L-Methionine Sulfoxide_e0'},\n",
      " 'justification': 'The metsox-S-L-e_e0 ID is not a ModelSEED Database ID.'}\n",
      "\n",
      "\n",
      "{'original': {'reaction': 'cpd00067_p0 + cpd15411_p0 --> cpd00067_c0 + '\n",
      "                          'cpd15411_e0'},\n",
      " 'new': {'reaction': 'cpd00067_p0 + cpd15411_p0 --> cpd00067_c0 + cpd03294_e0'},\n",
      " 'justification': 'The cpd03294_e0 replacement for cpd15411_e0 already exists '\n",
      "                  'in model 0, so each reaction (here ARBTNtex_p0) must be '\n",
      "                  'updated.'}\n",
      "\n",
      "\n",
      "{'original': {'reaction': 'cpd15411_e0 <=> '},\n",
      " 'new': {'reaction': None},\n",
      " 'justification': 'A cpd03294_e0 exchange reaction already exists in model 0, '\n",
      "                  'thus this duplicative exchange reaction (EX_cpd15411_e0) is '\n",
      "                  'deleted. The ID match was verified with BiGG '\n",
      "                  'cross-references.'}\n",
      "\n",
      "\n",
      "{'original': {'id': 'cpd03191_e0', 'name': 'D-Glucuronate 1-phosphate_e0'},\n",
      " 'new': {'id': 'cpd00880_e0', 'name': 'D-Glucuronate 1-phosphate_e0'},\n",
      " 'justification': 'The cpd03191_e0 and cpd00880_e0 distinction in 0 is '\n",
      "                  'incompatible. The ID match was verified with BiGG '\n",
      "                  'cross-references.'}\n",
      "\n",
      "\n",
      "{'original': {'id': 'cpd00609_e0', 'name': 'D-Glucarate_e0'},\n",
      " 'new': {'id': 'cpd00571_e0', 'name': 'D-Glucarate_e0'},\n",
      " 'justification': 'The cpd00609_e0 and cpd00571_e0 distinction in 0 is '\n",
      "                  'incompatible. The ID match was verified with BiGG '\n",
      "                  'cross-references.'}\n",
      "\n",
      "\n",
      "{'original': {'id': 'dhps-e_e0', 'name': '2,3-Dihydroxypropane-1-sulfonate'},\n",
      " 'new': {'id': 'cpd31356_e0', 'name': '2,3-Dihydroxypropane-1-sulfonate_e0'},\n",
      " 'justification': 'The dhps-e_e0 ID is not a ModelSEED Database ID.'}\n",
      "\n",
      "\n",
      "{'original': {'id': 'metsox-R-L-e_e0', 'name': 'L-methionine-R-sulfoxide'},\n",
      " 'new': {'id': 'cpd14720_e0', 'name': 'L-methionine-R-sulfoxide_e0'},\n",
      " 'justification': 'The metsox-R-L-e_e0 ID is not a ModelSEED Database ID.'}\n",
      "\n",
      "\n",
      "{'original': {'id': 'tartr-D-e_e0', 'name': 'D-tartrate'},\n",
      " 'new': {'id': 'cpd19018_e0', 'name': 'D-tartrate_e0'},\n",
      " 'justification': 'The tartr-D-e_e0 ID is not a ModelSEED Database ID.'}\n",
      "\n",
      "\n",
      "{'original': {'id': 'r1400_e0', 'name': 'protoheme IX'},\n",
      " 'new': {'id': 'cpd00028_e0', 'name': 'protoheme IX_e0'},\n",
      " 'justification': 'The r1400_e0 ID is not a ModelSEED Database ID.'}\n",
      "\n",
      "\n",
      "{'original': {'id': 'r1423_e0', 'name': 'alpha-ketoglutarate'},\n",
      " 'new': {'id': 'cpd00024_e0', 'name': 'alpha-ketoglutarate_e0'},\n",
      " 'justification': 'The r1423_e0 ID is not a ModelSEED Database ID.'}\n",
      "\n",
      "\n",
      "{'original': {'id': 'cpd00609_e0', 'name': 'D-Glucarate'},\n",
      " 'new': {'id': 'cpd00571_e0', 'name': 'D-Glucarate_e0'},\n",
      " 'justification': 'The cpd00609_e0 and cpd00571_e0 distinction in 1 is '\n",
      "                  'incompatible. The ID match was verified with BiGG '\n",
      "                  'cross-references.'}\n",
      "\n",
      "\n",
      "{'original': {'id': 'r307_e0', 'name': 'Mn2+'},\n",
      " 'new': {'id': 'cpd00030_e0', 'name': 'Mn2+_e0'},\n",
      " 'justification': 'The r307_e0 ID is not a ModelSEED Database ID.'}\n",
      "\n",
      "\n",
      "{'original': {'id': 'r1262_e0', 'name': 'Mo2+'},\n",
      " 'new': {'id': 'cpd00131_e0', 'name': 'Mo2+_e0'},\n",
      " 'justification': 'The r1262_e0 ID is not a ModelSEED Database ID.'}\n",
      "\n",
      "\n",
      "{'original': {'reaction': 'r504_c0 --> r505_e0'},\n",
      " 'new': {'reaction': 'r504_c0 --> cpd00028_e0'},\n",
      " 'justification': 'The cpd00028_e0 replacement for r505_e0 already exists in '\n",
      "                  'model 1, so each reaction (here ENZRXN3EM__DASH__139_c0) '\n",
      "                  'must be updated.'}\n",
      "\n",
      "\n",
      "{'original': {'reaction': 'r505_e0 <=> '},\n",
      " 'new': {'reaction': None},\n",
      " 'justification': 'A cpd00028_e0 exchange reaction already exists in model 1, '\n",
      "                  'thus this duplicative exchange reaction (EX_r505_e0) is '\n",
      "                  'deleted.'}\n",
      "\n",
      "\n",
      "{'original': {'id': 'r277_e0', 'name': '2-dehydro-D-gluconate'},\n",
      " 'new': {'id': 'cpd00480_e0', 'name': '2-dehydro-D-gluconate_e0'},\n",
      " 'justification': 'The r277_e0 ID is not a ModelSEED Database ID.'}\n",
      "\n",
      "\n",
      "4 reactions were substituted and 13 metabolite IDs were redefined.\n",
      "['bio1', 'bio2']\n",
      "1 iML1515\n"
     ]
    },
    {
     "name": "stderr",
     "output_type": "stream",
     "text": [
      "C:\\Users\\Andrew Freiburger\\AppData\\Local\\Programs\\Python\\Python39\\lib\\site-packages\\modelseedpy\\community\\mscompatibility.py:296: UserWarning: ModelSEEDError: The metabolite (colipap-e_e0 | Core oligosaccharide lipid A diphosphate | Core oligosaccharide lipid A diphosphate) is not recognized by the ModelSEED Database\n",
      "  warn(f'ModelSEEDError: The metabolite ({\" | \".join([x for x in [met.id, met.name, base_name, met_name] if x != \"\"])}) is not recognized by the ModelSEED Database')\n",
      "C:\\Users\\Andrew Freiburger\\AppData\\Local\\Programs\\Python\\Python39\\lib\\site-packages\\modelseedpy\\community\\mscompatibility.py:296: UserWarning: ModelSEEDError: The metabolite (sq-e_e0 | Sulphoquinovose | Sulphoquinovose) is not recognized by the ModelSEED Database\n",
      "  warn(f'ModelSEEDError: The metabolite ({\" | \".join([x for x in [met.id, met.name, base_name, met_name] if x != \"\"])}) is not recognized by the ModelSEED Database')\n",
      "C:\\Users\\Andrew Freiburger\\AppData\\Local\\Programs\\Python\\Python39\\lib\\site-packages\\modelseedpy\\community\\mscompatibility.py:353: UserWarning: CodeError: The metabolite cpd03294_e0 replacement for cpd15411_e0 already exists in the reaction rxn08144_e0, thus the reaction cannot be updated.\n",
      "  warn(f'CodeError: The metabolite {new_met_id} replacement for {met.id} already exists in the reaction {rxn.id}, thus the reaction cannot be updated.')\n",
      "C:\\Users\\Andrew Freiburger\\AppData\\Local\\Programs\\Python\\Python39\\lib\\site-packages\\modelseedpy\\community\\mscompatibility.py:296: UserWarning: ModelSEEDError: The metabolite (metglcur-e_e0 | 1-O-methyl-Beta-D-glucuronate | Omethylbetadglucuronate | 1-O-methyl-Beta-D-glucuronate) is not recognized by the ModelSEED Database\n",
      "  warn(f'ModelSEEDError: The metabolite ({\" | \".join([x for x in [met.id, met.name, base_name, met_name] if x != \"\"])}) is not recognized by the ModelSEED Database')\n",
      "C:\\Users\\Andrew Freiburger\\AppData\\Local\\Programs\\Python\\Python39\\lib\\site-packages\\modelseedpy\\community\\mscompatibility.py:296: UserWarning: ModelSEEDError: The metabolite (r1535_e0 | H+ involved in electron transport and ATP generation | H+ involved in electron transport and ATP generation) is not recognized by the ModelSEED Database\n",
      "  warn(f'ModelSEEDError: The metabolite ({\" | \".join([x for x in [met.id, met.name, base_name, met_name] if x != \"\"])}) is not recognized by the ModelSEED Database')\n",
      "C:\\Users\\Andrew Freiburger\\AppData\\Local\\Programs\\Python\\Python39\\lib\\site-packages\\modelseedpy\\community\\mscompatibility.py:96: UserWarning: CodeError: The metabolite r505_e0 | heme was not corrected to a ModelSEED metabolite.\n",
      "  warn(f'CodeError: The metabolite {met.id} | {met.name} was not corrected to a ModelSEED metabolite.')\n"
     ]
    },
    {
     "name": "stdout",
     "output_type": "stream",
     "text": [
      "[]\n",
      "bio3 3\n",
      "[3]\n",
      "bio2 2\n",
      "['bio1']\n",
      "2 iSB1139\n",
      "cpd11416_c2 iSB1139\n",
      "[3, 2]\n",
      "bio4 1\n"
     ]
    }
   ],
   "source": [
    "%run ../../../modelseedpy/community/mscommunity.py\n",
    "\n",
    "# construct the community models\n",
    "msdb = os.path.join('..', '..', '..', '..', 'ModelSEEDDatabase')\n",
    "com_model, indices = MSCommunity.build_from_species_models(models, msdb, cobra_model=True)"
   ]
  },
  {
   "cell_type": "code",
   "execution_count": 4,
   "id": "1f6c0341-7ac9-42c2-8771-7fd8b8020e3f",
   "metadata": {},
   "outputs": [
    {
     "data": {
      "text/plain": [
       "{'b2', 'c0', 'c1', 'c2', 'e0', 'p1'}"
      ]
     },
     "metadata": {},
     "output_type": "display_data"
    }
   ],
   "source": [
    "compartments = set()\n",
    "for met in com_model.metabolites:\n",
    "    compartments.add(met.compartment)\n",
    "display(compartments)"
   ]
  },
  {
   "cell_type": "code",
   "execution_count": 7,
   "id": "c5339f1c-c483-404c-b20d-3fb34da5abde",
   "metadata": {},
   "outputs": [
    {
     "name": "stdout",
     "output_type": "stream",
     "text": [
      "bio3\n",
      "bio2\n",
      "model 2 bio4\n"
     ]
    }
   ],
   "source": [
    "for rxn in model1.reactions:\n",
    "    if \"bio\" in rxn.id:\n",
    "        print(rxn.id)\n",
    "for rxn in model2.reactions:\n",
    "    if \"bio\" in rxn.id:\n",
    "        print(\"model 2\", rxn.id)"
   ]
  },
  {
   "cell_type": "code",
   "execution_count": 5,
   "id": "346749f2-5e95-4f2d-85e6-c551898aba31",
   "metadata": {},
   "outputs": [
    {
     "name": "stdout",
     "output_type": "stream",
     "text": [
      "0.0\n"
     ]
    }
   ],
   "source": [
    "print(com_model.optimize().objective_value)"
   ]
  },
  {
   "cell_type": "code",
   "execution_count": null,
   "id": "b3b1c572-d722-4c85-a3fd-6f1e6cfa05ba",
   "metadata": {},
   "outputs": [],
   "source": []
  },
  {
   "cell_type": "code",
   "execution_count": null,
   "id": "10da4092-a43b-48cf-a130-5350dbd3b794",
   "metadata": {},
   "outputs": [],
   "source": []
  },
  {
   "cell_type": "code",
   "execution_count": null,
   "id": "bc921b0d-5307-4b5a-a143-0b5381208603",
   "metadata": {},
   "outputs": [],
   "source": []
  }
 ],
 "metadata": {
  "kernelspec": {
   "display_name": "Python 3 (ipykernel)",
   "language": "python",
   "name": "python3"
  },
  "language_info": {
   "codemirror_mode": {
    "name": "ipython",
    "version": 3
   },
   "file_extension": ".py",
   "mimetype": "text/x-python",
   "name": "python",
   "nbconvert_exporter": "python",
   "pygments_lexer": "ipython3",
   "version": "3.9.12"
  }
 },
 "nbformat": 4,
 "nbformat_minor": 5
}
