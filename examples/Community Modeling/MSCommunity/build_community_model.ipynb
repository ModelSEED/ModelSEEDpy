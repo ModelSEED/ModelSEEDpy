{
 "cells": [
  {
   "cell_type": "markdown",
   "id": "57472e20-a3cf-466a-9caa-1d640dd98f8f",
   "metadata": {},
   "source": [
    "# Load and prepare models for assemblage into a community"
   ]
  },
  {
   "cell_type": "code",
   "execution_count": 1,
   "id": "00e2fa70-51f3-4d18-93cc-c445d37f25c9",
   "metadata": {},
   "outputs": [
    {
     "name": "stderr",
     "output_type": "stream",
     "text": [
      "C:\\Users\\Andrew Freiburger\\AppData\\Local\\Programs\\Python\\Python39\\lib\\site-packages\\requests\\__init__.py:102: RequestsDependencyWarning: urllib3 (1.26.9) or chardet (5.0.0)/charset_normalizer (2.0.12) doesn't match a supported version!\n",
      "  warnings.warn(\"urllib3 ({}) or chardet ({})/charset_normalizer ({}) doesn't match a supported \"\n"
     ]
    },
    {
     "name": "stdout",
     "output_type": "stream",
     "text": [
      "cobrakbase 0.2.8\n"
     ]
    }
   ],
   "source": [
    "# define the environment path \n",
    "from pprint import pprint\n",
    "import os\n",
    "local_cobrakbase_path = os.path.join('C:', 'Users', 'Andrew Freiburger','Documents','Argonne','cobrakbase')\n",
    "os.environ[\"HOME\"] = local_cobrakbase_path\n",
    "\n",
    "# import the models\n",
    "import cobrakbase\n",
    "token = 'X3F37BL3QVM3WEULFGLPNFHGAPHPZA5U'\n",
    "kbase_api = cobrakbase.KBaseAPI(token)\n",
    "# model1 = kbase_api.get_from_ws(\"iML1515\",76994)\n",
    "# model2 = kbase_api.get_from_ws(\"iSB1139.kb.gf\",30650)\n",
    "# models = [model1, model2]"
   ]
  },
  {
   "cell_type": "markdown",
   "id": "ca374813-2c15-4731-baaa-1349765448c4",
   "metadata": {},
   "source": [
    "### compatabilize models"
   ]
  },
  {
   "cell_type": "code",
   "execution_count": 2,
   "id": "fecfb86f-7503-4693-99d6-6ee1cd0d6c5c",
   "metadata": {},
   "outputs": [],
   "source": [
    "# %run ../../../modelseedpy/community/mscompatibility.py\n",
    "\n",
    "# # compatabilize the models\n",
    "# mscompat = MSCompatibility(modelseed_db_path = os.path.join('..', '..', '..', '..', 'ModelSEEDDatabase'))\n",
    "# models = mscompat.align_exchanges(models, conflicts_file_name='exchanges_conflicts.json', model_names = [\"iML1515\", \"iSB1139.kb.gf\"])\n",
    "# models = mscompat.standardize(models, conflicts_file_name = 'standardized_exchange_metabolites.json', model_names = [\"iML1515\", \"iSB1139.kb.gf\"])"
   ]
  },
  {
   "cell_type": "markdown",
   "id": "53e1507c-6536-410f-943a-d2406078b955",
   "metadata": {},
   "source": [
    "### build community"
   ]
  },
  {
   "cell_type": "code",
   "execution_count": 3,
   "id": "0189a414-64b3-4369-9d92-741f167de64b",
   "metadata": {
    "collapsed": true,
    "jupyter": {
     "outputs_hidden": true
    },
    "tags": []
   },
   "outputs": [
    {
     "name": "stdout",
     "output_type": "stream",
     "text": [
      "\n",
      "\n",
      "{'original': {'id': 'r293_e0', 'name': 'Fe2+'},\n",
      " 'new': {'id': 'cpd10515_e0', 'name': 'Fe2+_e0'},\n",
      " 'justification': 'The r293_e0 ID is not a ModelSEED Database ID.'}\n",
      "\n",
      "\n",
      "0 exchange reactions were substituted and 1 exchange metabolite IDs were redefined.\n",
      "\n",
      "\n",
      "{'original': {'id': '4abzglu-e_e0', 'name': '4-aminobenzoyl-glutamate'},\n",
      " 'new': {'id': 'cpd26527_e0', 'name': '4-aminobenzoyl-glutamate_e0'},\n",
      " 'justification': 'The 4abzglu-e_e0 ID is not a ModelSEED Database ID.'}\n",
      "\n",
      "\n",
      "{'original': {'id': 'metsox-S-L-e_e0', 'name': 'L-Methionine Sulfoxide'},\n",
      " 'new': {'id': 'cpd15498_e0', 'name': 'L-Methionine Sulfoxide_e0'},\n",
      " 'justification': 'The metsox-S-L-e_e0 ID is not a ModelSEED Database ID.'}\n",
      "\n",
      "\n",
      "{'original': {'reaction': 'cpd00067_p0 + cpd15411_p0 --> cpd00067_c0 + '\n",
      "                          'cpd15411_e0'},\n",
      " 'new': {'reaction': 'cpd00067_p0 + cpd15411_p0 --> cpd00067_c0 + cpd03294_e0'},\n",
      " 'justification': 'The cpd03294_e0 replacement for cpd15411_e0 already exists '\n",
      "                  'in model 0, so each reaction (here ARBTNtex_p0) must be '\n",
      "                  'updated.'}\n",
      "\n",
      "\n",
      "{'original': {'reaction': 'cpd15411_e0 <=> '},\n",
      " 'new': {'reaction': None},\n",
      " 'justification': 'A cpd03294_e0 exchange reaction already exists in model 0, '\n",
      "                  'thus this duplicative exchange reaction (EX_cpd15411_e0) is '\n",
      "                  'deleted. The ID match was verified with BiGG '\n",
      "                  'cross-references.'}\n",
      "\n",
      "\n",
      "{'original': {'id': 'cpd03191_e0', 'name': 'D-Glucuronate 1-phosphate_e0'},\n",
      " 'new': {'id': 'cpd00880_e0', 'name': 'D-Glucuronate 1-phosphate_e0'},\n",
      " 'justification': 'The cpd03191_e0 and cpd00880_e0 distinction in 0 is '\n",
      "                  'incompatible. The ID match was verified with BiGG '\n",
      "                  'cross-references.'}\n",
      "\n",
      "\n",
      "{'original': {'id': 'cpd00609_e0', 'name': 'D-Glucarate_e0'},\n",
      " 'new': {'id': 'cpd00571_e0', 'name': 'D-Glucarate_e0'},\n",
      " 'justification': 'The cpd00609_e0 and cpd00571_e0 distinction in 0 is '\n",
      "                  'incompatible. The ID match was verified with BiGG '\n",
      "                  'cross-references.'}\n",
      "\n",
      "\n",
      "{'original': {'id': 'dhps-e_e0', 'name': '2,3-Dihydroxypropane-1-sulfonate'},\n",
      " 'new': {'id': 'cpd31356_e0', 'name': '2,3-Dihydroxypropane-1-sulfonate_e0'},\n",
      " 'justification': 'The dhps-e_e0 ID is not a ModelSEED Database ID.'}\n",
      "\n",
      "\n",
      "{'original': {'id': 'metsox-R-L-e_e0', 'name': 'L-methionine-R-sulfoxide'},\n",
      " 'new': {'id': 'cpd14720_e0', 'name': 'L-methionine-R-sulfoxide_e0'},\n",
      " 'justification': 'The metsox-R-L-e_e0 ID is not a ModelSEED Database ID.'}\n",
      "\n",
      "\n",
      "{'original': {'id': 'tartr-D-e_e0', 'name': 'D-tartrate'},\n",
      " 'new': {'id': 'cpd19018_e0', 'name': 'D-tartrate_e0'},\n",
      " 'justification': 'The tartr-D-e_e0 ID is not a ModelSEED Database ID.'}\n",
      "\n",
      "\n",
      "{'original': {'id': 'r1400_e0', 'name': 'protoheme IX'},\n",
      " 'new': {'id': 'cpd00028_e0', 'name': 'protoheme IX_e0'},\n",
      " 'justification': 'The r1400_e0 ID is not a ModelSEED Database ID.'}\n",
      "\n",
      "\n",
      "{'original': {'id': 'r1423_e0', 'name': 'alpha-ketoglutarate'},\n",
      " 'new': {'id': 'cpd00024_e0', 'name': 'alpha-ketoglutarate_e0'},\n",
      " 'justification': 'The r1423_e0 ID is not a ModelSEED Database ID.'}\n",
      "\n",
      "\n",
      "{'original': {'id': 'cpd00609_e0', 'name': 'D-Glucarate'},\n",
      " 'new': {'id': 'cpd00571_e0', 'name': 'D-Glucarate_e0'},\n",
      " 'justification': 'The cpd00609_e0 and cpd00571_e0 distinction in 1 is '\n",
      "                  'incompatible. The ID match was verified with BiGG '\n",
      "                  'cross-references.'}\n",
      "\n",
      "\n",
      "{'original': {'id': 'r307_e0', 'name': 'Mn2+'},\n",
      " 'new': {'id': 'cpd00030_e0', 'name': 'Mn2+_e0'},\n",
      " 'justification': 'The r307_e0 ID is not a ModelSEED Database ID.'}\n",
      "\n",
      "\n",
      "{'original': {'id': 'r1262_e0', 'name': 'Mo2+'},\n",
      " 'new': {'id': 'cpd00131_e0', 'name': 'Mo2+_e0'},\n",
      " 'justification': 'The r1262_e0 ID is not a ModelSEED Database ID.'}\n",
      "\n",
      "\n",
      "{'original': {'reaction': 'r504_c0 --> r505_e0'},\n",
      " 'new': {'reaction': 'r504_c0 --> cpd00028_e0'},\n",
      " 'justification': 'The cpd00028_e0 replacement for r505_e0 already exists in '\n",
      "                  'model 1, so each reaction (here ENZRXN3EM__DASH__139_c0) '\n",
      "                  'must be updated.'}\n",
      "\n",
      "\n",
      "{'original': {'reaction': 'r505_e0 <=> '},\n",
      " 'new': {'reaction': None},\n",
      " 'justification': 'A cpd00028_e0 exchange reaction already exists in model 1, '\n",
      "                  'thus this duplicative exchange reaction (EX_r505_e0) is '\n",
      "                  'deleted.'}\n",
      "\n",
      "\n",
      "{'original': {'id': 'r277_e0', 'name': '2-dehydro-D-gluconate'},\n",
      " 'new': {'id': 'cpd00480_e0', 'name': '2-dehydro-D-gluconate_e0'},\n",
      " 'justification': 'The r277_e0 ID is not a ModelSEED Database ID.'}\n",
      "\n",
      "\n",
      "4 reactions were substituted and 13 metabolite IDs were redefined.\n",
      "['bio1', 'bio2']\n",
      "1 iML1515\n"
     ]
    },
    {
     "name": "stderr",
     "output_type": "stream",
     "text": [
      "C:\\Users\\Andrew Freiburger\\AppData\\Local\\Programs\\Python\\Python39\\lib\\site-packages\\modelseedpy\\community\\mscompatibility.py:296: UserWarning: ModelSEEDError: The metabolite (colipap-e_e0 | Core oligosaccharide lipid A diphosphate | Core oligosaccharide lipid A diphosphate) is not recognized by the ModelSEED Database\n",
      "  warn(f'ModelSEEDError: The metabolite ({\" | \".join([x for x in [met.id, met.name, base_name, met_name] if x != \"\"])}) is not recognized by the ModelSEED Database')\n",
      "C:\\Users\\Andrew Freiburger\\AppData\\Local\\Programs\\Python\\Python39\\lib\\site-packages\\modelseedpy\\community\\mscompatibility.py:296: UserWarning: ModelSEEDError: The metabolite (sq-e_e0 | Sulphoquinovose | Sulphoquinovose) is not recognized by the ModelSEED Database\n",
      "  warn(f'ModelSEEDError: The metabolite ({\" | \".join([x for x in [met.id, met.name, base_name, met_name] if x != \"\"])}) is not recognized by the ModelSEED Database')\n",
      "C:\\Users\\Andrew Freiburger\\AppData\\Local\\Programs\\Python\\Python39\\lib\\site-packages\\modelseedpy\\community\\mscompatibility.py:353: UserWarning: CodeError: The metabolite cpd03294_e0 replacement for cpd15411_e0 already exists in the reaction rxn08144_e0, thus the reaction cannot be updated.\n",
      "  warn(f'CodeError: The metabolite {new_met_id} replacement for {met.id} already exists in the reaction {rxn.id}, thus the reaction cannot be updated.')\n",
      "C:\\Users\\Andrew Freiburger\\AppData\\Local\\Programs\\Python\\Python39\\lib\\site-packages\\modelseedpy\\community\\mscompatibility.py:296: UserWarning: ModelSEEDError: The metabolite (metglcur-e_e0 | 1-O-methyl-Beta-D-glucuronate | Omethylbetadglucuronate | 1-O-methyl-Beta-D-glucuronate) is not recognized by the ModelSEED Database\n",
      "  warn(f'ModelSEEDError: The metabolite ({\" | \".join([x for x in [met.id, met.name, base_name, met_name] if x != \"\"])}) is not recognized by the ModelSEED Database')\n",
      "C:\\Users\\Andrew Freiburger\\AppData\\Local\\Programs\\Python\\Python39\\lib\\site-packages\\modelseedpy\\community\\mscompatibility.py:296: UserWarning: ModelSEEDError: The metabolite (r1535_e0 | H+ involved in electron transport and ATP generation | H+ involved in electron transport and ATP generation) is not recognized by the ModelSEED Database\n",
      "  warn(f'ModelSEEDError: The metabolite ({\" | \".join([x for x in [met.id, met.name, base_name, met_name] if x != \"\"])}) is not recognized by the ModelSEED Database')\n",
      "C:\\Users\\Andrew Freiburger\\AppData\\Local\\Programs\\Python\\Python39\\lib\\site-packages\\modelseedpy\\community\\mscompatibility.py:96: UserWarning: CodeError: The metabolite r505_e0 | heme was not corrected to a ModelSEED metabolite.\n",
      "  warn(f'CodeError: The metabolite {met.id} | {met.name} was not corrected to a ModelSEED metabolite.')\n"
     ]
    },
    {
     "name": "stdout",
     "output_type": "stream",
     "text": [
      "[]\n",
      "bio3 3\n",
      "[3]\n",
      "bio2 2\n",
      "['bio1']\n",
      "2 iSB1139\n",
      "cpd11416_c2 iSB1139\n",
      "[3, 2]\n",
      "bio4 1\n"
     ]
    }
   ],
   "source": [
    "%run ../../../modelseedpy/community/mscommunity.py\n",
    "\n",
    "# construct the community models\n",
    "msdb = os.path.join('..', '..', '..', '..', 'ModelSEEDDatabase')\n",
    "com_model, indices = MSCommunity.build_from_species_models(models, msdb, cobra_model=True)"
   ]
  },
  {
   "cell_type": "code",
   "execution_count": 4,
   "id": "1f6c0341-7ac9-42c2-8771-7fd8b8020e3f",
   "metadata": {},
   "outputs": [
    {
     "data": {
      "text/plain": [
       "{'b2', 'c0', 'c1', 'c2', 'e0', 'p1'}"
      ]
     },
     "metadata": {},
     "output_type": "display_data"
    }
   ],
   "source": [
    "compartments = set()\n",
    "for met in com_model.metabolites:\n",
    "    compartments.add(met.compartment)\n",
    "display(compartments)"
   ]
  },
  {
   "cell_type": "code",
   "execution_count": 7,
   "id": "c5339f1c-c483-404c-b20d-3fb34da5abde",
   "metadata": {},
   "outputs": [
    {
     "name": "stdout",
     "output_type": "stream",
     "text": [
      "bio3\n",
      "bio2\n",
      "model 2 bio4\n"
     ]
    }
   ],
   "source": [
    "for rxn in model1.reactions:\n",
    "    if \"bio\" in rxn.id:\n",
    "        print(rxn.id)\n",
    "for rxn in model2.reactions:\n",
    "    if \"bio\" in rxn.id:\n",
    "        print(\"model 2\", rxn.id)"
   ]
  },
  {
   "cell_type": "code",
   "execution_count": 5,
   "id": "346749f2-5e95-4f2d-85e6-c551898aba31",
   "metadata": {},
   "outputs": [
    {
     "name": "stdout",
     "output_type": "stream",
     "text": [
      "0.0\n"
     ]
    }
   ],
   "source": [
    "print(com_model.optimize().objective_value)"
   ]
  },
  {
   "cell_type": "markdown",
   "id": "7236fb1e-49fc-4c68-a0f3-5e944b1b5880",
   "metadata": {},
   "source": [
    "# test the minimal media method"
   ]
  },
  {
   "cell_type": "code",
   "execution_count": 1,
   "id": "297a204f-677a-4211-8e7f-a66f795fc3d1",
   "metadata": {},
   "outputs": [
    {
     "name": "stderr",
     "output_type": "stream",
     "text": [
      "C:\\Users\\Andrew Freiburger\\AppData\\Local\\Programs\\Python\\Python39\\lib\\site-packages\\requests\\__init__.py:102: RequestsDependencyWarning: urllib3 (1.26.9) or chardet (5.0.0)/charset_normalizer (2.0.12) doesn't match a supported version!\n",
      "  warnings.warn(\"urllib3 ({}) or chardet ({})/charset_normalizer ({}) doesn't match a supported \"\n"
     ]
    },
    {
     "name": "stdout",
     "output_type": "stream",
     "text": [
      "cobrakbase 0.2.8\n"
     ]
    },
    {
     "name": "stderr",
     "output_type": "stream",
     "text": [
      "C:\\Users\\Andrew Freiburger\\AppData\\Local\\Programs\\Python\\Python39\\lib\\site-packages\\cobra\\medium\\boundary_types.py:60: FutureWarning: The default dtype for empty Series will be 'object' instead of 'float64' in a future version. Specify a dtype explicitly to silence this warning.\n",
      "  matches = pd.Series(\n",
      "C:\\Users\\Andrew Freiburger\\AppData\\Local\\Programs\\Python\\Python39\\lib\\site-packages\\cobra\\medium\\boundary_types.py:60: FutureWarning: The default dtype for empty Series will be 'object' instead of 'float64' in a future version. Specify a dtype explicitly to silence this warning.\n",
      "  matches = pd.Series(\n",
      "C:\\Users\\Andrew Freiburger\\AppData\\Local\\Programs\\Python\\Python39\\lib\\site-packages\\cobra\\medium\\minimal_medium.py:112: FutureWarning: The default dtype for empty Series will be 'object' instead of 'float64' in a future version. Specify a dtype explicitly to silence this warning.\n",
      "  medium = pd.Series()\n",
      "C:\\Users\\Andrew Freiburger\\AppData\\Local\\Programs\\Python\\Python39\\lib\\site-packages\\cobra\\medium\\boundary_types.py:60: FutureWarning: The default dtype for empty Series will be 'object' instead of 'float64' in a future version. Specify a dtype explicitly to silence this warning.\n",
      "  matches = pd.Series(\n",
      "C:\\Users\\Andrew Freiburger\\AppData\\Local\\Programs\\Python\\Python39\\lib\\site-packages\\cobra\\medium\\boundary_types.py:60: FutureWarning: The default dtype for empty Series will be 'object' instead of 'float64' in a future version. Specify a dtype explicitly to silence this warning.\n",
      "  matches = pd.Series(\n",
      "C:\\Users\\Andrew Freiburger\\AppData\\Local\\Programs\\Python\\Python39\\lib\\site-packages\\cobra\\medium\\boundary_types.py:60: FutureWarning: The default dtype for empty Series will be 'object' instead of 'float64' in a future version. Specify a dtype explicitly to silence this warning.\n",
      "  matches = pd.Series(\n",
      "C:\\Users\\Andrew Freiburger\\AppData\\Local\\Programs\\Python\\Python39\\lib\\site-packages\\cobra\\medium\\boundary_types.py:60: FutureWarning: The default dtype for empty Series will be 'object' instead of 'float64' in a future version. Specify a dtype explicitly to silence this warning.\n",
      "  matches = pd.Series(\n",
      "C:\\Users\\Andrew Freiburger\\AppData\\Local\\Programs\\Python\\Python39\\lib\\site-packages\\cobra\\medium\\minimal_medium.py:112: FutureWarning: The default dtype for empty Series will be 'object' instead of 'float64' in a future version. Specify a dtype explicitly to silence this warning.\n",
      "  medium = pd.Series()\n",
      "C:\\Users\\Andrew Freiburger\\AppData\\Local\\Programs\\Python\\Python39\\lib\\site-packages\\cobra\\medium\\boundary_types.py:60: FutureWarning: The default dtype for empty Series will be 'object' instead of 'float64' in a future version. Specify a dtype explicitly to silence this warning.\n",
      "  matches = pd.Series(\n"
     ]
    },
    {
     "name": "stdout",
     "output_type": "stream",
     "text": [
      "{'community_media': {'EX_cpd00007_e0': 1007.7396293165473,\n",
      "                     'EX_cpd00028_e0': 0.0009336000000444108,\n",
      "                     'EX_cpd00030_e0': 0.0010718000000444004,\n",
      "                     'EX_cpd00034_e0': 0.0010018000000444056,\n",
      "                     'EX_cpd00048_e0': 0.0503631999999925,\n",
      "                     'EX_cpd00058_e0': 0.0001417999999999894,\n",
      "                     'EX_cpd00063_e0': 0.0019746000000375958,\n",
      "                     'EX_cpd00099_e0': 0.001040999999993185,\n",
      "                     'EX_cpd00104_e0': 3.999999999999701e-07,\n",
      "                     'EX_cpd00149_e0': 0.0009386000000444104,\n",
      "                     'EX_cpd00166_e0': 0.0009336000000444108,\n",
      "                     'EX_cpd00205_e0': 0.03997219999999777,\n",
      "                     'EX_cpd00244_e0': 6.459999999999517e-05,\n",
      "                     'EX_cpd00254_e0': 0.0026686000000709477,\n",
      "                     'EX_cpd00296_e0': 513.6677743890671,\n",
      "                     'EX_cpd00971_e0': 0.0009336000001581167,\n",
      "                     'EX_cpd01017_e0': 338.26593534928827,\n",
      "                     'EX_cpd03725_e0': 974.5552626833597,\n",
      "                     'EX_cpd11574_e0': 1.3999999999998955e-06,\n",
      "                     'EX_sphmyln_bt_e0': 0.0009336000000178871},\n",
      " 'members': {'Bacteroides_thetaiotaomicron_VPI-5482.fbamdl.23': {'media': EX_cpd01017_e0       335.018783\n",
      "EX_cpd00205_e0         0.000467\n",
      "EX_cpd00063_e0         0.000467\n",
      "EX_cpd00007_e0      1000.000000\n",
      "EX_cpd00254_e0         0.000467\n",
      "EX_sphmyln_bt_e0       0.000467\n",
      "EX_cpd00971_e0         0.000467\n",
      "EX_cpd10515_e0         0.000934\n",
      "EX_cpd00028_e0         0.000467\n",
      "EX_cpd00034_e0         0.000467\n",
      "EX_cpd00149_e0         0.000467\n",
      "EX_cpd00030_e0         0.000467\n",
      "EX_cpd00009_e0         0.176402\n",
      "EX_cpd00166_e0         0.000467\n",
      "dtype: float64,\n",
      "                                                                 'solution': <Solution 0.100 at 0x1c30a6a9460>},\n",
      "             'iML1515': {'media': EX_cpd00296_e0    5.107697e+02\n",
      "EX_cpd11574_e0    7.000000e-07\n",
      "EX_cpd00254_e0    8.675000e-04\n",
      "EX_cpd00058_e0    7.090000e-05\n",
      "EX_cpd00048_e0    2.518160e-02\n",
      "EX_cpd00099_e0    5.205000e-04\n",
      "EX_cpd00205_e0    1.951930e-02\n",
      "EX_cpd00063_e0    5.205000e-04\n",
      "EX_cpd00104_e0    2.000000e-07\n",
      "EX_cpd00244_e0    3.230000e-05\n",
      "EX_cpd03725_e0    9.677183e+02\n",
      "EX_cpd00149_e0    2.500000e-06\n",
      "EX_cpd00030_e0    6.910000e-05\n",
      "EX_cpd00034_e0    3.410000e-05\n",
      "dtype: float64,\n",
      "                         'solution': <Solution 0.100 at 0x1c30ada3490>}}}\n"
     ]
    },
    {
     "name": "stderr",
     "output_type": "stream",
     "text": [
      "C:\\Users\\Andrew Freiburger\\AppData\\Local\\Programs\\Python\\Python39\\lib\\site-packages\\cobra\\medium\\boundary_types.py:60: FutureWarning: The default dtype for empty Series will be 'object' instead of 'float64' in a future version. Specify a dtype explicitly to silence this warning.\n",
      "  matches = pd.Series(\n"
     ]
    }
   ],
   "source": [
    "# define the environment path \n",
    "from pprint import pprint\n",
    "import os\n",
    "local_cobrakbase_path = os.path.join('C:', 'Users', 'Andrew Freiburger','Documents','Argonne','cobrakbase')\n",
    "os.environ[\"HOME\"] = local_cobrakbase_path\n",
    "\n",
    "# import the models\n",
    "import cobrakbase\n",
    "token = 'X3F37BL3QVM3WEULFGLPNFHGAPHPZA5U'\n",
    "kbase_api = cobrakbase.KBaseAPI(token)\n",
    "\n",
    "model1 = kbase_api.get_from_ws(\"E_iAH991V2\",40576)\n",
    "model2 = kbase_api.get_from_ws(\"E_iML1515.kb\",40576)\n",
    "models = [model1, model2]\n",
    "\n",
    "from modelseedpy.community.mscommunity import MSCommunity\n",
    "media = MSCommunity.estimate_minimal_community_media(models)\n",
    "pprint(media)"
   ]
  },
  {
   "cell_type": "code",
   "execution_count": 5,
   "id": "10da4092-a43b-48cf-a130-5350dbd3b794",
   "metadata": {},
   "outputs": [
    {
     "name": "stderr",
     "output_type": "stream",
     "text": [
      "C:\\Users\\Andrew Freiburger\\AppData\\Local\\Programs\\Python\\Python39\\lib\\site-packages\\cobra\\medium\\boundary_types.py:60: FutureWarning: The default dtype for empty Series will be 'object' instead of 'float64' in a future version. Specify a dtype explicitly to silence this warning.\n",
      "  matches = pd.Series(\n",
      "C:\\Users\\Andrew Freiburger\\AppData\\Local\\Programs\\Python\\Python39\\lib\\site-packages\\cobra\\medium\\boundary_types.py:60: FutureWarning: The default dtype for empty Series will be 'object' instead of 'float64' in a future version. Specify a dtype explicitly to silence this warning.\n",
      "  matches = pd.Series(\n",
      "C:\\Users\\Andrew Freiburger\\AppData\\Local\\Programs\\Python\\Python39\\lib\\site-packages\\cobra\\medium\\minimal_medium.py:112: FutureWarning: The default dtype for empty Series will be 'object' instead of 'float64' in a future version. Specify a dtype explicitly to silence this warning.\n",
      "  medium = pd.Series()\n",
      "C:\\Users\\Andrew Freiburger\\AppData\\Local\\Programs\\Python\\Python39\\lib\\site-packages\\cobra\\medium\\boundary_types.py:60: FutureWarning: The default dtype for empty Series will be 'object' instead of 'float64' in a future version. Specify a dtype explicitly to silence this warning.\n",
      "  matches = pd.Series(\n",
      "C:\\Users\\Andrew Freiburger\\AppData\\Local\\Programs\\Python\\Python39\\lib\\site-packages\\cobra\\medium\\boundary_types.py:60: FutureWarning: The default dtype for empty Series will be 'object' instead of 'float64' in a future version. Specify a dtype explicitly to silence this warning.\n",
      "  matches = pd.Series(\n",
      "C:\\Users\\Andrew Freiburger\\AppData\\Local\\Programs\\Python\\Python39\\lib\\site-packages\\cobra\\medium\\minimal_medium.py:112: FutureWarning: The default dtype for empty Series will be 'object' instead of 'float64' in a future version. Specify a dtype explicitly to silence this warning.\n",
      "  medium = pd.Series()\n"
     ]
    }
   ],
   "source": [
    "from cobra.medium import minimal_medium\n",
    "minimal_media = {}\n",
    "for model in models:\n",
    "    minimal_media[model.id] = minimal_medium(model, minimize_components=True)"
   ]
  },
  {
   "cell_type": "code",
   "execution_count": 36,
   "id": "bc921b0d-5307-4b5a-a143-0b5381208603",
   "metadata": {
    "tags": []
   },
   "outputs": [
    {
     "name": "stdout",
     "output_type": "stream",
     "text": [
      "22 {'EX_cpd00028_e0': 0.0004668000000265238, 'EX_cpd10515_e0': 0.0009336000000000001, 'EX_cpd00009_e0': 0.17640200000471395, 'EX_cpd00007_e0': 1000.0, 'EX_cpd00254_e0': 0.0013343000000531902, 'EX_cpd00034_e0': 0.0005009000000265238, 'EX_cpd00149_e0': 0.0004693000000265238, 'EX_cpd00205_e0': 0.019986099999982798, 'EX_cpd00166_e0': 0.00046679999968546326, 'EX_sphmyln_bt_e0': 0.00046680000000000007, 'EX_cpd00063_e0': 0.0009873000000197862, 'EX_cpd00971_e0': 0.0004668000051424315, 'EX_cpd01017_e0': 842.2630261749903, 'EX_cpd00030_e0': 0.0005359000000265238, 'EX_cpd00244_e0': 3.23e-05, 'EX_cpd00048_e0': 0.025181600000451, 'EX_cpd11574_e0': 7.000000000000001e-07, 'EX_cpd00058_e0': 7.09e-05, 'EX_cpd01570_e0': 89.5967256405977, 'EX_cpd03725_e0': 633.3508499108905, 'EX_cpd00104_e0': 2e-07, 'EX_cpd00099_e0': 0.0005204999999932625}\n"
     ]
    }
   ],
   "source": [
    "# from pprint import pprint\n",
    "# pprint(minimal_media)\n",
    "\n",
    "def sum_dict(d1,d2):\n",
    "    for key, value in d1.items():\n",
    "        if key in d2:\n",
    "            d2[key] += value\n",
    "        else:\n",
    "            d2[key] = value\n",
    "    return d2\n",
    "\n",
    "com_media = {}\n",
    "for media in minimal_media.values():\n",
    "    com_media = sum_dict(media, com_media)\n",
    "print(len(com_media.keys()), com_media)"
   ]
  },
  {
   "cell_type": "markdown",
   "id": "7a7d740c-48d0-464d-97a9-cac622efcc48",
   "metadata": {},
   "source": [
    "### validate the minimal community media via Janga"
   ]
  },
  {
   "cell_type": "code",
   "execution_count": 2,
   "id": "23897af6-caee-4f9b-9b2e-caf4d7d3ed70",
   "metadata": {},
   "outputs": [
    {
     "name": "stderr",
     "output_type": "stream",
     "text": [
      "C:\\Users\\Andrew Freiburger\\AppData\\Local\\Programs\\Python\\Python39\\lib\\site-packages\\cobra\\medium\\boundary_types.py:60: FutureWarning: The default dtype for empty Series will be 'object' instead of 'float64' in a future version. Specify a dtype explicitly to silence this warning.\n",
      "  matches = pd.Series(\n",
      "C:\\Users\\Andrew Freiburger\\AppData\\Local\\Programs\\Python\\Python39\\lib\\site-packages\\cobra\\medium\\boundary_types.py:60: FutureWarning: The default dtype for empty Series will be 'object' instead of 'float64' in a future version. Specify a dtype explicitly to silence this warning.\n",
      "  matches = pd.Series(\n"
     ]
    },
    {
     "name": "stdout",
     "output_type": "stream",
     "text": [
      "0.4000000000094803\n"
     ]
    }
   ],
   "source": [
    "# validation via Janga\n",
    "com_model = kbase_api.get_from_ws(\"CMM_iAH991V2_iML1515.kb\",40576)\n",
    "com_model.medium = media[\"community_media\"]\n",
    "if com_model.medium.keys() != media[\"community_media\"].keys():\n",
    "    print(\"parameterization error\")\n",
    "original_obj_value = com_model.optimize().objective_value\n",
    "print(original_obj_value)"
   ]
  },
  {
   "cell_type": "code",
   "execution_count": 6,
   "id": "d0731f86-1b19-4ea8-b579-7e040b09b873",
   "metadata": {
    "collapsed": true,
    "jupyter": {
     "outputs_hidden": true
    },
    "tags": []
   },
   "outputs": [
    {
     "name": "stderr",
     "output_type": "stream",
     "text": [
      "C:\\Users\\Andrew Freiburger\\AppData\\Local\\Programs\\Python\\Python39\\lib\\site-packages\\cobra\\medium\\boundary_types.py:60: FutureWarning: The default dtype for empty Series will be 'object' instead of 'float64' in a future version. Specify a dtype explicitly to silence this warning.\n",
      "  matches = pd.Series(\n",
      "C:\\Users\\Andrew Freiburger\\AppData\\Local\\Programs\\Python\\Python39\\lib\\site-packages\\cobra\\medium\\boundary_types.py:60: FutureWarning: The default dtype for empty Series will be 'object' instead of 'float64' in a future version. Specify a dtype explicitly to silence this warning.\n",
      "  matches = pd.Series(\n",
      "C:\\Users\\Andrew Freiburger\\AppData\\Local\\Programs\\Python\\Python39\\lib\\site-packages\\cobra\\medium\\boundary_types.py:60: FutureWarning: The default dtype for empty Series will be 'object' instead of 'float64' in a future version. Specify a dtype explicitly to silence this warning.\n",
      "  matches = pd.Series(\n",
      "C:\\Users\\Andrew Freiburger\\AppData\\Local\\Programs\\Python\\Python39\\lib\\site-packages\\cobra\\medium\\boundary_types.py:60: FutureWarning: The default dtype for empty Series will be 'object' instead of 'float64' in a future version. Specify a dtype explicitly to silence this warning.\n",
      "  matches = pd.Series(\n"
     ]
    },
    {
     "name": "stdout",
     "output_type": "stream",
     "text": [
      "redundant cpd: EX_cpd00007_e0\n"
     ]
    },
    {
     "name": "stderr",
     "output_type": "stream",
     "text": [
      "C:\\Users\\Andrew Freiburger\\AppData\\Local\\Programs\\Python\\Python39\\lib\\site-packages\\cobra\\medium\\boundary_types.py:60: FutureWarning: The default dtype for empty Series will be 'object' instead of 'float64' in a future version. Specify a dtype explicitly to silence this warning.\n",
      "  matches = pd.Series(\n",
      "C:\\Users\\Andrew Freiburger\\AppData\\Local\\Programs\\Python\\Python39\\lib\\site-packages\\cobra\\medium\\boundary_types.py:60: FutureWarning: The default dtype for empty Series will be 'object' instead of 'float64' in a future version. Specify a dtype explicitly to silence this warning.\n",
      "  matches = pd.Series(\n",
      "C:\\Users\\Andrew Freiburger\\AppData\\Local\\Programs\\Python\\Python39\\lib\\site-packages\\cobra\\medium\\boundary_types.py:60: FutureWarning: The default dtype for empty Series will be 'object' instead of 'float64' in a future version. Specify a dtype explicitly to silence this warning.\n",
      "  matches = pd.Series(\n",
      "C:\\Users\\Andrew Freiburger\\AppData\\Local\\Programs\\Python\\Python39\\lib\\site-packages\\cobra\\medium\\boundary_types.py:60: FutureWarning: The default dtype for empty Series will be 'object' instead of 'float64' in a future version. Specify a dtype explicitly to silence this warning.\n",
      "  matches = pd.Series(\n"
     ]
    },
    {
     "name": "stdout",
     "output_type": "stream",
     "text": [
      "redundant cpd: EX_cpd00028_e0\n"
     ]
    },
    {
     "name": "stderr",
     "output_type": "stream",
     "text": [
      "C:\\Users\\Andrew Freiburger\\AppData\\Local\\Programs\\Python\\Python39\\lib\\site-packages\\cobra\\medium\\boundary_types.py:60: FutureWarning: The default dtype for empty Series will be 'object' instead of 'float64' in a future version. Specify a dtype explicitly to silence this warning.\n",
      "  matches = pd.Series(\n",
      "C:\\Users\\Andrew Freiburger\\AppData\\Local\\Programs\\Python\\Python39\\lib\\site-packages\\cobra\\medium\\boundary_types.py:60: FutureWarning: The default dtype for empty Series will be 'object' instead of 'float64' in a future version. Specify a dtype explicitly to silence this warning.\n",
      "  matches = pd.Series(\n",
      "C:\\Users\\Andrew Freiburger\\AppData\\Local\\Programs\\Python\\Python39\\lib\\site-packages\\cobra\\medium\\boundary_types.py:60: FutureWarning: The default dtype for empty Series will be 'object' instead of 'float64' in a future version. Specify a dtype explicitly to silence this warning.\n",
      "  matches = pd.Series(\n",
      "C:\\Users\\Andrew Freiburger\\AppData\\Local\\Programs\\Python\\Python39\\lib\\site-packages\\cobra\\medium\\boundary_types.py:60: FutureWarning: The default dtype for empty Series will be 'object' instead of 'float64' in a future version. Specify a dtype explicitly to silence this warning.\n",
      "  matches = pd.Series(\n",
      "C:\\Users\\Andrew Freiburger\\AppData\\Local\\Programs\\Python\\Python39\\lib\\site-packages\\cobra\\medium\\boundary_types.py:60: FutureWarning: The default dtype for empty Series will be 'object' instead of 'float64' in a future version. Specify a dtype explicitly to silence this warning.\n",
      "  matches = pd.Series(\n",
      "C:\\Users\\Andrew Freiburger\\AppData\\Local\\Programs\\Python\\Python39\\lib\\site-packages\\cobra\\medium\\boundary_types.py:60: FutureWarning: The default dtype for empty Series will be 'object' instead of 'float64' in a future version. Specify a dtype explicitly to silence this warning.\n",
      "  matches = pd.Series(\n",
      "C:\\Users\\Andrew Freiburger\\AppData\\Local\\Programs\\Python\\Python39\\lib\\site-packages\\cobra\\medium\\boundary_types.py:60: FutureWarning: The default dtype for empty Series will be 'object' instead of 'float64' in a future version. Specify a dtype explicitly to silence this warning.\n",
      "  matches = pd.Series(\n",
      "C:\\Users\\Andrew Freiburger\\AppData\\Local\\Programs\\Python\\Python39\\lib\\site-packages\\cobra\\medium\\boundary_types.py:60: FutureWarning: The default dtype for empty Series will be 'object' instead of 'float64' in a future version. Specify a dtype explicitly to silence this warning.\n",
      "  matches = pd.Series(\n",
      "C:\\Users\\Andrew Freiburger\\AppData\\Local\\Programs\\Python\\Python39\\lib\\site-packages\\cobra\\medium\\boundary_types.py:60: FutureWarning: The default dtype for empty Series will be 'object' instead of 'float64' in a future version. Specify a dtype explicitly to silence this warning.\n",
      "  matches = pd.Series(\n",
      "C:\\Users\\Andrew Freiburger\\AppData\\Local\\Programs\\Python\\Python39\\lib\\site-packages\\cobra\\medium\\boundary_types.py:60: FutureWarning: The default dtype for empty Series will be 'object' instead of 'float64' in a future version. Specify a dtype explicitly to silence this warning.\n",
      "  matches = pd.Series(\n",
      "C:\\Users\\Andrew Freiburger\\AppData\\Local\\Programs\\Python\\Python39\\lib\\site-packages\\cobra\\medium\\boundary_types.py:60: FutureWarning: The default dtype for empty Series will be 'object' instead of 'float64' in a future version. Specify a dtype explicitly to silence this warning.\n",
      "  matches = pd.Series(\n"
     ]
    },
    {
     "name": "stdout",
     "output_type": "stream",
     "text": [
      "redundant cpd: EX_cpd00048_e0\n",
      "redundant cpd: EX_cpd00104_e0\n"
     ]
    },
    {
     "name": "stderr",
     "output_type": "stream",
     "text": [
      "C:\\Users\\Andrew Freiburger\\AppData\\Local\\Programs\\Python\\Python39\\lib\\site-packages\\cobra\\medium\\boundary_types.py:60: FutureWarning: The default dtype for empty Series will be 'object' instead of 'float64' in a future version. Specify a dtype explicitly to silence this warning.\n",
      "  matches = pd.Series(\n",
      "C:\\Users\\Andrew Freiburger\\AppData\\Local\\Programs\\Python\\Python39\\lib\\site-packages\\cobra\\medium\\boundary_types.py:60: FutureWarning: The default dtype for empty Series will be 'object' instead of 'float64' in a future version. Specify a dtype explicitly to silence this warning.\n",
      "  matches = pd.Series(\n",
      "C:\\Users\\Andrew Freiburger\\AppData\\Local\\Programs\\Python\\Python39\\lib\\site-packages\\cobra\\medium\\boundary_types.py:60: FutureWarning: The default dtype for empty Series will be 'object' instead of 'float64' in a future version. Specify a dtype explicitly to silence this warning.\n",
      "  matches = pd.Series(\n"
     ]
    },
    {
     "name": "stdout",
     "output_type": "stream",
     "text": [
      "redundant cpd EX_cpd00028_e0 removed\n",
      "redundant cpd EX_cpd00007_e0 removed\n"
     ]
    },
    {
     "name": "stderr",
     "output_type": "stream",
     "text": [
      "C:\\Users\\Andrew Freiburger\\AppData\\Local\\Programs\\Python\\Python39\\lib\\site-packages\\cobra\\medium\\boundary_types.py:60: FutureWarning: The default dtype for empty Series will be 'object' instead of 'float64' in a future version. Specify a dtype explicitly to silence this warning.\n",
      "  matches = pd.Series(\n",
      "C:\\Users\\Andrew Freiburger\\AppData\\Local\\Programs\\Python\\Python39\\lib\\site-packages\\cobra\\medium\\boundary_types.py:60: FutureWarning: The default dtype for empty Series will be 'object' instead of 'float64' in a future version. Specify a dtype explicitly to silence this warning.\n",
      "  matches = pd.Series(\n",
      "C:\\Users\\Andrew Freiburger\\AppData\\Local\\Programs\\Python\\Python39\\lib\\site-packages\\cobra\\medium\\boundary_types.py:60: FutureWarning: The default dtype for empty Series will be 'object' instead of 'float64' in a future version. Specify a dtype explicitly to silence this warning.\n",
      "  matches = pd.Series(\n",
      "C:\\Users\\Andrew Freiburger\\AppData\\Local\\Programs\\Python\\Python39\\lib\\site-packages\\cobra\\medium\\boundary_types.py:60: FutureWarning: The default dtype for empty Series will be 'object' instead of 'float64' in a future version. Specify a dtype explicitly to silence this warning.\n",
      "  matches = pd.Series(\n"
     ]
    },
    {
     "name": "stdout",
     "output_type": "stream",
     "text": [
      "objective value discrepancy: 2.267218809567235e-20 0.4000000000094803\n",
      "redundant cpd EX_cpd00028_e0 removed\n",
      "redundant cpd EX_cpd00007_e0 removed\n",
      "redundant cpd EX_cpd00104_e0 removed\n"
     ]
    },
    {
     "name": "stderr",
     "output_type": "stream",
     "text": [
      "C:\\Users\\Andrew Freiburger\\AppData\\Local\\Programs\\Python\\Python39\\lib\\site-packages\\cobra\\medium\\boundary_types.py:60: FutureWarning: The default dtype for empty Series will be 'object' instead of 'float64' in a future version. Specify a dtype explicitly to silence this warning.\n",
      "  matches = pd.Series(\n",
      "C:\\Users\\Andrew Freiburger\\AppData\\Local\\Programs\\Python\\Python39\\lib\\site-packages\\cobra\\medium\\boundary_types.py:60: FutureWarning: The default dtype for empty Series will be 'object' instead of 'float64' in a future version. Specify a dtype explicitly to silence this warning.\n",
      "  matches = pd.Series(\n",
      "C:\\Users\\Andrew Freiburger\\AppData\\Local\\Programs\\Python\\Python39\\lib\\site-packages\\cobra\\medium\\boundary_types.py:60: FutureWarning: The default dtype for empty Series will be 'object' instead of 'float64' in a future version. Specify a dtype explicitly to silence this warning.\n",
      "  matches = pd.Series(\n",
      "C:\\Users\\Andrew Freiburger\\AppData\\Local\\Programs\\Python\\Python39\\lib\\site-packages\\cobra\\medium\\boundary_types.py:60: FutureWarning: The default dtype for empty Series will be 'object' instead of 'float64' in a future version. Specify a dtype explicitly to silence this warning.\n",
      "  matches = pd.Series(\n"
     ]
    },
    {
     "name": "stdout",
     "output_type": "stream",
     "text": [
      "objective value discrepancy: -9.290507047862074e-17 0.4000000000094803\n",
      "redundant cpd EX_cpd00028_e0 removed\n",
      "redundant cpd EX_cpd00048_e0 removed\n",
      "objective value discrepancy: -9.290507047862076e-17 0.4000000000094803\n"
     ]
    },
    {
     "name": "stderr",
     "output_type": "stream",
     "text": [
      "C:\\Users\\Andrew Freiburger\\AppData\\Local\\Programs\\Python\\Python39\\lib\\site-packages\\cobra\\medium\\boundary_types.py:60: FutureWarning: The default dtype for empty Series will be 'object' instead of 'float64' in a future version. Specify a dtype explicitly to silence this warning.\n",
      "  matches = pd.Series(\n",
      "C:\\Users\\Andrew Freiburger\\AppData\\Local\\Programs\\Python\\Python39\\lib\\site-packages\\cobra\\medium\\boundary_types.py:60: FutureWarning: The default dtype for empty Series will be 'object' instead of 'float64' in a future version. Specify a dtype explicitly to silence this warning.\n",
      "  matches = pd.Series(\n",
      "C:\\Users\\Andrew Freiburger\\AppData\\Local\\Programs\\Python\\Python39\\lib\\site-packages\\cobra\\medium\\boundary_types.py:60: FutureWarning: The default dtype for empty Series will be 'object' instead of 'float64' in a future version. Specify a dtype explicitly to silence this warning.\n",
      "  matches = pd.Series(\n",
      "C:\\Users\\Andrew Freiburger\\AppData\\Local\\Programs\\Python\\Python39\\lib\\site-packages\\cobra\\medium\\boundary_types.py:60: FutureWarning: The default dtype for empty Series will be 'object' instead of 'float64' in a future version. Specify a dtype explicitly to silence this warning.\n",
      "  matches = pd.Series(\n"
     ]
    },
    {
     "name": "stdout",
     "output_type": "stream",
     "text": [
      "redundant cpd EX_cpd00028_e0 removed\n",
      "redundant cpd EX_cpd00048_e0 removed\n",
      "redundant cpd EX_cpd00104_e0 removed\n",
      "objective value discrepancy: -1.8581014095724145e-16 0.4000000000094803\n"
     ]
    },
    {
     "name": "stderr",
     "output_type": "stream",
     "text": [
      "C:\\Users\\Andrew Freiburger\\AppData\\Local\\Programs\\Python\\Python39\\lib\\site-packages\\cobra\\medium\\boundary_types.py:60: FutureWarning: The default dtype for empty Series will be 'object' instead of 'float64' in a future version. Specify a dtype explicitly to silence this warning.\n",
      "  matches = pd.Series(\n",
      "C:\\Users\\Andrew Freiburger\\AppData\\Local\\Programs\\Python\\Python39\\lib\\site-packages\\cobra\\medium\\boundary_types.py:60: FutureWarning: The default dtype for empty Series will be 'object' instead of 'float64' in a future version. Specify a dtype explicitly to silence this warning.\n",
      "  matches = pd.Series(\n",
      "C:\\Users\\Andrew Freiburger\\AppData\\Local\\Programs\\Python\\Python39\\lib\\site-packages\\cobra\\medium\\boundary_types.py:60: FutureWarning: The default dtype for empty Series will be 'object' instead of 'float64' in a future version. Specify a dtype explicitly to silence this warning.\n",
      "  matches = pd.Series(\n",
      "C:\\Users\\Andrew Freiburger\\AppData\\Local\\Programs\\Python\\Python39\\lib\\site-packages\\cobra\\medium\\boundary_types.py:60: FutureWarning: The default dtype for empty Series will be 'object' instead of 'float64' in a future version. Specify a dtype explicitly to silence this warning.\n",
      "  matches = pd.Series(\n"
     ]
    },
    {
     "name": "stdout",
     "output_type": "stream",
     "text": [
      "redundant cpd EX_cpd00028_e0 removed\n",
      "redundant cpd EX_cpd00104_e0 removed\n",
      "redundant cpd EX_cpd00007_e0 removed\n",
      "objective value discrepancy: 0.0 0.4000000000094803\n"
     ]
    },
    {
     "name": "stderr",
     "output_type": "stream",
     "text": [
      "C:\\Users\\Andrew Freiburger\\AppData\\Local\\Programs\\Python\\Python39\\lib\\site-packages\\cobra\\medium\\boundary_types.py:60: FutureWarning: The default dtype for empty Series will be 'object' instead of 'float64' in a future version. Specify a dtype explicitly to silence this warning.\n",
      "  matches = pd.Series(\n",
      "C:\\Users\\Andrew Freiburger\\AppData\\Local\\Programs\\Python\\Python39\\lib\\site-packages\\cobra\\medium\\boundary_types.py:60: FutureWarning: The default dtype for empty Series will be 'object' instead of 'float64' in a future version. Specify a dtype explicitly to silence this warning.\n",
      "  matches = pd.Series(\n",
      "C:\\Users\\Andrew Freiburger\\AppData\\Local\\Programs\\Python\\Python39\\lib\\site-packages\\cobra\\medium\\boundary_types.py:60: FutureWarning: The default dtype for empty Series will be 'object' instead of 'float64' in a future version. Specify a dtype explicitly to silence this warning.\n",
      "  matches = pd.Series(\n",
      "C:\\Users\\Andrew Freiburger\\AppData\\Local\\Programs\\Python\\Python39\\lib\\site-packages\\cobra\\medium\\boundary_types.py:60: FutureWarning: The default dtype for empty Series will be 'object' instead of 'float64' in a future version. Specify a dtype explicitly to silence this warning.\n",
      "  matches = pd.Series(\n"
     ]
    },
    {
     "name": "stdout",
     "output_type": "stream",
     "text": [
      "redundant cpd EX_cpd00028_e0 removed\n",
      "redundant cpd EX_cpd00104_e0 removed\n",
      "redundant cpd EX_cpd00048_e0 removed\n",
      "objective value discrepancy: -5.118224405755119e-17 0.4000000000094803\n"
     ]
    },
    {
     "name": "stderr",
     "output_type": "stream",
     "text": [
      "C:\\Users\\Andrew Freiburger\\AppData\\Local\\Programs\\Python\\Python39\\lib\\site-packages\\cobra\\medium\\boundary_types.py:60: FutureWarning: The default dtype for empty Series will be 'object' instead of 'float64' in a future version. Specify a dtype explicitly to silence this warning.\n",
      "  matches = pd.Series(\n",
      "C:\\Users\\Andrew Freiburger\\AppData\\Local\\Programs\\Python\\Python39\\lib\\site-packages\\cobra\\medium\\boundary_types.py:60: FutureWarning: The default dtype for empty Series will be 'object' instead of 'float64' in a future version. Specify a dtype explicitly to silence this warning.\n",
      "  matches = pd.Series(\n",
      "C:\\Users\\Andrew Freiburger\\AppData\\Local\\Programs\\Python\\Python39\\lib\\site-packages\\cobra\\medium\\boundary_types.py:60: FutureWarning: The default dtype for empty Series will be 'object' instead of 'float64' in a future version. Specify a dtype explicitly to silence this warning.\n",
      "  matches = pd.Series(\n",
      "C:\\Users\\Andrew Freiburger\\AppData\\Local\\Programs\\Python\\Python39\\lib\\site-packages\\cobra\\medium\\boundary_types.py:60: FutureWarning: The default dtype for empty Series will be 'object' instead of 'float64' in a future version. Specify a dtype explicitly to silence this warning.\n",
      "  matches = pd.Series(\n"
     ]
    },
    {
     "name": "stdout",
     "output_type": "stream",
     "text": [
      "redundant cpd EX_cpd00007_e0 removed\n",
      "redundant cpd EX_cpd00028_e0 removed\n",
      "objective value discrepancy: -2.000698573755955e-16 0.4000000000094803\n",
      "redundant cpd EX_cpd00007_e0 removed\n"
     ]
    },
    {
     "name": "stderr",
     "output_type": "stream",
     "text": [
      "C:\\Users\\Andrew Freiburger\\AppData\\Local\\Programs\\Python\\Python39\\lib\\site-packages\\cobra\\medium\\boundary_types.py:60: FutureWarning: The default dtype for empty Series will be 'object' instead of 'float64' in a future version. Specify a dtype explicitly to silence this warning.\n",
      "  matches = pd.Series(\n",
      "C:\\Users\\Andrew Freiburger\\AppData\\Local\\Programs\\Python\\Python39\\lib\\site-packages\\cobra\\medium\\boundary_types.py:60: FutureWarning: The default dtype for empty Series will be 'object' instead of 'float64' in a future version. Specify a dtype explicitly to silence this warning.\n",
      "  matches = pd.Series(\n",
      "C:\\Users\\Andrew Freiburger\\AppData\\Local\\Programs\\Python\\Python39\\lib\\site-packages\\cobra\\medium\\boundary_types.py:60: FutureWarning: The default dtype for empty Series will be 'object' instead of 'float64' in a future version. Specify a dtype explicitly to silence this warning.\n",
      "  matches = pd.Series(\n",
      "C:\\Users\\Andrew Freiburger\\AppData\\Local\\Programs\\Python\\Python39\\lib\\site-packages\\cobra\\medium\\boundary_types.py:60: FutureWarning: The default dtype for empty Series will be 'object' instead of 'float64' in a future version. Specify a dtype explicitly to silence this warning.\n",
      "  matches = pd.Series(\n"
     ]
    },
    {
     "name": "stdout",
     "output_type": "stream",
     "text": [
      "redundant cpd EX_cpd00028_e0 removed\n",
      "redundant cpd EX_cpd00104_e0 removed\n",
      "objective value discrepancy: 7.88282248491369e-17 0.4000000000094803\n",
      "redundant cpd EX_cpd00007_e0 removed\n"
     ]
    },
    {
     "name": "stderr",
     "output_type": "stream",
     "text": [
      "C:\\Users\\Andrew Freiburger\\AppData\\Local\\Programs\\Python\\Python39\\lib\\site-packages\\cobra\\medium\\boundary_types.py:60: FutureWarning: The default dtype for empty Series will be 'object' instead of 'float64' in a future version. Specify a dtype explicitly to silence this warning.\n",
      "  matches = pd.Series(\n",
      "C:\\Users\\Andrew Freiburger\\AppData\\Local\\Programs\\Python\\Python39\\lib\\site-packages\\cobra\\medium\\boundary_types.py:60: FutureWarning: The default dtype for empty Series will be 'object' instead of 'float64' in a future version. Specify a dtype explicitly to silence this warning.\n",
      "  matches = pd.Series(\n",
      "C:\\Users\\Andrew Freiburger\\AppData\\Local\\Programs\\Python\\Python39\\lib\\site-packages\\cobra\\medium\\boundary_types.py:60: FutureWarning: The default dtype for empty Series will be 'object' instead of 'float64' in a future version. Specify a dtype explicitly to silence this warning.\n",
      "  matches = pd.Series(\n",
      "C:\\Users\\Andrew Freiburger\\AppData\\Local\\Programs\\Python\\Python39\\lib\\site-packages\\cobra\\medium\\boundary_types.py:60: FutureWarning: The default dtype for empty Series will be 'object' instead of 'float64' in a future version. Specify a dtype explicitly to silence this warning.\n",
      "  matches = pd.Series(\n"
     ]
    },
    {
     "name": "stdout",
     "output_type": "stream",
     "text": [
      "objective value discrepancy: 5.332911182587869e-16 0.4000000000094803\n",
      "redundant cpd EX_cpd00007_e0 removed\n",
      "objective value discrepancy: -1.8845183162378446e-16 0.4000000000094803\n",
      "redundant cpd EX_cpd00007_e0 removed\n",
      "redundant cpd EX_cpd00104_e0 removed\n",
      "redundant cpd EX_cpd00028_e0 removed\n",
      "objective value discrepancy: 3.4084322181953144e-16 0.4000000000094803\n"
     ]
    },
    {
     "name": "stderr",
     "output_type": "stream",
     "text": [
      "C:\\Users\\Andrew Freiburger\\AppData\\Local\\Programs\\Python\\Python39\\lib\\site-packages\\cobra\\medium\\boundary_types.py:60: FutureWarning: The default dtype for empty Series will be 'object' instead of 'float64' in a future version. Specify a dtype explicitly to silence this warning.\n",
      "  matches = pd.Series(\n",
      "C:\\Users\\Andrew Freiburger\\AppData\\Local\\Programs\\Python\\Python39\\lib\\site-packages\\cobra\\medium\\boundary_types.py:60: FutureWarning: The default dtype for empty Series will be 'object' instead of 'float64' in a future version. Specify a dtype explicitly to silence this warning.\n",
      "  matches = pd.Series(\n",
      "C:\\Users\\Andrew Freiburger\\AppData\\Local\\Programs\\Python\\Python39\\lib\\site-packages\\cobra\\medium\\boundary_types.py:60: FutureWarning: The default dtype for empty Series will be 'object' instead of 'float64' in a future version. Specify a dtype explicitly to silence this warning.\n",
      "  matches = pd.Series(\n",
      "C:\\Users\\Andrew Freiburger\\AppData\\Local\\Programs\\Python\\Python39\\lib\\site-packages\\cobra\\medium\\boundary_types.py:60: FutureWarning: The default dtype for empty Series will be 'object' instead of 'float64' in a future version. Specify a dtype explicitly to silence this warning.\n",
      "  matches = pd.Series(\n"
     ]
    },
    {
     "name": "stdout",
     "output_type": "stream",
     "text": [
      "redundant cpd EX_cpd00007_e0 removed\n",
      "redundant cpd EX_cpd00104_e0 removed\n",
      "objective value discrepancy: 4.104271284708679e-16 0.4000000000094803\n",
      "redundant cpd EX_cpd00048_e0 removed\n"
     ]
    },
    {
     "name": "stderr",
     "output_type": "stream",
     "text": [
      "C:\\Users\\Andrew Freiburger\\AppData\\Local\\Programs\\Python\\Python39\\lib\\site-packages\\cobra\\medium\\boundary_types.py:60: FutureWarning: The default dtype for empty Series will be 'object' instead of 'float64' in a future version. Specify a dtype explicitly to silence this warning.\n",
      "  matches = pd.Series(\n",
      "C:\\Users\\Andrew Freiburger\\AppData\\Local\\Programs\\Python\\Python39\\lib\\site-packages\\cobra\\medium\\boundary_types.py:60: FutureWarning: The default dtype for empty Series will be 'object' instead of 'float64' in a future version. Specify a dtype explicitly to silence this warning.\n",
      "  matches = pd.Series(\n",
      "C:\\Users\\Andrew Freiburger\\AppData\\Local\\Programs\\Python\\Python39\\lib\\site-packages\\cobra\\medium\\boundary_types.py:60: FutureWarning: The default dtype for empty Series will be 'object' instead of 'float64' in a future version. Specify a dtype explicitly to silence this warning.\n",
      "  matches = pd.Series(\n",
      "C:\\Users\\Andrew Freiburger\\AppData\\Local\\Programs\\Python\\Python39\\lib\\site-packages\\cobra\\medium\\boundary_types.py:60: FutureWarning: The default dtype for empty Series will be 'object' instead of 'float64' in a future version. Specify a dtype explicitly to silence this warning.\n",
      "  matches = pd.Series(\n",
      "C:\\Users\\Andrew Freiburger\\AppData\\Local\\Programs\\Python\\Python39\\lib\\site-packages\\cobra\\medium\\boundary_types.py:60: FutureWarning: The default dtype for empty Series will be 'object' instead of 'float64' in a future version. Specify a dtype explicitly to silence this warning.\n",
      "  matches = pd.Series(\n",
      "C:\\Users\\Andrew Freiburger\\AppData\\Local\\Programs\\Python\\Python39\\lib\\site-packages\\cobra\\medium\\boundary_types.py:60: FutureWarning: The default dtype for empty Series will be 'object' instead of 'float64' in a future version. Specify a dtype explicitly to silence this warning.\n",
      "  matches = pd.Series(\n"
     ]
    },
    {
     "name": "stdout",
     "output_type": "stream",
     "text": [
      "redundant cpd EX_cpd00028_e0 removed\n",
      "objective value discrepancy: 8.77026118310957e-17 0.4000000000094803\n",
      "redundant cpd EX_cpd00048_e0 removed\n",
      "redundant cpd EX_cpd00028_e0 removed\n"
     ]
    },
    {
     "name": "stderr",
     "output_type": "stream",
     "text": [
      "C:\\Users\\Andrew Freiburger\\AppData\\Local\\Programs\\Python\\Python39\\lib\\site-packages\\cobra\\medium\\boundary_types.py:60: FutureWarning: The default dtype for empty Series will be 'object' instead of 'float64' in a future version. Specify a dtype explicitly to silence this warning.\n",
      "  matches = pd.Series(\n",
      "C:\\Users\\Andrew Freiburger\\AppData\\Local\\Programs\\Python\\Python39\\lib\\site-packages\\cobra\\medium\\boundary_types.py:60: FutureWarning: The default dtype for empty Series will be 'object' instead of 'float64' in a future version. Specify a dtype explicitly to silence this warning.\n",
      "  matches = pd.Series(\n",
      "C:\\Users\\Andrew Freiburger\\AppData\\Local\\Programs\\Python\\Python39\\lib\\site-packages\\cobra\\medium\\boundary_types.py:60: FutureWarning: The default dtype for empty Series will be 'object' instead of 'float64' in a future version. Specify a dtype explicitly to silence this warning.\n",
      "  matches = pd.Series(\n",
      "C:\\Users\\Andrew Freiburger\\AppData\\Local\\Programs\\Python\\Python39\\lib\\site-packages\\cobra\\medium\\boundary_types.py:60: FutureWarning: The default dtype for empty Series will be 'object' instead of 'float64' in a future version. Specify a dtype explicitly to silence this warning.\n",
      "  matches = pd.Series(\n"
     ]
    },
    {
     "name": "stdout",
     "output_type": "stream",
     "text": [
      "redundant cpd EX_cpd00104_e0 removed\n",
      "objective value discrepancy: 0.0 0.4000000000094803\n",
      "redundant cpd EX_cpd00048_e0 removed\n",
      "objective value discrepancy: 0.0 0.4000000000094803\n"
     ]
    },
    {
     "name": "stderr",
     "output_type": "stream",
     "text": [
      "C:\\Users\\Andrew Freiburger\\AppData\\Local\\Programs\\Python\\Python39\\lib\\site-packages\\cobra\\medium\\boundary_types.py:60: FutureWarning: The default dtype for empty Series will be 'object' instead of 'float64' in a future version. Specify a dtype explicitly to silence this warning.\n",
      "  matches = pd.Series(\n",
      "C:\\Users\\Andrew Freiburger\\AppData\\Local\\Programs\\Python\\Python39\\lib\\site-packages\\cobra\\medium\\boundary_types.py:60: FutureWarning: The default dtype for empty Series will be 'object' instead of 'float64' in a future version. Specify a dtype explicitly to silence this warning.\n",
      "  matches = pd.Series(\n",
      "C:\\Users\\Andrew Freiburger\\AppData\\Local\\Programs\\Python\\Python39\\lib\\site-packages\\cobra\\medium\\boundary_types.py:60: FutureWarning: The default dtype for empty Series will be 'object' instead of 'float64' in a future version. Specify a dtype explicitly to silence this warning.\n",
      "  matches = pd.Series(\n"
     ]
    },
    {
     "name": "stdout",
     "output_type": "stream",
     "text": [
      "redundant cpd EX_cpd00048_e0 removed\n",
      "objective value discrepancy: 0.0 0.4000000000094803\n",
      "redundant cpd EX_cpd00048_e0 removed\n",
      "redundant cpd EX_cpd00104_e0 removed\n"
     ]
    },
    {
     "name": "stderr",
     "output_type": "stream",
     "text": [
      "C:\\Users\\Andrew Freiburger\\AppData\\Local\\Programs\\Python\\Python39\\lib\\site-packages\\cobra\\medium\\boundary_types.py:60: FutureWarning: The default dtype for empty Series will be 'object' instead of 'float64' in a future version. Specify a dtype explicitly to silence this warning.\n",
      "  matches = pd.Series(\n",
      "C:\\Users\\Andrew Freiburger\\AppData\\Local\\Programs\\Python\\Python39\\lib\\site-packages\\cobra\\medium\\boundary_types.py:60: FutureWarning: The default dtype for empty Series will be 'object' instead of 'float64' in a future version. Specify a dtype explicitly to silence this warning.\n",
      "  matches = pd.Series(\n",
      "C:\\Users\\Andrew Freiburger\\AppData\\Local\\Programs\\Python\\Python39\\lib\\site-packages\\cobra\\medium\\boundary_types.py:60: FutureWarning: The default dtype for empty Series will be 'object' instead of 'float64' in a future version. Specify a dtype explicitly to silence this warning.\n",
      "  matches = pd.Series(\n",
      "C:\\Users\\Andrew Freiburger\\AppData\\Local\\Programs\\Python\\Python39\\lib\\site-packages\\cobra\\medium\\boundary_types.py:60: FutureWarning: The default dtype for empty Series will be 'object' instead of 'float64' in a future version. Specify a dtype explicitly to silence this warning.\n",
      "  matches = pd.Series(\n"
     ]
    },
    {
     "name": "stdout",
     "output_type": "stream",
     "text": [
      "redundant cpd EX_cpd00028_e0 removed\n",
      "objective value discrepancy: -8.889357595461713e-17 0.4000000000094803\n",
      "redundant cpd EX_cpd00048_e0 removed\n",
      "redundant cpd EX_cpd00104_e0 removed\n"
     ]
    },
    {
     "name": "stderr",
     "output_type": "stream",
     "text": [
      "C:\\Users\\Andrew Freiburger\\AppData\\Local\\Programs\\Python\\Python39\\lib\\site-packages\\cobra\\medium\\boundary_types.py:60: FutureWarning: The default dtype for empty Series will be 'object' instead of 'float64' in a future version. Specify a dtype explicitly to silence this warning.\n",
      "  matches = pd.Series(\n",
      "C:\\Users\\Andrew Freiburger\\AppData\\Local\\Programs\\Python\\Python39\\lib\\site-packages\\cobra\\medium\\boundary_types.py:60: FutureWarning: The default dtype for empty Series will be 'object' instead of 'float64' in a future version. Specify a dtype explicitly to silence this warning.\n",
      "  matches = pd.Series(\n",
      "C:\\Users\\Andrew Freiburger\\AppData\\Local\\Programs\\Python\\Python39\\lib\\site-packages\\cobra\\medium\\boundary_types.py:60: FutureWarning: The default dtype for empty Series will be 'object' instead of 'float64' in a future version. Specify a dtype explicitly to silence this warning.\n",
      "  matches = pd.Series(\n",
      "C:\\Users\\Andrew Freiburger\\AppData\\Local\\Programs\\Python\\Python39\\lib\\site-packages\\cobra\\medium\\boundary_types.py:60: FutureWarning: The default dtype for empty Series will be 'object' instead of 'float64' in a future version. Specify a dtype explicitly to silence this warning.\n",
      "  matches = pd.Series(\n"
     ]
    },
    {
     "name": "stdout",
     "output_type": "stream",
     "text": [
      "objective value discrepancy: -1.4474974480298922e-16 0.4000000000094803\n",
      "redundant cpd EX_cpd00104_e0 removed\n",
      "redundant cpd EX_cpd00028_e0 removed\n",
      "redundant cpd EX_cpd00007_e0 removed\n"
     ]
    },
    {
     "name": "stderr",
     "output_type": "stream",
     "text": [
      "C:\\Users\\Andrew Freiburger\\AppData\\Local\\Programs\\Python\\Python39\\lib\\site-packages\\cobra\\medium\\boundary_types.py:60: FutureWarning: The default dtype for empty Series will be 'object' instead of 'float64' in a future version. Specify a dtype explicitly to silence this warning.\n",
      "  matches = pd.Series(\n",
      "C:\\Users\\Andrew Freiburger\\AppData\\Local\\Programs\\Python\\Python39\\lib\\site-packages\\cobra\\medium\\boundary_types.py:60: FutureWarning: The default dtype for empty Series will be 'object' instead of 'float64' in a future version. Specify a dtype explicitly to silence this warning.\n",
      "  matches = pd.Series(\n",
      "C:\\Users\\Andrew Freiburger\\AppData\\Local\\Programs\\Python\\Python39\\lib\\site-packages\\cobra\\medium\\boundary_types.py:60: FutureWarning: The default dtype for empty Series will be 'object' instead of 'float64' in a future version. Specify a dtype explicitly to silence this warning.\n",
      "  matches = pd.Series(\n",
      "C:\\Users\\Andrew Freiburger\\AppData\\Local\\Programs\\Python\\Python39\\lib\\site-packages\\cobra\\medium\\boundary_types.py:60: FutureWarning: The default dtype for empty Series will be 'object' instead of 'float64' in a future version. Specify a dtype explicitly to silence this warning.\n",
      "  matches = pd.Series(\n"
     ]
    },
    {
     "name": "stdout",
     "output_type": "stream",
     "text": [
      "objective value discrepancy: -1.2095583827381199e-16 0.4000000000094803\n",
      "redundant cpd EX_cpd00104_e0 removed\n",
      "redundant cpd EX_cpd00028_e0 removed\n",
      "redundant cpd EX_cpd00048_e0 removed\n"
     ]
    },
    {
     "name": "stderr",
     "output_type": "stream",
     "text": [
      "C:\\Users\\Andrew Freiburger\\AppData\\Local\\Programs\\Python\\Python39\\lib\\site-packages\\cobra\\medium\\boundary_types.py:60: FutureWarning: The default dtype for empty Series will be 'object' instead of 'float64' in a future version. Specify a dtype explicitly to silence this warning.\n",
      "  matches = pd.Series(\n",
      "C:\\Users\\Andrew Freiburger\\AppData\\Local\\Programs\\Python\\Python39\\lib\\site-packages\\cobra\\medium\\boundary_types.py:60: FutureWarning: The default dtype for empty Series will be 'object' instead of 'float64' in a future version. Specify a dtype explicitly to silence this warning.\n",
      "  matches = pd.Series(\n",
      "C:\\Users\\Andrew Freiburger\\AppData\\Local\\Programs\\Python\\Python39\\lib\\site-packages\\cobra\\medium\\boundary_types.py:60: FutureWarning: The default dtype for empty Series will be 'object' instead of 'float64' in a future version. Specify a dtype explicitly to silence this warning.\n",
      "  matches = pd.Series(\n",
      "C:\\Users\\Andrew Freiburger\\AppData\\Local\\Programs\\Python\\Python39\\lib\\site-packages\\cobra\\medium\\boundary_types.py:60: FutureWarning: The default dtype for empty Series will be 'object' instead of 'float64' in a future version. Specify a dtype explicitly to silence this warning.\n",
      "  matches = pd.Series(\n"
     ]
    },
    {
     "name": "stdout",
     "output_type": "stream",
     "text": [
      "objective value discrepancy: 2.500787966309211e-18 0.4000000000094803\n",
      "redundant cpd EX_cpd00104_e0 removed\n",
      "redundant cpd EX_cpd00007_e0 removed\n",
      "redundant cpd EX_cpd00028_e0 removed\n"
     ]
    },
    {
     "name": "stderr",
     "output_type": "stream",
     "text": [
      "C:\\Users\\Andrew Freiburger\\AppData\\Local\\Programs\\Python\\Python39\\lib\\site-packages\\cobra\\medium\\boundary_types.py:60: FutureWarning: The default dtype for empty Series will be 'object' instead of 'float64' in a future version. Specify a dtype explicitly to silence this warning.\n",
      "  matches = pd.Series(\n",
      "C:\\Users\\Andrew Freiburger\\AppData\\Local\\Programs\\Python\\Python39\\lib\\site-packages\\cobra\\medium\\boundary_types.py:60: FutureWarning: The default dtype for empty Series will be 'object' instead of 'float64' in a future version. Specify a dtype explicitly to silence this warning.\n",
      "  matches = pd.Series(\n",
      "C:\\Users\\Andrew Freiburger\\AppData\\Local\\Programs\\Python\\Python39\\lib\\site-packages\\cobra\\medium\\boundary_types.py:60: FutureWarning: The default dtype for empty Series will be 'object' instead of 'float64' in a future version. Specify a dtype explicitly to silence this warning.\n",
      "  matches = pd.Series(\n",
      "C:\\Users\\Andrew Freiburger\\AppData\\Local\\Programs\\Python\\Python39\\lib\\site-packages\\cobra\\medium\\boundary_types.py:60: FutureWarning: The default dtype for empty Series will be 'object' instead of 'float64' in a future version. Specify a dtype explicitly to silence this warning.\n",
      "  matches = pd.Series(\n"
     ]
    },
    {
     "name": "stdout",
     "output_type": "stream",
     "text": [
      "objective value discrepancy: 0.0 0.4000000000094803\n",
      "redundant cpd EX_cpd00104_e0 removed\n",
      "redundant cpd EX_cpd00007_e0 removed\n",
      "objective value discrepancy: 6.088314500510577e-17 0.4000000000094803\n"
     ]
    },
    {
     "name": "stderr",
     "output_type": "stream",
     "text": [
      "C:\\Users\\Andrew Freiburger\\AppData\\Local\\Programs\\Python\\Python39\\lib\\site-packages\\cobra\\medium\\boundary_types.py:60: FutureWarning: The default dtype for empty Series will be 'object' instead of 'float64' in a future version. Specify a dtype explicitly to silence this warning.\n",
      "  matches = pd.Series(\n",
      "C:\\Users\\Andrew Freiburger\\AppData\\Local\\Programs\\Python\\Python39\\lib\\site-packages\\cobra\\medium\\boundary_types.py:60: FutureWarning: The default dtype for empty Series will be 'object' instead of 'float64' in a future version. Specify a dtype explicitly to silence this warning.\n",
      "  matches = pd.Series(\n",
      "C:\\Users\\Andrew Freiburger\\AppData\\Local\\Programs\\Python\\Python39\\lib\\site-packages\\cobra\\medium\\boundary_types.py:60: FutureWarning: The default dtype for empty Series will be 'object' instead of 'float64' in a future version. Specify a dtype explicitly to silence this warning.\n",
      "  matches = pd.Series(\n",
      "C:\\Users\\Andrew Freiburger\\AppData\\Local\\Programs\\Python\\Python39\\lib\\site-packages\\cobra\\medium\\boundary_types.py:60: FutureWarning: The default dtype for empty Series will be 'object' instead of 'float64' in a future version. Specify a dtype explicitly to silence this warning.\n",
      "  matches = pd.Series(\n"
     ]
    },
    {
     "name": "stdout",
     "output_type": "stream",
     "text": [
      "redundant cpd EX_cpd00104_e0 removed\n",
      "redundant cpd EX_cpd00048_e0 removed\n",
      "redundant cpd EX_cpd00028_e0 removed\n",
      "objective value discrepancy: -2.7771950586493626e-18 0.4000000000094803\n"
     ]
    },
    {
     "name": "stderr",
     "output_type": "stream",
     "text": [
      "C:\\Users\\Andrew Freiburger\\AppData\\Local\\Programs\\Python\\Python39\\lib\\site-packages\\cobra\\medium\\boundary_types.py:60: FutureWarning: The default dtype for empty Series will be 'object' instead of 'float64' in a future version. Specify a dtype explicitly to silence this warning.\n",
      "  matches = pd.Series(\n",
      "C:\\Users\\Andrew Freiburger\\AppData\\Local\\Programs\\Python\\Python39\\lib\\site-packages\\cobra\\medium\\boundary_types.py:60: FutureWarning: The default dtype for empty Series will be 'object' instead of 'float64' in a future version. Specify a dtype explicitly to silence this warning.\n",
      "  matches = pd.Series(\n",
      "C:\\Users\\Andrew Freiburger\\AppData\\Local\\Programs\\Python\\Python39\\lib\\site-packages\\cobra\\medium\\boundary_types.py:60: FutureWarning: The default dtype for empty Series will be 'object' instead of 'float64' in a future version. Specify a dtype explicitly to silence this warning.\n",
      "  matches = pd.Series(\n",
      "C:\\Users\\Andrew Freiburger\\AppData\\Local\\Programs\\Python\\Python39\\lib\\site-packages\\cobra\\medium\\boundary_types.py:60: FutureWarning: The default dtype for empty Series will be 'object' instead of 'float64' in a future version. Specify a dtype explicitly to silence this warning.\n",
      "  matches = pd.Series(\n"
     ]
    },
    {
     "name": "stdout",
     "output_type": "stream",
     "text": [
      "redundant cpd EX_cpd00104_e0 removed\n",
      "redundant cpd EX_cpd00048_e0 removed\n",
      "objective value discrepancy: 1.2052969009041865e-22 0.4000000000094803\n",
      "{('EX_cpd00007_e0', 'EX_cpd00028_e0', 'EX_cpd00048_e0', 'EX_cpd00104_e0'): 2,\n",
      " ('EX_cpd00007_e0', 'EX_cpd00028_e0', 'EX_cpd00104_e0', 'EX_cpd00048_e0'): 3,\n",
      " ('EX_cpd00007_e0', 'EX_cpd00048_e0', 'EX_cpd00028_e0', 'EX_cpd00104_e0'): 1,\n",
      " ('EX_cpd00007_e0', 'EX_cpd00048_e0', 'EX_cpd00104_e0', 'EX_cpd00028_e0'): 1,\n",
      " ('EX_cpd00007_e0', 'EX_cpd00104_e0', 'EX_cpd00028_e0', 'EX_cpd00048_e0'): 3,\n",
      " ('EX_cpd00007_e0', 'EX_cpd00104_e0', 'EX_cpd00048_e0', 'EX_cpd00028_e0'): 2,\n",
      " ('EX_cpd00028_e0', 'EX_cpd00007_e0', 'EX_cpd00048_e0', 'EX_cpd00104_e0'): 2,\n",
      " ('EX_cpd00028_e0', 'EX_cpd00007_e0', 'EX_cpd00104_e0', 'EX_cpd00048_e0'): 3,\n",
      " ('EX_cpd00028_e0', 'EX_cpd00048_e0', 'EX_cpd00007_e0', 'EX_cpd00104_e0'): 2,\n",
      " ('EX_cpd00028_e0', 'EX_cpd00048_e0', 'EX_cpd00104_e0', 'EX_cpd00007_e0'): 3,\n",
      " ('EX_cpd00028_e0', 'EX_cpd00104_e0', 'EX_cpd00007_e0', 'EX_cpd00048_e0'): 3,\n",
      " ('EX_cpd00028_e0', 'EX_cpd00104_e0', 'EX_cpd00048_e0', 'EX_cpd00007_e0'): 3,\n",
      " ('EX_cpd00048_e0', 'EX_cpd00007_e0', 'EX_cpd00028_e0', 'EX_cpd00104_e0'): 1,\n",
      " ('EX_cpd00048_e0', 'EX_cpd00007_e0', 'EX_cpd00104_e0', 'EX_cpd00028_e0'): 1,\n",
      " ('EX_cpd00048_e0', 'EX_cpd00028_e0', 'EX_cpd00007_e0', 'EX_cpd00104_e0'): 2,\n",
      " ('EX_cpd00048_e0', 'EX_cpd00028_e0', 'EX_cpd00104_e0', 'EX_cpd00007_e0'): 3,\n",
      " ('EX_cpd00048_e0', 'EX_cpd00104_e0', 'EX_cpd00007_e0', 'EX_cpd00028_e0'): 2,\n",
      " ('EX_cpd00048_e0', 'EX_cpd00104_e0', 'EX_cpd00028_e0', 'EX_cpd00007_e0'): 3,\n",
      " ('EX_cpd00104_e0', 'EX_cpd00007_e0', 'EX_cpd00028_e0', 'EX_cpd00048_e0'): 3,\n",
      " ('EX_cpd00104_e0', 'EX_cpd00007_e0', 'EX_cpd00048_e0', 'EX_cpd00028_e0'): 2,\n",
      " ('EX_cpd00104_e0', 'EX_cpd00028_e0', 'EX_cpd00007_e0', 'EX_cpd00048_e0'): 3,\n",
      " ('EX_cpd00104_e0', 'EX_cpd00028_e0', 'EX_cpd00048_e0', 'EX_cpd00007_e0'): 3,\n",
      " ('EX_cpd00104_e0', 'EX_cpd00048_e0', 'EX_cpd00007_e0', 'EX_cpd00028_e0'): 2,\n",
      " ('EX_cpd00104_e0', 'EX_cpd00048_e0', 'EX_cpd00028_e0', 'EX_cpd00007_e0'): 3}\n"
     ]
    },
    {
     "name": "stderr",
     "output_type": "stream",
     "text": [
      "C:\\Users\\Andrew Freiburger\\AppData\\Local\\Programs\\Python\\Python39\\lib\\site-packages\\cobra\\medium\\boundary_types.py:60: FutureWarning: The default dtype for empty Series will be 'object' instead of 'float64' in a future version. Specify a dtype explicitly to silence this warning.\n",
      "  matches = pd.Series(\n"
     ]
    }
   ],
   "source": [
    "from itertools import permutations\n",
    "from math import isclose\n",
    "\n",
    "# identify additionally redundant compounds\n",
    "redundnant_cpds = set()\n",
    "for cpd in media[\"community_media\"]:\n",
    "    new_media = media[\"community_media\"].copy()\n",
    "    new_media.pop(cpd)\n",
    "    community_model = com_model\n",
    "    community_model.medium = new_media\n",
    "    sol = community_model.optimize()\n",
    "    if isclose(sol.objective_value, original_obj_value, abs_tol=1e-7):\n",
    "        print(\"redundant cpd:\", cpd)\n",
    "        redundnant_cpds.add(cpd)\n",
    "        \n",
    "# vet the permutations\n",
    "permuts = permutations(redundnant_cpds)\n",
    "# print([x for x in permuts])\n",
    "permutation_results = {}\n",
    "community_model = com_model\n",
    "for permut in permuts:\n",
    "    success = 0\n",
    "    new_media = media[\"community_media\"].copy()\n",
    "    for cpd in permut:\n",
    "        # parameterize and simulate the community\n",
    "        new_media.pop(cpd)\n",
    "        community_model.medium = new_media\n",
    "        sol = community_model.optimize()\n",
    "        if isclose(sol.objective_value, original_obj_value, abs_tol=1e-7):\n",
    "            success += 1\n",
    "            print(f\"redundant cpd {cpd} removed\")\n",
    "            continue\n",
    "        print(f\"objective value discrepancy:\", sol.objective_value, original_obj_value)\n",
    "        break\n",
    "    permutation_results[permut] = success\n",
    "pprint(permutation_results)"
   ]
  },
  {
   "cell_type": "code",
   "execution_count": 13,
   "id": "09e79b1f-cd20-4b37-9996-342b240b6765",
   "metadata": {},
   "outputs": [
    {
     "name": "stdout",
     "output_type": "stream",
     "text": [
      "Removable combinations:\n",
      "{'EX_cpd00028_e0', 'EX_cpd00007_e0', 'EX_cpd00104_e0'}\n",
      "{'EX_cpd00028_e0', 'EX_cpd00048_e0', 'EX_cpd00104_e0'}\n"
     ]
    }
   ],
   "source": [
    "max_redundancy = max(list(permutation_results.values()))\n",
    "top_redundancies = {k:v for k,v in permutation_results.items() if v==max_redundancy}\n",
    "combinations = []\n",
    "for permut in top_redundancies:\n",
    "    num_mets = len(permut)\n",
    "    start_removal_index =  max_redundancy - num_mets\n",
    "    removable_compounds = set(list(permut)[:start_removal_index])\n",
    "    if removable_compounds not in combinations:\n",
    "        combinations.append(removable_compounds)\n",
    "    \n",
    "# pprint(top_redundancies)\n",
    "print(\"Removable combinations:\")\n",
    "for com in combinations:\n",
    "    print(com)\n",
    "# !!! The redundancies reveal (evident in the uniformity of the last elements in the top permutations) that the only stipulation of these redundancies is that either EX_cpd00007_e0 or EX_cpd00048_e0 can be removed, but not both"
   ]
  },
  {
   "cell_type": "code",
   "execution_count": 6,
   "id": "e7196db1-2cfd-4ed9-9592-556fb57210eb",
   "metadata": {
    "collapsed": true,
    "jupyter": {
     "outputs_hidden": true
    },
    "tags": []
   },
   "outputs": [
    {
     "name": "stderr",
     "output_type": "stream",
     "text": [
      "C:\\Users\\Andrew Freiburger\\AppData\\Local\\Programs\\Python\\Python39\\lib\\site-packages\\cobra\\medium\\boundary_types.py:60: FutureWarning: The default dtype for empty Series will be 'object' instead of 'float64' in a future version. Specify a dtype explicitly to silence this warning.\n",
      "  matches = pd.Series(\n",
      "C:\\Users\\Andrew Freiburger\\AppData\\Local\\Programs\\Python\\Python39\\lib\\site-packages\\cobra\\medium\\boundary_types.py:60: FutureWarning: The default dtype for empty Series will be 'object' instead of 'float64' in a future version. Specify a dtype explicitly to silence this warning.\n",
      "  matches = pd.Series(\n",
      "C:\\Users\\Andrew Freiburger\\AppData\\Local\\Programs\\Python\\Python39\\lib\\site-packages\\cobra\\medium\\minimal_medium.py:112: FutureWarning: The default dtype for empty Series will be 'object' instead of 'float64' in a future version. Specify a dtype explicitly to silence this warning.\n",
      "  medium = pd.Series()\n",
      "C:\\Users\\Andrew Freiburger\\AppData\\Local\\Programs\\Python\\Python39\\lib\\site-packages\\cobra\\medium\\boundary_types.py:60: FutureWarning: The default dtype for empty Series will be 'object' instead of 'float64' in a future version. Specify a dtype explicitly to silence this warning.\n",
      "  matches = pd.Series(\n",
      "C:\\Users\\Andrew Freiburger\\AppData\\Local\\Programs\\Python\\Python39\\lib\\site-packages\\cobra\\medium\\boundary_types.py:60: FutureWarning: The default dtype for empty Series will be 'object' instead of 'float64' in a future version. Specify a dtype explicitly to silence this warning.\n",
      "  matches = pd.Series(\n",
      "C:\\Users\\Andrew Freiburger\\AppData\\Local\\Programs\\Python\\Python39\\lib\\site-packages\\cobra\\medium\\boundary_types.py:60: FutureWarning: The default dtype for empty Series will be 'object' instead of 'float64' in a future version. Specify a dtype explicitly to silence this warning.\n",
      "  matches = pd.Series(\n",
      "C:\\Users\\Andrew Freiburger\\AppData\\Local\\Programs\\Python\\Python39\\lib\\site-packages\\cobra\\medium\\boundary_types.py:60: FutureWarning: The default dtype for empty Series will be 'object' instead of 'float64' in a future version. Specify a dtype explicitly to silence this warning.\n",
      "  matches = pd.Series(\n",
      "C:\\Users\\Andrew Freiburger\\AppData\\Local\\Programs\\Python\\Python39\\lib\\site-packages\\cobra\\medium\\minimal_medium.py:112: FutureWarning: The default dtype for empty Series will be 'object' instead of 'float64' in a future version. Specify a dtype explicitly to silence this warning.\n",
      "  medium = pd.Series()\n",
      "C:\\Users\\Andrew Freiburger\\AppData\\Local\\Programs\\Python\\Python39\\lib\\site-packages\\cobra\\medium\\boundary_types.py:60: FutureWarning: The default dtype for empty Series will be 'object' instead of 'float64' in a future version. Specify a dtype explicitly to silence this warning.\n",
      "  matches = pd.Series(\n",
      "C:\\Users\\Andrew Freiburger\\AppData\\Local\\Programs\\Python\\Python39\\lib\\site-packages\\cobra\\medium\\boundary_types.py:60: FutureWarning: The default dtype for empty Series will be 'object' instead of 'float64' in a future version. Specify a dtype explicitly to silence this warning.\n",
      "  matches = pd.Series(\n"
     ]
    },
    {
     "data": {
      "text/plain": [
       "{'dictionary_item_removed': [root['EX_cpd00009_e0'], root['EX_cpd10515_e0']],\n",
       " 'values_changed': {\"root['EX_cpd00205_e0']\": {'new_value': 0.03807159999994848,\n",
       "   'old_value': 0.019035799999983283},\n",
       "  \"root['EX_cpd00254_e0']\": {'new_value': 0.0025842000000062897,\n",
       "   'old_value': 0.0012921000000005733},\n",
       "  \"root['EX_cpd00149_e0']\": {'new_value': 0.0009384000000349522,\n",
       "   'old_value': 0.0004692000000265238},\n",
       "  \"root['EX_cpd00030_e0']\": {'new_value': 0.0010652000000347507,\n",
       "   'old_value': 0.0005326000000265237},\n",
       "  \"root['EX_cpd00063_e0']\": {'new_value': 0.001924000000079095,\n",
       "   'old_value': 0.0009620000000722939},\n",
       "  \"root['EX_cpd00166_e0']\": {'new_value': 0.0009781999999899616,\n",
       "   'old_value': 0.0004890999999815904},\n",
       "  \"root['EX_sphmyln_bt_e0']\": {'new_value': 0.0009336000000084534,\n",
       "   'old_value': 0.00046680000000000815},\n",
       "  \"root['EX_cpd01017_e0']\": {'new_value': 527.9357806885835,\n",
       "   'old_value': 524.6869513460247},\n",
       "  \"root['EX_cpd00007_e0']\": {'new_value': 597.5563440940118,\n",
       "   'old_value': 589.8102637476218},\n",
       "  \"root['EX_cpd00034_e0']\": {'new_value': 0.0009984000000347116,\n",
       "   'old_value': 0.0004992000000265238},\n",
       "  \"root['EX_cpd00028_e0']\": {'new_value': 0.0009336000000349691,\n",
       "   'old_value': 0.0004668000000265238},\n",
       "  \"root['EX_cpd00971_e0']\": {'new_value': 0.000933599999921265,\n",
       "   'old_value': 0.00046679999991283694},\n",
       "  \"root['EX_cpd00099_e0']\": {'new_value': 0.000990400000044126,\n",
       "   'old_value': 0.0004952000000457701},\n",
       "  \"root['EX_cpd00541_e0']\": {'new_value': 5.999999999990041e-07,\n",
       "   'old_value': 3.0000000000000004e-07},\n",
       "  \"root['EX_cpd11574_e0']\": {'new_value': 4.199999999985157e-06,\n",
       "   'old_value': 2.1000000000000002e-06},\n",
       "  \"root['EX_cpd00048_e0']\": {'new_value': 0.050301800000001604,\n",
       "   'old_value': 0.02515090000008513},\n",
       "  \"root['EX_cpd00104_e0']\": {'new_value': 3.999999999985863e-07,\n",
       "   'old_value': 2e-07},\n",
       "  \"root['EX_cpd00058_e0']\": {'new_value': 0.00013479999999977622,\n",
       "   'old_value': 6.739999999999998e-05},\n",
       "  \"root['EX_cpd00244_e0']\": {'new_value': 6.139999999975591e-05,\n",
       "   'old_value': 3.07e-05},\n",
       "  \"root['EX_cpd00126_e0']\": {'new_value': 780.4971163140588,\n",
       "   'old_value': 778.98554843768},\n",
       "  \"root['EX_cpd03725_e0']\": {'new_value': 797.905560620297,\n",
       "   'old_value': 796.9190117362326}}}"
      ]
     },
     "execution_count": 6,
     "metadata": {},
     "output_type": "execute_result"
    }
   ],
   "source": [
    "from deepdiff import DeepDiff\n",
    "unsynergized_media = MSCommunity.estimate_minimal_community_media(models, syntrophy=False)\n",
    "DeepDiff(unsynergized_media[\"community_media\"], media[\"community_media\"])\n",
    "# refined_com_media = com_media.drop(com_media.loc[com_media.gt(0)])\n",
    "# print(refined_com_media)"
   ]
  },
  {
   "cell_type": "code",
   "execution_count": null,
   "id": "02535f39-2b8a-418f-ad06-e64f0010e65a",
   "metadata": {},
   "outputs": [],
   "source": [
    "from math import isclose\n",
    "redundnant_cpds, partially_redundant = set(), set()\n",
    "for cpd in media[\"community_media\"]:\n",
    "    new_media = media[\"community_media\"].copy()\n",
    "    new_media.pop(cpd)\n",
    "    community_model = com_model\n",
    "    community_model.medium = new_media\n",
    "    sol = community_model.optimize()\n",
    "    if isclose(sol.objective_value, original_obj_value, abs_tol=1e-7):\n",
    "        print(\"redundant cpd:\", cpd, \"objective value difference:\", sol.objective_value, original_obj_value)\n",
    "        redundnant_cpds.add(cpd)\n",
    "    elif sol.objective_value > original_obj_value:\n",
    "        print(\"restraining cpd:\", cpd, \"\\nobjective value:\", sol.objective_value)\n",
    "    elif not isclose(sol.objective_value, 0, abs_tol=1e-7):\n",
    "        partially_redundant.add(cpd)\n",
    "        print(\"partially redundant\", cpd, \"\\nobjective value:\", sol.objective_value)\n",
    "if not redundnant_cpds:\n",
    "    print(\"The media is minimal.\")"
   ]
  },
  {
   "cell_type": "code",
   "execution_count": 27,
   "id": "d6946ab8-0d36-457f-8705-34ee8b90bac0",
   "metadata": {},
   "outputs": [
    {
     "name": "stdout",
     "output_type": "stream",
     "text": [
      "<class 'pandas.core.series.Series'>\n",
      "0.0\n"
     ]
    }
   ],
   "source": [
    "sol = model2.optimize()\n",
    "print(type(sol.fluxes))\n",
    "if \"rxn01256_c0\" in sol.fluxes:\n",
    "    print(sol.fluxes[\"rxn01256_c0\"])\n",
    "# for content, flux in sol.fluxes.items():\n",
    "#     print(content, flux)"
   ]
  },
  {
   "cell_type": "code",
   "execution_count": 14,
   "id": "3ccc1b71-86d1-4b13-97af-3cccaed36b21",
   "metadata": {
    "tags": []
   },
   "outputs": [
    {
     "name": "stdout",
     "output_type": "stream",
     "text": [
      "['12DGR120tipp_p1', '12DGR140tipp_p1', '12DGR141tipp_p1', '12DGR160tipp_p1', '12DGR161tipp_p1', '12DGR180tipp_p1', '12DGR181tipp_p1', '12ETHDt_c2', '12PPDRt_c2', '12PPDRtex_p1', '12PPDRtpp_p1', '12PPDStex_p1', '12PPDStpp_p1', '12PPDt_c2', '14GLUCANabcpp_p1', '14GLUCANtexi_p1', '23CAMPtex_p1', '23CCMPtex_p1', '23CGMPtex_p1', '23CUMPtex_p1', '23DAPPAt2pp_p1', '23DAPPAtex_p1', '23DOGULNt4pp_p1', '23PDE2_c2', '23PDE4_c2', '23PDE7_c2', '23PDE9_c2', '26DAHtex_p1', '26DAPLLATi_c2', '2AGPA120tipp_p1', '2AGPA140tipp_p1', '2AGPA141tipp_p1', '2AGPA160tipp_p1', '2AGPA161tipp_p1', '2AGPA180tipp_p1', '2AGPA181tipp_p1', '2AGPE120tipp_p1', '2AGPE140tipp_p1', '2AGPE141tipp_p1', '2AGPE160tipp_p1', '2AGPE161tipp_p1', '2AGPE180tipp_p1', '2AGPE181tipp_p1', '2AGPEAT120_c1', '2AGPEAT140_c1', '2AGPEAT181_c1', '2AGPG120tipp_p1', '2AGPG140tipp_p1', '2AGPG141tipp_p1', '2AGPG160tipp_p1', '2AGPG161tipp_p1', '2AGPG180tipp_p1', '2AGPG181tipp_p1', '2AGPGAT140_c1', '2AGPGAT160_c1', '2AGPGAT180_c1', '2AGPGAT181_c1', '2AMEPHPAT_c2', '2DGLCptspp_p1', '2DGLCtex_p1', '2DGULRGx_c1', '2DGULRGy_c1', '2FUCLAC__DASH__FUCASEe_c2', '2HESR_c1', '2HPTCOAT_c1', '2MBCOATA_c2', '2MMALD2_c2', '2MMALD_c2', '34dhpactex_p1', '3AMPtex_p1', '3CMPtex_p1', '3DSPHR_c2', '3FUCLAC__DASH__FUCASEe_c2', '3GMPtex_p1', '3HACPR1_c2', '3HACPR2_c2', '3HAD100_c2', '3HAD10M11_c2', '3HAD10M12_c2', '3HAD11M12_c2', '3HAD120_c2', '3HAD121_c2', '3HAD12M13_c2', '3HAD12M14_c2', '3HAD13M14_c2', '3HAD140_c2', '3HAD141_c2', '3HAD14M15_c2', '3HAD14M16_c2', '3HAD15M16_c2', '3HAD160_c2', '3HAD161_c2', '3HAD180_c1', '3HAD180_c2', '3HAD181_c2', '3HAD40_c2', '3HAD4M5_c2', '3HAD4M6_c2', '3HAD5M6_c2', '3HAD60_c2', '3HAD6M7_c2', '3HAD6M8_c2', '3HAD7M8_c2', '3HAD80_c2', '3HAD8M10_c2', '3HAD8M9_c2', '3HAD9M10_c2', '3HBZCT_c1', '3HPPtex_p1', '3HPPtpp_p1', '3OAACPR1_c2', '3OAACPR2_c2', '3OAR100_c2', '3OAR10M11_c2', '3OAR10M12_c2', '3OAR11M12_c2', '3OAR120_c2', '3OAR121_c2', '3OAR12M13_c2', '3OAR12M14_c2', '3OAR13M14_c2', '3OAR140_c2', '3OAR141_c2', '3OAR14M15_c2', '3OAR14M16_c2', '3OAR15M16_c2', '3OAR160_c2', '3OAR161_c2', '3OAR180_c2', '3OAR181_c2', '3OAR40_c2', '3OAR4M5_c2', '3OAR4M6_c2', '3OAR5M6_c2', '3OAR60_c2', '3OAR6M7_c2', '3OAR6M8_c2', '3OAR7M8_c2', '3OAR80_c2', '3OAR8M10_c2', '3OAR8M9_c2', '3OAR9M10_c2', '3OAS100_c2', '3OAS10M11_c2', '3OAS10M12_c2', '3OAS11M12_c2', '3OAS120_c2', '3OAS121_c2', '3OAS12M13_c2', '3OAS12M14_c2', '3OAS13M14_c2', '3OAS140_c2', '3OAS141_c2', '3OAS160_c2', '3OAS161_c2', '3OAS180_c2', '3OAS181_c2', '3OAS2M3_c2', '3OAS3M4_c2', '3OAS4M3O6_c2', '3OAS4M5_c2', '3OAS4M6_c2', '3OAS5M6_c2', '3OAS60_c2', '3OAS6M7_c2', '3OAS6M8_c2', '3OAS7M8_c2', '3OAS80_c2', '3OAS8M10_c2', '3OAS8M9_c2', '3OAS9M10_c2', '3PEPTabcpp_p1', '3PEPTtex_p1', '3POPDC_c2', '3SLAR_c1', '3UMPtex_p1', '4ABZGLUH_c1', '4ABZGLUtex_p1', '4ABZGLUtr_p1', '4HBZF_c2', '4HBZt3pp_p1', '4HBZt_c2', '4HOXPACDtex_p1', '4HPHACt_c2', '4HTHRK_c1', '4HTHRS_c2', '4PEPTabcpp_p1', '4PEPTtex_p1', '5DGLCNt2rpp_p1', '5DGLCNtex_p1', '5DOAN_c2', '5MTRtex_p1', '5MTRtpp_p1', '6D6SFK_c1', '6D6SPA_c1', '7AHSDH_c2', '7OCHOLATEt2_c2', 'A5PISO_c2', 'AACPS5_c1', 'ABUTt2pp_p1', 'ABUTtex_p1', 'ACACt2pp_p1', 'ACACtex_p1', 'ACALDtex_p1', 'ACALDtpp_p1', 'ACCOAC_c2', 'ACETOLt_c2', 'ACGAL1Ptex_p1', 'ACGALK3_c2', 'ACGALr_c2', 'ACGALtex_p1', 'ACGAM1Ptex_p1', 'ACGAM2E_c2', 'ACGAMK_c2', 'ACGAMPM_c2', 'ACGAMT_c2', 'ACGAMtr_c2', 'ACGAptspp_p1', 'ACGAtex_p1', 'ACGK_c2', 'ACGS_c2', 'ACHBS_c2', 'ACKr_c2', 'ACLS_c2', 'ACMANAptspp_p1', 'ACMANAtex_p1', 'ACMUMptspp_p1', 'ACMUMtex_p1', 'ACNAM9PL2_c2', 'ACNAMt2pp_p1', 'ACNAMt2r_c2', 'ACNAMtex_p1', 'ACOAAGPAT140_c2', 'ACOAAGPAT160_c2', 'ACOAAGPAT180_c2', 'ACOAAGPATAI15_c2', 'ACOAAGPATAI17_c2', 'ACOAAGPATI14_c2', 'ACOAAGPATI15_c2', 'ACOAAGPATI16_c2', 'ACOAAGPATI17_c2', 'ACOAD1f_c1', 'ACOATA_c2', 'ACODA_c2', 'ACOLIPAabctex_p1', 'ACONTa_c2', 'ACONTb_c2', 'ACOTA_c2', 'ACOXT_c1', 'ACPPAT120_c1', 'ACPPAT140_c1', 'ACPPAT141_c1', 'ACPPAT160_c1', 'ACPPAT161_c1', 'ACPPAT180_c1', 'ACPPAT181_c1', 'ACPS1_c1', 'ACPS1_c2', 'ACS2_c2', 'ACSERtex_p1', 'ACSERtpp_p1', 'ACS_c2', 'ACTNDH_c2', 'ACt2rpp_p1', 'ACt4pp_p1', 'ACtex_p1', 'ACtr_c2', 'ADCL_c2', 'ADEt2rpp_p1', 'ADEtex_p1', 'ADK1_c2', 'ADK2_c2', 'ADNUC_c2', 'ADNt2_c2', 'ADNt2pp__DASH__copy1_p1', 'ADNt2pp__DASH__copy2_p1', 'ADNtex_p1', 'ADOCBLabc_c2', 'ADOCBLabcpp_p1', 'ADOCBLtonex_p1', 'ADPRDP_c1', 'ADPT_c2', 'ADSK_c2', 'ADSL1r_c2', 'ADSL2r_c2', 'ADSS_c2', 'AGDC2_c2', 'AGDC_c2', 'AGM3Pt2pp_p1', 'AGM4Pt2pp_p1', 'AGMD_c2', 'AGMHE_c2', 'AGMt2pp_p1', 'AGMtex_p1', 'AGPAT120_c2', 'AGPAT140_c1', 'AGPAT140_c2', 'AGPAT160_c2', 'AGPAT180_c2', 'AGPAT181_c1', 'AGPAT181_c2', 'AGPR_c2', 'AGt3_e0', 'AHCYSNS__DASH__r_c2', 'AHC_c2', 'AHEXASE2e_c2', 'AHEXASE3e_c2', 'AHEXASEe_c2', 'AHMMPS_c2', 'AHSERL2_c2', 'AHSERL3_c2', 'AI2K_c1', 'AI2abcpp_p1', 'AI2tex_p1', 'AI2tpp_p1', 'AICART_c2', 'AIHPDCOATA_c2', 'AIPDCOATA_c2', 'AIRC2_c2', 'AIRC3_c2', 'AIRCr_c2', 'AKGt2rpp_p1', 'AKGtex_p1', 'AKP1_c2', 'ALAALADe_c2', 'ALAALA_c2', 'ALAALAabcpp_p1', 'ALAALAtex_p1', 'ALAASP1c_c2', 'ALAASPt_c2', 'ALAD__DASH__R_c2', 'ALAGLN1c_c2', 'ALAGLNt_c2', 'ALAGLU1c_c2', 'ALAGLUt_c2', 'ALAGLY1c_c2', 'ALAGLYt_c2', 'ALAHIS1c_c2', 'ALAHISt_c2', 'ALALEU1c_c2', 'ALALEUt_c2', 'ALAR_c2', 'ALATHR1c_c2', 'ALATHRt_c2', 'ALAabcpp_p1', 'ALAt2pp_p1', 'ALAt4pp_p1', 'ALAt4r_c2', 'ALAtex_p1', 'ALAtpp_p1', 'ALCD19_c2', 'ALCD2x_c2', 'ALKP_c2', 'ALLTNt2rpp_p1', 'ALLTNtex_p1', 'ALLabcpp_p1', 'ALLtex_p1', 'ALPATG160pp_p1', 'ALR2_c2', 'ALR4x_c2', 'ALTRH_c1', 'ALTRH_c2', 'AMAA_c2', 'AMALT1_c1', 'AMALT1_c2', 'AMALT2_c1', 'AMALT2_c2', 'AMALT3_c2', 'AMALT4_c2', 'AMANNANASEe_c2', 'AMAOTr_c2', 'AMMQLT10_c2', 'AMMQLT11_c2', 'AMMQLT7_c2', 'AMMQLT8_c2', 'AMMQLT9_c2', 'AMMQT8__DASH__2_c2', 'AMPNTAT_c1', 'AMPN_c2', 'AMPTASECG_c2', 'AMPTASEPG_c2', 'AMPTASEPGe_c2', 'AMPtex_p1', 'AMY1e_c2', 'AMYLe_c2', 'AMYe_c2', 'ANHGMtex_p1', 'ANPRT_c2', 'ANS2_c2', 'ANS_c2', 'AOBUTDs_c2', 'AOXSr2_c2', 'AOXSr_c2', 'APG3PAT120_c1', 'APG3PAT140_c1', 'APG3PAT141_c1', 'APG3PAT160_c1', 'APG3PAT161_c1', 'APG3PAT180_c1', 'APG3PAT181_c1', 'APH120_c1', 'APH140_c1', 'APH141_c1', 'APH160_c1', 'APH161_c1', 'APH180_c1', 'APH181_c1', 'APRAUR_c2', 'ARABASE3e_c2', 'ARABINANASEe_c2', 'ARABINOGALASEe_c2', 'ARAI_c2', 'ARBTNabcpp_p1', 'ARBTNtex_p1', 'ARBTNtonex_p1', 'ARBTNtpp_p1', 'ARBTptspp_p1', 'ARBTtex_p1', 'ARBabcpp_p1', 'ARBt2r_c2', 'ARBt2rpp_p1', 'ARBt3ipp_p1', 'ARBtex_p1', 'ARGAGMt7pp_p1', 'ARGARG1c_c2', 'ARGARGt_c2', 'ARGDC_c2', 'ARGN_c2', 'ARGORNt7pp_p1', 'ARGSL_c2', 'ARGSSr_c2', 'ARGabc_c2', 'ARGabcpp_p1', 'ARGt3pp_p1', 'ARGtex_p1', 'ARMEPNS_c1', 'AROH_c2', 'AS3TASE__DASH__HS1_c2', 'AS3TASE__DASH__HS2_c2', 'AS6TASE__DASH__HS1_c2', 'AS6TASE__DASH__HS2_c2', 'ASADi_c2', 'ASCBptspp_p1', 'ASCBtex_p1', 'ASNN_c2', 'ASNS1_c2', 'ASNS2_c2', 'ASNt2r_c2', 'ASNt2rpp_p1', 'ASNtex_p1', 'ASO3t8pp_p1', 'ASO3tex_p1', 'ASP1DC_c2', 'ASPCT_c2', 'ASPK_c2', 'ASPO1_c2', 'ASPO5_c2', 'ASPO6_c2', 'ASPTA_c2', 'ASPT_c2', 'ASPabcpp_p1', 'ASPt2__DASH__2pp_p1', 'ASPt2__DASH__3pp_p1', 'ASPt2pp_p1', 'ASPt2r_c2', 'ASPtex_p1', 'ASPtpp_p1', 'ATPM_c2', 'ATPPRT_c2', 'ATPS4_c2', 'ATPS4rpp_p1', 'A__DASH__MANASEe_c2', 'BACCL_c2', 'BALAt2pp_p1', 'BALAtex_p1', 'BGLA_c2', 'BMOCOS_c1', 'BMOGDS1_c1', 'BMOGDS2_c1', 'BPNT_c2', 'BTNPL_c2', 'BTNt2_c2', 'BTNt2ipp_p1', 'BTNtex_p1', 'BTS4_c2', 'BTS5_c1', 'BUTK_c2', 'BUTSO3abcpp_p1', 'BUTSO3tex_p1', 'BUTt2rpp_p1', 'BUTtex_p1', 'BWCOGDS1_c1', 'BWCOGDS2_c1', 'BWCOS_c1', 'BZF_c2', 'BZt_c2', 'B__DASH__MANNASEe_c2', 'CA2abc_c2', 'CA2t3pp_p1', 'CA2tex_p1', 'CADVtpp_p1', 'CARNCNc_c2', 'CARPEPT1tr_c2', 'CAT_c2', 'CAt6pp_p1', 'CAt7r_c2', 'CBItonex_p1', 'CBIuabcpp_p1', 'CBL1abc_c2', 'CBL1abcpp_p1', 'CBL1tonex_p1', 'CBLAT_c2', 'CBPS_c2', 'CCP_c2', 'CD2abc1_c2', 'CD2abcpp_p1', 'CD2t3pp_p1', 'CD2tex_p1', 'CD2tpp_p1', 'CDGS_c1', 'CDGUNPD_c1', 'CDPGHL_c2', 'CDPMEK_c2', 'CELBpts_e0', 'CEPTC__DASH__BT_c2', 'CEPTE__DASH__BT_c2', 'CERS__DASH__BT_c2', 'CGLYabcpp_p1', 'CGLYt3__DASH__2__DASH___c2', 'CGLYtex_p1', 'CH4t2pp_p1', 'CH4tex_p1', 'CHLPCTD_c2', 'CHLabcpp_p1', 'CHLt2pp_p1', 'CHLt3pp_p1', 'CHLtex_p1', 'CHOLATEtpp_p1', 'CHOLID_c1', 'CHOLK_c2', 'CHOLSH_c2', 'CHORM_c2', 'CHORS_c2', 'CHTBSptspp_p1', 'CHTBStex_p1', 'CITRAMALS_c2', 'CITt3pp_p1', 'CITt7pp_p1', 'CITtex_p1', 'CKDNS_c2', 'CLBtex_p1', 'CLIPAabctex_p1', 'CLPNS140_c2', 'CLPNS160_c2', 'CLPNS180_c2', 'CLPNSAI15_c2', 'CLPNSAI17_c2', 'CLPNSI14_c2', 'CLPNSI15_c2', 'CLPNSI16_c2', 'CLPNSI17_c2', 'CLt3__DASH__2pp_p1', 'CLtex_p1', 'CLtipp_p1', 'CMLDC_c2', 'CMPtex_p1', 'CMtex_p1', 'CMtpp_p1', 'CO2t_c2', 'CO2tex_p1', 'CO2tpp_p1', 'COBALT2abcpp_p1', 'COBALT2t3pp_p1', 'COBALT2tex_p1', 'COBALT2tpp_p1', 'COBALTt5_c2', 'COLIPAKpp_p1', 'COLIPAPabctex_p1', 'COLIPAabcpp_p1', 'COLIPAabctex_p1', 'CPGNUtex_p1', 'CPGNUtpp_p1', 'CPGNabcpp_p1', 'CPGNtonex_p1', 'CPL_c1', 'CPSS__DASH__BT_c2', 'CPS__DASH__BT__DASH__ABC_c2', 'CRNCBCT_c1', 'CRNDabcpp_p1', 'CRNDt2rpp_p1', 'CRNDtex_p1', 'CRNabcpp_p1', 'CRNt2rpp_p1', 'CRNt7pp_p1', 'CRNt8pp_p1', 'CRNtex_p1', 'CS1tex_p1', 'CS4TASE2_c2', 'CS4TASE_c2', 'CS6TASE_c2', 'CSABCASE__DASH__A__DASH__e_c2', 'CSABCASE__DASH__B__DASH__e_c2', 'CSABCASE__DASH__C__DASH__e_c2', 'CSNt2pp_p1', 'CSNtex_p1', 'CSPMDDC_c2', 'CSPMDDH_c2', 'CS_c2', 'CTBTCAL2_c1', 'CTBTabc_c2', 'CTBTabcpp_p1', 'CTBTt2rpp_p1', 'CTPS1_c2', 'CTPS2_c2', 'CU1abcpp_p1', 'CU2abcpp_p1', 'CU2tex_p1', 'CU2tpp_p1', 'CUt2pp_p1', 'CUt3_e0', 'CUtex_p1', 'CXSAMS_c1', 'CYANtex_p1', 'CYNTt2pp_p1', 'CYNTtex_p1', 'CYSDS_c2', 'CYSDabcpp_p1', 'CYSDtex_p1', 'CYSItex_p1', 'CYSItpp_p1', 'CYSS3r_c2', 'CYSS_c2', 'CYSTL_c2', 'CYSabc2pp_p1', 'CYSabcpp_p1', 'CYSt2r_c2', 'CYStex_p1', 'CYStpp_p1', 'CYTBD2_c2', 'CYTBD2pp_p1', 'CYTBD_c2', 'CYTBDpp_p1', 'CYTBO3__DASH__4pp_p1', 'CYTDK1_c2', 'CYTDK2_c2', 'CYTDK3_c2', 'CYTDK4_c2', 'CYTD_c2', 'CYTDt2pp__DASH__copy1_p1', 'CYTDt2pp__DASH__copy2_p1', 'CYTDt2r_c2', 'CYTDtex_p1', 'CYTK1_c2', 'CYTK2_c2', 'Clt_c2', 'Cuabc_c2', 'Cut1_c2', 'DADK_c2', 'DADNt2pp_p1', 'DADNt2r_c2', 'DADNtex_p1', 'DAGK160_c2', 'DALAt2pp_p1', 'DALAt2r_c2', 'DALAtex_p1', 'DAMPtex_p1', 'DAPDC_c2', 'DAPE_c2', 'DAPMDH_c2', 'DAPabcpp_p1', 'DAPtex_p1', 'DASYN120_c2', 'DASYN140_c2', 'DASYN160_c2', 'DASYN180_c2', 'DASYN181_c2', 'DASYNAI15_c2', 'DASYNAI17_c2', 'DASYNI14_c2', 'DASYNI15_c2', 'DASYNI16_c2', 'DASYNI17_c2', 'DB4PS_c2', 'DBTS_c2', 'DC6PDA_c1', 'DCAtex_p1', 'DCMPDA_c2', 'DCMPtex_p1', 'DCYTD_c2', 'DCYTt2pp_p1', 'DCYTt2r_c2', 'DCYTtex_p1', 'DDCAtexi_p1', 'DDGALK_c1', 'DDGLCNt2rpp_p1', 'DDGLCNtex_p1', 'DDGLK_c1', 'DDGLKr_c2', 'DDPA_c2', 'DDPGA_c2', 'DEXTRAN40e_c2', 'DGC3D2_c2', 'DGC3D_c2', 'DGK1_c2', 'DGMPtex_p1', 'DGSNt2_c2', 'DGSNt2pp_p1', 'DGSNtex_p1', 'DGUNC_c1', 'DHAD1_c2', 'DHAD2_c2', 'DHAtex_p1', 'DHAtpp_p1', 'DHBSH_c1', 'DHBSZ3FEabcpp_p1', 'DHDPRy_c2', 'DHDPS_c2', 'DHFR_c2', 'DHFS_c2', 'DHMPTR_c1', 'DHNAOT10_c2', 'DHNAOT11_c2', 'DHNAOT4_c2', 'DHNAOT7_c2', 'DHNAOT9_c2', 'DHNCOAS_c1', 'DHNCOAT_c1', 'DHNPA_c2', 'DHNPTE_c1', 'DHORDfum_c2', 'DHORDi_c2', 'DHORTS_c2', 'DHPPDA_c2', 'DHPS3_c2', 'DHPS_c2', 'DHPStex_p1', 'DHPStr_p1', 'DHQS_c2', 'DHQTi_c2', 'DIMPtex_p1', 'DINSt2_c2', 'DINSt2pp_p1', 'DINStex_p1', 'DMATT_c2', 'DMPPS2_c2', 'DMPPS_c2', 'DMQMT_c2', 'DMSOR1pp_p1', 'DMSOR2pp_p1', 'DMSOtex_p1', 'DMSOtpp_p1', 'DMStex_p1', 'DM__DASH__4HBA_c2', 'DM__DASH__5DRIB_c2', 'DM__DASH__AMOB_c2', 'DM_cpd01027_c1', 'DM_cpd01042_c1', 'DM_cpd02701_c1', 'DM_cpd04122_c1', 'DM_cpd15127_c1', 'DM_cpd15380_c1', 'DOPAtex_p1', 'DOXRBCNtex_p1', 'DOXRBCNtpp_p1', 'DPCOAK_c2', 'DPR_c2', 'DRBKr_c2', 'DRPAr_c2', 'DSBAO1_p1', 'DSBAO2_p1', 'DSERt2pp_p1', 'DSERtex_p1', 'DT5HSUt2r_c2', 'DTARTD_c1', 'DTMPK_c2', 'DTMPtex_p1', 'DUMPtex_p1', 'DURIK1_c2', 'DURIPP_c2', 'DURIt2_c2', 'DURIt2pp_p1', 'DURItex_p1', 'DUTPDP_c2', 'DXPRIi_c2', 'DXPS_c2', 'DXYLONtex_p1', 'DXYLONtpp_p1', 'DXYLTD_c1', 'D__DASH__LACt2_c2', 'D__DASH__LACt2pp_p1', 'D__DASH__LACtex_p1', 'E4PD_c2', 'E4PP_c1', 'EACPR1_c2', 'EACPR2_c2', 'EAR100x_c2', 'EAR10M11x_c2', 'EAR10M12x_c2', 'EAR11M12x_c2', 'EAR120x_c2', 'EAR121x_c2', 'EAR12M13x_c2', 'EAR12M14x_c2', 'EAR13M14x_c2', 'EAR140x_c2', 'EAR141x_c2', 'EAR14M15x_c2', 'EAR14M16x_c2', 'EAR15M16x_c2', 'EAR160x_c2', 'EAR161x_c2', 'EAR180x_c1', 'EAR180x_c2', 'EAR180y_c1', 'EAR181x_c2', 'EAR40x_c2', 'EAR4M5x_c2', 'EAR4M6x_c2', 'EAR5M6x_c2', 'EAR60x_c2', 'EAR6M7x_c2', 'EAR6M8x_c2', 'EAR7M8x_c2', 'EAR80x_c2', 'EAR8M10x_c2', 'EAR8M9x_c2', 'EAR9M10x_c2', 'ECA4COLIPAabctex_p1', 'ECA4OALpp_p1', 'ECAP1pp_p1', 'ECAP2pp_p1', 'ECAP3pp_p1', 'ECAtpp_p1', 'EDA__DASH__R_c2', 'EDTXS1__DASH__BT_c2', 'EDTXS4_c1', 'EHGLAT_c2', 'ENLIPAabctex_p1', 'ENO_c2', 'ENTERES_c1', 'ETHAt2pp_p1', 'ETHAtex_p1', 'ETHSO3abcpp_p1', 'ETHSO3tex_p1', 'ETOHt_c2', 'ETOHtex_p1', 'ETOHtrpp_p1', 'EX_12ethd_e0', 'EX_2fuclac_e0', 'EX_2omfuc_e0', 'EX_2omxyl_e0', 'EX_3ddlhept_e0', 'EX_3fuclac_e0', 'EX_4abzglu-e_e0', 'EX_7ocholate_e0', 'EX_Ser_Thr_e0', 'EX_T_antigen_e0', 'EX_Tn_antigen_e0', 'EX_acerA_e0', 'EX_acgalglcur_e0', 'EX_acgalidour2s_e0', 'EX_acgalidour_e0', 'EX_alaasp_e0', 'EX_alaglu_e0', 'EX_alagly_e0', 'EX_alathr_e0', 'EX_amannan140_e0', 'EX_amylose300_e0', 'EX_apio_D_e0', 'EX_arabinan101_e0', 'EX_arabinogal_e0', 'EX_arabttr_e0', 'EX_argarg_e0', 'EX_chtbs_e0', 'EX_colipap-e_e0', 'EX_core2_e0', 'EX_core3_e0', 'EX_core4_e0', 'EX_core5_e0', 'EX_core6_e0', 'EX_core7_e0', 'EX_core8_e0', 'EX_cpd00001_e0', 'EX_cpd00007_e0', 'EX_cpd00009_e0', 'EX_cpd00011_e0', 'EX_cpd00013_e0', 'EX_cpd00015_e0', 'EX_cpd00018_e0', 'EX_cpd00020_e0', 'EX_cpd00023_e0', 'EX_cpd00024_e0', 'EX_cpd00025_e0', 'EX_cpd00026_e0', 'EX_cpd00027_e0', 'EX_cpd00028_e0', 'EX_cpd00029_e0', 'EX_cpd00030_e0', 'EX_cpd00031_e0', 'EX_cpd00033_e0', 'EX_cpd00034_e0', 'EX_cpd00035_e0', 'EX_cpd00036_e0', 'EX_cpd00037_e0', 'EX_cpd00038_e0', 'EX_cpd00039_e0', 'EX_cpd00041_e0', 'EX_cpd00042_e0', 'EX_cpd00043_e0', 'EX_cpd00046_e0', 'EX_cpd00047_e0', 'EX_cpd00048_e0', 'EX_cpd00050_e0', 'EX_cpd00051_e0', 'EX_cpd00053_e0', 'EX_cpd00054_e0', 'EX_cpd00055_e0', 'EX_cpd00058_e0', 'EX_cpd00059_e0', 'EX_cpd00060_e0', 'EX_cpd00063_e0', 'EX_cpd00064_e0', 'EX_cpd00065_e0', 'EX_cpd00066_e0', 'EX_cpd00067_e0', 'EX_cpd00069_e0', 'EX_cpd00071_e0', 'EX_cpd00072_e0', 'EX_cpd00073_e0', 'EX_cpd00075_e0', 'EX_cpd00076_e0', 'EX_cpd00079_e0', 'EX_cpd00080_e0', 'EX_cpd00081_e0', 'EX_cpd00082_e0', 'EX_cpd00084_e0', 'EX_cpd00085_e0', 'EX_cpd00089_e0', 'EX_cpd00091_e0', 'EX_cpd00092_e0', 'EX_cpd00098_e0', 'EX_cpd00099_e0', 'EX_cpd00100_e0', 'EX_cpd00104_e0', 'EX_cpd00105_e0', 'EX_cpd00106_e0', 'EX_cpd00107_e0', 'EX_cpd00108_e0', 'EX_cpd00111_e0', 'EX_cpd00114_e0', 'EX_cpd00116_e0', 'EX_cpd00117_e0', 'EX_cpd00118_e0', 'EX_cpd00119_e0', 'EX_cpd00121_e0', 'EX_cpd00122_e0', 'EX_cpd00126_e0', 'EX_cpd00128_e0', 'EX_cpd00129_e0', 'EX_cpd00130_e0', 'EX_cpd00132_e0', 'EX_cpd00136_e0', 'EX_cpd00137_e0', 'EX_cpd00138_e0', 'EX_cpd00139_e0', 'EX_cpd00141_e0', 'EX_cpd00142_e0', 'EX_cpd00143_e0', 'EX_cpd00144_e0', 'EX_cpd00149_e0', 'EX_cpd00150_e0', 'EX_cpd00151_e0', 'EX_cpd00152_e0', 'EX_cpd00153_e0', 'EX_cpd00154_e0', 'EX_cpd00156_e0', 'EX_cpd00157_e0', 'EX_cpd00158_e0', 'EX_cpd00159_e0', 'EX_cpd00161_e0', 'EX_cpd00162_e0', 'EX_cpd00164_e0', 'EX_cpd00166_e0', 'EX_cpd00175_e0', 'EX_cpd00176_e0', 'EX_cpd00179_e0', 'EX_cpd00182_e0', 'EX_cpd00184_e0', 'EX_cpd00205_e0', 'EX_cpd00206_e0', 'EX_cpd00207_e0', 'EX_cpd00208_e0', 'EX_cpd00209_e0', 'EX_cpd00210_e0', 'EX_cpd00211_e0', 'EX_cpd00214_e0', 'EX_cpd00215_e0', 'EX_cpd00218_e0', 'EX_cpd00220_e0', 'EX_cpd00221_e0', 'EX_cpd00222_e0', 'EX_cpd00223_e0', 'EX_cpd00224_e0', 'EX_cpd00226_e0', 'EX_cpd00227_e0', 'EX_cpd00232_e0', 'EX_cpd00235_e0', 'EX_cpd00239_e0', 'EX_cpd00244_e0', 'EX_cpd00246_e0', 'EX_cpd00247_e0', 'EX_cpd00248_e0', 'EX_cpd00249_e0', 'EX_cpd00254_e0', 'EX_cpd00259_e0', 'EX_cpd00263_e0', 'EX_cpd00264_e0', 'EX_cpd00266_e0', 'EX_cpd00268_e0', 'EX_cpd00276_e0', 'EX_cpd00277_e0', 'EX_cpd00280_e0', 'EX_cpd00281_e0', 'EX_cpd00288_e0', 'EX_cpd00294_e0', 'EX_cpd00296_e0', 'EX_cpd00298_e0', 'EX_cpd00299_e0', 'EX_cpd00300_e0', 'EX_cpd00305_e0', 'EX_cpd00307_e0', 'EX_cpd00309_e0', 'EX_cpd00311_e0', 'EX_cpd00314_e0', 'EX_cpd00322_e0', 'EX_cpd00348_e0', 'EX_cpd00355_e0', 'EX_cpd00359_e0', 'EX_cpd00363_e0', 'EX_cpd00367_e0', 'EX_cpd00371_e0', 'EX_cpd00374_e0', 'EX_cpd00381_e0', 'EX_cpd00382_e0', 'EX_cpd00383_e0', 'EX_cpd00386_e0', 'EX_cpd00391_e0', 'EX_cpd00393_e0', 'EX_cpd00396_e0', 'EX_cpd00412_e0', 'EX_cpd00418_e0', 'EX_cpd00419_e0', 'EX_cpd00428_e0', 'EX_cpd00430_e0', 'EX_cpd00438_e0', 'EX_cpd00441_e0', 'EX_cpd00448_e0', 'EX_cpd00450_e0', 'EX_cpd00453_e0', 'EX_cpd00455_e0', 'EX_cpd00464_e0', 'EX_cpd00489_e0', 'EX_cpd00492_e0', 'EX_cpd00497_e0', 'EX_cpd00507_e0', 'EX_cpd00516_e0', 'EX_cpd00531_e0', 'EX_cpd00532_e0', 'EX_cpd00536_e0', 'EX_cpd00540_e0', 'EX_cpd00541_e0', 'EX_cpd00550_e0', 'EX_cpd00552_e0', 'EX_cpd00573_e0', 'EX_cpd00587_e0', 'EX_cpd00588_e0', 'EX_cpd00609_e0', 'EX_cpd00635_e0', 'EX_cpd00637_e0', 'EX_cpd00644_e0', 'EX_cpd00652_e0', 'EX_cpd00653_e0', 'EX_cpd00654_e0', 'EX_cpd00659_e0', 'EX_cpd00666_e0', 'EX_cpd00672_e0', 'EX_cpd00680_e0', 'EX_cpd00703_e0', 'EX_cpd00709_e0', 'EX_cpd00722_e0', 'EX_cpd00731_e0', 'EX_cpd00738_e0', 'EX_cpd00745_e0', 'EX_cpd00751_e0', 'EX_cpd00781_e0', 'EX_cpd00794_e0', 'EX_cpd00811_e0', 'EX_cpd00832_e0', 'EX_cpd00870_e0', 'EX_cpd00875_e0', 'EX_cpd00885_e0', 'EX_cpd00902_e0', 'EX_cpd00908_e0', 'EX_cpd00971_e0', 'EX_cpd00988_e0', 'EX_cpd00989_e0', 'EX_cpd01012_e0', 'EX_cpd01015_e0', 'EX_cpd01017_e0', 'EX_cpd01024_e0', 'EX_cpd01055_e0', 'EX_cpd01067_e0', 'EX_cpd01080_e0', 'EX_cpd01092_e0', 'EX_cpd01107_e0', 'EX_cpd01113_e0', 'EX_cpd01151_e0', 'EX_cpd01155_e0', 'EX_cpd01157_e0', 'EX_cpd01171_e0', 'EX_cpd01211_e0', 'EX_cpd01217_e0', 'EX_cpd01262_e0', 'EX_cpd01329_e0', 'EX_cpd01376_e0', 'EX_cpd01391_e0', 'EX_cpd01399_e0', 'EX_cpd01405_e0', 'EX_cpd01570_e0', 'EX_cpd01571_e0', 'EX_cpd01572_e0', 'EX_cpd01741_e0', 'EX_cpd01757_e0', 'EX_cpd01861_e0', 'EX_cpd01908_e0', 'EX_cpd01981_e0', 'EX_cpd02027_e0', 'EX_cpd02090_e0', 'EX_cpd02150_e0', 'EX_cpd02357_e0', 'EX_cpd02361_e0', 'EX_cpd02500_e0', 'EX_cpd02611_e0', 'EX_cpd03032_e0', 'EX_cpd03047_e0', 'EX_cpd03048_e0', 'EX_cpd03105_e0', 'EX_cpd03161_e0', 'EX_cpd03191_e0', 'EX_cpd03198_e0', 'EX_cpd03279_e0', 'EX_cpd03294_e0', 'EX_cpd03343_e0', 'EX_cpd03387_e0', 'EX_cpd03396_e0', 'EX_cpd03422_e0', 'EX_cpd03453_e0', 'EX_cpd03454_e0', 'EX_cpd03586_e0', 'EX_cpd03587_e0', 'EX_cpd03696_e0', 'EX_cpd03701_e0', 'EX_cpd03702_e0', 'EX_cpd03704_e0', 'EX_cpd03724_e0', 'EX_cpd03725_e0', 'EX_cpd03726_e0', 'EX_cpd03846_e0', 'EX_cpd03847_e0', 'EX_cpd03912_e0', 'EX_cpd03977_e0', 'EX_cpd04089_e0', 'EX_cpd04095_e0', 'EX_cpd04097_e0', 'EX_cpd04098_e0', 'EX_cpd04099_e0', 'EX_cpd04100_e0', 'EX_cpd04273_e0', 'EX_cpd04461_e0', 'EX_cpd05228_e0', 'EX_cpd06201_e0', 'EX_cpd08021_e0', 'EX_cpd08023_e0', 'EX_cpd08304_e0', 'EX_cpd08305_e0', 'EX_cpd08374_e0', 'EX_cpd08928_e0', 'EX_cpd09252_e0', 'EX_cpd09878_e0', 'EX_cpd10515_e0', 'EX_cpd10516_e0', 'EX_cpd10719_e0', 'EX_cpd10924_e0', 'EX_cpd11574_e0', 'EX_cpd11579_e0', 'EX_cpd11580_e0', 'EX_cpd11583_e0', 'EX_cpd11584_e0', 'EX_cpd11587_e0', 'EX_cpd11591_e0', 'EX_cpd11596_e0', 'EX_cpd11602_e0', 'EX_cpd11606_e0', 'EX_cpd11640_e0', 'EX_cpd11658_e0', 'EX_cpd12843_e0', 'EX_cpd14659_e0', 'EX_cpd15127_e0', 'EX_cpd15237_e0', 'EX_cpd15298_e0', 'EX_cpd15385_e0', 'EX_cpd15386_e0', 'EX_cpd15387_e0', 'EX_cpd15388_e0', 'EX_cpd15390_e0', 'EX_cpd15392_e0', 'EX_cpd15396_e0', 'EX_cpd15411_e0', 'EX_cpd15432_e0', 'EX_cpd15437_e0', 'EX_cpd15438_e0', 'EX_cpd15457_e0', 'EX_cpd15459_e0', 'EX_cpd15460_e0', 'EX_cpd15461_e0', 'EX_cpd15462_e0', 'EX_cpd15463_e0', 'EX_cpd15466_e0', 'EX_cpd15468_e0', 'EX_cpd15482_e0', 'EX_cpd15483_e0', 'EX_cpd15493_e0', 'EX_cpd15494_e0', 'EX_cpd15495_e0', 'EX_cpd15500_e0', 'EX_cpd15518_e0', 'EX_cpd15551_e0', 'EX_cpd15559_e0', 'EX_cpd15574_e0', 'EX_cpd15604_e0', 'EX_cpd15605_e0', 'EX_cpd15606_e0', 'EX_cpd15836_e0', 'EX_cpd19028_e0', 'EX_cpd21754_e0', 'EX_cpd24363_e0', 'EX_cpd25960_e0', 'EX_cpd30760_e0', 'EX_cps_bt_e0', 'EX_cspg_a_degr_e0', 'EX_cspg_a_e0', 'EX_cspg_ab_rest_e0', 'EX_cspg_b_degr_e0', 'EX_cspg_b_e0', 'EX_cspg_c_degr_e0', 'EX_cspg_c_e0', 'EX_cspg_c_rest_e0', 'EX_dhps-e_e0', 'EX_dsT_antigen_e0', 'EX_dt5hsu_e0', 'EX_f1a_e0', 'EX_fucneulacnhx_e0', 'EX_galam_e0', 'EX_gam26s_e0', 'EX_gchola_e0', 'EX_glyasn_e0', 'EX_glyasp_e0', 'EX_glycogen1500_e0', 'EX_glyglu_e0', 'EX_glypro_e0', 'EX_gncore1_e0', 'EX_gncore2_e0', 'EX_ha_deg1_e0', 'EX_ha_e0', 'EX_ha_pre1_e0', 'EX_homogal_e0', 'EX_hspg_degr_10_e0', 'EX_hspg_degr_11_e0', 'EX_hspg_degr_12_e0', 'EX_hspg_degr_13_e0', 'EX_hspg_degr_14_e0', 'EX_hspg_degr_15_e0', 'EX_hspg_degr_1_e0', 'EX_hspg_degr_2_e0', 'EX_hspg_degr_3_e0', 'EX_hspg_degr_4_e0', 'EX_hspg_degr_5_e0', 'EX_hspg_degr_6_e0', 'EX_hspg_degr_7_e0', 'EX_hspg_degr_8_e0', 'EX_hspg_degr_9_e0', 'EX_hspg_e0', 'EX_hspg_rest_e0', 'EX_idour_e0', 'EX_indlac_e0', 'EX_isobut_e0', 'EX_isocapr_e0', 'EX_isoval_e0', 'EX_kesto_e0', 'EX_kestopt_e0', 'EX_kestottr_e0', 'EX_l2n2m2mn_e0', 'EX_lacdfucttr_e0', 'EX_lacndfuchx_e0', 'EX_lacnfucpt_e0', 'EX_lacnnttr_e0', 'EX_lacnttr_e0', 'EX_leugly_e0', 'EX_leuleu_e0', 'EX_levan1000_e0', 'EX_levanb_e0', 'EX_levanttr_e0', 'EX_levantttr_e0', 'EX_lmn2_e0', 'EX_lmn30_e0', 'EX_lps_bt_e0', 'EX_m2mn_e0', 'EX_manb_e0', 'EX_manpt_e0', 'EX_mantr_e0', 'EX_manttr_e0', 'EX_mbenz_e0', 'EX_metala_e0', 'EX_metglcur-e_e0', 'EX_metsox-R-L-e_e0', 'EX_metsox-S-L-e_e0', 'EX_mn_e0', 'EX_mqn10_e0', 'EX_mqn11_e0', 'EX_mqn9_e0', 'EX_n2m2mn_e0', 'EX_neulacnttr_e0', 'EX_oligofru4_e0', 'EX_pe_cer1_bt_e0', 'EX_pect_e0', 'EX_pecticgal_e0', 'EX_phearg_e0', 'EX_phppa_e0', 'EX_plac_e0', 'EX_pullulan1200_e0', 'EX_rhamnogalurII_e0', 'EX_rhamnogalurI_e0', 'EX_s2l2fn2m2masn_e0', 'EX_s2l2n2m2m_e0', 'EX_s2l2n2m2masn_e0', 'EX_s2l2n2m2mn_e0', 'EX_sT_antigen_e0', 'EX_sTn_antigen_e0', 'EX_sphmyln_bt_e0', 'EX_sq-e_e0', 'EX_starch1200_e0', 'EX_strch1_e0', 'EX_strch2_e0', 'EX_stys_e0', 'EX_tartr-D-e_e0', 'EX_unsdigalur_e0', 'F1PGT_c2', 'F6Pt6__DASH__2pp_p1', 'F6Ptex_p1', 'FACOAE181_c1', 'FACOAL100t2pp_p1', 'FACOAL120t2pp_p1', 'FACOAL140_c2', 'FACOAL140t2pp_p1', 'FACOAL141t2pp_p1', 'FACOAL160_c2', 'FACOAL160t2pp_p1', 'FACOAL161_c2', 'FACOAL161t2pp_p1', 'FACOAL180_c2', 'FACOAL180t2pp_p1', 'FACOAL181_c2', 'FACOAL181t2pp_p1', 'FACOAL60t2pp_p1', 'FACOAL80t2pp_p1', 'FACOALAI15_c2', 'FACOALAI17_c2', 'FACOALI14_c2', 'FACOALI15_c2', 'FACOALI16_c2', 'FACOALI17_c2', 'FADt_p1', 'FADtex_p1', 'FALDtex_p1', 'FALDtpp_p1', 'FBA2_c2', 'FBA3_c2', 'FBA_c2', 'FBP_c2', 'FCI_c2', 'FCLK_c2', 'FCLPA_c2', 'FDH4pp_p1', 'FDH5pp_p1', 'FDNADOX_c2', 'FE2abc_c2', 'FE2abcpp_p1', 'FE2t2pp_p1', 'FE2t3pp_p1', 'FE2tex_p1', 'FE2tpp_p1', 'FE3DCITR5_c1', 'FE3DCITabc_c2', 'FE3DCITabcpp_p1', 'FE3DCITexs_e0', 'FE3DCITtonex_p1', 'FE3DHBZS3R_c1', 'FE3DHBZStonex_p1', 'FE3HOXUtex_p1', 'FE3HOXUtpp_p1', 'FE3HOXabcpp_p1', 'FE3HOXtonex_p1', 'FE3abc_c2', 'FE3abcpp_p1', 'FE3tex_p1', 'FECRMUtex_p1', 'FECRMUtpp_p1', 'FECRMabcpp_p1', 'FECRMtonex_p1', 'FEDCabc_c2', 'FEENTERES_c1', 'FEENTERR4_c1', 'FEENTERabcpp_p1', 'FEENTERtex_p1', 'FEENTERtonex_p1', 'FEENTERtpp_p1', 'FEOXAMR1_c1', 'FEOXAMR2_c1', 'FEOXAMR3_c1', 'FEOXAMUtex_p1', 'FEOXAMUtpp_p1', 'FEOXAMabcpp_p1', 'FEOXAMexs_e0', 'FEOXAMtonex_p1', 'FERO_c2', 'FESD1s_c1', 'FESD2s_c1', 'FESR_c1', 'FK_c2', 'FLDR2_c1', 'FMNAT_c2', 'FMNt_p1', 'FMNtex_p1', 'FOLD3_c2', 'FOLR_c2', 'FOLt_c2', 'FOMETR_c2', 'FOMETRi_c1', 'FORt2pp_p1', 'FORt_c2', 'FORtex_p1', 'FORtppi_p1', 'FPGS7_c2', 'FPGS__DASH__tm_c2', 'FRD10_c2', 'FRD11_c2', 'FRD2_c2', 'FRD3_c2', 'FRD8_c2', 'FRD9_c2', 'FRTT_c2', 'FRUASE3_c2', 'FRULYSt2pp_p1', 'FRULYStex_p1', 'FRUURt2rpp_p1', 'FRUURtex_p1', 'FRUpts2pp_p1', 'FRUptspp_p1', 'FRUt2r_c2', 'FRUtex_p1', 'FTCD__DASH__r_c2', 'FTHFCL_c2', 'FTHFD_c2', 'FTHFLi_c2', 'FUCASEe_c2', 'FUCNEULACNHX__DASH__DEGe_c2', 'FUCt_c2', 'FUCtex_p1', 'FUCtpp_p1', 'FUM_c2', 'FUMt1pp_p1', 'FUMt2__DASH__2pp_p1', 'FUMt2__DASH__3pp_p1', 'FUMt2r_c2', 'FUMtex_p1', 'FUSAtex_p1', 'FUSAtpp_p1', 'Ftex_p1', 'Ftpp_p1', 'G1PACT_c2', 'G1PCT_c2', 'G1PTT_c2', 'G1Ptex_p1', 'G3PAT120_c2', 'G3PAT140_c1', 'G3PAT140_c2', 'G3PAT160_c2', 'G3PAT180_c2', 'G3PAT181_c2', 'G3PATAI15_c2', 'G3PATAI17_c2', 'G3PATI14_c2', 'G3PATI15_c2', 'G3PATI16_c2', 'G3PATI17_c2', 'G3PCabcpp_p1', 'G3PCtex_p1', 'G3PD1_c2', 'G3PEabcpp_p1', 'G3PEtex_p1', 'G3PGabcpp_p1', 'G3PGtex_p1', 'G3PIabcpp_p1', 'G3PItex_p1', 'G3PSabcpp_p1', 'G3PStex_p1', 'G5SADs_c2', 'G5SD_c2', 'G6PBDH_c2', 'G6PDA_c2', 'G6PDH2r_c2', 'G6PI3_c2', 'G6PI_c2', 'G6Pt6__DASH__2pp_p1', 'G6Ptex_p1', 'GACPCD_c2', 'GAL1Ptex_p1', 'GALAM6PDA_c2', 'GALAMt2r_c2', 'GALASE1e_c2', 'GALASE__DASH__HSe_c2', 'GALASE__DASH__OGLYCAN1e_c2', 'GALASE__DASH__OGLYCAN2e_c2', 'GALASE__DASH__OGLYCAN3e_c2', 'GALBDtex_p1', 'GALCTND_c1', 'GALCTNLt2pp_p1', 'GALCTNLtex_p1', 'GALCTNt2pp_p1', 'GALCTNtex_p1', 'GALCTt2rpp_p1', 'GALCTtex_p1', 'GALK_c2', 'GALM1r_c2', 'GALNACASE__DASH__OGLYCAN1e_c2', 'GALNACASE__DASH__OGLYCAN2e_c2', 'GALNACASE__DASH__OGLYCAN3e_c2', 'GALOX_c2', 'GALS3_c2', 'GALTptspp_p1', 'GALTtex_p1', 'GALURt2r_c2', 'GALURt2rpp_p1', 'GALURtex_p1', 'GALUi_c2', 'GALabcpp_p1', 'GALt2__DASH__2_c2', 'GALt2pp_p1', 'GALtex_p1', 'GAM2STASE__DASH__HS1_c2', 'GAM2STASE__DASH__HS2_c2', 'GAM2STASE__DASH__HS3_c2', 'GAM6Pt6__DASH__2pp_p1', 'GAMAN6Ptex_p1', 'GAMptspp_p1', 'GAMt2r_c2', 'GAMtex_p1', 'GAPD_c2', 'GAPP_c1', 'GARFTi_c2', 'GART_c2', 'GBBTNtex_p1', 'GCCa_c2', 'GCCb_c2', 'GCCc_c2', 'GCHOLAH_c2', 'GCHOLAt2_c2', 'GDPtex_p1', 'GF6PTAr_c2', 'GFUCS_c2', 'GGTT_c2', 'GHMT2r_c2', 'GK1_c2', 'GK2_c2', 'GLCAASE8e_c2', 'GLCAASE9e_c2', 'GLCAASE__DASH__HSe_c2', 'GLCAASEe_c2', 'GLCDpp_p1', 'GLCNACASE__DASH__HS1_c2', 'GLCNACASE__DASH__HS2_c2', 'GLCNACASE__DASH__HS3_c2', 'GLCNACASE__DASH__OGLYCAN1e_c2', 'GLCNACASE__DASH__OGLYCAN2e_c2', 'GLCNACASE__DASH__OGLYCAN3e_c2', 'GLCNACASE__DASH__OGLYCAN4e_c2', 'GLCNACASE__DASH__OGLYCAN5e_c2', 'GLCNACASE__DASH__OGLYCAN6e_c2', 'GLCNt2rpp_p1', 'GLCNtex_p1', 'GLCP_c2', 'GLCRt2rpp_p1', 'GLCRtex_p1', 'GLCS2_c2', 'GLCTR1_c1', 'GLCUR1Ptex_p1', 'GLCURt2r_c2', 'GLCURt2rpp_p1', 'GLCURtex_p1', 'GLCabcpp_p1', 'GLCptspp_p1', 'GLCt2pp_p1', 'GLCt2r_c2', 'GLCt4_c2', 'GLCtex__DASH__copy1_p1', 'GLCtex__DASH__copy2_p1', 'GLDBRAN2_c1', 'GLNS_c2', 'GLNabcpp_p1', 'GLNt2r_c2', 'GLNtex_p1', 'GLU5K_c2', 'GLUABUTt7_c2', 'GLUABUTt7pp_p1', 'GLUDC_c2', 'GLUDxi_c2', 'GLUDy_c2', 'GLUFORT_c2', 'GLUN_c2', 'GLUPRT_c2', 'GLUR_c2', 'GLUSy_c2', 'GLUabcpp_p1', 'GLUt2rpp_p1', 'GLUt4pp_p1', 'GLUtex_p1', 'GLYALDtex_p1', 'GLYALDtpp_p1', 'GLYASN1c_c2', 'GLYASNt_c2', 'GLYASP1c_c2', 'GLYASPt_c2', 'GLYAT_c2', 'GLYBabc_c2', 'GLYBabcpp_p1', 'GLYBt2pp_p1', 'GLYBt3pp_p1', 'GLYBtex_p1', 'GLYC2Pabcpp_p1', 'GLYC2Ptex_p1', 'GLYC3Pabcpp_p1', 'GLYC3Pt6pp_p1', 'GLYC3Ptex_p1', 'GLYCAt2rpp_p1', 'GLYCAtex_p1', 'GLYCK_c2', 'GLYCLTt2rpp_p1', 'GLYCLTt4pp_p1', 'GLYCLTtex_p1', 'GLYCOe_c2', 'GLYCTO2_c2', 'GLYCTO3_c2', 'GLYCTO4_c2', 'GLYCtex_p1', 'GLYCtpp_p1', 'GLYD_c2', 'GLYGLN1c_c2', 'GLYGLNt_c2', 'GLYGLU1c_c2', 'GLYGLUt_c2', 'GLYGLYHyi_c2', 'GLYGLYt_c2', 'GLYKr_c2', 'GLYLEUHYDROc_c2', 'GLYLEUHYDROe_c2', 'GLYLEUPEPT1t_c2', 'GLYMET1c_c2', 'GLYMETt_c2', 'GLYPHEHYi_c2', 'GLYPHEt_c2', 'GLYPROPRO1c_c2', 'GLYPROPRO1e_c2', 'GLYPROt_c2', 'GLYTYR1c_c2', 'GLYTYRt_c2', 'GLYt2pp_p1', 'GLYt2r_c2', 'GLYt4pp_p1', 'GLYtex_p1', 'GLYtpp_p1', 'GMAND_c2', 'GMHEPAT_c2', 'GMHEPK_c1', 'GMHEPK_c2', 'GMHEPPA_c1', 'GMHEPPA_c2', 'GMPS2_c2', 'GMPtex_p1', 'GND_c2', 'GNNUC_c2', 'GPDDA1_c2', 'GPDDA2_c2', 'GPDDA4_c2', 'GRTT_c2', 'GSNt2pp_p1', 'GSNt2r_c2', 'GSNt3pp_p1', 'GSNtex_p1', 'GTHOXtex_p1', 'GTHP_c2', 'GTHRDabc2pp_p1', 'GTHRDabcpp_p1', 'GTHRDtex_p1', 'GTPCII_c2', 'GTPCI_c2', 'GTPDPDP_c2', 'GTPDPK_c2', 'GTPtex_p1', 'GUAPRT_c2', 'GUAt2pp_p1', 'GUAtex_p1', 'GUAtpp_p1', 'GUI1_c2', 'GUI2_c2', 'H2O2tex_p1', 'H2Ot_c2', 'H2Otex_p1', 'H2Otpp_p1', 'H2St1pp_p1', 'H2St_c2', 'H2Stex_p1', 'H2td_c2', 'H2tex_p1', 'H2tpp_p1', 'HCINNMt2rpp_p1', 'HCINNMtex_p1', 'HCO3E_c2', 'HCYSMT_c2', 'HDCAtexi_p1', 'HDCEAtexi_p1', 'HEMEti_c2', 'HEPARL1__DASH__e_c2', 'HETT_c2', 'HEX10_c2', 'HEX11_c2', 'HEX1_c2', 'HEX4_c2', 'HEX7_c2', 'HEXTT_c2', 'HEXb_c2', 'HEXt2rpp_p1', 'HG2abc_c2', 'HG2abcpp_p1', 'HG2t3pp_p1', 'HG2tex_p1', 'HISD_c2', 'HISTD_c2', 'HISTP_c2', 'HISabcpp_p1', 'HISt2r_c2', 'HISt2rpp_p1', 'HIStex_p1', 'HMPK1_c2', 'HOMOGALASEe_c2', 'HOMt2pp_p1', 'HOMtex_p1', 'HPPK_c2', 'HPPPNt2rpp_p1', 'HPPPNtex_p1', 'HSDxi2_c2', 'HSDyi2_c2', 'HSK_c2', 'HSST_c2', 'HSTPTr_c2', 'HXAtex_p1', 'HXPRT_c2', 'HYD1_c2', 'HYD1pp_p1', 'HYD2pp_p1', 'HYD3pp_p1', 'HYD4_c2', 'HYPSUCORNS_c2', 'HYXNtex_p1', 'HYXNtpp_p1', 'Htex_p1', 'I2FE2SR_c1', 'I2FE2SS2_c1', 'I2FE2SS_c1', 'I2FE2ST_c1', 'I4FE4SR_c1', 'I4FE4ST_c1', 'IBCOATA_c2', 'ICDHyr_c2', 'ICHORS__DASH__copy2_c1', 'ICHORS_c2', 'ICYSDS_c1', 'IDONt2rpp_p1', 'IDONtex_p1', 'IDOURASE__DASH__HS1_c2', 'IDOURASE__DASH__HS2_c2', 'IDOURASE__DASH__HS3_c2', 'IDOURASE_c2', 'IG3PS_c2', 'IGPDH_c2', 'IGPS_c2', 'IHDCOATA_c2', 'IHPDCOATA_c2', 'ILDH_c2', 'ILETA_c2', 'ILEabcpp_p1', 'ILEt2r_c2', 'ILEt2rpp_p1', 'ILEt3pp_p1', 'ILEtex_p1', 'IMPC_c2', 'IMPD_c2', 'IMPtex_p1', 'IND3ACt_c2', 'INDLACt_c2', 'INDOLEt2pp_p1', 'INDOLEt2rpp_p1', 'INDOLEtex_p1', 'INOSTt4pp_p1', 'INSH_c2', 'INSTtex_p1', 'INSt2_c2', 'INSt2pp_p1', 'INSt3pp_p1', 'INStex_p1', 'INULINASEe_c2', 'IOR2_c2', 'IOR3_c2', 'IOR_c2', 'IPDCOATA_c2', 'IPDDI_c2', 'IPDPS2_c2', 'IPDPS_c2', 'IPMD2_c2', 'IPMDr_c2', 'IPPMIa_c2', 'IPPMIb_c2', 'IPPS_c2', 'IS2TASE__DASH__HS1_c2', 'IS2TASE_c2', 'ISETACabcpp_p1', 'ISETACtex_p1', 'ISOBUTt2r_c2', 'ISOCAPRt2r_c2', 'ISOVALt2r_c2', 'ITDCOATA_c2', 'IVCOATA_c2', 'IZPN_c2', 'K2L4Aabcpp_p1', 'K2L4Aabctex_p1', 'KARA1_c1', 'KARA1_c2', 'KARA2_c2', 'KAS11_c2', 'KAS12_c2', 'KAS13_c2', 'KAS14_c2', 'KAS1_c2', 'KAS2_c2', 'KAS3_c2', 'KAS4_c2', 'KAS6_c2', 'KAS8_c2', 'KDNH_c2', 'KDOCT2_c2', 'KDOPP_c2', 'KDOPS_c2', 'KDUI_c2', 'KESTOASEe_c2', 'KESTOPTASEe_c2', 'KESTOTTRASEe_c2', 'Kabc_c2', 'Kabcpp_p1', 'Kt2pp_p1', 'Kt3pp_p1', 'Kt3r_c2', 'Ktex_p1', 'L2A6OD2s_c2', 'LACDFUCTTR__DASH__FUCASEe_c2', 'LACNDFUCHX__DASH__FUCASEe_c2', 'LACNFUCPT__DASH__FUCASEe_c2', 'LACNTTR__DASH__DEGe_c2', 'LACZe_c2', 'LALADGLUtex_p1', 'LALADGLUtpp_p1', 'LALALGLUtex_p1', 'LALALGLUtpp_p1', 'LARGNAT_c2', 'LCAR2_c2', 'LCARS_c2', 'LCTSt3ipp_p1', 'LCTStex_p1', 'LCTStpp_p1', 'LDGUNPD_c1', 'LDH__DASH__D_c2', 'LDH__DASH__L_c2', 'LEUGLY1c_c2', 'LEUGLYLAPe_c2', 'LEUGLYt_c2', 'LEULEU1c_c2', 'LEULEULAPe_c2', 'LEULEUt_c2', 'LEUO_c2', 'LEUTA_c2', 'LEUabcpp_p1', 'LEUt2r_c2', 'LEUt2rpp_p1', 'LEUt3pp_p1', 'LEUtex_p1', 'LEVANASE__DASH__1e_c2', 'LEVANASE__DASH__2e_c2', 'LEVANASE__DASH__3e_c2', 'LEVANASE__DASH__4e_c2', 'LEVANB__DASH__ABC_c2', 'LGTHL_c2', 'LIPACabcpp_p1', 'LIPAMPL_c1', 'LIPAabcpp_p1', 'LIPAabctex_p1', 'LIPOCT_c1', 'LIPOS_c1', 'LIPOt2pp_p1', 'LIPOtex_p1', 'LMN2e_c2', 'LMNe_c2', 'LPADSS__DASH__BT_c2', 'LPLIPAL1A181pp_p1', 'LPLIPAL1E120pp_p1', 'LPLIPAL1E140pp_p1', 'LPLIPAL1E160pp_p1', 'LPLIPAL1E180pp_p1', 'LPLIPAL1E181pp_p1', 'LPLIPAL1G120pp_p1', 'LPLIPAL1G140pp_p1', 'LPLIPAL1G160pp_p1', 'LPLIPAL1G180pp_p1', 'LPLIPAL1G181pp_p1', 'LPLIPAL2A181_c1', 'LPLIPAL2ATE120_c1', 'LPLIPAL2ATE140_c1', 'LPLIPAL2ATE160_c1', 'LPLIPAL2ATE180_c1', 'LPLIPAL2ATG120_c1', 'LPLIPAL2ATG140_c1', 'LPLIPAL2ATG160_c1', 'LPLIPAL2ATG180_c1', 'LPLIPAL2E120_c1', 'LPLIPAL2E140_c1', 'LPLIPAL2E181_c1', 'LPLIPAL2G140_c1', 'LPLIPAL2G160_c1', 'LPLIPAL2G180_c1', 'LPLIPAL2G181_c1', 'LPSSYN__DASH__BT_c2', 'LPS__DASH__BTabc_c2', 'LYSAM_c2', 'LYSDC_c2', 'LYSabcpp_p1', 'LYSt2pp_p1', 'LYSt3pp_p1', 'LYSt3r_c2', 'LYStex_p1', 'LYXI_c1', 'LYXt2pp_p1', 'LYXtex_p1', 'L__DASH__LACt2r_c2', 'L__DASH__LACt2rpp_p1', 'L__DASH__LACtex_p1', 'MALCOACD_c2', 'MALCOAMT_c2', 'MALDt2__DASH__2pp_p1', 'MALDtex_p1', 'MALTHXabcpp_p1', 'MALTHXtexi_p1', 'MALTPTabcpp_p1', 'MALTPTtexi_p1', 'MALTTRabcpp_p1', 'MALTTRtexi_p1', 'MALTTTRabcpp_p1', 'MALTTTRtexi_p1', 'MALT_c2', 'MALTabcpp_p1', 'MALTe_c2', 'MALTptspp_p1', 'MALTt2r_c2', 'MALTtexi_p1', 'MALt2__DASH__2pp_p1', 'MALt2__DASH__3pp_p1', 'MALt3pp_p1', 'MALtex_p1', 'MAN1PT2r_c2', 'MAN6PI_c2', 'MAN6Pt6__DASH__2pp_p1', 'MAN6Ptex_p1', 'MANA1e_c2', 'MANA2e_c2', 'MANA3e_c2', 'MANA4_c2', 'MANA4e_c2', 'MANAO_c2', 'MANGLYCptspp_p1', 'MANGLYCtex_p1', 'MANTRabc_c2', 'MANabc_c2', 'MANptspp_p1', 'MANtex_p1', 'MBENZF_c2', 'MBENZt_c2', 'MC6PH_c1', 'MCOATA_c2', 'MDH_c2', 'ME2_c2', 'MECDPDH2_c2', 'MECDPDH5_c1', 'MECDPS_c2', 'MELIBabc_c2', 'MELIBt2pp_p1', 'MELIBt3ipp_p1', 'MELIBtex_p1', 'MEOHt2_c2', 'MEOHtex_p1', 'MEOHtrpp_p1', 'MEPCT_c2', 'MEPNabcpp_p1', 'MEPNtex_p1', 'METALA1c_c2', 'METALAt_c2', 'METAT_c2', 'METDabcpp_p1', 'METDtex_p1', 'METGLCUR_c1', 'METGLCURt2pp_p1', 'METGLCURtex_p1', 'METOX1s_c1', 'METOX1s_c2', 'METOX2s_c1', 'METSOX1abcpp_p1', 'METSOX1tex_p1', 'METSOX2abcpp_p1', 'METSOX2tex_p1', 'METSOXR1_c1', 'METSOXR1_c2', 'METSOXR2_c1', 'METSr_c2', 'METabcpp_p1', 'METt2r_c2', 'METt3pp_p1', 'METtex_p1', 'MG2abc_c2', 'MG2t3__DASH__2pp_p1', 'MG2tex_p1', 'MG2tpp_p1', 'MG2uabcpp_p1', 'MGSA_c2', 'MGt5_c2', 'MI1PP_c2', 'MI1PS_c2', 'MI3PP_c2', 'MI4PP_c2', 'MINCYCtex_p1', 'MINCYCtpp_p1', 'MINOHPtexi_p1', 'MK10t_c2', 'MK11t_c2', 'MK7t_c2', 'MK8t_c2', 'MK9t_c2', 'MLTG1_c2', 'MLTG1e_c2', 'MLTG2_c1', 'MLTG2_c2', 'MLTG2e_c2', 'MLTG3_c1', 'MLTG3_c2', 'MLTG3e_c2', 'MLTG4_c2', 'MLTG4e_c2', 'MLTG5_c2', 'MLTG5e_c2', 'MLTP1_c1', 'MMCD_c2', 'MMETt2pp_p1', 'MMETtex_p1', 'MME_c2', 'MMM2r_c2', 'MMM_c1', 'MN2t3pp_p1', 'MN2tipp_p1', 'MN2tpp_p1', 'MNLptspp_p1', 'MNLtex_p1', 'MNNH_c1', 'MNNH_c2', 'MNt2_c2', 'MNt2pp_p1', 'MNtex_p1', 'MOADSUx_c1', 'MOAT__DASH__BT_c2', 'MOBDabcpp_p1', 'MOBDtex_p1', 'MOCOS_c1', 'MOGDS_c1', 'MOHMT_c2', 'MPTG2_p1', 'MPTG_p1', 'MPTSS_c1', 'MPTS_c1', 'MSO3abcpp_p1', 'MSO3tex_p1', 'MTAN_c2', 'MTHFC_c2', 'MTHFD_c2', 'MTHFR2_c2', 'MTHFR3_c2', 'MTHGXLt_c2', 'MTRPOX_c1', 'N2Otex_p1', 'N2Otpp_p1', 'NACHEX27e_c2', 'NACt_c2', 'NACtex_p1', 'NACtpp_p1', 'NADDP_c2', 'NADH10_c2', 'NADH16pp_p1', 'NADH17_c2', 'NADH17pp_p1', 'NADH18pp_p1', 'NADH5_c2', 'NADH9_c2', 'NADHHS_c1', 'NADHXD_c1', 'NADHXE_c1', 'NADK2_c2', 'NADK_c2', 'NADPHHR_c1', 'NADPHHS_c1', 'NADS1_c2', 'NADS2_c2', 'NAMNPP_c2', 'NARK_c2', 'NAt3__DASH__1_c2', 'NAt3__DASH__1p5pp_p1', 'NAt3__DASH__2pp_p1', 'NAt3pp_p1', 'NAtex_p1', 'NCPTRCA_c2', 'NDPK1_c2', 'NDPK2_c2', 'NDPK3_c2', 'NDPK4_c2', 'NDPK5_c2', 'NDPK6_c2', 'NDPK7_c2', 'NDPK8_c2', 'NDPK9_c2', 'NEULACNTTR__DASH__SIASEe_c2', 'NH4t_c2', 'NH4tex_p1', 'NH4tpp_p1', 'NI2abcpp_p1', 'NI2t3pp_p1', 'NI2tex_p1', 'NI2tpp_p1', 'NI2uabcpp_p1', 'NMNPtpp_p1', 'NMNt2r_c2', 'NMNt7pp_p1', 'NMNtex_p1', 'NNATr_c2', 'NNDPR_c2', 'NO2t2rpp_p1', 'NO2tex_p1', 'NO3R1bpp_p1', 'NO3R1pp_p1', 'NO3R2bpp_p1', 'NO3R2pp_p1', 'NO3t7pp_p1', 'NO3tex_p1', 'NOVBCNtex_p1', 'NOVBCNtpp_p1', 'NOtex_p1', 'NOtpp_p1', 'NP1__DASH__r_c2', 'NPHS_c2', 'NT5C_c2', 'NTD10_c2', 'NTD11_c2', 'NTD1_c2', 'NTD2_c2', 'NTD3_c2', 'NTD4_c2', 'NTD5__DASH__a_c2', 'NTD5_c2', 'NTD6_c2', 'NTD7_c2', 'NTD8_c2', 'NTD9_c2', 'NTP1_c1', 'NTP1_c2', 'NTPP10_c2', 'NTPP11_c2', 'NTPP1_c2', 'NTPP2_c2', 'NTPP8_c2', 'NTPP9_c2', 'NTPTP1_c2', 'NTRIR3pp_p1', 'NTRIR4pp_p1', 'NTRIR5_c2', 'O16A4COLIPAabctex_p1', 'O16A4Lpp_p1', 'O16AP1pp_p1', 'O16AP2pp_p1', 'O16AP3pp_p1', 'O16AUNDtpp_p1', 'O16G2e_c2', 'O2Stex_p1', 'O2t_c2', 'O2tex_p1', 'O2tpp_p1', 'OAADC_c2', 'OBTFL_c2', 'OCDCAtexi_p1', 'OCDCEAtexi_p1', 'OCTAtex_p1', 'OCTNLL_c1', 'OGALURLe_c2', 'OGMEACPR_c1', 'OGMEACPS_c1', 'OHPBAT_c2', 'OHPHM_c2', 'OIVD1r_c2', 'OIVD2_c2', 'OIVD3_c2', 'OLIGOFRUASEe_c2', 'OMCDC_c2', 'OMMBLHXy_c1', 'OMPDC_c2', 'OOR2r_c2', 'OORr_c2', 'OPMEACPR_c1', 'OPMEACPS_c1', 'ORNTA_c2', 'ORNabc_c2', 'ORNabcpp_p1', 'ORNtex_p1', 'OROTt2__DASH__2pp_p1', 'OROTtex_p1', 'ORPT_c2', 'P5CD_c2', 'P5CRyr_c2', 'PA120abcpp_p1', 'PA140abcpp_p1', 'PA141abcpp_p1', 'PA160abcpp_p1', 'PA161abcpp_p1', 'PA180abcpp_p1', 'PA181abcpp_p1', 'PABB_c2', 'PACALDt2rpp_p1', 'PACALDtex_p1', 'PACCOAE_c1', 'PACCOAL2r_c2', 'PACCOAL3r_c2', 'PACCOALr_c2', 'PACOAT_c1', 'PACt2r_c2', 'PAI2I_c1', 'PAI2T_c1', 'PANTS_c2', 'PAPPT2_c2', 'PAPPT3_c2', 'PBUTT_c2', 'PBt_c2', 'PC_c2', 'PDHa_c2', 'PDHbr_c2', 'PDHcr_c2', 'PDX5POi_c2', 'PDX5PS_c2', 'PE120abcpp_p1', 'PE140abcpp_p1', 'PE141abcpp_p1', 'PE160abcpp_p1', 'PE161abcpp_p1', 'PE180abcpp_p1', 'PE181abcpp_p1', 'PEAMNtex_p1', 'PECTICGALASEe_c2', 'PECTIN__DASH__DEG2e_c2', 'PECTIN__DASH__DEGe_c2', 'PEPM_c2', 'PEPT160_c2', 'PERD_c2', 'PE__DASH__CER1__DASH__BTt_c2', 'PFK__DASH__2_c2', 'PFK__DASH__3_c2', 'PFK__DASH__ppi__DASH___c2', 'PFK_c2', 'PFL_c2', 'PG120abcpp_p1', 'PG140abcpp_p1', 'PG141abcpp_p1', 'PG160abcpp_p1', 'PG161abcpp_p1', 'PG180abcpp_p1', 'PG181abcpp_p1', 'PGAMT_c2', 'PGCDr_c2', 'PGI_c2', 'PGK_c2', 'PGLYCP_c2', 'PGL_c2', 'PGMT2_c2', 'PGMT_c2', 'PGM_c2', 'PGP120abcpp_p1', 'PGP140abcpp_p1', 'PGP141abcpp_p1', 'PGP160abcpp_p1', 'PGP161abcpp_p1', 'PGP180abcpp_p1', 'PGP181abcpp_p1', 'PGPP120_c2', 'PGPP140_c2', 'PGPP160_c2', 'PGPP180_c2', 'PGPP181_c2', 'PGPPAI15_c2', 'PGPPAI17_c2', 'PGPPI14_c2', 'PGPPI15_c2', 'PGPPI16_c2', 'PGPPI17_c2', 'PGSA120_c2', 'PGSA140_c2', 'PGSA160_c2', 'PGSA180_c2', 'PGSA181_c2', 'PGSAAI15_c2', 'PGSAAI17_c2', 'PGSAI14_c2', 'PGSAI15_c2', 'PGSAI16_c2', 'PGSAI17_c2', 'PHCHGS_c2', 'PHEARG1c_c2', 'PHEARGt_c2', 'PHEMEabcpp_p1', 'PHEMEtiex_p1', 'PHETA1_c2', 'PHEt2r_c2', 'PHEt2rpp_p1', 'PHEtex_p1', 'PHEtipp_p1', 'PHPPAF_c2', 'PHPPAt_c2', 'PHPYRt_c2', 'PIabc_c2', 'PIt2rpp_p1', 'PIt6_c2', 'PIt8i_c2', 'PItex_p1', 'PItpp_p1', 'PIuabcpp_p1', 'PLACOR_c2', 'PLACt_c2', 'PLIPA1A181pp_p1', 'PLIPA1E120pp_p1', 'PLIPA1E140pp_p1', 'PLIPA1E181pp_p1', 'PLIPA1G140pp_p1', 'PLIPA1G160pp_p1', 'PLIPA1G180pp_p1', 'PLIPA1G181pp_p1', 'PLIPA2A181pp_p1', 'PLIPA2E120pp_p1', 'PLIPA2E140pp_p1', 'PLIPA2E160pp_p1', 'PLIPA2E180pp_p1', 'PLIPA2E181pp_p1', 'PLIPA2G120pp_p1', 'PLIPA2G140pp_p1', 'PLIPA2G160pp_p1', 'PLIPA2G180pp_p1', 'PLIPA2G181pp_p1', 'PLPS_c2', 'PMACPME_c2', 'PMANM_c2', 'PMDPHT_c2', 'PMPK_c2', 'PMTCOATA_c2', 'PNP_c2', 'PNSPA_c1', 'PNTK_c2', 'PNTOt2_c2', 'PNTOt4pp_p1', 'PNTOtex_p1', 'POAACR_c1', 'POR4i_c2', 'POR5_c1', 'POX_c2', 'PPAKr_c2', 'PPALtex_p1', 'PPALtpp_p1', 'PPA__DASH__1_c2', 'PPAt4pp_p1', 'PPAtex_p1', 'PPAtr_c2', 'PPCDC_c2', 'PPCKr_c2', 'PPDK_c2', 'PPGPPDP_c2', 'PPK2_c2', 'PPNCL2_c2', 'PPNCL3_c2', 'PPND2_c2', 'PPNDH_c2', 'PPND_c2', 'PPPNt2rpp_p1', 'PPPNtex_p1', 'PPTGS_c2', 'PPTT_c2', 'PPTtex_p1', 'PRAGS_c2', 'PRAIS_c2', 'PRAI_c2', 'PRAMPC_c2', 'PRASCSi_c2', 'PRATPP_c2', 'PRCPD_c1', 'PRFGS_c2', 'PRMICI_c2', 'PRO1x_c2', 'PROD2_c2', 'PROD3_c2', 'PROGLYabcpp_p1', 'PROGLYt_c2', 'PROGLYtex_p1', 'PROabcpp_p1', 'PROt2rpp_p1', 'PROt4pp_p1', 'PROt4r_c2', 'PROtex_p1', 'PRPPS_c2', 'PSCLYSt2pp_p1', 'PSCLYStex_p1', 'PSCVT_c2', 'PSD120_c2', 'PSD140_c2', 'PSD160_c2', 'PSD180_c2', 'PSD181_c2', 'PSDAI15_c2', 'PSDAI17_c2', 'PSDI14_c2', 'PSDI15_c2', 'PSDI16_c2', 'PSDI17_c2', 'PSERTr_c2', 'PSERtex_p1', 'PSP__DASH__L_c2', 'PSSA120_c2', 'PSSA140_c2', 'PSSA160_c2', 'PSSA180_c2', 'PSSA181_c2', 'PSSAAI15_c2', 'PSSAAI17_c2', 'PSSAI14_c2', 'PSSAI15_c2', 'PSSAI16_c2', 'PSSAI17_c2', 'PSURItex_p1', 'PSURItpp_p1', 'PTA2_c2', 'PTAr_c2', 'PTPAT_c2', 'PTRCORNt7pp_p1', 'PTRCabc_c2', 'PTRCabcpp_p1', 'PTRCt2pp_p1', 'PTRCtex2_c2', 'PTRCtex_p1', 'PUACGAMS_c1', 'PUACGAMtr_p1', 'PULLe_c2', 'PUNP1_c2', 'PUNP2_c2', 'PUNP3_c2', 'PUNP4_c2', 'PUNP5_c2', 'PUNP6_c2', 'PUNP7_c2', 'PUTA3_c2', 'PYAM5PO_c2', 'PYDAMK_c2', 'PYDAMtex_p1', 'PYDAMtpp_p1', 'PYDXK_c2', 'PYDXNK_c2', 'PYDXNO_c2', 'PYDXNtex_p1', 'PYDXNtpp_p1', 'PYDXNtr_c2', 'PYDXO_c2', 'PYDXtex_p1', 'PYDXtpp_p1', 'PYK6_c1', 'PYK_c2', 'PYROX_c1', 'PYRt2r_c2', 'PYRt2rpp_p1', 'PYRtex_p1', 'QMO3_c2', 'QUIN2tex_p1', 'QUIN2tpp_p1', 'QULNS_c2', 'R5Ptex_p1', 'RAFFabc_c2', 'RAFGH_c2', 'RAFH_c2', 'RBFK_c2', 'RBFSa_c2', 'RBFSb_c2', 'RBK__DASH__D_c2', 'RBK__DASH__L1_c2', 'RBK_c2', 'RBP4E_c2', 'REPHACCOAI_c1', 'RFAC__DASH__HP_c2', 'RFAMPtex_p1', 'RFAMPtpp_p1', 'RFA__DASH__BT_c2', 'RHAMNOGALURASEe__DASH__II_c2', 'RHAMNOGALURASEe__DASH__I_c2', 'RHAT1_c1', 'RIBFLVt2r_c2', 'RIBabcpp_p1', 'RIBt2r_c2', 'RIBtex_p1', 'RMI_c2', 'RMK2_c2', 'RMK_c2', 'RMNt_c2', 'RMNtex_p1', 'RMNtpp_p1', 'RMPA_c2', 'RNTR1_c2', 'RNTR1c2_c1', 'RNTR2_c2', 'RNTR2c2_c1', 'RNTR3_c2', 'RNTR3c2_c1', 'RNTR4_c2', 'RNTR4c2_c1', 'RPE_c2', 'RPI_c2', 'RPNTPH_c1', 'RU5PP_c1', 'S2FE2SR_c1', 'S2FE2SS2_c1', 'S2FE2SS_c1', 'S2FE2ST_c1', 'S4FE4SR_c1', 'S4FE4ST_c1', 'S7PIr_c2', 'SADT2_c2', 'SADT_c2', 'SBTptspp_p1', 'SBTtex_p1', 'SCYSDS_c1', 'SELGTHR2_c1', 'SELGTHR3_c1', 'SELR_c1', 'SELabcpp_p1', 'SELtex_p1', 'SEPHCHS_c2', 'SERATi_c2', 'SERD__DASH__L_c2', 'SERPT_c2', 'SERt2r_c2', 'SERt2rpp_p1', 'SERt4pp_p1', 'SERtex_p1', 'SERtpp_p1', 'SHCHCS3_c1', 'SHCHCS3_c2', 'SHK3Dr_c2', 'SHKK_c2', 'SHSL1_c2', 'SHSL2_c2', 'SHSL4_c2', 'SIAASE__DASH__OGLYCAN1e_c2', 'SIAASE__DASH__OGLYCAN2e_c2', 'SIAASE__DASH__OGLYCAN3e_c2', 'SIAASEe_c2', 'SKATOLEF_c2', 'SKATOLEt_c2', 'SKMt2pp_p1', 'SKMtex_p1', 'SK_cpd11416_c0', 'SLNTabcpp_p1', 'SLNTtex_p1', 'SO2tex_p1', 'SO2tpp_p1', 'SO3tex_p1', 'SO4t2_c2', 'SO4t2pp_p1', 'SO4tex_p1', 'SPHMYLN__DASH__BTt_c2', 'SPMDAT1_c2', 'SPMDAT2_c2', 'SPMDabc_c2', 'SPMDabcpp_p1', 'SPMDt3pp_p1', 'SPMDtex2_c2', 'SPMDtex_p1', 'SPODM_c2', 'SQGH_c1', 'SQVOSI_c1', 'SQtex_p1', 'SQtr_p1', 'STCOATA_c2', 'STYSGH_c2', 'STYSabc_c2', 'SUCASPtpp_p1', 'SUCBZL_c2', 'SUCBZS_c2', 'SUCCITRDSs_c2', 'SUCCt1pp_p1', 'SUCCt2__DASH__2pp_p1', 'SUCCt2__DASH__3pp_p1', 'SUCCt2r_c2', 'SUCCtex_p1', 'SUCD1_c2', 'SUCDi_c2', 'SUCFUMtpp_p1', 'SUCMALtpp_p1', 'SUCOAS_c2', 'SUCORNTC_c2', 'SUCR_c2', 'SUCRt2_c2', 'SUCRtex_p1', 'SUCTARTtpp_p1', 'SUCptspp_p1', 'SULFACabcpp_p1', 'SULFACtex_p1', 'SULabcpp_p1', 'T2DECAI_c2', 'TAGURr_c2', 'TALA_c2', 'TARTRDtex_p1', 'TARTRt7pp_p1', 'TARTRtex_p1', 'TARTt2__DASH__3pp_p1', 'TAURabcpp_p1', 'TAURtex2_c2', 'TAURtex_p1', 'TCHOLAH_c2', 'TCHOLAt2_c2', 'TCYNTtex_p1', 'TDCOATA_c2', 'TDPDRE_c2', 'TDPDRR_c2', 'TDPGDH_c2', 'TDSK__DASH__BT_c2', 'TDSR1_p1', 'TDSR2_p1', 'TGBPA_c2', 'THD2pp_p1', 'THIORDXi_c2', 'THMDP_c2', 'THMDt2_c2', 'THMDt2pp__DASH__copy1_p1', 'THMDt2pp__DASH__copy2_p1', 'THMDtex_p1', 'THMabcpp_p1', 'THMt3_c2', 'THMtex_p1', 'THRAr_c2', 'THRD_c2', 'THRPtex_p1', 'THRS_c2', 'THRabcpp_p1', 'THRt2pp_p1', 'THRt2r_c2', 'THRt2rpp_p1', 'THRt4pp_p1', 'THRtex_p1', 'THYMt3pp_p1', 'THYMtex_p1', 'THZPSN3_c1', 'THZPSN_c2', 'TKT1_c2', 'TKT2_c2', 'TMAOR1pp_p1', 'TMAOR2pp_p1', 'TMAOtex_p1', 'TMAtex_p1', 'TMDK1_c2', 'TMDPK_c2', 'TMDS_c2', 'TMPKr_c2', 'TMPPP_c2', 'TPI_c2', 'TRDRr_c2', 'TREHe_c2', 'TREptspp_p1', 'TREtex_p1', 'TRPAS2_c2', 'TRPS1_c2', 'TRPS2_c2', 'TRPS3r_c2', 'TRPTA_c2', 'TRPt2r_c2', 'TRPt2rpp_p1', 'TRPtex_p1', 'TRPtipp_p1', 'TSULabcpp_p1', 'TSULtex_p1', 'TTDCAtexi_p1', 'TTDCEAtexi_p1', 'TTRCYCtex_p1', 'TTRCYCtpp_p1', 'TUNGSabcpp_p1', 'TUNGStex_p1', 'TYMtex_p1', 'TYRL_c1', 'TYRPtex_p1', 'TYRTA_c2', 'TYRt2r_c2', 'TYRt2rpp_p1', 'TYRtex_p1', 'TYRtipp_p1', 'U23GAAT__DASH__BT_c2', 'U2GAAT2__DASH__BT_c2', 'U2GAAT__DASH__BT_c2', 'UAAGDS_c2', 'UACGAMtex_p1', 'UACMAMO_c2', 'UAG2EMA_c2', 'UAG2E_c2', 'UAG4E_c2', 'UAGAAT__DASH__HP_c2', 'UAGCVT__DASH__r_c2', 'UAGDP2_c2', 'UAGDP_c2', 'UAGPT2_c2', 'UAGPT3_c1', 'UAGPT3_c2', 'UAMAGS_c2', 'UAMAS_c2', 'UAPGR_c2', 'UDCPDPS_c2', 'UDCPDP_c1', 'UDCPDP_c2', 'UDCPDPpp_p1', 'UDCPPtppi_p1', 'UDPACGALtex_p1', 'UDPG4E_c2', 'UDPGALtex_p1', 'UDPGDr_c2', 'UDPGLCURE_c2', 'UDPGLCURtex_p1', 'UDPGLDC_c2', 'UDPGPT_c1', 'UDPGtex_p1', 'UGLT_c2', 'UGMDDS_c2', 'UHGADA__DASH__HP_c2', 'ULA4Ntppi_p1', 'UMPtex_p1', 'UPLA4FNT_c1', 'UPPRT_c2', 'URATEtex_p1', 'URATEtpp_p1', 'URAt2pp_p1', 'URAt2r_c2', 'URAtex_p1', 'URAtpp_p1', 'URCN_c2', 'UREAt_c2', 'UREAtex_p1', 'UREAtpp_p1', 'URFGTT_c2', 'URIDK1_c2', 'URIDK2r_c2', 'URIK1_c2', 'URIK2_c2', 'URIK3_c2', 'URIt2pp__DASH__copy1_p1', 'URIt2pp__DASH__copy2_p1', 'URIt2r_c2', 'URItex_p1', 'USHD__DASH__BT_c2', 'VALO_c2', 'VALTA_c2', 'VALabcpp_p1', 'VALt2r_c2', 'VALt2rpp_p1', 'VALt3pp_p1', 'VALtex_p1', 'WCOS_c1', 'XANt2pp_p1', 'XANt2r_c2', 'XANtex_p1', 'XANtpp_p1', 'XMPtex_p1', 'XPPT_c2', 'XTSNH_c2', 'XTSNt2rpp_p1', 'XTSNtex_p1', 'XYHDL_c1', 'XYLI1_c1', 'XYLI1_c2', 'XYLI2_c2', 'XYLK2_c1', 'XYLK_c1', 'XYLKr_c2', 'XYLUt2pp_p1', 'XYLUtex_p1', 'XYLabcpp_p1', 'XYLt2_c2', 'XYLt2pp_p1', 'XYLtex_p1', 'YUMPS_c2', 'ZN2abcpp_p1', 'ZN2t3pp_p1', 'ZN2t4_c2', 'ZN2tpp_p1', 'ZNabc_c2', 'ZNabcpp_p1', 'Zn2tex_p1', '__add__', '__class__', '__class_getitem__', '__contains__', '__copy__', '__delattr__', '__delitem__', '__delslice__', '__dict__', '__dir__', '__doc__', '__eq__', '__format__', '__ge__', '__getattr__', '__getattribute__', '__getitem__', '__getslice__', '__getstate__', '__gt__', '__hash__', '__iadd__', '__imul__', '__init__', '__init_subclass__', '__isub__', '__iter__', '__le__', '__len__', '__lt__', '__module__', '__mul__', '__ne__', '__new__', '__reduce__', '__reduce_ex__', '__repr__', '__reversed__', '__rmul__', '__setattr__', '__setitem__', '__setslice__', '__setstate__', '__sizeof__', '__str__', '__sub__', '__subclasshook__', '__weakref__', '_check', '_dict', '_extend_nocheck', '_generate_index', '_replace_on_id', 'add', 'append', 'bio1', 'bio2', 'bio3', 'bio4', 'clear', 'copy', 'count', 'extend', 'get_by_any', 'get_by_id', 'has_id', 'index', 'insert', 'list_attr', 'pop', 'query', 'remove', 'reverse', 'rxn00001_c1', 'rxn00006_c1', 'rxn00007_c1', 'rxn00007_p1', 'rxn00010_c1', 'rxn00029_c1', 'rxn00048_c1', 'rxn00056_p1', 'rxn00060_c1', 'rxn00062_c1', 'rxn00063_c1', 'rxn00064_c1', 'rxn00065_c1', 'rxn00066_c1', 'rxn00075_c1', 'rxn00076_c1', 'rxn00077_c1', 'rxn00083_c1', 'rxn00085_c1', 'rxn00088_c1', 'rxn00095_c1', 'rxn00097_c1', 'rxn00100_c1', 'rxn00104_c1', 'rxn00105_c1', 'rxn00106_c1', 'rxn00114_c1', 'rxn00116_c1', 'rxn00117_c1', 'rxn00119_c1', 'rxn00122_c1', 'rxn00123_c1', 'rxn00124_c1', 'rxn00126_c1', 'rxn00127_c1', 'rxn00132_c1', 'rxn00132_p1', 'rxn00134_c1', 'rxn00137_c1', 'rxn00138_c1', 'rxn00139_c1', 'rxn00140_c1', 'rxn00143_c1', 'rxn00147_c1', 'rxn00154_c1', 'rxn00159_c1', 'rxn00160_c1', 'rxn00161_c1', 'rxn00162_c1', 'rxn00165_c1', 'rxn00166_c1', 'rxn00171_c1', 'rxn00173_c1', 'rxn00175_c1', 'rxn00178_c1', 'rxn00179_c1', 'rxn00184_c1', 'rxn00187_c1', 'rxn00189_c1', 'rxn00189_p1', 'rxn00191_c1', 'rxn00192_c1', 'rxn00193_c1', 'rxn00194_c1', 'rxn00198_c1', 'rxn00205_c1', 'rxn00206_c1', 'rxn00206_p1', 'rxn00208_c1', 'rxn00209_c1', 'rxn00211_c1', 'rxn00212_p1', 'rxn00213_c1', 'rxn00214_c1', 'rxn00216_c1', 'rxn00220_c1', 'rxn00221_c1', 'rxn00221_p1', 'rxn00223_c1', 'rxn00224_c1', 'rxn00225_c1', 'rxn00236_c1', 'rxn00237_c1', 'rxn00239_c1', 'rxn00241_c1', 'rxn00241_p1', 'rxn00242_c1', 'rxn00245_c1', 'rxn00247_c1', 'rxn00248_c1', 'rxn00260_c1', 'rxn00264_c1', 'rxn00265_c1', 'rxn00274_c1', 'rxn00283_c1', 'rxn00285_c1', 'rxn00289_c1', 'rxn00291_c1', 'rxn00293_c1', 'rxn00297_c1', 'rxn00299_c1', 'rxn00300_c1', 'rxn00301_c1', 'rxn00303_c1', 'rxn00307_c1', 'rxn00313_c1', 'rxn00321_c1', 'rxn00322_c1', 'rxn00324_c1', 'rxn00327_c1', 'rxn00336_c1', 'rxn00337_c1', 'rxn00338_c1', 'rxn00340_c1', 'rxn00342_c1', 'rxn00342_p1', 'rxn00346_c1', 'rxn00347_c1', 'rxn00350_p1', 'rxn00351_c1', 'rxn00358_c1', 'rxn00361_c1', 'rxn00363_c1', 'rxn00363_p1', 'rxn00364_c1', 'rxn00365_c1', 'rxn00366_c1', 'rxn00367_c1', 'rxn00369_c1', 'rxn00377_c1', 'rxn00391_c1', 'rxn00391_p1', 'rxn00392_c1', 'rxn00405_c1', 'rxn00405_p1', 'rxn00408_c1', 'rxn00409_c1', 'rxn00411_c1', 'rxn00412_c1', 'rxn00414_c1', 'rxn00416_c1', 'rxn00418_c1', 'rxn00420_c1', 'rxn00420_p1', 'rxn00423_c1', 'rxn00433_c1', 'rxn00436_c1', 'rxn00438_c1', 'rxn00452_c1', 'rxn00459_c1', 'rxn00460_c1', 'rxn00461_c1', 'rxn00463_c1', 'rxn00469_c1', 'rxn00470_c1', 'rxn00473_c1', 'rxn00474_c1', 'rxn00493_c1', 'rxn00500_c1', 'rxn00503_c1', 'rxn00507_c1', 'rxn00508_c1', 'rxn00509_c1', 'rxn00512_c1', 'rxn00513_c1', 'rxn00514_c1', 'rxn00527_c1', 'rxn00533_c1', 'rxn00539_c1', 'rxn00540_c1', 'rxn00541_c1', 'rxn00543_c1', 'rxn00545_c1', 'rxn00546_c1', 'rxn00547_c1', 'rxn00549_c1', 'rxn00552_c1', 'rxn00555_c1', 'rxn00558_c1', 'rxn00559_c1', 'rxn00566_c1', 'rxn00598_c1', 'rxn00601_c1', 'rxn00604_c1', 'rxn00605_c1', 'rxn00606_c1', 'rxn00608_c1', 'rxn00610_c1', 'rxn00612_c1', 'rxn00615_c1', 'rxn00624_c1', 'rxn00639_c1', 'rxn00640_c1', 'rxn00642_c1', 'rxn00646_c1', 'rxn00647_c1', 'rxn00649_c1', 'rxn00650_c1', 'rxn00669_c1', 'rxn00670_c1', 'rxn00672_c1', 'rxn00686_c1', 'rxn00690_c1', 'rxn00691_c1', 'rxn00693_c1', 'rxn00695_c1', 'rxn00701_c1', 'rxn00704_c1', 'rxn00708_c1', 'rxn00708_p1', 'rxn00709_c1', 'rxn00710_c1', 'rxn00711_c1', 'rxn00713_c1', 'rxn00717_c1', 'rxn00719_c1', 'rxn00727_c1', 'rxn00737_c1', 'rxn00743_c1', 'rxn00745_c1', 'rxn00747_c1', 'rxn00748_c1', 'rxn00758_c1', 'rxn00758_p1', 'rxn00762_c1', 'rxn00763_c1', 'rxn00766_c1', 'rxn00766_p1', 'rxn00781_c1', 'rxn00783_c1', 'rxn00784_c1', 'rxn00785_c1', 'rxn00786_c1', 'rxn00787_c1', 'rxn00789_c1', 'rxn00790_c1', 'rxn00791_c1', 'rxn00797_c1', 'rxn00800_c1', 'rxn00802_c1', 'rxn00806_c1', 'rxn00808_c1', 'rxn00816_c1', 'rxn00816_p1', 'rxn00817_c1', 'rxn00830_c1', 'rxn00831_c1', 'rxn00831_p1', 'rxn00832_c1', 'rxn00834_c1', 'rxn00835_c1', 'rxn00836_c1', 'rxn00837_c1', 'rxn00838_c1', 'rxn00839_c1', 'rxn00851_c1', 'rxn00856_c1', 'rxn00858_c1', 'rxn00859_c1', 'rxn00872_c1', 'rxn00874_c1', 'rxn00875_c1', 'rxn00880_c1', 'rxn00881_c1', 'rxn00889_c1', 'rxn00889_p1', 'rxn00892_c1', 'rxn00903_c1', 'rxn00904_c1', 'rxn00907_c1', 'rxn00908_c1', 'rxn00912_c1', 'rxn00913_c1', 'rxn00913_p1', 'rxn00914_c1', 'rxn00916_c1', 'rxn00917_c1', 'rxn00920_c1', 'rxn00926_c1', 'rxn00927_c1', 'rxn00931_c1', 'rxn00938_c1', 'rxn00943_c1', 'rxn00946_c1', 'rxn00950_c1', 'rxn00966_c1', 'rxn00974_c1', 'rxn00975_c1', 'rxn00979_c1', 'rxn00980_c1', 'rxn00985_c1', 'rxn00990_c1', 'rxn01000_c1', 'rxn01011_c1', 'rxn01013_c1', 'rxn01015_c1', 'rxn01018_c1', 'rxn01019_c1', 'rxn01021_c1', 'rxn01053_c1', 'rxn01068_c1', 'rxn01069_c1', 'rxn01073_c1', 'rxn01073_p1', 'rxn01080_c1', 'rxn01084_c1', 'rxn01093_c1', 'rxn01094_c1', 'rxn01100_c1', 'rxn01101_c1', 'rxn01102_c1', 'rxn01106_c1', 'rxn01115_c1', 'rxn01116_c1', 'rxn01127_c1', 'rxn01133_c1', 'rxn01137_c1', 'rxn01138_c1', 'rxn01139_p1', 'rxn01143_c1', 'rxn01145_c1', 'rxn01145_p1', 'rxn01146_c1', 'rxn01152_c1', 'rxn01204_c1', 'rxn01211_c1', 'rxn01213_c1', 'rxn01218_c1', 'rxn01218_p1', 'rxn01219_c1', 'rxn01222_c1', 'rxn01225_c1', 'rxn01255_c1', 'rxn01256_c1', 'rxn01257_c1', 'rxn01258_c1', 'rxn01268_c1', 'rxn01274_c1', 'rxn01275_c1', 'rxn01276_c1', 'rxn01278_c1', 'rxn01280_c1', 'rxn01292_c1', 'rxn01297_c1', 'rxn01299_c1', 'rxn01300_c1', 'rxn01302_c1', 'rxn01304_c1', 'rxn01307_c1', 'rxn01322_c1', 'rxn01331_c1', 'rxn01332_c1', 'rxn01333_c1', 'rxn01334_c1', 'rxn01343_c1', 'rxn01351_c1', 'rxn01352_c1', 'rxn01353_c1', 'rxn01358_c1', 'rxn01362_c1', 'rxn01363_c1', 'rxn01365_c1', 'rxn01366_c1', 'rxn01367_p1', 'rxn01368_c1', 'rxn01395_c1', 'rxn01396_c1', 'rxn01403_c1', 'rxn01404_c1', 'rxn01406_c1', 'rxn01416_c1', 'rxn01416_p1', 'rxn01434_c1', 'rxn01445_c1', 'rxn01445_p1', 'rxn01446_c1', 'rxn01451_c1', 'rxn01457_c1', 'rxn01465_c1', 'rxn01466_c1', 'rxn01476_c1', 'rxn01477_c1', 'rxn01484_c1', 'rxn01485_c1', 'rxn01492_c1', 'rxn01506_c1', 'rxn01507_c1', 'rxn01507_p1', 'rxn01509_c1', 'rxn01512_c1', 'rxn01513_c1', 'rxn01518_c1', 'rxn01519_c1', 'rxn01520_c1', 'rxn01521_c1', 'rxn01521_p1', 'rxn01522_c1', 'rxn01538_c1', 'rxn01541_c1', 'rxn01545_c1', 'rxn01548_c1', 'rxn01549_p1', 'rxn01575_c1', 'rxn01603_c1', 'rxn01606_c1', 'rxn01615_c1', 'rxn01617_c1', 'rxn01618_c1', 'rxn01619_c1', 'rxn01620_c1', 'rxn01621_c1', 'rxn01637_c1', 'rxn01643_c1', 'rxn01644_c1', 'rxn01649_c1', 'rxn01652_c1', 'rxn01669_c1', 'rxn01672_c1', 'rxn01673_c1', 'rxn01675_c1', 'rxn01678_c1', 'rxn01682_c1', 'rxn01704_p1', 'rxn01715_p1', 'rxn01739_c1', 'rxn01740_c1', 'rxn01747_c1', 'rxn01748_c1', 'rxn01761_c1', 'rxn01763_c1', 'rxn01775_c1', 'rxn01790_c1', 'rxn01791_c1', 'rxn01799_c1', 'rxn01800_c1', 'rxn01806_c1', 'rxn01807_c1', 'rxn01808_c1', 'rxn01831_c1', 'rxn01832_c1', 'rxn01833_c1', 'rxn01834_c1', 'rxn01840_c1', 'rxn01842_c1', 'rxn01851_c1', 'rxn01857_c1', 'rxn01858_c1', 'rxn01859_c1', 'rxn01867_c1', 'rxn01868_c1', 'rxn01883_c1', 'rxn01893_c1', 'rxn01895_c1', 'rxn01903_p1', 'rxn01911_c1', 'rxn01917_c1', 'rxn01951_c1', 'rxn01961_c1', 'rxn01961_p1', 'rxn01962_c1', 'rxn01964_c1', 'rxn01973_c1', 'rxn01974_c1', 'rxn01985_c1', 'rxn01986_c1', 'rxn01989_c1', 'rxn01990_c1', 'rxn01997_c1', 'rxn02000_c1', 'rxn02004_c1', 'rxn02008_c1', 'rxn02011_c1', 'rxn02102_c1', 'rxn02104_c1', 'rxn02155_c1', 'rxn02160_c1', 'rxn02161_c1', 'rxn02167_c1', 'rxn02175_c1', 'rxn02177_c1', 'rxn02201_c1', 'rxn02212_c1', 'rxn02213_c1', 'rxn02230_c1', 'rxn02263_c1', 'rxn02264_c1', 'rxn02277_c1', 'rxn02285_c1', 'rxn02286_c1', 'rxn02287_c1', 'rxn02288_c1', 'rxn02303_c1', 'rxn02305_c1', 'rxn02312_c1', 'rxn02314_c1', 'rxn02319_c1', 'rxn02321_c1', 'rxn02341_c1', 'rxn02374_c1', 'rxn02375_c1', 'rxn02377_c1', 'rxn02402_c1', 'rxn02404_c1', 'rxn02405_c1', 'rxn02449_c1', 'rxn02465_c1', 'rxn02473_c1', 'rxn02474_c1', 'rxn02475_c1', 'rxn02476_c1', 'rxn02484_c1', 'rxn02503_c1', 'rxn02504_c1', 'rxn02507_c1', 'rxn02508_c1', 'rxn02518_c1', 'rxn02521_p1', 'rxn02522_p1', 'rxn02552_c1', 'rxn02569_c1', 'rxn02666_c1', 'rxn02667_c1', 'rxn02676_c1', 'rxn02679_c1', 'rxn02680_c1', 'rxn02720_c1', 'rxn02762_p1', 'rxn02774_c1', 'rxn02789_c1', 'rxn02803_c1', 'rxn02804_c1', 'rxn02811_c1', 'rxn02831_c1', 'rxn02834_c1', 'rxn02835_c1', 'rxn02895_c1', 'rxn02897_c1', 'rxn02911_c1', 'rxn02914_c1', 'rxn02927_c1', 'rxn02929_c1', 'rxn02937_c1', 'rxn02939_c1', 'rxn02944_c1', 'rxn02993_p1', 'rxn03004_c1', 'rxn03031_c1', 'rxn03038_c1', 'rxn03043_c1', 'rxn03060_c1', 'rxn03062_c1', 'rxn03066_c1', 'rxn03075_c1', 'rxn03080_c1', 'rxn03084_c1', 'rxn03087_c1', 'rxn03108_c1', 'rxn03130_c1', 'rxn03136_c1', 'rxn03137_c1', 'rxn03146_c1', 'rxn03147_c1', 'rxn03150_c1', 'rxn03159_c1', 'rxn03164_c1', 'rxn03173_c1', 'rxn03175_c1', 'rxn03181_c1', 'rxn03182_c1', 'rxn03240_c1', 'rxn03241_c1', 'rxn03243_c1', 'rxn03245_c1', 'rxn03247_c1', 'rxn03248_c1', 'rxn03250_c1', 'rxn03251_c1', 'rxn03253_c1', 'rxn03393_c1', 'rxn03394_c1', 'rxn03395_c1', 'rxn03422_c1', 'rxn03439_c1', 'rxn03445_c1', 'rxn03483_p1', 'rxn03511_c1', 'rxn03536_c1', 'rxn03537_c1', 'rxn03538_c1', 'rxn03630_c1', 'rxn03638_c1', 'rxn03841_c1', 'rxn03842_c1', 'rxn03856_c1', 'rxn03884_c1', 'rxn03886_c1', 'rxn03887_c1', 'rxn03893_c1', 'rxn03904_c1', 'rxn03907_c1', 'rxn03908_c1', 'rxn03909_c1', 'rxn03910_c1', 'rxn03916_c1', 'rxn03917_c1', 'rxn03953_c1', 'rxn03954_c1', 'rxn03958_c1', 'rxn03974_c1', 'rxn03976_c1', 'rxn03990_c1', 'rxn03991_c1', 'rxn04016_c1', 'rxn04082_c1', 'rxn04137_c1', 'rxn04142_c1', 'rxn04597_c1', 'rxn04598_c1', 'rxn04599_c1', 'rxn04600_c1', 'rxn04601_c1', 'rxn04602_c1', 'rxn04603_c1', 'rxn04604_c1', 'rxn04651_c1', 'rxn04661_c1', 'rxn04704_c1', 'rxn04750_c1', 'rxn04751_c1', 'rxn04783_c1', 'rxn04791_c1', 'rxn04792_c1', 'rxn04794_c1', 'rxn04928_c1', 'rxn04930_c1', 'rxn05029_c1', 'rxn05039_c1', 'rxn05040_c1', 'rxn05044_c1', 'rxn05064_c1', 'rxn05087_c1', 'rxn05088_c1', 'rxn05114_c1', 'rxn05115_c1', 'rxn05120_c1', 'rxn05127_c1', 'rxn05128_c1', 'rxn05231_c1', 'rxn05233_c1', 'rxn05239_c1', 'rxn05289_c1', 'rxn05322_c1', 'rxn05324_c1', 'rxn05325_c1', 'rxn05326_c1', 'rxn05327_c1', 'rxn05330_c1', 'rxn05331_c1', 'rxn05332_c1', 'rxn05333_c1', 'rxn05334_c1', 'rxn05335_c1', 'rxn05336_c1', 'rxn05337_c1', 'rxn05338_c1', 'rxn05340_c1', 'rxn05341_c1', 'rxn05342_c1', 'rxn05343_c1', 'rxn05345_c1', 'rxn05346_c1', 'rxn05347_c1', 'rxn05348_c1', 'rxn05349_c1', 'rxn05350_c1', 'rxn05465_c1', 'rxn05746_c1', 'rxn05958_c1', 'rxn06510_c1', 'rxn06556_c1', 'rxn06591_c1', 'rxn06723_c1', 'rxn06729_c1', 'rxn06937_c1', 'rxn07436_c1', 'rxn07466_c1', 'rxn07473_c1', 'rxn07474_c1', 'rxn07475_c1', 'rxn07492_c1', 'rxn07584_c1', 'rxn07948_c1', 'rxn07949_c1', 'rxn07950_c1', 'rxn07951_c1', 'rxn07960_c1', 'rxn07962_c1', 'rxn07964_c1', 'rxn07969_c1', 'rxn07970_c1', 'rxn07971_c1', 'rxn07976_c1', 'rxn07977_c1', 'rxn07978_c1', 'rxn07980_c1', 'rxn07981_c1', 'rxn07987_c1', 'rxn07989_c1', 'rxn07991_c1', 'rxn07992_c1', 'rxn07993_c1', 'rxn07994_c1', 'rxn07997_c1', 'rxn07998_c1', 'rxn08000_c1', 'rxn08001_c1', 'rxn08002_c1', 'rxn08007_c1', 'rxn08007_p1', 'rxn08013_c1', 'rxn08015_c1', 'rxn08016_c1', 'rxn08017_c1', 'rxn08019_c1', 'rxn08020_c1', 'rxn08021_c1', 'rxn08022_c1', 'rxn08023_c1', 'rxn08025_c1', 'rxn08034_c1', 'rxn08035_p1', 'rxn08038_p1', 'rxn08040_c1', 'rxn08044_c1', 'rxn08045_c1', 'rxn08053_c1', 'rxn08066_c1', 'rxn08067_c1', 'rxn08073_c1', 'rxn08073_p1', 'rxn08074_c1', 'rxn08076_c1', 'rxn08076_p1', 'rxn08077_c1', 'rxn08077_p1', 'rxn08078_c1', 'rxn08080_c1', 'rxn08083_c1', 'rxn08085_c1', 'rxn08086_c1', 'rxn08087_c1', 'rxn08088_c1', 'rxn08094_c1', 'rxn08100_c1', 'rxn08103_c1', 'rxn08110_c1', 'rxn08111_c1', 'rxn08113_c1', 'rxn08118_c1', 'rxn08119_p1', 'rxn08122_c1', 'rxn08123_c1', 'rxn08124_c1', 'rxn08125_c1', 'rxn08128_c1', 'rxn08129_c1', 'rxn08130_c1', 'rxn08131_c1', 'rxn08133_c1', 'rxn08136_c1', 'rxn08137_c1', 'rxn08144_e0', 'rxn08145_c1', 'rxn08146_c1', 'rxn08147_c1', 'rxn08166_c1', 'rxn08167_c1', 'rxn08168_c1', 'rxn08171_c1', 'rxn08172_c1', 'rxn08178_c1', 'rxn08179_c1', 'rxn08199_c1', 'rxn08200_c1', 'rxn08201_c1', 'rxn08202_c1', 'rxn08203_c1', 'rxn08204_c1', 'rxn08205_c1', 'rxn08206_c1', 'rxn08207_c1', 'rxn08208_c1', 'rxn08209_c1', 'rxn08219_p1', 'rxn08220_p1', 'rxn08221_p1', 'rxn08222_p1', 'rxn08223_p1', 'rxn08224_p1', 'rxn08225_p1', 'rxn08226_p1', 'rxn08227_p1', 'rxn08228_p1', 'rxn08229_p1', 'rxn08230_p1', 'rxn08231_p1', 'rxn08232_p1', 'rxn08246_e0', 'rxn08247_c1', 'rxn08248_c1', 'rxn08249_c1', 'rxn08254_c1', 'rxn08255_c1', 'rxn08256_c1', 'rxn08258_c1', 'rxn08260_c1', 'rxn08277_c1', 'rxn08291_c1', 'rxn08294_c1', 'rxn08295_c1', 'rxn08296_c1', 'rxn08297_c1', 'rxn08298_c1', 'rxn08299_c1', 'rxn08300_c1', 'rxn08306_c1', 'rxn08307_c1', 'rxn08308_c1', 'rxn08309_c1', 'rxn08310_c1', 'rxn08311_c1', 'rxn08312_c1', 'rxn08313_c1', 'rxn08333_c1', 'rxn08335_c1', 'rxn08336_c1', 'rxn08341_c1', 'rxn08345_c1', 'rxn08346_c1', 'rxn08347_c1', 'rxn08352_c1', 'rxn08353_c1', 'rxn08354_c1', 'rxn08356_c1', 'rxn08368_p1', 'rxn08369_c1', 'rxn08370_p1', 'rxn08371_c1', 'rxn08380_c1', 'rxn08386_c1', 'rxn08387_c1', 'rxn08390_c1', 'rxn08391_c1', 'rxn08392_c1', 'rxn08393_c1', 'rxn08394_c1', 'rxn08395_c1', 'rxn08413_c1', 'rxn08417_c1', 'rxn08429_c1', 'rxn08430_c1', 'rxn08433_c1', 'rxn08435_c1', 'rxn08436_c1', 'rxn08437_c1', 'rxn08438_c1', 'rxn08439_c1', 'rxn08440_c1', 'rxn08441_c1', 'rxn08442_c1', 'rxn08443_c1', 'rxn08444_c1', 'rxn08446_c1', 'rxn08447_c1', 'rxn08458_c1', 'rxn08459_c1', 'rxn08467_c1', 'rxn08468_c1', 'rxn08469_c1', 'rxn08470_c1', 'rxn08471_c1', 'rxn08484_e0', 'rxn08485_c1', 'rxn08486_c1', 'rxn08487_c1', 'rxn08491_c1', 'rxn08494_e0', 'rxn08495_c1', 'rxn08496_c1', 'rxn08497_c1', 'rxn08502_e0', 'rxn08503_c1', 'rxn08504_c1', 'rxn08505_c1', 'rxn08518_c1', 'rxn08521_c1', 'rxn08527_c1', 'rxn08528_c1', 'rxn08530_c1', 'rxn08531_c1', 'rxn08532_c1', 'rxn08546_c1', 'rxn08548_c1', 'rxn08549_c1', 'rxn08550_c1', 'rxn08551_c1', 'rxn08556_c1', 'rxn08557_c1', 'rxn08558_c1', 'rxn08571_p1', 'rxn08575_c1', 'rxn08582_p1', 'rxn08583_c1', 'rxn08597_c1', 'rxn08598_c1', 'rxn08599_c1', 'rxn08603_c1', 'rxn08604_c1', 'rxn08605_c1', 'rxn08607_c1', 'rxn08611_c1', 'rxn08619_c1', 'rxn08620_c1', 'rxn08647_c1', 'rxn08655_c1', 'rxn08656_c1', 'rxn08657_c1', 'rxn08659_c1', 'rxn08666_c1', 'rxn08667_c1', 'rxn08668_c1', 'rxn08668_p1', 'rxn08669_c1', 'rxn08669_p1', 'rxn08670_c1', 'rxn08679_c1', 'rxn08684_p1', 'rxn08688_c1', 'rxn08703_c1', 'rxn08706_c1', 'rxn08708_c1', 'rxn08709_c1', 'rxn08710_c1', 'rxn08711_c1', 'rxn08712_c1', 'rxn08713_c1', 'rxn08733_c1', 'rxn08756_c1', 'rxn08766_c1', 'rxn08767_c1', 'rxn08772_p1', 'rxn08773_c1', 'rxn08775_c1', 'rxn08783_c1', 'rxn08789_e0', 'rxn08790_e0', 'rxn08792_c1', 'rxn08793_c1', 'rxn08796_p1', 'rxn08797_p1', 'rxn08798_p1', 'rxn08799_p1', 'rxn08800_p1', 'rxn08801_p1', 'rxn08805_p1', 'rxn08807_p1', 'rxn08812_p1', 'rxn08814_p1', 'rxn08817_c1', 'rxn08818_c1', 'rxn08819_c1', 'rxn08820_c1', 'rxn08821_c1', 'rxn08822_c1', 'rxn08826_c1', 'rxn08828_c1', 'rxn08830_c1', 'rxn08833_c1', 'rxn08835_c1', 'rxn08837_c1', 'rxn08840_c1', 'rxn08841_c1', 'rxn08842_c1', 'rxn08843_c1', 'rxn08845_c1', 'rxn08847_c1', 'rxn08849_c1', 'rxn08861_c1', 'rxn08884_c1', 'rxn08887_p1', 'rxn08888_p1', 'rxn08889_p1', 'rxn08890_p1', 'rxn08891_p1', 'rxn08892_p1', 'rxn08893_p1', 'rxn08894_p1', 'rxn08895_p1', 'rxn08896_p1', 'rxn08897_p1', 'rxn08898_p1', 'rxn08900_c1', 'rxn08901_c1', 'rxn08926_p1', 'rxn08927_p1', 'rxn08928_p1', 'rxn08929_p1', 'rxn08930_p1', 'rxn08931_p1', 'rxn08932_p1', 'rxn08935_c1', 'rxn08936_c1', 'rxn08937_p1', 'rxn08938_p1', 'rxn08939_p1', 'rxn08940_p1', 'rxn08942_c1', 'rxn08943_c1', 'rxn08948_c1', 'rxn08954_c1', 'rxn08971_c1', 'rxn08975_c1', 'rxn08976_c1', 'rxn08977_c1', 'rxn08978_c1', 'rxn08979_c1', 'rxn08981_c1', 'rxn09010_c1', 'rxn09010_p1', 'rxn09011_c1', 'rxn09012_c1', 'rxn09013_c1', 'rxn09014_c1', 'rxn09016_c1', 'rxn09025_c1', 'rxn09027_c1', 'rxn09028_c1', 'rxn09029_c1', 'rxn09037_c1', 'rxn09038_c1', 'rxn09039_c1', 'rxn09041_c1', 'rxn09045_c1', 'rxn09062_c1', 'rxn09062_p1', 'rxn09063_c1', 'rxn09063_p1', 'rxn09064_c1', 'rxn09064_p1', 'rxn09065_c1', 'rxn09065_p1', 'rxn09066_c1', 'rxn09066_p1', 'rxn09067_c1', 'rxn09067_p1', 'rxn09068_c1', 'rxn09068_p1', 'rxn09069_c1', 'rxn09071_c1', 'rxn09072_c1', 'rxn09082_p1', 'rxn09083_p1', 'rxn09101_c1', 'rxn09101_p1', 'rxn09102_c1', 'rxn09102_p1', 'rxn09103_c1', 'rxn09103_p1', 'rxn09104_c1', 'rxn09104_p1', 'rxn09105_c1', 'rxn09105_p1', 'rxn09106_c1', 'rxn09106_p1', 'rxn09107_c1', 'rxn09107_p1', 'rxn09108_c1', 'rxn09109_c1', 'rxn09110_c1', 'rxn09111_c1', 'rxn09112_c1', 'rxn09113_c1', 'rxn09114_c1', 'rxn09119_p1', 'rxn09123_p1', 'rxn09124_p1', 'rxn09125_p1', 'rxn09126_p1', 'rxn09127_p1', 'rxn09128_p1', 'rxn09132_p1', 'rxn09133_p1', 'rxn09134_p1', 'rxn09135_p1', 'rxn09137_p1', 'rxn09139_p1', 'rxn09141_p1', 'rxn09144_p1', 'rxn09145_p1', 'rxn09146_p1', 'rxn09147_p1', 'rxn09148_p1', 'rxn09149_p1', 'rxn09153_p1', 'rxn09155_p1', 'rxn09160_p1', 'rxn09162_p1', 'rxn09167_c1', 'rxn09174_c1', 'rxn09176_c1', 'rxn09177_c1', 'rxn09179_c1', 'rxn09180_c1', 'rxn09184_p1', 'rxn09197_c1', 'rxn09198_c1', 'rxn09199_c1', 'rxn09200_c1', 'rxn09201_c1', 'rxn09202_c1', 'rxn09203_c1', 'rxn09205_c1', 'rxn09206_c1', 'rxn09207_c1', 'rxn09208_c1', 'rxn09209_c1', 'rxn09210_c1', 'rxn09211_c1', 'rxn09212_p1', 'rxn09219_c1', 'rxn09220_c1', 'rxn09221_c1', 'rxn09231_c1', 'rxn09232_c1', 'rxn09233_c1', 'rxn09234_c1', 'rxn09240_c1', 'rxn09264_c1', 'rxn09265_c1', 'rxn09272_c1', 'rxn09280_c1', 'rxn09288_c1', 'rxn09296_c1', 'rxn09313_c1', 'rxn09315_c1', 'rxn09320_c1', 'rxn09336_p1', 'rxn09340_p1', 'rxn09341_p1', 'rxn09348_p1', 'rxn09355_p1', 'rxn09358_c1', 'rxn09359_c1', 'rxn09360_c1', 'rxn09363_c1', 'rxn09370_c1', 'rxn09692_c2', 'rxn10432_c1', 'rxn10770_c1', 'rxn11161_c1', 'rxn11409_c1', 'rxn11702_c1', 'rxn12049_c1', 'rxn12188_c1', 'rxn12510_c1', 'rxn13251_c1', 'rxn13299_c1', 'rxn13643_c1', 'rxn13741_c1', 'rxn13827_c1', 'rxn13930_c1', 'rxn15018_c1', 'rxn15019_c1', 'rxn15049_c1', 'rxn15108_c1', 'rxn15113_c1', 'rxn15114_c1', 'rxn15115_c1', 'rxn15164_c1', 'rxn15346_c1', 'rxn15467_c1', 'rxn15726_c1', 'rxn16149_c1', 'rxn16208_c1', 'rxn16231_c1', 'rxn16385_c1', 'rxn16573_c1', 'rxn16574_c1', 'rxn16680_c1', 'rxn16794_c1', 'rxn16806_c1', 'rxn16824_c1', 'rxn16829_c1', 'rxn17394_c1', 'rxn19316_c1', 'rxn19830_c1', 'rxn19870_c1', 'rxn20026_c1', 'rxn20162_c1', 'rxn20223_c1', 'rxn20474_c1', 'rxn20476_c1', 'rxn20478_c1', 'rxn20480_c1', 'rxn20661_c1', 'rxn20806_c1', 'rxn20808_c1', 'rxn21082_c1', 'rxn21858_c1', 'rxn21859_c1', 'rxn21862_c1', 'rxn21863_c1', 'rxn21864_c1', 'rxn23157_c1', 'rxn23414_c1', 'rxn23415_c1', 'rxn23589_c1', 'rxn25383_c1', 'rxn25647_c1', 'rxn25750_c1', 'rxn26028_c1', 'rxn26035_p1', 'rxn26096_c1', 'rxn26129_c1', 'rxn26140_c1', 'rxn26144_c1', 'rxn26301_c1', 'rxn26313_c1', 'rxn26348_c1', 'rxn26361_c1', 'rxn26396_c1', 'rxn26410_c1', 'rxn26414_c1', 'rxn26434_c1', 'rxn26435_c1', 'rxn26439_c1', 'rxn26440_c1', 'rxn26441_c1', 'rxn26464_c1', 'rxn27497_c1', 'rxn27920_c1', 'rxn27926_c1', 'rxn28669_c1', 'rxn28669_p1', 'rxn28681_c1', 'rxn28987_c1', 'rxn30058_c1', 'rxn30062_c1', 'rxn30145_c1', 'rxn30333_c1', 'rxn30390_c1', 'rxn30392_c1', 'rxn30403_c1', 'rxn30407_c1', 'rxn30417_c1', 'rxn30430_c1', 'rxn30431_c1', 'rxn30654_c1', 'rxn30674_c1', 'rxn30718_c1', 'rxn32027_c1', 'rxn32133_c1', 'rxn32259_c1', 'rxn32380_c1', 'rxn32421_c1', 'rxn32479_c1', 'rxn32587_c1', 'rxn32754_c1', 'rxn32907_c1', 'rxn33164_c1', 'rxn33365_c1', 'rxn33691_c1', 'rxn33768_c1', 'rxn34008_c1', 'rxn34258_c1', 'rxn34273_c1', 'rxn34709_c1', 'rxn34710_c1', 'rxn34711_c1', 'rxn34714_c1', 'rxn34715_c1', 'rxn34716_c1', 'rxn34717_c1', 'rxn34718_c1', 'rxn34734_c1', 'rxn34735_c1', 'rxn34741_c1', 'rxn34963_c1', 'rxn35242_c1', 'rxn35346_c1', 'rxn35427_c1', 'rxn35442_c1', 'rxn38972_c1', 'rxn39058_c1', 'rxn39058_p1', 'sink__DASH__s_c2', 'sort', 'union']\n"
     ]
    }
   ],
   "source": [
    "community = kbase_api.get_from_ws(\"CMM_iAH991V2_iML1515.kb\",40576)\n",
    "print(dir(community.reactions))"
   ]
  },
  {
   "cell_type": "code",
   "execution_count": null,
   "id": "6d437691-e0e9-405a-99b9-b8fded66e46e",
   "metadata": {},
   "outputs": [],
   "source": []
  }
 ],
 "metadata": {
  "kernelspec": {
   "display_name": "Python 3 (ipykernel)",
   "language": "python",
   "name": "python3"
  },
  "language_info": {
   "codemirror_mode": {
    "name": "ipython",
    "version": 3
   },
   "file_extension": ".py",
   "mimetype": "text/x-python",
   "name": "python",
   "nbconvert_exporter": "python",
   "pygments_lexer": "ipython3",
   "version": "3.9.12"
  }
 },
 "nbformat": 4,
 "nbformat_minor": 5
}
