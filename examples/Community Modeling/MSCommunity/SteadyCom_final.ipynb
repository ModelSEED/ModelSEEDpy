{
 "cells": [
  {
   "cell_type": "code",
   "execution_count": 2,
   "id": "694ee2ec",
   "metadata": {},
   "outputs": [
    {
     "name": "stdout",
     "output_type": "stream",
     "text": [
      "cobrakbase 0.2.7\n"
     ]
    }
   ],
   "source": [
    "import cobrakbase\n",
    "from reframed import *\n",
    "\n",
    "kbase = cobrakbase.KBaseAPI()"
   ]
  },
  {
   "cell_type": "code",
   "execution_count": 3,
   "id": "98da5419",
   "metadata": {},
   "outputs": [
    {
     "name": "stderr",
     "output_type": "stream",
     "text": [
      "WARNING:cobrakbase.core.kbasefba.fbamodel_builder:unable to add sink for [cpd02701_c0]: not found\n",
      "WARNING:cobrakbase.core.kbasefba.fbamodel_builder:unable to add sink for [cpd15302_c0]: not found\n"
     ]
    },
    {
     "name": "stdout",
     "output_type": "stream",
     "text": [
      "FBA\n",
      "Objective: 0.13415949482528114\n",
      "Status: Optimal\n",
      "\n",
      "SteadyCom\n",
      "Community growth: 0.1337890625\n",
      "m1\t0.8999076500420199\n",
      "m2\t0.00024233331552488835\n",
      "m3\t0.0998500166424553\n"
     ]
    }
   ],
   "source": [
    "# # Running FBA/SteadyCom on merged electro community model\n",
    "model1 = from_cobrapy(kbase.get_from_ws('Acetobacterium_MES1.electrosynthesis.edited', 93204))\n",
    "model1.id = 'm1'\n",
    "model1.compartments.e0.external = True\n",
    "model2 = from_cobrapy(kbase.get_from_ws('Sulfurospirillum_MES13.autotroph.edited', 93204))\n",
    "model2.id = 'm2'\n",
    "model2.compartments.e0.external = True\n",
    "model3 = from_cobrapy(kbase.get_from_ws('Desulfovibrio_MES4.autotroph.edited.v2', 93204))\n",
    "model3.id = 'm3'\n",
    "model3.compartments.e0.external = True\n",
    "\n",
    "for rxn_id in model1.reactions:\n",
    "    if 'EX_' in rxn_id:\n",
    "        rxn = model1.reactions[rxn_id]\n",
    "        rxn.reaction_type = ReactionType.EXCHANGE\n",
    "for rxn_id in model2.reactions:\n",
    "    if 'EX_' in rxn_id:\n",
    "        rxn = model2.reactions[rxn_id]\n",
    "        rxn.reaction_type = ReactionType.EXCHANGE\n",
    "for rxn_id in model3.reactions:\n",
    "    if 'EX_' in rxn_id:\n",
    "        rxn = model3.reactions[rxn_id]\n",
    "        rxn.reaction_type = ReactionType.EXCHANGE\n",
    "        \n",
    "electroCommunity = Community('electro.community',[model1,model2,model3])\n",
    "\n",
    "media = kbase.get_from_ws('CO2_minimal', 93204) #  we download the media from KBase\n",
    "media_const = media.get_media_constraints() #  get constraints \n",
    "\n",
    "for r in electroCommunity.merged_model.get_exchange_reactions():\n",
    "    rxn = electroCommunity.merged_model.reactions[r]\n",
    "    if r[5:] in media_const: #  if constraint in media we assign bounds\n",
    "        lb, ub = media_const[r[5:]]\n",
    "        rxn.set_flux_bounds(lb, ub)\n",
    "    else: #  otherwise set to excretion only\n",
    "        rxn.set_flux_bounds(0, 1000)\n",
    "\n",
    "print('FBA')\n",
    "res = FBA(electroCommunity.merged_model) #  test if new media works\n",
    "print(res)\n",
    "\n",
    "print('SteadyCom')\n",
    "sol = SteadyCom(electroCommunity)\n",
    "print(sol)"
   ]
  },
  {
   "cell_type": "code",
   "execution_count": null,
   "id": "d158deae",
   "metadata": {},
   "outputs": [],
   "source": []
  }
 ],
 "metadata": {
  "kernelspec": {
   "display_name": "Python 3",
   "language": "python",
   "name": "python3"
  },
  "language_info": {
   "codemirror_mode": {
    "name": "ipython",
    "version": 3
   },
   "file_extension": ".py",
   "mimetype": "text/x-python",
   "name": "python",
   "nbconvert_exporter": "python",
   "pygments_lexer": "ipython3",
   "version": "3.8.8"
  }
 },
 "nbformat": 4,
 "nbformat_minor": 5
}
