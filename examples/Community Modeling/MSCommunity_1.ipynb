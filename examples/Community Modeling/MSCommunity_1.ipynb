{
 "cells": [
  {
   "cell_type": "markdown",
   "metadata": {},
   "source": [
    "# Import KBase and cFBA"
   ]
  },
  {
   "cell_type": "code",
   "execution_count": 1,
   "metadata": {},
   "outputs": [
    {
     "name": "stdout",
     "output_type": "stream",
     "text": [
      "cobrakbase 0.2.8\n"
     ]
    }
   ],
   "source": [
    "# import kbase\n",
    "import os\n",
    "local_cobrakbase_path = os.path.join('C:', 'Users', 'Andrew Freiburger','Documents','Argonne','cobrakbase')\n",
    "os.environ[\"HOME\"] = local_cobrakbase_path\n",
    "import cobrakbase\n",
    "with open(\"C:/Users/Andrew Freiburger/Documents/Argonne/kbase_token.txt\") as token_file:\n",
    "    kbase = cobrakbase.KBaseAPI(token_file.readline())\n",
    "\n",
    "# ecoli = kbase.get_from_ws(\"iML1515\",76994)\n",
    "ah991 = kbase.get_from_ws(\"iAH991V2\", 93832)\n",
    "pf = kbase.get_from_ws(\"iSB1139.kb.gf\",30650)\n",
    "\n",
    "# import cFBA\n",
    "# %run ../../modelseedpy/community/mscommunity.py\n",
    "# %matplotlib inline"
   ]
  },
  {
   "cell_type": "markdown",
   "metadata": {},
   "source": [
    "# construct the community model"
   ]
  },
  {
   "cell_type": "code",
   "execution_count": 17,
   "metadata": {
    "scrolled": true,
    "tags": []
   },
   "outputs": [
    {
     "name": "stderr",
     "output_type": "stream",
     "text": [
      "modelseedpy.community.mscompatibility - ERROR - The Bacteroides_thetaiotaomicron_VPI-5482.fbamdl.23 model has residual non-standard metabolites in its exchange reactions: {'pe_cer1_bt_e0', 'hspg_degr_12_e0', 's2l2n2m2m_e0', 'alagly_e0', 'fucneulacnhx_e0', 'chtbs_e0', 'glypro_e0', 'hspg_degr_7_e0', 'hspg_rest_e0', 'gncore2_e0', 'lacnfucpt_e0', 'amannan140_e0', 'Ser_Thr_e0', 'ha_deg1_e0', 'isoval_e0', 'glyglu_e0', 'sT_antigen_e0', 'hspg_degr_8_e0', 'cspg_b_e0', 'hspg_degr_15_e0', 'hspg_degr_5_e0', 'hspg_degr_13_e0', '2omfuc_e0', 'T_antigen_e0', 'mqn10_e0', 'lacnnttr_e0', 'gam26s_e0', 'levanttr_e0', 'unsdigalur_e0', '3fuclac_e0', 'kestottr_e0', 'core3_e0', '3ddlhept_e0', 'plac_e0', 'cspg_c_e0', 'isobut_e0', 'arabinan101_e0', 'Tn_antigen_e0', 'alaglu_e0', 'l2n2m2mn_e0', 's2l2fn2m2masn_e0', 'glyasn_e0', 'arabinogal_e0', 'kestopt_e0', 'manpt_e0', 'gncore1_e0', 'cspg_b_degr_e0', 'core2_e0', 'levan1000_e0', '2omxyl_e0', 'sTn_antigen_e0', 'core7_e0', 'core6_e0', 'apio_D_e0', 'glycogen1500_e0', 'cps_bt_e0', 'lmn30_e0', 'sphmyln_bt_e0', 'pullulan1200_e0', 'dsT_antigen_e0', 'core4_e0', 'oligofru4_e0', 'lacdfucttr_e0', 'levantttr_e0', 'neulacnttr_e0', 's2l2n2m2masn_e0', 'hspg_degr_14_e0', 'hspg_degr_2_e0', 'galam_e0', 'm2mn_e0', 'strch2_e0', '7ocholate_e0', 'hspg_degr_11_e0', 'hspg_degr_1_e0', 'kesto_e0', 'strch1_e0', 'hspg_degr_4_e0', 'homogal_e0', 'alaasp_e0', 'lacnttr_e0', 'mqn11_e0', 'rhamnogalurII_e0', 'rhamnogalurI_e0', 'mn_e0', 'isocapr_e0', 'leuleu_e0', 'mantr_e0', 'amylose300_e0', 'acerA_e0', 'ha_e0', 'lacndfuchx_e0', 'stys_e0', 'mqn9_e0', '12ethd_e0', 'cspg_c_rest_e0', 'mbenz_e0', 'indlac_e0', 'lps_bt_e0', 'arabttr_e0', 'idour_e0', 'levanb_e0', 'ha_pre1_e0', 'lmn2_e0', 'n2m2mn_e0', 'metala_e0', 'argarg_e0', 'hspg_degr_6_e0', 'dt5hsu_e0', 'alathr_e0', 'acgalidour_e0', 'phearg_e0', 'acgalidour2s_e0', 'hspg_degr_9_e0', 'cspg_ab_rest_e0', 'gchola_e0', 'starch1200_e0', '2fuclac_e0', 'f1a_e0', 'acgalglcur_e0', 'phppa_e0', 'cspg_a_e0', 'cspg_a_degr_e0', 'hspg_degr_10_e0', 'glyasp_e0', 'manttr_e0', 'leugly_e0', 'pect_e0', 'core5_e0', 'hspg_e0', 'manb_e0', 'cspg_c_degr_e0', 's2l2n2m2mn_e0', 'core8_e0', 'pecticgal_e0', 'hspg_degr_3_e0'}. Specify a True `printing` parameter to view why these metabolites were not corrected.\n"
     ]
    },
    {
     "name": "stdout",
     "output_type": "stream",
     "text": [
      "\n",
      "\n",
      "\n",
      "Align exchange reactions in Bacteroides_thetaiotaomicron_VPI-5482.fbamdl.23 \n",
      " ==============================================================================\n"
     ]
    },
    {
     "name": "stderr",
     "output_type": "stream",
     "text": [
      "modelseedpy.community.mscompatibility - ERROR - The iSB1139 model has residual non-standard metabolites in its exchange reactions: {'r277_e0', 'r1423_e0', 'r505_e0', 'r1262_e0', 'r1535_e0', 'r1400_e0'}. Specify a True `printing` parameter to view why these metabolites were not corrected.\n"
     ]
    },
    {
     "name": "stdout",
     "output_type": "stream",
     "text": [
      "\n",
      "\n",
      "\n",
      "Align exchange reactions in iSB1139 \n",
      " ======================================\n",
      "\n",
      "\n",
      "{'original': {'id': 'r307_e0', 'name': 'Mn2+'},\n",
      " 'new': {'id': 'cpd00030_e0', 'name': 'Mn2+_e0'},\n",
      " 'justification': 'The r307_e0 and cpd00030_e0 distinction in iSB1139 is '\n",
      "                  'incompatible; hence, the cpd00030_e0 ID and Mn2+_e0 are '\n",
      "                  'used. The r307_e0 ID is not a ModelSEED Database ID.'}\n",
      "\n",
      "\n",
      "{'original': {'id': 'r293_e0', 'name': 'Fe2+'},\n",
      " 'new': {'id': 'cpd10515_e0', 'name': 'Fe2+_e0'},\n",
      " 'justification': 'The r293_e0 and cpd10515_e0 distinction in iSB1139 is '\n",
      "                  'incompatible; hence, the cpd10515_e0 ID and Fe2+_e0 are '\n",
      "                  'used. The r293_e0 ID is not a ModelSEED Database ID.'}\n",
      "\n",
      "\n",
      "0 exchange reactions were substituted and 0 exchange metabolite IDs were redefined by align_exchanges().\n",
      "cpd11416_c1 Bacteroides_thetaiotaomicron_VPI-5482.fbamdl.23\n",
      "bio2 1\n",
      "[2]\n",
      "cpd11416_c2 iSB1139\n",
      "bio3 1\n",
      "[2, 3]\n"
     ]
    }
   ],
   "source": [
    "%run ../../modelseedpy/community/commhelper.py\n",
    "\n",
    "comm_model = build_from_species_models([ah991, pf], cobra_model=True)"
   ]
  },
  {
   "cell_type": "code",
   "execution_count": null,
   "metadata": {},
   "outputs": [],
   "source": [
    "from cobra.io import load_json_model\n",
    "ecoli_json = load_json_model(\"../../../../ProjectNotebooks/CommunityModeling/CommFitting/ecoli.json\")\n",
    "pf_json = load_json_model(\"../../../../ProjectNotebooks/CommunityModeling/CommFitting/pf.json\")"
   ]
  },
  {
   "cell_type": "code",
   "execution_count": 7,
   "metadata": {},
   "outputs": [
    {
     "data": {
      "text/html": [
       "\n",
       "        <table>\n",
       "            <tr>\n",
       "                <td><strong>Reaction identifier</strong></td><td>bio1</td>\n",
       "            </tr><tr>\n",
       "                <td><strong>Name</strong></td><td>R_BIOMASS_Ec_iML1515_core_75p37M (E. coli biomass objective function (iML1515) - core - with...</td>\n",
       "            </tr><tr>\n",
       "                <td><strong>Memory address</strong></td>\n",
       "                <td>0x1e29051f0a0</td>\n",
       "            </tr><tr>\n",
       "                <td><strong>Stoichiometry</strong></td>\n",
       "                <td>\n",
       "                    <p style='text-align:right'>70.028756 cpd00001_c0 + 75.55223 cpd00002_c0 + 0.001831 cpd00003_c0 + 0.000447 cpd00006_c0 + 0.000576 cpd00010_c0 + 0.013013 cpd00013_c0 + 0.000223 cpd00015_c0 + 0.000223 cpd00016_c0 + 0.000223...</p>\n",
       "                    <p style='text-align:right'>70.028756 H2O_c0 + 75.55223 ATP_c0 + 0.001831 NAD_c0 + 0.000447 NADP_c0 + 0.000576 CoA_c0 + 0.013013 NH3_c0 + 0.000223 FAD_c0 + 0.000223 Pyridoxal phosphate_c0 + 0.000223 S-Adenosyl-L-methionine_c0...</p>\n",
       "                </td>\n",
       "            </tr><tr>\n",
       "                <td><strong>GPR</strong></td><td></td>\n",
       "            </tr><tr>\n",
       "                <td><strong>Lower bound</strong></td><td>0</td>\n",
       "            </tr><tr>\n",
       "                <td><strong>Upper bound</strong></td><td>1000</td>\n",
       "            </tr>\n",
       "        </table>\n",
       "        "
      ],
      "text/plain": [
       "<Biomass bio1 at 0x1e29051f0a0>"
      ]
     },
     "execution_count": 7,
     "metadata": {},
     "output_type": "execute_result"
    }
   ],
   "source": [
    "ecoli.reactions.bio1"
   ]
  },
  {
   "cell_type": "markdown",
   "metadata": {},
   "source": [
    "### Examine the community model"
   ]
  },
  {
   "cell_type": "code",
   "execution_count": 3,
   "metadata": {},
   "outputs": [
    {
     "data": {
      "text/latex": [
       "$\\displaystyle 1.0 \\cdot bio_{1} - 1.0 \\cdot bio_{1 reverse b18f7}$"
      ],
      "text/plain": [
       "1.0*bio1 - 1.0*bio1_reverse_b18f7"
      ]
     },
     "metadata": {},
     "output_type": "display_data"
    },
    {
     "data": {
      "text/html": [
       "\n",
       "        <table>\n",
       "            <tr>\n",
       "                <td><strong>Reaction identifier</strong></td><td>bio1</td>\n",
       "            </tr><tr>\n",
       "                <td><strong>Name</strong></td><td>bio1</td>\n",
       "            </tr><tr>\n",
       "                <td><strong>Memory address</strong></td>\n",
       "                <td>0x21872a385e0</td>\n",
       "            </tr><tr>\n",
       "                <td><strong>Stoichiometry</strong></td>\n",
       "                <td>\n",
       "                    <p style='text-align:right'>0.5 cpd11416_c1 + 0.5 cpd11416_c2 --> cpd11416_c0</p>\n",
       "                    <p style='text-align:right'>0.5 Biomass_c0 + 0.5 Biomass --> Community biomass</p>\n",
       "                </td>\n",
       "            </tr><tr>\n",
       "                <td><strong>GPR</strong></td><td></td>\n",
       "            </tr><tr>\n",
       "                <td><strong>Lower bound</strong></td><td>0</td>\n",
       "            </tr><tr>\n",
       "                <td><strong>Upper bound</strong></td><td>100</td>\n",
       "            </tr>\n",
       "        </table>\n",
       "        "
      ],
      "text/plain": [
       "<Reaction bio1 at 0x21872a385e0>"
      ]
     },
     "metadata": {},
     "output_type": "display_data"
    }
   ],
   "source": [
    "# print(dir(model.objective))\n",
    "display(model.objective.expression)\n",
    "display(model.reactions.bio1)"
   ]
  },
  {
   "cell_type": "code",
   "execution_count": 12,
   "metadata": {},
   "outputs": [
    {
     "name": "stdout",
     "output_type": "stream",
     "text": [
      "['bio3', 'bio2', 'bio1']\n",
      "ah991\t <Solution 86.916 at 0x1516468a100>\n",
      "pf\t <Solution 22.213 at 0x1516468a310>\n",
      "community\t <Solution 0.000 at 0x1516468aa30>\n"
     ]
    }
   ],
   "source": [
    "print([rxn.id for rxn in comm_model.reactions if \"bio\" in rxn.id])\n",
    "print(\"ah991\\t\", ah991.optimize())\n",
    "print(\"pf\\t\", pf.optimize())\n",
    "print(\"community\\t\", comm_model.optimize())"
   ]
  },
  {
   "cell_type": "code",
   "execution_count": 10,
   "metadata": {
    "scrolled": true,
    "tags": []
   },
   "outputs": [
    {
     "name": "stdout",
     "output_type": "stream",
     "text": [
      "['12ETHDt_c0', '12PPDRt_c0', '12PPDt_c0', '23PDE2_c0', '23PDE4_c0', '23PDE7_c0', '23PDE9_c0', '26DAPLLATi_c0', '2AMEPHPAT_c0', '2FUCLAC__DASH__FUCASEe_c0', '2MBCOATA_c0', '2MMALD_c0', '2MMALD2_c0', '3DSPHR_c0', '3FUCLAC__DASH__FUCASEe_c0', '3HACPR1_c0', '3HACPR2_c0', '3HAD100_c0', '3HAD10M11_c0', '3HAD10M12_c0', '3HAD11M12_c0', '3HAD120_c0', '3HAD121_c0', '3HAD12M13_c0', '3HAD12M14_c0', '3HAD13M14_c0', '3HAD140_c0', '3HAD141_c0', '3HAD14M15_c0', '3HAD14M16_c0', '3HAD15M16_c0', '3HAD160_c0', '3HAD161_c0', '3HAD180_c0', '3HAD181_c0', '3HAD40_c0', '3HAD4M5_c0', '3HAD4M6_c0', '3HAD5M6_c0', '3HAD60_c0', '3HAD6M7_c0', '3HAD6M8_c0', '3HAD7M8_c0', '3HAD80_c0', '3HAD8M10_c0', '3HAD8M9_c0', '3HAD9M10_c0', '3OAACPR1_c0', '3OAACPR2_c0', '3OAR100_c0', '3OAR10M11_c0', '3OAR10M12_c0', '3OAR11M12_c0', '3OAR120_c0', '3OAR121_c0', '3OAR12M13_c0', '3OAR12M14_c0', '3OAR13M14_c0', '3OAR140_c0', '3OAR141_c0', '3OAR14M15_c0', '3OAR14M16_c0', '3OAR15M16_c0', '3OAR160_c0', '3OAR161_c0', '3OAR180_c0', '3OAR181_c0', '3OAR40_c0', '3OAR4M5_c0', '3OAR4M6_c0', '3OAR5M6_c0', '3OAR60_c0', '3OAR6M7_c0', '3OAR6M8_c0', '3OAR7M8_c0', '3OAR80_c0', '3OAR8M10_c0', '3OAR8M9_c0', '3OAR9M10_c0', '3OAS100_c0', '3OAS10M11_c0', '3OAS10M12_c0', '3OAS11M12_c0', '3OAS120_c0', '3OAS121_c0', '3OAS12M13_c0', '3OAS12M14_c0', '3OAS13M14_c0', '3OAS140_c0', '3OAS141_c0', '3OAS160_c0', '3OAS161_c0', '3OAS180_c0', '3OAS181_c0', '3OAS2M3_c0', '3OAS3M4_c0', '3OAS4M3O6_c0', '3OAS4M5_c0', '3OAS4M6_c0', '3OAS5M6_c0', '3OAS60_c0', '3OAS6M7_c0', '3OAS6M8_c0', '3OAS7M8_c0', '3OAS80_c0', '3OAS8M10_c0', '3OAS8M9_c0', '3OAS9M10_c0', '3POPDC_c0', '4HBZF_c0', '4HBZt_c0', '4HPHACt_c0', '4HTHRS_c0', '5DOAN_c0', '7AHSDH_c0', '7OCHOLATEt2_c0', 'A5PISO_c0', 'ACCOAC_c0', 'ACETOLt_c0', 'ACGALK3_c0', 'ACGALr_c0', 'ACGAM2E_c0', 'ACGAMK_c0', 'ACGAMPM_c0', 'ACGAMT_c0', 'ACGAMtr_c0', 'ACGK_c0', 'ACGS_c0', 'ACHBS_c0', 'ACKr_c0', 'ACLS_c0', 'ACNAM9PL2_c0', 'ACNAMt2r_c0', 'ACOAAGPAT140_c0', 'ACOAAGPAT160_c0', 'ACOAAGPAT180_c0', 'ACOAAGPATAI15_c0', 'ACOAAGPATAI17_c0', 'ACOAAGPATI14_c0', 'ACOAAGPATI15_c0', 'ACOAAGPATI16_c0', 'ACOAAGPATI17_c0', 'ACOATA_c0', 'ACODA_c0', 'ACONTa_c0', 'ACONTb_c0', 'ACOTA_c0', 'ACPS1_c0', 'ACS_c0', 'ACS2_c0', 'ACTNDH_c0', 'ACtr_c0', 'ADCL_c0', 'ADK1_c0', 'ADK2_c0', 'ADNUC_c0', 'ADNt2_c0', 'ADOCBLabc_c0', 'ADPT_c0', 'ADSK_c0', 'ADSL1r_c0', 'ADSL2r_c0', 'ADSS_c0', 'AGDC_c0', 'AGDC2_c0', 'AGMD_c0', 'AGMHE_c0', 'AGPAT120_c0', 'AGPAT140_c0', 'AGPAT160_c0', 'AGPAT180_c0', 'AGPAT181_c0', 'AGPR_c0', 'AHC_c0', 'AHCYSNS__DASH__r_c0', 'AHEXASE2e_c0', 'AHEXASE3e_c0', 'AHEXASEe_c0', 'AHMMPS_c0', 'AHSERL2_c0', 'AHSERL3_c0', 'AICART_c0', 'AIHPDCOATA_c0', 'AIPDCOATA_c0', 'AIRC2_c0', 'AIRC3_c0', 'AIRCr_c0', 'AKP1_c0', 'ALAALA_c0', 'ALAALADe_c0', 'ALAASP1c_c0', 'ALAASPt_c0', 'ALAD__DASH__R_c0', 'ALAGLN1c_c0', 'ALAGLNt_c0', 'ALAGLU1c_c0', 'ALAGLUt_c0', 'ALAGLY1c_c0', 'ALAGLYt_c0', 'ALAHIS1c_c0', 'ALAHISt_c0', 'ALALEU1c_c0', 'ALALEUt_c0', 'ALAR_c0', 'ALATHR1c_c0', 'ALATHRt_c0', 'ALAt4r_c0', 'ALCD19_c0', 'ALCD2x_c0', 'ALKP_c0', 'ALR2_c0', 'ALR4x_c0', 'ALTRH_c0', 'AMAA_c0', 'AMALT1_c0', 'AMALT2_c0', 'AMALT3_c0', 'AMALT4_c0', 'AMANNANASEe_c0', 'AMAOTr_c0', 'AMMQLT10_c0', 'AMMQLT11_c0', 'AMMQLT7_c0', 'AMMQLT8_c0', 'AMMQLT9_c0', 'AMMQT8__DASH__2_c0', 'AMPN_c0', 'AMPTASECG_c0', 'AMPTASEPG_c0', 'AMPTASEPGe_c0', 'AMY1e_c0', 'AMYLe_c0', 'AMYe_c0', 'ANPRT_c0', 'ANS_c0', 'ANS2_c0', 'AOBUTDs_c0', 'AOXSr_c0', 'AOXSr2_c0', 'APRAUR_c0', 'ARABASE3e_c0', 'ARABINANASEe_c0', 'ARABINOGALASEe_c0', 'ARAI_c0', 'ARBt2r_c0', 'ARGARG1c_c0', 'ARGARGt_c0', 'ARGDC_c0', 'ARGN_c0', 'ARGSL_c0', 'ARGSSr_c0', 'ARGabc_c0', 'AROH_c0', 'AS3TASE__DASH__HS1_c0', 'AS3TASE__DASH__HS2_c0', 'AS6TASE__DASH__HS1_c0', 'AS6TASE__DASH__HS2_c0', 'ASADi_c0', 'ASNN_c0', 'ASNS1_c0', 'ASNS2_c0', 'ASNt2r_c0', 'ASP1DC_c0', 'ASPCT_c0', 'ASPK_c0', 'ASPO1_c0', 'ASPO5_c0', 'ASPO6_c0', 'ASPT_c0', 'ASPTA_c0', 'ASPt2r_c0', 'ATPM_c0', 'ATPPRT_c0', 'ATPS4_c0', 'A__DASH__MANASEe_c0', 'BACCL_c0', 'BGLA_c0', 'BPNT_c0', 'BTNPL_c0', 'BTNt2_c0', 'BTS4_c0', 'BUTK_c0', 'BZF_c0', 'BZt_c0', 'B__DASH__MANNASEe_c0', 'CA2abc_c0', 'CARNCNc_c0', 'CARPEPT1tr_c0', 'CAT_c0', 'CAt7r_c0', 'CBL1abc_c0', 'CBLAT_c0', 'CBPS_c0', 'CCP_c0', 'CD2abc1_c0', 'CDPGHL_c0', 'CDPMEK_c0', 'CEPTC__DASH__BT_c0', 'CEPTE__DASH__BT_c0', 'CERS__DASH__BT_c0', 'CGLYt3__DASH__2__DASH___c0', 'CHLPCTD_c0', 'CHOLK_c0', 'CHOLSH_c0', 'CHORM_c0', 'CHORS_c0', 'CITRAMALS_c0', 'CKDNS_c0', 'CLPNS140_c0', 'CLPNS160_c0', 'CLPNS180_c0', 'CLPNSAI15_c0', 'CLPNSAI17_c0', 'CLPNSI14_c0', 'CLPNSI15_c0', 'CLPNSI16_c0', 'CLPNSI17_c0', 'CMLDC_c0', 'CO2t_c0', 'COBALTt5_c0', 'CPSS__DASH__BT_c0', 'CPS__DASH__BT__DASH__ABC_c0', 'CS_c0', 'CS4TASE_c0', 'CS4TASE2_c0', 'CS6TASE_c0', 'CSABCASE__DASH__A__DASH__e_c0', 'CSABCASE__DASH__B__DASH__e_c0', 'CSABCASE__DASH__C__DASH__e_c0', 'CSPMDDC_c0', 'CSPMDDH_c0', 'CTBTabc_c0', 'CTPS1_c0', 'CTPS2_c0', 'CYSDS_c0', 'CYSS_c0', 'CYSS3r_c0', 'CYSTL_c0', 'CYSt2r_c0', 'CYTBD_c0', 'CYTBD2_c0', 'CYTD_c0', 'CYTDK1_c0', 'CYTDK2_c0', 'CYTDK3_c0', 'CYTDK4_c0', 'CYTDt2r_c0', 'CYTK1_c0', 'CYTK2_c0', 'Clt_c0', 'Cuabc_c0', 'Cut1_c0', 'DADK_c0', 'DADNt2r_c0', 'DAGK160_c0', 'DALAt2r_c0', 'DAPDC_c0', 'DAPE_c0', 'DAPMDH_c0', 'DASYN120_c0', 'DASYN140_c0', 'DASYN160_c0', 'DASYN180_c0', 'DASYN181_c0', 'DASYNAI15_c0', 'DASYNAI17_c0', 'DASYNI14_c0', 'DASYNI15_c0', 'DASYNI16_c0', 'DASYNI17_c0', 'DB4PS_c0', 'DBTS_c0', 'DCMPDA_c0', 'DCYTD_c0', 'DCYTt2r_c0', 'DDGLKr_c0', 'DDPA_c0', 'DDPGA_c0', 'DEXTRAN40e_c0', 'DGC3D_c0', 'DGC3D2_c0', 'DGK1_c0', 'DGSNt2_c0', 'DHAD1_c0', 'DHAD2_c0', 'DHDPRy_c0', 'DHDPS_c0', 'DHFR_c0', 'DHFS_c0', 'DHNAOT10_c0', 'DHNAOT11_c0', 'DHNAOT4_c0', 'DHNAOT7_c0', 'DHNAOT9_c0', 'DHNPA_c0', 'DHORDfum_c0', 'DHORDi_c0', 'DHORTS_c0', 'DHPPDA_c0', 'DHPS_c0', 'DHPS3_c0', 'DHQS_c0', 'DHQTi_c0', 'DINSt2_c0', 'DMATT_c0', 'DMPPS_c0', 'DMPPS2_c0', 'DMQMT_c0', 'DM__DASH__4HBA_c0', 'DM__DASH__5DRIB_c0', 'DM__DASH__AMOB_c0', 'DPCOAK_c0', 'DPR_c0', 'DRBKr_c0', 'DRPAr_c0', 'DT5HSUt2r_c0', 'DTMPK_c0', 'DURIK1_c0', 'DURIPP_c0', 'DURIt2_c0', 'DUTPDP_c0', 'DXPRIi_c0', 'DXPS_c0', 'D__DASH__LACt2_c0', 'E4PD_c0', 'EACPR1_c0', 'EACPR2_c0', 'EAR100x_c0', 'EAR10M11x_c0', 'EAR10M12x_c0', 'EAR11M12x_c0', 'EAR120x_c0', 'EAR121x_c0', 'EAR12M13x_c0', 'EAR12M14x_c0', 'EAR13M14x_c0', 'EAR140x_c0', 'EAR141x_c0', 'EAR14M15x_c0', 'EAR14M16x_c0', 'EAR15M16x_c0', 'EAR160x_c0', 'EAR161x_c0', 'EAR180x_c0', 'EAR181x_c0', 'EAR40x_c0', 'EAR4M5x_c0', 'EAR4M6x_c0', 'EAR5M6x_c0', 'EAR60x_c0', 'EAR6M7x_c0', 'EAR6M8x_c0', 'EAR7M8x_c0', 'EAR80x_c0', 'EAR8M10x_c0', 'EAR8M9x_c0', 'EAR9M10x_c0', 'EDA__DASH__R_c0', 'EDTXS1__DASH__BT_c0', 'EHGLAT_c0', 'ENO_c0', 'ETOHt_c0', 'F1PGT_c0', 'FACOAL140_c0', 'FACOAL160_c0', 'FACOAL161_c0', 'FACOAL180_c0', 'FACOAL181_c0', 'FACOALAI15_c0', 'FACOALAI17_c0', 'FACOALI14_c0', 'FACOALI15_c0', 'FACOALI16_c0', 'FACOALI17_c0', 'FBA_c0', 'FBA2_c0', 'FBA3_c0', 'FBP_c0', 'FCI_c0', 'FCLK_c0', 'FCLPA_c0', 'FDNADOX_c0', 'FE2abc_c0', 'FE3DCITabc_c0', 'FE3abc_c0', 'FEDCabc_c0', 'FERO_c0', 'FK_c0', 'FMNAT_c0', 'FOLD3_c0', 'FOLR_c0', 'FOLt_c0', 'FOMETR_c0', 'FORt_c0', 'FPGS7_c0', 'FPGS__DASH__tm_c0', 'FRD10_c0', 'FRD11_c0', 'FRD2_c0', 'FRD3_c0', 'FRD8_c0', 'FRD9_c0', 'FRTT_c0', 'FRUASE3_c0', 'FRUt2r_c0', 'FTCD__DASH__r_c0', 'FTHFCL_c0', 'FTHFD_c0', 'FTHFLi_c0', 'FUCASEe_c0', 'FUCNEULACNHX__DASH__DEGe_c0', 'FUCt_c0', 'FUM_c0', 'FUMt2r_c0', 'G1PACT_c0', 'G1PCT_c0', 'G1PTT_c0', 'G3PAT120_c0', 'G3PAT140_c0', 'G3PAT160_c0', 'G3PAT180_c0', 'G3PAT181_c0', 'G3PATAI15_c0', 'G3PATAI17_c0', 'G3PATI14_c0', 'G3PATI15_c0', 'G3PATI16_c0', 'G3PATI17_c0', 'G3PD1_c0', 'G5SADs_c0', 'G5SD_c0', 'G6PBDH_c0', 'G6PDA_c0', 'G6PDH2r_c0', 'G6PI_c0', 'G6PI3_c0', 'GACPCD_c0', 'GALAM6PDA_c0', 'GALAMt2r_c0', 'GALASE1e_c0', 'GALASE__DASH__HSe_c0', 'GALASE__DASH__OGLYCAN1e_c0', 'GALASE__DASH__OGLYCAN2e_c0', 'GALASE__DASH__OGLYCAN3e_c0', 'GALK_c0', 'GALM1r_c0', 'GALNACASE__DASH__OGLYCAN1e_c0', 'GALNACASE__DASH__OGLYCAN2e_c0', 'GALNACASE__DASH__OGLYCAN3e_c0', 'GALOX_c0', 'GALS3_c0', 'GALURt2r_c0', 'GALUi_c0', 'GALt2__DASH__2_c0', 'GAM2STASE__DASH__HS1_c0', 'GAM2STASE__DASH__HS2_c0', 'GAM2STASE__DASH__HS3_c0', 'GAMt2r_c0', 'GAPD_c0', 'GARFTi_c0', 'GART_c0', 'GCCa_c0', 'GCCb_c0', 'GCCc_c0', 'GCHOLAH_c0', 'GCHOLAt2_c0', 'GF6PTAr_c0', 'GFUCS_c0', 'GGTT_c0', 'GHMT2r_c0', 'GK1_c0', 'GK2_c0', 'GLCAASE8e_c0', 'GLCAASE9e_c0', 'GLCAASE__DASH__HSe_c0', 'GLCAASEe_c0', 'GLCNACASE__DASH__HS1_c0', 'GLCNACASE__DASH__HS2_c0', 'GLCNACASE__DASH__HS3_c0', 'GLCNACASE__DASH__OGLYCAN1e_c0', 'GLCNACASE__DASH__OGLYCAN2e_c0', 'GLCNACASE__DASH__OGLYCAN3e_c0', 'GLCNACASE__DASH__OGLYCAN4e_c0', 'GLCNACASE__DASH__OGLYCAN5e_c0', 'GLCNACASE__DASH__OGLYCAN6e_c0', 'GLCP_c0', 'GLCS2_c0', 'GLCURt2r_c0', 'GLCt2r_c0', 'GLCt4_c0', 'GLNS_c0', 'GLNt2r_c0', 'GLU5K_c0', 'GLUABUTt7_c0', 'GLUDC_c0', 'GLUDxi_c0', 'GLUDy_c0', 'GLUFORT_c0', 'GLUN_c0', 'GLUPRT_c0', 'GLUR_c0', 'GLUSy_c0', 'GLYASN1c_c0', 'GLYASNt_c0', 'GLYASP1c_c0', 'GLYASPt_c0', 'GLYAT_c0', 'GLYBabc_c0', 'GLYCK_c0', 'GLYCOe_c0', 'GLYCTO2_c0', 'GLYCTO3_c0', 'GLYCTO4_c0', 'GLYD_c0', 'GLYGLN1c_c0', 'GLYGLNt_c0', 'GLYGLU1c_c0', 'GLYGLUt_c0', 'GLYGLYHyi_c0', 'GLYGLYt_c0', 'GLYKr_c0', 'GLYLEUHYDROc_c0', 'GLYLEUHYDROe_c0', 'GLYLEUPEPT1t_c0', 'GLYMET1c_c0', 'GLYMETt_c0', 'GLYPHEHYi_c0', 'GLYPHEt_c0', 'GLYPROPRO1c_c0', 'GLYPROPRO1e_c0', 'GLYPROt_c0', 'GLYTYR1c_c0', 'GLYTYRt_c0', 'GLYt2r_c0', 'GMAND_c0', 'GMHEPAT_c0', 'GMHEPK_c0', 'GMHEPPA_c0', 'GMPS2_c0', 'GND_c0', 'GNNUC_c0', 'GPDDA1_c0', 'GPDDA2_c0', 'GPDDA4_c0', 'GRTT_c0', 'GSNt2r_c0', 'GTHP_c0', 'GTPCI_c0', 'GTPCII_c0', 'GTPDPDP_c0', 'GTPDPK_c0', 'GUAPRT_c0', 'GUI1_c0', 'GUI2_c0', 'H2Ot_c0', 'H2St_c0', 'H2td_c0', 'HCO3E_c0', 'HCYSMT_c0', 'HEMEti_c0', 'HEPARL1__DASH__e_c0', 'HETT_c0', 'HEX1_c0', 'HEX10_c0', 'HEX11_c0', 'HEX4_c0', 'HEX7_c0', 'HEXTT_c0', 'HEXb_c0', 'HG2abc_c0', 'HISD_c0', 'HISTD_c0', 'HISTP_c0', 'HISt2r_c0', 'HMPK1_c0', 'HOMOGALASEe_c0', 'HPPK_c0', 'HSDxi2_c0', 'HSDyi2_c0', 'HSK_c0', 'HSST_c0', 'HSTPTr_c0', 'HXPRT_c0', 'HYD1_c0', 'HYD4_c0', 'HYPSUCORNS_c0', 'IBCOATA_c0', 'ICDHyr_c0', 'ICHORS_c0', 'IDOURASE_c0', 'IDOURASE__DASH__HS1_c0', 'IDOURASE__DASH__HS2_c0', 'IDOURASE__DASH__HS3_c0', 'IG3PS_c0', 'IGPDH_c0', 'IGPS_c0', 'IHDCOATA_c0', 'IHPDCOATA_c0', 'ILDH_c0', 'ILETA_c0', 'ILEt2r_c0', 'IMPC_c0', 'IMPD_c0', 'IND3ACt_c0', 'INDLACt_c0', 'INSH_c0', 'INSt2_c0', 'INULINASEe_c0', 'IOR_c0', 'IOR2_c0', 'IOR3_c0', 'IPDCOATA_c0', 'IPDDI_c0', 'IPDPS_c0', 'IPDPS2_c0', 'IPMD2_c0', 'IPMDr_c0', 'IPPMIa_c0', 'IPPMIb_c0', 'IPPS_c0', 'IS2TASE_c0', 'IS2TASE__DASH__HS1_c0', 'ISOBUTt2r_c0', 'ISOCAPRt2r_c0', 'ISOVALt2r_c0', 'ITDCOATA_c0', 'IVCOATA_c0', 'IZPN_c0', 'KARA1_c0', 'KARA2_c0', 'KAS1_c0', 'KAS11_c0', 'KAS12_c0', 'KAS13_c0', 'KAS14_c0', 'KAS2_c0', 'KAS3_c0', 'KAS4_c0', 'KAS6_c0', 'KAS8_c0', 'KDNH_c0', 'KDOCT2_c0', 'KDOPP_c0', 'KDOPS_c0', 'KDUI_c0', 'KESTOASEe_c0', 'KESTOPTASEe_c0', 'KESTOTTRASEe_c0', 'Kabc_c0', 'Kt3r_c0', 'L2A6OD2s_c0', 'LACDFUCTTR__DASH__FUCASEe_c0', 'LACNDFUCHX__DASH__FUCASEe_c0', 'LACNFUCPT__DASH__FUCASEe_c0', 'LACNTTR__DASH__DEGe_c0', 'LACZe_c0', 'LARGNAT_c0', 'LCAR2_c0', 'LCARS_c0', 'LDH__DASH__D_c0', 'LDH__DASH__L_c0', 'LEUGLY1c_c0', 'LEUGLYLAPe_c0', 'LEUGLYt_c0', 'LEULEU1c_c0', 'LEULEULAPe_c0', 'LEULEUt_c0', 'LEUO_c0', 'LEUTA_c0', 'LEUt2r_c0', 'LEVANASE__DASH__1e_c0', 'LEVANASE__DASH__2e_c0', 'LEVANASE__DASH__3e_c0', 'LEVANASE__DASH__4e_c0', 'LEVANB__DASH__ABC_c0', 'LGTHL_c0', 'LMN2e_c0', 'LMNe_c0', 'LPADSS__DASH__BT_c0', 'LPSSYN__DASH__BT_c0', 'LPS__DASH__BTabc_c0', 'LYSAM_c0', 'LYSDC_c0', 'LYSt3r_c0', 'L__DASH__LACt2r_c0', 'MALCOACD_c0', 'MALCOAMT_c0', 'MALT_c0', 'MALTe_c0', 'MALTt2r_c0', 'MAN1PT2r_c0', 'MAN6PI_c0', 'MANA1e_c0', 'MANA2e_c0', 'MANA3e_c0', 'MANA4_c0', 'MANA4e_c0', 'MANAO_c0', 'MANTRabc_c0', 'MANabc_c0', 'MBENZF_c0', 'MBENZt_c0', 'MCOATA_c0', 'MDH_c0', 'ME2_c0', 'MECDPDH2_c0', 'MECDPS_c0', 'MELIBabc_c0', 'MEOHt2_c0', 'MEPCT_c0', 'METALA1c_c0', 'METALAt_c0', 'METAT_c0', 'METOX1s_c0', 'METSOXR1_c0', 'METSr_c0', 'METt2r_c0', 'MG2abc_c0', 'MGSA_c0', 'MGt5_c0', 'MI1PP_c0', 'MI1PS_c0', 'MI3PP_c0', 'MI4PP_c0', 'MK10t_c0', 'MK11t_c0', 'MK7t_c0', 'MK8t_c0', 'MK9t_c0', 'MLTG1_c0', 'MLTG1e_c0', 'MLTG2_c0', 'MLTG2e_c0', 'MLTG3_c0', 'MLTG3e_c0', 'MLTG4_c0', 'MLTG4e_c0', 'MLTG5_c0', 'MLTG5e_c0', 'MMCD_c0', 'MME_c0', 'MMM2r_c0', 'MNNH_c0', 'MNt2_c0', 'MOAT__DASH__BT_c0', 'MOHMT_c0', 'MTAN_c0', 'MTHFC_c0', 'MTHFD_c0', 'MTHFR2_c0', 'MTHFR3_c0', 'MTHGXLt_c0', 'NACHEX27e_c0', 'NACt_c0', 'NADDP_c0', 'NADH10_c0', 'NADH17_c0', 'NADH5_c0', 'NADH9_c0', 'NADK_c0', 'NADK2_c0', 'NADS1_c0', 'NADS2_c0', 'NAMNPP_c0', 'NARK_c0', 'NAt3__DASH__1_c0', 'NCPTRCA_c0', 'NDPK1_c0', 'NDPK2_c0', 'NDPK3_c0', 'NDPK4_c0', 'NDPK5_c0', 'NDPK6_c0', 'NDPK7_c0', 'NDPK8_c0', 'NDPK9_c0', 'NEULACNTTR__DASH__SIASEe_c0', 'NH4t_c0', 'NMNt2r_c0', 'NNATr_c0', 'NNDPR_c0', 'NP1__DASH__r_c0', 'NPHS_c0', 'NT5C_c0', 'NTD1_c0', 'NTD10_c0', 'NTD11_c0', 'NTD2_c0', 'NTD3_c0', 'NTD4_c0', 'NTD5_c0', 'NTD5__DASH__a_c0', 'NTD6_c0', 'NTD7_c0', 'NTD8_c0', 'NTD9_c0', 'NTP1_c0', 'NTPP1_c0', 'NTPP10_c0', 'NTPP11_c0', 'NTPP2_c0', 'NTPP8_c0', 'NTPP9_c0', 'NTPTP1_c0', 'NTRIR5_c0', 'O16G2e_c0', 'O2t_c0', 'OAADC_c0', 'OBTFL_c0', 'OGALURLe_c0', 'OHPBAT_c0', 'OHPHM_c0', 'OIVD1r_c0', 'OIVD2_c0', 'OIVD3_c0', 'OLIGOFRUASEe_c0', 'OMCDC_c0', 'OMPDC_c0', 'OOR2r_c0', 'OORr_c0', 'ORNTA_c0', 'ORNabc_c0', 'ORPT_c0', 'P5CD_c0', 'P5CRyr_c0', 'PABB_c0', 'PACCOAL2r_c0', 'PACCOAL3r_c0', 'PACCOALr_c0', 'PACt2r_c0', 'PANTS_c0', 'PAPPT2_c0', 'PAPPT3_c0', 'PBUTT_c0', 'PBt_c0', 'PC_c0', 'PDHa_c0', 'PDHbr_c0', 'PDHcr_c0', 'PDX5POi_c0', 'PDX5PS_c0', 'PECTICGALASEe_c0', 'PECTIN__DASH__DEG2e_c0', 'PECTIN__DASH__DEGe_c0', 'PEPM_c0', 'PEPT160_c0', 'PERD_c0', 'PE__DASH__CER1__DASH__BTt_c0', 'PFK_c0', 'PFK__DASH__ppi__DASH___c0', 'PFK__DASH__2_c0', 'PFK__DASH__3_c0', 'PFL_c0', 'PGAMT_c0', 'PGCDr_c0', 'PGI_c0', 'PGK_c0', 'PGL_c0', 'PGLYCP_c0', 'PGM_c0', 'PGMT_c0', 'PGMT2_c0', 'PGPP120_c0', 'PGPP140_c0', 'PGPP160_c0', 'PGPP180_c0', 'PGPP181_c0', 'PGPPAI15_c0', 'PGPPAI17_c0', 'PGPPI14_c0', 'PGPPI15_c0', 'PGPPI16_c0', 'PGPPI17_c0', 'PGSA120_c0', 'PGSA140_c0', 'PGSA160_c0', 'PGSA180_c0', 'PGSA181_c0', 'PGSAAI15_c0', 'PGSAAI17_c0', 'PGSAI14_c0', 'PGSAI15_c0', 'PGSAI16_c0', 'PGSAI17_c0', 'PHCHGS_c0', 'PHEARG1c_c0', 'PHEARGt_c0', 'PHETA1_c0', 'PHEt2r_c0', 'PHPPAF_c0', 'PHPPAt_c0', 'PHPYRt_c0', 'PIabc_c0', 'PIt6_c0', 'PIt8i_c0', 'PLACOR_c0', 'PLACt_c0', 'PLPS_c0', 'PMACPME_c0', 'PMANM_c0', 'PMDPHT_c0', 'PMPK_c0', 'PMTCOATA_c0', 'PNP_c0', 'PNTK_c0', 'PNTOt2_c0', 'POR4i_c0', 'POX_c0', 'PPAKr_c0', 'PPA__DASH__1_c0', 'PPAtr_c0', 'PPCDC_c0', 'PPCKr_c0', 'PPDK_c0', 'PPGPPDP_c0', 'PPK2_c0', 'PPNCL2_c0', 'PPNCL3_c0', 'PPND_c0', 'PPND2_c0', 'PPNDH_c0', 'PPTGS_c0', 'PPTT_c0', 'PRAGS_c0', 'PRAI_c0', 'PRAIS_c0', 'PRAMPC_c0', 'PRASCSi_c0', 'PRATPP_c0', 'PRFGS_c0', 'PRMICI_c0', 'PRO1x_c0', 'PROD2_c0', 'PROD3_c0', 'PROGLYt_c0', 'PROt4r_c0', 'PRPPS_c0', 'PSCVT_c0', 'PSD120_c0', 'PSD140_c0', 'PSD160_c0', 'PSD180_c0', 'PSD181_c0', 'PSDAI15_c0', 'PSDAI17_c0', 'PSDI14_c0', 'PSDI15_c0', 'PSDI16_c0', 'PSDI17_c0', 'PSERTr_c0', 'PSP__DASH__L_c0', 'PSSA120_c0', 'PSSA140_c0', 'PSSA160_c0', 'PSSA180_c0', 'PSSA181_c0', 'PSSAAI15_c0', 'PSSAAI17_c0', 'PSSAI14_c0', 'PSSAI15_c0', 'PSSAI16_c0', 'PSSAI17_c0', 'PTA2_c0', 'PTAr_c0', 'PTPAT_c0', 'PTRCabc_c0', 'PTRCtex2_c0', 'PULLe_c0', 'PUNP1_c0', 'PUNP2_c0', 'PUNP3_c0', 'PUNP4_c0', 'PUNP5_c0', 'PUNP6_c0', 'PUNP7_c0', 'PUTA3_c0', 'PYAM5PO_c0', 'PYDAMK_c0', 'PYDXK_c0', 'PYDXNK_c0', 'PYDXNO_c0', 'PYDXNtr_c0', 'PYDXO_c0', 'PYK_c0', 'PYRt2r_c0', 'QMO3_c0', 'QULNS_c0', 'RAFFabc_c0', 'RAFGH_c0', 'RAFH_c0', 'RBFK_c0', 'RBFSa_c0', 'RBFSb_c0', 'RBK_c0', 'RBK__DASH__D_c0', 'RBK__DASH__L1_c0', 'RBP4E_c0', 'RFAC__DASH__HP_c0', 'RFA__DASH__BT_c0', 'RHAMNOGALURASEe__DASH__I_c0', 'RHAMNOGALURASEe__DASH__II_c0', 'RIBFLVt2r_c0', 'RIBt2r_c0', 'RMI_c0', 'RMK_c0', 'RMK2_c0', 'RMNt_c0', 'RMPA_c0', 'RNTR1_c0', 'RNTR2_c0', 'RNTR3_c0', 'RNTR4_c0', 'RPE_c0', 'RPI_c0', 'S7PIr_c0', 'SADT_c0', 'SADT2_c0', 'SEPHCHS_c0', 'SERATi_c0', 'SERD__DASH__L_c0', 'SERPT_c0', 'SERt2r_c0', 'SHCHCS3_c0', 'SHK3Dr_c0', 'SHKK_c0', 'SHSL1_c0', 'SHSL2_c0', 'SHSL4_c0', 'SIAASE__DASH__OGLYCAN1e_c0', 'SIAASE__DASH__OGLYCAN2e_c0', 'SIAASE__DASH__OGLYCAN3e_c0', 'SIAASEe_c0', 'SKATOLEF_c0', 'SKATOLEt_c0', 'SO4t2_c0', 'SPHMYLN__DASH__BTt_c0', 'SPMDAT1_c0', 'SPMDAT2_c0', 'SPMDabc_c0', 'SPMDtex2_c0', 'SPODM_c0', 'STCOATA_c0', 'STYSGH_c0', 'STYSabc_c0', 'SUCBZL_c0', 'SUCBZS_c0', 'SUCCITRDSs_c0', 'SUCCt2r_c0', 'SUCD1_c0', 'SUCDi_c0', 'SUCOAS_c0', 'SUCORNTC_c0', 'SUCR_c0', 'SUCRt2_c0', 'T2DECAI_c0', 'TAGURr_c0', 'TALA_c0', 'TAURtex2_c0', 'TCHOLAH_c0', 'TCHOLAt2_c0', 'TDCOATA_c0', 'TDPDRE_c0', 'TDPDRR_c0', 'TDPGDH_c0', 'TDSK__DASH__BT_c0', 'TGBPA_c0', 'THIORDXi_c0', 'THMDP_c0', 'THMDt2_c0', 'THMt3_c0', 'THRAr_c0', 'THRD_c0', 'THRS_c0', 'THRt2r_c0', 'THZPSN_c0', 'TKT1_c0', 'TKT2_c0', 'TMDK1_c0', 'TMDPK_c0', 'TMDS_c0', 'TMPKr_c0', 'TMPPP_c0', 'TPI_c0', 'TRDRr_c0', 'TREHe_c0', 'TRPAS2_c0', 'TRPS1_c0', 'TRPS2_c0', 'TRPS3r_c0', 'TRPTA_c0', 'TRPt2r_c0', 'TYRTA_c0', 'TYRt2r_c0', 'U23GAAT__DASH__BT_c0', 'U2GAAT2__DASH__BT_c0', 'U2GAAT__DASH__BT_c0', 'UAAGDS_c0', 'UACMAMO_c0', 'UAG2E_c0', 'UAG2EMA_c0', 'UAG4E_c0', 'UAGAAT__DASH__HP_c0', 'UAGCVT__DASH__r_c0', 'UAGDP_c0', 'UAGDP2_c0', 'UAGPT2_c0', 'UAGPT3_c0', 'UAMAGS_c0', 'UAMAS_c0', 'UAPGR_c0', 'UDCPDP_c0', 'UDCPDPS_c0', 'UDPG4E_c0', 'UDPGDr_c0', 'UDPGLCURE_c0', 'UDPGLDC_c0', 'UGLT_c0', 'UGMDDS_c0', 'UHGADA__DASH__HP_c0', 'UPPRT_c0', 'URAt2r_c0', 'URCN_c0', 'UREAt_c0', 'URFGTT_c0', 'URIDK1_c0', 'URIDK2r_c0', 'URIK1_c0', 'URIK2_c0', 'URIK3_c0', 'URIt2r_c0', 'USHD__DASH__BT_c0', 'VALO_c0', 'VALTA_c0', 'VALt2r_c0', 'XANt2r_c0', 'XPPT_c0', 'XTSNH_c0', 'XYLI1_c0', 'XYLI2_c0', 'XYLKr_c0', 'XYLt2_c0', 'YUMPS_c0', 'ZN2t4_c0', 'ZNabc_c0', 'sink__DASH__chols_c0', 'sink__DASH__hpyr_c0', 'sink__DASH__s_c0', 'SK_cpd11416_c0', 'SK_cpd02701_c0']\n",
      "\n",
      "\n",
      "\n",
      "['AMAA_c1', 'ACGS_c1', 'ACOAAGPAT140_c1', 'ALR4x_c1', 'ALR2_c1', 'rxn00501_c2', 'ALAR_c1', 'ASPCT_c1', 'AHSERL3_c1', 'ALALEUt_c1', 'AIPDCOATA_c1', 'ALTRH_c1', 'CSABCASE__DASH__A__DASH__e_c1', 'ACNAMt2r_c1', '3FUCLAC__DASH__FUCASEe_c1', 'ACGK_c1', '3HACPR1_c1', 'ENZRXN3EM__DASH__1238_c2', 'ACGAMtr_c1', 'rxn09320_c2', '3OAR8M10_c1', '3OAS4M5_c1', 'ACGAMT_c1', 'ACNAM9PL2_c1', 'MVRXN__DASH__212_c2', 'AHSERL2_c1', 'AICART_c1', 'ENZRXN3EM__DASH__3924_c2', 'rxn09108_c2', 'ASNt2r_c1', 'HSDxi2_c1', '3OAR80_c1', 'ACKr_c1', 'CSABCASE__DASH__B__DASH__e_c1', 'ENZRXN3EM__DASH__865_c2', 'ASNS2_c1', 'HSST_c1', 'ENZRXN3EM__DASH__676_c2', 'rxn02303_c2', 'AIRC2_c1', 'ACHBS_c1', 'rxn08457_c2', 'ACGAMPM_c1', '3HACPR2_c1', '3OAS4M6_c1', '3HAD100_c1', 'rxn00006_c2', 'rxn32320_c2', '3OAR7M8_c1', 'ENZRXN3EM__DASH__916_c2', 'rxn09107_c2', 'ACOAAGPAT160_c1', 'MTRXN__DASH__6__DASH__ENZRXN3EM__DASH__4723_c2', 'ASP1DC_c1', 'ENZRXN3EM__DASH__1579_c2', 'AIHPDCOATA_c1', 'ASNS1_c1', 'HSTPTr_c1', 'rxn03491_c2', 'rxn02927_c2', 'AHMMPS_c1', 'HSK_c1', 'MTRXN__DASH__46__DASH__MTRXN__DASH__54_c2', 'ENZRXN3EM__DASH__178_c2', 'ACGAMK_c1', 'rxn00291_c2', 'rxn01123_c2', 'ENZRXN3EM__DASH__1578_c2', '3DSPHR_c1', 'ACLS_c1', '3OAS5M6_c1', 'rxn00623_c2', 'ALATHR1c_c1', 'CSABCASE__DASH__C__DASH__e_c1', 'HSDyi2_c1', 'MVRXN__DASH__106__DASH__MVRXN__DASH__117_c2', 'rxn01825_c2', '3HAD10M11_c1', 'ENZRXN3EM__DASH__174_c2', 'MVRXN__DASH__174__DASH__MVRXN__DASH__180_c2', 'ALKP_c1', 'PGI_c1', 'rxn13930_c2', 'CYSDS_c1', 'FACOALAI17_c1', 'CA2abc_c1', 'FACOALI14_c1', 'rxn03246_c2', 'CYSS3r_c1', 'MVRXN__DASH__173__DASH__MVRXN__DASH__179_c2', 'CARNCNc_c1', 'rxn00394_c2', 'RNTR3_c1', 'CYSS_c1', 'ENZRXN3EM__DASH__1439_c2', 'rxn00453_c2', 'ENZRXN3EM__DASH__5_c2', 'MTRXN__DASH__81_c2', 'rxn01964_c2', 'rxn00737_c2', 'rxn00717_c2', 'CARPEPT1tr_c1', 'RNTR2_c1', 'rxn00863_c2', 'rxn00375_c2', 'ALALEU1c_c1', 'rxn00674_c2', 'rxn02740_c2', 'rxn01137_c2', 'CTPS2_c1', 'rxn01640_c2', 'ENZRXN3EM__DASH__420__DASH__ENZRXN3EM__DASH__617__DASH__ENZRXN3EM__DASH__641_c2', 'rxn00095_c2', 'BZF_c1', 'rxn01101_c2', 'BUTK_c1', 'CTPS1_c1', 'rxn00598_c2', 'ENZRXN3EM__DASH__1212_c2', 'rxn07976_c2', 'PGK_c1', 'rxn01207_c2', 'PGL_c1', 'rxn01274_c2', 'MERXN__DASH__58_c2', 'PGCDr_c1', 'MTRXN__DASH__80_c2', 'ENZRXN3EM__DASH__151__DASH__MTRXN__DASH__5_c2', 'rxn26081_c2', 'MTRXN__DASH__82_c2', 'PGAMT_c1', 'B__DASH__MANNASEe_c1', 'MERXN__DASH__23_c2', 'rxn23849_c2', 'ENZRXN3EM__DASH__1768_c2', 'PGM_c1', 'ENZRXN3EM__DASH__1211_c2', 'MTRXN__DASH__83_c2', 'rxn04142_c2', 'BZt_c1', 'PGLYCP_c1', 'MERXN__DASH__22_c2', 'MTRXN__DASH__13__DASH__ENZRXN3EM__DASH__1499__DASH__ENZRXN3EM__DASH__1506__DASH__ENZRXN3EM__DASH__1638_c2', 'ALAHISt_c1', 'ASPO5_c1', 'CPSS__DASH__BT_c1', 'ADPT_c1', 'MTRXN__DASH__71_c2', 'ENZRXN3EM__DASH__25__DASH__ENZRXN3EM__DASH__599_c2', '3OAR180_c1', 'ASPT_c1', 'DAPE_c1', 'MANAO_c1', 'rxn08194_c2', 'DASYNI16_c1', 'FOLt_c1', 'CS_c1', 'FORt_c1', 'ENZRXN3EM__DASH__4704_c2', 'EAR12M13x_c1', 'EAR120x_c1', 'GTPDPK_c1', 'DASYN160_c1', 'DBTS_c1', 'FPGS7_c1', 'ADK1_c1', 'DASYN140_c1', 'CS4TASE_c1', 'FACOAL160_c1', '3OAR14M15_c1', 'DASYNI17_c1', 'FACOAL140_c1', 'ASADi_c1', 'DHQS_c1', 'MANA1e_c1', 'FRD11_c1', 'rxn00479_c2', 'DHORTS_c1', 'ASPTA_c1', 'GUI1_c1', 'EAR121x_c1', 'GUAPRT_c1', '3OAR160_c1', 'rxn01225_c2', 'DHPS3_c1', 'FACOAL161_c1', 'ASPO6_c1', 'DHPS_c1', 'AS6TASE__DASH__HS2_c1', 'rxn00799_c2', 'ADK2_c1', 'CYTDK4_c1', 'FPGS__DASH__tm_c1', 'ASPO1_c1', 'FOMETR_c1', 'MERXN__DASH__72_c2', '3OAR15M16_c1', 'ARGARG1c_c1', 'CYTDK3_c1', 'ENZRXN3EM__DASH__4700_c2', 'EAR11M12x_c1', 'MERXN__DASH__73_c2', 'DB4PS_c1', 'DHQTi_c1', 'MANA4e_c1', '3OAR14M16_c1', 'CYTDK2_c1', 'MERXN__DASH__71_c2', 'ENZRXN3EM__DASH__535_c2', 'ADNUC_c1', 'GTPDPDP_c1', 'AROH_c1', 'ENZRXN3EM__DASH__104_c2', 'EAR12M14x_c1', 'ARBt2r_c1', 'FRD10_c1', 'DAPMDH_c1', 'AS3TASE__DASH__HS2_c1', 'CYTDt2r_c1', 'COBALTt5_c1', 'GUI2_c1', 'ADNt2_c1', 'DASYN120_c1', 'ENZRXN3EM__DASH__532_c2', 'AS3TASE__DASH__HS1_c1', 'AS6TASE__DASH__HS1_c1', 'ADSK_c1', 'rxn09272_c2', 'CO2t_c1', 'DHPPDA_c1', 'rxn03512_c2', 'ADCL_c1', 'CMLDC_c1', 'ASPK_c1', 'F1PGT_c1', 'ACtr_c1', 'ADOCBLabc_c1', 'ASNN_c1', 'rxn00289_c2', 'rxn00088_c2', 'ENZRXN3EM__DASH__435_c2', 'ARAI_c1', 'CYTDK1_c1', 'DGSNt2_c1', 'EAR7M8x_c1', 'CEPTC__DASH__BT_c1', 'ACOAAGPATI16_c1', 'DGK1_c1', 'rxn08230_c2', 'rxn00797_c2', 'DEXTRAN40e_c1', 'CGLYt3__DASH__2__DASH___c1', 'ENZRXN3EM__DASH__1123_c2', 'ACOATA_c1', 'rxn05005_c2', 'ACONTb_c1', 'EAR6M7x_c1', 'MERXN__DASH__70_c2', 'CEPTE__DASH__BT_c1', 'MTRXN__DASH__27__DASH__MTRXN__DASH__31_c2', 'ENZRXN3EM__DASH__1011_c2', 'DGC3D2_c1', 'EAR6M8x_c1', 'EAR80x_c1', 'EAR8M10x_c1', 'CDPMEK_c1', 'CERS__DASH__BT_c1', 'PSD181_c1', 'MVRXN__DASH__79__DASH__MVRXN__DASH__91_c2', 'rxn28316_c2', 'EAR8M9x_c1', 'ENZRXN3EM__DASH__446_c2', 'ENZRXN3EM__DASH__362_c2', 'PSP__DASH__L_c1', 'PSDAI15_c1', 'rxn03910_c2', 'rxn08087_c2', 'ENZRXN3EM__DASH__196_c2', 'DGC3D_c1', 'ENZRXN3EM__DASH__128__DASH__ENZRXN3EM__DASH__1505_c2', 'EAR60x_c1', 'rxn00541_c2', 'rxn03916_c2', 'PSDAI17_c1', 'ENZRXN3EM__DASH__154__DASH__ENZRXN3EM__DASH__542_c2', 'FERO_c1', 'FE3abc_c1', 'GLCNACASE__DASH__OGLYCAN2e_c1', 'ENZRXN3EM__DASH__314_c2', 'rxn09201_c2', 'MVRXN__DASH__222_c2', 'rxn08086_c2', 'ENZRXN3EM__DASH__469__DASH__ENZRXN3EM__DASH__536_c2', 'rxn02213_c2', 'PSSA140_c1', 'ENZRXN3EM__DASH__506_c2', 'PSDI14_c1', 'ENZRXN3EM__DASH__1662__DASH__ENZRXN3EM__DASH__544__DASH__ENZRXN3EM__DASH__549_c2', 'CDPGHL_c1', 'rxn00803_c2', 'MVRXN__DASH__5_c2', 'MVRXN__DASH__292_c2', 'rxn13838_c2', 'FE3DCITabc_c1', 'CD2abc1_c1', 'PSDI15_c1', 'rxn02929_c2', 'ACODA_c1', 'FK_c1', 'rxn12217_c2', 'MTRXN__DASH__43_c2', 'MTRXN__DASH__3_c2', 'ENZRXN3EM__DASH__1013_c2', 'rxn08088_c2', 'ENZRXN3EM__DASH__497__DASH__ENZRXN3EM__DASH__799_c2', 'PSSA160_c1', 'ENZRXN3EM__DASH__707_c2', 'PSDI16_c1', 'rxn03422_c2', 'ACOAAGPATI17_c1', 'rxn11026_c2', 'rxn01740_c2', 'rxn08226_c2', 'ENZRXN3EM__DASH__139_c2', 'rxn03247_c2', 'ENZRXN3EM__DASH__1498__DASH__ENZRXN3EM__DASH__1512_c2', 'rxn01202_c2', 'PSDI17_c1', 'rxn00898_c2', 'ENZRXN3EM__DASH__28_c2', 'MTRXN__DASH__75__DASH__MTRXN__DASH__76_c2', 'rxn00763_c2', 'rxn26352_c2', 'MTRXN__DASH__10__DASH__MTRXN__DASH__16_c2', 'PSERTr_c1', 'FEDCabc_c1', 'rxn03055_c2', 'ACONTa_c1', 'PSSA120_c1', 'MVRXN__DASH__261_c2', 'rxn03150_c2', 'rxn08229_c2', 'DRPAr_c1', 'SK_cpd11416_c2', 'rxn02405_c2', 'GSNt2r_c1', 'PAPPT2_c1', 'DTMPK_c1', 'GNNUC_c1', 'EAR100x_c1', 'GMPS2_c1', 'APRAUR_c1', 'EAR10M11x_c1', 'PBt_c1', 'D__DASH__LACt2_c1', 'GTPCI_c1', 'rxn04969_c2', 'DRBKr_c1', 'E4PD_c1', 'PAPPT3_c1', 'GMHEPPA_c1', 'rxn09203_c2', 'DURIK1_c1', 'EACPR2_c1', 'GMHEPAT_c1', 'rxn00858_c2', 'DT5HSUt2r_c1', 'ARABINANASEe_c1', 'GTPCII_c1', 'SADT_c1', 'S7PIr_c1', 'rxn28323_c2', 'GND_c1', 'rxn00634_c2', 'GMHEPK_c1', 'GRTT_c1', 'PANTS_c1', 'rxn08206_c2', 'rxn32421_c2', 'SERD__DASH__L_c1', 'ENZRXN3EM__DASH__52_c2', 'ENZRXN3EM__DASH__1513_c2', 'G3PAT140_c1', 'ENZRXN3EM__DASH__303_c2', 'GPDDA1_c1', 'PACt2r_c1', 'rxn09209_c2', 'MERXN__DASH__43_c2', 'ENZRXN3EM__DASH__1064_c2', 'ARABASE3e_c1', 'DPCOAK_c1', 'SADT2_c1', 'EACPR1_c1', 'rxn00097_c2', 'G1PTT_c1', 'rxn06633_c2', 'DM__DASH__AMOB_c1', 'SERt2r_c1', 'rxn02008_c2', 'rxn01480_c2', 'rxn02474_c2', 'AOXSr2_c1', 'rxn09208_c2', 'SERATi_c1', 'rxn33691_c2', 'PDHa_c1', 'rxn00122_c2', 'rxn00539_c2', 'DPR_c1', 'PC_c1', 'rxn03908_c2', 'EAR10M12x_c1', 'SERPT_c1', 'ENZRXN3EM__DASH__293_c2', 'rxn09211_c2', 'rxn00123_c2', 'SEPHCHS_c1', 'MVRXN__DASH__144_c2', 'ENZRXN3EM__DASH__1067__DASH__ENZRXN3EM__DASH__470__DASH__ENZRXN3EM__DASH__79_c2', 'G3PAT160_c1', 'rxn09210_c2', 'GTHP_c1', 'rxn01643_c2', 'rxn15035_c2', 'rxn00303_c2', 'ENZRXN3EM__DASH__924_c2', 'G3PAT120_c1', 'ENZRXN3EM__DASH__4716_c2', 'rxn08207_c2', 'rxn32479_c2', 'LPSSYN__DASH__BT_c1', 'GCCb_c1', 'GALK_c1', 'L__DASH__LACt2r_c1', 'EAR14M15x_c1', 'LYSDC_c1', 'GALt2__DASH__2_c1', 'HEMEti_c1', 'LMNe_c1', 'LYSt3r_c1', 'NADK_c1', 'EAR14M16x_c1', 'GART_c1', 'LEUGLY1c_c1', 'GALASE__DASH__OGLYCAN3e_c1', 'rxn00533_c2', 'GALUi_c1', 'rxn01682_c2', 'EAR141x_c1', 'EAR140x_c1', 'HCYSMT_c1', 'GALS3_c1', 'rxn02364_c2', 'NADH5_c1', 'rxn02341_c2', 'ENZRXN3EM__DASH__1551_c2', 'NADS1_c1', 'GALURt2r_c1', 'LPADSS__DASH__BT_c1', 'rxn00562_c2', 'NADH9_c1', 'GCCa_c1', 'ENZRXN3EM__DASH__4689_c2', 'ENZRXN3EM__DASH__1552_c2', 'LPS__DASH__BTabc_c1', 'rxn06887_c2', 'EAR15M16x_c1', 'rxn03423_c2', 'rxn01445_c2', 'LEULEU1c_c1', 'MTRXN__DASH__62__DASH__MTRXN__DASH__38_c2', 'ENZRXN3EM__DASH__1032__DASH__ENZRXN3EM__DASH__8__DASH__ENZRXN3EM__DASH__985_c2', 'ENZRXN3EM__DASH__1568_c2', 'ENZRXN3EM__DASH__3828_c2', 'NADS2_c1', 'rxn00727_c2', 'rxn00506_c2', 'rxn32587_c2', 'HCO3E_c1', 'rxn05957_c2', 'GALM1r_c1', 'GARFTi_c1', 'rxn00649_c2', 'EAR160x_c1', 'MVRXN__DASH__175__DASH__MVRXN__DASH__181_c2', 'rxn03953_c2', 'ENZRXN3EM__DASH__108_c2', 'NADK2_c1', 'rxn27415_c2', 'rxn00338_c2', 'rxn00300_c2', 'MTRXN__DASH__6__DASH__ENZRXN3EM__DASH__106__DASH__ENZRXN3EM__DASH__93__DASH__MTRXN__DASH__20__DASH__MTRXN__DASH__15__DASH__MTRXN__DASH__66_c2', 'EAR13M14x_c1', 'rxn00802_c2', 'H2Ot_c1', 'ENZRXN3EM__DASH__478_c2', 'rxn20285_c2', 'rxn00283_c2', 'H2St_c1', 'ENZRXN3EM__DASH__1654_c2', 'ENZRXN3EM__DASH__1295__DASH__ENZRXN3EM__DASH__217_c2', 'rxn15081_c2', 'H2td_c1', 'LYSAM_c1', 'rxn19133_c2', 'G6PI_c1', 'HOMOGALASEe_c1', 'GLCAASE9e_c1', 'NTPP1_c1', 'GLYMET1c_c1', 'G6PDA_c1', 'G6PDH2r_c1', 'GACPCD_c1', 'GLNt2r_c1', 'PFL_c1', 'G3PATI16_c1', 'PFK__DASH__2_c1', 'KESTOTTRASEe_c1', 'rxn02285_c2', 'GK1_c1', 'MERXN__DASH__44_c2', 'LEULEUt_c1', 'LEUO_c1', 'rxn01462_c2', 'G6PI3_c1', 'Kabc_c1', 'PSSA180_c1', 'MERXN__DASH__40_c2', 'LEUt2r_c1', 'rxn33847_c2', 'G5SD_c1', 'Kt3r_c1', 'MERXN__DASH__45_c2', 'ENZRXN3EM__DASH__100__DASH__ENZRXN3EM__DASH__1451_c2', 'GLCAASE8e_c1', 'PTA2_c1', 'LEUTA_c1', 'PSSA181_c1', 'GLYMETt_c1', 'MERXN__DASH__41_c2', 'MVRXN__DASH__258_c2', 'HISTD_c1', 'NTPP10_c1', 'HMPK1_c1', 'LEULEULAPe_c1', 'LEVANASE__DASH__1e_c1', 'PFK__DASH__ppi__DASH___c1', 'PSSAAI15_c1', 'HISTP_c1', 'GLCNACASE__DASH__OGLYCAN1e_c1', 'ENZRXN3EM__DASH__564_c2', 'PPA__DASH__1_c1', 'PTPAT_c1', 'PSSAAI17_c1', 'GLCAASE__DASH__HSe_c1', 'KESTOPTASEe_c1', 'MERXN__DASH__46_c2', 'MERXN__DASH__48_c2', 'PSSAI14_c1', 'MERXN__DASH__47_c2', 'rxn02085_c2', 'rxn09205_c2', 'PTRCabc_c1', 'GHMT2r_c1', 'GLYPHEHYi_c1', 'PSSAI15_c1', 'rxn00629_c2', 'G6PBDH_c1', 'ENZRXN3EM__DASH__1219__DASH__ENZRXN3EM__DASH__443_c2', 'G5SADs_c1', 'PFK_c1', 'rxn04384_c2', 'PSSAI16_c1', 'rxn00692_c2', 'ENZRXN3EM__DASH__450_c2', 'G3PATI17_c1', 'rxn03181_c2', 'G3PD1_c1', 'GK2_c1', 'MERXN__DASH__49_c2', 'HISt2r_c1', 'MERXN__DASH__42_c2', 'PSSAI17_c1', 'ENZRXN3EM__DASH__861_c2', 'HPPK_c1', 'rxn00831_c2', 'GLCNACASE__DASH__OGLYCAN3e_c1', 'PTAr_c1', 'rxn00500_c2', 'METSr_c1', 'IPPMIb_c1', 'METOX1s_c1', 'P5CD_c1', 'rxn11157_c2', 'ORPT_c1', 'ENZRXN3EM__DASH__1562_c2', 'HEXTT_c1', 'P5CRyr_c1', 'rxn00710_c2', 'OORr_c1', 'HEXb_c1', 'ENZRXN3EM__DASH__1570_c2', 'IS2TASE_c1', 'rxn00179_c2', 'rxn01011_c2', 'HEX7_c1', 'KAS6_c1', 'MG2abc_c1', 'MERXN__DASH__50_c2', 'HISD_c1', 'METt2r_c1', 'NTD3_c1', 'MTRXN__DASH__14_c2', 'NTD11_c1', 'IPPS_c1', 'rxn10772_c2', 'ORNabc_c1', 'rxn01044_c2', 'MERXN__DASH__17_c2', 'NTD10_c1', 'OOR2r_c1', 'ENZRXN3EM__DASH__513__DASH__ENZRXN3EM__DASH__737_c2', 'MERXN__DASH__14_c2', 'HG2abc_c1', 'rxn08900_c2', 'KAS4_c1', 'NTD2_c1', 'rxn25283_c2', 'ENZRXN3EM__DASH__1172__DASH__ENZRXN3EM__DASH__957__DASH__ENZRXN3EM__DASH__1078_c2', 'MERXN__DASH__15_c2', 'rxn00671_c2', 'MERXN__DASH__16_c2', 'rxn23778_c2', 'OMCDC_c1', 'ENZRXN3EM__DASH__386__DASH__ENZRXN3EM__DASH__888_c2', 'MERXN__DASH__18_c2', 'ENZRXN3EM__DASH__507_c2', 'KAS8_c1', 'METAT_c1', 'OMPDC_c1', 'rxn03061_c2', 'MVRXN__DASH__68_c2', 'METSOXR1_c1', 'MERXN__DASH__12_c2', 'IS2TASE__DASH__HS1_c1', 'MVRXN__DASH__64_c2', 'MERXN__DASH__13_c2', 'ENZRXN3EM__DASH__117__DASH__ENZRXN3EM__DASH__358_c2', 'rxn09179_c2', 'ENZRXN3EM__DASH__425__DASH__ENZRXN3EM__DASH__646__DASH__ENZRXN3EM__DASH__622_c2', 'MERXN__DASH__10_c2', 'rxn08209_c2', 'MERXN__DASH__11_c2', 'ORNTA_c1', 'rxn08208_c2', 'rxn01791_c2', 'rxn00509_c2', 'NTD1_c1', 'rxn00423_c2', 'rxn02000_c2', 'MERXN__DASH__52_c2', 'MVRXN__DASH__66_c2', 'MTRXN__DASH__11_c2', 'rxn09104_c2', 'MERXN__DASH__53_c2', 'rxn02937_c2', 'rxn03990_c2', 'ENZRXN3EM__DASH__388_c2', 'ENZRXN3EM__DASH__1536_c2', 'OLIGOFRUASEe_c1', 'MERXN__DASH__19_c2', 'rxn01199_c2', 'rxn02264_c2', 'rxn03537_c2', 'IPPMIa_c1', 'rxn03904_c2', 'rxn00908_c2', 'MAN1PT2r_c1', 'RNTR1_c1', 'MALTe_c1', 'NTP1_c1', 'rxn02222_c2', 'OBTFL_c1', 'RMK_c1', 'FRUASE3_c1', 'NTRIR5_c1', 'FTCD__DASH__r_c1', 'U2GAAT__DASH__BT_c1', 'OAADC_c1', 'ENZRXN3EM__DASH__1010_c2', 'MALTt2r_c1', 'RMNt_c1', 'FTHFCL_c1', 'NTD8_c1', 'FTHFLi_c1', 'U23GAAT__DASH__BT_c1', 'rxn00290_c2', 'rxn30672_c2', 'NTPP11_c1', 'rxn04143_c2', 'UAAGDS_c1', 'RMPA_c1', 'NTPP2_c1', 'RMI_c1', 'MAN6PI_c1', 'RIBt2r_c1', 'RIBFLVt2r_c1', 'rxn00119_c2', 'MALCOAMT_c1', 'TYRt2r_c1', 'MERXN__DASH__6_c2', 'U2GAAT2__DASH__BT_c1', 'MERXN__DASH__9_c2', 'ENZRXN3EM__DASH__3452__DASH__ENZRXN3EM__DASH__3454_c2', 'rxn01268_c2', 'ENZRXN3EM__DASH__354_c2', 'MALT_c1', 'O2t_c1', 'NTPP9_c1', 'MERXN__DASH__4_c2', 'NTPTP1_c1', 'MERXN__DASH__7_c2', 'PDHbr_c1', 'MERXN__DASH__5_c2', 'MERXN__DASH__3_c2', 'ENZRXN3EM__DASH__1029__DASH__ENZRXN3EM__DASH__1671_c2', 'FTHFD_c1', 'rxn01634_c2', 'NTPP8_c1', 'UACMAMO_c1', 'PDHcr_c1', 'rxn03887_c2', 'UAG2EMA_c1', 'NTD7_c1', 'MVRXN__DASH__162__DASH__MVRXN__DASH__169_c2', 'NTD9_c1', 'UAG2E_c1', 'O16G2e_c1', 'UAG4E_c1', 'RMK2_c1', 'MALCOACD_c1', 'MERXN__DASH__2_c2', 'ENZRXN3EM__DASH__894_c2', 'FRUt2r_c1', 'MERXN__DASH__1_c2', 'NDPK5_c1', 'GLYGLYHyi_c1', 'MERXN__DASH__37_c2', 'NEULACNTTR__DASH__SIASEe_c1', 'MERXN__DASH__36_c2', 'GLYGLUt_c1', 'LACNTTR__DASH__DEGe_c1', 'MANA2e_c1', 'rxn00942_c2', 'KAS2_c1', 'NDPK6_c1', 'LEUGLYLAPe_c1', 'LEUGLYt_c1', 'MANA3e_c1', 'NDPK8_c1', 'rxn02688_c2', 'KAS14_c1', 'NDPK7_c1', 'ENZRXN3EM__DASH__927_c2', 'ENZRXN3EM__DASH__512__DASH__ENZRXN3EM__DASH__736_c2', 'KAS3_c1', 'rxn00312_c2', 'rxn03492_c2', 'ENZRXN3EM__DASH__1028_c2', 'rxn00010_c2', 'rxn01630_c2', 'MVRXN__DASH__211_c2', 'ENZRXN3EM__DASH__19_c2', 'rxn02175_c2', 'GLCt2r_c1', 'ENZRXN3EM__DASH__1518_c2', 'GLCNACASE__DASH__OGLYCAN5e_c1', 'MANA4_c1', 'MVRXN__DASH__247_c2', 'rxn01015_c2', 'rxn08549_c2', 'ENZRXN3EM__DASH__5326__DASH__ENZRXN3EM__DASH__5328_c2', 'rxn01280_c2', 'rxn00839_c2', 'rxn01286_c2', 'rxn01000_c2', 'rxn01127_c2', 'NH4t_c1', 'rxn00875_c2', 'NDPK9_c1', 'rxn01509_c2', 'NDPK4_c1', 'rxn03909_c2', 'ENZRXN3EM__DASH__4729__DASH__MTRXN__DASH__2_c2', 'rxn03239_c2', 'NDPK3_c1', 'rxn00742_c2', 'rxn00470_c2', 'ENZRXN3EM__DASH__159_c2', 'PSD120_c1', 'MERXN__DASH__20_c2', 'URFGTT_c1', 'ENZRXN3EM__DASH__13_c2', 'THZPSN_c1', 'SHK3Dr_c1', 'SHCHCS3_c1', 'DALAt2r_c1', 'rxn00974_c2', 'ENZRXN3EM__DASH__647__DASH__ENZRXN3EM__DASH__85_c2', 'MTRXN__DASH__50__DASH__MTRXN__DASH__51_c2', 'MERXN__DASH__21_c2', 'PROD3_c1', 'Cut1_c1', 'ENZRXN3EM__DASH__1298__DASH__ENZRXN3EM__DASH__250__DASH__ENZRXN3EM__DASH__570_c2', 'MTRXN__DASH__84_c2', 'ENZRXN3EM__DASH__1152__DASH__ENZRXN3EM__DASH__1255__DASH__ENZRXN3EM__DASH__455_c2', 'rxn00062_c2', 'ENZRXN3EM__DASH__1390__DASH__ENZRXN3EM__DASH__405_c2', 'SHSL4_c1', 'PROD2_c1', 'MTRXN__DASH__26__DASH__MTRXN__DASH__30_c2', 'MTRXN__DASH__85_c2', 'rxn00102_c2', 'UREAt_c1', 'ENZRXN3EM__DASH__135__DASH__ENZRXN3EM__DASH__1704__DASH__ENZRXN3EM__DASH__546__DASH__ENZRXN3EM__DASH__550_c2', 'DADNt2r_c1', 'URIDK2r_c1', 'rxn00060_c2', 'MERXN__DASH__27_c2', 'ENZRXN3EM__DASH__198_c2', 'URIDK1_c1', 'DADK_c1', 'TKT2_c1', 'rxn00132_c2', 'THRS_c1', 'MERXN__DASH__26_c2', 'DAPDC_c1', 'PSD180_c1', 'SHKK_c1', 'rxn01416_c2', 'MERXN__DASH__25_c2', 'URIK3_c1', 'rxn03040_c2', 'TMPPP_c1', 'DAGK160_c1', 'MERXN__DASH__24_c2', 'Cuabc_c1', 'THRt2r_c1', 'ENZRXN3EM__DASH__1659__DASH__ENZRXN3EM__DASH__162_c2', 'MVRXN__DASH__203__DASH__MVRXN__DASH__210_c2', 'SHSL1_c1', 'ENZRXN3EM__DASH__505_c2', 'TMDS_c1', 'ENZRXN3EM__DASH__3456__DASH__ENZRXN3EM__DASH__3458_c2', 'ENZRXN3EM__DASH__53_c2', 'PROGLYt_c1', 'rxn01475_c2', 'SHSL2_c1', 'MTRXN__DASH__48_c2', 'PSD160_c1', 'MERXN__DASH__28_c2', 'rxn07987_c2', 'rxn00141_c2', 'SIAASE__DASH__OGLYCAN1e_c1', 'URIK1_c1', 'MERXN__DASH__29_c2', 'PROt4r_c1', 'URIK2_c1', 'MTRXN__DASH__57_c2', 'SIAASE__DASH__OGLYCAN3e_c1', 'rxn01642_c2', 'PRPPS_c1', 'ENZRXN3EM__DASH__926_c2', 'VALTA_c1', 'SIAASE__DASH__OGLYCAN2e_c1', 'rxn01396_c2', 'rxn03439_c2', 'ENZRXN3EM__DASH__778_c2', 'MTRXN__DASH__18__DASH__MTRXN__DASH__9_c2', 'TMDPK_c1', 'URIt2r_c1', 'rxn05340_c2', 'TMPKr_c1', 'rxn19128_c2', 'ENZRXN3EM__DASH__1046_c2', 'ENZRXN3EM__DASH__1590_c2', 'ENZRXN3EM__DASH__1636__DASH__ENZRXN3EM__DASH__1527_c2', 'ENZRXN3EM__DASH__22__DASH__ENZRXN3EM__DASH__99__DASH__ENZRXN3EM__DASH__685_c2', 'TMDK1_c1', 'VALO_c1', 'ENZRXN3EM__DASH__1842_c2', 'rxn01520_c2', 'rxn00720_c2', 'PSCVT_c1', 'USHD__DASH__BT_c1', 'rxn00340_c2', 'rxn30759_c2', 'TKT1_c1', 'rxn05338_c2', 'rxn03182_c2', 'rxn00416_c2', 'rxn05342_c2', 'PSD140_c1', 'FACOALI15_c1', 'MTHFR3_c1', 'FACOALI16_c1', 'OHPBAT_c1', 'MTRXN__DASH__36_c2', 'FACOALI17_c1', 'MVRXN__DASH__228_c2', 'rxn00147_c2', 'ENZRXN3EM__DASH__1042__DASH__ENZRXN3EM__DASH__188_c2', 'rxn00804_c2', 'OGALURLe_c1', 'ENZRXN3EM__DASH__832_c2', 'OHPHM_c1', 'rxn00363_c2', 'ENZRXN3EM__DASH__1520__DASH__ENZRXN3EM__DASH__1655__DASH__ENZRXN3EM__DASH__170__DASH__ENZRXN3EM__DASH__4687__DASH__ENZRXN3EM__DASH__741_c2', 'KDOCT2_c1', 'OIVD1r_c1', 'KDNH_c1', 'OIVD2_c1', 'rxn00950_c2', 'KDOPP_c1', 'NACHEX27e_c1', 'rxn03251_c2', 'rxn08550_c2', 'OIVD3_c1', 'rxn03534_c2', 'rxn08599_c2', 'rxn01522_c2', 'MTHFC_c1', 'rxn00392_c2', 'ENZRXN3EM__DASH__278_c2', 'MVRXN__DASH__155_c2', 'MTAN_c1', 'MTHFD_c1', 'ENZRXN3EM__DASH__4718__DASH__ENZRXN3EM__DASH__1012__DASH__ENZRXN3EM__DASH__73__DASH__MTRXN__DASH__22_c2', 'MTHFR2_c1', 'ENZRXN3EM__DASH__1338__DASH__ENZRXN3EM__DASH__18__DASH__ENZRXN3EM__DASH__334__DASH__ENZRXN3EM__DASH__4698_c2', 'rxn02679_c2', 'rxn00740_c2', 'rxn01305_c2', 'rxn00938_c2', 'rxn01302_c2', 'rxn01816_c2', 'rxn03253_c2', 'rxn03513_c2', 'rxn01827_c2', 'rxn14395_c2', 'MTHGXLt_c1', 'MVRXN__DASH__216_c2', 'ENZRXN3EM__DASH__1398__DASH__ENZRXN3EM__DASH__1463_c2', 'rxn00327_c2', 'MTRXN__DASH__4_c2', 'ENZRXN3EM__DASH__1405__DASH__MTRXN__DASH__56__DASH__ENZRXN3EM__DASH__134__DASH__ENZRXN3EM__DASH__439_c2', 'PEPM_c1', 'PEPT160_c1', 'PE__DASH__CER1__DASH__BTt_c1', 'ENZRXN3EM__DASH__150__DASH__ENZRXN3EM__DASH__540_c2', 'MVRXN__DASH__103_c2', 'MERXN__DASH__30_c2', 'PECTIN__DASH__DEGe_c1', 'rxn00173_c2', 'PERD_c1', 'MERXN__DASH__31_c2', 'MERXN__DASH__32_c2', 'PECTIN__DASH__DEG2e_c1', 'MERXN__DASH__33_c2', 'rxn07993_c2', 'rxn01256_c2', 'rxn05337_c2', 'ENZRXN3EM__DASH__272_c2', 'MERXN__DASH__34_c2', 'MERXN__DASH__35_c2', 'rxn01507_c2', 'MERXN__DASH__38_c2', 'rxn05341_c2', 'MERXN__DASH__39_c2', 'MVRXN__DASH__269__DASH__MVRXN__DASH__270_c2', 'MVRXN__DASH__77__DASH__MVRXN__DASH__89_c2', 'rxn01636_c2', 'MVRXN__DASH__115__DASH__MVRXN__DASH__126_c2', 'rxn00800_c2', 'ENZRXN3EM__DASH__876_c2', 'rxn19316_c2', 'MERXN__DASH__66_c2', 'rxn33838_c2', 'rxn25994_c2', 'MERXN__DASH__67_c2', 'GLCS2_c1', 'ENZRXN3EM__DASH__560__DASH__ENZRXN3EM__DASH__561_c2', 'MERXN__DASH__68_c2', 'rxn00747_c2', 'rxn00374_c2', 'ENZRXN3EM__DASH__331_c2', 'GLCP_c1', 'ENZRXN3EM__DASH__1399__DASH__ENZRXN3EM__DASH__319__DASH__ENZRXN3EM__DASH__385__DASH__ENZRXN3EM__DASH__457__DASH__ENZRXN3EM__DASH__477_c2', 'ENZRXN3EM__DASH__1446__DASH__ENZRXN3EM__DASH__1523__DASH__ENZRXN3EM__DASH__4702__DASH__ENZRXN3EM__DASH__4715__DASH__MTRXN__DASH__65_c2', 'rxn02003_c2', 'MTRXN__DASH__42_c2', 'MERXN__DASH__69_c2', 'rxn19982_c2', 'rxn00654_c2', 'ENZRXN3EM__DASH__563_c2', 'MERXN__DASH__65_c2', 'rxn09105_c2', 'rxn15116_c2', 'MERXN__DASH__64_c2', 'MERXN__DASH__63_c2', 'rxn00456_c2', 'MTRXN__DASH__72_c2', 'rxn32521_c2', 'MERXN__DASH__62_c2', 'ENZRXN3EM__DASH__1128_c2', 'MERXN__DASH__61_c2', 'GLCURt2r_c1', 'rxn15064_c2', 'MERXN__DASH__60_c2', 'rxn04016_c2', 'rxn20220_c2', 'rxn03884_c2', 'rxn12234_c2', 'ENZRXN3EM__DASH__186_c2', 'rxn02889_c2', 'rxn00991_c2', 'rxn03514_c2', 'rxn08291_c2', 'MTRXN__DASH__73_c2', 'rxn00019_c2', 'GROWTH_c2', 'rxn01807_c2', 'rxn27920_c2', 'Clt_c1', 'ZNabc_c1', 'SK_cpd02701_c2', 'ENZRXN3EM__DASH__305_c2', 'ENZRXN3EM__DASH__681_c2', 'MVRXN__DASH__11__DASH__MVRXN__DASH__122_c2', 'CYTK2_c1', 'rxn12224_c2', 'MVRXN__DASH__267__DASH__MVRXN__DASH__268_c2', 'ZN2t4_c1', 'RHAMNOGALURASEe__DASH__I_c1', 'rxn03084_c2', 'rxn00872_c2', 'sink__DASH__chols_c1', 'MTRXN__DASH__7__DASH__ENZRXN3EM__DASH__4712__DASH__ENZRXN3EM__DASH__4713__DASH__MTRXN__DASH__2__DASH__MTRXN__DASH__19__DASH__MTRXN__DASH__68_c2', 'ENZRXN3EM__DASH__523__DASH__ENZRXN3EM__DASH__606__DASH__ENZRXN3EM__DASH__944_c2', 'rxn00980_c2', 'MTRXN__DASH__17__DASH__ENZRXN3EM__DASH__1038_c2', 'rxn24067_c2', 'ENZRXN3EM__DASH__906_c2', 'RBK__DASH__L1_c1', 'rxn00957_c2', 'sink__DASH__s_c1', 'RFA__DASH__BT_c1', 'ENZRXN3EM__DASH__1667__DASH__MTRXN__DASH__8_c2', 'sink__DASH__hpyr_c1', 'RBK__DASH__D_c1', 'CYTK1_c1', 'rxn00361_c2', 'RBP4E_c1', 'ENZRXN3EM__DASH__733_c2', 'ENZRXN3EM__DASH__844_c2', 'rxn00285_c2', 'RFAC__DASH__HP_c1', 'ENZRXN3EM__DASH__738_c2', 'rxn00543_c2', 'rxn05335_c2', 'MTRXN__DASH__37_c2', 'rxn01504_c2', 'ENZRXN3EM__DASH__812_c2', 'rxn00214_c2', 'ENZRXN3EM__DASH__748_c2', 'ENZRXN3EM__DASH__739_c2', 'rxn07980_c2', 'QMO3_c1', 'rxn01278_c2', 'rxn09177_c2', 'RBK_c1', 'PYDXO_c1', 'rxn00137_c2', 'PUNP5_c1', 'rxn00178_c2', 'MTRXN__DASH__44_c2', 'MVRXN__DASH__110__DASH__MVRXN__DASH__121_c2', 'PYK_c1', 'PUNP4_c1', 'ENZRXN3EM__DASH__40__DASH__ENZRXN3EM__DASH__768_c2', 'RBFK_c1', 'rxn00379_c2', 'rxn01519_c2', 'ENZRXN3EM__DASH__37__DASH__ENZRXN3EM__DASH__1053__DASH__ENZRXN3EM__DASH__1226__DASH__ENZRXN3EM__DASH__1265__DASH__ENZRXN3EM__DASH__1357__DASH__ENZRXN3EM__DASH__1395_c2', 'ENZRXN3EM__DASH__399__DASH__ENZRXN3EM__DASH__766_c2', 'PYRt2r_c1', 'PULLe_c1', 'rxn00250_c2', 'PTRCtex2_c1', 'RAFFabc_c1', 'rxn30654_c2', 'QULNS_c1', 'RAFGH_c1', 'RBFSa_c1', 'rxn00172_c2', 'MTRXN__DASH__23_c2', 'RBFSb_c1', 'PUNP3_c1', 'ENZRXN3EM__DASH__488_c2', 'rxn03240_c2', 'MVRXN__DASH__7__DASH__MVRXN__DASH__83_c2', 'PUNP2_c1', 'MTRXN__DASH__45_c2', 'RAFH_c1', 'rxn00469_c2', 'rxn00029_c2', 'NAMNPP_c1', 'PUNP1_c1', 'ENZRXN3EM__DASH__1168_c2', 'PUNP6_c1', 'ENZRXN3EM__DASH__1314_c2', 'MVRXN__DASH__67_c2', 'GLCt4_c1', 'rxn00405_c2', 'MERXN__DASH__51_c2', 'GLNS_c1', 'GLCNACASE__DASH__OGLYCAN6e_c1', 'ENZRXN3EM__DASH__970_c2', 'MERXN__DASH__56_c2', 'STCOATA_c1', 'MERXN__DASH__57_c2', 'SPODM_c1', 'MERXN__DASH__54_c2', 'SUCDi_c1', 'rxn02288_c2', 'MERXN__DASH__55_c2', 'ENZRXN3EM__DASH__762_c2', 'rxn08551_c2', 'ENZRXN3EM__DASH__1508__DASH__MTRXN__DASH__29_c2', 'rxn00337_c2', 'rxn01434_c2', 'STYSGH_c1', 'rxn00077_c2', 'rxn08347_c2', 'MERXN__DASH__59_c2', 'rxn00952_c2', 'ENZRXN3EM__DASH__44_c2', 'SUCOAS_c1', 'rxn00601_c2', 'SUCBZS_c1', 'rxn03962_c2', 'rxn24306_c2', 'ENZRXN3EM__DASH__975_c2', 'rxn00783_c2', 'rxn05034_c2', 'rxn04866_c2', 'rxn00104_c2', 'ENZRXN3EM__DASH__792_c2', 'rxn08710_c2', 'ENZRXN3EM__DASH__1564_c2', 'rxn01924_c2', 'SUCBZL_c1', 'STYSabc_c1', 'SUCCt2r_c1', 'MVRXN__DASH__70__DASH__MVRXN__DASH__82_c2', 'ENZRXN3EM__DASH__1821_c2', 'rxn01303_c2', 'rxn00874_c2', 'rxn04865_c2', 'rxn00193_c2', 'rxn00988_c2', 'SK_cpd11416_c1', 'rxn00838_c2', 'rxn27318_c2', 'ENZRXN3EM__DASH__4727_c2', 'SK_cpd02701_c1', 'ENZRXN3EM__DASH__1574_c2', 'SUCCITRDSs_c1', 'rxn03248_c2', 'ENZRXN3EM__DASH__66_c2', 'rxn00913_c2', 'ENZRXN3EM__DASH__131__DASH__ENZRXN3EM__DASH__771_c2', 'ENZRXN3EM__DASH__42_c2', 'MVRXN__DASH__21_c2', 'SUCD1_c1', '3HAD121_c1', 'PGMT_c1', 'ENZRXN3EM__DASH__14_c2', 'PGMT2_c1', 'PGPPAI17_c1', 'rxn02904_c2', 'ENZRXN3EM__DASH__919__DASH__ENZRXN3EM__DASH__999_c2', 'PGPP120_c1', '3OAS3M4_c1', 'ENZRXN3EM__DASH__1595_c2', '3HAD12M14_c1', 'rxn08341_c2', 'ENZRXN3EM__DASH__1339_c2', 'rxn02212_c2', '3HAD11M12_c1', 'MERXN__DASH__74_c2', 'rxn01275_c2', '3HAD10M12_c1', '3HAD13M14_c1', 'rxn00704_c2', 'PGPP181_c1', 'rxn00117_c2', '3OAS2M3_c1', 'ENZRXN3EM__DASH__1244_c2', 'rxn00646_c2', 'rxn00851_c2', 'rxn03347_c2', 'MVRXN__DASH__224_c2', '3OAS4M3O6_c1', 'rxn00650_c2', 'ENZRXN3EM__DASH__803_c2', 'rxn00966_c2', 'rxn02173_c2', 'MTRXN__DASH__77_c2', 'rxn02219_c2', 'rxn01675_c2', 'ENZRXN3EM__DASH__147__DASH__ENZRXN3EM__DASH__336_c2', '3HAD120_c1', 'PGPPI14_c1', 'PGPP140_c1', 'rxn01523_c2', 'rxn30417_c2', 'PGPP160_c1', 'rxn09106_c2', '3HAD12M13_c1', 'ENZRXN3EM__DASH__1445__DASH__ENZRXN3EM__DASH__3_c2', 'rxn04704_c2', 'PGPP180_c1', 'rxn19988_c2', 'ENZRXN3EM__DASH__1500__DASH__ENZRXN3EM__DASH__1510_c2', 'rxn30718_c2', 'rxn01145_c2', 'rxn01746_c2', 'PGPPAI15_c1', 'rxn09370_c2', 'ENZRXN3EM__DASH__898_c2', 'ENZRXN3EM__DASH__1535_c2', 'MTRXN__DASH__33__DASH__ENZRXN3EM__DASH__176__DASH__ENZRXN3EM__DASH__4696_c2', 'rxn24668_c2', 'ENZRXN3EM__DASH__1312_c2', '3OAACPR1_c1', 'ENZRXN3EM__DASH__1379_c2', 'DASYNAI17_c1', 'ENZRXN3EM__DASH__3834_c2', '3HAD9M10_c1', 'ENZRXN3EM__DASH__1108_c2', 'ENZRXN3EM__DASH__356__DASH__ENZRXN3EM__DASH__703_c2', 'MVRXN__DASH__279_c2', 'rxn01353_c2', 'rxn01730_c2', 'rxn05116_c2', '3HAD8M9_c1', 'ENZRXN3EM__DASH__1197__DASH__ENZRXN3EM__DASH__387_c2', 'rxn00001_c2', 'ENZRXN3EM__DASH__1394_c2', 'ENZRXN3EM__DASH__374_c2', 'MTRXN__DASH__32_c2', 'ENZRXN3EM__DASH__1218_c2', 'rxn19771_c2', 'MVRXN__DASH__257_c2', 'rxn02733_c2', 'rxn23850_c2', 'ENZRXN3EM__DASH__1217__DASH__ENZRXN3EM__DASH__1274__DASH__ENZRXN3EM__DASH__1288__DASH__ENZRXN3EM__DASH__1309__DASH__ENZRXN3EM__DASH__1362_c2', 'ENZRXN3EM__DASH__1025__DASH__ENZRXN3EM__DASH__44__DASH__ENZRXN3EM__DASH__715_c2', 'MVRXN__DASH__101_c2', 'rxn01990_c2', 'rxn08311_c2', 'rxn02402_c2', 'MVRXN__DASH__138_c2', 'rxn03244_c2', 'rxn06777_c2', 'rxn19077_c2', 'rxn11258_c2', 'rxn02473_c2', 'rxn02834_c2', '3HAD8M10_c1', 'rxn00322_c2', 'rxn32181_c2', 'rxn07978_c2', 'rxn02277_c2', 'ENZRXN3EM__DASH__179__DASH__ENZRXN3EM__DASH__329__DASH__ENZRXN3EM__DASH__4697__DASH__MTRXN__DASH__24_c2', 'rxn20197_c2', 'rxn02273_c2', 'rxn03841_c2', 'ENZRXN3EM__DASH__4709__DASH__ENZRXN3EM__DASH__103__DASH__ENZRXN3EM__DASH__77__DASH__ENZRXN3EM__DASH__4706__DASH__ENZRXN3EM__DASH__4708__DASH__MTRXN__DASH__67_c2', 'DASYNI14_c1', 'rxn08386_c2', 'ENZRXN3EM__DASH__270_c2', 'ENZRXN3EM__DASH__463__DASH__ENZRXN3EM__DASH__499__DASH__ENZRXN3EM__DASH__607_c2', 'rxn00262_c2', 'rxn02374_c2', 'rxn06947_c2', '3HAD80_c1', 'rxn01257_c2', 'rxn00409_c2', '3OAR161_c1', 'rxn03951_c2', 'ENZRXN3EM__DASH__912_c2', 'rxn00192_c2', 'MVRXN__DASH__139_c2', 'DASYNI15_c1', 'rxn00124_c2', 'MVRXN__DASH__131_c2', 'ENZRXN3EM__DASH__274_c2', 'rxn01673_c2', 'rxn32390_c2', 'rxn17275_c2', 'ENZRXN3EM__DASH__408_c2', 'MVRXN__DASH__133_c2', 'rxn02986_c2', 'rxn05334_c2', '3OAR120_c1', 'PMANM_c1', 'ENZRXN3EM__DASH__322_c2', 'PUTA3_c1', 'MTRXN__DASH__63_c2', 'MTRXN__DASH__69_c2', 'PUNP7_c1', 'PMPK_c1', 'PYDXNK_c1', 'PYAM5PO_c1', '3OAR121_c1', 'ENZRXN3EM__DASH__1039__DASH__ENZRXN3EM__DASH__286_c2', 'PMDPHT_c1', 'PMTCOATA_c1', 'rxn03538_c2', 'PYDXK_c1', 'PPAtr_c1', 'PYDXNO_c1', 'PNTOt2_c1', 'PNP_c1', 'PYDXNtr_c1', 'rxn02566_c2', 'ENZRXN3EM__DASH__701_c2', 'PNTK_c1', 'POR4i_c1', 'rxn02897_c2', 'MTRXN__DASH__60_c2', 'POX_c1', 'PPCDC_c1', 'rxn02155_c2', 'PYDAMK_c1', '12ETHDt_c1', '2FUCLAC__DASH__FUCASEe_c1', '23PDE7_c1', '2MBCOATA_c1', 'rxn02276_c2', '23PDE2_c1', 'rxn08703_c2', '23PDE9_c1', 'ENZRXN3EM__DASH__868_c2', 'ENZRXN3EM__DASH__901_c2', '23PDE4_c1', 'rxn01084_c2', 'ENZRXN3EM__DASH__369_c2', 'rxn05336_c2', 'ENZRXN3EM__DASH__833_c2', 'ENZRXN3EM__DASH__903_c2', '2AMEPHPAT_c1', 'MVRXN__DASH__217_c2', 'ENZRXN3EM__DASH__902_c2', '2MMALD_c1', '12PPDt_c1', 'rxn01989_c2', 'rxn00189_c2', 'rxn02286_c2', 'ENZRXN3EM__DASH__990_c2', '26DAPLLATi_c1', 'rxn03173_c2', 'rxn28087_c2', 'rxn00209_c2', 'rxn02160_c2', 'rxn01300_c2', 'ENZRXN3EM__DASH__1296_c2', 'rxn07989_c2', 'rxn00297_c2', 'ENZRXN3EM__DASH__1066__DASH__ENZRXN3EM__DASH__759_c2', '2MMALD2_c1', 'rxn05006_c2', '12PPDRt_c1', 'CS4TASE2_c1', '3OAS121_c1', 'MTRXN__DASH__34_c2', '3HAD141_c1', '3OAR100_c1', 'ENZRXN3EM__DASH__1232_c2', '3OAR12M14_c1', 'rxn20795_c2', '3OAR5M6_c1', '3HAD14M15_c1', 'ENZRXN3EM__DASH__357_c2', '3OAR10M11_c1', '3OAR141_c1', '3HAD5M6_c1', '3HAD180_c1', '3OAR8M9_c1', '3OAR11M12_c1', '3HAD181_c1', '3HAD140_c1', '3OAR4M5_c1', '3OAR60_c1', '3HAD4M5_c1', 'rxn01299_c2', 'rxn23739_c2', '3OAS160_c1', '3OAS181_c1', 'CS6TASE_c1', 'ENZRXN3EM__DASH__0_c2', '3HAD4M6_c1', '3OAR10M12_c1', '3OAR9M10_c1', '3HAD6M8_c1', '3OAACPR2_c1', 'rxn02720_c2', 'MTRXN__DASH__35_c2', 'ENZRXN3EM__DASH__448_c2', '3HAD40_c1', '3OAS180_c1', 'MVRXN__DASH__143_c2', 'rxn02366_c2', '3OAR181_c1', 'ENZRXN3EM__DASH__1325__DASH__ENZRXN3EM__DASH__1430_c2', '3OAS11M12_c1', 'rxn12206_c2', '3OAS10M12_c1', '3OAR6M8_c1', 'rxn00946_c2', '3HAD14M16_c1', '3HAD7M8_c1', 'rxn33849_c2', '3OAR13M14_c1', '3OAR6M7_c1', '3OAS140_c1', '3HAD6M7_c1', 'rxn00139_c2', '3HAD161_c1', 'ENZRXN3EM__DASH__754_c2', '3OAR140_c1', 'rxn05326_c2', '3OAS100_c1', '3OAS12M13_c1', '3OAS13M14_c1', '3OAR40_c1', '3OAR12M13_c1', '3OAS10M11_c1', 'ENZRXN3EM__DASH__1664__DASH__MTRXN__DASH__39_c2', '3OAS120_c1', 'rxn00364_c2', '3HAD160_c1', '3OAS141_c1', '3OAS161_c1', 'MTRXN__DASH__49_c2', 'rxn02159_c2', '3HAD15M16_c1', '3OAS12M14_c1', '3HAD60_c1', '3OAR4M6_c1', 'rxn00588_c2', '5DOAN_c1', 'PDX5POi_c1', 'rxn02429_c2', 'rxn03958_c2', '3OAS6M7_c1', 'ACOAAGPATI15_c1', '3OAS60_c1', 'PDX5PS_c1', 'ACGAM2E_c1', 'PECTICGALASEe_c1', '3OAS80_c1', 'ACGALK3_c1', '4HBZF_c1', '7AHSDH_c1', 'ACOAAGPATAI15_c1', 'rxn08306_c2', 'A5PISO_c1', 'rxn08310_c2', 'ACOTA_c1', 'ACOAAGPAT180_c1', 'ACGALr_c1', 'PBUTT_c1', '4HPHACt_c1', 'MTRXN__DASH__12_c2', 'TDPDRR_c1', 'ENZRXN3EM__DASH__914_c2', '7OCHOLATEt2_c1', 'ACTNDH_c1', 'PPCKr_c1', 'TDPGDH_c1', 'ACOAAGPATAI17_c1', 'THMt3_c1', 'ENZRXN3EM__DASH__1417__DASH__ENZRXN3EM__DASH__264__DASH__ENZRXN3EM__DASH__683__DASH__ENZRXN3EM__DASH__684_c2', 'THIORDXi_c1', 'PPDK_c1', 'ENZRXN3EM__DASH__327__DASH__ENZRXN3EM__DASH__613__DASH__ENZRXN3EM__DASH__1104_c2', 'ACCOAC_c1', 'rxn00452_c2', 'PFK__DASH__3_c1', 'rxn08546_c2', '3POPDC_c1', 'ACS_c1', 'PPGPPDP_c1', 'MVRXN__DASH__109__DASH__MVRXN__DASH__120_c2', 'rxn00299_c2', 'ACETOLt_c1', 'PPNCL3_c1', 'TGBPA_c1', 'rxn02866_c2', 'THRD_c1', 'rxn08312_c2', 'ACPS1_c1', 'PPK2_c1', 'PPNCL2_c1', 'PPTGS_c1', 'MVRXN__DASH__113__DASH__MVRXN__DASH__124_c2', 'rxn02532_c2', '3OAS7M8_c1', 'PPNDH_c1', 'TDSK__DASH__BT_c1', '3OAS6M8_c1', 'THRAr_c1', 'rxn08232_c2', 'rxn01834_c2', '3OAS9M10_c1', '4HBZt_c1', 'THMDP_c1', '3OAS8M10_c1', 'PPND_c1', 'ACS2_c1', 'rxn28352_c2', 'ENZRXN3EM__DASH__97_c2', 'rxn08231_c2', 'PPND2_c1', 'THMDt2_c1', 'rxn00225_c2', 'ENZRXN3EM__DASH__6__DASH__ENZRXN3EM__DASH__4724__DASH__MTRXN__DASH__64_c2', '3OAS8M9_c1', 'rxn08309_c2', '4HTHRS_c1', 'ACOAAGPATI14_c1', 'AGPAT181_c1', 'GLUDC_c1', 'AGMHE_c1', 'AGDC_c1', 'AGDC2_c1', 'AHEXASE2e_c1', 'GLUPRT_c1', 'rxn01171_c2', 'rxn09200_c2', 'rxn09111_c2', 'MTRXN__DASH__28_c2', 'AHEXASE3e_c1', 'AHC_c1', 'GLUABUTt7_c1', 'rxn03533_c2', 'AHEXASEe_c1', 'MVRXN__DASH__213_c2', 'rxn09101_c2', 'GLU5K_c1', 'ENZRXN3EM__DASH__232_c2', 'AGMD_c1', 'rxn30407_c2', 'rxn09197_c2', 'rxn10092_c2', 'rxn09114_c2', 'GLUDxi_c1', 'GLUFORT_c1', 'rxn01484_c2', 'rxn09113_c2', 'rxn01226_c2', 'AGPAT180_c1', 'rxn05332_c2', 'ENZRXN3EM__DASH__1058_c2', 'rxn03397_c2', 'ENZRXN3EM__DASH__1503_c2', 'GLUDy_c1', 'rxn00474_c2', 'ENZRXN3EM__DASH__459__DASH__ENZRXN3EM__DASH__4595_c2', 'rxn09188_c2', 'AHCYSNS__DASH__r_c1', 'ENZRXN3EM__DASH__1231_c2', 'MVRXN__DASH__112__DASH__MVRXN__DASH__123_c2', 'ENZRXN3EM__DASH__294__DASH__ENZRXN3EM__DASH__404_c2', 'ADSS_c1', 'AGPAT140_c1', 'ENZRXN3EM__DASH__471_c2', 'rxn01297_c2', 'ENZRXN3EM__DASH__1454__DASH__ENZRXN3EM__DASH__324_c2', 'AGPAT160_c1', 'ADSL1r_c1', 'ENZRXN3EM__DASH__3926__DASH__ENZRXN3EM__DASH__3928_c2', 'AGPR_c1', 'MTRXN__DASH__25_c2', 'ENZRXN3EM__DASH__1341_c2', 'rxn02497_c2', 'PPAKr_c1', 'rxn00162_c2', 'ADSL2r_c1', 'GLUN_c1', 'rxn28356_c2', 'AGPAT120_c1', 'rxn00076_c2', 'rxn00438_c2', 'ALAHIS1c_c1', 'ARABINOGALASEe_c1', 'ALAGLN1c_c1', 'AMALT4_c1', 'AMPN_c1', 'ATPM_c1', 'ENZRXN3EM__DASH__1020_c2', 'AMAOTr_c1', 'AMPTASEPGe_c1', 'BGLA_c1', 'CAT_c1', 'GLYASN1c_c1', 'CCP_c1', 'PGSA160_c1', 'AMMQLT10_c1', 'ATPS4_c1', 'AIRC3_c1', 'ASPt2r_c1', 'BTNt2_c1', 'GLUSy_c1', 'ALAGLUt_c1', 'AMALT3_c1', 'ATPPRT_c1', 'ALAt4r_c1', 'AMYe_c1', 'rxn00412_c2', 'ALAD__DASH__R_c1', 'ALAASP1c_c1', 'ALCD2x_c1', 'ALATHRt_c1', 'AMY1e_c1', 'PGPPI15_c1', 'ALCD19_c1', 'CBL1abc_c1', 'rxn03395_c2', 'ALAGLNt_c1', 'AMMQLT7_c1', 'ARGARGt_c1', 'rxn15972_c2', 'ALAGLY1c_c1', 'PGPPI16_c1', 'rxn01265_c2', 'ARGDC_c1', 'ENZRXN3EM__DASH__137__DASH__ENZRXN3EM__DASH__1538__DASH__ENZRXN3EM__DASH__168_c2', 'ENZRXN3EM__DASH__661_c2', 'ALAGLU1c_c1', 'MTRXN__DASH__40_c2', 'BACCL_c1', 'PGPPI17_c1', 'ALAALADe_c1', 'AMALT2_c1', 'ENZRXN3EM__DASH__840_c2', 'ENZRXN3EM__DASH__1516_c2', 'rxn03250_c2', 'ALAGLYt_c1', 'AMMQLT8_c1', 'AMPTASECG_c1', 'AIRCr_c1', 'ARGabc_c1', 'PGSA180_c1', 'ENZRXN3EM__DASH__836_c2', 'PGSA120_c1', 'A__DASH__MANASEe_c1', 'rxn05330_c2', 'AMALT1_c1', 'PGSA140_c1', 'AMMQLT11_c1', 'rxn03249_c2', 'AKP1_c1', 'GLUR_c1', 'ARGN_c1', 'AMMQT8__DASH__2_c1', 'CBPS_c1', 'PGSAAI17_c1', 'CBLAT_c1', 'ENZRXN3EM__DASH__105__DASH__ENZRXN3EM__DASH__1641_c2', 'AMANNANASEe_c1', 'MVRXN__DASH__236_c2', 'CAt7r_c1', 'PGSA181_c1', 'rxn19277_c2', 'ANS_c1', 'BTS4_c1', 'AMMQLT9_c1', 'ANS2_c1', 'rxn00503_c2', 'rxn00229_c2', 'ARGSL_c1', 'MTRXN__DASH__52__DASH__MTRXN__DASH__53_c2', 'ENZRXN3EM__DASH__945_c2', 'AMPTASEPG_c1', 'rxn01545_c2', 'ANPRT_c1', 'rxn27940_c2', 'MTRXN__DASH__41_c2', 'AOXSr_c1', 'ARGSSr_c1', 'rxn05225_c2', 'AOBUTDs_c1', 'MTRXN__DASH__47__DASH__MTRXN__DASH__55_c2', 'BTNPL_c1', 'AMYLe_c1', 'rxn10560_c2', 'PGSAAI15_c1', 'ALAALA_c1', 'BPNT_c1', 'rxn02775_c2', 'CHLPCTD_c1', 'CHORS_c1', 'CYSt2r_c1', 'CYSTL_c1', 'ENZRXN3EM__DASH__142__DASH__ENZRXN3EM__DASH__27_c2', 'CHOLSH_c1', 'CPS__DASH__BT__DASH__ABC_c1', 'ENZRXN3EM__DASH__5336_c2', 'CLPNS160_c1', 'CHOLK_c1', 'ENZRXN3EM__DASH__1386__DASH__ENZRXN3EM__DASH__92__DASH__ENZRXN3EM__DASH__765_c2', 'CLPNS140_c1', 'rxn01019_c2', 'rxn00208_c2', 'MVRXN__DASH__172__DASH__MVRXN__DASH__178_c2', 'CLPNSI14_c1', 'CHORM_c1', 'ENZRXN3EM__DASH__284_c2', 'CYTBD_c1', 'ENZRXN3EM__DASH__282_c2', 'ENZRXN3EM__DASH__1482_c2', 'UDPGDr_c1', 'UAGDP2_c1', 'ENZRXN3EM__DASH__487_c2', 'UAGCVT__DASH__r_c1', 'rxn01603_c2', 'UAGDP_c1', 'CTBTabc_c1', 'ENZRXN3EM__DASH__655_c2', 'UAGAAT__DASH__HP_c1', 'CLPNSI15_c1', 'ENZRXN3EM__DASH__113__DASH__ENZRXN3EM__DASH__1230__DASH__ENZRXN3EM__DASH__1455__DASH__ENZRXN3EM__DASH__504_c2', 'UAGPT2_c1', 'rxn00101_c2', 'ENZRXN3EM__DASH__492_c2', 'CKDNS_c1', 'CLPNSAI17_c1', 'CLPNSI16_c1', 'rxn32380_c2', 'CLPNSI17_c1', 'ENZRXN3EM__DASH__184_c2', 'rxn00615_c2', 'UAPGR_c1', 'CLPNS180_c1', 'UGMDDS_c1', 'rxn01626_c2', 'UPPRT_c1', 'ENZRXN3EM__DASH__1299__DASH__ENZRXN3EM__DASH__25__DASH__ENZRXN3EM__DASH__571_c2', 'rxn08975_c2', 'rxn00429_c2', 'rxn00756_c2', 'URCN_c1', 'rxn00100_c2', 'ENZRXN3EM__DASH__203_c2', 'ENZRXN3EM__DASH__281_c2', 'CSPMDDC_c1', 'UDPGLCURE_c1', 'CSPMDDH_c1', 'rxn00083_c2', 'CYTD_c1', 'UDPG4E_c1', 'UDPGLDC_c1', 'rxn03242_c2', 'UDCPDPS_c1', 'UGLT_c1', 'UAGPT3_c1', 'CYTBD2_c1', 'UDCPDP_c1', 'URAt2r_c1', 'rxn20162_c2', 'CITRAMALS_c1', 'UAMAGS_c1', 'rxn03041_c2', 'ENZRXN3EM__DASH__267_c2', 'ENZRXN3EM__DASH__1173_c2', 'CLPNSAI15_c1', 'UHGADA__DASH__HP_c1', 'UAMAS_c1', 'rxn01477_c2', 'rxn02911_c2', 'EAR4M6x_c1', 'DCMPDA_c1', 'ENZRXN3EM__DASH__1626__DASH__ENZRXN3EM__DASH__551_c2', 'rxn01512_c2', 'IVCOATA_c1', 'MVRXN__DASH__17__DASH__MVRXN__DASH__177_c2', 'DURIt2_c1', 'DHORDfum_c1', 'PGSAI15_c1', 'rxn09112_c2', 'DASYNAI15_c1', 'DINSt2_c1', 'DHAD2_c1', 'EAR4M5x_c1', 'EAR9M10x_c1', 'PGSAI14_c1', 'EDA__DASH__R_c1', 'ISOVALt2r_c1', 'DHFS_c1', 'DMATT_c1', 'DURIPP_c1', 'EAR181x_c1', 'KARA2_c1', 'DHAD1_c1', 'DHORDi_c1', 'rxn01840_c2', 'DHNAOT4_c1', 'EAR5M6x_c1', 'EAR40x_c1', 'DHDPRy_c1', 'IZPN_c1', 'EAR161x_c1', 'PGSAI17_c1', 'PGSAI16_c1', 'KARA1_c1', 'ENZRXN3EM__DASH__4728_c2', 'DXPS_c1', 'ENO_c1', 'rxn00175_c2', 'DMPPS2_c1', 'DUTPDP_c1', 'DDPA_c1', 'rxn03532_c2', 'rxn01644_c2', 'DDPGA_c1', 'DHNAOT7_c1', 'DMPPS_c1', 'ETOHt_c1', 'ITDCOATA_c1', 'DM__DASH__4HBA_c1', 'EHGLAT_c1', 'ISOCAPRt2r_c1', 'EAR180x_c1', 'ISOBUTt2r_c1', 'MVRXN__DASH__265__DASH__MVRXN__DASH__266_c2', 'DHNAOT10_c1', 'DHNAOT9_c1', 'PHCHGS_c1', 'ENZRXN3EM__DASH__148__DASH__ENZRXN3EM__DASH__173_c2', 'DCYTD_c1', 'PHEARGt_c1', 'DHFR_c1', 'PHEARG1c_c1', 'rxn01678_c2', 'DHNPA_c1', 'rxn00138_c2', 'DASYN181_c1', 'DDGLKr_c1', 'DHNAOT11_c1', 'DHDPS_c1', 'DMQMT_c1', 'rxn00237_c2', 'rxn01790_c2', 'DCYTt2r_c1', 'DM__DASH__5DRIB_c1', 'DASYN180_c1', 'EDTXS1__DASH__BT_c1', 'rxn08083_c2', 'DXPRIi_c1', 'rxn02823_c2', 'FRD2_c1', 'rxn00686_c2', 'FUMt2r_c1', 'G1PACT_c1', 'FUM_c1', 'ENZRXN3EM__DASH__283_c2', 'FE2abc_c1', 'MTRXN__DASH__58_c2', 'MVRXN__DASH__253_c2', 'FUCt_c1', 'FUCASEe_c1', 'rxn03907_c2', 'ENZRXN3EM__DASH__1170_c2', 'MVRXN__DASH__227_c2', 'ENZRXN3EM__DASH__234_c2', 'MIRXN__DASH__94_c2', 'FUCNEULACNHX__DASH__DEGe_c1', 'MVRXN__DASH__27__DASH__MVRXN__DASH__272_c2', 'rxn00836_c2', 'ENZRXN3EM__DASH__826_c2', 'rxn00002_c2', 'MVRXN__DASH__114__DASH__MVRXN__DASH__125_c2', 'FCLK_c1', 'rxn00612_c2', 'MTRXN__DASH__78__DASH__MTRXN__DASH__79_c2', 'rxn00336_c2', 'ENZRXN3EM__DASH__3415_c2', 'FCI_c1', 'rxn01485_c2', 'FACOAL180_c1', 'ENZRXN3EM__DASH__1554_c2', 'XANt2r_c1', 'rxn10770_c2', 'rxn03437_c2', 'FBA_c1', 'rxn01352_c2', 'rxn01365_c2', 'VALt2r_c1', 'rxn00912_c2', 'ENZRXN3EM__DASH__337_c2', 'FACOALAI15_c1', 'XYLI1_c1', 'rxn04070_c2', 'ENZRXN3EM__DASH__459_c2', 'rxn19478_c2', 'rxn01362_c2', 'FRD8_c1', 'G3PATAI17_c1', 'FRTT_c1', 'G3PATI15_c1', 'rxn02483_c2', 'G3PATAI15_c1', 'ENZRXN3EM__DASH__1586_c2', 'MTRXN__DASH__59_c2', 'XPPT_c1', 'rxn27497_c2', 'rxn02201_c2', 'XTSNH_c1', 'rxn03511_c2', 'rxn01867_c2', 'rxn03393_c2', 'rxn00867_c2', 'FOLR_c1', 'rxn20661_c2', 'FACOAL181_c1', 'FBA2_c1', 'FMNAT_c1', 'ENZRXN3EM__DASH__1572_c2', 'rxn03062_c2', 'rxn00656_c2', 'FRD3_c1', 'ENZRXN3EM__DASH__761_c2', 'rxn12510_c2', 'rxn02028_c2', 'ENZRXN3EM__DASH__1674_c2', 'ENZRXN3EM__DASH__1581_c2', 'ENZRXN3EM__DASH__472_c2', 'G1PCT_c1', 'YUMPS_c1', 'ENZRXN3EM__DASH__59__DASH__MTRXN__DASH__1_c2', 'FOLD3_c1', 'G3PAT180_c1', 'rxn02475_c2', 'FCLPA_c1', 'G3PATI14_c1', 'rxn00641_c2', 'ENZRXN3EM__DASH__1585_c2', 'rxn02406_c2', 'rxn00642_c2', 'FRD9_c1', 'rxn02144_c2', 'rxn00371_c2', 'ENZRXN3EM__DASH__574_c2', 'rxn00161_c2', 'rxn12739_c2', 'rxn28150_c2', 'ENZRXN3EM__DASH__1580_c2', 'XYLI2_c1', 'rxn30760_c2', 'FBP_c1', 'ENZRXN3EM__DASH__828_c2', 'rxn33503_c2', 'rxn06729_c2', 'ENZRXN3EM__DASH__1571_c2', 'MTRXN__DASH__74_c2', 'FBA3_c1', 'ENZRXN3EM__DASH__1522_c2', 'rxn12225_c2', 'G3PAT181_c1', 'ENZRXN3EM__DASH__1852_c2', 'rxn00239_c2', 'XYLKr_c1', 'rxn15494_c2', 'rxn05325_c2', 'rxn00899_c2', 'ENZRXN3EM__DASH__1529_c2', 'rxn15334_c2', 'FDNADOX_c1', 'XYLt2_c1', 'rxn03542_c2', 'rxn01513_c2', 'rxn03052_c2', 'PIabc_c1', 'GALASE__DASH__OGLYCAN1e_c1', 'GALOX_c1', 'GAMt2r_c1', 'PHEt2r_c1', 'GAPD_c1', 'MVRXN__DASH__130_c2', 'GALAMt2r_c1', 'SPMDtex2_c1', 'GCCc_c1', 'ALAASPt_c1', 'GLCAASEe_c1', 'rxn01858_c2', 'GALAM6PDA_c1', 'MVRXN__DASH__142_c2', 'rxn08396_c2', 'ENZRXN3EM__DASH__1478_c2', 'GFUCS_c1', 'SIAASEe_c1', 'GALNACASE__DASH__OGLYCAN3e_c1', 'rxn08394_c2', 'SO4t2_c1', 'PHPPAt_c1', 'rxn08392_c2', 'rxn00154_c2', 'GALASE__DASH__HSe_c1', 'rxn00348_c2', 'PHETA1_c1', 'PHPYRt_c1', 'GALASE1e_c1', 'GALNACASE__DASH__OGLYCAN1e_c1', 'GF6PTAr_c1', 'RNTR4_c1', 'RPE_c1', 'SKATOLEt_c1', 'PLACt_c1', 'ENZRXN3EM__DASH__5__DASH__ENZRXN3EM__DASH__856_c2', 'ENZRXN3EM__DASH__218_c2', 'ENZRXN3EM__DASH__298_c2', 'GGTT_c1', 'GLCNACASE__DASH__HS3_c1', 'PHPPAF_c1', 'rxn00342_c2', 'RPI_c1', 'RHAMNOGALURASEe__DASH__II_c1', 'SKATOLEF_c1', 'GALNACASE__DASH__OGLYCAN2e_c1', 'ENZRXN3EM__DASH__1049__DASH__ENZRXN3EM__DASH__1630_c2', 'GAM2STASE__DASH__HS3_c1', 'GAM2STASE__DASH__HS1_c1', 'rxn00711_c2', 'GLCNACASE__DASH__OGLYCAN4e_c1', 'ENZRXN3EM__DASH__102_c2', 'GLCNACASE__DASH__HS2_c1', 'GAM2STASE__DASH__HS2_c1', 'PIt8i_c1', 'rxn03136_c2', 'GCHOLAt2_c1', 'rxn00187_c2', 'SPHMYLN__DASH__BTt_c1', 'GALASE__DASH__OGLYCAN2e_c1', 'MVRXN__DASH__108__DASH__MVRXN__DASH__119_c2', 'PLPS_c1', 'rxn24123_c2', 'SPMDabc_c1', 'SPMDAT1_c1', 'PLACOR_c1', 'SPMDAT2_c1', 'rxn02404_c2', 'ENZRXN3EM__DASH__807_c2', 'ENZRXN3EM__DASH__785_c2', 'PIt6_c1', 'GCHOLAH_c1', 'GLCNACASE__DASH__HS1_c1', 'PMACPME_c1', 'GLYPROt_c1', 'HEX10_c1', 'GLYt2r_c1', 'HEX4_c1', 'GLYBabc_c1', 'GLYAT_c1', 'MVRXN__DASH__116__DASH__MVRXN__DASH__127_c2', 'GLYASPt_c1', 'GLYLEUHYDROc_c1', 'GPDDA4_c1', 'HETT_c1', 'TYRTA_c1', 'GLYCK_c1', 'ENZRXN3EM__DASH__1022__DASH__ENZRXN3EM__DASH__1369_c2', 'GLYPROPRO1c_c1', 'TRDRr_c1', 'rxn00789_c2', 'GLYTYRt_c1', 'TPI_c1', 'rxn04783_c2', 'rxn00433_c2', 'ENZRXN3EM__DASH__473__DASH__ENZRXN3EM__DASH__714_c2', 'GLYLEUHYDROe_c1', 'rxn00347_c2', 'GLYGLN1c_c1', 'GLYGLNt_c1', 'TRPAS2_c1', 'GLYCOe_c1', 'GLYTYR1c_c1', 'rxn24244_c2', 'GMAND_c1', 'ENZRXN3EM__DASH__886_c2', 'rxn00247_c2', 'rxn01997_c2', 'HEPARL1__DASH__e_c1', 'rxn09202_c2', 'GLYLEUPEPT1t_c1', 'HEX11_c1', 'TREHe_c1', 'rxn35242_c2', 'GPDDA2_c1', 'HEX1_c1', 'GLYGLU1c_c1', 'GLYPROPRO1e_c1', 'TRPS1_c1', 'GLYGLYt_c1', 'GLYKr_c1', 'TRPS2_c1', 'GLYPHEt_c1', 'GLYCTO3_c1', 'GLYCTO2_c1', 'ENZRXN3EM__DASH__3421_c2', 'GLYD_c1', 'GLYASP1c_c1', 'rxn00461_c2', 'GLYASNt_c1', 'TRPt2r_c1', 'GLYCTO4_c1', 'TRPTA_c1', 'TRPS3r_c1', 'ENZRXN3EM__DASH__1069_c2', 'ICDHyr_c1', 'LDH__DASH__D_c1', 'ENZRXN3EM__DASH__700__DASH__ENZRXN3EM__DASH__752__DASH__ENZRXN3EM__DASH__753_c2', 'PRAI_c1', 'L2A6OD2s_c1', 'rxn33210_c2', 'INSH_c1', 'ENZRXN3EM__DASH__1715_c2', 'PRAGS_c1', 'ENZRXN3EM__DASH__464__DASH__ENZRXN3EM__DASH__500__DASH__ENZRXN3EM__DASH__608__DASH__ENZRXN3EM__DASH__1156__DASH__ENZRXN3EM__DASH__1376_c2', 'rxn00962_c2', 'IDOURASE__DASH__HS2_c1', 'ENZRXN3EM__DASH__345_c2', 'IBCOATA_c1', 'PRO1x_c1', 'LCARS_c1', 'IPMDr_c1', 'HYD1_c1', 'ILETA_c1', 'rxn00114_c2', 'INDLACt_c1', 'MTRXN__DASH__70_c2', 'IDOURASE__DASH__HS1_c1', 'LCAR2_c1', 'IHPDCOATA_c1', 'IPDCOATA_c1', 'KAS1_c1', 'LEVANASE__DASH__2e_c1', 'HYPSUCORNS_c1', 'ILEt2r_c1', 'IDOURASE__DASH__HS3_c1', 'LDH__DASH__L_c1', 'IPDDI_c1', 'INSt2_c1', 'LACNFUCPT__DASH__FUCASEe_c1', 'PRATPP_c1', 'MVRXN__DASH__293_c2', 'LACDFUCTTR__DASH__FUCASEe_c1', 'LEVANB__DASH__ABC_c1', 'ICHORS_c1', 'HXPRT_c1', 'INULINASEe_c1', 'IMPC_c1', 'KDUI_c1', 'PPTT_c1', 'rxn00213_c2', 'IDOURASE_c1', 'IOR_c1', 'LGTHL_c1', 'IMPD_c1', 'KAS12_c1', 'ENZRXN3EM__DASH__961_c2', 'ILDH_c1', 'LACNDFUCHX__DASH__FUCASEe_c1', 'PRMICI_c1', 'rxn26003_c2', 'IPDPS_c1', 'IND3ACt_c1', 'IOR3_c1', 'LACZe_c1', 'ENZRXN3EM__DASH__1713_c2', 'MVRXN__DASH__107__DASH__MVRXN__DASH__118_c2', 'KAS13_c1', 'PRFGS_c1', 'rxn01102_c2', 'PRAIS_c1', 'ENZRXN3EM__DASH__1246__DASH__ENZRXN3EM__DASH__727__DASH__ENZRXN3EM__DASH__953__DASH__ENZRXN3EM__DASH__1115_c2', 'HYD4_c1', 'IGPS_c1', 'rxn00328_c2', 'rxn00979_c2', 'IG3PS_c1', 'KESTOASEe_c1', 'IHDCOATA_c1', 'LARGNAT_c1', 'PRAMPC_c1', 'LMN2e_c1', 'rxn01739_c2', 'IPMD2_c1', 'rxn00395_c2', 'ENZRXN3EM__DASH__152__DASH__ENZRXN3EM__DASH__541_c2', 'IGPDH_c1', 'IOR2_c1', 'LEVANASE__DASH__3e_c1', 'MVRXN__DASH__274_c2', 'rxn00333_c2', 'LEVANASE__DASH__4e_c1', 'rxn03060_c2', 'IPDPS2_c1', 'KAS11_c1', 'PRASCSi_c1', 'KDOPS_c1', 'rxn03031_c2', 'rxn33164_c2', 'MI1PS_c1', 'NP1__DASH__r_c1', 'MDH_c1', 'SUCORNTC_c1', 'NTD4_c1', 'MMM2r_c1', 'NTD6_c1', 'MEOHt2_c1', 'MME_c1', 'NADH10_c1', 'MLTG5e_c1', 'NT5C_c1', 'NACt_c1', 'MK7t_c1', 'rxn05003_c2', 'NDPK2_c1', 'ENZRXN3EM__DASH__367_c2', 'SUCR_c1', 'MVRXN__DASH__134_c2', 'METALAt_c1', 'MNt2_c1', 'PACCOAL3r_c1', 'ME2_c1', 'ENZRXN3EM__DASH__1050__DASH__ENZRXN3EM__DASH__1169_c2', 'NCPTRCA_c1', 'MI1PP_c1', 'rxn00265_c2', 'MCOATA_c1', 'MK8t_c1', 'PACCOALr_c1', 'NADDP_c1', 'MLTG2e_c1', 'rxn01069_c2', 'MANabc_c1', 'TAGURr_c1', 'ENZRXN3EM__DASH__1631_c2', 'TCHOLAH_c1', 'MANTRabc_c1', 'MLTG1_c1', 'MLTG4_c1', 'PACCOAL2r_c1', 'T2DECAI_c1', 'rxn00708_c2', 'MLTG1e_c1', 'NADH17_c1', 'ENZRXN3EM__DASH__1080_c2', 'rxn02774_c2', 'MOAT__DASH__BT_c1', 'rxn07977_c2', 'MGSA_c1', 'rxn00126_c2', 'ENZRXN3EM__DASH__586_c2', 'MMCD_c1', 'MVRXN__DASH__284_c2', 'NMNt2r_c1', 'rxn23736_c2', 'MBENZt_c1', 'ENZRXN3EM__DASH__246_c2', 'rxn03245_c2', 'MNNH_c1', 'rxn02186_c2', 'NTD5_c1', 'ENZRXN3EM__DASH__493__DASH__ENZRXN3EM__DASH__795_c2', 'rxn28353_c2', 'MECDPDH2_c1', 'SUCRt2_c1', 'ENZRXN3EM__DASH__1326__DASH__ENZRXN3EM__DASH__1431_c2', 'rxn07991_c2', 'ENZRXN3EM__DASH__80_c2', 'METALA1c_c1', 'MK9t_c1', 'ENZRXN3EM__DASH__247_c2', 'NNATr_c1', 'rxn01219_c2', 'MGt5_c1', 'rxn01218_c2', 'rxn09000_c2', 'TDCOATA_c1', 'rxn11152_c2', 'MEPCT_c1', 'MVRXN__DASH__286_c2', 'rxn00351_c2', 'NAt3__DASH__1_c1', 'rxn01018_c2', 'MI4PP_c1', 'NDPK1_c1', 'ENZRXN3EM__DASH__1132__DASH__ENZRXN3EM__DASH__1286_c2', 'MLTG3_c1', 'rxn08792_c2', 'MK11t_c1', 'NTD5__DASH__a_c1', 'rxn00525_c2', 'MI3PP_c1', 'TALA_c1', 'rxn00165_c2', 'rxn01304_c2', 'MBENZF_c1', 'NARK_c1', 'rxn01802_c2', 'MECDPS_c1', 'TAURtex2_c1', 'MK10t_c1', 'MOHMT_c1', 'ENZRXN3EM__DASH__806_c2', 'MLTG2_c1', 'MLTG5_c1', 'NPHS_c1', 'TDPDRE_c1', 'ENZRXN3EM__DASH__1195_c2', 'MELIBabc_c1', 'MLTG3e_c1', 'MLTG4e_c1', 'NNDPR_c1', 'TCHOLAt2_c1', 'rxn01672_c2', 'rxn19986_c2', 'PABB_c1', 'ENZRXN3EM__DASH__1547_c2']\n"
     ]
    }
   ],
   "source": [
    "print([rxn.id for rxn in ah991.reactions if re.search(r\"_c\\d\", rxn.id)]) # \"compartment\" in dir(rxn) and \"c\" in rxn.compartment])\n",
    "print(\"\\n\\n\")\n",
    "print([rxn.id for rxn in comm_model.reactions if re.search(r\"_c\\d\", rxn.id)]) # \"compartment\" in dir(rxn) and \"c\" in comm_model.reactions])"
   ]
  },
  {
   "cell_type": "markdown",
   "metadata": {},
   "source": [
    "# Exchanges equality"
   ]
  },
  {
   "cell_type": "code",
   "execution_count": 14,
   "metadata": {},
   "outputs": [
    {
     "name": "stdout",
     "output_type": "stream",
     "text": [
      "\n",
      "\n",
      "\n",
      "[]\n"
     ]
    }
   ],
   "source": [
    "total_exchanges = set([rxn.id for rxn in ah991.reactions if re.search(r\"_e\\d\", rxn.id)]+[rxn.id for rxn in pf.reactions if re.search(r\"_e\\d\", rxn.id)])\n",
    "print(\"\\n\\n\")\n",
    "print([rxn.id for rxn in comm_model.reactions if re.search(r\"_e\\d\", rxn.id) and rxn.id not in total_exchanges]) # \"compartment\" in dir(rxn) and \"c\" in comm_model.reactions])"
   ]
  },
  {
   "cell_type": "code",
   "execution_count": 16,
   "metadata": {},
   "outputs": [
    {
     "name": "stdout",
     "output_type": "stream",
     "text": [
      "429\n",
      "429\n"
     ]
    }
   ],
   "source": [
    "print(len(total_exchanges))\n",
    "print(len([rxn.id for rxn in comm_model.reactions if re.search(r\"_e\\d\", rxn.id)]))"
   ]
  },
  {
   "cell_type": "code",
   "execution_count": 37,
   "metadata": {},
   "outputs": [
    {
     "name": "stdout",
     "output_type": "stream",
     "text": [
      "\n",
      "\n",
      "\n",
      "[]\n",
      "\n",
      "\n",
      "\n",
      "[]\n",
      "\n",
      "\n",
      "\n",
      "[]\n",
      "\n",
      "\n",
      "\n",
      "1804 1805\n",
      "True\n"
     ]
    }
   ],
   "source": [
    "ah991_mets = [met.id[:-1] for met in ah991.metabolites if re.search(r\"_c\\d\", met.id)]\n",
    "pf_mets = [met.id[:-1] for met in pf.metabolites if re.search(r\"_c\\d\", met.id)]\n",
    "comm_mets = [met.id[:-1] for met in comm_model.metabolites if re.search(r\"_c\\d\", met.id)]\n",
    "\n",
    "print(\"\\n\\n\")\n",
    "excess_ah991 = [metID for metID in ah991_mets if metID not in comm_mets]\n",
    "print(excess_ah991)\n",
    "print(\"\\n\\n\")\n",
    "excess_pf = [metID for metID in pf_mets if metID not in comm_mets]\n",
    "print(excess_pf)\n",
    "\n",
    "print(\"\\n\\n\")\n",
    "comm_excess_ah991 = [metID for metID in comm_mets if metID not in ah991_mets]\n",
    "comm_excess_pf = [metID for metID in comm_excess_ah991 if metID not in pf_mets]\n",
    "print(comm_excess_pf)\n",
    "\n",
    "print(\"\\n\\n\")\n",
    "print(len(pf_mets+ah991_mets), len(comm_mets))\n",
    "print(len(set(pf_mets+ah991_mets)) == len(set(comm_mets)))"
   ]
  },
  {
   "cell_type": "code",
   "execution_count": 11,
   "metadata": {},
   "outputs": [
    {
     "name": "stdout",
     "output_type": "stream",
     "text": [
      "0.171 cpd00002_c2 + 0.00215 cpd00003_c2 + cpd00004_c2 + 0.0004 cpd00005_c2 + 0.00013 cpd00006_c2 + cpd00010_c2 + cpd00015_c2 + 0.001 cpd00018_c2 + cpd00022_c2 + 0.25 cpd00023_c2 + 0.003 cpd00026_c2 + 0.582 cpd00033_c2 + 0.488 cpd00035_c2 + 0.203 cpd00038_c2 + 0.326 cpd00039_c2 + 0.229 cpd00041_c2 + 0.281 cpd00051_c2 + 0.126 cpd00052_c2 + 0.25 cpd00053_c2 + 0.18759 cpd00054_c2 + 0.146 cpd00060_c2 + 0.136 cpd00062_c2 + 0.054 cpd00065_c2 + 0.176 cpd00066_c2 + 0.131 cpd00069_c2 + cpd00078_c2 + 0.087 cpd00084_c2 + 0.428 cpd00107_c2 + 0.0247 cpd00115_c2 + 0.032027 cpd00118_c2 + 0.09 cpd00119_c2 + 0.21 cpd00129_c2 + 0.229 cpd00132_c2 + 0.402 cpd00156_c2 + 0.241 cpd00161_c2 + 0.0254 cpd00241_c2 + 0.276 cpd00322_c2 + 0.0254 cpd00356_c2 + 0.0247 cpd00357_c2 + 0.0005 cpd00557_c2 + 0.0005 cpd11313_c2 + 0.0005 cpd15425_c2 + 0.0005 cpd15428_c2 + 0.0005 cpd15429_c2 + 0.0005 cpd15430_c2 + 0.0005 cpd15431_c2 + 0.0005 cpd15433_c2 + 0.0005 cpd15434_c2 + 0.0005 cpd15435_c2 + 0.0005 cpd15436_c2 + 0.0005 cpd15528_c2 + 0.0005 cpd15531_c2 + 0.0005 cpd15532_c2 + 0.0005 cpd15533_c2 + 0.0005 cpd15534_c2 + 0.0005 cpd15535_c2 + 0.0005 cpd15538_c2 + 0.0005 cpd15540_c2 + 0.028 cpd16743_c2 + 0.05 r672_c2 --> 0.7302 cpd00012_c2 + 45.5604 cpd00067_c2 + cpd11416_c2\n",
      "0.010648 clpnai15_c1 + 0.010648 clpnai17_c1 + 0.010648 clpni14_c1 + 0.010648 clpni15_c1 + 0.010648 clpni16_c1 + 0.010648 clpni17_c1 + 34.7965 cpd00001_c1 + 40.1701 cpd00002_c1 + 0.004668 cpd00003_c1 + 0.004668 cpd00006_c1 + 0.004668 cpd00010_c1 + 0.004668 cpd00015_c1 + 0.004668 cpd00016_c1 + 0.004668 cpd00017_c1 + 0.25601 cpd00023_c1 + 0.004668 cpd00028_c1 + 0.004668 cpd00030_c1 + 0.5958 cpd00033_c1 + 0.004668 cpd00034_c1 + 0.50006 cpd00035_c1 + 0.2091 cpd00038_c1 + 0.33355 cpd00039_c1 + 0.23468 cpd00041_c1 + 0.28828 cpd00051_c1 + 0.12988 cpd00052_c1 + 0.25601 cpd00053_c1 + 0.2097 cpd00054_c1 + 0.004668 cpd00056_c1 + 0.14934 cpd00060_c1 + 0.14027 cpd00062_c1 + 0.004668 cpd00063_c1 + 0.055157 cpd00065_c1 + 0.18056 cpd00066_c1 + 0.13425 cpd00069_c1 + 0.08898 cpd00084_c1 + 0.004668 cpd00087_c1 + 0.004668 cpd00104_c1 + 0.43866 cpd00107_c1 + 0.023503 cpd00115_c1 + 0.092623 cpd00119_c1 + 0.21543 cpd00129_c1 + 0.23468 cpd00132_c1 + 0.004668 cpd00149_c1 + 0.4116 cpd00156_c1 + 0.24665 cpd00161_c1 + 0.004668 cpd00166_c1 + 0.004668 cpd00201_c1 + 0.004668 cpd00205_c1 + 0.004668 cpd00220_c1 + 0.023503 cpd00241_c1 + 0.004668 cpd00254_c1 + 0.004668 cpd00264_c1 + 0.28255 cpd00322_c1 + 0.004668 cpd00345_c1 + 0.023503 cpd00356_c1 + 0.023503 cpd00357_c1 + 0.004668 cpd00971_c1 + 0.092476 cpd02229_c1 + 0.004668 cpd10515_c1 + 0.004668 cpd10516_c1 + 0.004668 cpd11451_c1 + 0.004668 cpd11493_c1 + 0.010648 cpd15426_c1 + 0.010648 cpd15428_c1 + 0.010648 cpd15430_c1 + 0.004668 cpd15499_c1 + 0.010648 cpd15528_c1 + 0.010648 cpd15529_c1 + 0.010648 cpd15531_c1 + 0.010648 cpd15533_c1 + 0.010648 cpd15534_c1 + 0.010648 cpd15535_c1 + 0.010648 cpd15536_c1 + 0.010648 cpd15538_c1 + 0.010648 cpd15540_c1 + 0.010648 cpd15541_c1 + 0.092476 cpd15654_c1 + 0.004668 cps_bt_e0 + 0.01945 lps_bt_e0 + 0.004668 mql10_c1 + 0.004668 mql11_c1 + 0.004668 mql9_c1 + 0.004668 pe_cer1_bt_e0 + 0.010648 peai15_c1 + 0.010648 peai17_c1 + 0.010648 pei14_c1 + 0.010648 pei15_c1 + 0.010648 pei16_c1 + 0.010648 pei17_c1 + 0.010648 pgai17_c1 + 0.010648 pgi17_c1 + 0.004668 sphmyln_bt_e0 --> 40 cpd00008_c1 + 39.9953 cpd00009_c1 + 0.60238 cpd00012_c1 + 40 cpd00067_c1 + cpd11416_c1 + 0.004668 cpd12370_c1\n",
      "0.5 cpd11416_c1 + 0.5 cpd11416_c2 --> cpd11416_c0\n"
     ]
    }
   ],
   "source": [
    "for rxn in comm_model.reactions:\n",
    "    if \"bio\" in rxn.id:\n",
    "        print(rxn.reaction)"
   ]
  },
  {
   "cell_type": "markdown",
   "metadata": {
    "tags": []
   },
   "source": [
    "# 2-member Zahmeeth model"
   ]
  },
  {
   "cell_type": "markdown",
   "metadata": {},
   "source": [
    "## Unconstained model"
   ]
  },
  {
   "cell_type": "markdown",
   "metadata": {},
   "source": [
    "### Define and execute the model"
   ]
  },
  {
   "cell_type": "code",
   "execution_count": 2,
   "metadata": {},
   "outputs": [
    {
     "name": "stdout",
     "output_type": "stream",
     "text": [
      "cpd11416_c0\n",
      "bio1: 0.5 cpd11416_c1 + 0.5 cpd11416_c2 --> cpd11416_c0\n",
      "primary biomass defined bio1: 0.5 cpd11416_c1 + 0.5 cpd11416_c2 --> cpd11416_c0\n",
      "SK_cpd11416_c0: cpd11416_c0 --> \n",
      "cpd11416_c1\n",
      "cpd11416_c2\n",
      "cpd11416_c1\n",
      "c1\n",
      "cpd11416_c2\n",
      "c2\n"
     ]
    },
    {
     "data": {
      "image/png": "[encoded data removed]",
      "text/plain": [
       "<Figure size 432x288 with 1 Axes>"
      ]
     },
     "metadata": {},
     "output_type": "display_data"
    },
    {
     "data": {
      "text/html": [
       "<div>\n",
       "<style scoped>\n",
       "    .dataframe tbody tr th:only-of-type {\n",
       "        vertical-align: middle;\n",
       "    }\n",
       "\n",
       "    .dataframe tbody tr th {\n",
       "        vertical-align: top;\n",
       "    }\n",
       "\n",
       "    .dataframe thead th {\n",
       "        text-align: right;\n",
       "    }\n",
       "</style>\n",
       "<table border=\"1\" class=\"dataframe\">\n",
       "  <thead>\n",
       "    <tr style=\"text-align: right;\">\n",
       "      <th></th>\n",
       "      <th>Environment</th>\n",
       "      <th>Species1</th>\n",
       "      <th>Species2</th>\n",
       "    </tr>\n",
       "    <tr>\n",
       "      <th>Metabolite/Donor ID</th>\n",
       "      <th></th>\n",
       "      <th></th>\n",
       "      <th></th>\n",
       "    </tr>\n",
       "  </thead>\n",
       "  <tbody>\n",
       "    <tr>\n",
       "      <th>12ethd_e0</th>\n",
       "      <td>-0.001642</td>\n",
       "      <td>0.000000</td>\n",
       "      <td>0.001642</td>\n",
       "    </tr>\n",
       "    <tr>\n",
       "      <th>cpd00001_e0</th>\n",
       "      <td>-2.799308</td>\n",
       "      <td>-3.746002</td>\n",
       "      <td>6.545311</td>\n",
       "    </tr>\n",
       "    <tr>\n",
       "      <th>cpd00009_e0</th>\n",
       "      <td>0.237455</td>\n",
       "      <td>-0.083800</td>\n",
       "      <td>-0.153655</td>\n",
       "    </tr>\n",
       "    <tr>\n",
       "      <th>cpd00011_e0</th>\n",
       "      <td>-3.820114</td>\n",
       "      <td>6.134485</td>\n",
       "      <td>-2.314372</td>\n",
       "    </tr>\n",
       "    <tr>\n",
       "      <th>cpd00013_e0</th>\n",
       "      <td>1.933339</td>\n",
       "      <td>-0.310906</td>\n",
       "      <td>-1.622432</td>\n",
       "    </tr>\n",
       "    <tr>\n",
       "      <th>...</th>\n",
       "      <td>...</td>\n",
       "      <td>...</td>\n",
       "      <td>...</td>\n",
       "    </tr>\n",
       "    <tr>\n",
       "      <th>pe_cer1_bt_e0</th>\n",
       "      <td>0.000000</td>\n",
       "      <td>0.000000</td>\n",
       "      <td>0.000406</td>\n",
       "    </tr>\n",
       "    <tr>\n",
       "      <th>sphmyln_bt_e0</th>\n",
       "      <td>0.000000</td>\n",
       "      <td>0.000000</td>\n",
       "      <td>0.000406</td>\n",
       "    </tr>\n",
       "    <tr>\n",
       "      <th>zzEnvironment</th>\n",
       "      <td>0.000000</td>\n",
       "      <td>2.044444</td>\n",
       "      <td>5.196018</td>\n",
       "    </tr>\n",
       "    <tr>\n",
       "      <th>zzSpecies1</th>\n",
       "      <td>16.879487</td>\n",
       "      <td>0.000000</td>\n",
       "      <td>9.876096</td>\n",
       "    </tr>\n",
       "    <tr>\n",
       "      <th>zzSpecies2</th>\n",
       "      <td>14.637501</td>\n",
       "      <td>5.605426</td>\n",
       "      <td>0.000000</td>\n",
       "    </tr>\n",
       "  </tbody>\n",
       "</table>\n",
       "<p>62 rows × 3 columns</p>\n",
       "</div>"
      ],
      "text/plain": [
       "                     Environment  Species1  Species2\n",
       "Metabolite/Donor ID                                 \n",
       "12ethd_e0              -0.001642  0.000000  0.001642\n",
       "cpd00001_e0            -2.799308 -3.746002  6.545311\n",
       "cpd00009_e0             0.237455 -0.083800 -0.153655\n",
       "cpd00011_e0            -3.820114  6.134485 -2.314372\n",
       "cpd00013_e0             1.933339 -0.310906 -1.622432\n",
       "...                          ...       ...       ...\n",
       "pe_cer1_bt_e0           0.000000  0.000000  0.000406\n",
       "sphmyln_bt_e0           0.000000  0.000000  0.000406\n",
       "zzEnvironment           0.000000  2.044444  5.196018\n",
       "zzSpecies1             16.879487  0.000000  9.876096\n",
       "zzSpecies2             14.637501  5.605426  0.000000\n",
       "\n",
       "[62 rows x 3 columns]"
      ]
     },
     "metadata": {},
     "output_type": "display_data"
    },
    {
     "data": {
      "text/html": [
       "<div>\n",
       "<style scoped>\n",
       "    .dataframe tbody tr th:only-of-type {\n",
       "        vertical-align: middle;\n",
       "    }\n",
       "\n",
       "    .dataframe tbody tr th {\n",
       "        vertical-align: top;\n",
       "    }\n",
       "\n",
       "    .dataframe thead th {\n",
       "        text-align: right;\n",
       "    }\n",
       "</style>\n",
       "<table border=\"1\" class=\"dataframe\">\n",
       "  <thead>\n",
       "    <tr style=\"text-align: right;\">\n",
       "      <th></th>\n",
       "      <th>Environment</th>\n",
       "      <th>Species1</th>\n",
       "      <th>Species2</th>\n",
       "    </tr>\n",
       "    <tr>\n",
       "      <th>Donor ID</th>\n",
       "      <th></th>\n",
       "      <th></th>\n",
       "      <th></th>\n",
       "    </tr>\n",
       "  </thead>\n",
       "  <tbody>\n",
       "    <tr>\n",
       "      <th>Environment</th>\n",
       "      <td></td>\n",
       "      <td>D-Glucose; NH3</td>\n",
       "      <td>Phosphate; D-Glucose; NH3</td>\n",
       "    </tr>\n",
       "    <tr>\n",
       "      <th>Species1</th>\n",
       "      <td>H2; Acetate; CO2; H+</td>\n",
       "      <td></td>\n",
       "      <td>L-Aspartate; Pyruvate</td>\n",
       "    </tr>\n",
       "    <tr>\n",
       "      <th>Species2</th>\n",
       "      <td>H2; Succinate; H2O; H+</td>\n",
       "      <td>D-Lactate; Acetate</td>\n",
       "      <td></td>\n",
       "    </tr>\n",
       "  </tbody>\n",
       "</table>\n",
       "</div>"
      ],
      "text/plain": [
       "                        Environment            Species1  \\\n",
       "Donor ID                                                  \n",
       "Environment                              D-Glucose; NH3   \n",
       "Species1       H2; Acetate; CO2; H+                       \n",
       "Species2     H2; Succinate; H2O; H+  D-Lactate; Acetate   \n",
       "\n",
       "                              Species2  \n",
       "Donor ID                                \n",
       "Environment  Phosphate; D-Glucose; NH3  \n",
       "Species1         L-Aspartate; Pyruvate  \n",
       "Species2                                "
      ]
     },
     "metadata": {},
     "output_type": "display_data"
    }
   ],
   "source": [
    "# import the model\n",
    "# from modelseedpy.fbapkg import kbasemediapkg\n",
    "\n",
    "modelInfo_2 = [\"CMM_iAH991V2_iML1515.kb\",40576]\n",
    "mediaInfo_2 = [\"Btheta_Ecoli_minimal_media\",40576]\n",
    "\n",
    "model = kbase.get_from_ws(modelInfo_2[0],modelInfo_2[1])\n",
    "media = kbase.get_from_ws(mediaInfo_2[0],mediaInfo_2[1])\n",
    "# kmp = kbasemediapkg.KBaseMediaPkg(self.model)\n",
    "# kmp.build_package(media)\n",
    "\n",
    "# simulate and visualize the model\n",
    "%run ../../modelseedpy/community/mscommunity.py\n",
    "cfba = MSCommunity(model)\n",
    "cfba.gapfill(media)\n",
    "sol = cfba.run(media)\n",
    "cross_feeding, exMets = cfba.steadycom(solution=sol, flux_threshold=.1)\n",
    "display(cross_feeding)\n",
    "display(exMets)"
   ]
  },
  {
   "cell_type": "markdown",
   "metadata": {},
   "source": [
    "## FullThermo-constrained model"
   ]
  },
  {
   "cell_type": "markdown",
   "metadata": {},
   "source": [
    "### Define and execute the model"
   ]
  },
  {
   "cell_type": "code",
   "execution_count": null,
   "metadata": {
    "scrolled": true
   },
   "outputs": [
    {
     "name": "stdout",
     "output_type": "stream",
     "text": [
      "cpd11416_c0\n",
      "bio1: 0.5 cpd11416_c1 + 0.5 cpd11416_c2 --> cpd11416_c0\n",
      "primary biomass defined bio1: 0.5 cpd11416_c1 + 0.5 cpd11416_c2 --> cpd11416_c0\n",
      "SK_cpd11416_c0: cpd11416_c0 --> \n",
      "cpd11416_c1\n",
      "cpd11416_c2\n",
      "cpd11416_c1\n",
      "c1\n",
      "cpd11416_c2\n",
      "c2\n"
     ]
    }
   ],
   "source": [
    "# import the model\n",
    "# from modelseedpy.fbapkg import kbasemediapkg\n",
    "\n",
    "modelInfo_2 = [\"CMM_iAH991V2_iML1515.kb\",40576]\n",
    "mediaInfo_2 = [\"Btheta_Ecoli_minimal_media\",40576]\n",
    "\n",
    "model = kbase.get_from_ws(modelInfo_2[0],modelInfo_2[1])\n",
    "media = kbase.get_from_ws(mediaInfo_2[0],mediaInfo_2[1])\n",
    "# kmp = kbasemediapkg.KBaseMediaPkg(self.model)\n",
    "# kmp.build_package(media)\n",
    "\n",
    "# simulate and visualize the model\n",
    "%run ../../modelseedpy/community/mscommunity.py\n",
    "cfba = MSCommunity(model)\n",
    "cfba.gapfill(media)\n",
    "cfba.constrain(msdb_path = \"../../../ModelSEEDDatabase\")\n",
    "sol = cfba.run(media)\n",
    "cross_feeding, exMets = cfba.steadycom(solution=sol, flux_threshold=.1)\n",
    "display(cross_feeding)\n",
    "display(exMets)"
   ]
  },
  {
   "cell_type": "markdown",
   "metadata": {},
   "source": [
    "# 3-member Electrosynth model"
   ]
  },
  {
   "cell_type": "markdown",
   "metadata": {},
   "source": [
    "## Unconstrained model"
   ]
  },
  {
   "cell_type": "markdown",
   "metadata": {},
   "source": [
    "### Define and execute the model"
   ]
  },
  {
   "cell_type": "code",
   "execution_count": 4,
   "metadata": {},
   "outputs": [
    {
     "name": "stdout",
     "output_type": "stream",
     "text": [
      "Making biomass drain: cpd11416_c1\n",
      "Making biomass drain: cpd11416_c2\n",
      "Making biomass drain: cpd11416_c3\n",
      "species 1 drain-flux objective value: 2.066246891916704\n",
      "species 2 drain-flux objective value: 6.182228448150425\n",
      "species 3 drain-flux objective value: 6.145662130043192\n",
      "\n",
      "Model objective value: 3.766216581357344\n",
      "\n",
      "\n",
      "\n",
      "Production matrix:\n",
      "                1            2            3\n",
      "Donor                                      \n",
      "1        0.000000   526.567332   681.068788\n",
      "2      615.130758     0.000000  2492.677015\n",
      "3      145.763634  2307.900404     0.000000\n",
      "\n",
      "\n",
      "Consumption matrix:\n",
      "                   1            2            3\n",
      "Receiver                                      \n",
      "1           0.000000   615.130758   145.763634\n",
      "2         526.567332     0.000000  2307.900404\n",
      "3         681.068788  2492.677015     0.000000\n",
      "\n",
      "\n"
     ]
    },
    {
     "data": {
      "image/png": "[encoded data removed]",
      "text/plain": [
       "<Figure size 432x288 with 1 Axes>"
      ]
     },
     "metadata": {},
     "output_type": "display_data"
    }
   ],
   "source": [
    "# import the model\n",
    "# from modelseedpy.fbapkg import kbasemediapkg\n",
    "\n",
    "modelInfo_2 = ['electrosynth_comnty.mdl.gf.2021',93204]\n",
    "mediaInfo_2 = [\"CO2_minimal\",93204]\n",
    "\n",
    "model = kbase.get_from_ws(modelInfo_2[0],modelInfo_2[1])\n",
    "media = kbase.get_from_ws(mediaInfo_2[0],mediaInfo_2[1])\n",
    "# kmp = kbasemediapkg.KBaseMediaPkg(self.model)\n",
    "# kmp.build_package(media)\n",
    "\n",
    "# simulate and visualize the model\n",
    "cfba = MSCommunity(model)\n",
    "cfba.drain_fluxes(media)\n",
    "cfba.gapfill(media)\n",
    "cfba.constrain(media)\n",
    "solution = cfba.run()\n",
    "cfba.compute_interactions(solution)\n",
    "cfba.visualize()"
   ]
  },
  {
   "cell_type": "markdown",
   "metadata": {},
   "source": [
    "## FullThermo-constrained model"
   ]
  },
  {
   "cell_type": "markdown",
   "metadata": {},
   "source": [
    "### Define and execute the model"
   ]
  },
  {
   "cell_type": "code",
   "execution_count": 5,
   "metadata": {
    "scrolled": true,
    "tags": []
   },
   "outputs": [
    {
     "name": "stdout",
     "output_type": "stream",
     "text": [
      "Making biomass drain: cpd11416_c1\n",
      "Making biomass drain: cpd11416_c2\n",
      "Making biomass drain: cpd11416_c3\n",
      "species 1 drain-flux objective value: 2.066246891916704\n",
      "species 2 drain-flux objective value: 6.182228448150425\n",
      "species 3 drain-flux objective value: 6.145662130043192\n",
      "\n",
      "Model objective value: 0.0\n",
      "\n",
      "\n",
      "\n",
      "Production matrix:\n",
      "         1    2    3\n",
      "Donor               \n",
      "1      0.0  0.0  0.0\n",
      "2      0.0  0.0  0.0\n",
      "3      0.0  0.0  0.0\n",
      "\n",
      "\n",
      "Consumption matrix:\n",
      "            1    2    3\n",
      "Receiver               \n",
      "1         0.0  0.0  0.0\n",
      "2         0.0  0.0  0.0\n",
      "3         0.0  0.0  0.0\n",
      "\n",
      "\n"
     ]
    },
    {
     "data": {
      "image/png": "[encoded data removed]",
      "text/plain": [
       "<Figure size 432x288 with 1 Axes>"
      ]
     },
     "metadata": {},
     "output_type": "display_data"
    }
   ],
   "source": [
    "# import the model\n",
    "# from modelseedpy.fbapkg import kbasemediapkg\n",
    "\n",
    "modelInfo_2 = ['electrosynth_comnty.mdl.gf.2021',93204]\n",
    "mediaInfo_2 = [\"CO2_minimal\",93204]\n",
    "\n",
    "model = kbase.get_from_ws(modelInfo_2[0],modelInfo_2[1])\n",
    "media = kbase.get_from_ws(mediaInfo_2[0],mediaInfo_2[1])\n",
    "# kmp = kbasemediapkg.KBaseMediaPkg(self.model)\n",
    "# kmp.build_package(media)\n",
    "\n",
    "# simulate and visualize the model\n",
    "cfba = MSCommunity(model)\n",
    "cfba.drain_fluxes(media)\n",
    "cfba.gapfill(media)\n",
    "cfba.constrain(media, msdb_path_for_fullthermo = ftp_path, verbose = False)\n",
    "solution = cfba.run()\n",
    "cfba.compute_interactions(solution)\n",
    "cfba.visualize()"
   ]
  },
  {
   "cell_type": "markdown",
   "metadata": {},
   "source": [
    "# 2-member Aimee model"
   ]
  },
  {
   "cell_type": "markdown",
   "metadata": {},
   "source": [
    "## Unconstrained model"
   ]
  },
  {
   "cell_type": "markdown",
   "metadata": {},
   "source": [
    "### Chitin media"
   ]
  },
  {
   "cell_type": "code",
   "execution_count": 6,
   "metadata": {},
   "outputs": [
    {
     "name": "stdout",
     "output_type": "stream",
     "text": [
      "Making biomass drain: cpd11416_c1\n",
      "Making biomass drain: cpd11416_c2\n",
      "species 1 drain-flux objective value: 0.0\n",
      "species 2 drain-flux objective value: 0.0\n"
     ]
    },
    {
     "name": "stderr",
     "output_type": "stream",
     "text": [
      "/usr/local/lib/python3.8/dist-packages/cobra/util/solver.py:508: UserWarning: Solver status is 'infeasible'.\n",
      "  warn(f\"Solver status is '{status}'.\", UserWarning)\n"
     ]
    },
    {
     "name": "stdout",
     "output_type": "stream",
     "text": [
      "\n",
      "--> ERROR: The simulation lacks a solution, and cannot be gapfilled.\n",
      "\n",
      "\n",
      "Model objective value: 0.0\n",
      "\n",
      "\n",
      "\n",
      "Production matrix:\n",
      "         1    2\n",
      "Donor          \n",
      "1      0.0  0.0\n",
      "2      0.0  0.0\n",
      "\n",
      "\n",
      "Consumption matrix:\n",
      "            1    2\n",
      "Receiver          \n",
      "1         0.0  0.0\n",
      "2         0.0  0.0\n",
      "\n",
      "\n"
     ]
    },
    {
     "data": {
      "image/png": "[encoded data removed]",
      "text/plain": [
       "<Figure size 432x288 with 1 Axes>"
      ]
     },
     "metadata": {},
     "output_type": "display_data"
    }
   ],
   "source": [
    "# import the model\n",
    "%run ../../modelseedpy/core/mscommunity.py\n",
    "# from modelseedpy.fbapkg import kbasemediapkg\n",
    "\n",
    "modelInfo_2 = ['Cjaponicus_Ecoli_Community',97055]\n",
    "mediaInfo_2 = [\"ChitinM9Media\",97055]\n",
    "\n",
    "model = kbase.get_from_ws(modelInfo_2[0],modelInfo_2[1])\n",
    "media = kbase.get_from_ws(mediaInfo_2[0],mediaInfo_2[1])\n",
    "# kmp = kbasemediapkg.KBaseMediaPkg(self.model)\n",
    "# kmp.build_package(media)\n",
    "\n",
    "# simulate and visualize the model\n",
    "cfba = MSCommunity(model)\n",
    "cfba.drain_fluxes(media)\n",
    "cfba.gapfill(media)\n",
    "cfba.constrain(media) \n",
    "solution = cfba.run()\n",
    "cfba.compute_interactions(solution)\n",
    "cfba.visualize()"
   ]
  },
  {
   "cell_type": "markdown",
   "metadata": {},
   "source": [
    "## FullThermo-constrained model"
   ]
  },
  {
   "cell_type": "markdown",
   "metadata": {},
   "source": [
    "### Define and execute the model"
   ]
  },
  {
   "cell_type": "code",
   "execution_count": 7,
   "metadata": {},
   "outputs": [
    {
     "name": "stdout",
     "output_type": "stream",
     "text": [
      "Making biomass drain: cpd11416_c1\n",
      "Making biomass drain: cpd11416_c2\n",
      "species 1 drain-flux objective value: 0.0\n",
      "species 2 drain-flux objective value: 0.0\n"
     ]
    },
    {
     "name": "stderr",
     "output_type": "stream",
     "text": [
      "/usr/local/lib/python3.8/dist-packages/cobra/util/solver.py:508: UserWarning: Solver status is 'infeasible'.\n",
      "  warn(f\"Solver status is '{status}'.\", UserWarning)\n"
     ]
    },
    {
     "name": "stdout",
     "output_type": "stream",
     "text": [
      "\n",
      "--> ERROR: The simulation lacks a solution, and cannot be gapfilled.\n",
      "\n",
      "\n",
      "Model objective value: 0.0\n",
      "\n",
      "\n",
      "\n",
      "Production matrix:\n",
      "         1    2\n",
      "Donor          \n",
      "1      0.0  0.0\n",
      "2      0.0  0.0\n",
      "\n",
      "\n",
      "Consumption matrix:\n",
      "            1    2\n",
      "Receiver          \n",
      "1         0.0  0.0\n",
      "2         0.0  0.0\n",
      "\n",
      "\n"
     ]
    },
    {
     "data": {
      "image/png": "[encoded data removed]",
      "text/plain": [
       "<Figure size 432x288 with 1 Axes>"
      ]
     },
     "metadata": {},
     "output_type": "display_data"
    }
   ],
   "source": [
    "# import the model\n",
    "# from modelseedpy.fbapkg import kbasemediapkg\n",
    "\n",
    "modelInfo_2 = ['Cjaponicus_Ecoli_Community',97055]\n",
    "mediaInfo_2 = [\"ChitinM9Media\",97055]\n",
    "\n",
    "model = kbase.get_from_ws(modelInfo_2[0],modelInfo_2[1])\n",
    "media = kbase.get_from_ws(mediaInfo_2[0],mediaInfo_2[1])\n",
    "# kmp = kbasemediapkg.KBaseMediaPkg(self.model)\n",
    "# kmp.build_package(media)\n",
    "\n",
    "# simulate and visualize the model\n",
    "cfba = MSCommunity(model)\n",
    "cfba.drain_fluxes(media)\n",
    "cfba.gapfill(media)\n",
    "cfba.constrain(media, msdb_path_for_fullthermo = ftp_path, verbose = False)\n",
    "solution = cfba.run()\n",
    "cfba.compute_interactions(solution)\n",
    "cfba.visualize()"
   ]
  },
  {
   "cell_type": "markdown",
   "metadata": {},
   "source": [
    "# 7-member Hotlake model"
   ]
  },
  {
   "cell_type": "markdown",
   "metadata": {},
   "source": [
    "## Unconstrained model"
   ]
  },
  {
   "cell_type": "markdown",
   "metadata": {},
   "source": [
    "### Define and execute the model"
   ]
  },
  {
   "cell_type": "code",
   "execution_count": 8,
   "metadata": {},
   "outputs": [
    {
     "name": "stdout",
     "output_type": "stream",
     "text": [
      "Making biomass drain: cpd11416_c1\n",
      "Making biomass drain: cpd11416_c2\n",
      "Making biomass drain: cpd11416_c3\n",
      "Making biomass drain: cpd11416_c4\n",
      "Making biomass drain: cpd11416_c5\n",
      "Making biomass drain: cpd11416_c6\n",
      "Making biomass drain: cpd11416_c7\n",
      "species 1 drain-flux objective value: 0.0\n",
      "species 2 drain-flux objective value: 0.0\n",
      "species 3 drain-flux objective value: 0.0\n",
      "species 4 drain-flux objective value: 0.0\n",
      "species 5 drain-flux objective value: 0.0\n",
      "species 6 drain-flux objective value: 0.0\n",
      "species 7 drain-flux objective value: 0.0\n"
     ]
    },
    {
     "name": "stderr",
     "output_type": "stream",
     "text": [
      "/usr/local/lib/python3.8/dist-packages/cobra/util/solver.py:508: UserWarning: Solver status is 'infeasible'.\n",
      "  warn(f\"Solver status is '{status}'.\", UserWarning)\n"
     ]
    },
    {
     "name": "stdout",
     "output_type": "stream",
     "text": [
      "\n",
      "--> ERROR: The simulation lacks a solution, and cannot be gapfilled.\n",
      "\n",
      "\n",
      "Model objective value: 0.0\n",
      "\n",
      "\n",
      "\n",
      "Production matrix:\n",
      "         1    2    3    4    5    6    7\n",
      "Donor                                   \n",
      "1      0.0  0.0  0.0  0.0  0.0  0.0  0.0\n",
      "2      0.0  0.0  0.0  0.0  0.0  0.0  0.0\n",
      "3      0.0  0.0  0.0  0.0  0.0  0.0  0.0\n",
      "4      0.0  0.0  0.0  0.0  0.0  0.0  0.0\n",
      "5      0.0  0.0  0.0  0.0  0.0  0.0  0.0\n",
      "6      0.0  0.0  0.0  0.0  0.0  0.0  0.0\n",
      "7      0.0  0.0  0.0  0.0  0.0  0.0  0.0\n",
      "\n",
      "\n",
      "Consumption matrix:\n",
      "            1    2    3    4    5    6    7\n",
      "Receiver                                   \n",
      "1         0.0  0.0  0.0  0.0  0.0  0.0  0.0\n",
      "2         0.0  0.0  0.0  0.0  0.0  0.0  0.0\n",
      "3         0.0  0.0  0.0  0.0  0.0  0.0  0.0\n",
      "4         0.0  0.0  0.0  0.0  0.0  0.0  0.0\n",
      "5         0.0  0.0  0.0  0.0  0.0  0.0  0.0\n",
      "6         0.0  0.0  0.0  0.0  0.0  0.0  0.0\n",
      "7         0.0  0.0  0.0  0.0  0.0  0.0  0.0\n",
      "\n",
      "\n"
     ]
    },
    {
     "data": {
      "image/png": "[encoded data removed]",
      "text/plain": [
       "<Figure size 432x288 with 1 Axes>"
      ]
     },
     "metadata": {},
     "output_type": "display_data"
    }
   ],
   "source": [
    "# import the model\n",
    "%run ../../modelseedpy/core/mscommunity.py\n",
    "# from modelseedpy.fbapkg import kbasemediapkg\n",
    "\n",
    "modelInfo_2 = [\"Hot_Lake_seven.mdl\",93544]\n",
    "mediaInfo_2 = [\"HotLakeMedia\",93544]\n",
    "\n",
    "model = kbase.get_from_ws(modelInfo_2[0],modelInfo_2[1])\n",
    "media = kbase.get_from_ws(mediaInfo_2[0],mediaInfo_2[1])\n",
    "# kmp = kbasemediapkg.KBaseMediaPkg(self.model)\n",
    "# kmp.build_package(media)\n",
    "\n",
    "# simulate and visualize the model\n",
    "cfba = MSCommunity(model)\n",
    "cfba.drain_fluxes(media)\n",
    "cfba.gapfill(media)\n",
    "cfba.constrain(media)\n",
    "solution = cfba.run()\n",
    "cfba.compute_interactions(solution)\n",
    "cfba.visualize()"
   ]
  },
  {
   "cell_type": "markdown",
   "metadata": {},
   "source": [
    "## FullThermo-constrained model"
   ]
  },
  {
   "cell_type": "markdown",
   "metadata": {},
   "source": [
    "### Define and execute the model"
   ]
  },
  {
   "cell_type": "code",
   "execution_count": null,
   "metadata": {},
   "outputs": [
    {
     "name": "stdout",
     "output_type": "stream",
     "text": [
      "Making biomass drain: cpd11416_c1\n",
      "Making biomass drain: cpd11416_c2\n",
      "Making biomass drain: cpd11416_c3\n",
      "Making biomass drain: cpd11416_c4\n",
      "Making biomass drain: cpd11416_c5\n",
      "Making biomass drain: cpd11416_c6\n",
      "Making biomass drain: cpd11416_c7\n",
      "species 1 drain-flux objective value: 0.0\n",
      "species 2 drain-flux objective value: 0.0\n",
      "species 3 drain-flux objective value: 0.0\n",
      "species 4 drain-flux objective value: 0.0\n",
      "species 5 drain-flux objective value: 0.0\n",
      "species 6 drain-flux objective value: 0.0\n",
      "species 7 drain-flux objective value: 0.0\n"
     ]
    },
    {
     "name": "stderr",
     "output_type": "stream",
     "text": [
      "/usr/local/lib/python3.8/dist-packages/cobra/util/solver.py:508: UserWarning: Solver status is 'infeasible'.\n",
      "  warn(f\"Solver status is '{status}'.\", UserWarning)\n"
     ]
    },
    {
     "name": "stdout",
     "output_type": "stream",
     "text": [
      "\n",
      "--> ERROR: The simulation lacks a solution, and cannot be gapfilled.\n",
      "\n"
     ]
    }
   ],
   "source": [
    "# import the model\n",
    "%run ../../modelseedpy/core/mscommunity.py\n",
    "# from modelseedpy.fbapkg import kbasemediapkg\n",
    "\n",
    "modelInfo_2 = [\"Hot_Lake_seven.mdl\",93544]\n",
    "mediaInfo_2 = [\"HotLakeMedia\",93544]\n",
    "\n",
    "model = kbase.get_from_ws(modelInfo_2[0],modelInfo_2[1])\n",
    "media = kbase.get_from_ws(mediaInfo_2[0],mediaInfo_2[1])\n",
    "# kmp = kbasemediapkg.KBaseMediaPkg(self.model)\n",
    "# kmp.build_package(media)\n",
    "\n",
    "# simulate and visualize the model\n",
    "cfba = MSCommunity(model)\n",
    "cfba.drain_fluxes(media)\n",
    "cfba.gapfill(media)\n",
    "cfba.constrain(media, msdb_path_for_fullthermo = ftp_path, verbose = False)\n",
    "solution = cfba.run()\n",
    "cfba.compute_interactions(solution)\n",
    "cfba.visualize()"
   ]
  }
 ],
 "metadata": {
  "kernelspec": {
   "display_name": "Python 3 (ipykernel)",
   "language": "python",
   "name": "python3"
  },
  "language_info": {
   "codemirror_mode": {
    "name": "ipython",
    "version": 3
   },
   "file_extension": ".py",
   "mimetype": "text/x-python",
   "name": "python",
   "nbconvert_exporter": "python",
   "pygments_lexer": "ipython3",
   "version": "3.9.12"
  }
 },
 "nbformat": 4,
 "nbformat_minor": 4
}
