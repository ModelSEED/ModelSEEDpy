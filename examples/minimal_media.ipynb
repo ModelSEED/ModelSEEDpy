{
 "cells": [
  {
   "cell_type": "markdown",
   "id": "6a5c5e7d",
   "metadata": {},
   "source": [
    "# Load the model"
   ]
  },
  {
   "cell_type": "code",
   "execution_count": 1,
   "id": "63e945dd",
   "metadata": {},
   "outputs": [
    {
     "name": "stdout",
     "output_type": "stream",
     "text": [
      "cobrakbase 0.2.8\n"
     ]
    }
   ],
   "source": [
    "# from modelseedpy.fbapkg.reactionusepkg import MinimalMedia\n",
    "\n",
    "# define the environment path \n",
    "from pprint import pprint\n",
    "from json import dump\n",
    "import os\n",
    "local_cobrakbase_path = os.path.join('C:', 'Users', 'Andrew Freiburger','Documents','Argonne','cobrakbase')\n",
    "os.environ[\"HOME\"] = local_cobrakbase_path\n",
    "\n",
    "# import the models\n",
    "import cobrakbase\n",
    "token = 'YY57WB6SZ3ZZNP6Q4ERNV675XZWV4EI5'\n",
    "kbase_api = cobrakbase.KBaseAPI(token)\n",
    "model = kbase_api.get_from_ws(\"E_iAH991V2\",40576)\n",
    "\n",
    "# prevent excessive warnings\n",
    "import warnings\n",
    "warnings.filterwarnings(action='once')"
   ]
  },
  {
   "cell_type": "markdown",
   "id": "5ec02b88",
   "metadata": {},
   "source": [
    "## Examine the minimal flux media"
   ]
  },
  {
   "cell_type": "code",
   "execution_count": 24,
   "id": "ea4527de",
   "metadata": {},
   "outputs": [
    {
     "name": "stdout",
     "output_type": "stream",
     "text": [
      "minimal flux media consists of 17 compounds and a 2322.6834402307354 total flux, with a growth value of 86.91587102429735\n"
     ]
    }
   ],
   "source": [
    "%run ../modelseedpy/core/minimalmediapkg.py\n",
    "%time min_flux_media = MinimalMediaPkg.minimize_flux(model)"
   ]
  },
  {
   "cell_type": "code",
   "execution_count": null,
   "id": "05caee88",
   "metadata": {},
   "outputs": [],
   "source": []
  },
  {
   "cell_type": "code",
   "execution_count": null,
   "id": "bc9cac35",
   "metadata": {},
   "outputs": [],
   "source": []
  },
  {
   "cell_type": "code",
   "execution_count": null,
   "id": "9ea2c0ab",
   "metadata": {},
   "outputs": [],
   "source": []
  },
  {
   "cell_type": "code",
   "execution_count": null,
   "id": "c1141a40",
   "metadata": {},
   "outputs": [],
   "source": []
  },
  {
   "cell_type": "markdown",
   "id": "7c79c94c",
   "metadata": {},
   "source": [
    "## Examine the minimal components media"
   ]
  },
  {
   "cell_type": "code",
   "execution_count": null,
   "id": "10c34da6",
   "metadata": {},
   "outputs": [],
   "source": [
    "%run ../modelseedpy/core/minimalmediapkg.py\n",
    "min_components_media = MinimalMediaPkg.minimize_components(model)\n",
    "print(f\"The minimal components media consists of {len(min_components_media)} compounds and a {sum([ex.flux for ex in min_components_media])} total flux,\" \n",
    "      f\" with a growth value of {model.optimize().objective_value}\")"
   ]
  },
  {
   "cell_type": "code",
   "execution_count": null,
   "id": "7cbf901b",
   "metadata": {},
   "outputs": [],
   "source": []
  },
  {
   "cell_type": "code",
   "execution_count": null,
   "id": "dd1996b8",
   "metadata": {},
   "outputs": [],
   "source": []
  },
  {
   "cell_type": "code",
   "execution_count": null,
   "id": "bcfbc1e8",
   "metadata": {},
   "outputs": [],
   "source": []
  },
  {
   "cell_type": "code",
   "execution_count": null,
   "id": "a839cd10",
   "metadata": {},
   "outputs": [],
   "source": []
  },
  {
   "cell_type": "code",
   "execution_count": null,
   "id": "8ee7c3a1",
   "metadata": {},
   "outputs": [],
   "source": []
  },
  {
   "cell_type": "code",
   "execution_count": null,
   "id": "23a610ee",
   "metadata": {},
   "outputs": [],
   "source": []
  },
  {
   "cell_type": "markdown",
   "id": "e666775c",
   "metadata": {},
   "source": [
    "## Examine the JENGA minimal media"
   ]
  },
  {
   "cell_type": "code",
   "execution_count": null,
   "id": "87606013",
   "metadata": {},
   "outputs": [],
   "source": []
  }
 ],
 "metadata": {
  "kernelspec": {
   "display_name": "Python 3",
   "language": "python",
   "name": "python3"
  },
  "language_info": {
   "codemirror_mode": {
    "name": "ipython",
    "version": 3
   },
   "file_extension": ".py",
   "mimetype": "text/x-python",
   "name": "python",
   "nbconvert_exporter": "python",
   "pygments_lexer": "ipython3",
   "version": "3.7.4"
  }
 },
 "nbformat": 4,
 "nbformat_minor": 5
}
