{
 "cells": [
  {
   "cell_type": "markdown",
   "id": "7b40f0f4",
   "metadata": {},
   "source": [
    "# Load the model"
   ]
  },
  {
   "cell_type": "code",
   "execution_count": 1,
   "id": "271a9638",
   "metadata": {},
   "outputs": [
    {
     "name": "stdout",
     "output_type": "stream",
     "text": [
      "cobrakbase 0.2.8\n"
     ]
    }
   ],
   "source": [
    "# from modelseedpy.fbapkg.reactionusepkg import MinimalMedia\n",
    "\n",
    "# define the environment path \n",
    "from pprint import pprint\n",
    "from json import dump\n",
    "import os\n",
    "local_cobrakbase_path = os.path.join('C:', 'Users', 'Andrew Freiburger','Documents','Argonne','cobrakbase')\n",
    "os.environ[\"HOME\"] = local_cobrakbase_path\n",
    "\n",
    "# import the models\n",
    "import cobrakbase\n",
    "token = 'YY57WB6SZ3ZZNP6Q4ERNV675XZWV4EI5'\n",
    "kbase_api = cobrakbase.KBaseAPI(token)\n",
    "model = kbase_api.get_from_ws(\"E_iAH991V2\",40576)\n",
    "\n",
    "# prevent excessive warnings\n",
    "import warnings\n",
    "warnings.filterwarnings(action='once')"
   ]
  },
  {
   "cell_type": "markdown",
   "id": "d953bdfc",
   "metadata": {},
   "source": [
    "## Examine the minimal flux media"
   ]
  },
  {
   "cell_type": "code",
   "execution_count": 4,
   "id": "5752ef12",
   "metadata": {},
   "outputs": [
    {
     "name": "stdout",
     "output_type": "stream",
     "text": [
      "The minimal flux media consists of 11 compounds and a 15.118105648266631 total flux, with a growth value of 0.0\n",
      "CPU times: user 6.54 s, sys: 79.6 ms, total: 6.62 s\n",
      "Wall time: 6.71 s\n"
     ]
    }
   ],
   "source": [
    "%run ../modelseedpy/core/minimalmediapkg.py\n",
    "%time min_flux_media = MinimalMediaPkg.minimize_flux(model, .1)"
   ]
  },
  {
   "cell_type": "code",
   "execution_count": 3,
   "id": "9bf11314",
   "metadata": {},
   "outputs": [
    {
     "name": "stdout",
     "output_type": "stream",
     "text": [
      "{'EX_cpd00453_e0': 1.5318941809144623e-17, 'EX_cpd00141_e0': 3.00018929073046, 'EX_cpd00067_e0': 6.703119921627242, 'EX_cpd00430_e0': 0.2263054352718515, 'EX_cpd00047_e0': 0.0028008000000000026, 'EX_cpd00106_e0': 0.7886675178124668, 'EX_cpd00048_e0': 1.7168620799999996, 'EX_pect_e0': 2.7328566760003855e-17, 'EX_hspg_rest_e0': 0.1430718399999999, 'EX_cpd00011_e0': 2.107873242824611, 'EX_idour_e0': 0.42921551999999985}\n",
      "0.0\n"
     ]
    }
   ],
   "source": [
    "# print(model.medium)\n",
    "min_media_IDs = {rxn.id: flux for rxn,flux in min_flux_media.items()}\n",
    "print(min_media_IDs)\n",
    "model_copy = model.copy()\n",
    "model_copy.medium = min_media_IDs\n",
    "print(model_copy.optimize().objective_value)"
   ]
  },
  {
   "cell_type": "markdown",
   "id": "e3ca7ea0",
   "metadata": {},
   "source": [
    "### contrast with the COBRApy equivalent"
   ]
  },
  {
   "cell_type": "code",
   "execution_count": 16,
   "id": "ce12937d",
   "metadata": {},
   "outputs": [
    {
     "name": "stdout",
     "output_type": "stream",
     "text": [
      "CPU times: user 354 ms, sys: 6.63 ms, total: 360 ms\n",
      "Wall time: 370 ms\n",
      "The COBRA minimal flux media consists of 48 compounds and a 6097.069301255597 total flux, with a growth value of 86.91587102429742\n"
     ]
    }
   ],
   "source": [
    "from cobra.medium import minimal_medium\n",
    "%time cobra_min_flux_media = minimal_medium(model, model.optimize().objective_value)\n",
    "print(f\"The COBRA minimal flux media consists of {len(cobra_min_flux_media)} compounds and a {sum([flux for rxn, flux in cobra_min_flux_media.items()])} total flux,\" \n",
    "                  f\" with a growth value of {model.optimize().objective_value}\")"
   ]
  },
  {
   "cell_type": "code",
   "execution_count": 11,
   "id": "cda7dac7",
   "metadata": {},
   "outputs": [
    {
     "name": "stdout",
     "output_type": "stream",
     "text": [
      "[('EX_cpd00034_e0', 0.00046680000000000007), ('EX_lps_bt_e0', 0.001945), ('EX_glycogen1500_e0', 0.001439365203160074), ('EX_hspg_e0', 0.14307184), ('EX_cpd00063_e0', 0.00046680000000000007), ('EX_argarg_e0', 0.014647400000000269), ('EX_cpd00149_e0', 0.00046680000000000007), ('EX_cpd00393_e0', 0.0014004000000000134), ('EX_cpd11591_e0', 0.015400800000000003), ('EX_cpd00104_e0', 0.00046680000000000007), ('EX_cpd03725_e0', 0.00046680000000000007), ('EX_cpd10515_e0', 0.00046680000000000007), ('EX_sphmyln_bt_e0', 0.00046680000000000007), ('EX_cps_bt_e0', 0.00046680000000000007), ('EX_cpd00030_e0', 0.00046680000000000007), ('EX_pe_cer1_bt_e0', 0.00046680000000000007), ('EX_cpd01017_e0', 0.009831600000000093), ('EX_cpd00166_e0', 0.00046680000000000007), ('EX_cpd00205_e0', 0.00046680000000000007), ('EX_cpd00305_e0', 0.00046680000000000007), ('EX_cpd00028_e0', 0.00046680000000000007), ('EX_cpd00254_e0', 0.00046680000000000007), ('EX_cpd00311_e0', 0.0241939), ('EX_cpd00009_e0', 0.1663658000000027), ('EX_cpd00971_e0', 0.0004668000000000131), ('EX_cpd00182_e0', 0.021694300000000215)]\n"
     ]
    }
   ],
   "source": [
    "print([(rxn, flux) for rxn, flux in cobra_min_flux_media.items()])"
   ]
  },
  {
   "cell_type": "code",
   "execution_count": null,
   "id": "d1e9dc63",
   "metadata": {},
   "outputs": [],
   "source": []
  },
  {
   "cell_type": "code",
   "execution_count": null,
   "id": "d08b0c8d",
   "metadata": {},
   "outputs": [],
   "source": []
  },
  {
   "cell_type": "markdown",
   "id": "a7ac6b18",
   "metadata": {},
   "source": [
    "## Examine the minimal components media"
   ]
  },
  {
   "cell_type": "code",
   "execution_count": null,
   "id": "0557eeb4",
   "metadata": {},
   "outputs": [],
   "source": [
    "%run ../modelseedpy/core/minimalmediapkg.py\n",
    "min_components_media = MinimalMediaPkg.minimize_components(model)\n",
    "print(f\"The minimal components media consists of {len(min_components_media)} compounds and a {sum([ex.flux for ex in min_components_media])} total flux,\" \n",
    "      f\" with a growth value of {model.optimize().objective_value}\")"
   ]
  },
  {
   "cell_type": "code",
   "execution_count": null,
   "id": "e2294ce8",
   "metadata": {},
   "outputs": [],
   "source": []
  },
  {
   "cell_type": "code",
   "execution_count": null,
   "id": "19d53a9e",
   "metadata": {},
   "outputs": [],
   "source": []
  },
  {
   "cell_type": "code",
   "execution_count": null,
   "id": "b70e98d7",
   "metadata": {},
   "outputs": [],
   "source": []
  },
  {
   "cell_type": "code",
   "execution_count": null,
   "id": "99d986a2",
   "metadata": {},
   "outputs": [],
   "source": []
  },
  {
   "cell_type": "code",
   "execution_count": null,
   "id": "85c29739",
   "metadata": {},
   "outputs": [],
   "source": []
  },
  {
   "cell_type": "code",
   "execution_count": null,
   "id": "ae558282",
   "metadata": {},
   "outputs": [],
   "source": []
  },
  {
   "cell_type": "markdown",
   "id": "aa71c0d6",
   "metadata": {},
   "source": [
    "## Examine the JENGA minimal media"
   ]
  },
  {
   "cell_type": "code",
   "execution_count": null,
   "id": "683042e4",
   "metadata": {},
   "outputs": [],
   "source": []
  }
 ],
 "metadata": {
  "kernelspec": {
   "display_name": "Python 3",
   "language": "python",
   "name": "python3"
  },
  "language_info": {
   "codemirror_mode": {
    "name": "ipython",
    "version": 3
   },
   "file_extension": ".py",
   "mimetype": "text/x-python",
   "name": "python",
   "nbconvert_exporter": "python",
   "pygments_lexer": "ipython3",
   "version": "3.7.4"
  }
 },
 "nbformat": 4,
 "nbformat_minor": 5
}
