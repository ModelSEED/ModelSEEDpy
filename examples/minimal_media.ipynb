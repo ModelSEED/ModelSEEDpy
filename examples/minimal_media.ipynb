{
 "cells": [
  {
   "cell_type": "markdown",
   "id": "7b40f0f4",
   "metadata": {},
   "source": [
    "# Load the model"
   ]
  },
  {
   "cell_type": "code",
   "execution_count": 1,
   "id": "271a9638",
   "metadata": {},
   "outputs": [
    {
     "name": "stderr",
     "output_type": "stream",
     "text": [
      "C:\\Users\\Andrew Freiburger\\AppData\\Local\\Programs\\Python\\Python39\\lib\\site-packages\\requests\\__init__.py:102: RequestsDependencyWarning: urllib3 (1.26.9) or chardet (5.0.0)/charset_normalizer (2.0.12) doesn't match a supported version!\n",
      "  warnings.warn(\"urllib3 ({}) or chardet ({})/charset_normalizer ({}) doesn't match a supported \"\n"
     ]
    },
    {
     "name": "stdout",
     "output_type": "stream",
     "text": [
      "cobrakbase 0.2.8\n"
     ]
    }
   ],
   "source": [
    "# from modelseedpy.fbapkg.reactionusepkg import MinimalMedia\n",
    "\n",
    "# define the environment path \n",
    "from pprint import pprint\n",
    "from json import dump\n",
    "import os\n",
    "local_cobrakbase_path = os.path.join('C:', 'Users', 'Andrew Freiburger','Documents','Argonne','cobrakbase')\n",
    "os.environ[\"HOME\"] = local_cobrakbase_path\n",
    "\n",
    "# import the models\n",
    "import cobrakbase\n",
    "token = 'CKYZK6AZ5V2CT5ILYP7JAXFPW3OLT6VF'\n",
    "kbase_api = cobrakbase.KBaseAPI(token)\n",
    "model = kbase_api.get_from_ws(\"E_iAH991V2\",40576)\n",
    "\n",
    "# load a community\n",
    "model1 = kbase_api.get_from_ws(\"E_iAH991V2\",40576)\n",
    "model2 = kbase_api.get_from_ws(\"E_iML1515.kb\",40576)\n",
    "com_model = kbase_api.get_from_ws(\"CMM_iAH991V2_iML1515.kb\",40576)\n",
    "models = [model1, model2]\n",
    "\n",
    "# prevent excessive warnings\n",
    "import warnings\n",
    "warnings.filterwarnings(action='once')"
   ]
  },
  {
   "cell_type": "markdown",
   "id": "d953bdfc",
   "metadata": {},
   "source": [
    "## Examine the minimal flux media"
   ]
  },
  {
   "cell_type": "code",
   "execution_count": 2,
   "id": "5752ef12",
   "metadata": {},
   "outputs": [
    {
     "name": "stdout",
     "output_type": "stream",
     "text": [
      "The minimal flux media consists of 29 compounds and a 0.4074592052031568 total influx, with a growth value of 0.09999999999999967\n",
      "CPU times: total: 2.2 s\n",
      "Wall time: 2.19 s\n"
     ]
    }
   ],
   "source": [
    "%run ../modelseedpy/core/minimalmediapkg.py\n",
    "%time min_flux_media = MinimalMediaPkg.minimize_flux(model, .1)"
   ]
  },
  {
   "cell_type": "markdown",
   "id": "1bfa8f39-74ad-4251-91a9-bbd39d726b56",
   "metadata": {},
   "source": [
    "### Defaults to the original objective value"
   ]
  },
  {
   "cell_type": "code",
   "execution_count": 7,
   "id": "1d397120-a22c-4d0e-a989-d5a4aca3f6a5",
   "metadata": {
    "tags": []
   },
   "outputs": [
    {
     "name": "stdout",
     "output_type": "stream",
     "text": [
      "The minimal flux media consists of 51 compounds and a 6097.0693012553975 total influx, with a growth value of 86.91587102429722\n",
      "CPU times: total: 2.22 s\n",
      "Wall time: 2.21 s\n"
     ]
    }
   ],
   "source": [
    "%run ../modelseedpy/core/minimalmediapkg.py\n",
    "%time min_flux_media = MinimalMediaPkg.minimize_flux(model)"
   ]
  },
  {
   "cell_type": "markdown",
   "id": "e3ca7ea0",
   "metadata": {},
   "source": [
    "### contrast with the COBRApy equivalent"
   ]
  },
  {
   "cell_type": "code",
   "execution_count": 3,
   "id": "ce12937d",
   "metadata": {},
   "outputs": [
    {
     "name": "stderr",
     "output_type": "stream",
     "text": [
      "C:\\Users\\Andrew Freiburger\\AppData\\Local\\Programs\\Python\\Python39\\lib\\site-packages\\cobra\\medium\\minimal_medium.py:112: FutureWarning: The default dtype for empty Series will be 'object' instead of 'float64' in a future version. Specify a dtype explicitly to silence this warning.\n",
      "  medium = pd.Series()\n"
     ]
    },
    {
     "name": "stdout",
     "output_type": "stream",
     "text": [
      "The COBRA minimal flux media consists of 26 compounds and a 0.40745920520315676 total flux, with a growth value of 0.09999999999999974\n",
      "CPU times: total: 1.3 s\n",
      "Wall time: 1.31 s\n"
     ]
    }
   ],
   "source": [
    "def cobra_minimal_flux(model, min_growth):\n",
    "    from cobra.medium import minimal_medium\n",
    "    cobra_min_flux_media = minimal_medium(model, min_growth)\n",
    "    model_copy = model.copy()\n",
    "    model_copy.medium = cobra_min_flux_media\n",
    "    print(f\"The COBRA minimal flux media consists of {len(cobra_min_flux_media)} compounds and a {sum([flux for rxn, flux in cobra_min_flux_media.items()])} total flux,\" \n",
    "                      f\" with a growth value of {model_copy.optimize().objective_value}\")\n",
    "    return cobra_min_flux_media\n",
    "    \n",
    "%time cobra_min_flux_media = cobra_minimal_flux(model, .1)"
   ]
  },
  {
   "cell_type": "markdown",
   "id": "a7ac6b18",
   "metadata": {},
   "source": [
    "## Examine the minimal components media"
   ]
  },
  {
   "cell_type": "code",
   "execution_count": null,
   "id": "0557eeb4",
   "metadata": {},
   "outputs": [],
   "source": [
    "%run ../modelseedpy/core/minimalmediapkg.py\n",
    "min_components_media = MinimalMediaPkg.minimize_components(model)\n",
    "print(f\"The minimal components media consists of {len(min_components_media)} compounds and a {sum([ex.flux for ex in min_components_media])} total flux,\" \n",
    "      f\" with a growth value of {model.optimize().objective_value}\")"
   ]
  },
  {
   "cell_type": "code",
   "execution_count": 29,
   "id": "e2294ce8",
   "metadata": {},
   "outputs": [],
   "source": [
    "from optlang import Variable, Constraint\n",
    "from modelseedpy import FBAHelper\n",
    "from optlang.symbolics import Zero\n",
    "from deepdiff import DeepDiff\n",
    "\n",
    "def _var_to_ID(var):\n",
    "    rxnID = var.name\n",
    "    if \"_ru\" in rxnID:\n",
    "        rxnID = rxnID.replace(\"_ru\", \"\")\n",
    "    return rxnID\n",
    "\n",
    "def minimize_components(org_model, minimal_growth=None, printing=True):\n",
    "    \"\"\"minimize the quantity of metabolites that are consumed by the model\"\"\"\n",
    "    model = org_model.copy()\n",
    "    variables = {\"ru\":{}}\n",
    "    FBAHelper.add_minimal_objective_cons(\n",
    "        model, sum([rxn.flux_expression for rxn in model.reactions if \"bio\" in rxn.id]), minimal_growth)\n",
    "\n",
    "    # define the binary variable and constraint\n",
    "    for ex_rxn in FBAHelper.exchange_reactions(model):  # this may need to be relegated to a separate function, depending upon whether additional variables and constraints can be copied with a model \n",
    "        # define the variable\n",
    "        variables[\"ru\"][ex_rxn.id] = Variable(ex_rxn.id+\"_ru\", lb=0, ub=1, type=\"binary\")\n",
    "        model.add_cons_vars(variables[\"ru\"][ex_rxn.id])\n",
    "        # bin_flux: {rxn_bin}*1000 >= {rxn_rev_flux}\n",
    "        FBAHelper.create_constraint(model, Constraint(Zero, lb=0, ub=None, name=ex_rxn.id+\"_bin\"),\n",
    "                                        coef={variables[\"ru\"][ex_rxn.id]: 1000, ex_rxn.reverse_variable: -1})\n",
    "    print(\"to objective\", f\"{len(variables['ru'])} variables are defined\")\n",
    "    FBAHelper.add_objective(model, sum([var for var in variables[\"ru\"].values()]), \"min\")\n",
    "\n",
    "    # determine each solution\n",
    "    solution_dicts = []\n",
    "    interdependencies = {}\n",
    "    sol = model.optimize()\n",
    "    sol_index = 0\n",
    "    while sol.status == \"optimal\" and sol_index < 100:\n",
    "        sol_dict = FBAHelper.solution_to_variables_dict(sol, model)\n",
    "        solution_dicts.append(sol_dict)\n",
    "        ## omit the solution from the next search\n",
    "        FBAHelper.create_constraint(model, Constraint(\n",
    "            Zero, lb=len(sol_dict)-1, ub=len(sol_dict)-1,name=ex_rxn.id + f\"_exclusion_sol{sol_index}\"), \n",
    "            sol_dict)\n",
    "        ## search the permutation space by omitting previously investigated solution_dicts\n",
    "        sol_exchanges = [rxn for rxn in sol_dict if \"EX_\" in rxn.name]\n",
    "        interdependencies[sol_index] = _examine_permutations(model, sol_exchanges, variables, sol_dict, sol_index)\n",
    "        \n",
    "        ## TODO - intelligently guide future searches with the results of past searches\n",
    "        \n",
    "        ## prepare for the new loop\n",
    "        sol = model.optimize()\n",
    "        sol_index += 1\n",
    "\n",
    "def _knockout(org_model, exVar, variables, sol_dict, sol_index):\n",
    "    # knockout the specified exchange\n",
    "#     knocked_model = org_model.copy()\n",
    "    exID = _var_to_ID(exVar)\n",
    "    coef = {variables[\"ru\"][exID]: 0}\n",
    "    coef.update({variables[\"ru\"][exVar2.name.replace(\"_ru\", \"\")]: 1\n",
    "                 for exVar2 in sol_dict if exVar != exVar2 and \"EX_\" in exVar2.name})\n",
    "    FBAHelper.create_constraint(org_model, Constraint(Zero, lb=0.1, ub=None, name=f\"{exVar.name}-sol{sol_index}\"), coef)\n",
    "    return org_model.optimize()\n",
    "\n",
    "def _examine_permutations(model, exchange_ids_to_explore, variables, sol_dict, sol_index):\n",
    "    for ex in exchange_ids_to_explore:\n",
    "        sol_dict_sans_ex = sol_dict.copy()\n",
    "        sol_dict_sans_ex.pop(ex)\n",
    "        # interdependencies[sol_index][exID] = MinimalMediaPkg._examine_permutations(\n",
    "        #     exID, sol_dict, sol_index, variables, sol_dict_sans_ex)\n",
    "        interdependencies = {sol_index:{}}\n",
    "\n",
    "        ## explore permutations after removing the selected variable\n",
    "        diff = DeepDiff(sol_dict_sans_ex, FBAHelper.solution_to_dict(\n",
    "            _knockout(model, ex, variables, sol_dict, sol_index)))\n",
    "        if diff:  # the addition of new exchanges or altered exchange fluxes are detected after the removed exchange\n",
    "            for key, changes in diff.items():\n",
    "                # for change in changes:\n",
    "                #     print(change)\n",
    "                changed_reactions = [re.search(\"(?<=\\[\\')(.+)(?=\\'\\])\", change).group() for change in changes]\n",
    "                # this dictionary should be parsed into a list of substitute metabolites and a list of functionally coupled reactions\n",
    "                for exchange in [rxn for rxn in changed_reactions if \"EX_\" in rxn]:\n",
    "                    interdependencies[sol_index][exchange] = _examine_permutations(model, exchange_ids_to_explore, variables, sol_dict, sol_index)\n",
    "            # coef = {variables[\"met\"][exID]: 0 for cpd in new_mets.keys()}\n",
    "            # coef.update({variables[\"met\"][exID]: 1 for exID in sol_dict if exID not in new_mets.keys()})\n",
    "            cpd_name = \"_\".join(new_mets.keys())\n",
    "            BaseFBAPkg.build_constraint(self, \"met\", 0.1, None, coef, f\"{cpd_name}-sol{sol_index}\")\n",
    "            new_sol = self.model.optimize()\n",
    "            new_sol_dict = FBAHelper.solution_to_variables_dict(new_sol, model)\n",
    "            new_sol_exchanges = [rxn for rxn in sol_dict if \"EX_\" in rxn.name]\n",
    "            if new_sol.status != \"optimal\":\n",
    "                return interdependencies\n",
    "            _examine_permutations(model, new_sol_exchanges, variables, new_sol_dict, sol_index)\n",
    "        return interdependencies"
   ]
  },
  {
   "cell_type": "code",
   "execution_count": 30,
   "id": "19d53a9e",
   "metadata": {
    "collapsed": true,
    "jupyter": {
     "outputs_hidden": true
    },
    "tags": []
   },
   "outputs": [
    {
     "name": "stdout",
     "output_type": "stream",
     "text": [
      "to objective 281 variables are defined\n"
     ]
    },
    {
     "name": "stderr",
     "output_type": "stream",
     "text": [
      "C:\\Users\\Andrew Freiburger\\AppData\\Local\\Programs\\Python\\Python39\\lib\\site-packages\\cobra\\util\\solver.py:554: UserWarning: Solver status is 'infeasible'.\n",
      "  warn(f\"Solver status is '{status}'.\", UserWarning)\n",
      "C:\\Users\\Andrew Freiburger\\AppData\\Local\\Temp\\ipykernel_20876\\1219899246.py:77: DeprecationWarning: invalid escape sequence \\[\n",
      "  changed_reactions = [re.search(\"(?<=\\[\\')(.+)(?=\\'\\])\", change).group() for change in changes]\n",
      "C:\\Users\\Andrew Freiburger\\AppData\\Local\\Programs\\Python\\Python39\\lib\\site-packages\\modelseedpy\\core\\fbahelper.py:137: DeprecationWarning: invalid escape sequence \\d\n",
      "  if re.search('^(cpd\\d+)', metabolite.id):\n"
     ]
    },
    {
     "ename": "ContainerAlreadyContains",
     "evalue": "Container '<optlang.container.Container object at 0x000002E0248BB7C0>' already contains an object with name 'EX_cpd00184_e0-sol0'.",
     "output_type": "error",
     "traceback": [
      "\u001b[1;31m---------------------------------------------------------------------------\u001b[0m",
      "\u001b[1;31mContainerAlreadyContains\u001b[0m                  Traceback (most recent call last)",
      "Input \u001b[1;32mIn [30]\u001b[0m, in \u001b[0;36m<cell line: 1>\u001b[1;34m()\u001b[0m\n\u001b[1;32m----> 1\u001b[0m \u001b[43mminimize_components\u001b[49m\u001b[43m(\u001b[49m\u001b[43mmodel\u001b[49m\u001b[43m)\u001b[49m\n",
      "Input \u001b[1;32mIn [29]\u001b[0m, in \u001b[0;36mminimize_components\u001b[1;34m(org_model, minimal_growth, printing)\u001b[0m\n\u001b[0;32m     42\u001b[0m \u001b[38;5;66;03m## search the permutation space by omitting previously investigated solution_dicts\u001b[39;00m\n\u001b[0;32m     43\u001b[0m sol_exchanges \u001b[38;5;241m=\u001b[39m [rxn \u001b[38;5;28;01mfor\u001b[39;00m rxn \u001b[38;5;129;01min\u001b[39;00m sol_dict \u001b[38;5;28;01mif\u001b[39;00m \u001b[38;5;124m\"\u001b[39m\u001b[38;5;124mEX_\u001b[39m\u001b[38;5;124m\"\u001b[39m \u001b[38;5;129;01min\u001b[39;00m rxn\u001b[38;5;241m.\u001b[39mname]\n\u001b[1;32m---> 44\u001b[0m interdependencies[sol_index] \u001b[38;5;241m=\u001b[39m \u001b[43m_examine_permutations\u001b[49m\u001b[43m(\u001b[49m\u001b[43mmodel\u001b[49m\u001b[43m,\u001b[49m\u001b[43m \u001b[49m\u001b[43msol_exchanges\u001b[49m\u001b[43m,\u001b[49m\u001b[43m \u001b[49m\u001b[43mvariables\u001b[49m\u001b[43m,\u001b[49m\u001b[43m \u001b[49m\u001b[43msol_dict\u001b[49m\u001b[43m,\u001b[49m\u001b[43m \u001b[49m\u001b[43msol_index\u001b[49m\u001b[43m)\u001b[49m\n\u001b[0;32m     46\u001b[0m \u001b[38;5;66;03m## TODO - intelligently guide future searches with the results of past searches\u001b[39;00m\n\u001b[0;32m     47\u001b[0m \n\u001b[0;32m     48\u001b[0m \u001b[38;5;66;03m## prepare for the new loop\u001b[39;00m\n\u001b[0;32m     49\u001b[0m sol \u001b[38;5;241m=\u001b[39m model\u001b[38;5;241m.\u001b[39moptimize()\n",
      "Input \u001b[1;32mIn [29]\u001b[0m, in \u001b[0;36m_examine_permutations\u001b[1;34m(model, exchange_ids_to_explore, variables, sol_dict, sol_index)\u001b[0m\n\u001b[0;32m     78\u001b[0m     \u001b[38;5;66;03m# this dictionary should be parsed into a list of substitute metabolites and a list of functionally coupled reactions\u001b[39;00m\n\u001b[0;32m     79\u001b[0m     \u001b[38;5;28;01mfor\u001b[39;00m exchange \u001b[38;5;129;01min\u001b[39;00m [rxn \u001b[38;5;28;01mfor\u001b[39;00m rxn \u001b[38;5;129;01min\u001b[39;00m changed_reactions \u001b[38;5;28;01mif\u001b[39;00m \u001b[38;5;124m\"\u001b[39m\u001b[38;5;124mEX_\u001b[39m\u001b[38;5;124m\"\u001b[39m \u001b[38;5;129;01min\u001b[39;00m rxn]:\n\u001b[1;32m---> 80\u001b[0m         interdependencies[sol_index][exchange] \u001b[38;5;241m=\u001b[39m \u001b[43m_examine_permutations\u001b[49m\u001b[43m(\u001b[49m\u001b[43mmodel\u001b[49m\u001b[43m,\u001b[49m\u001b[43m \u001b[49m\u001b[43mexchange_ids_to_explore\u001b[49m\u001b[43m,\u001b[49m\u001b[43m \u001b[49m\u001b[43mvariables\u001b[49m\u001b[43m,\u001b[49m\u001b[43m \u001b[49m\u001b[43msol_dict\u001b[49m\u001b[43m,\u001b[49m\u001b[43m \u001b[49m\u001b[43msol_index\u001b[49m\u001b[43m)\u001b[49m\n\u001b[0;32m     81\u001b[0m \u001b[38;5;66;03m# coef = {variables[\"met\"][exID]: 0 for cpd in new_mets.keys()}\u001b[39;00m\n\u001b[0;32m     82\u001b[0m \u001b[38;5;66;03m# coef.update({variables[\"met\"][exID]: 1 for exID in sol_dict if exID not in new_mets.keys()})\u001b[39;00m\n\u001b[0;32m     83\u001b[0m cpd_name \u001b[38;5;241m=\u001b[39m \u001b[38;5;124m\"\u001b[39m\u001b[38;5;124m_\u001b[39m\u001b[38;5;124m\"\u001b[39m\u001b[38;5;241m.\u001b[39mjoin(new_mets\u001b[38;5;241m.\u001b[39mkeys())\n",
      "Input \u001b[1;32mIn [29]\u001b[0m, in \u001b[0;36m_examine_permutations\u001b[1;34m(model, exchange_ids_to_explore, variables, sol_dict, sol_index)\u001b[0m\n\u001b[0;32m     68\u001b[0m interdependencies \u001b[38;5;241m=\u001b[39m {sol_index:{}}\n\u001b[0;32m     70\u001b[0m \u001b[38;5;66;03m## explore permutations after removing the selected variable\u001b[39;00m\n\u001b[0;32m     71\u001b[0m diff \u001b[38;5;241m=\u001b[39m DeepDiff(sol_dict_sans_ex, FBAHelper\u001b[38;5;241m.\u001b[39msolution_to_dict(\n\u001b[1;32m---> 72\u001b[0m     \u001b[43m_knockout\u001b[49m\u001b[43m(\u001b[49m\u001b[43mmodel\u001b[49m\u001b[43m,\u001b[49m\u001b[43m \u001b[49m\u001b[43mex\u001b[49m\u001b[43m,\u001b[49m\u001b[43m \u001b[49m\u001b[43mvariables\u001b[49m\u001b[43m,\u001b[49m\u001b[43m \u001b[49m\u001b[43msol_dict\u001b[49m\u001b[43m,\u001b[49m\u001b[43m \u001b[49m\u001b[43msol_index\u001b[49m\u001b[43m)\u001b[49m))\n\u001b[0;32m     73\u001b[0m \u001b[38;5;28;01mif\u001b[39;00m diff:  \u001b[38;5;66;03m# the addition of new exchanges or altered exchange fluxes are detected after the removed exchange\u001b[39;00m\n\u001b[0;32m     74\u001b[0m     \u001b[38;5;28;01mfor\u001b[39;00m key, changes \u001b[38;5;129;01min\u001b[39;00m diff\u001b[38;5;241m.\u001b[39mitems():\n\u001b[0;32m     75\u001b[0m         \u001b[38;5;66;03m# for change in changes:\u001b[39;00m\n\u001b[0;32m     76\u001b[0m         \u001b[38;5;66;03m#     print(change)\u001b[39;00m\n",
      "Input \u001b[1;32mIn [29]\u001b[0m, in \u001b[0;36m_knockout\u001b[1;34m(org_model, exVar, variables, sol_dict, sol_index)\u001b[0m\n\u001b[0;32m     56\u001b[0m coef \u001b[38;5;241m=\u001b[39m {variables[\u001b[38;5;124m\"\u001b[39m\u001b[38;5;124mru\u001b[39m\u001b[38;5;124m\"\u001b[39m][exID]: \u001b[38;5;241m0\u001b[39m}\n\u001b[0;32m     57\u001b[0m coef\u001b[38;5;241m.\u001b[39mupdate({variables[\u001b[38;5;124m\"\u001b[39m\u001b[38;5;124mru\u001b[39m\u001b[38;5;124m\"\u001b[39m][exVar2\u001b[38;5;241m.\u001b[39mname\u001b[38;5;241m.\u001b[39mreplace(\u001b[38;5;124m\"\u001b[39m\u001b[38;5;124m_ru\u001b[39m\u001b[38;5;124m\"\u001b[39m, \u001b[38;5;124m\"\u001b[39m\u001b[38;5;124m\"\u001b[39m)]: \u001b[38;5;241m1\u001b[39m\n\u001b[0;32m     58\u001b[0m              \u001b[38;5;28;01mfor\u001b[39;00m exVar2 \u001b[38;5;129;01min\u001b[39;00m sol_dict \u001b[38;5;28;01mif\u001b[39;00m exVar \u001b[38;5;241m!=\u001b[39m exVar2 \u001b[38;5;129;01mand\u001b[39;00m \u001b[38;5;124m\"\u001b[39m\u001b[38;5;124mEX_\u001b[39m\u001b[38;5;124m\"\u001b[39m \u001b[38;5;129;01min\u001b[39;00m exVar2\u001b[38;5;241m.\u001b[39mname})\n\u001b[1;32m---> 59\u001b[0m \u001b[43mFBAHelper\u001b[49m\u001b[38;5;241;43m.\u001b[39;49m\u001b[43mcreate_constraint\u001b[49m\u001b[43m(\u001b[49m\u001b[43morg_model\u001b[49m\u001b[43m,\u001b[49m\u001b[43m \u001b[49m\u001b[43mConstraint\u001b[49m\u001b[43m(\u001b[49m\u001b[43mZero\u001b[49m\u001b[43m,\u001b[49m\u001b[43m \u001b[49m\u001b[43mlb\u001b[49m\u001b[38;5;241;43m=\u001b[39;49m\u001b[38;5;241;43m0.1\u001b[39;49m\u001b[43m,\u001b[49m\u001b[43m \u001b[49m\u001b[43mub\u001b[49m\u001b[38;5;241;43m=\u001b[39;49m\u001b[38;5;28;43;01mNone\u001b[39;49;00m\u001b[43m,\u001b[49m\u001b[43m \u001b[49m\u001b[43mname\u001b[49m\u001b[38;5;241;43m=\u001b[39;49m\u001b[38;5;124;43mf\u001b[39;49m\u001b[38;5;124;43m\"\u001b[39;49m\u001b[38;5;132;43;01m{\u001b[39;49;00m\u001b[43mexVar\u001b[49m\u001b[38;5;241;43m.\u001b[39;49m\u001b[43mname\u001b[49m\u001b[38;5;132;43;01m}\u001b[39;49;00m\u001b[38;5;124;43m-sol\u001b[39;49m\u001b[38;5;132;43;01m{\u001b[39;49;00m\u001b[43msol_index\u001b[49m\u001b[38;5;132;43;01m}\u001b[39;49;00m\u001b[38;5;124;43m\"\u001b[39;49m\u001b[43m)\u001b[49m\u001b[43m,\u001b[49m\u001b[43m \u001b[49m\u001b[43mcoef\u001b[49m\u001b[43m)\u001b[49m\n\u001b[0;32m     60\u001b[0m \u001b[38;5;28;01mreturn\u001b[39;00m org_model\u001b[38;5;241m.\u001b[39moptimize()\n",
      "File \u001b[1;32m~\\AppData\\Local\\Programs\\Python\\Python39\\lib\\site-packages\\modelseedpy\\core\\fbahelper.py:338\u001b[0m, in \u001b[0;36mFBAHelper.create_constraint\u001b[1;34m(model, constraint, coef)\u001b[0m\n\u001b[0;32m    335\u001b[0m \u001b[38;5;129m@staticmethod\u001b[39m\n\u001b[0;32m    336\u001b[0m \u001b[38;5;28;01mdef\u001b[39;00m \u001b[38;5;21mcreate_constraint\u001b[39m(model, constraint, coef\u001b[38;5;241m=\u001b[39m\u001b[38;5;28;01mNone\u001b[39;00m):\n\u001b[0;32m    337\u001b[0m     model\u001b[38;5;241m.\u001b[39madd_cons_vars(constraint)\n\u001b[1;32m--> 338\u001b[0m     \u001b[43mmodel\u001b[49m\u001b[38;5;241;43m.\u001b[39;49m\u001b[43msolver\u001b[49m\u001b[38;5;241;43m.\u001b[39;49m\u001b[43mupdate\u001b[49m\u001b[43m(\u001b[49m\u001b[43m)\u001b[49m\n\u001b[0;32m    339\u001b[0m     \u001b[38;5;28;01mif\u001b[39;00m coef:\n\u001b[0;32m    340\u001b[0m         constraint\u001b[38;5;241m.\u001b[39mset_linear_coefficients(coef)\n",
      "File \u001b[1;32m~\\AppData\\Local\\Programs\\Python\\Python39\\lib\\site-packages\\optlang\\interface.py:1474\u001b[0m, in \u001b[0;36mModel.update\u001b[1;34m(self, callback)\u001b[0m\n\u001b[0;32m   1472\u001b[0m add_constr \u001b[38;5;241m=\u001b[39m \u001b[38;5;28mself\u001b[39m\u001b[38;5;241m.\u001b[39m_pending_modifications\u001b[38;5;241m.\u001b[39madd_constr\n\u001b[0;32m   1473\u001b[0m \u001b[38;5;28;01mif\u001b[39;00m \u001b[38;5;28mlen\u001b[39m(add_constr) \u001b[38;5;241m>\u001b[39m \u001b[38;5;241m0\u001b[39m:\n\u001b[1;32m-> 1474\u001b[0m     \u001b[38;5;28;43mself\u001b[39;49m\u001b[38;5;241;43m.\u001b[39;49m\u001b[43m_add_constraints\u001b[49m\u001b[43m(\u001b[49m\u001b[43madd_constr\u001b[49m\u001b[43m)\u001b[49m\n\u001b[0;32m   1475\u001b[0m     \u001b[38;5;28mself\u001b[39m\u001b[38;5;241m.\u001b[39m_pending_modifications\u001b[38;5;241m.\u001b[39madd_constr \u001b[38;5;241m=\u001b[39m []\n\u001b[0;32m   1477\u001b[0m add_constr_sloppy \u001b[38;5;241m=\u001b[39m \u001b[38;5;28mself\u001b[39m\u001b[38;5;241m.\u001b[39m_pending_modifications\u001b[38;5;241m.\u001b[39madd_constr_sloppy\n",
      "File \u001b[1;32m~\\AppData\\Local\\Programs\\Python\\Python39\\lib\\site-packages\\optlang\\glpk_interface.py:761\u001b[0m, in \u001b[0;36mModel._add_constraints\u001b[1;34m(self, constraints, sloppy)\u001b[0m\n\u001b[0;32m    760\u001b[0m \u001b[38;5;28;01mdef\u001b[39;00m \u001b[38;5;21m_add_constraints\u001b[39m(\u001b[38;5;28mself\u001b[39m, constraints, sloppy\u001b[38;5;241m=\u001b[39m\u001b[38;5;28;01mFalse\u001b[39;00m):\n\u001b[1;32m--> 761\u001b[0m     \u001b[38;5;28;43msuper\u001b[39;49m\u001b[43m(\u001b[49m\u001b[43mModel\u001b[49m\u001b[43m,\u001b[49m\u001b[43m \u001b[49m\u001b[38;5;28;43mself\u001b[39;49m\u001b[43m)\u001b[49m\u001b[38;5;241;43m.\u001b[39;49m\u001b[43m_add_constraints\u001b[49m\u001b[43m(\u001b[49m\u001b[43mconstraints\u001b[49m\u001b[43m,\u001b[49m\u001b[43m \u001b[49m\u001b[43msloppy\u001b[49m\u001b[38;5;241;43m=\u001b[39;49m\u001b[43msloppy\u001b[49m\u001b[43m)\u001b[49m\n\u001b[0;32m    762\u001b[0m     \u001b[38;5;28;01mfor\u001b[39;00m constraint \u001b[38;5;129;01min\u001b[39;00m constraints:\n\u001b[0;32m    763\u001b[0m         constraint\u001b[38;5;241m.\u001b[39m_problem \u001b[38;5;241m=\u001b[39m \u001b[38;5;28;01mNone\u001b[39;00m  \u001b[38;5;66;03m# This needs to be done in order to not trigger constraint._get_expression()\u001b[39;00m\n",
      "File \u001b[1;32m~\\AppData\\Local\\Programs\\Python\\Python39\\lib\\site-packages\\optlang\\interface.py:1583\u001b[0m, in \u001b[0;36mModel._add_constraints\u001b[1;34m(self, constraints, sloppy)\u001b[0m\n\u001b[0;32m   1581\u001b[0m         \u001b[38;5;28;01mexcept\u001b[39;00m \u001b[38;5;167;01mKeyError\u001b[39;00m:\n\u001b[0;32m   1582\u001b[0m             \u001b[38;5;28mself\u001b[39m\u001b[38;5;241m.\u001b[39m_variables_to_constraints_mapping[var\u001b[38;5;241m.\u001b[39mname] \u001b[38;5;241m=\u001b[39m \u001b[38;5;28mset\u001b[39m([constraint_id])\n\u001b[1;32m-> 1583\u001b[0m \u001b[38;5;28;43mself\u001b[39;49m\u001b[38;5;241;43m.\u001b[39;49m\u001b[43m_constraints\u001b[49m\u001b[38;5;241;43m.\u001b[39;49m\u001b[43mappend\u001b[49m\u001b[43m(\u001b[49m\u001b[43mconstraint\u001b[49m\u001b[43m)\u001b[49m\n\u001b[0;32m   1584\u001b[0m constraint\u001b[38;5;241m.\u001b[39m_problem \u001b[38;5;241m=\u001b[39m \u001b[38;5;28mself\u001b[39m\n",
      "File \u001b[1;32m~\\AppData\\Local\\Programs\\Python\\Python39\\lib\\site-packages\\optlang\\container.py:172\u001b[0m, in \u001b[0;36mContainer.append\u001b[1;34m(self, value)\u001b[0m\n\u001b[0;32m    170\u001b[0m name \u001b[38;5;241m=\u001b[39m value\u001b[38;5;241m.\u001b[39mname\n\u001b[0;32m    171\u001b[0m \u001b[38;5;28;01mif\u001b[39;00m name \u001b[38;5;129;01min\u001b[39;00m \u001b[38;5;28mself\u001b[39m\u001b[38;5;241m.\u001b[39m_dict:\n\u001b[1;32m--> 172\u001b[0m     \u001b[38;5;28;01mraise\u001b[39;00m ContainerAlreadyContains(\u001b[38;5;124m\"\u001b[39m\u001b[38;5;124mContainer \u001b[39m\u001b[38;5;124m'\u001b[39m\u001b[38;5;132;01m%s\u001b[39;00m\u001b[38;5;124m'\u001b[39m\u001b[38;5;124m already contains an object with name \u001b[39m\u001b[38;5;124m'\u001b[39m\u001b[38;5;132;01m%s\u001b[39;00m\u001b[38;5;124m'\u001b[39m\u001b[38;5;124m.\u001b[39m\u001b[38;5;124m\"\u001b[39m \u001b[38;5;241m%\u001b[39m (\u001b[38;5;28mself\u001b[39m, value\u001b[38;5;241m.\u001b[39mname))\n\u001b[0;32m    173\u001b[0m \u001b[38;5;28mself\u001b[39m\u001b[38;5;241m.\u001b[39m_indices[name] \u001b[38;5;241m=\u001b[39m \u001b[38;5;28mlen\u001b[39m(\u001b[38;5;28mself\u001b[39m)\n\u001b[0;32m    174\u001b[0m \u001b[38;5;28mself\u001b[39m\u001b[38;5;241m.\u001b[39m_object_list\u001b[38;5;241m.\u001b[39mappend(value)\n",
      "\u001b[1;31mContainerAlreadyContains\u001b[0m: Container '<optlang.container.Container object at 0x000002E0248BB7C0>' already contains an object with name 'EX_cpd00184_e0-sol0'."
     ]
    }
   ],
   "source": [
    "minimize_components(model)"
   ]
  },
  {
   "cell_type": "code",
   "execution_count": null,
   "id": "b70e98d7",
   "metadata": {},
   "outputs": [],
   "source": []
  },
  {
   "cell_type": "code",
   "execution_count": null,
   "id": "99d986a2",
   "metadata": {},
   "outputs": [],
   "source": []
  },
  {
   "cell_type": "code",
   "execution_count": null,
   "id": "85c29739",
   "metadata": {},
   "outputs": [],
   "source": []
  },
  {
   "cell_type": "code",
   "execution_count": null,
   "id": "ae558282",
   "metadata": {},
   "outputs": [],
   "source": []
  },
  {
   "cell_type": "markdown",
   "id": "aa71c0d6",
   "metadata": {},
   "source": [
    "## Examine the JENGA minimal media"
   ]
  },
  {
   "cell_type": "code",
   "execution_count": 3,
   "id": "683042e4",
   "metadata": {},
   "outputs": [
    {
     "name": "stdout",
     "output_type": "stream",
     "text": [
      "Bacteroides_thetaiotaomicron_VPI-5482.fbamdl.23\n"
     ]
    },
    {
     "name": "stderr",
     "output_type": "stream",
     "text": [
      "C:\\Users\\Andrew Freiburger\\AppData\\Local\\Programs\\Python\\Python39\\lib\\site-packages\\cobra\\medium\\minimal_medium.py:112: FutureWarning: The default dtype for empty Series will be 'object' instead of 'float64' in a future version. Specify a dtype explicitly to silence this warning.\n",
      "  medium = pd.Series()\n"
     ]
    },
    {
     "name": "stdout",
     "output_type": "stream",
     "text": [
      "iML1515\n"
     ]
    },
    {
     "name": "stderr",
     "output_type": "stream",
     "text": [
      "C:\\Users\\Andrew Freiburger\\AppData\\Local\\Programs\\Python\\Python39\\lib\\site-packages\\cobra\\medium\\minimal_medium.py:112: FutureWarning: The default dtype for empty Series will be 'object' instead of 'float64' in a future version. Specify a dtype explicitly to silence this warning.\n",
      "  medium = pd.Series()\n"
     ]
    },
    {
     "name": "stdout",
     "output_type": "stream",
     "text": [
      "40319/40320\r"
     ]
    }
   ],
   "source": [
    "%run ../modelseedpy/core/minimalmediapkg.py\n",
    "comm_media, jenga_removals = MinimalMediaPkg.jenga_method(models, com_model, printing=False)"
   ]
  },
  {
   "cell_type": "markdown",
   "id": "f45feb06-ba44-448e-a483-b641cb3c2116",
   "metadata": {},
   "source": [
    "### with compatibilization"
   ]
  },
  {
   "cell_type": "code",
   "execution_count": 4,
   "id": "4c945860-8bdd-4dde-9886-ea880e6382af",
   "metadata": {},
   "outputs": [
    {
     "name": "stderr",
     "output_type": "stream",
     "text": [
      "C:\\Users\\Andrew Freiburger\\AppData\\Local\\Programs\\Python\\Python39\\lib\\site-packages\\cobra\\core\\model.py:522: DeprecationWarning: add_reaction deprecated. Use add_reactions instead\n",
      "  warn(\"add_reaction deprecated. Use add_reactions instead\", DeprecationWarning)\n",
      "modelseedpy.community.mscompatibility - WARNING - ReactionWarning: The metabolite cpd32553_e0 replacement for hspg_degr_1_e0 already exists in the reaction HEPARL1__DASH__e_c0 | 2 cpd00001_e0 + cpd32553_e0 --> 2 cpd00067_e0 + gam26s_e0 + hspg_degr_1_e0 + hspg_degr_2_e0, which inhibits an update.\n",
      "modelseedpy.community.mscompatibility - WARNING - ModelSEEDError: The old metabolite cpd01399_e0 cross-references ({'AraCyc': ['MALTOTETRAOSE'], 'BiGG': ['maltttr'], 'BrachyCyc': ['MALTOTETRAOSE'], 'KEGG': ['C02052', 'G00457'], 'MetaCyc': ['MALTOTETRAOSE']}) do not overlap with those ({'KEGG': ['C00713', 'G00277', 'G00746'], 'MetaCyc': ['CPD-13556']}) of the new metabolite cpd01399_e0.\n",
      "modelseedpy.community.mscompatibility - WARNING - IDWarning: The original ID cpd01399_e0 is a ModelSEED ID, and may not be desirably changed to cpd00537_e0.\n",
      "modelseedpy.community.mscompatibility - WARNING - IDWarning: The original ID cpd15494_e0 is a ModelSEED ID, and may not be desirably changed to cpd03718_e0.\n",
      "modelseedpy.community.mscompatibility - WARNING - ReactionWarning: The metabolite cpd32553_e0 replacement for gam26s_e0 already exists in the reaction HEPARL1__DASH__e_c0 | 2 cpd00001_e0 + cpd32553_e0 --> 2 cpd00067_e0 + gam26s_e0 + hspg_degr_1_e0 + hspg_degr_2_e0, which inhibits an update.\n",
      "modelseedpy.community.mscompatibility - WARNING - ModelSEEDError: The old metabolite cpd00098_e0 cross-references ({'AraCyc': ['CHOLINE'], 'BiGG': ['chol'], 'BrachyCyc': ['CHOLINE'], 'KEGG': ['C00114'], 'MetaCyc': ['CHOLINE']}) do not overlap with those ({'MetaCyc': ['GLYCO-CT-PHOSPHATE']}) of the new metabolite cpd00098_e0.\n",
      "modelseedpy.community.mscompatibility - WARNING - IDWarning: The original ID cpd00098_e0 is a ModelSEED ID, and may not be desirably changed to cpd32553_e0.\n",
      "modelseedpy.community.mscompatibility - WARNING - ReactionWarning: The metabolite cpd32553_e0 replacement for hspg_degr_2_e0 already exists in the reaction HEPARL1__DASH__e_c0 | 2 cpd00001_e0 + cpd32553_e0 --> 2 cpd00067_e0 + gam26s_e0 + hspg_degr_1_e0 + hspg_degr_2_e0, which inhibits an update.\n",
      "C:\\Users\\Andrew Freiburger\\AppData\\Local\\Programs\\Python\\Python39\\lib\\site-packages\\cobra\\io\\dict.py:89: DeprecationWarning: `np.float` is a deprecated alias for the builtin `float`. To silence this warning, use `float` by itself. Doing this will not modify any behavior and is safe. If you specifically wanted the numpy scalar type, use `np.float64` here.\n",
      "Deprecated in NumPy 1.20; for more details and guidance: https://numpy.org/devdocs/release/1.20.0-notes.html#deprecations\n",
      "  if isinstance(value, np.float):\n",
      "C:\\Users\\Andrew Freiburger\\AppData\\Local\\Programs\\Python\\Python39\\lib\\site-packages\\cobra\\io\\dict.py:91: DeprecationWarning: `np.bool` is a deprecated alias for the builtin `bool`. To silence this warning, use `bool` by itself. Doing this will not modify any behavior and is safe. If you specifically wanted the numpy scalar type, use `np.bool_` here.\n",
      "Deprecated in NumPy 1.20; for more details and guidance: https://numpy.org/devdocs/release/1.20.0-notes.html#deprecations\n",
      "  if isinstance(value, np.bool):\n",
      "modelseedpy.community.mscompatibility - WARNING - IDWarning: The original ID cpd00609_e0 is a ModelSEED ID, and may not be desirably changed to cpd00571_e0.\n",
      "modelseedpy.community.mscompatibility - WARNING - IDWarning: The original ID cpd15411_e0 is a ModelSEED ID, and may not be desirably changed to cpd03294_e0.\n",
      "modelseedpy.community.mscompatibility - WARNING - ReactionWarning: The metabolite cpd03294_e0 replacement for cpd15411_e0 already exists in the reaction rxn08144_e0 | cpd10516_e0 + cpd15411_e0 --> cpd03294_e0, which inhibits an update.\n",
      "modelseedpy.community.mscompatibility - WARNING - ModelSEEDError: The metabolite (metglcur-e_e0 | 1-O-methyl-Beta-D-glucuronate | Omethylbetadglucuronate | 1-O-methyl-Beta-D-glucuronate) is not recognized by the ModelSEED Database\n",
      "modelseedpy.community.mscompatibility - WARNING - IDWarning: The original ID cpd03191_e0 is a ModelSEED ID, and may not be desirably changed to cpd00880_e0.\n"
     ]
    },
    {
     "name": "stdout",
     "output_type": "stream",
     "text": [
      "\n",
      "\n",
      "344 reactions were substituted and 13 metabolite IDs were redefined by standardize().\n",
      "Bacteroides_thetaiotaomicron_VPI-5482.fbamdl.23\n"
     ]
    },
    {
     "ename": "ContainerAlreadyContains",
     "evalue": "Container '<optlang.container.Container object at 0x0000022705E90A30>' already contains an object with name 'bio1'.",
     "output_type": "error",
     "traceback": [
      "\u001b[1;31m---------------------------------------------------------------------------\u001b[0m",
      "\u001b[1;31mContainerAlreadyContains\u001b[0m                  Traceback (most recent call last)",
      "Input \u001b[1;32mIn [4]\u001b[0m, in \u001b[0;36m<cell line: 2>\u001b[1;34m()\u001b[0m\n\u001b[0;32m      1\u001b[0m get_ipython()\u001b[38;5;241m.\u001b[39mrun_line_magic(\u001b[38;5;124m'\u001b[39m\u001b[38;5;124mrun\u001b[39m\u001b[38;5;124m'\u001b[39m, \u001b[38;5;124m'\u001b[39m\u001b[38;5;124m../modelseedpy/core/minimalmediapkg.py\u001b[39m\u001b[38;5;124m'\u001b[39m)\n\u001b[1;32m----> 2\u001b[0m comm_media, jenga_removals \u001b[38;5;241m=\u001b[39m \u001b[43mMinimalMediaPkg\u001b[49m\u001b[38;5;241;43m.\u001b[39;49m\u001b[43mjenga_method\u001b[49m\u001b[43m(\u001b[49m\u001b[43mmodels\u001b[49m\u001b[43m,\u001b[49m\u001b[43m \u001b[49m\u001b[43mcom_model\u001b[49m\u001b[43m,\u001b[49m\u001b[43m \u001b[49m\u001b[43mprinting\u001b[49m\u001b[38;5;241;43m=\u001b[39;49m\u001b[38;5;28;43;01mFalse\u001b[39;49;00m\u001b[43m,\u001b[49m\u001b[43m \u001b[49m\u001b[43mcompatibilize\u001b[49m\u001b[38;5;241;43m=\u001b[39;49m\u001b[38;5;28;43;01mTrue\u001b[39;49;00m\u001b[43m)\u001b[49m\n",
      "File \u001b[1;32m~\\Documents\\Argonne\\ModelSEED\\ModelSEEDpy\\modelseedpy\\core\\minimalmediapkg.py:159\u001b[0m, in \u001b[0;36mMinimalMediaPkg.jenga_method\u001b[1;34m(org_models, com_model, syntrophy, min_growth, conserved_cpds, export, printing, compatibilize)\u001b[0m\n\u001b[0;32m    157\u001b[0m model \u001b[38;5;241m=\u001b[39m org_model\u001b[38;5;241m.\u001b[39mcopy()\n\u001b[0;32m    158\u001b[0m \u001b[38;5;28mprint\u001b[39m(model\u001b[38;5;241m.\u001b[39mid)\n\u001b[1;32m--> 159\u001b[0m media[\u001b[38;5;124m\"\u001b[39m\u001b[38;5;124mmembers\u001b[39m\u001b[38;5;124m\"\u001b[39m][model\u001b[38;5;241m.\u001b[39mid] \u001b[38;5;241m=\u001b[39m {\u001b[38;5;124m\"\u001b[39m\u001b[38;5;124mmedia\u001b[39m\u001b[38;5;124m\"\u001b[39m: \u001b[43mminimal_medium\u001b[49m\u001b[43m(\u001b[49m\u001b[43morg_model\u001b[49m\u001b[43m,\u001b[49m\u001b[43m \u001b[49m\u001b[43mmin_growth\u001b[49m\u001b[43m,\u001b[49m\u001b[43m \u001b[49m\u001b[43mminimize_components\u001b[49m\u001b[38;5;241;43m=\u001b[39;49m\u001b[38;5;28;43;01mTrue\u001b[39;49;00m\u001b[43m)\u001b[49m\u001b[38;5;241m.\u001b[39mto_dict()}\n\u001b[0;32m    160\u001b[0m model\u001b[38;5;241m.\u001b[39mmedium \u001b[38;5;241m=\u001b[39m media[\u001b[38;5;124m\"\u001b[39m\u001b[38;5;124mmembers\u001b[39m\u001b[38;5;124m\"\u001b[39m][model\u001b[38;5;241m.\u001b[39mid][\u001b[38;5;124m\"\u001b[39m\u001b[38;5;124mmedia\u001b[39m\u001b[38;5;124m\"\u001b[39m]\n\u001b[0;32m    161\u001b[0m media[\u001b[38;5;124m\"\u001b[39m\u001b[38;5;124mmembers\u001b[39m\u001b[38;5;124m\"\u001b[39m][model\u001b[38;5;241m.\u001b[39mid][\u001b[38;5;124m\"\u001b[39m\u001b[38;5;124msolution\u001b[39m\u001b[38;5;124m\"\u001b[39m] \u001b[38;5;241m=\u001b[39m FBAHelper\u001b[38;5;241m.\u001b[39msolution_to_dict(model\u001b[38;5;241m.\u001b[39moptimize())\n",
      "File \u001b[1;32m~\\AppData\\Local\\Programs\\Python\\Python39\\lib\\site-packages\\cobra\\medium\\minimal_medium.py:206\u001b[0m, in \u001b[0;36mminimal_medium\u001b[1;34m(model, min_objective_value, exports, minimize_components, open_exchanges)\u001b[0m\n\u001b[0;32m    200\u001b[0m obj_const \u001b[38;5;241m=\u001b[39m mod\u001b[38;5;241m.\u001b[39mproblem\u001b[38;5;241m.\u001b[39mConstraint(\n\u001b[0;32m    201\u001b[0m     mod\u001b[38;5;241m.\u001b[39mobjective\u001b[38;5;241m.\u001b[39mexpression,\n\u001b[0;32m    202\u001b[0m     lb\u001b[38;5;241m=\u001b[39mmin_objective_value,\n\u001b[0;32m    203\u001b[0m     name\u001b[38;5;241m=\u001b[39m\u001b[38;5;124m\"\u001b[39m\u001b[38;5;124mmedium_obj_constraint\u001b[39m\u001b[38;5;124m\"\u001b[39m,\n\u001b[0;32m    204\u001b[0m )\n\u001b[0;32m    205\u001b[0m mod\u001b[38;5;241m.\u001b[39madd_cons_vars([obj_const])\n\u001b[1;32m--> 206\u001b[0m \u001b[43mmod\u001b[49m\u001b[38;5;241;43m.\u001b[39;49m\u001b[43msolver\u001b[49m\u001b[38;5;241;43m.\u001b[39;49m\u001b[43mupdate\u001b[49m\u001b[43m(\u001b[49m\u001b[43m)\u001b[49m\n\u001b[0;32m    207\u001b[0m mod\u001b[38;5;241m.\u001b[39mobjective \u001b[38;5;241m=\u001b[39m Zero\n\u001b[0;32m    208\u001b[0m logger\u001b[38;5;241m.\u001b[39mdebug(\u001b[38;5;124m\"\u001b[39m\u001b[38;5;124mAdding new media objective.\u001b[39m\u001b[38;5;124m\"\u001b[39m)\n",
      "File \u001b[1;32m~\\AppData\\Local\\Programs\\Python\\Python39\\lib\\site-packages\\optlang\\interface.py:1474\u001b[0m, in \u001b[0;36mModel.update\u001b[1;34m(self, callback)\u001b[0m\n\u001b[0;32m   1472\u001b[0m add_constr \u001b[38;5;241m=\u001b[39m \u001b[38;5;28mself\u001b[39m\u001b[38;5;241m.\u001b[39m_pending_modifications\u001b[38;5;241m.\u001b[39madd_constr\n\u001b[0;32m   1473\u001b[0m \u001b[38;5;28;01mif\u001b[39;00m \u001b[38;5;28mlen\u001b[39m(add_constr) \u001b[38;5;241m>\u001b[39m \u001b[38;5;241m0\u001b[39m:\n\u001b[1;32m-> 1474\u001b[0m     \u001b[38;5;28;43mself\u001b[39;49m\u001b[38;5;241;43m.\u001b[39;49m\u001b[43m_add_constraints\u001b[49m\u001b[43m(\u001b[49m\u001b[43madd_constr\u001b[49m\u001b[43m)\u001b[49m\n\u001b[0;32m   1475\u001b[0m     \u001b[38;5;28mself\u001b[39m\u001b[38;5;241m.\u001b[39m_pending_modifications\u001b[38;5;241m.\u001b[39madd_constr \u001b[38;5;241m=\u001b[39m []\n\u001b[0;32m   1477\u001b[0m add_constr_sloppy \u001b[38;5;241m=\u001b[39m \u001b[38;5;28mself\u001b[39m\u001b[38;5;241m.\u001b[39m_pending_modifications\u001b[38;5;241m.\u001b[39madd_constr_sloppy\n",
      "File \u001b[1;32m~\\AppData\\Local\\Programs\\Python\\Python39\\lib\\site-packages\\optlang\\glpk_interface.py:761\u001b[0m, in \u001b[0;36mModel._add_constraints\u001b[1;34m(self, constraints, sloppy)\u001b[0m\n\u001b[0;32m    760\u001b[0m \u001b[38;5;28;01mdef\u001b[39;00m \u001b[38;5;21m_add_constraints\u001b[39m(\u001b[38;5;28mself\u001b[39m, constraints, sloppy\u001b[38;5;241m=\u001b[39m\u001b[38;5;28;01mFalse\u001b[39;00m):\n\u001b[1;32m--> 761\u001b[0m     \u001b[38;5;28;43msuper\u001b[39;49m\u001b[43m(\u001b[49m\u001b[43mModel\u001b[49m\u001b[43m,\u001b[49m\u001b[43m \u001b[49m\u001b[38;5;28;43mself\u001b[39;49m\u001b[43m)\u001b[49m\u001b[38;5;241;43m.\u001b[39;49m\u001b[43m_add_constraints\u001b[49m\u001b[43m(\u001b[49m\u001b[43mconstraints\u001b[49m\u001b[43m,\u001b[49m\u001b[43m \u001b[49m\u001b[43msloppy\u001b[49m\u001b[38;5;241;43m=\u001b[39;49m\u001b[43msloppy\u001b[49m\u001b[43m)\u001b[49m\n\u001b[0;32m    762\u001b[0m     \u001b[38;5;28;01mfor\u001b[39;00m constraint \u001b[38;5;129;01min\u001b[39;00m constraints:\n\u001b[0;32m    763\u001b[0m         constraint\u001b[38;5;241m.\u001b[39m_problem \u001b[38;5;241m=\u001b[39m \u001b[38;5;28;01mNone\u001b[39;00m  \u001b[38;5;66;03m# This needs to be done in order to not trigger constraint._get_expression()\u001b[39;00m\n",
      "File \u001b[1;32m~\\AppData\\Local\\Programs\\Python\\Python39\\lib\\site-packages\\optlang\\interface.py:1577\u001b[0m, in \u001b[0;36mModel._add_constraints\u001b[1;34m(self, constraints, sloppy)\u001b[0m\n\u001b[0;32m   1575\u001b[0m missing_vars \u001b[38;5;241m=\u001b[39m [var \u001b[38;5;28;01mfor\u001b[39;00m var \u001b[38;5;129;01min\u001b[39;00m variables \u001b[38;5;28;01mif\u001b[39;00m var\u001b[38;5;241m.\u001b[39mproblem \u001b[38;5;129;01mis\u001b[39;00m \u001b[38;5;129;01mnot\u001b[39;00m \u001b[38;5;28mself\u001b[39m]\n\u001b[0;32m   1576\u001b[0m \u001b[38;5;28;01mif\u001b[39;00m \u001b[38;5;28mlen\u001b[39m(missing_vars) \u001b[38;5;241m>\u001b[39m \u001b[38;5;241m0\u001b[39m:\n\u001b[1;32m-> 1577\u001b[0m     \u001b[38;5;28;43mself\u001b[39;49m\u001b[38;5;241;43m.\u001b[39;49m\u001b[43m_add_variables\u001b[49m\u001b[43m(\u001b[49m\u001b[43mmissing_vars\u001b[49m\u001b[43m)\u001b[49m\n\u001b[0;32m   1578\u001b[0m \u001b[38;5;28;01mfor\u001b[39;00m var \u001b[38;5;129;01min\u001b[39;00m variables:\n\u001b[0;32m   1579\u001b[0m     \u001b[38;5;28;01mtry\u001b[39;00m:\n",
      "File \u001b[1;32m~\\AppData\\Local\\Programs\\Python\\Python39\\lib\\site-packages\\optlang\\glpk_interface.py:739\u001b[0m, in \u001b[0;36mModel._add_variables\u001b[1;34m(self, variables)\u001b[0m\n\u001b[0;32m    737\u001b[0m     \u001b[38;5;28mself\u001b[39m\u001b[38;5;241m.\u001b[39m_glpk_set_col_bounds(variable)\n\u001b[0;32m    738\u001b[0m     glp_set_col_kind(\u001b[38;5;28mself\u001b[39m\u001b[38;5;241m.\u001b[39mproblem, variable\u001b[38;5;241m.\u001b[39m_index, _VTYPE_TO_GLPK_VTYPE[variable\u001b[38;5;241m.\u001b[39mtype])\n\u001b[1;32m--> 739\u001b[0m \u001b[38;5;28;43msuper\u001b[39;49m\u001b[43m(\u001b[49m\u001b[43mModel\u001b[49m\u001b[43m,\u001b[49m\u001b[43m \u001b[49m\u001b[38;5;28;43mself\u001b[39;49m\u001b[43m)\u001b[49m\u001b[38;5;241;43m.\u001b[39;49m\u001b[43m_add_variables\u001b[49m\u001b[43m(\u001b[49m\u001b[43mvariables\u001b[49m\u001b[43m)\u001b[49m\n",
      "File \u001b[1;32m~\\AppData\\Local\\Programs\\Python\\Python39\\lib\\site-packages\\optlang\\interface.py:1537\u001b[0m, in \u001b[0;36mModel._add_variables\u001b[1;34m(self, variables)\u001b[0m\n\u001b[0;32m   1535\u001b[0m \u001b[38;5;28;01mdef\u001b[39;00m \u001b[38;5;21m_add_variables\u001b[39m(\u001b[38;5;28mself\u001b[39m, variables):\n\u001b[0;32m   1536\u001b[0m     \u001b[38;5;28;01mfor\u001b[39;00m variable \u001b[38;5;129;01min\u001b[39;00m variables:\n\u001b[1;32m-> 1537\u001b[0m         \u001b[38;5;28;43mself\u001b[39;49m\u001b[38;5;241;43m.\u001b[39;49m\u001b[43m_variables\u001b[49m\u001b[38;5;241;43m.\u001b[39;49m\u001b[43mappend\u001b[49m\u001b[43m(\u001b[49m\u001b[43mvariable\u001b[49m\u001b[43m)\u001b[49m\n\u001b[0;32m   1538\u001b[0m         \u001b[38;5;28mself\u001b[39m\u001b[38;5;241m.\u001b[39m_variables_to_constraints_mapping[variable\u001b[38;5;241m.\u001b[39mname] \u001b[38;5;241m=\u001b[39m \u001b[38;5;28mset\u001b[39m([])\n\u001b[0;32m   1539\u001b[0m         variable\u001b[38;5;241m.\u001b[39mproblem \u001b[38;5;241m=\u001b[39m \u001b[38;5;28mself\u001b[39m\n",
      "File \u001b[1;32m~\\AppData\\Local\\Programs\\Python\\Python39\\lib\\site-packages\\optlang\\container.py:172\u001b[0m, in \u001b[0;36mContainer.append\u001b[1;34m(self, value)\u001b[0m\n\u001b[0;32m    170\u001b[0m name \u001b[38;5;241m=\u001b[39m value\u001b[38;5;241m.\u001b[39mname\n\u001b[0;32m    171\u001b[0m \u001b[38;5;28;01mif\u001b[39;00m name \u001b[38;5;129;01min\u001b[39;00m \u001b[38;5;28mself\u001b[39m\u001b[38;5;241m.\u001b[39m_dict:\n\u001b[1;32m--> 172\u001b[0m     \u001b[38;5;28;01mraise\u001b[39;00m ContainerAlreadyContains(\u001b[38;5;124m\"\u001b[39m\u001b[38;5;124mContainer \u001b[39m\u001b[38;5;124m'\u001b[39m\u001b[38;5;132;01m%s\u001b[39;00m\u001b[38;5;124m'\u001b[39m\u001b[38;5;124m already contains an object with name \u001b[39m\u001b[38;5;124m'\u001b[39m\u001b[38;5;132;01m%s\u001b[39;00m\u001b[38;5;124m'\u001b[39m\u001b[38;5;124m.\u001b[39m\u001b[38;5;124m\"\u001b[39m \u001b[38;5;241m%\u001b[39m (\u001b[38;5;28mself\u001b[39m, value\u001b[38;5;241m.\u001b[39mname))\n\u001b[0;32m    173\u001b[0m \u001b[38;5;28mself\u001b[39m\u001b[38;5;241m.\u001b[39m_indices[name] \u001b[38;5;241m=\u001b[39m \u001b[38;5;28mlen\u001b[39m(\u001b[38;5;28mself\u001b[39m)\n\u001b[0;32m    174\u001b[0m \u001b[38;5;28mself\u001b[39m\u001b[38;5;241m.\u001b[39m_object_list\u001b[38;5;241m.\u001b[39mappend(value)\n",
      "\u001b[1;31mContainerAlreadyContains\u001b[0m: Container '<optlang.container.Container object at 0x0000022705E90A30>' already contains an object with name 'bio1'."
     ]
    }
   ],
   "source": [
    "%run ../modelseedpy/core/minimalmediapkg.py\n",
    "comm_media, jenga_removals = MinimalMediaPkg.jenga_method(models, com_model, printing=False, compatibilize=True)"
   ]
  }
 ],
 "metadata": {
  "kernelspec": {
   "display_name": "Python 3 (ipykernel)",
   "language": "python",
   "name": "python3"
  },
  "language_info": {
   "codemirror_mode": {
    "name": "ipython",
    "version": 3
   },
   "file_extension": ".py",
   "mimetype": "text/x-python",
   "name": "python",
   "nbconvert_exporter": "python",
   "pygments_lexer": "ipython3",
   "version": "3.9.12"
  }
 },
 "nbformat": 4,
 "nbformat_minor": 5
}
