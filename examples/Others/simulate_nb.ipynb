{
 "cells": [
  {
   "cell_type": "markdown",
   "id": "bc4f0d77-e7f8-4a72-9157-a116349e8fce",
   "metadata": {},
   "source": [
    "# Simulating a Model"
   ]
  },
  {
   "cell_type": "markdown",
   "id": "6e45cfa7-17bb-4c8c-afdf-6b02eb3120c9",
   "metadata": {},
   "source": [
    "Complete ``COBRAkbase`` models can be simulated through a multitude of FBA methods, and a subset of community methods. Individual and community ``COBRAkbase`` models can initially be constrained for various biochemical and physical processes."
   ]
  },
  {
   "cell_type": "markdown",
   "id": "090789a9-e2a9-4903-9ee2-ac4e0f038cd5",
   "metadata": {},
   "source": [
    "## Constraints"
   ]
  },
  {
   "cell_type": "markdown",
   "id": "73a91ea3-c298-48f2-bbd0-0d4221631393",
   "metadata": {},
   "source": [
    "### Elemental uptake"
   ]
  },
  {
   "cell_type": "markdown",
   "id": "00faa3ba-8be7-4003-9aa4-8d5577ea80c7",
   "metadata": {},
   "source": [
    "The total uptake of specific elements can be constrained through the ``ElementUptakePkg`` package:"
   ]
  },
  {
   "cell_type": "code",
   "execution_count": null,
   "id": "e26da492-3ccb-4acb-8bdb-f31d9812e4ed",
   "metadata": {},
   "outputs": [],
   "source": [
    "from modelseedpy.fbapkg import ElementUptakePkg\n",
    "eleup = ElementUptakePkg(model)\n",
    "eleup.build_package(element_limits)"
   ]
  },
  {
   "cell_type": "markdown",
   "id": "cebaa166-0f9f-4176-a2ff-36818303066f",
   "metadata": {},
   "source": [
    "The package applies uptake limits for any elemental symbol (``values`` and ``keys`` of the ``element_limits`` dictionary, respectively) to a given model. "
   ]
  },
  {
   "cell_type": "markdown",
   "id": "460dbd7a-00e9-4e6c-8c50-cc853819c473",
   "metadata": {},
   "source": [
    "### Reaction Thermodynamics"
   ]
  },
  {
   "cell_type": "markdown",
   "id": "dbcdb1d8-db93-4d43-aff6-f10b98ea4494",
   "metadata": {},
   "source": [
    "The thermodynamic free energy of each reaction, and variable formation energies of each metabolite, can be constrained through the ``FullThermoPkg`` package:"
   ]
  },
  {
   "cell_type": "code",
   "execution_count": null,
   "id": "2b5c8c47-12bb-42cf-b21d-dbe0ac2aaa08",
   "metadata": {},
   "outputs": [],
   "source": [
    "from modelseedpy.fbapkg import FullThermoPkg\n",
    "tfa = FullThermoPkg(model)\n",
    "tfa.build_package(parameters)"
   ]
  },
  {
   "cell_type": "markdown",
   "id": "26341521-0618-4b39-9f4a-483dfae818e0",
   "metadata": {},
   "source": [
    "The package applies free energy constraints for all reactions in a given model, based upon the free energy data in the ModelSEED Database. The user must specify the ``\"modelseed_db_path\" `` in the argument (*parameters* ``dict``). The user is also able to redefine default values through *parameters*, which is detailed in the respective API documentation.\n",
    "\n",
    "An example of ``FullThermoPkg`` is available `here <flux_analysis/FullThermodynamicsExample>`_ ."
   ]
  },
  {
   "cell_type": "markdown",
   "id": "a3906637-abb0-400e-a817-c1b339ab4dc7",
   "metadata": {},
   "source": [
    "### "
   ]
  },
  {
   "cell_type": "code",
   "execution_count": null,
   "id": "e773750c-1d70-48e9-b990-ff518d97ee03",
   "metadata": {},
   "outputs": [],
   "source": []
  },
  {
   "cell_type": "markdown",
   "id": "68c5c549-bf62-4f59-82e2-5f306f5e3bd3",
   "metadata": {},
   "source": [
    "### "
   ]
  },
  {
   "cell_type": "code",
   "execution_count": null,
   "id": "50d79145-38ff-4a6d-bf49-e75406044082",
   "metadata": {},
   "outputs": [],
   "source": []
  },
  {
   "cell_type": "markdown",
   "id": "9eccd63e-d38a-4438-b01a-df9c2fe59cca",
   "metadata": {},
   "source": [
    "### "
   ]
  },
  {
   "cell_type": "code",
   "execution_count": null,
   "id": "cc541306-2bbf-48b3-b9ee-2e4360848abf",
   "metadata": {},
   "outputs": [],
   "source": []
  },
  {
   "cell_type": "code",
   "execution_count": null,
   "id": "8c287442-e5d7-4d41-bdb1-6ece71783f64",
   "metadata": {},
   "outputs": [],
   "source": []
  }
 ],
 "metadata": {
  "kernelspec": {
   "display_name": "Python 3 (ipykernel)",
   "language": "python",
   "name": "python3"
  },
  "language_info": {
   "codemirror_mode": {
    "name": "ipython",
    "version": 3
   },
   "file_extension": ".py",
   "mimetype": "text/x-python",
   "name": "python",
   "nbconvert_exporter": "python",
   "pygments_lexer": "ipython3",
   "version": "3.9.12"
  }
 },
 "nbformat": 4,
 "nbformat_minor": 5
}
