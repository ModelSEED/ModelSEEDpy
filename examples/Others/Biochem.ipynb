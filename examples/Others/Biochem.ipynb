{
 "cells": [
  {
   "cell_type": "code",
   "execution_count": 1,
   "metadata": {},
   "outputs": [
    {
     "name": "stdout",
     "output_type": "stream",
     "text": [
      "cobrakbase 0.2.8\n"
     ]
    }
   ],
   "source": [
    "import modelseedpy\n",
    "import cobrakbase"
   ]
  },
  {
   "cell_type": "code",
   "execution_count": 2,
   "metadata": {},
   "outputs": [],
   "source": [
    "modelseed = modelseedpy.biochem.from_local('../../../ModelSEEDDatabase')"
   ]
  },
  {
   "cell_type": "code",
   "execution_count": 3,
   "metadata": {},
   "outputs": [
    {
     "data": {
      "text/plain": [
       "modelseedpy.biochem.modelseed_biochem.ModelSEEDBiochem"
      ]
     },
     "execution_count": 3,
     "metadata": {},
     "output_type": "execute_result"
    }
   ],
   "source": [
    "type(modelseed)"
   ]
  },
  {
   "cell_type": "code",
   "execution_count": 5,
   "metadata": {},
   "outputs": [
    {
     "data": {
      "text/plain": [
       "{'C00001', 'C01328'}"
      ]
     },
     "execution_count": 5,
     "metadata": {},
     "output_type": "execute_result"
    }
   ],
   "source": [
    "modelseed.compound_aliases['cpd00001']['KEGG']"
   ]
  },
  {
   "cell_type": "code",
   "execution_count": 2,
   "metadata": {},
   "outputs": [],
   "source": [
    "kbase = cobrakbase.KBaseAPI()"
   ]
  },
  {
   "cell_type": "code",
   "execution_count": 102,
   "metadata": {},
   "outputs": [
    {
     "name": "stdout",
     "output_type": "stream",
     "text": [
      "12218/444/1\n"
     ]
    }
   ],
   "source": [
    "template = kbase.get_from_ws('CoreBacteria_updated', 12218)\n",
    "print(template.info)"
   ]
  },
  {
   "cell_type": "code",
   "execution_count": 103,
   "metadata": {},
   "outputs": [],
   "source": [
    "from cobrakbase.core.kbasefba.newmodeltemplate_metabolite import NewModelTemplateCompound\n",
    "compounds = {}\n",
    "for cc in template.compcompounds:\n",
    "    if cc.compound is None:\n",
    "        cpd = modelseed.get_seed_compound(cc.id[:-2])\n",
    "        if cpd.id not in compounds:\n",
    "            template_compound = NewModelTemplateCompound(cpd.id, cpd.formula, cpd.name)\n",
    "            compounds[template_compound.id] = NewModelTemplateCompound(cpd.id, cpd.formula, cpd.name)\n",
    "            print(cpd)"
   ]
  },
  {
   "cell_type": "code",
   "execution_count": 101,
   "metadata": {},
   "outputs": [
    {
     "data": {
      "text/plain": [
       "<cobrakbase.kbase_object_info.KBaseObjectInfo at 0x7fc27bc0bed0>"
      ]
     },
     "execution_count": 101,
     "metadata": {},
     "output_type": "execute_result"
    }
   ],
   "source": [
    "kbase.save_object('CoreBacteria_updated', 12218, template.info.type, template)"
   ]
  },
  {
   "cell_type": "code",
   "execution_count": 100,
   "metadata": {},
   "outputs": [],
   "source": [
    "template.add_compounds(list(compounds.values()))"
   ]
  },
  {
   "cell_type": "code",
   "execution_count": 91,
   "metadata": {},
   "outputs": [
    {
     "data": {
      "text/html": [
       "\n",
       "        <table>\n",
       "            <tr>\n",
       "                <td><strong>Compound identifier</strong></td><td>cpd26984</td>\n",
       "            </tr><tr>\n",
       "                <td><strong>Name</strong></td><td>DsrC-disulfide-form</td>\n",
       "            </tr><tr>\n",
       "                <td><strong>Memory address</strong></td>\n",
       "                <td>0x07fc27bc0b710</td>\n",
       "            </tr><tr>\n",
       "                <td><strong>Formula</strong></td><td>C6H9N2O2R3S2</td>\n",
       "            </tr><tr>\n",
       "                <td><strong>In 0 species</strong></td><td>\n",
       "                    </td>\n",
       "            </tr>\n",
       "        </table>"
      ],
      "text/plain": [
       "<NewModelTemplateCompound cpd26984 at 0x7fc27bc0b710>"
      ]
     },
     "execution_count": 91,
     "metadata": {},
     "output_type": "execute_result"
    }
   ],
   "source": [
    "\n",
    "template_compound"
   ]
  },
  {
   "cell_type": "code",
   "execution_count": 90,
   "metadata": {},
   "outputs": [
    {
     "data": {
      "text/html": [
       "\n",
       "        <table>\n",
       "            <tr>\n",
       "                <td><strong>Compound identifier</strong></td><td>cpd26984</td>\n",
       "            </tr><tr>\n",
       "                <td><strong>Name</strong></td><td>DsrC-disulfide-form</td>\n",
       "            </tr><tr>\n",
       "                <td><strong>Memory address</strong></td>\n",
       "                <td>0x07fc27bb9ea50</td>\n",
       "            </tr><tr>\n",
       "                <td><strong>Formula</strong></td><td>C6H9N2O2R3S2</td>\n",
       "            </tr><tr>\n",
       "                <td><strong>In 0 species</strong></td><td>\n",
       "                    </td>\n",
       "            </tr>\n",
       "        </table>"
      ],
      "text/plain": [
       "<NewModelTemplateCompound cpd26984 at 0x7fc27bb9ea50>"
      ]
     },
     "execution_count": 90,
     "metadata": {},
     "output_type": "execute_result"
    }
   ],
   "source": []
  },
  {
   "cell_type": "code",
   "execution_count": 104,
   "metadata": {},
   "outputs": [],
   "source": [
    "template_reaction = template.reactions.rxa45615_c"
   ]
  },
  {
   "cell_type": "code",
   "execution_count": 17,
   "metadata": {},
   "outputs": [
    {
     "data": {
      "text/plain": [
       "{'id': 'rxa45615_c',\n",
       " 'name': 'rxa45615_c',\n",
       " 'GapfillDirection': '=',\n",
       " 'base_cost': 1000,\n",
       " 'reverse_penalty': 1000,\n",
       " 'forward_penalty': 1000,\n",
       " 'upper_bound': 1000,\n",
       " 'lower_bound': -1000,\n",
       " 'direction': '=',\n",
       " 'maxforflux': 1000,\n",
       " 'maxrevflux': 1000.0,\n",
       " 'reaction_ref': 'kbase/default/reactions/id/rxa45615',\n",
       " 'templateReactionReagents': [{'coefficient': -2,\n",
       "   'templatecompcompound_ref': '~/compcompounds/id/cpd00067_c'},\n",
       "  {'coefficient': -3,\n",
       "   'templatecompcompound_ref': '~/compcompounds/id/cpd00971_c'},\n",
       "  {'coefficient': -2,\n",
       "   'templatecompcompound_ref': '~/compcompounds/id/cpd11620_c'},\n",
       "  {'coefficient': -1,\n",
       "   'templatecompcompound_ref': '~/compcompounds/id/cpd08701_c'},\n",
       "  {'coefficient': 2,\n",
       "   'templatecompcompound_ref': '~/compcompounds/id/cpd00067_e'},\n",
       "  {'coefficient': 3,\n",
       "   'templatecompcompound_ref': '~/compcompounds/id/cpd00971_e'},\n",
       "  {'coefficient': 2,\n",
       "   'templatecompcompound_ref': '~/compcompounds/id/cpd11621_c'},\n",
       "  {'coefficient': 1,\n",
       "   'templatecompcompound_ref': '~/compcompounds/id/cpd08702_c'}],\n",
       " 'templatecompartment_ref': '~/compartments/id/c',\n",
       " 'templatecomplex_refs': [],\n",
       " 'type': 'spontaneous'}"
      ]
     },
     "execution_count": 17,
     "metadata": {},
     "output_type": "execute_result"
    }
   ],
   "source": [
    "template_reaction.get_data()"
   ]
  },
  {
   "cell_type": "code",
   "execution_count": 105,
   "metadata": {},
   "outputs": [
    {
     "name": "stdout",
     "output_type": "stream",
     "text": [
      "<class 'cobrakbase.core.kbasefba.newmodeltemplate_metabolite.NewModelTemplateCompCompound'> 140472454487120 cpd00067_c cpd00067:H+ H+\n",
      "<class 'cobrakbase.core.kbasefba.newmodeltemplate_metabolite.NewModelTemplateCompCompound'> 140472433862480 cpd00971_c cpd00971:Na+ Na+\n",
      "<class 'cobrakbase.core.kbasefba.newmodeltemplate_metabolite.NewModelTemplateCompCompound'> 140472454486480 cpd11620_c cpd11620:Reducedferredoxin Reducedferredoxin\n",
      "<class 'cobrakbase.core.kbasefba.newmodeltemplate_metabolite.NewModelTemplateCompCompound'> 140472433931728 cpd08701_c cpd08701:Methanophenazine Methanophenazine\n",
      "<class 'cobrakbase.core.kbasefba.newmodeltemplate_metabolite.NewModelTemplateCompCompound'> 140472433821840 cpd00067_e cpd00067:H+ H+\n",
      "<class 'cobrakbase.core.kbasefba.newmodeltemplate_metabolite.NewModelTemplateCompCompound'> 140472433861840 cpd00971_e cpd00971:Na+ Na+\n",
      "<class 'cobrakbase.core.kbasefba.newmodeltemplate_metabolite.NewModelTemplateCompCompound'> 140472433893520 cpd11621_c cpd11621:Oxidizedferredoxin Oxidizedferredoxin\n",
      "<class 'cobrakbase.core.kbasefba.newmodeltemplate_metabolite.NewModelTemplateCompCompound'> 140472433931856 cpd08702_c cpd08702:Dihydromethanophenazine Dihydromethanophenazine\n"
     ]
    }
   ],
   "source": [
    "for o in template_reaction.metabolites:\n",
    "    print(type(o), id(o), o.id, o.compound, o.name)"
   ]
  },
  {
   "cell_type": "code",
   "execution_count": 65,
   "metadata": {},
   "outputs": [
    {
     "data": {
      "text/plain": [
       "{'charge': 0,\n",
       " 'id': 'cpd08701_c',\n",
       " 'maxuptake': 0,\n",
       " 'templatecompartment_ref': '~/compartments/id/c',\n",
       " 'templatecompound_ref': '~/compounds/id/cpd08701'}"
      ]
     },
     "execution_count": 65,
     "metadata": {},
     "output_type": "execute_result"
    }
   ],
   "source": [
    "template.compcompounds.cpd08701_c.get_data()"
   ]
  },
  {
   "cell_type": "code",
   "execution_count": null,
   "metadata": {},
   "outputs": [],
   "source": []
  },
  {
   "cell_type": "code",
   "execution_count": 58,
   "metadata": {},
   "outputs": [
    {
     "data": {
      "text/plain": [
       "140472724747984"
      ]
     },
     "execution_count": 58,
     "metadata": {},
     "output_type": "execute_result"
    }
   ],
   "source": [
    "id(template.compcompounds.cpd08701_c.cpd08701_c)"
   ]
  },
  {
   "cell_type": "code",
   "execution_count": 61,
   "metadata": {},
   "outputs": [
    {
     "data": {
      "text/html": [
       "\n",
       "        <table>\n",
       "            <tr>\n",
       "                <td><strong>Metabolite identifier</strong></td><td>cpd08701_c</td>\n",
       "            </tr><tr>\n",
       "                <td><strong>Name</strong></td><td></td>\n",
       "            </tr><tr>\n",
       "                <td><strong>Memory address</strong></td>\n",
       "                <td>0x07fc25936bb90</td>\n",
       "            </tr><tr>\n",
       "                <td><strong>Formula</strong></td><td></td>\n",
       "            </tr><tr>\n",
       "                <td><strong>Compartment</strong></td><td>c</td>\n",
       "            </tr><tr>\n",
       "                <td><strong>In 3 reaction(s)</strong></td><td>\n",
       "                    rxn03126_c, rxa45615_c, rxn15961_c</td>\n",
       "            </tr>\n",
       "        </table>"
      ],
      "text/plain": [
       "<NewModelTemplateCompCompound cpd08701_c at 0x7fc25936bb90>"
      ]
     },
     "execution_count": 61,
     "metadata": {},
     "output_type": "execute_result"
    }
   ],
   "source": [
    "template.compcompounds.cpd08701_c"
   ]
  },
  {
   "cell_type": "code",
   "execution_count": 134,
   "metadata": {},
   "outputs": [
    {
     "name": "stdout",
     "output_type": "stream",
     "text": [
      "(1) cpd00001[0] + (1) cpd00012[0] <=> (2) cpd00009[0] = >\n",
      "(1) cpd00001[0] + (1) cpd00742[0] <=> (2) cpd00011[0] + (2) cpd00013[0] > >\n",
      "(1) cpd00011[0] + (1) cpd00668[0] <=> (2) cpd00020[0] < <\n",
      "(1) cpd02570[0] <=> (2) cpd00020[0] = =\n",
      "(2) cpd00025[0] <=> (2) cpd00001[0] + (1) cpd00007[0] > >\n",
      "(1) cpd00001[0] + (1) cpd00794[0] <=> (2) cpd00027[0] > =\n",
      "(2) cpd00001[0] <=> (1) cpd00025[0] = <\n",
      "(2) cpd00038[0] <=> (1) cpd00012[0] + (1) cpd00925[0] > =\n",
      "(2) cpd00040[0] <=> (1) cpd00011[0] + (1) cpd00843[0] > =\n",
      "(1) cpd00011[0] + (1) cpd03049[0] <=> (1) cpd00020[0] + (1) cpd00056[0] > <\n",
      "(2) cpd00076[0] <=> (1) cpd00027[0] + (1) cpd02298[0] = =\n"
     ]
    }
   ],
   "source": [
    "i =0 \n",
    "for r in modelseed.reactions:\n",
    "    print(modelseed.reactions[r]['code'], modelseed.reactions[r]['direction'], modelseed.reactions[r]['reversibility'])\n",
    "    #print(modelseed.reactions[r]['code'])\n",
    "    #print(modelseed.reactions[r]['stoichiometry'])\n",
    "    #print(modelseed.reactions[r]['definition'])\n",
    "    \n",
    "    \n",
    "    i+= 1\n",
    "    if i > 10:\n",
    "        break"
   ]
  },
  {
   "cell_type": "code",
   "execution_count": 153,
   "metadata": {},
   "outputs": [
    {
     "data": {
      "text/plain": [
       "{'id': 'rxa45615',\n",
       " 'abbreviation': '',\n",
       " 'name': 'rxa45615_c',\n",
       " 'code': '(2.0) cpd00067[0] + (3.0) cpd00971[0] + (2.0) cpd11620[0] + (1.0) cpd08701[0] <=> (2.0) cpd00067[1] + (3.0) cpd00971[1] + (2.0) cpd11621[0] + (1.0) cpd08702[0]',\n",
       " 'stoichiometry': '-2:cpd00067:0:0:H+;-3:cpd00971:0:0:Na+;-2:cpd11620:0:0:Reducedferredoxin;-1:cpd08701:0:0:Methanophenazine;2:cpd00067:1:0:H+;3:cpd00971:1:0:Na+;2:cpd11621:0:0:Oxidizedferredoxin;1:cpd08702:0:0:Dihydromethanophenazine',\n",
       " 'is_transport': 0,\n",
       " 'equation': '(2.0) cpd00067[0] + (3.0) cpd00971[0] + (2.0) cpd11620[0] + (1.0) cpd08701[0] <=> (2.0) cpd00067[1] + (3.0) cpd00971[1] + (2.0) cpd11621[0] + (1.0) cpd08702[0]',\n",
       " 'definition': '(2.0) H+[0] + (3.0) Na+[0] + (2.0) Reducedferredoxin[0] + (1.0) Methanophenazine[0] <=> (2.0) H+[1] + (3.0) Na+[1] + (2.0) Oxidizedferredoxin[0] + (1.0) Dihydromethanophenazine[0]',\n",
       " 'reversibility': '=',\n",
       " 'direction': '=',\n",
       " 'abstract_reaction': '',\n",
       " 'pathways': '',\n",
       " 'aliases': '',\n",
       " 'ec_numbers': '',\n",
       " 'deltag': 10000000.0,\n",
       " 'deltagerr': 10000000.0,\n",
       " 'compound_ids': 'cpd00003;cpd00004;cpd00067;cpd00971;cpd27757;cpd28082',\n",
       " 'status': 'OK',\n",
       " 'is_obsolete': 0,\n",
       " 'linked_reaction': 'nan',\n",
       " 'notes': 'GCP|EQP',\n",
       " 'source': None}"
      ]
     },
     "execution_count": 153,
     "metadata": {},
     "output_type": "execute_result"
    }
   ],
   "source": [
    "import math\n",
    "from modelseedpy.core.msmodel import get_direction_from_constraints\n",
    "eq_symbol = {'=': '<=>', '>': '=>', '<': '<='}\n",
    "def to_biochem(template_reaction, compartments: dict, source=None):\n",
    "    direaction_symbol = get_direction_from_constraints(template_reaction.lower_bound, template_reaction.upper_bound)\n",
    "    data = {\n",
    "        'id': template_reaction.reference_id,\n",
    "        'abbreviation': '',\n",
    "        'name': template_reaction.name,\n",
    "        'code': '(1) cpd00003[0] + (1) cpd00971[0] + (2) cpd28082[0] <=> (1) cpd00004[0] + (1) cpd00971[1] + (2) cpd27757[0]',\n",
    "        'stoichiometry': '-1:cpd00003:0:0:NAD;-1:cpd00067:0:0:H+;-1:cpd00971:0:0:Na+;-2:cpd28082:0:0:Reduced-ferredoxins;1:cpd00004:0:0:NADH;1:cpd00971:1:0:Na+;2:cpd27757:0:0:Oxidized-ferredoxins',\n",
    "        'is_transport': 0,\n",
    "        'equation': '(1) cpd00003[0] + (1) cpd00067[0] + (1) cpd00971[0] + (2) cpd28082[0] <=> (1) cpd00004[0] + (1) cpd00971[1] + (2) cpd27757[0]',\n",
    "        'definition': '(1) NAD[0] + (1) H+[0] + (1) Na+[0] + (2) Reduced-ferredoxins[0] <=> (1) NADH[0] + (1) Na+[1] + (2) Oxidized-ferredoxins[0]',\n",
    "        'reversibility': direaction_symbol,\n",
    "        'direction': direaction_symbol,\n",
    "        'abstract_reaction': '',\n",
    "        'pathways': '',\n",
    "        'aliases': '',\n",
    "        'ec_numbers': '',\n",
    "        'deltag': 10000000.0,\n",
    "        'deltagerr': 10000000.0,\n",
    "        'compound_ids': 'cpd00003;cpd00004;cpd00067;cpd00971;cpd27757;cpd28082',\n",
    "        'status': 'OK',\n",
    "        'is_obsolete': 0,\n",
    "        'linked_reaction': 'nan',\n",
    "        'notes': 'GCP|EQP',\n",
    "        'source': source\n",
    "    }\n",
    "    lhs = list(filter(lambda x: x[1] < 0, template_reaction.metabolites.items()))\n",
    "    rhs = list(filter(lambda x: x[1] > 0, template_reaction.metabolites.items()))\n",
    "    map_code_lhs = list(map(lambda x: \"({}) {}[{}]\".format(math.fabs(x[1]), x[0].compound.id, compartments[x[0].compartment]), lhs))\n",
    "    map_code_rhs = list(map(lambda x: \"({}) {}[{}]\".format(math.fabs(x[1]), x[0].compound.id, compartments[x[0].compartment]), rhs))\n",
    "    map_name_lhs = map(lambda x: \"({}) {}[{}]\".format(math.fabs(x[1]), x[0].compound.name, compartments[x[0].compartment]), lhs)\n",
    "    map_name_rhs = map(lambda x: \"({}) {}[{}]\".format(math.fabs(x[1]), x[0].compound.name, compartments[x[0].compartment]), rhs)\n",
    "    map_stoich = map(lambda x: \"{}:{}:{}:{}:{}\".format(x[1], x[0].compound.id, compartments[x[0].compartment], 0, x[0].compound.name), template_reaction.metabolites.items())\n",
    "    data['stoichiometry'] = ';'.join(map_stoich)\n",
    "    data['code'] = \"{} <=> {}\".format(' + '.join(map_code_lhs), ' + '.join(map_code_rhs)).strip()\n",
    "    data['equation'] = \"{} {} {}\".format(' + '.join(map_code_lhs), eq_symbol[direaction_symbol], ' + '.join(map_code_rhs)).strip()\n",
    "    data['definition'] = \"{} {} {}\".format(' + '.join(map_name_lhs), eq_symbol[direaction_symbol], ' + '.join(map_name_rhs)).strip()\n",
    "    return data\n",
    "to_biochem(template.reactions.rxa45615_c, {'c': 0, 'e': 1})"
   ]
  },
  {
   "cell_type": "code",
   "execution_count": 157,
   "metadata": {},
   "outputs": [],
   "source": [
    "extra_reactions = {}\n",
    "extract_ids = ['sul00002_c', 'sul00003_c', 'sul00004_c', 'sul00008_c', 'sul00010_c', 'rxa45615_c']\n",
    "for k in extract_ids:\n",
    "    res = to_biochem(template.reactions.get_by_id(k), {'c': 0, 'e': 1}, 'jose')\n",
    "    extra_reactions[res['id']] = res"
   ]
  },
  {
   "cell_type": "code",
   "execution_count": 159,
   "metadata": {},
   "outputs": [],
   "source": [
    "import json\n",
    "with open('/Users/fliu/workspace/jupyter/python3/annotation-server/data/extra_reactions.json', 'w') as fh:\n",
    "    fh.write(json.dumps(extra_reactions))\n"
   ]
  },
  {
   "cell_type": "code",
   "execution_count": null,
   "metadata": {},
   "outputs": [],
   "source": [
    "modelseed.reactions.update"
   ]
  },
  {
   "cell_type": "code",
   "execution_count": 156,
   "metadata": {},
   "outputs": [
    {
     "name": "stdout",
     "output_type": "stream",
     "text": [
      "<class 'modelseedpy.biochem.modelseed_reaction.ModelSEEDReaction'>\n",
      "rxn45615: cpd00003 [0] + cpd00067 [0] + cpd00971 [0] + 2.0 cpd28082 [0] <=> cpd00004 [0] + cpd00971 [1] + 2.0 cpd27757 [0]\n"
     ]
    }
   ],
   "source": [
    "rxn = modelseed.get_seed_reaction('rxn45615')\n",
    "print(type(rxn))\n",
    "print(rxn)"
   ]
  },
  {
   "cell_type": "code",
   "execution_count": 10,
   "metadata": {},
   "outputs": [
    {
     "data": {
      "text/plain": [
       "{'id': 'rxn45615',\n",
       " 'abbreviation': nan,\n",
       " 'name': nan,\n",
       " 'code': '(1) cpd00003[0] + (1) cpd00971[0] + (2) cpd28082[0] <=> (1) cpd00004[0] + (1) cpd00971[1] + (2) cpd27757[0]',\n",
       " 'stoichiometry': '-1:cpd00003:0:0:NAD;-1:cpd00067:0:0:H+;-1:cpd00971:0:0:Na+;-2:cpd28082:0:0:Reduced-ferredoxins;1:cpd00004:0:0:NADH;1:cpd00971:1:0:Na+;2:cpd27757:0:0:Oxidized-ferredoxins',\n",
       " 'is_transport': 1,\n",
       " 'equation': '(1) cpd00003[0] + (1) cpd00067[0] + (1) cpd00971[0] + (2) cpd28082[0] <=> (1) cpd00004[0] + (1) cpd00971[1] + (2) cpd27757[0]',\n",
       " 'definition': '(1) NAD[0] + (1) H+[0] + (1) Na+[0] + (2) Reduced-ferredoxins[0] <=> (1) NADH[0] + (1) Na+[1] + (2) Oxidized-ferredoxins[0]',\n",
       " 'reversibility': '?',\n",
       " 'direction': '=',\n",
       " 'abstract_reaction': nan,\n",
       " 'pathways': nan,\n",
       " 'aliases': 'MetaCyc: TRANS-RXN-276',\n",
       " 'ec_numbers': '7.2.1.2',\n",
       " 'deltag': 10000000.0,\n",
       " 'deltagerr': 10000000.0,\n",
       " 'compound_ids': 'cpd00003;cpd00004;cpd00067;cpd00971;cpd27757;cpd28082',\n",
       " 'status': 'OK',\n",
       " 'is_obsolete': 0,\n",
       " 'linked_reaction': nan,\n",
       " 'notes': 'GCP|EQP',\n",
       " 'source': 'Primary Database'}"
      ]
     },
     "execution_count": 10,
     "metadata": {},
     "output_type": "execute_result"
    }
   ],
   "source": [
    "modelseed.reactions['rxn45615']"
   ]
  },
  {
   "cell_type": "code",
   "execution_count": null,
   "metadata": {},
   "outputs": [],
   "source": []
  }
 ],
 "metadata": {
  "kernelspec": {
   "display_name": "Python 3 (ipykernel)",
   "language": "python",
   "name": "python3"
  },
  "language_info": {
   "codemirror_mode": {
    "name": "ipython",
    "version": 3
   },
   "file_extension": ".py",
   "mimetype": "text/x-python",
   "name": "python",
   "nbconvert_exporter": "python",
   "pygments_lexer": "ipython3",
   "version": "3.7.13"
  }
 },
 "nbformat": 4,
 "nbformat_minor": 4
}
