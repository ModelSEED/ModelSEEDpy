{
 "cells": [
  {
   "cell_type": "code",
   "execution_count": 1,
   "metadata": {},
   "outputs": [],
   "source": [
    "import modelseedpy"
   ]
  },
  {
   "cell_type": "markdown",
   "metadata": {},
   "source": [
    "### Load the database object from local github repository\n",
    "https://github.com/ModelSEED/ModelSEEDDatabase"
   ]
  },
  {
   "cell_type": "code",
   "execution_count": 2,
   "metadata": {},
   "outputs": [],
   "source": [
    "database_path = '../../../ModelSEEDDatabase/'\n",
    "modelseed = modelseedpy.biochem.from_local(database_path)"
   ]
  },
  {
   "cell_type": "markdown",
   "metadata": {},
   "source": [
    "# Compounds"
   ]
  },
  {
   "cell_type": "markdown",
   "metadata": {},
   "source": [
    "### Fetch compounds"
   ]
  },
  {
   "cell_type": "code",
   "execution_count": 3,
   "metadata": {},
   "outputs": [
    {
     "name": "stdout",
     "output_type": "stream",
     "text": [
      "Pyruvate\n",
      "L-Lactate\n"
     ]
    }
   ],
   "source": [
    "cpd_pyruvate = modelseed.compounds.cpd00020\n",
    "print(cpd_pyruvate.name)\n",
    "cpd_lactate = modelseed.compounds.get_by_id('cpd00159')\n",
    "print(cpd_lactate.name)"
   ]
  },
  {
   "cell_type": "markdown",
   "metadata": {},
   "source": [
    "### Read Aliases"
   ]
  },
  {
   "cell_type": "code",
   "execution_count": 4,
   "metadata": {},
   "outputs": [
    {
     "name": "stdout",
     "output_type": "stream",
     "text": [
      "Aliases dict_keys(['AlgaGEM', 'AraCyc', 'AraGEM', 'BiGG', 'BiGG1', 'BrachyCyc', 'ChlamyCyc', 'CornCyc', 'DF_Athaliana', 'EcoCyc', 'JM_Creinhardtii', 'JP_Creinhardtii_MSB', 'JP_Creinhardtii_NMeth', 'KEGG', 'MaizeCyc', 'Maize_C4GEM', 'MetaCyc', 'PlantCyc', 'PoplarCyc', 'RiceCyc', 'SorghumCyc', 'SoyCyc', 'TS_Athaliana', 'iAF1260', 'iAF692', 'iAG612', 'iAO358', 'iAbaylyiv4', 'iGT196', 'iIN800', 'iIT341', 'iJN746', 'iJR904', 'iMA945', 'iMEO21', 'iMM904', 'iMO1053-PAO1', 'iMO1056', 'iND750', 'iNJ661', 'iPS189', 'iRR1083', 'iRS1563', 'iRS1597', 'iSB619', 'iSO783', 'iYO844', 'metanetx.chemical', 'SMILE', 'InChIKey', 'InChI'])\n",
      "KEGG {'C00022'}\n"
     ]
    }
   ],
   "source": [
    "print('Aliases', cpd_pyruvate.annotation.keys())\n",
    "print('KEGG', cpd_pyruvate.annotation['KEGG'])"
   ]
  },
  {
   "cell_type": "markdown",
   "metadata": {},
   "source": [
    "### Read Structures"
   ]
  },
  {
   "cell_type": "code",
   "execution_count": 5,
   "metadata": {},
   "outputs": [
    {
     "name": "stdout",
     "output_type": "stream",
     "text": [
      "SMILES C[C@H](O)C(=O)[O-]\n",
      "InChI InChI=1S/C3H6O3/c1-2(4)3(5)6/h2,4H,1H3,(H,5,6)/p-1/t2-/m0/s1\n",
      "InChI Key JVTAAEKCZFNVCJ-REOHCLBHSA-M\n"
     ]
    }
   ],
   "source": [
    "print('SMILES', cpd_lactate.smiles)\n",
    "print('InChI', cpd_lactate.inchi)\n",
    "print('InChI Key', cpd_lactate.inchi_key)"
   ]
  },
  {
   "cell_type": "markdown",
   "metadata": {},
   "source": [
    "### Fetch by inchi key\n",
    "`find_compounds_by_inchi_key(inchi_key, exact=True)` exact forces first and second key match `exact=False` searches by first inchi hash only"
   ]
  },
  {
   "cell_type": "code",
   "execution_count": 6,
   "metadata": {},
   "outputs": [
    {
     "name": "stdout",
     "output_type": "stream",
     "text": [
      "cpd00159 L-Lactate JVTAAEKCZFNVCJ-REOHCLBHSA-M\n"
     ]
    }
   ],
   "source": [
    "for cpd in modelseed.find_compounds_by_inchi_key('JVTAAEKCZFNVCJ-REOHCLBHSA-M', True):\n",
    "    print(cpd, cpd.name, cpd.inchi_key)"
   ]
  },
  {
   "cell_type": "code",
   "execution_count": 7,
   "metadata": {},
   "outputs": [
    {
     "name": "stdout",
     "output_type": "stream",
     "text": [
      "cpd00221 D-Lactate JVTAAEKCZFNVCJ-UWTATZPHSA-M\n",
      "cpd00159 L-Lactate JVTAAEKCZFNVCJ-REOHCLBHSA-M\n",
      "cpd01022 Lactate JVTAAEKCZFNVCJ-UHFFFAOYSA-M\n"
     ]
    }
   ],
   "source": [
    "for cpd in modelseed.find_compounds_by_inchi_key('JVTAAEKCZFNVCJ-REOHCLBHSA-M', False):\n",
    "    print(cpd, cpd.name, cpd.inchi_key)"
   ]
  },
  {
   "cell_type": "markdown",
   "metadata": {},
   "source": [
    "# Reactions"
   ]
  },
  {
   "cell_type": "markdown",
   "metadata": {},
   "source": [
    "### Fetch Reactions"
   ]
  },
  {
   "cell_type": "code",
   "execution_count": 8,
   "metadata": {},
   "outputs": [
    {
     "name": "stdout",
     "output_type": "stream",
     "text": [
      "rxn00148: cpd00002_0 + cpd00020_0 <=> cpd00008_0 + cpd00061_0 + cpd00067_0\n",
      "ATP + Pyruvate <=> ADP + Phosphoenolpyruvate + H+\n"
     ]
    }
   ],
   "source": [
    "reaction_PYK = modelseed.reactions.rxn00148\n",
    "print(reaction_PYK)\n",
    "print(reaction_PYK.build_reaction_string(True))"
   ]
  },
  {
   "cell_type": "markdown",
   "metadata": {},
   "source": [
    "### Read Aliases"
   ]
  },
  {
   "cell_type": "code",
   "execution_count": 9,
   "metadata": {},
   "outputs": [
    {
     "name": "stdout",
     "output_type": "stream",
     "text": [
      "Aliases dict_keys(['AlgaGEM', 'AraCyc', 'AraGEM', 'BiGG', 'BrachyCyc', 'ChlamyCyc', 'CornCyc', 'DF_Athaliana', 'EcoCyc', 'JM_Creinhardtii', 'JP_Creinhardtii_MSB', 'JP_Creinhardtii_NMeth', 'KEGG', 'MaizeCyc', 'Maize_C4GEM', 'MetaCyc', 'PlantCyc', 'PoplarCyc', 'RiceCyc', 'SorghumCyc', 'SoyCyc', 'TS_Athaliana', 'iAF1260', 'iAF692', 'iAG612', 'iAO358', 'iGT196', 'iIN800', 'iJN746', 'iJR904', 'iMA945', 'iMEO21', 'iMM904', 'iMO1053-PAO1', 'iMO1056', 'iND750', 'iNJ661', 'iPS189', 'iRR1083', 'iRS1563', 'iRS1597', 'iSB619', 'iSO783', 'iYO844', 'metanetx.reaction', 'rhea', 'ec-code'])\n",
      "KEGG {'R00200'}\n",
      "ec-code {'2.7.1.40'}\n"
     ]
    }
   ],
   "source": [
    "print('Aliases', reaction_PYK.annotation.keys())\n",
    "print('KEGG', reaction_PYK.annotation['KEGG'])\n",
    "print('ec-code', reaction_PYK.annotation['ec-code'])"
   ]
  },
  {
   "cell_type": "markdown",
   "metadata": {},
   "source": [
    "### Instantiate reaction \n",
    "Instantiate database reaction to a template reaction with cytosol `c` assigned to token `0`"
   ]
  },
  {
   "cell_type": "code",
   "execution_count": 10,
   "metadata": {
    "tags": []
   },
   "outputs": [
    {
     "data": {
      "text/html": [
       "\n",
       "        <table>\n",
       "            <tr>\n",
       "                <td><strong>Reaction identifier</strong></td><td>rxn00148_c</td>\n",
       "            </tr><tr>\n",
       "                <td><strong>Name</strong></td><td>ATP:pyruvate 2-O-phosphotransferase</td>\n",
       "            </tr><tr>\n",
       "                <td><strong>Memory address</strong></td>\n",
       "                <td>0x7f5eb42f82e0</td>\n",
       "            </tr><tr>\n",
       "                <td><strong>Stoichiometry</strong></td>\n",
       "                <td>\n",
       "                    <p style='text-align:right'>cpd00002_c + cpd00020_c <=> cpd00008_c + cpd00061_c + cpd00067_c</p>\n",
       "                    <p style='text-align:right'>ATP + Pyruvate <=> ADP + Phosphoenolpyruvate + H+</p>\n",
       "                </td>\n",
       "            </tr><tr>\n",
       "                <td><strong>GPR</strong></td><td></td>\n",
       "            </tr><tr>\n",
       "                <td><strong>Lower bound</strong></td><td>-1000</td>\n",
       "            </tr><tr>\n",
       "                <td><strong>Upper bound</strong></td><td>1000</td>\n",
       "            </tr>\n",
       "        </table>\n",
       "        "
      ],
      "text/plain": [
       "<Reaction rxn00148_c at 0x7f5eb42f82e0>"
      ]
     },
     "execution_count": 10,
     "metadata": {},
     "output_type": "execute_result"
    }
   ],
   "source": [
    "template_PYK_cytosol = reaction_PYK.to_template_reaction({0: 'c'})\n",
    "template_PYK_cytosol"
   ]
  },
  {
   "cell_type": "markdown",
   "metadata": {},
   "source": [
    "# Random debug stuff ignore for now"
   ]
  },
  {
   "cell_type": "code",
   "execution_count": 153,
   "metadata": {},
   "outputs": [
    {
     "data": {
      "text/plain": [
       "{'id': 'rxa45615',\n",
       " 'abbreviation': '',\n",
       " 'name': 'rxa45615_c',\n",
       " 'code': '(2.0) cpd00067[0] + (3.0) cpd00971[0] + (2.0) cpd11620[0] + (1.0) cpd08701[0] <=> (2.0) cpd00067[1] + (3.0) cpd00971[1] + (2.0) cpd11621[0] + (1.0) cpd08702[0]',\n",
       " 'stoichiometry': '-2:cpd00067:0:0:H+;-3:cpd00971:0:0:Na+;-2:cpd11620:0:0:Reducedferredoxin;-1:cpd08701:0:0:Methanophenazine;2:cpd00067:1:0:H+;3:cpd00971:1:0:Na+;2:cpd11621:0:0:Oxidizedferredoxin;1:cpd08702:0:0:Dihydromethanophenazine',\n",
       " 'is_transport': 0,\n",
       " 'equation': '(2.0) cpd00067[0] + (3.0) cpd00971[0] + (2.0) cpd11620[0] + (1.0) cpd08701[0] <=> (2.0) cpd00067[1] + (3.0) cpd00971[1] + (2.0) cpd11621[0] + (1.0) cpd08702[0]',\n",
       " 'definition': '(2.0) H+[0] + (3.0) Na+[0] + (2.0) Reducedferredoxin[0] + (1.0) Methanophenazine[0] <=> (2.0) H+[1] + (3.0) Na+[1] + (2.0) Oxidizedferredoxin[0] + (1.0) Dihydromethanophenazine[0]',\n",
       " 'reversibility': '=',\n",
       " 'direction': '=',\n",
       " 'abstract_reaction': '',\n",
       " 'pathways': '',\n",
       " 'aliases': '',\n",
       " 'ec_numbers': '',\n",
       " 'deltag': 10000000.0,\n",
       " 'deltagerr': 10000000.0,\n",
       " 'compound_ids': 'cpd00003;cpd00004;cpd00067;cpd00971;cpd27757;cpd28082',\n",
       " 'status': 'OK',\n",
       " 'is_obsolete': 0,\n",
       " 'linked_reaction': 'nan',\n",
       " 'notes': 'GCP|EQP',\n",
       " 'source': None}"
      ]
     },
     "execution_count": 153,
     "metadata": {},
     "output_type": "execute_result"
    }
   ],
   "source": [
    "import math\n",
    "from modelseedpy.core.msmodel import get_direction_from_constraints\n",
    "eq_symbol = {'=': '<=>', '>': '=>', '<': '<='}\n",
    "def to_biochem(template_reaction, compartments: dict, source=None):\n",
    "    direaction_symbol = get_direction_from_constraints(template_reaction.lower_bound, template_reaction.upper_bound)\n",
    "    data = {\n",
    "        'id': template_reaction.reference_id,\n",
    "        'abbreviation': '',\n",
    "        'name': template_reaction.name,\n",
    "        'code': '(1) cpd00003[0] + (1) cpd00971[0] + (2) cpd28082[0] <=> (1) cpd00004[0] + (1) cpd00971[1] + (2) cpd27757[0]',\n",
    "        'stoichiometry': '-1:cpd00003:0:0:NAD;-1:cpd00067:0:0:H+;-1:cpd00971:0:0:Na+;-2:cpd28082:0:0:Reduced-ferredoxins;1:cpd00004:0:0:NADH;1:cpd00971:1:0:Na+;2:cpd27757:0:0:Oxidized-ferredoxins',\n",
    "        'is_transport': 0,\n",
    "        'equation': '(1) cpd00003[0] + (1) cpd00067[0] + (1) cpd00971[0] + (2) cpd28082[0] <=> (1) cpd00004[0] + (1) cpd00971[1] + (2) cpd27757[0]',\n",
    "        'definition': '(1) NAD[0] + (1) H+[0] + (1) Na+[0] + (2) Reduced-ferredoxins[0] <=> (1) NADH[0] + (1) Na+[1] + (2) Oxidized-ferredoxins[0]',\n",
    "        'reversibility': direaction_symbol,\n",
    "        'direction': direaction_symbol,\n",
    "        'abstract_reaction': '',\n",
    "        'pathways': '',\n",
    "        'aliases': '',\n",
    "        'ec_numbers': '',\n",
    "        'deltag': 10000000.0,\n",
    "        'deltagerr': 10000000.0,\n",
    "        'compound_ids': 'cpd00003;cpd00004;cpd00067;cpd00971;cpd27757;cpd28082',\n",
    "        'status': 'OK',\n",
    "        'is_obsolete': 0,\n",
    "        'linked_reaction': 'nan',\n",
    "        'notes': 'GCP|EQP',\n",
    "        'source': source\n",
    "    }\n",
    "    lhs = list(filter(lambda x: x[1] < 0, template_reaction.metabolites.items()))\n",
    "    rhs = list(filter(lambda x: x[1] > 0, template_reaction.metabolites.items()))\n",
    "    map_code_lhs = list(map(lambda x: \"({}) {}[{}]\".format(math.fabs(x[1]), x[0].compound.id, compartments[x[0].compartment]), lhs))\n",
    "    map_code_rhs = list(map(lambda x: \"({}) {}[{}]\".format(math.fabs(x[1]), x[0].compound.id, compartments[x[0].compartment]), rhs))\n",
    "    map_name_lhs = map(lambda x: \"({}) {}[{}]\".format(math.fabs(x[1]), x[0].compound.name, compartments[x[0].compartment]), lhs)\n",
    "    map_name_rhs = map(lambda x: \"({}) {}[{}]\".format(math.fabs(x[1]), x[0].compound.name, compartments[x[0].compartment]), rhs)\n",
    "    map_stoich = map(lambda x: \"{}:{}:{}:{}:{}\".format(x[1], x[0].compound.id, compartments[x[0].compartment], 0, x[0].compound.name), template_reaction.metabolites.items())\n",
    "    data['stoichiometry'] = ';'.join(map_stoich)\n",
    "    data['code'] = \"{} <=> {}\".format(' + '.join(map_code_lhs), ' + '.join(map_code_rhs)).strip()\n",
    "    data['equation'] = \"{} {} {}\".format(' + '.join(map_code_lhs), eq_symbol[direaction_symbol], ' + '.join(map_code_rhs)).strip()\n",
    "    data['definition'] = \"{} {} {}\".format(' + '.join(map_name_lhs), eq_symbol[direaction_symbol], ' + '.join(map_name_rhs)).strip()\n",
    "    return data\n",
    "to_biochem(template.reactions.rxa45615_c, {'c': 0, 'e': 1})"
   ]
  },
  {
   "cell_type": "code",
   "execution_count": 157,
   "metadata": {},
   "outputs": [],
   "source": [
    "extra_reactions = {}\n",
    "extract_ids = ['sul00002_c', 'sul00003_c', 'sul00004_c', 'sul00008_c', 'sul00010_c', 'rxa45615_c']\n",
    "for k in extract_ids:\n",
    "    res = to_biochem(template.reactions.get_by_id(k), {'c': 0, 'e': 1}, 'jose')\n",
    "    extra_reactions[res['id']] = res"
   ]
  },
  {
   "cell_type": "code",
   "execution_count": 159,
   "metadata": {},
   "outputs": [],
   "source": [
    "import json\n",
    "with open('/Users/fliu/workspace/jupyter/python3/annotation-server/data/extra_reactions.json', 'w') as fh:\n",
    "    fh.write(json.dumps(extra_reactions))\n"
   ]
  }
 ],
 "metadata": {
  "kernelspec": {
   "display_name": "Python 3 (ipykernel)",
   "language": "python",
   "name": "python3"
  },
  "language_info": {
   "codemirror_mode": {
    "name": "ipython",
    "version": 3
   },
   "file_extension": ".py",
   "mimetype": "text/x-python",
   "name": "python",
   "nbconvert_exporter": "python",
   "pygments_lexer": "ipython3",
   "version": "3.8.10"
  }
 },
 "nbformat": 4,
 "nbformat_minor": 4
}
