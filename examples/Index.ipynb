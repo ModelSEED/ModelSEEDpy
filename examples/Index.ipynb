{
 "cells": [
  {
   "cell_type": "markdown",
   "metadata": {},
   "source": [
    "\n",
    "![ModelSEEDpy](images/ms-logo-horizontal.png)"
   ]
  },
  {
   "cell_type": "markdown",
   "metadata": {},
   "source": [
    "# ModelSEEDpy Documentation"
   ]
  },
  {
   "cell_type": "markdown",
   "metadata": {},
   "source": [
    "This folder contains example notebooks to run modelseedpy"
   ]
  },
  {
   "cell_type": "markdown",
   "metadata": {},
   "source": [
    "## Topics"
   ]
  },
  {
   "cell_type": "markdown",
   "metadata": {
    "tags": []
   },
   "source": [
    "* [Model Reconstruction](Model Reconstruction/Index.ipynb): Build SEED Models\n",
    "* [Flux Analysis](Flux Analysis/Index.ipynb): Run Flux Analysis Methods\n",
    "* [Community Modeling](Community Modeling/Index.ipynb): Community Modeling Notebooks\n",
    "* [Escher Visualization](Escher/Index.ipynb): Visualization of Pathway Maps with Escher\n",
    "* [KBase](KBase/Index.ipynb): KBase Interaction Notebooks\n",
    "* [Others](Others/Index.ipynb): Unsorted examples"
   ]
  },
  {
   "cell_type": "code",
   "execution_count": null,
   "metadata": {},
   "outputs": [],
   "source": []
  }
 ],
 "metadata": {
  "kernelspec": {
   "display_name": "Python 3 (ipykernel)",
   "language": "python",
   "name": "python3"
  },
  "language_info": {
   "codemirror_mode": {
    "name": "ipython",
    "version": 3
   },
   "file_extension": ".py",
   "mimetype": "text/x-python",
   "name": "python",
   "nbconvert_exporter": "python",
   "pygments_lexer": "ipython3",
   "version": "3.9.12"
  }
 },
 "nbformat": 4,
 "nbformat_minor": 4
}
