{
 "cells": [
  {
   "cell_type": "code",
   "execution_count": 1,
   "id": "5434992c-fc67-40f5-ae08-82f44790666c",
   "metadata": {},
   "outputs": [],
   "source": [
    "import modelseedpy"
   ]
  },
  {
   "cell_type": "code",
   "execution_count": 2,
   "id": "b243e00a-4a8b-489d-a778-61844a439e63",
   "metadata": {},
   "outputs": [
    {
     "name": "stdout",
     "output_type": "stream",
     "text": [
      "cobrakbase 0.3.1\n"
     ]
    }
   ],
   "source": [
    "import cobrakbase\n",
    "kbase = cobrakbase.KBaseAPI()"
   ]
  },
  {
   "cell_type": "code",
   "execution_count": 3,
   "id": "3a177c16-ecb0-4050-bbf5-47aad10f2af9",
   "metadata": {},
   "outputs": [],
   "source": [
    "template = kbase.get_from_ws('GramNegModelTemplateV3', 'NewKBaseModelTemplates')"
   ]
  },
  {
   "cell_type": "code",
   "execution_count": 4,
   "id": "4ce52552-dce2-4c44-9884-cf00d15e76ab",
   "metadata": {},
   "outputs": [],
   "source": [
    "from modelseedpy import MSBuilder"
   ]
  },
  {
   "cell_type": "code",
   "execution_count": 8,
   "id": "6f216f6a-5e25-4697-bf6b-9ae63475b5c7",
   "metadata": {},
   "outputs": [],
   "source": [
    "from cobra.core import Model\n",
    "model = Model('test')"
   ]
  },
  {
   "cell_type": "code",
   "execution_count": 9,
   "id": "d9763d58-daba-4751-811f-23581b390025",
   "metadata": {},
   "outputs": [],
   "source": [
    "biomass = template.biomasses[0]"
   ]
  },
  {
   "cell_type": "code",
   "execution_count": 10,
   "id": "d3e884ac-2568-445a-ac04-1508b536c88a",
   "metadata": {},
   "outputs": [],
   "source": [
    "reaction = biomass.build_biomass(model, '0', True)"
   ]
  },
  {
   "cell_type": "code",
   "execution_count": 11,
   "id": "f5140ac5-273f-4eb5-b806-ddd9178b252e",
   "metadata": {},
   "outputs": [
    {
     "name": "stdout",
     "output_type": "stream",
     "text": [
      "cpd00010_c0 {'modelseed_template_id': 'cpd00010_c'}\n",
      "cpd11493_c0 {'modelseed_template_id': 'cpd11493_c'}\n",
      "cpd12370_c0 {'modelseed_template_id': 'cpd12370_c'}\n",
      "cpd00003_c0 {'modelseed_template_id': 'cpd00003_c'}\n",
      "cpd00006_c0 {'modelseed_template_id': 'cpd00006_c'}\n",
      "cpd00205_c0 {'modelseed_template_id': 'cpd00205_c'}\n",
      "cpd00254_c0 {'modelseed_template_id': 'cpd00254_c'}\n",
      "cpd10516_c0 {'modelseed_template_id': 'cpd10516_c'}\n",
      "cpd00063_c0 {'modelseed_template_id': 'cpd00063_c'}\n",
      "cpd00009_c0 {'modelseed_template_id': 'cpd00009_c'}\n",
      "cpd00099_c0 {'modelseed_template_id': 'cpd00099_c'}\n",
      "cpd00149_c0 {'modelseed_template_id': 'cpd00149_c'}\n",
      "cpd00058_c0 {'modelseed_template_id': 'cpd00058_c'}\n",
      "cpd00015_c0 {'modelseed_template_id': 'cpd00015_c'}\n",
      "cpd10515_c0 {'modelseed_template_id': 'cpd10515_c'}\n",
      "cpd00030_c0 {'modelseed_template_id': 'cpd00030_c'}\n",
      "cpd00048_c0 {'modelseed_template_id': 'cpd00048_c'}\n",
      "cpd00034_c0 {'modelseed_template_id': 'cpd00034_c'}\n",
      "cpd00016_c0 {'modelseed_template_id': 'cpd00016_c'}\n",
      "cpd00220_c0 {'modelseed_template_id': 'cpd00220_c'}\n",
      "cpd00017_c0 {'modelseed_template_id': 'cpd00017_c'}\n",
      "cpd00201_c0 {'modelseed_template_id': 'cpd00201_c'}\n",
      "cpd00087_c0 {'modelseed_template_id': 'cpd00087_c'}\n",
      "cpd00345_c0 {'modelseed_template_id': 'cpd00345_c'}\n",
      "cpd00042_c0 {'modelseed_template_id': 'cpd00042_c'}\n",
      "cpd00028_c0 {'modelseed_template_id': 'cpd00028_c'}\n",
      "cpd00557_c0 {'modelseed_template_id': 'cpd00557_c'}\n",
      "cpd00264_c0 {'modelseed_template_id': 'cpd00264_c'}\n",
      "cpd00118_c0 {'modelseed_template_id': 'cpd00118_c'}\n",
      "cpd00056_c0 {'modelseed_template_id': 'cpd00056_c'}\n",
      "cpd15560_c0 {'modelseed_template_id': 'cpd15560_c'}\n",
      "cpd15352_c0 {'modelseed_template_id': 'cpd15352_c'}\n",
      "cpd15500_c0 {'modelseed_template_id': 'cpd15500_c'}\n",
      "cpd00166_c0 {'modelseed_template_id': 'cpd00166_c'}\n",
      "cpd01997_c0 {'modelseed_template_id': 'cpd01997_c'}\n",
      "cpd03422_c0 {'modelseed_template_id': 'cpd03422_c'}\n",
      "cpd00104_c0 {'modelseed_template_id': 'cpd00104_c'}\n",
      "cpd00037_c0 {'modelseed_template_id': 'cpd00037_c'}\n",
      "cpd00050_c0 {'modelseed_template_id': 'cpd00050_c'}\n",
      "cpd15793_c0 {'modelseed_template_id': 'cpd15793_c'}\n",
      "cpd15540_c0 {'modelseed_template_id': 'cpd15540_c'}\n",
      "cpd15533_c0 {'modelseed_template_id': 'cpd15533_c'}\n",
      "cpd15432_c0 {'modelseed_template_id': 'cpd15432_c'}\n",
      "cpd02229_c0 {'modelseed_template_id': 'cpd02229_c'}\n",
      "cpd15665_c0 {'modelseed_template_id': 'cpd15665_c'}\n",
      "cpd15666_c0 {'modelseed_template_id': 'cpd15666_c'}\n",
      "cpd00023_c0 {'modelseed_template_id': 'cpd00023_c'}\n",
      "cpd00001_c0 {'modelseed_template_id': 'cpd00001_c'}\n",
      "cpd00033_c0 {'modelseed_template_id': 'cpd00033_c'}\n",
      "cpd00035_c0 {'modelseed_template_id': 'cpd00035_c'}\n",
      "cpd00039_c0 {'modelseed_template_id': 'cpd00039_c'}\n",
      "cpd00041_c0 {'modelseed_template_id': 'cpd00041_c'}\n",
      "cpd00051_c0 {'modelseed_template_id': 'cpd00051_c'}\n",
      "cpd00053_c0 {'modelseed_template_id': 'cpd00053_c'}\n",
      "cpd00054_c0 {'modelseed_template_id': 'cpd00054_c'}\n",
      "cpd00060_c0 {'modelseed_template_id': 'cpd00060_c'}\n",
      "cpd00065_c0 {'modelseed_template_id': 'cpd00065_c'}\n",
      "cpd00066_c0 {'modelseed_template_id': 'cpd00066_c'}\n",
      "cpd00069_c0 {'modelseed_template_id': 'cpd00069_c'}\n",
      "cpd00084_c0 {'modelseed_template_id': 'cpd00084_c'}\n",
      "cpd00107_c0 {'modelseed_template_id': 'cpd00107_c'}\n",
      "cpd00119_c0 {'modelseed_template_id': 'cpd00119_c'}\n",
      "cpd00129_c0 {'modelseed_template_id': 'cpd00129_c'}\n",
      "cpd00132_c0 {'modelseed_template_id': 'cpd00132_c'}\n",
      "cpd00156_c0 {'modelseed_template_id': 'cpd00156_c'}\n",
      "cpd00161_c0 {'modelseed_template_id': 'cpd00161_c'}\n",
      "cpd00322_c0 {'modelseed_template_id': 'cpd00322_c'}\n",
      "cpd00115_c0 {'modelseed_template_id': 'cpd00115_c'}\n",
      "cpd00012_c0 {'modelseed_template_id': 'cpd00012_c'}\n",
      "cpd00241_c0 {'modelseed_template_id': 'cpd00241_c'}\n",
      "cpd00356_c0 {'modelseed_template_id': 'cpd00356_c'}\n",
      "cpd00357_c0 {'modelseed_template_id': 'cpd00357_c'}\n",
      "cpd00002_c0 {'modelseed_template_id': 'cpd00002_c'}\n",
      "cpd00038_c0 {'modelseed_template_id': 'cpd00038_c'}\n",
      "cpd00052_c0 {'modelseed_template_id': 'cpd00052_c'}\n",
      "cpd00062_c0 {'modelseed_template_id': 'cpd00062_c'}\n",
      "cpd00008_c0 {'modelseed_template_id': 'cpd00008_c'}\n",
      "cpd00067_c0 {'modelseed_template_id': 'cpd00067_c'}\n",
      "cpd11416_c0 {'modelseed_template_id': 'cpd11416_c'}\n",
      "cpd17041_c0 {'modelseed_template_id': 'cpd17041_c'}\n",
      "cpd17042_c0 {'modelseed_template_id': 'cpd17042_c'}\n",
      "cpd17043_c0 {'modelseed_template_id': 'cpd17043_c'}\n"
     ]
    }
   ],
   "source": [
    "for m in reaction.metabolites:\n",
    "    print(m, m.notes)"
   ]
  },
  {
   "cell_type": "code",
   "execution_count": 42,
   "id": "891147ee-73a0-4e3d-ab43-d54703d722ee",
   "metadata": {},
   "outputs": [],
   "source": [
    "template = MSTemplateBuilder.from_dict(get_template('template_gram_neg')).build()"
   ]
  },
  {
   "cell_type": "code",
   "execution_count": 62,
   "id": "d9c418e9-dc6f-4b91-9a5e-82016f9bdfbf",
   "metadata": {},
   "outputs": [],
   "source": [
    "model = kbase.get_from_ws('GCF_000009725.1.mdl', 56739)\n",
    "template = kbase.get_from_ws(model.template_ref)"
   ]
  },
  {
   "cell_type": "code",
   "execution_count": 91,
   "id": "d31a6a13-e826-4697-bd46-2fba1078adad",
   "metadata": {},
   "outputs": [
    {
     "data": {
      "text/plain": [
       "dict_keys(['cellwall', 'cofactor', 'dna', 'energy', 'id', 'lipid', 'name', 'other', 'protein', 'rna', 'templateBiomassComponents', 'type'])"
      ]
     },
     "execution_count": 91,
     "metadata": {},
     "output_type": "execute_result"
    }
   ],
   "source": [
    "template.biomasses[0].keys()"
   ]
  },
  {
   "cell_type": "code",
   "execution_count": null,
   "id": "3f444a40-610e-401d-a7e5-a64b64816927",
   "metadata": {},
   "outputs": [],
   "source": []
  },
  {
   "cell_type": "code",
   "execution_count": null,
   "id": "328acef9-db28-4daf-bada-90cf7e294939",
   "metadata": {},
   "outputs": [],
   "source": []
  },
  {
   "cell_type": "code",
   "execution_count": 221,
   "id": "0d1375dc-30c2-4fcc-85e5-5259e477ac8d",
   "metadata": {},
   "outputs": [],
   "source": [
    "class TemplateComponent:\n",
    "    \n",
    "    def __init__(self, component_class, coefficient, coefficient_type, compound, linked_compounds):\n",
    "        self.component_class = component_class\n",
    "        self.coefficient = coefficient\n",
    "        self.coefficient_type = coefficient_type\n",
    "        self.compound = compound\n",
    "        self.linked_compounds = linked_compounds\n",
    "        \n",
    "    def __str__(self):\n",
    "        return f'{self.compound.id} [{self.component_class}:{self.coefficient_type}]'\n",
    "\n",
    "biomass_data = template.biomasses[0]\n",
    "biomass_components = {}\n",
    "for o in biomass_data['templateBiomassComponents']:\n",
    "    c_cpd = template.compcompounds.get_by_id(o['templatecompcompound_ref'].split('/')[-1])\n",
    "    linked_cpds = {}\n",
    "    for i in range(len(o['linked_compound_refs'])):\n",
    "        l_cpd = template.compcompounds.get_by_id(o['linked_compound_refs'][i].split('/')[-1])\n",
    "        value = o['link_coefficients'][i]\n",
    "        linked_cpds[l_cpd] = value\n",
    "    template_component = TemplateComponent(o['class'], o['coefficient'], o['coefficient_type'], \n",
    "                                           c_cpd, linked_cpds)\n",
    "    if template_component.component_class not in biomass_components:\n",
    "        biomass_components[template_component.component_class] = {\n",
    "            'coefficient': biomass_data[template_component.component_class],\n",
    "            'components': []\n",
    "        }\n",
    "    biomass_components[template_component.component_class]['components'].append(template_component)"
   ]
  },
  {
   "cell_type": "code",
   "execution_count": 227,
   "id": "d8bb2ff7-12e6-40e4-9454-e2749760f629",
   "metadata": {
    "tags": []
   },
   "outputs": [],
   "source": [
    "biomass_components_class = {}\n",
    "classMW = {}\n",
    "classMol = {}\n",
    "classMolFraction = {}\n",
    "classMolSplitCount = {}\n",
    "classMolSplitFraction = {}\n",
    "classMolSplitMW = {}\n",
    "\n",
    "classHash = {}\n",
    "includedComps = []\n",
    "for c_type in biomass_components:\n",
    "    v = biomass_components[c_type]['coefficient']\n",
    "    classHash[c.component_class] = v\n",
    "    for c in biomass_components[c_type]['components']:\n",
    "        includedComps.append(c)\n",
    "        #print(c.coefficient_type)\n",
    "        if c.coefficient_type == 'MOLFRACTION':\n",
    "            if c.component_class not in classMolFraction:\n",
    "                classMolFraction[c.component_class] = 0\n",
    "            classMolFraction[c.component_class] += -1 * c.coefficient\n",
    "            if c.compound.compound.mass and c.compound.compound.mass > 0:\n",
    "                if c.component_class not in classMW:\n",
    "                    classMW[c.component_class] = 0\n",
    "                classMW[c.component_class] += -1 * c.compound.compound.mass * c.coefficient;\n",
    "        elif c.coefficient_type == 'MOLSPLIT':\n",
    "            if c_type not in classMolSplitCount:\n",
    "                classMolSplitCount[c_type] = 0\n",
    "            classMolSplitCount[c_type] += 1\n",
    "            if c.compound.compound.mass and c.compound.compound.mass > 0:\n",
    "                if c_type not in classMolSplitMW:\n",
    "                    classMolSplitMW[c_type] = 0\n",
    "                classMolSplitMW[c_type] += c.compound.compound.mass"
   ]
  },
  {
   "cell_type": "code",
   "execution_count": null,
   "id": "62c8b8c4-9083-4d09-93ce-6e5ef16957e8",
   "metadata": {},
   "outputs": [],
   "source": []
  },
  {
   "cell_type": "code",
   "execution_count": 228,
   "id": "f4264e0b-ebdf-47d2-9f6f-c4814eb8cbc0",
   "metadata": {},
   "outputs": [],
   "source": [
    "classMassFraction = {}\n",
    "classMassSplitCount = {}\n",
    "classMassSplitMol = {}\n",
    "classMassSplitFraction = {}\n",
    "for clazz in classHash:\n",
    "    if clazz not in classMassFraction:\n",
    "        classMassFraction[clazz] = 0\n",
    "    if clazz not in classMolFraction:\n",
    "        classMolFraction[clazz] = 0\n",
    "    if clazz not in classMW:\n",
    "        classMW[clazz] = 0\n",
    "    if clazz not in classMol:\n",
    "        classMol[clazz] = 0\n",
    "    if clazz not in classMolSplitCount:\n",
    "        classMolSplitCount[clazz] = 0\n",
    "        classMolSplitMW[clazz] = 0\n",
    "    if clazz not in classMassSplitCount:\n",
    "        classMassSplitCount[clazz] = 0\n",
    "        classMassSplitMol[clazz] = 0\n",
    "    totalSplt = classMolSplitCount[clazz] + classMassSplitCount[clazz]\n",
    "    mass = (1 - classMassFraction[clazz]) * classHash[clazz] #?\n",
    "    if mass > 0:\n",
    "        remainingMolFraction = (1 - classMolFraction[clazz])\n",
    "        if totalSplt > 0:\n",
    "            massSplitMolFraction = remainingMolFraction * classMassSplitCount[clazz] / totalSplt\n",
    "            molSplitMolFraction = remainingMolFraction * classMolSplitCount[clazz] / totalSplt\n",
    "            classMW[clazz] += molSplitMolFraction * classMolSplitMW[clazz] / classMolSplitCount[clazz]\n",
    "            if classMassSplitCount[clazz] > 0:\n",
    "                classMW[clazz] += massSplitMolFraction * classHash[clazz] / (classMassSplitMol[clazz] / classMassSplitCount[clazz])\n",
    "            classMassSplitFraction[clazz] = massSplitMolFraction;\n",
    "            classMolSplitFraction[clazz] = molSplitMolFraction;\n",
    "            if classMW[clazz] > 0:\n",
    "                classMol[clazz] = mass / classMW[clazz]\n",
    "            else:\n",
    "                classMol[clazz] = 1"
   ]
  },
  {
   "cell_type": "code",
   "execution_count": null,
   "id": "39bb74be-ea45-4254-8206-e171c1b760ac",
   "metadata": {},
   "outputs": [],
   "source": []
  },
  {
   "cell_type": "code",
   "execution_count": 229,
   "id": "7372fe52-1871-484c-ac4d-cb378f6ab977",
   "metadata": {},
   "outputs": [
    {
     "name": "stdout",
     "output_type": "stream",
     "text": [
      "cpd00002_c ATP 0.0 -41.2913947104178\n",
      "cpd00038_c GTP 0.0 -0.0424026391792249\n",
      "cpd00052_c CTP 0.0 -0.0261242266150642\n",
      "cpd00062_c UTP 0.0 -0.0282246669459237\n",
      "cpd00115_c dATP 0 -0.0141357803930648\n",
      "cpd00241_c dGTP 0 -0.012738326818085\n",
      "cpd00356_c dCTP 0 -0.012738326818085\n",
      "cpd00357_c TTP 0 -0.0141357803930648\n",
      "cpd00023_c L-Glutamate 0.0 -0.261005044219309\n",
      "cpd00033_c Glycine 0.0 -0.409331301687739\n",
      "cpd00035_c L-Alanine 0.0 -0.267560900902997\n",
      "cpd00039_c L-Lysine 0.0 -0.323695423757071\n",
      "cpd00041_c L-Aspartate 0.0 -0.14832625746843\n",
      "cpd00051_c L-Arginine 0.0 -0.193397772168782\n",
      "cpd00053_c L-Glutamine 0.0 -0.261005044219309\n",
      "cpd00054_c L-Serine 0.0 -0.216753011604418\n",
      "cpd00060_c L-Methionine 0.0 -0.11349826883634\n",
      "cpd00065_c L-Tryptophan 0.0 -0.0544955586831525\n",
      "cpd00066_c L-Phenylalanine 0.0 -0.176188648374102\n",
      "cpd00069_c L-Tyrosine 0.0 -0.111039822579957\n",
      "cpd00084_c L-Cysteine 0.0 -0.0569540049395353\n",
      "cpd00107_c L-Leucine 0.0 -0.347460404235438\n",
      "cpd00119_c L-Histidine 0.0 -0.0819482085460939\n",
      "cpd00129_c L-Proline 0.0 -0.161028229793075\n",
      "cpd00132_c L-Asparagine 0.0 -0.14832625746843\n",
      "cpd00156_c L-Valine 0.0 -0.307715523090583\n",
      "cpd00161_c L-Threonine 0.0 -0.186841915485094\n",
      "cpd00322_c L-Isoleucine 0.0 -0.27042908820211\n",
      "cpd11416_c Biomass 1 1\n",
      "cpd17041_c Protein biosynthesis -1 -1\n",
      "cpd17042_c DNA replication -1 -1\n",
      "cpd17043_c RNA transcription -1 -1\n",
      "cpd00010_c CoA -0.005396459922290977 -0.00719527989638797\n",
      "cpd11493_c ACP -0.005396459922290977 -0.00719527989638797\n",
      "cpd00003_c NAD -0.005396459922290977 -0.00719527989638797\n",
      "cpd00006_c NADP -0.005396459922290977 -0.00719527989638797\n",
      "cpd00205_c K+ -0.005396459922290977 -0.00719527989638797\n",
      "cpd00254_c Mg -0.005396459922290977 -0.00719527989638797\n",
      "cpd10516_c fe3 -0.005396459922290977 -0.00719527989638797\n",
      "cpd00063_c Ca2+ -0.005396459922290977 -0.00719527989638797\n",
      "cpd00009_c Phosphate -0.005396459922290977 41.2498047201036\n",
      "cpd00099_c Cl- -0.005396459922290977 -0.00719527989638797\n",
      "cpd00149_c Co2+ -0.005396459922290977 -0.00719527989638797\n",
      "cpd00058_c Cu2+ -0.005396459922290977 -0.00719527989638797\n",
      "cpd00015_c FAD -0.005396459922290977 -0.00719527989638797\n",
      "cpd10515_c Fe2+ -0.005396459922290977 -0.00719527989638797\n",
      "cpd00030_c Mn2+ -0.005396459922290977 -0.00719527989638797\n",
      "cpd00048_c Sulfate -0.005396459922290977 -0.00719527989638797\n",
      "cpd00034_c Zn2+ -0.005396459922290977 -0.00719527989638797\n",
      "cpd00016_c Pyridoxal phosphate -0.005396459922290977 -0.00719527989638797\n",
      "cpd00220_c Riboflavin -0.005396459922290977 -0.00719527989638797\n",
      "cpd00017_c S-Adenosyl-L-methionine -0.005396459922290977 -0.00719527989638797\n",
      "cpd00201_c 10-Formyltetrahydrofolate -0.005396459922290977 -0.00719527989638797\n",
      "cpd00087_c Tetrahydrofolate -0.005396459922290977 -0.00719527989638797\n",
      "cpd00345_c 5-Methyltetrahydrofolate -0.005396459922290977 -0.00719527989638797\n",
      "cpd00042_c GSH -0.005396459922290977 -0.00719527989638797\n",
      "cpd00028_c Heme -0.005396459922290977 -0.00719527989638797\n",
      "cpd00557_c Siroheme -0.005396459922290977 -0.00719527989638797\n",
      "cpd00264_c Spermidine -0.005396459922290977 -0.00719527989638797\n",
      "cpd00118_c Putrescine -0.005396459922290977 -0.00719527989638797\n",
      "cpd00056_c TPP -0.005396459922290977 -0.00719527989638797\n",
      "cpd15560_c Ubiquinone-8 -0.005396459922290977 -0.00719527989638797\n",
      "cpd15352_c 2-Demethylmenaquinone 8 -0.005396459922290977 -0.00719527989638797\n",
      "cpd15500_c Menaquinone 8 -0.005396459922290977 -0.00719527989638797\n",
      "cpd00166_c Calomide -0.005396459922290977 -0.00719527989638797\n",
      "cpd00104_c BIOT -0.005396459922290977 -0.00719527989638797\n",
      "cpd00037_c UDP-N-acetylglucosamine -0.005396459922290977 -0.00719527989638797\n",
      "cpd00050_c FMN -0.005396459922290977 -0.00719527989638797\n",
      "cpd15793_c Stearoylcardiolipin (B. subtilis) -0.08372404554588077 -0.0251172136637642\n",
      "cpd15540_c Phosphatidylglycerol dioctadecanoyl -0.08372404554588077 -0.0251172136637642\n",
      "cpd15533_c phosphatidylethanolamine dioctadecanoyl -0.08372404554588077 -0.0251172136637642\n",
      "cpd15748_c Stearoyllipoteichoic acid (n=24), linked, unsubstituted -0.0008110551146002304 -0.00309563020839783\n",
      "cpd15757_c Stearoyllipoteichoic acid (n=24), linked, glucose substituted -0.0008110551146002304 -0.00309563020839783\n",
      "cpd15766_c Stearoyllipoteichoic acid (n=24), linked, N-acetyl-D-glucosamine -0.0008110551146002304 -0.00309563020839783\n",
      "cpd15775_c Stearoyllipoteichoic acid (n=24), linked, D-alanine substituted -0.0008110551146002304 -0.00309563020839783\n",
      "cpd15667_c glycerol teichoic acid (n=45), linked, unsubstituted -0.0008110551146002304 -0.00309563020839783\n",
      "cpd15668_c glycerol teichoic acid (n=45), linked, D-ala substituted -0.0008110551146002304 -0.00309563020839783\n",
      "cpd15669_c glycerol teichoic acid (n=45), linked, glucose substituted -0.0008110551146002304 -0.00309563020839783\n",
      "cpd11459_c tcam -0.0008110551146002304 -0.00309563020839783\n",
      "cpd02229_c Bactoprenyl diphosphate -0.0008110551146002304 -0.00309563020839783\n",
      "cpd15665_c Peptidoglycan polymer (n subunits) -0.0008110551146002304 -0.00309563020839783\n"
     ]
    }
   ],
   "source": [
    "compoundHash = {}\n",
    "for c in includedComps:\n",
    "    coef = c.coefficient\n",
    "    clazz = c.component_class\n",
    "    z_coef = 0\n",
    "    if c.coefficient_type == 'MOLFRACTION':\n",
    "        z_coef = coef * classMol[clazz] * 1000;\n",
    "    elif c.coefficient_type == 'MOLSPLIT':\n",
    "        z_coef = coef * classMol[clazz] * classMolSplitFraction[clazz] * 1000 / classMolSplitCount[clazz]\n",
    "        error = z_coef - bio1[c.compound.id + '0']\n",
    "        #print(c.compound.id, c.compound.name, c.component_class,  z_coef, bio1[c.compound.id + '0'])\n",
    "    elif c.coefficient_type == 'MULTIPLIER':\n",
    "        z_coef = coef * classHash[clazz]\n",
    "    elif c.coefficient_type == 'EXACT':\n",
    "        z_coef = coef\n",
    "    if c.compound.id not in compoundHash:\n",
    "        compoundHash[c.compound.id] = 0\n",
    "    compoundHash[c.compound.id] += z_coef\n",
    "for k in compoundHash:\n",
    "    print(k, template.compcompounds.get_by_id(k).name, compoundHash[k], bio1[k + '0'])"
   ]
  },
  {
   "cell_type": "code",
   "execution_count": 65,
   "id": "27690358-7bc3-471f-9051-8ebe3b6c367f",
   "metadata": {},
   "outputs": [
    {
     "name": "stdout",
     "output_type": "stream",
     "text": [
      "rna 0.0655\n",
      "dna 0.026\n",
      "protein 0.5284\n",
      "energy 41.257\n",
      "other 0\n",
      "cofactor 0.1\n",
      "lipid 0.075\n",
      "cellwall 0.25\n"
     ]
    },
    {
     "data": {
      "text/plain": [
       "42.3019"
      ]
     },
     "execution_count": 65,
     "metadata": {},
     "output_type": "execute_result"
    }
   ],
   "source": [
    "total = 0\n",
    "for t in biomass_components:\n",
    "    total += biomass_components[t]['coefficient']\n",
    "    print(t, biomass_components[t]['coefficient'])\n",
    "total"
   ]
  },
  {
   "cell_type": "code",
   "execution_count": 89,
   "id": "0214077f-fccf-41fa-8e89-f91626d83dbb",
   "metadata": {},
   "outputs": [
    {
     "name": "stdout",
     "output_type": "stream",
     "text": [
      "cpd15748_c -1 MOLSPLIT cellwall 0.25\n",
      "-0.00309563020839783\n",
      "cpd15757_c -1 MOLSPLIT cellwall 0.25\n",
      "-0.00309563020839783\n",
      "cpd15766_c -1 MOLSPLIT cellwall 0.25\n",
      "-0.00309563020839783\n",
      "cpd15775_c -1 MOLSPLIT cellwall 0.25\n",
      "-0.00309563020839783\n",
      "cpd15667_c -1 MOLSPLIT cellwall 0.25\n",
      "-0.00309563020839783\n",
      "cpd15668_c -1 MOLSPLIT cellwall 0.25\n",
      "-0.00309563020839783\n",
      "cpd15669_c -1 MOLSPLIT cellwall 0.25\n",
      "-0.00309563020839783\n",
      "cpd11459_c -1 MOLSPLIT cellwall 0.25\n",
      "-0.00309563020839783\n",
      "cpd02229_c -1 MOLSPLIT cellwall 0.25\n",
      "-0.00309563020839783\n",
      "cpd15665_c -1 MOLSPLIT cellwall 0.25\n",
      "-0.00309563020839783\n"
     ]
    }
   ],
   "source": [
    "for c in biomass_components['cellwall']['components']:\n",
    "    print(c.compound.id, c.coefficient, c.coefficient_type, c.component_class, biomass_components['cellwall']['coefficient'])\n",
    "    print(bio1[f'{c.compound.id}0'])"
   ]
  },
  {
   "cell_type": "code",
   "execution_count": 66,
   "id": "68cfd2ac-1fdb-4e17-ac45-0357c3a236a0",
   "metadata": {},
   "outputs": [],
   "source": [
    "c = biomass_components['cellwall']['components'][0]"
   ]
  },
  {
   "cell_type": "code",
   "execution_count": 84,
   "id": "5cafd1e1-7c1b-49af-a880-c8cffe0633b9",
   "metadata": {},
   "outputs": [
    {
     "name": "stdout",
     "output_type": "stream",
     "text": [
      "-1 MOLSPLIT cellwall 0.25\n"
     ]
    }
   ],
   "source": [
    "print(c.coefficient, c.coefficient_type, c.component_class, biomass_components['cellwall']['coefficient'])"
   ]
  },
  {
   "cell_type": "code",
   "execution_count": 67,
   "id": "c69839d3-4396-4d21-a485-c5594e9f68b3",
   "metadata": {},
   "outputs": [
    {
     "data": {
      "text/html": [
       "\n",
       "        <table>\n",
       "            <tr>\n",
       "                <td><strong>Metabolite identifier</strong></td><td>cpd15748_c</td>\n",
       "            </tr><tr>\n",
       "                <td><strong>Name</strong></td><td>Stearoyllipoteichoic acid (n=24), linked,...</td>\n",
       "            </tr><tr>\n",
       "                <td><strong>Memory address</strong></td>\n",
       "                <td>0x07f09dabb6b80</td>\n",
       "            </tr><tr>\n",
       "                <td><strong>Formula</strong></td><td>C123H240O135P24</td>\n",
       "            </tr><tr>\n",
       "                <td><strong>Compartment</strong></td><td>c</td>\n",
       "            </tr><tr>\n",
       "                <td><strong>In 5 reaction(s)</strong></td><td>\n",
       "                    rxn10318_c, rxn10300_c, rxn10309_c, rxn10200_c, rxn10291_c</td>\n",
       "            </tr>\n",
       "        </table>"
      ],
      "text/plain": [
       "<NewModelTemplateCompCompound cpd15748_c at 0x7f09dabb6b80>"
      ]
     },
     "execution_count": 67,
     "metadata": {},
     "output_type": "execute_result"
    }
   ],
   "source": [
    "c.compound"
   ]
  },
  {
   "cell_type": "code",
   "execution_count": null,
   "id": "623342a6-1c96-4469-9fe2-f171f3988b2f",
   "metadata": {},
   "outputs": [],
   "source": []
  },
  {
   "cell_type": "code",
   "execution_count": 78,
   "id": "cf515c48-44b1-4ee4-9178-d6946b612d26",
   "metadata": {},
   "outputs": [
    {
     "data": {
      "text/plain": [
       "-0.00309563020839783"
      ]
     },
     "execution_count": 78,
     "metadata": {},
     "output_type": "execute_result"
    }
   ],
   "source": [
    "bio1[f'{c.compound.id}0']"
   ]
  },
  {
   "cell_type": "code",
   "execution_count": 75,
   "id": "a04c20e1-1852-4fce-bb43-f42fba7f4d8a",
   "metadata": {},
   "outputs": [],
   "source": [
    "bio1 = dict(map(lambda x: (x[0].id, x[1]), model.reactions.bio1.metabolites.items()))"
   ]
  },
  {
   "cell_type": "code",
   "execution_count": null,
   "id": "f4b836dc-56c2-4058-9220-c8d087fd17c0",
   "metadata": {},
   "outputs": [],
   "source": []
  },
  {
   "cell_type": "code",
   "execution_count": null,
   "id": "eb33022d-6ff6-4582-892d-4d884a5aa67e",
   "metadata": {},
   "outputs": [],
   "source": []
  }
 ],
 "metadata": {
  "kernelspec": {
   "display_name": "Python 3 (ipykernel)",
   "language": "python",
   "name": "python3"
  },
  "language_info": {
   "codemirror_mode": {
    "name": "ipython",
    "version": 3
   },
   "file_extension": ".py",
   "mimetype": "text/x-python",
   "name": "python",
   "nbconvert_exporter": "python",
   "pygments_lexer": "ipython3",
   "version": "3.8.10"
  }
 },
 "nbformat": 4,
 "nbformat_minor": 5
}
