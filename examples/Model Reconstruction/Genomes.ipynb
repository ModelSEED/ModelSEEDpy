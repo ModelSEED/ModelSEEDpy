{
 "cells": [
  {
   "cell_type": "markdown",
   "metadata": {
    "tags": []
   },
   "source": [
    "### Genomes\n",
    "\n",
    "ModelSEEDpy provides its own genome object type `modelseedpy.core.msgenome.MSGenome` to manipulate genomes"
   ]
  },
  {
   "cell_type": "code",
   "execution_count": 1,
   "metadata": {},
   "outputs": [],
   "source": [
    "import modelseedpy\n",
    "from modelseedpy.core.msgenome import MSGenome"
   ]
  },
  {
   "cell_type": "markdown",
   "metadata": {
    "jp-MarkdownHeadingCollapsed": true,
    "tags": []
   },
   "source": [
    "#### Reading faa file\n",
    "\n",
    "To load a genome we can read a `.faa` file that contains protein sequences"
   ]
  },
  {
   "cell_type": "code",
   "execution_count": 2,
   "metadata": {},
   "outputs": [],
   "source": [
    "genome = MSGenome.from_fasta('GCF_000005845.2_ASM584v2_protein.faa', split=' ')"
   ]
  },
  {
   "cell_type": "code",
   "execution_count": 3,
   "metadata": {},
   "outputs": [
    {
     "data": {
      "text/plain": [
       "<modelseedpy.core.msgenome.MSGenome at 0x7f48a414d100>"
      ]
     },
     "execution_count": 3,
     "metadata": {},
     "output_type": "execute_result"
    }
   ],
   "source": [
    "genome"
   ]
  },
  {
   "cell_type": "markdown",
   "metadata": {
    "jp-MarkdownHeadingCollapsed": true,
    "tags": []
   },
   "source": [
    "#### Manipulating genes\n",
    "\n",
    "Each gene is stored as a `modelseedpy.core.msgenome.MSFeature` in the `.features` of type `cobra.core.dictlist.DictList` similiar to the cobrapy `.reactions` and `.metabolites` in the `cobra.core.Model`"
   ]
  },
  {
   "cell_type": "code",
   "execution_count": 4,
   "metadata": {},
   "outputs": [
    {
     "data": {
      "text/plain": [
       "4285"
      ]
     },
     "execution_count": 4,
     "metadata": {},
     "output_type": "execute_result"
    }
   ],
   "source": [
    "len(genome.features)"
   ]
  },
  {
   "cell_type": "code",
   "execution_count": 5,
   "metadata": {},
   "outputs": [
    {
     "data": {
      "text/plain": [
       "<modelseedpy.core.msgenome.MSFeature at 0x7f48f02c80d0>"
      ]
     },
     "execution_count": 5,
     "metadata": {},
     "output_type": "execute_result"
    }
   ],
   "source": [
    "gene = genome.features.get_by_id('NP_414542.1')\n",
    "gene"
   ]
  },
  {
   "cell_type": "code",
   "execution_count": 6,
   "metadata": {},
   "outputs": [
    {
     "data": {
      "text/plain": [
       "modelseedpy.core.msgenome.MSFeature"
      ]
     },
     "execution_count": 6,
     "metadata": {},
     "output_type": "execute_result"
    }
   ],
   "source": [
    "type(gene)"
   ]
  },
  {
   "cell_type": "markdown",
   "metadata": {},
   "source": [
    "##### Gene annotation\n",
    "Annotation is store as an **ontology term**. When loading from a `.faa` file no ontology term is present but we can add them later."
   ]
  },
  {
   "cell_type": "code",
   "execution_count": 7,
   "metadata": {},
   "outputs": [
    {
     "data": {
      "text/plain": [
       "{}"
      ]
     },
     "execution_count": 7,
     "metadata": {},
     "output_type": "execute_result"
    }
   ],
   "source": [
    "gene.ontology_terms"
   ]
  },
  {
   "cell_type": "code",
   "execution_count": 8,
   "metadata": {},
   "outputs": [
    {
     "data": {
      "text/plain": [
       "'thr operon leader peptide [Escherichia coli str. K-12 substr. MG1655]'"
      ]
     },
     "execution_count": 8,
     "metadata": {},
     "output_type": "execute_result"
    }
   ],
   "source": [
    "gene.description"
   ]
  },
  {
   "cell_type": "code",
   "execution_count": 9,
   "metadata": {},
   "outputs": [
    {
     "data": {
      "text/plain": [
       "{'annotation': ['thr operon leader peptide [Escherichia coli str. K-12 substr. MG1655]']}"
      ]
     },
     "execution_count": 9,
     "metadata": {},
     "output_type": "execute_result"
    }
   ],
   "source": [
    "gene.add_ontology_term('annotation', gene.description)\n",
    "gene.ontology_terms"
   ]
  },
  {
   "cell_type": "markdown",
   "metadata": {
    "jp-MarkdownHeadingCollapsed": true,
    "tags": []
   },
   "source": [
    "#### RAST\n",
    "It is possible to annotate genomes with RAST by calling the `RastClient`"
   ]
  },
  {
   "cell_type": "code",
   "execution_count": 10,
   "metadata": {},
   "outputs": [],
   "source": [
    "from modelseedpy.core.rast_client import RastClient\n",
    "rast = RastClient()"
   ]
  },
  {
   "cell_type": "code",
   "execution_count": 11,
   "metadata": {},
   "outputs": [
    {
     "data": {
      "text/plain": [
       "[{'id': 'C54F08A4-CDB3-11ED-A7E9-CAF09D6086F0',\n",
       "  'parameters': ['-a',\n",
       "   '-g',\n",
       "   200,\n",
       "   '-m',\n",
       "   5,\n",
       "   '-d',\n",
       "   '/opt/patric-common/data/kmer_metadata_v2',\n",
       "   '-u',\n",
       "   'http://pear.mcs.anl.gov:6100/query'],\n",
       "  'hostname': 'pear',\n",
       "  'tool_name': 'kmer_search',\n",
       "  'execution_time': 1680040751.14837},\n",
       " {'id': 'C5638324-CDB3-11ED-A7E9-CAF09D6086F0',\n",
       "  'parameters': ['annotate_hypothetical_only=1',\n",
       "   'dataset_name=Release70',\n",
       "   'kmer_size=8'],\n",
       "  'tool_name': 'KmerAnnotationByFigfam',\n",
       "  'hostname': 'pear',\n",
       "  'execution_time': 1680040751.28257},\n",
       " {'parameters': [],\n",
       "  'id': 'C5944E1E-CDB3-11ED-8217-51F29F6086F0',\n",
       "  'execute_time': 1680040751.60236,\n",
       "  'tool_name': 'annotate_proteins_similarity',\n",
       "  'hostname': 'pear'}]"
      ]
     },
     "execution_count": 11,
     "metadata": {},
     "output_type": "execute_result"
    }
   ],
   "source": [
    "rast.annotate_genome(genome)"
   ]
  },
  {
   "cell_type": "markdown",
   "metadata": {},
   "source": [
    "RAST annotation is stored in the ontology term **RAST** and this is used as default to build metabolic models with the ModelSEED templates"
   ]
  },
  {
   "cell_type": "code",
   "execution_count": 12,
   "metadata": {},
   "outputs": [
    {
     "data": {
      "text/plain": [
       "{'annotation': ['thr operon leader peptide [Escherichia coli str. K-12 substr. MG1655]'],\n",
       " 'RAST': ['Thr operon leader peptide']}"
      ]
     },
     "execution_count": 12,
     "metadata": {},
     "output_type": "execute_result"
    }
   ],
   "source": [
    "gene.ontology_terms"
   ]
  },
  {
   "cell_type": "code",
   "execution_count": null,
   "metadata": {},
   "outputs": [],
   "source": []
  }
 ],
 "metadata": {
  "kernelspec": {
   "display_name": "Python 3 (ipykernel)",
   "language": "python",
   "name": "python3"
  },
  "language_info": {
   "codemirror_mode": {
    "name": "ipython",
    "version": 3
   },
   "file_extension": ".py",
   "mimetype": "text/x-python",
   "name": "python",
   "nbconvert_exporter": "python",
   "pygments_lexer": "ipython3",
   "version": "3.8.10"
  }
 },
 "nbformat": 4,
 "nbformat_minor": 4
}
